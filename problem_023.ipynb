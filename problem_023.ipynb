{
 "cells": [
  {
   "cell_type": "markdown",
   "id": "c6e2ad94-1596-4b05-a508-e71eeba93df9",
   "metadata": {},
   "source": [
    "## Problem 23\n",
    "https://projecteuler.net/problem=23"
   ]
  },
  {
   "cell_type": "code",
   "execution_count": 1,
   "id": "41525d10",
   "metadata": {},
   "outputs": [],
   "source": [
    "n = 28123"
   ]
  },
  {
   "cell_type": "code",
   "execution_count": 2,
   "id": "cf1a7e34",
   "metadata": {},
   "outputs": [],
   "source": [
    "# Factors\n",
    "def f(n):\n",
    "    f = []\n",
    "    for i in range(1, n):\n",
    "        if n%i == 0:\n",
    "            f.append(i)\n",
    "    return sum(f)"
   ]
  },
  {
   "cell_type": "code",
   "execution_count": 3,
   "id": "ebc1f6a9",
   "metadata": {},
   "outputs": [],
   "source": [
    "# Abundant\n",
    "def abundant(n):\n",
    "    abundants = []\n",
    "    for i in range(1, n+1):\n",
    "        if f(i) > i:\n",
    "            abundants.append(i)\n",
    "    return abundants"
   ]
  },
  {
   "cell_type": "code",
   "execution_count": 4,
   "id": "53c0c3eb",
   "metadata": {},
   "outputs": [],
   "source": [
    "# Abundant list\n",
    "abundants = abundant(n)"
   ]
  },
  {
   "cell_type": "code",
   "execution_count": 5,
   "id": "dbdd0b3c",
   "metadata": {},
   "outputs": [],
   "source": [
    "# Combinations\n",
    "combinations = []\n",
    "for i in abundants:\n",
    "    for j in abundants:\n",
    "        combinations.append((i, j, i+j))"
   ]
  },
  {
   "cell_type": "code",
   "execution_count": 6,
   "id": "b8023ad4",
   "metadata": {},
   "outputs": [
    {
     "data": {
      "text/plain": [
       "4179871"
      ]
     },
     "execution_count": 6,
     "metadata": {},
     "output_type": "execute_result"
    }
   ],
   "source": [
    "# Answer\n",
    "answer = 0\n",
    "s = set([x[-1] for x in combinations])\n",
    "for i in range (n+1):\n",
    "    if i not in s:\n",
    "        answer += i\n",
    "answer"
   ]
  }
 ],
 "metadata": {
  "kernelspec": {
   "display_name": "Python 3 (ipykernel)",
   "language": "python",
   "name": "python3"
  },
  "language_info": {
   "codemirror_mode": {
    "name": "ipython",
    "version": 3
   },
   "file_extension": ".py",
   "mimetype": "text/x-python",
   "name": "python",
   "nbconvert_exporter": "python",
   "pygments_lexer": "ipython3",
   "version": "3.11.9"
  }
 },
 "nbformat": 4,
 "nbformat_minor": 5
}
