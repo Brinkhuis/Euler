{
 "cells": [
  {
   "cell_type": "markdown",
   "id": "c6e2ad94-1596-4b05-a508-e71eeba93df9",
   "metadata": {},
   "source": [
    "## Problem 14\n",
    "https://projecteuler.net/problem=14"
   ]
  },
  {
   "cell_type": "code",
   "execution_count": 1,
   "id": "d49e09bd",
   "metadata": {},
   "outputs": [],
   "source": [
    "# Sequence functions\n",
    "def even(n): return int(n/2)\n",
    "def odd(n): return 3*n + 1"
   ]
  },
  {
   "cell_type": "code",
   "execution_count": 2,
   "id": "d16547ce",
   "metadata": {},
   "outputs": [],
   "source": [
    "# Collatz Sequence\n",
    "def collatz(n):\n",
    "    sequence = []\n",
    "    while n != 1:\n",
    "        sequence.append(n)\n",
    "        if n%2 == 0:\n",
    "            n = even(n)\n",
    "        else:\n",
    "            n = odd(n)\n",
    "    sequence.append(1)\n",
    "    return sequence"
   ]
  },
  {
   "cell_type": "code",
   "execution_count": 3,
   "id": "8ae2547d",
   "metadata": {},
   "outputs": [
    {
     "data": {
      "text/plain": [
       "[13, 40, 20, 10, 5, 16, 8, 4, 2, 1]"
      ]
     },
     "execution_count": 3,
     "metadata": {},
     "output_type": "execute_result"
    }
   ],
   "source": [
    "# Test run\n",
    "collatz(13)"
   ]
  },
  {
   "cell_type": "code",
   "execution_count": 4,
   "id": "33355599",
   "metadata": {},
   "outputs": [
    {
     "data": {
      "text/plain": [
       "837799"
      ]
     },
     "execution_count": 4,
     "metadata": {},
     "output_type": "execute_result"
    }
   ],
   "source": [
    "# Answer\n",
    "sequences = {}\n",
    "for n in range(1, 1_000_000):\n",
    "    sequences[len(collatz(n))] = n\n",
    "\n",
    "sequences[max(sequences.keys())]"
   ]
  }
 ],
 "metadata": {
  "kernelspec": {
   "display_name": "Python 3 (ipykernel)",
   "language": "python",
   "name": "python3"
  },
  "language_info": {
   "codemirror_mode": {
    "name": "ipython",
    "version": 3
   },
   "file_extension": ".py",
   "mimetype": "text/x-python",
   "name": "python",
   "nbconvert_exporter": "python",
   "pygments_lexer": "ipython3",
   "version": "3.11.9"
  }
 },
 "nbformat": 4,
 "nbformat_minor": 5
}
