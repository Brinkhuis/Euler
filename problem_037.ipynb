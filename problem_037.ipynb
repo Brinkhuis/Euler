{
 "cells": [
  {
   "cell_type": "markdown",
   "id": "c6e2ad94-1596-4b05-a508-e71eeba93df9",
   "metadata": {},
   "source": [
    "## Problem 37\n",
    "https://projecteuler.net/problem=37"
   ]
  },
  {
   "cell_type": "code",
   "execution_count": 1,
   "id": "9121639c",
   "metadata": {},
   "outputs": [],
   "source": [
    "# Setup\n",
    "n = 11"
   ]
  },
  {
   "cell_type": "code",
   "execution_count": 2,
   "id": "60a68c40",
   "metadata": {},
   "outputs": [],
   "source": [
    "# Is prime?\n",
    "def isprime(n):\n",
    "    if n <= 1:\n",
    "        return False\n",
    "    else:\n",
    "        for i in range(2, (n//2)+1):\n",
    "            if n%i == 0:\n",
    "                return False\n",
    "        return True\n",
    "            "
   ]
  },
  {
   "cell_type": "code",
   "execution_count": 3,
   "id": "6be8ac76",
   "metadata": {},
   "outputs": [],
   "source": [
    "# Prime generator\n",
    "def eratosthenes():\n",
    "\t'''Yields the sequence of prime numbers via the Sieve of Eratosthenes.'''\n",
    "\tD = {}  # map composite integers to primes witnessing their compositeness\n",
    "\tq = 2   # first integer to test for primality\n",
    "\twhile 1:\n",
    "\t\tif q not in D:\n",
    "\t\t\tyield q        # not marked composite, must be prime\n",
    "\t\t\tD[q*q] = [q]   # first multiple of q not already marked\n",
    "\t\telse:\n",
    "\t\t\tfor p in D[q]: # move each witness to its next multiple\n",
    "\t\t\t\tD.setdefault(p+q,[]).append(p)\n",
    "\t\t\tdel D[q]       # no longer need D[q], free memory\n",
    "\t\tq += 1"
   ]
  },
  {
   "cell_type": "code",
   "execution_count": 4,
   "id": "781a8458",
   "metadata": {},
   "outputs": [],
   "source": [
    "# Prime\n",
    "prime = eratosthenes()"
   ]
  },
  {
   "cell_type": "code",
   "execution_count": 5,
   "id": "a9bae2bf",
   "metadata": {},
   "outputs": [
    {
     "data": {
      "text/plain": [
       "748317"
      ]
     },
     "execution_count": 5,
     "metadata": {},
     "output_type": "execute_result"
    }
   ],
   "source": [
    "# Answer\n",
    "counter = 0\n",
    "primes = []\n",
    "while counter < n:\n",
    "    p = next(prime)\n",
    "    s = str(p)\n",
    "    if all([isprime(y) for y in set([int(s[:x]) for x in range(1, len(s)+1)] + [int(s[x:]) for x in range(len(s))])]) and p > 7:\n",
    "        primes.append(p)\n",
    "        counter += 1\n",
    "sum(primes)\n"
   ]
  }
 ],
 "metadata": {
  "kernelspec": {
   "display_name": "datascience",
   "language": "python",
   "name": "python3"
  },
  "language_info": {
   "codemirror_mode": {
    "name": "ipython",
    "version": 3
   },
   "file_extension": ".py",
   "mimetype": "text/x-python",
   "name": "python",
   "nbconvert_exporter": "python",
   "pygments_lexer": "ipython3",
   "version": "3.11.9"
  }
 },
 "nbformat": 4,
 "nbformat_minor": 5
}
