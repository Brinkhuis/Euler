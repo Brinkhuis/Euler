{
 "cells": [
  {
   "cell_type": "markdown",
   "id": "c6e2ad94-1596-4b05-a508-e71eeba93df9",
   "metadata": {},
   "source": [
    "## Problem 32 (in Julia)\n",
    "https://projecteuler.net/problem=32"
   ]
  },
  {
   "cell_type": "code",
   "execution_count": 42,
   "id": "83456549",
   "metadata": {},
   "outputs": [],
   "source": [
    "using Primes"
   ]
  },
  {
   "cell_type": "code",
   "execution_count": 43,
   "id": "401c6cef",
   "metadata": {},
   "outputs": [
    {
     "data": {
      "text/plain": [
       "9999"
      ]
     },
     "metadata": {},
     "output_type": "display_data"
    }
   ],
   "source": [
    "n = 9999"
   ]
  },
  {
   "cell_type": "code",
   "execution_count": 44,
   "id": "ca7436a3",
   "metadata": {},
   "outputs": [],
   "source": [
    "p = [x for x in 1:n if isprime(x)];"
   ]
  },
  {
   "cell_type": "code",
   "execution_count": 45,
   "id": "dc0232d6",
   "metadata": {},
   "outputs": [
    {
     "ename": "InterruptException",
     "evalue": "InterruptException:",
     "output_type": "error",
     "traceback": [
      "InterruptException:\n",
      "\n",
      "Stacktrace:\n",
      " [1] top-level scope\n",
      "   @ ~/Documents/Projects/Github/Euler/jl_notebook_cell_df34fa98e69747e1a8f8a730347b8e2f_X24sZmlsZQ==.jl:6"
     ]
    }
   ],
   "source": [
    "l = []\n",
    "for i in 1000:9999\n",
    "    for x in p \n",
    "        for y in p\n",
    "            for z in p\n",
    "                t = i/(x*y)\n",
    "                if isinteger(t) \n",
    "                    if isprime(Int32(t))\n",
    "                        if i ∉ l\n",
    "                            push!(l, i)\n",
    "                        end\n",
    "                    else\n",
    "                        if isinteger(sqrt(t))\n",
    "                            if isprime(Int32(sqrt(t)))\n",
    "                                if i ∉ l\n",
    "                                    push!(l, i)\n",
    "                                end\n",
    "                            end\n",
    "                        end\n",
    "                    end\n",
    "                end\n",
    "            end\n",
    "        end\n",
    "    end\n",
    "end\n",
    "l"
   ]
  },
  {
   "cell_type": "code",
   "execution_count": 46,
   "id": "2a3cf54f",
   "metadata": {},
   "outputs": [
    {
     "name": "stdout",
     "output_type": "stream",
     "text": [
      "1014\n",
      "1083\n",
      "1105\n"
     ]
    }
   ],
   "source": [
    "len = length(l)\n",
    "for i in 1:len-4\n",
    "    if l[i+3] - l[i] == 3\n",
    "        println(l[i])\n",
    "    end\n",
    "end"
   ]
  },
  {
   "cell_type": "code",
   "execution_count": null,
   "id": "79c38815",
   "metadata": {},
   "outputs": [],
   "source": []
  },
  {
   "cell_type": "code",
   "execution_count": null,
   "id": "ffc0b8e1",
   "metadata": {},
   "outputs": [],
   "source": []
  },
  {
   "cell_type": "code",
   "execution_count": null,
   "id": "6e5daa77",
   "metadata": {},
   "outputs": [],
   "source": []
  },
  {
   "cell_type": "code",
   "execution_count": null,
   "id": "e2a65b7d",
   "metadata": {},
   "outputs": [],
   "source": []
  },
  {
   "cell_type": "code",
   "execution_count": null,
   "id": "94da5829",
   "metadata": {},
   "outputs": [],
   "source": []
  },
  {
   "cell_type": "code",
   "execution_count": 41,
   "id": "f3721bf3",
   "metadata": {},
   "outputs": [
    {
     "name": "stdout",
     "output_type": "stream",
     "text": [
      "10\n"
     ]
    }
   ],
   "source": [
    "ll = [1,2,3,10,11,12,13,20,21]\n",
    "len = length(ll)\n",
    "for i in 1:len-4\n",
    "    if ll[i+3] - ll[i] == 3\n",
    "        println(ll[i])\n",
    "    end\n",
    "end"
   ]
  },
  {
   "cell_type": "code",
   "execution_count": null,
   "id": "7cee8dc1",
   "metadata": {},
   "outputs": [],
   "source": []
  },
  {
   "cell_type": "code",
   "execution_count": null,
   "id": "08a162e2",
   "metadata": {},
   "outputs": [],
   "source": []
  },
  {
   "cell_type": "code",
   "execution_count": null,
   "id": "98d6b88d",
   "metadata": {},
   "outputs": [],
   "source": []
  },
  {
   "cell_type": "code",
   "execution_count": 34,
   "id": "0e03763b",
   "metadata": {},
   "outputs": [
    {
     "ename": "InterruptException",
     "evalue": "InterruptException:",
     "output_type": "error",
     "traceback": [
      "InterruptException:\n",
      "\n",
      "Stacktrace:\n",
      " [1] top-level scope\n",
      "   @ ~/Documents/Projects/Github/Euler/jl_notebook_cell_df34fa98e69747e1a8f8a730347b8e2f_X25sZmlsZQ==.jl:5"
     ]
    }
   ],
   "source": [
    "l = []\n",
    "for i in 1000:9999\n",
    "    for x in p \n",
    "        for y in p\n",
    "            t = i/(x*y)\n",
    "            if isinteger(t) \n",
    "                if isprime(Int32(t))\n",
    "                    if i ∉ l\n",
    "                        push!(l, i)\n",
    "                    end\n",
    "                else\n",
    "                    if isinteger(sqrt(t))\n",
    "                        if isprime(Int32(sqrt(t)))\n",
    "                            if i ∉ l\n",
    "                                push!(l, i)\n",
    "                            end\n",
    "                        end\n",
    "                    end\n",
    "                end\n",
    "            end\n",
    "        end\n",
    "    end\n",
    "end\n",
    "l"
   ]
  }
 ],
 "metadata": {
  "kernelspec": {
   "display_name": "Julia 1.10.5",
   "language": "julia",
   "name": "julia-1.10"
  },
  "language_info": {
   "file_extension": ".jl",
   "mimetype": "application/julia",
   "name": "julia",
   "version": "1.10.5"
  }
 },
 "nbformat": 4,
 "nbformat_minor": 5
}
