{
 "cells": [
  {
   "cell_type": "markdown",
   "id": "c6e2ad94-1596-4b05-a508-e71eeba93df9",
   "metadata": {},
   "source": [
    "## Problem 19\n",
    "https://projecteuler.net/problem=19"
   ]
  },
  {
   "cell_type": "code",
   "execution_count": 1,
   "id": "cb6ec1ea",
   "metadata": {},
   "outputs": [],
   "source": [
    "# Leap year\n",
    "def leapyear(year):\n",
    "    return (year % 4 == 0) and ((year % 100 != 0) or (year % 400 == 0))"
   ]
  },
  {
   "cell_type": "code",
   "execution_count": 2,
   "id": "6964b811",
   "metadata": {},
   "outputs": [],
   "source": [
    "# Lists\n",
    "thirty = [4, 6, 9, 11]\n",
    "days = ['mon', 'tue', 'wed', 'thu', 'fri', 'sat', 'sun']"
   ]
  },
  {
   "cell_type": "code",
   "execution_count": 3,
   "id": "b0350c13",
   "metadata": {},
   "outputs": [],
   "source": [
    "# Day generator\n",
    "def day():\n",
    "    days = ['mon', 'tue', 'wed', 'thu', 'fri', 'sat', 'sun']\n",
    "    index = 0\n",
    "    while True:\n",
    "        d = days[index]\n",
    "        index += 1\n",
    "        if index > 6:\n",
    "            index = 0\n",
    "        yield d"
   ]
  },
  {
   "cell_type": "code",
   "execution_count": 4,
   "id": "39b272d7",
   "metadata": {},
   "outputs": [],
   "source": [
    "# Create list of dates\n",
    "year_begin = 1900\n",
    "year_end = 2000\n",
    "\n",
    "dates = []\n",
    "dd = day()\n",
    "thirty = [4, 6, 9, 11]\n",
    "\n",
    "for year in range(year_begin, year_end + 1):\n",
    "    leap = leapyear(year)\n",
    "    for month in range(1, 12 + 1):\n",
    "\n",
    "        if month == 2:\n",
    "            if leap:\n",
    "                days = 29\n",
    "            else:\n",
    "                days = 28\n",
    "        elif month in thirty:\n",
    "            days = 30\n",
    "        else:\n",
    "            days = 31\n",
    "        \n",
    "        for day in range(1, days + 1):\n",
    "            dates.append([year, month, day, next(dd)])"
   ]
  },
  {
   "cell_type": "code",
   "execution_count": 5,
   "id": "c50a3b56",
   "metadata": {},
   "outputs": [
    {
     "data": {
      "text/plain": [
       "171"
      ]
     },
     "execution_count": 5,
     "metadata": {},
     "output_type": "execute_result"
    }
   ],
   "source": [
    "# Answer\n",
    "sum([1 for d in dates if d[0] != 1900 and d[2] == 1 and d[3] == 'sun'])"
   ]
  }
 ],
 "metadata": {
  "kernelspec": {
   "display_name": "Python 3 (ipykernel)",
   "language": "python",
   "name": "python3"
  },
  "language_info": {
   "codemirror_mode": {
    "name": "ipython",
    "version": 3
   },
   "file_extension": ".py",
   "mimetype": "text/x-python",
   "name": "python",
   "nbconvert_exporter": "python",
   "pygments_lexer": "ipython3",
   "version": "3.11.9"
  }
 },
 "nbformat": 4,
 "nbformat_minor": 5
}
