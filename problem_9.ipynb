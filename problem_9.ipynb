{
 "cells": [
  {
   "cell_type": "markdown",
   "id": "c6e2ad94-1596-4b05-a508-e71eeba93df9",
   "metadata": {},
   "source": [
    "## Problem 9\n",
    "https://projecteuler.net/problem=9"
   ]
  },
  {
   "cell_type": "code",
   "execution_count": 1,
   "id": "e9820fc9",
   "metadata": {},
   "outputs": [],
   "source": [
    "# Triplet product\n",
    "def triplet_product(n):\n",
    "    for a in range(n):\n",
    "        for b in range(n):\n",
    "            for c in range(n):\n",
    "                if (a < b < c) and (a**2 + b**2 == c**2) and (a + b + c == 1000):\n",
    "                    return a * b * c\n"
   ]
  },
  {
   "cell_type": "code",
   "execution_count": 2,
   "id": "93323ee3",
   "metadata": {},
   "outputs": [
    {
     "data": {
      "text/plain": [
       "31875000"
      ]
     },
     "execution_count": 2,
     "metadata": {},
     "output_type": "execute_result"
    }
   ],
   "source": [
    "# Answer\n",
    "triplet_product(1000)"
   ]
  }
 ],
 "metadata": {
  "kernelspec": {
   "display_name": "Python 3 (ipykernel)",
   "language": "python",
   "name": "python3"
  },
  "language_info": {
   "codemirror_mode": {
    "name": "ipython",
    "version": 3
   },
   "file_extension": ".py",
   "mimetype": "text/x-python",
   "name": "python",
   "nbconvert_exporter": "python",
   "pygments_lexer": "ipython3",
   "version": "3.11.9"
  }
 },
 "nbformat": 4,
 "nbformat_minor": 5
}
