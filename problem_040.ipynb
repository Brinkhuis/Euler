{
 "cells": [
  {
   "cell_type": "markdown",
   "id": "c6e2ad94-1596-4b05-a508-e71eeba93df9",
   "metadata": {},
   "source": [
    "## Problem 40\n",
    "https://projecteuler.net/problem=40"
   ]
  },
  {
   "cell_type": "code",
   "execution_count": 1,
   "id": "9121639c",
   "metadata": {},
   "outputs": [],
   "source": [
    "# Setup\n",
    "length = 10**6 # 1_000_000"
   ]
  },
  {
   "cell_type": "code",
   "execution_count": 2,
   "id": "da454cd4",
   "metadata": {},
   "outputs": [],
   "source": [
    "# Generate number\n",
    "number = ''\n",
    "counter = 0\n",
    "while len(number) < length:\n",
    "    counter += 1\n",
    "    number += str(counter)"
   ]
  },
  {
   "cell_type": "code",
   "execution_count": 3,
   "id": "e1f3544a",
   "metadata": {},
   "outputs": [
    {
     "data": {
      "text/plain": [
       "210"
      ]
     },
     "execution_count": 3,
     "metadata": {},
     "output_type": "execute_result"
    }
   ],
   "source": [
    "# Answer\n",
    "product = 1\n",
    "for i in [10**x for x in range(7)]:\n",
    "    product *= int(number[i-1])\n",
    "product"
   ]
  }
 ],
 "metadata": {
  "kernelspec": {
   "display_name": "datascience",
   "language": "python",
   "name": "python3"
  },
  "language_info": {
   "codemirror_mode": {
    "name": "ipython",
    "version": 3
   },
   "file_extension": ".py",
   "mimetype": "text/x-python",
   "name": "python",
   "nbconvert_exporter": "python",
   "pygments_lexer": "ipython3",
   "version": "3.11.9"
  }
 },
 "nbformat": 4,
 "nbformat_minor": 5
}
