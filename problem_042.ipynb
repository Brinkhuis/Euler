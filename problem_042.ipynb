{
 "cells": [
  {
   "cell_type": "markdown",
   "id": "c6e2ad94-1596-4b05-a508-e71eeba93df9",
   "metadata": {},
   "source": [
    "## Problem 42\n",
    "https://projecteuler.net/problem=42"
   ]
  },
  {
   "cell_type": "code",
   "execution_count": 1,
   "id": "9121639c",
   "metadata": {},
   "outputs": [],
   "source": [
    "# Imports\n",
    "import pandas as pd\n",
    "import string"
   ]
  },
  {
   "cell_type": "code",
   "execution_count": 2,
   "id": "f99c616a",
   "metadata": {},
   "outputs": [],
   "source": [
    "# Read file\n",
    "words = list(pd.read_csv('data/0042_words.txt').T.index)"
   ]
  },
  {
   "cell_type": "code",
   "execution_count": 3,
   "id": "14ef3865",
   "metadata": {},
   "outputs": [],
   "source": [
    "# Dictionary\n",
    "alphabet = {key:value for (key, value) in zip(string.ascii_uppercase, range(1, len(string.ascii_uppercase)+1))}"
   ]
  },
  {
   "cell_type": "code",
   "execution_count": 4,
   "id": "2c92bf21",
   "metadata": {},
   "outputs": [],
   "source": [
    "# Triangle number\n",
    "def triangle(n):\n",
    "    return int(.5*n*(n+1))"
   ]
  },
  {
   "cell_type": "code",
   "execution_count": 5,
   "id": "c511cd1f",
   "metadata": {},
   "outputs": [],
   "source": [
    "# Triangle numbers\n",
    "def triangles(n):\n",
    "    triangle_list = [-1]\n",
    "    counter = 1\n",
    "    while max(triangle_list) < n  * alphabet['Z']:\n",
    "        triangle_list.append(triangle(counter))\n",
    "        counter += 1\n",
    "    return triangle_list[1:]"
   ]
  },
  {
   "cell_type": "code",
   "execution_count": 6,
   "id": "9cc15d53",
   "metadata": {},
   "outputs": [],
   "source": [
    "# Triangles\n",
    "triangle_list = triangles(max([len(w) for w in words]))"
   ]
  },
  {
   "cell_type": "code",
   "execution_count": 7,
   "id": "a40dfcef",
   "metadata": {},
   "outputs": [
    {
     "data": {
      "text/plain": [
       "162"
      ]
     },
     "execution_count": 7,
     "metadata": {},
     "output_type": "execute_result"
    }
   ],
   "source": [
    "# Answer\n",
    "counter = 0\n",
    "for word in words:\n",
    "    value = 0\n",
    "    for letter in word:\n",
    "        value += alphabet[letter]\n",
    "    if value in triangle_list:\n",
    "        counter += 1\n",
    "counter"
   ]
  }
 ],
 "metadata": {
  "kernelspec": {
   "display_name": "datascience",
   "language": "python",
   "name": "python3"
  },
  "language_info": {
   "codemirror_mode": {
    "name": "ipython",
    "version": 3
   },
   "file_extension": ".py",
   "mimetype": "text/x-python",
   "name": "python",
   "nbconvert_exporter": "python",
   "pygments_lexer": "ipython3",
   "version": "3.11.9"
  }
 },
 "nbformat": 4,
 "nbformat_minor": 5
}
