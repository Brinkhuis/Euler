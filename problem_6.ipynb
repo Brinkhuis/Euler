{
 "cells": [
  {
   "cell_type": "markdown",
   "id": "c6e2ad94-1596-4b05-a508-e71eeba93df9",
   "metadata": {},
   "source": [
    "## Problem 6\n",
    "https://projecteuler.net/problem=6"
   ]
  },
  {
   "cell_type": "code",
   "execution_count": 1,
   "id": "81c2912c",
   "metadata": {},
   "outputs": [],
   "source": [
    "# Sum Square Difference\n",
    "def sum_square_difference(n):\n",
    "    sum_of_square = sum([i**2 for i in range(1, n+1)])\n",
    "    square_of_sum = sum(range(1, n+1))**2\n",
    "    return square_of_sum - sum_of_square"
   ]
  },
  {
   "cell_type": "code",
   "execution_count": 2,
   "id": "9d585b52",
   "metadata": {},
   "outputs": [
    {
     "data": {
      "text/plain": [
       "2640"
      ]
     },
     "execution_count": 2,
     "metadata": {},
     "output_type": "execute_result"
    }
   ],
   "source": [
    "# Test run\n",
    "sum_square_difference(n=10)"
   ]
  },
  {
   "cell_type": "code",
   "execution_count": 3,
   "id": "7d2ebc28",
   "metadata": {},
   "outputs": [
    {
     "data": {
      "text/plain": [
       "25164150"
      ]
     },
     "execution_count": 3,
     "metadata": {},
     "output_type": "execute_result"
    }
   ],
   "source": [
    "# Answer\n",
    "sum_square_difference(n=100)"
   ]
  }
 ],
 "metadata": {
  "kernelspec": {
   "display_name": "Python 3 (ipykernel)",
   "language": "python",
   "name": "python3"
  },
  "language_info": {
   "codemirror_mode": {
    "name": "ipython",
    "version": 3
   },
   "file_extension": ".py",
   "mimetype": "text/x-python",
   "name": "python",
   "nbconvert_exporter": "python",
   "pygments_lexer": "ipython3",
   "version": "3.11.9"
  }
 },
 "nbformat": 4,
 "nbformat_minor": 5
}
