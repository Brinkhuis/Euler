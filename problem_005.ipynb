{
 "cells": [
  {
   "cell_type": "markdown",
   "id": "c6e2ad94-1596-4b05-a508-e71eeba93df9",
   "metadata": {},
   "source": [
    "## Problem 5\n",
    "https://projecteuler.net/problem=5"
   ]
  },
  {
   "cell_type": "code",
   "execution_count": 1,
   "id": "2e00996e",
   "metadata": {},
   "outputs": [],
   "source": [
    "# Packages\n",
    "using BenchmarkTools"
   ]
  },
  {
   "cell_type": "code",
   "execution_count": 2,
   "id": "55678f7f",
   "metadata": {},
   "outputs": [
    {
     "data": {
      "text/plain": [
       "smallest_multiple (generic function with 1 method)"
      ]
     },
     "metadata": {},
     "output_type": "display_data"
    }
   ],
   "source": [
    "# Brute Force Solution\n",
    "function smallest_multiple(n::Int64)::Int64\n",
    "    x = 1\n",
    "    while !all([x%i == 0 for i in 1:n])\n",
    "        x += 1\n",
    "    end\n",
    "    return x\n",
    "end"
   ]
  },
  {
   "cell_type": "code",
   "execution_count": 3,
   "id": "550f00d4",
   "metadata": {},
   "outputs": [
    {
     "data": {
      "text/plain": [
       "232792560"
      ]
     },
     "metadata": {},
     "output_type": "display_data"
    }
   ],
   "source": [
    "# Answer\n",
    "smallest_multiple(20)"
   ]
  },
  {
   "cell_type": "code",
   "execution_count": 4,
   "id": "65399e43",
   "metadata": {},
   "outputs": [
    {
     "data": {
      "text/plain": [
       "BenchmarkTools.Trial: 1 sample with 1 evaluation.\n",
       " Single result which took \u001b[34m173.998 s\u001b[39m (0.45% GC) to evaluate,\n",
       " with a memory estimate of \u001b[33m31.22 GiB\u001b[39m, over \u001b[33m931169730\u001b[39m allocations."
      ]
     },
     "metadata": {},
     "output_type": "display_data"
    }
   ],
   "source": [
    "# Benchmark\n",
    "@benchmark smallest_multiple(20) samples = 1 evals = 1"
   ]
  }
 ],
 "metadata": {
  "kernelspec": {
   "display_name": "Julia 1.10.5",
   "language": "julia",
   "name": "julia-1.10"
  },
  "language_info": {
   "file_extension": ".jl",
   "mimetype": "application/julia",
   "name": "julia",
   "version": "1.10.5"
  }
 },
 "nbformat": 4,
 "nbformat_minor": 5
}
