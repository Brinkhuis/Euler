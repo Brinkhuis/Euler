{
 "cells": [
  {
   "cell_type": "markdown",
   "id": "c6e2ad94-1596-4b05-a508-e71eeba93df9",
   "metadata": {},
   "source": [
    "## Problem 2\n",
    "https://projecteuler.net/problem=2"
   ]
  },
  {
   "cell_type": "code",
   "execution_count": 1,
   "id": "4f6b438b",
   "metadata": {},
   "outputs": [],
   "source": [
    "# Init\n",
    "n = 4_000_000 # four million\n",
    "fib = [1, 2]  # initial Fibonacci sequence"
   ]
  },
  {
   "cell_type": "code",
   "execution_count": 2,
   "id": "86eedacb-3def-49dd-8b09-07ad6f5af456",
   "metadata": {},
   "outputs": [],
   "source": [
    "# Build Fibonacci sequence\n",
    "while sum(fib[-2:]) < n:\n",
    "    fib.append(sum(fib[-2:]))"
   ]
  },
  {
   "cell_type": "code",
   "execution_count": 3,
   "id": "2d9ae0a6",
   "metadata": {},
   "outputs": [],
   "source": [
    "# Sum even numbers\n",
    "s = 0\n",
    "for i in fib:\n",
    "    if i%2 == 0:\n",
    "        s += i"
   ]
  },
  {
   "cell_type": "code",
   "execution_count": 4,
   "id": "7d2ebc28",
   "metadata": {},
   "outputs": [
    {
     "data": {
      "text/plain": [
       "4613732"
      ]
     },
     "execution_count": 4,
     "metadata": {},
     "output_type": "execute_result"
    }
   ],
   "source": [
    "# Answer\n",
    "s"
   ]
  }
 ],
 "metadata": {
  "kernelspec": {
   "display_name": "Python 3 (ipykernel)",
   "language": "python",
   "name": "python3"
  },
  "language_info": {
   "codemirror_mode": {
    "name": "ipython",
    "version": 3
   },
   "file_extension": ".py",
   "mimetype": "text/x-python",
   "name": "python",
   "nbconvert_exporter": "python",
   "pygments_lexer": "ipython3",
   "version": "3.11.9"
  }
 },
 "nbformat": 4,
 "nbformat_minor": 5
}
