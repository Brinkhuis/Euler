{
 "cells": [
  {
   "cell_type": "markdown",
   "id": "c6e2ad94-1596-4b05-a508-e71eeba93df9",
   "metadata": {},
   "source": [
    "## Problem 20\n",
    "https://projecteuler.net/problem=20"
   ]
  },
  {
   "cell_type": "code",
   "execution_count": 1,
   "id": "537ef396",
   "metadata": {},
   "outputs": [],
   "source": [
    "import euler"
   ]
  },
  {
   "cell_type": "code",
   "execution_count": 2,
   "id": "60fd50bf",
   "metadata": {},
   "outputs": [],
   "source": [
    "def fac(n):\n",
    "    x = 1\n",
    "    for i in range(2, n+1):\n",
    "        x *= i\n",
    "    return x"
   ]
  },
  {
   "cell_type": "code",
   "execution_count": 3,
   "id": "ac3a76dc",
   "metadata": {},
   "outputs": [],
   "source": [
    "def digit_sum(n):\n",
    "    return sum([int(x) for x in str(n)])"
   ]
  },
  {
   "cell_type": "code",
   "execution_count": 4,
   "id": "819fd310",
   "metadata": {},
   "outputs": [
    {
     "data": {
      "text/plain": [
       "648"
      ]
     },
     "execution_count": 4,
     "metadata": {},
     "output_type": "execute_result"
    }
   ],
   "source": [
    "digit_sum(fac(100))"
   ]
  },
  {
   "cell_type": "code",
   "execution_count": 5,
   "id": "86a8039f",
   "metadata": {},
   "outputs": [
    {
     "name": "stdout",
     "output_type": "stream",
     "text": [
      "16 μs ± 103 ns per loop (mean ± std. dev. of 7 runs, 100,000 loops each)\n"
     ]
    }
   ],
   "source": [
    "t = %timeit -o digit_sum(fac(100))\n",
    "euler.save_benchmark(20, t)"
   ]
  }
 ],
 "metadata": {
  "kernelspec": {
   "display_name": "datascience",
   "language": "python",
   "name": "python3"
  },
  "language_info": {
   "codemirror_mode": {
    "name": "ipython",
    "version": 3
   },
   "file_extension": ".py",
   "mimetype": "text/x-python",
   "name": "python",
   "nbconvert_exporter": "python",
   "pygments_lexer": "ipython3",
   "version": "3.11.9"
  }
 },
 "nbformat": 4,
 "nbformat_minor": 5
}
