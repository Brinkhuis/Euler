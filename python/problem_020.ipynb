{
 "cells": [
  {
   "cell_type": "markdown",
   "id": "c6e2ad94-1596-4b05-a508-e71eeba93df9",
   "metadata": {},
   "source": [
    "# Problem 20\n",
    "https://projecteuler.net/problem=20"
   ]
  },
  {
   "cell_type": "code",
   "execution_count": 1,
   "id": "537ef396",
   "metadata": {},
   "outputs": [
    {
     "name": "stdout",
     "output_type": "stream",
     "text": [
      "Python v3.11.10\n"
     ]
    }
   ],
   "source": [
    "print('Python v{}'.format(__import__('sys').version.split()[0]))"
   ]
  },
  {
   "cell_type": "markdown",
   "id": "a22bbf8d",
   "metadata": {},
   "source": [
    "### Solution  (function)"
   ]
  },
  {
   "cell_type": "code",
   "execution_count": 2,
   "id": "60fd50bf",
   "metadata": {},
   "outputs": [],
   "source": [
    "def fac(n):\n",
    "    x = 1\n",
    "    for i in range(2, n+1):\n",
    "        x *= i\n",
    "    return x\n",
    "\n",
    "assert fac(5) == 120"
   ]
  },
  {
   "cell_type": "code",
   "execution_count": 3,
   "id": "ac3a76dc",
   "metadata": {},
   "outputs": [],
   "source": [
    "def digit_sum(n):\n",
    "    return sum(int(x) for x in str(n))\n",
    "\n",
    "assert digit_sum(1234) == 10"
   ]
  },
  {
   "cell_type": "code",
   "execution_count": 4,
   "id": "819fd310",
   "metadata": {},
   "outputs": [
    {
     "data": {
      "text/plain": [
       "648"
      ]
     },
     "execution_count": 4,
     "metadata": {},
     "output_type": "execute_result"
    }
   ],
   "source": [
    "# answer\n",
    "digit_sum(fac(100))"
   ]
  },
  {
   "cell_type": "code",
   "execution_count": 5,
   "id": "1b67cdb5",
   "metadata": {},
   "outputs": [
    {
     "name": "stdout",
     "output_type": "stream",
     "text": [
      "14.2 μs ± 80.8 ns per loop (mean ± std. dev. of 7 runs, 100,000 loops each)\n"
     ]
    }
   ],
   "source": [
    "# benchmark\n",
    "%timeit digit_sum(fac(100))"
   ]
  },
  {
   "cell_type": "markdown",
   "id": "aad100ec",
   "metadata": {},
   "source": [
    "### Solution 2 (oneliner)"
   ]
  },
  {
   "cell_type": "code",
   "execution_count": 6,
   "id": "955d7942",
   "metadata": {},
   "outputs": [],
   "source": [
    "from functools import reduce"
   ]
  },
  {
   "cell_type": "code",
   "execution_count": 7,
   "id": "b8fd8d76",
   "metadata": {},
   "outputs": [
    {
     "data": {
      "text/plain": [
       "648"
      ]
     },
     "execution_count": 7,
     "metadata": {},
     "output_type": "execute_result"
    }
   ],
   "source": [
    "# answer\n",
    "reduce(lambda x, y: x + y, (int(i) for i in str(reduce(lambda x, y: x * y, range(2, 100)))))"
   ]
  },
  {
   "cell_type": "code",
   "execution_count": 8,
   "id": "9bd0ef87",
   "metadata": {},
   "outputs": [
    {
     "name": "stdout",
     "output_type": "stream",
     "text": [
      "20.7 μs ± 38.5 ns per loop (mean ± std. dev. of 7 runs, 10,000 loops each)\n"
     ]
    }
   ],
   "source": [
    "# benchmark\n",
    "%timeit reduce(lambda x, y: x + y, (int(i) for i in str(reduce(lambda x, y: x * y, range(2, 100)))))"
   ]
  },
  {
   "cell_type": "markdown",
   "id": "b686034f",
   "metadata": {},
   "source": [
    "### Save benchmark"
   ]
  },
  {
   "cell_type": "code",
   "execution_count": 9,
   "id": "86a8039f",
   "metadata": {},
   "outputs": [
    {
     "name": "stdout",
     "output_type": "stream",
     "text": [
      "14.6 μs ± 365 ns per loop (mean ± std. dev. of 7 runs, 100,000 loops each)\n"
     ]
    }
   ],
   "source": [
    "bm = %timeit -o digit_sum(fac(100))\n",
    "import euler\n",
    "euler.save_benchmark(20, bm)"
   ]
  }
 ],
 "metadata": {
  "kernelspec": {
   "display_name": "datascience",
   "language": "python",
   "name": "python3"
  },
  "language_info": {
   "codemirror_mode": {
    "name": "ipython",
    "version": 3
   },
   "file_extension": ".py",
   "mimetype": "text/x-python",
   "name": "python",
   "nbconvert_exporter": "python",
   "pygments_lexer": "ipython3",
   "version": "3.11.10"
  }
 },
 "nbformat": 4,
 "nbformat_minor": 5
}
