{
 "cells": [
  {
   "cell_type": "markdown",
   "id": "c6e2ad94-1596-4b05-a508-e71eeba93df9",
   "metadata": {},
   "source": [
    "# Problem 2\n",
    "https://projecteuler.net/problem=2"
   ]
  },
  {
   "cell_type": "code",
   "execution_count": 1,
   "id": "78536188",
   "metadata": {},
   "outputs": [
    {
     "name": "stdout",
     "output_type": "stream",
     "text": [
      "Python v3.11.10\n"
     ]
    }
   ],
   "source": [
    "print('Python v{}'.format(__import__('sys').version.split()[0]))"
   ]
  },
  {
   "cell_type": "markdown",
   "id": "123e83b0",
   "metadata": {},
   "source": [
    "### Solution 1 (Full fibonacci sequence)"
   ]
  },
  {
   "cell_type": "code",
   "execution_count": 2,
   "id": "8ce31b20",
   "metadata": {},
   "outputs": [],
   "source": [
    "def fibonacci(n):\n",
    "    fib_seq = [1, 2]\n",
    "    while sum(fib_seq[-2:]) <= n:\n",
    "        fib_seq.append(sum(fib_seq[-2:]))\n",
    "    return fib_seq\n",
    "\n",
    "assert fibonacci(100) == [1, 2, 3, 5, 8, 13, 21, 34, 55, 89]"
   ]
  },
  {
   "cell_type": "code",
   "execution_count": 3,
   "id": "b76c0cdd",
   "metadata": {},
   "outputs": [
    {
     "data": {
      "text/plain": [
       "4613732"
      ]
     },
     "execution_count": 3,
     "metadata": {},
     "output_type": "execute_result"
    }
   ],
   "source": [
    "# answer\n",
    "sum(f for f in fibonacci(4_000_000) if f%2 == 0)"
   ]
  },
  {
   "cell_type": "code",
   "execution_count": 4,
   "id": "3738ff3b",
   "metadata": {},
   "outputs": [
    {
     "name": "stdout",
     "output_type": "stream",
     "text": [
      "5.93 μs ± 5.08 ns per loop (mean ± std. dev. of 7 runs, 100,000 loops each)\n"
     ]
    }
   ],
   "source": [
    "# benchmark\n",
    "%timeit sum(f for f in fibonacci(4_000_000) if f%2 == 0)"
   ]
  },
  {
   "cell_type": "markdown",
   "id": "33f5f05c",
   "metadata": {},
   "source": [
    "### Solution 2 (keep last two in sequence)"
   ]
  },
  {
   "cell_type": "code",
   "execution_count": 5,
   "id": "85bacd8b",
   "metadata": {},
   "outputs": [],
   "source": [
    "def sum_even_fib(n):\n",
    "    fib_seq = [1, 2]\n",
    "    fib_sum = fib_seq[-1]\n",
    "    while sum(fib_seq[-2:]) < n:\n",
    "        fib_seq.append(sum(fib_seq[-2:]))\n",
    "        del fib_seq[0]\n",
    "        if fib_seq[-1]%2 == 0:\n",
    "            fib_sum += fib_seq[-1]\n",
    "    return fib_sum\n",
    "\n",
    "assert sum_even_fib(100) == 44"
   ]
  },
  {
   "cell_type": "code",
   "execution_count": 6,
   "id": "b614e851",
   "metadata": {},
   "outputs": [
    {
     "data": {
      "text/plain": [
       "4613732"
      ]
     },
     "execution_count": 6,
     "metadata": {},
     "output_type": "execute_result"
    }
   ],
   "source": [
    "# answer\n",
    "sum_even_fib(4_000_000)"
   ]
  },
  {
   "cell_type": "code",
   "execution_count": 7,
   "id": "2c58e650",
   "metadata": {},
   "outputs": [
    {
     "name": "stdout",
     "output_type": "stream",
     "text": [
      "6.96 μs ± 191 ns per loop (mean ± std. dev. of 7 runs, 100,000 loops each)\n"
     ]
    }
   ],
   "source": [
    "# benchmark\n",
    "%timeit sum_even_fib(4_000_000)"
   ]
  },
  {
   "cell_type": "markdown",
   "id": "56bf2025",
   "metadata": {},
   "source": [
    "### Save benchmark"
   ]
  },
  {
   "cell_type": "code",
   "execution_count": 8,
   "id": "f63ab675",
   "metadata": {},
   "outputs": [
    {
     "name": "stdout",
     "output_type": "stream",
     "text": [
      "5.95 μs ± 3.11 ns per loop (mean ± std. dev. of 7 runs, 100,000 loops each)\n"
     ]
    }
   ],
   "source": [
    "bm = %timeit -o sum(f for f in fibonacci(4_000_000) if f%2 == 0)\n",
    "import euler\n",
    "euler.save_benchmark(2, bm)"
   ]
  }
 ],
 "metadata": {
  "kernelspec": {
   "display_name": "datascience",
   "language": "python",
   "name": "python3"
  },
  "language_info": {
   "codemirror_mode": {
    "name": "ipython",
    "version": 3
   },
   "file_extension": ".py",
   "mimetype": "text/x-python",
   "name": "python",
   "nbconvert_exporter": "python",
   "pygments_lexer": "ipython3",
   "version": "3.11.10"
  }
 },
 "nbformat": 4,
 "nbformat_minor": 5
}
