{
 "cells": [
  {
   "cell_type": "markdown",
   "id": "c6e2ad94-1596-4b05-a508-e71eeba93df9",
   "metadata": {},
   "source": [
    "## Problem 2\n",
    "https://projecteuler.net/problem=2"
   ]
  },
  {
   "cell_type": "code",
   "execution_count": 1,
   "id": "9d520d08",
   "metadata": {},
   "outputs": [],
   "source": [
    "import euler"
   ]
  },
  {
   "cell_type": "markdown",
   "id": "123e83b0",
   "metadata": {},
   "source": [
    "#### Solution 1"
   ]
  },
  {
   "cell_type": "code",
   "execution_count": 2,
   "id": "85bacd8b",
   "metadata": {},
   "outputs": [],
   "source": [
    "def fibonacci(n=4_000_000):\n",
    "    fib = [1, 2]\n",
    "    s = fib[-1]\n",
    "    while sum(fib[-2:]) < n:\n",
    "        fib.append(sum(fib[-2:]))\n",
    "        if fib[-1]%2 == 0:\n",
    "            s += fib[-1]\n",
    "    return s"
   ]
  },
  {
   "cell_type": "code",
   "execution_count": 3,
   "id": "2c58e650",
   "metadata": {},
   "outputs": [
    {
     "data": {
      "text/plain": [
       "4613732"
      ]
     },
     "execution_count": 3,
     "metadata": {},
     "output_type": "execute_result"
    }
   ],
   "source": [
    "fibonacci()"
   ]
  },
  {
   "cell_type": "code",
   "execution_count": 4,
   "id": "537d6654",
   "metadata": {},
   "outputs": [
    {
     "name": "stdout",
     "output_type": "stream",
     "text": [
      "6.94 μs ± 151 ns per loop (mean ± std. dev. of 7 runs, 100,000 loops each)\n"
     ]
    }
   ],
   "source": [
    "t = %timeit -o fibonacci()\n",
    "euler.save_benchmark(2, t)"
   ]
  },
  {
   "cell_type": "markdown",
   "id": "fd65f0fa",
   "metadata": {},
   "source": [
    "#### Solution 2"
   ]
  },
  {
   "cell_type": "code",
   "execution_count": 5,
   "id": "900aece2",
   "metadata": {},
   "outputs": [],
   "source": [
    "def fibonacci(n=4_000_000):\n",
    "    \n",
    "    fib = [1, 2]\n",
    "    s = fib[-1]\n",
    "    while sum(fib[-2:]) < n:\n",
    "        fib.append(sum(fib[-2:]))\n",
    "\n",
    "    s = 0\n",
    "    for i in fib:\n",
    "        if i%2 == 0:\n",
    "            s += i\n",
    "\n",
    "    return s"
   ]
  },
  {
   "cell_type": "code",
   "execution_count": 6,
   "id": "a6e33a27",
   "metadata": {},
   "outputs": [
    {
     "data": {
      "text/plain": [
       "4613732"
      ]
     },
     "execution_count": 6,
     "metadata": {},
     "output_type": "execute_result"
    }
   ],
   "source": [
    "fibonacci()"
   ]
  },
  {
   "cell_type": "code",
   "execution_count": 7,
   "id": "5f18005e",
   "metadata": {},
   "outputs": [
    {
     "name": "stdout",
     "output_type": "stream",
     "text": [
      "6.88 μs ± 166 ns per loop (mean ± std. dev. of 7 runs, 100,000 loops each)\n"
     ]
    }
   ],
   "source": [
    "t = %timeit -o fibonacci()\n",
    "euler.save_benchmark(2, t)"
   ]
  }
 ],
 "metadata": {
  "kernelspec": {
   "display_name": "datascience",
   "language": "python",
   "name": "python3"
  },
  "language_info": {
   "codemirror_mode": {
    "name": "ipython",
    "version": 3
   },
   "file_extension": ".py",
   "mimetype": "text/x-python",
   "name": "python",
   "nbconvert_exporter": "python",
   "pygments_lexer": "ipython3",
   "version": "3.11.9"
  }
 },
 "nbformat": 4,
 "nbformat_minor": 5
}
