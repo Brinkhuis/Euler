{
 "cells": [
  {
   "cell_type": "markdown",
   "id": "c6e2ad94-1596-4b05-a508-e71eeba93df9",
   "metadata": {},
   "source": [
    "## Problem 2\n",
    "https://projecteuler.net/problem=2"
   ]
  },
  {
   "cell_type": "code",
   "execution_count": 1,
   "id": "78536188",
   "metadata": {},
   "outputs": [
    {
     "name": "stdout",
     "output_type": "stream",
     "text": [
      "Python v3.11.9\n"
     ]
    }
   ],
   "source": [
    "print('Python v{}'.format(__import__('sys').version.split()[0]))"
   ]
  },
  {
   "cell_type": "code",
   "execution_count": 2,
   "id": "9d520d08",
   "metadata": {},
   "outputs": [],
   "source": [
    "import euler"
   ]
  },
  {
   "cell_type": "markdown",
   "id": "123e83b0",
   "metadata": {},
   "source": [
    "### Solution 1 (full fibonacci sequence, conditional sum)"
   ]
  },
  {
   "cell_type": "code",
   "execution_count": 3,
   "id": "8ce31b20",
   "metadata": {},
   "outputs": [
    {
     "data": {
      "text/plain": [
       "4613732"
      ]
     },
     "execution_count": 3,
     "metadata": {},
     "output_type": "execute_result"
    }
   ],
   "source": [
    "def fibonacci(n):\n",
    "    fib_seq = [1, 2]\n",
    "    while sum(fib_seq[-2:]) <= n:\n",
    "        fib_seq.append(sum(fib_seq[-2:]))\n",
    "    return fib_seq\n",
    "\n",
    "sum(f for f in fibonacci(4_000_000) if f%2 == 0)"
   ]
  },
  {
   "cell_type": "code",
   "execution_count": 4,
   "id": "3738ff3b",
   "metadata": {},
   "outputs": [
    {
     "name": "stdout",
     "output_type": "stream",
     "text": [
      "6.67 μs ± 457 ns per loop (mean ± std. dev. of 7 runs, 100,000 loops each)\n"
     ]
    }
   ],
   "source": [
    "b = %timeit -o sum(f for f in fibonacci(4_000_000) if f%2 == 0)\n",
    "euler.save_benchmark(2, b)"
   ]
  },
  {
   "cell_type": "markdown",
   "id": "33f5f05c",
   "metadata": {},
   "source": [
    "### Solution 2 (keep previous two, sum even)"
   ]
  },
  {
   "cell_type": "code",
   "execution_count": 5,
   "id": "85bacd8b",
   "metadata": {},
   "outputs": [
    {
     "data": {
      "text/plain": [
       "4613732"
      ]
     },
     "execution_count": 5,
     "metadata": {},
     "output_type": "execute_result"
    }
   ],
   "source": [
    "def sum_even_fib(n):\n",
    "    fib_seq = [1, 2]\n",
    "    fib_sum = fib_seq[-1]\n",
    "    while sum(fib_seq[-2:]) < n:\n",
    "        fib_seq.append(sum(fib_seq[-2:]))\n",
    "        del fib_seq[0]\n",
    "        if fib_seq[-1]%2 == 0:\n",
    "            fib_sum += fib_seq[-1]\n",
    "    return fib_sum\n",
    "\n",
    "sum_even_fib(4_000_000)"
   ]
  },
  {
   "cell_type": "code",
   "execution_count": 6,
   "id": "2c58e650",
   "metadata": {},
   "outputs": [
    {
     "name": "stdout",
     "output_type": "stream",
     "text": [
      "7.48 μs ± 281 ns per loop (mean ± std. dev. of 7 runs, 100,000 loops each)\n"
     ]
    }
   ],
   "source": [
    "b = %timeit -o sum_even_fib(4_000_000)\n",
    "euler.save_benchmark(2, b)"
   ]
  }
 ],
 "metadata": {
  "kernelspec": {
   "display_name": "datascience",
   "language": "python",
   "name": "python3"
  },
  "language_info": {
   "codemirror_mode": {
    "name": "ipython",
    "version": 3
   },
   "file_extension": ".py",
   "mimetype": "text/x-python",
   "name": "python",
   "nbconvert_exporter": "python",
   "pygments_lexer": "ipython3",
   "version": "3.11.9"
  }
 },
 "nbformat": 4,
 "nbformat_minor": 5
}
