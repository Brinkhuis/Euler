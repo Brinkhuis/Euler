{
 "cells": [
  {
   "cell_type": "markdown",
   "id": "c6e2ad94-1596-4b05-a508-e71eeba93df9",
   "metadata": {},
   "source": [
    "# Problem 39\n",
    "https://projecteuler.net/problem=39"
   ]
  },
  {
   "cell_type": "code",
   "execution_count": 1,
   "id": "7f0ce116",
   "metadata": {},
   "outputs": [
    {
     "name": "stdout",
     "output_type": "stream",
     "text": [
      "Python v3.11.10\n"
     ]
    }
   ],
   "source": [
    "print('Python v{}'.format(__import__('sys').version.split()[0]))"
   ]
  },
  {
   "cell_type": "markdown",
   "id": "e00a819c",
   "metadata": {},
   "source": [
    "### Solution"
   ]
  },
  {
   "cell_type": "markdown",
   "id": "962771dc",
   "metadata": {},
   "source": [
    "$$ P = a + b + \\sqrt{a^{2} + b^{2}} $$"
   ]
  },
  {
   "cell_type": "code",
   "execution_count": 2,
   "id": "1a729538",
   "metadata": {},
   "outputs": [],
   "source": [
    "def P(a, b):\n",
    "    return a + b + (a**2 + b**2)**.5\n",
    "\n",
    "assert P(20, 48) == 120"
   ]
  },
  {
   "cell_type": "code",
   "execution_count": 3,
   "id": "8710a8fe",
   "metadata": {},
   "outputs": [],
   "source": [
    "def integer_right_triangle(n):\n",
    "    counter = 0\n",
    "    for i in range(1, n//2+2):\n",
    "        for j in range(1, n//2+2):\n",
    "            if P(20, 48) // 1 == P(20, 48) and P(i, j) == n:\n",
    "                counter += 1\n",
    "    return counter // 2 # deduplicate combinations (i.e. i=1, j=2 vs i=2, j=1) in the double for loop\n",
    "\n",
    "assert integer_right_triangle(120) == 3"
   ]
  },
  {
   "cell_type": "code",
   "execution_count": 4,
   "id": "9a992a48",
   "metadata": {},
   "outputs": [],
   "source": [
    "def maximum_solution(p=1000):\n",
    "    p_value = 0\n",
    "    maximum_solutions = 0\n",
    "    for i in range(1, p+1):\n",
    "        irt = integer_right_triangle(i)\n",
    "        if irt > maximum_solutions:\n",
    "            p_value = i\n",
    "            maximum_solutions = irt\n",
    "    return p_value"
   ]
  },
  {
   "cell_type": "code",
   "execution_count": 5,
   "id": "fd3ff295",
   "metadata": {},
   "outputs": [
    {
     "data": {
      "text/plain": [
       "840"
      ]
     },
     "execution_count": 5,
     "metadata": {},
     "output_type": "execute_result"
    }
   ],
   "source": [
    "# answer\n",
    "maximum_solution(1000)"
   ]
  },
  {
   "cell_type": "code",
   "execution_count": 6,
   "id": "77dc028d",
   "metadata": {},
   "outputs": [
    {
     "name": "stdout",
     "output_type": "stream",
     "text": [
      "34.9 s ± 144 ms per loop (mean ± std. dev. of 7 runs, 1 loop each)\n"
     ]
    }
   ],
   "source": [
    "# benchmark\n",
    "%timeit maximum_solution(1000)"
   ]
  },
  {
   "cell_type": "markdown",
   "id": "9382908b",
   "metadata": {},
   "source": [
    "### Save benchmark"
   ]
  },
  {
   "cell_type": "code",
   "execution_count": 7,
   "id": "9a92c861",
   "metadata": {},
   "outputs": [
    {
     "name": "stdout",
     "output_type": "stream",
     "text": [
      "34.8 s ± 243 ms per loop (mean ± std. dev. of 7 runs, 1 loop each)\n"
     ]
    }
   ],
   "source": [
    "bm = %timeit -o maximum_solution(1000)\n",
    "import euler\n",
    "euler.save_benchmark(39, bm)"
   ]
  }
 ],
 "metadata": {
  "kernelspec": {
   "display_name": "datascience",
   "language": "python",
   "name": "python3"
  },
  "language_info": {
   "codemirror_mode": {
    "name": "ipython",
    "version": 3
   },
   "file_extension": ".py",
   "mimetype": "text/x-python",
   "name": "python",
   "nbconvert_exporter": "python",
   "pygments_lexer": "ipython3",
   "version": "3.11.10"
  }
 },
 "nbformat": 4,
 "nbformat_minor": 5
}
