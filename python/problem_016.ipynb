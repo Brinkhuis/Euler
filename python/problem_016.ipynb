{
 "cells": [
  {
   "cell_type": "markdown",
   "id": "c6e2ad94-1596-4b05-a508-e71eeba93df9",
   "metadata": {},
   "source": [
    "## Problem 16\n",
    "https://projecteuler.net/problem=16"
   ]
  },
  {
   "cell_type": "code",
   "execution_count": 1,
   "id": "b172d58b",
   "metadata": {},
   "outputs": [],
   "source": [
    "import euler"
   ]
  },
  {
   "cell_type": "code",
   "execution_count": 2,
   "id": "8685c48f",
   "metadata": {},
   "outputs": [
    {
     "data": {
      "text/plain": [
       "1366"
      ]
     },
     "execution_count": 2,
     "metadata": {},
     "output_type": "execute_result"
    }
   ],
   "source": [
    "sum([int(s) for s in str(2**1_000)])"
   ]
  },
  {
   "cell_type": "code",
   "execution_count": 3,
   "id": "72d622de",
   "metadata": {},
   "outputs": [
    {
     "name": "stdout",
     "output_type": "stream",
     "text": [
      "20.2 μs ± 26.2 ns per loop (mean ± std. dev. of 7 runs, 10,000 loops each)\n"
     ]
    }
   ],
   "source": [
    "t = %timeit -o sum([int(s) for s in str(2**1_000)])\n",
    "euler.save_benchmark(16, t)"
   ]
  }
 ],
 "metadata": {
  "kernelspec": {
   "display_name": "datascience",
   "language": "python",
   "name": "python3"
  },
  "language_info": {
   "codemirror_mode": {
    "name": "ipython",
    "version": 3
   },
   "file_extension": ".py",
   "mimetype": "text/x-python",
   "name": "python",
   "nbconvert_exporter": "python",
   "pygments_lexer": "ipython3",
   "version": "3.11.9"
  }
 },
 "nbformat": 4,
 "nbformat_minor": 5
}
