{
 "cells": [
  {
   "cell_type": "markdown",
   "id": "c6e2ad94-1596-4b05-a508-e71eeba93df9",
   "metadata": {},
   "source": [
    "# Problem 38\n",
    "https://projecteuler.net/problem=38"
   ]
  },
  {
   "cell_type": "code",
   "execution_count": 1,
   "id": "9ddad57f",
   "metadata": {},
   "outputs": [
    {
     "name": "stdout",
     "output_type": "stream",
     "text": [
      "Python v3.11.10\n"
     ]
    }
   ],
   "source": [
    "print('Python v{}'.format(__import__('sys').version.split()[0]))"
   ]
  },
  {
   "cell_type": "markdown",
   "id": "e4176e8e",
   "metadata": {},
   "source": [
    "### Solution"
   ]
  },
  {
   "cell_type": "code",
   "execution_count": 2,
   "id": "5c67a385",
   "metadata": {},
   "outputs": [],
   "source": [
    "def ispandigital(num, n=9):\n",
    "    return ''.join(sorted(str(num))) == ''.join(str(i) for i in range(1, n+1))\n",
    "\n",
    "assert ispandigital(4213, 4)\n",
    "assert not ispandigital(4213)\n",
    "assert ispandigital(987123654)"
   ]
  },
  {
   "cell_type": "code",
   "execution_count": 3,
   "id": "18f1457d",
   "metadata": {},
   "outputs": [],
   "source": [
    "def largest_pandigital_number(start=1, stop=10_000, x=9):\n",
    "    largest_pandigital = 0 # initial value\n",
    "    for i in range(start, stop+1):\n",
    "        cps = \"\" # concatenated product string\n",
    "        integer = 1\n",
    "        while len(cps) < x:\n",
    "            cps += str(i * integer)\n",
    "            integer += 1\n",
    "        if len(cps) == 9 and '0' not in cps:\n",
    "            cpn = int(cps) # concatenated product number\n",
    "            if ispandigital(cpn) and cpn > largest_pandigital:\n",
    "                largest_pandigital = cpn\n",
    "    return largest_pandigital"
   ]
  },
  {
   "cell_type": "code",
   "execution_count": 4,
   "id": "0144b15e",
   "metadata": {},
   "outputs": [
    {
     "data": {
      "text/plain": [
       "932718654"
      ]
     },
     "execution_count": 4,
     "metadata": {},
     "output_type": "execute_result"
    }
   ],
   "source": [
    "# answer\n",
    "largest_pandigital_number(1, 9999)"
   ]
  },
  {
   "cell_type": "code",
   "execution_count": 5,
   "id": "94d2b4b2",
   "metadata": {},
   "outputs": [
    {
     "name": "stdout",
     "output_type": "stream",
     "text": [
      "6.87 ms ± 23.1 μs per loop (mean ± std. dev. of 7 runs, 10 loops each)\n"
     ]
    }
   ],
   "source": [
    "# benchmark\n",
    "%timeit largest_pandigital_number(1, 9999)"
   ]
  },
  {
   "cell_type": "markdown",
   "id": "072e9d5f",
   "metadata": {},
   "source": [
    "### Save benchmark"
   ]
  },
  {
   "cell_type": "code",
   "execution_count": 6,
   "id": "276d094d",
   "metadata": {},
   "outputs": [
    {
     "name": "stdout",
     "output_type": "stream",
     "text": [
      "6.77 ms ± 17.3 μs per loop (mean ± std. dev. of 7 runs, 100 loops each)\n"
     ]
    }
   ],
   "source": [
    "bm = %timeit -o largest_pandigital_number(1, 9999)\n",
    "import euler\n",
    "euler.save_benchmark(38, bm)"
   ]
  }
 ],
 "metadata": {
  "kernelspec": {
   "display_name": "datascience",
   "language": "python",
   "name": "python3"
  },
  "language_info": {
   "codemirror_mode": {
    "name": "ipython",
    "version": 3
   },
   "file_extension": ".py",
   "mimetype": "text/x-python",
   "name": "python",
   "nbconvert_exporter": "python",
   "pygments_lexer": "ipython3",
   "version": "3.11.10"
  }
 },
 "nbformat": 4,
 "nbformat_minor": 5
}
