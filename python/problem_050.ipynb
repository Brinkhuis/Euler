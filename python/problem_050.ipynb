{
 "cells": [
  {
   "cell_type": "markdown",
   "id": "c6e2ad94-1596-4b05-a508-e71eeba93df9",
   "metadata": {},
   "source": [
    "# Problem 50\n",
    "https://projecteuler.net/problem=50"
   ]
  },
  {
   "cell_type": "code",
   "execution_count": 1,
   "id": "1c261027",
   "metadata": {},
   "outputs": [
    {
     "name": "stdout",
     "output_type": "stream",
     "text": [
      "Python v3.11.10\n"
     ]
    }
   ],
   "source": [
    "print('Python v{}'.format(__import__('sys').version.split()[0]))"
   ]
  },
  {
   "cell_type": "markdown",
   "id": "b962c78a",
   "metadata": {},
   "source": [
    "### Solution"
   ]
  },
  {
   "cell_type": "code",
   "execution_count": 2,
   "id": "8ca57347",
   "metadata": {},
   "outputs": [],
   "source": [
    "import sympy"
   ]
  },
  {
   "cell_type": "code",
   "execution_count": 3,
   "id": "3efc3f3e",
   "metadata": {},
   "outputs": [],
   "source": [
    "def consecutive_prime_sum(n):\n",
    "\n",
    "    p = list(sympy.primerange(n+1))\n",
    "    consecutives_cnt = 0\n",
    "    consecutives_sum = 0\n",
    "    last_j = len(p)\n",
    "\n",
    "    for i in range(1, len(p)+1):\n",
    "        for j in range(i + consecutives_cnt, last_j + 1):\n",
    "            s = sum(p[i:j+1])\n",
    "            if s < n:\n",
    "                if s in p:\n",
    "                    consecutives_cnt = j - i\n",
    "                    consecutives_sum = s\n",
    "            else:\n",
    "                last_j = j\n",
    "                break\n",
    "\n",
    "    return consecutives_sum\n",
    "\n",
    "assert consecutive_prime_sum(50) == 41"
   ]
  },
  {
   "cell_type": "code",
   "execution_count": 4,
   "id": "4653d3aa",
   "metadata": {},
   "outputs": [
    {
     "data": {
      "text/plain": [
       "997651"
      ]
     },
     "execution_count": 4,
     "metadata": {},
     "output_type": "execute_result"
    }
   ],
   "source": [
    "# answer\n",
    "consecutive_prime_sum(1_000_000)"
   ]
  },
  {
   "cell_type": "code",
   "execution_count": 5,
   "id": "19aadd39",
   "metadata": {},
   "outputs": [
    {
     "name": "stdout",
     "output_type": "stream",
     "text": [
      "744 ms ± 33.5 ms per loop (mean ± std. dev. of 7 runs, 1 loop each)\n"
     ]
    }
   ],
   "source": [
    "# benchmark\n",
    "%timeit consecutive_prime_sum(1_000_000)"
   ]
  },
  {
   "cell_type": "markdown",
   "id": "24ab04f9",
   "metadata": {},
   "source": [
    "### Save benchmark"
   ]
  },
  {
   "cell_type": "code",
   "execution_count": 6,
   "id": "60fa8578",
   "metadata": {},
   "outputs": [
    {
     "name": "stdout",
     "output_type": "stream",
     "text": [
      "740 ms ± 14.5 ms per loop (mean ± std. dev. of 7 runs, 1 loop each)\n"
     ]
    }
   ],
   "source": [
    "bm = %timeit -o consecutive_prime_sum(1_000_000)\n",
    "import euler\n",
    "euler.save_benchmark(50, bm)"
   ]
  }
 ],
 "metadata": {
  "kernelspec": {
   "display_name": "datascience",
   "language": "python",
   "name": "python3"
  },
  "language_info": {
   "codemirror_mode": {
    "name": "ipython",
    "version": 3
   },
   "file_extension": ".py",
   "mimetype": "text/x-python",
   "name": "python",
   "nbconvert_exporter": "python",
   "pygments_lexer": "ipython3",
   "version": "3.11.10"
  }
 },
 "nbformat": 4,
 "nbformat_minor": 5
}
