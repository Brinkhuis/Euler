{
 "cells": [
  {
   "cell_type": "markdown",
   "id": "c6e2ad94-1596-4b05-a508-e71eeba93df9",
   "metadata": {},
   "source": [
    "## Problem 35\n",
    "https://projecteuler.net/problem=35"
   ]
  },
  {
   "cell_type": "code",
   "execution_count": 1,
   "id": "b572f0e7",
   "metadata": {},
   "outputs": [],
   "source": [
    "import euler"
   ]
  },
  {
   "cell_type": "code",
   "execution_count": 2,
   "id": "60a68c40",
   "metadata": {},
   "outputs": [],
   "source": [
    "def isprime(n):\n",
    "    if n <= 1:\n",
    "        return False\n",
    "    else:\n",
    "        for i in range(2, (n//2)+1):\n",
    "            if n%i == 0:\n",
    "                return False\n",
    "        return True"
   ]
  },
  {
   "cell_type": "code",
   "execution_count": 3,
   "id": "8227fe9e",
   "metadata": {},
   "outputs": [],
   "source": [
    "assert isprime(197) == True"
   ]
  },
  {
   "cell_type": "code",
   "execution_count": 4,
   "id": "6710339d",
   "metadata": {},
   "outputs": [],
   "source": [
    "def rotation(n):\n",
    "    rotations = []\n",
    "    s = str(n)\n",
    "    l = len(s)\n",
    "    s += s\n",
    "    for i in range(l):\n",
    "        rotations.append(int(s[i:i+l]))\n",
    "    return rotations"
   ]
  },
  {
   "cell_type": "code",
   "execution_count": 5,
   "id": "9f557103",
   "metadata": {},
   "outputs": [],
   "source": [
    "assert rotation(197) == [197, 971, 719]"
   ]
  },
  {
   "cell_type": "code",
   "execution_count": 6,
   "id": "cc5b2344",
   "metadata": {},
   "outputs": [],
   "source": [
    "def circular_primes(numbers):\n",
    "    return all([isprime(x) for x in numbers])"
   ]
  },
  {
   "cell_type": "code",
   "execution_count": 7,
   "id": "73ba52a6",
   "metadata": {},
   "outputs": [],
   "source": [
    "assert circular_primes([197, 971, 719]) == True"
   ]
  },
  {
   "cell_type": "code",
   "execution_count": 8,
   "id": "39238b36",
   "metadata": {},
   "outputs": [],
   "source": [
    "def circulars(n):\n",
    "    counter = 0\n",
    "    primes = [x for x in range(1, n) if isprime(x)]\n",
    "    for p in primes:\n",
    "        if circular_primes(rotation(p)):\n",
    "            counter += 1\n",
    "    return counter"
   ]
  },
  {
   "cell_type": "code",
   "execution_count": 9,
   "id": "eb63d3d1",
   "metadata": {},
   "outputs": [
    {
     "data": {
      "text/plain": [
       "55"
      ]
     },
     "execution_count": 9,
     "metadata": {},
     "output_type": "execute_result"
    }
   ],
   "source": [
    "circulars(1_000_000)"
   ]
  },
  {
   "cell_type": "code",
   "execution_count": 10,
   "id": "5ac16e18",
   "metadata": {},
   "outputs": [
    {
     "name": "stdout",
     "output_type": "stream",
     "text": [
      "29min 13s ± 1min 39s per loop (mean ± std. dev. of 7 runs, 1 loop each)\n"
     ]
    }
   ],
   "source": [
    "t = %timeit -o circulars(1_000_000)\n",
    "euler.save_benchmark(35, t)"
   ]
  }
 ],
 "metadata": {
  "kernelspec": {
   "display_name": "datascience",
   "language": "python",
   "name": "python3"
  },
  "language_info": {
   "codemirror_mode": {
    "name": "ipython",
    "version": 3
   },
   "file_extension": ".py",
   "mimetype": "text/x-python",
   "name": "python",
   "nbconvert_exporter": "python",
   "pygments_lexer": "ipython3",
   "version": "3.11.9"
  }
 },
 "nbformat": 4,
 "nbformat_minor": 5
}
