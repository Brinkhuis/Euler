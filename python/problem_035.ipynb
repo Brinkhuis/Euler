{
 "cells": [
  {
   "cell_type": "markdown",
   "id": "c6e2ad94-1596-4b05-a508-e71eeba93df9",
   "metadata": {},
   "source": [
    "# Problem 35\n",
    "https://projecteuler.net/problem=35"
   ]
  },
  {
   "cell_type": "code",
   "execution_count": 1,
   "id": "b572f0e7",
   "metadata": {},
   "outputs": [
    {
     "name": "stdout",
     "output_type": "stream",
     "text": [
      "Python v3.11.10\n"
     ]
    }
   ],
   "source": [
    "print('Python v{}'.format(__import__('sys').version.split()[0]))"
   ]
  },
  {
   "cell_type": "markdown",
   "id": "af455dfd",
   "metadata": {},
   "source": [
    "### Solution"
   ]
  },
  {
   "cell_type": "code",
   "execution_count": 2,
   "id": "91c4fd67",
   "metadata": {},
   "outputs": [],
   "source": [
    "from sympy import isprime"
   ]
  },
  {
   "cell_type": "code",
   "execution_count": 3,
   "id": "6710339d",
   "metadata": {},
   "outputs": [],
   "source": [
    "def rotation(n):\n",
    "    rotations = []\n",
    "    s = str(n)\n",
    "    l = len(s)\n",
    "    s += s\n",
    "    for i in range(l):\n",
    "        rotations.append(int(s[i:i+l]))\n",
    "    return rotations\n",
    "\n",
    "assert rotation(197) == [197, 971, 719]"
   ]
  },
  {
   "cell_type": "code",
   "execution_count": 4,
   "id": "cc5b2344",
   "metadata": {},
   "outputs": [],
   "source": [
    "def circular_primes(numbers):\n",
    "    return all([isprime(x) for x in numbers])\n",
    "\n",
    "assert circular_primes([197, 971, 719])"
   ]
  },
  {
   "cell_type": "code",
   "execution_count": 5,
   "id": "39238b36",
   "metadata": {},
   "outputs": [],
   "source": [
    "def circulars(n):\n",
    "    counter = 0\n",
    "    primes = [x for x in range(1, n) if isprime(x)]\n",
    "    for p in primes:\n",
    "        if circular_primes(rotation(p)):\n",
    "            counter += 1\n",
    "    return counter\n",
    "\n",
    "assert circulars(100) == 13"
   ]
  },
  {
   "cell_type": "code",
   "execution_count": 6,
   "id": "eb63d3d1",
   "metadata": {},
   "outputs": [
    {
     "data": {
      "text/plain": [
       "55"
      ]
     },
     "execution_count": 6,
     "metadata": {},
     "output_type": "execute_result"
    }
   ],
   "source": [
    "# answer\n",
    "circulars(1_000_000)"
   ]
  },
  {
   "cell_type": "code",
   "execution_count": 7,
   "id": "531c8145",
   "metadata": {},
   "outputs": [
    {
     "name": "stdout",
     "output_type": "stream",
     "text": [
      "1.36 s ± 51.4 ms per loop (mean ± std. dev. of 7 runs, 1 loop each)\n"
     ]
    }
   ],
   "source": [
    "# benchmark\n",
    "%timeit circulars(1_000_000)"
   ]
  },
  {
   "cell_type": "markdown",
   "id": "53e98e69",
   "metadata": {},
   "source": [
    "### Save benchmark"
   ]
  },
  {
   "cell_type": "code",
   "execution_count": 8,
   "id": "5ac16e18",
   "metadata": {},
   "outputs": [
    {
     "name": "stdout",
     "output_type": "stream",
     "text": [
      "1.32 s ± 2.79 ms per loop (mean ± std. dev. of 7 runs, 1 loop each)\n"
     ]
    }
   ],
   "source": [
    "bm = %timeit -o circulars(1_000_000)\n",
    "import euler\n",
    "euler.save_benchmark(35, bm)"
   ]
  }
 ],
 "metadata": {
  "kernelspec": {
   "display_name": "datascience",
   "language": "python",
   "name": "python3"
  },
  "language_info": {
   "codemirror_mode": {
    "name": "ipython",
    "version": 3
   },
   "file_extension": ".py",
   "mimetype": "text/x-python",
   "name": "python",
   "nbconvert_exporter": "python",
   "pygments_lexer": "ipython3",
   "version": "3.11.10"
  }
 },
 "nbformat": 4,
 "nbformat_minor": 5
}
