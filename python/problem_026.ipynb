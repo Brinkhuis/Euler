{
 "cells": [
  {
   "cell_type": "markdown",
   "id": "c6e2ad94-1596-4b05-a508-e71eeba93df9",
   "metadata": {},
   "source": [
    "# Problem 26\n",
    "https://projecteuler.net/problem=26"
   ]
  },
  {
   "cell_type": "code",
   "execution_count": 1,
   "id": "d837e4a4",
   "metadata": {},
   "outputs": [
    {
     "name": "stdout",
     "output_type": "stream",
     "text": [
      "Python v3.11.10\n"
     ]
    }
   ],
   "source": [
    "print('Python v{}'.format(__import__('sys').version.split()[0]))"
   ]
  },
  {
   "cell_type": "markdown",
   "id": "401d1874",
   "metadata": {},
   "source": [
    "### Solution"
   ]
  },
  {
   "cell_type": "code",
   "execution_count": 2,
   "id": "374da66a",
   "metadata": {},
   "outputs": [],
   "source": [
    "def get_longest_division_cycle(d):\n",
    "    \"\"\"\n",
    "    n = nominator\n",
    "    d = denominator\n",
    "    r = remainder\n",
    "    t = digit\n",
    "    c = current\n",
    "    \"\"\"\n",
    "    digits = []\n",
    "    remainders = []\n",
    "    n = 10\n",
    "    c = n\n",
    "    while True:\n",
    "        t = c // d\n",
    "        c = c % d\n",
    "        if c in remainders:\n",
    "            break\n",
    "        digits.append(t)\n",
    "        remainders.append(c)\n",
    "        c *= 10\n",
    "        if c == 0:\n",
    "            return 0\n",
    "        while c < d:\n",
    "            c *= 10\n",
    "            digits.append(0)\n",
    "    while remainders[0] != c:\n",
    "        del remainders[0]\n",
    "    return len(remainders)"
   ]
  },
  {
   "cell_type": "code",
   "execution_count": 3,
   "id": "96ead6a6",
   "metadata": {},
   "outputs": [],
   "source": [
    "def longest_cycle():\n",
    "    dictionary = {key:value for (key, value) in zip(map(get_longest_division_cycle, range(2, 1000)), range(2, 1000))}\n",
    "    return dictionary[max(dictionary.keys())]"
   ]
  },
  {
   "cell_type": "code",
   "execution_count": 4,
   "id": "2c548f54",
   "metadata": {},
   "outputs": [
    {
     "data": {
      "text/plain": [
       "983"
      ]
     },
     "execution_count": 4,
     "metadata": {},
     "output_type": "execute_result"
    }
   ],
   "source": [
    "# answer\n",
    "longest_cycle()"
   ]
  },
  {
   "cell_type": "code",
   "execution_count": 5,
   "id": "a2e2b390",
   "metadata": {},
   "outputs": [
    {
     "name": "stdout",
     "output_type": "stream",
     "text": [
      "90.3 ms ± 265 μs per loop (mean ± std. dev. of 7 runs, 10 loops each)\n"
     ]
    }
   ],
   "source": [
    "# benchmark\n",
    "%timeit longest_cycle()"
   ]
  },
  {
   "cell_type": "markdown",
   "id": "a24ba2a9",
   "metadata": {},
   "source": [
    "### Save benchmark"
   ]
  },
  {
   "cell_type": "code",
   "execution_count": 6,
   "id": "2c9f80c7",
   "metadata": {},
   "outputs": [
    {
     "name": "stdout",
     "output_type": "stream",
     "text": [
      "90.1 ms ± 55.2 μs per loop (mean ± std. dev. of 7 runs, 10 loops each)\n"
     ]
    }
   ],
   "source": [
    "bm = %timeit -o longest_cycle()\n",
    "import euler\n",
    "euler.save_benchmark(26, bm)"
   ]
  }
 ],
 "metadata": {
  "kernelspec": {
   "display_name": "datascience",
   "language": "python",
   "name": "python3"
  },
  "language_info": {
   "codemirror_mode": {
    "name": "ipython",
    "version": 3
   },
   "file_extension": ".py",
   "mimetype": "text/x-python",
   "name": "python",
   "nbconvert_exporter": "python",
   "pygments_lexer": "ipython3",
   "version": "3.11.10"
  }
 },
 "nbformat": 4,
 "nbformat_minor": 5
}
