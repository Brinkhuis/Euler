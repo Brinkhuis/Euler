{
 "cells": [
  {
   "cell_type": "markdown",
   "id": "c6e2ad94-1596-4b05-a508-e71eeba93df9",
   "metadata": {},
   "source": [
    "# Problem 43\n",
    "https://projecteuler.net/problem=43"
   ]
  },
  {
   "cell_type": "code",
   "execution_count": 1,
   "id": "1a481548",
   "metadata": {},
   "outputs": [
    {
     "name": "stdout",
     "output_type": "stream",
     "text": [
      "Python v3.11.10\n"
     ]
    }
   ],
   "source": [
    "print('Python v{}'.format(__import__('sys').version.split()[0]))"
   ]
  },
  {
   "cell_type": "markdown",
   "id": "aa17b6e5",
   "metadata": {},
   "source": [
    "### Solution"
   ]
  },
  {
   "cell_type": "code",
   "execution_count": 2,
   "id": "ed8d9ae2",
   "metadata": {},
   "outputs": [],
   "source": [
    "from itertools import permutations "
   ]
  },
  {
   "cell_type": "code",
   "execution_count": 3,
   "id": "9ec4ad7f",
   "metadata": {},
   "outputs": [],
   "source": [
    "def concat_ints(l):\n",
    "    \"\"\"\n",
    "    concat_ints([3, 4, 5]) == 345\n",
    "    \"\"\"\n",
    "    # @assert all(n -> n ∈ 0:9, l) \"Only integers in range 0:9 are valid inputs\"\n",
    "    s = 0 # sum\n",
    "    for (i, n) in enumerate(l[::-1]):\n",
    "        s += n * 10**i\n",
    "    return s\n",
    "\n",
    "assert concat_ints([0, 1, 2]) == 12\n",
    "assert concat_ints([2, 1, 0]) == 210"
   ]
  },
  {
   "cell_type": "code",
   "execution_count": 4,
   "id": "1b546161",
   "metadata": {},
   "outputs": [],
   "source": [
    "def divisibility(n):\n",
    "    stringnum = str(n)\n",
    "    if int(stringnum[1:4]) % 2 == 0:\n",
    "        if int(stringnum[2:5]) % 3 == 0:\n",
    "            if int(stringnum[3:6]) % 5 == 0:\n",
    "                if int(stringnum[4:7]) % 7 == 0:\n",
    "                    if int(stringnum[5:8]) % 11 == 0:\n",
    "                        if int(stringnum[6:9]) % 13 == 0:\n",
    "                            if int(stringnum[7:10]) % 17 == 0:\n",
    "                                return True\n",
    "    return False\n",
    "\n",
    "assert divisibility(1406357289)\n",
    "assert not divisibility(1234567890)"
   ]
  },
  {
   "cell_type": "code",
   "execution_count": 5,
   "id": "b0c1245a",
   "metadata": {},
   "outputs": [],
   "source": [
    "def solution():\n",
    "    s = 0 # sum\n",
    "    for n in [concat_ints(permutation) for permutation in permutations(range(10)) if permutation[0] != 0]:\n",
    "        if divisibility(n):\n",
    "            s += n\n",
    "    return s"
   ]
  },
  {
   "cell_type": "code",
   "execution_count": 6,
   "id": "dda37e25",
   "metadata": {},
   "outputs": [
    {
     "data": {
      "text/plain": [
       "16695334890"
      ]
     },
     "execution_count": 6,
     "metadata": {},
     "output_type": "execute_result"
    }
   ],
   "source": [
    "# answer\n",
    "solution()"
   ]
  },
  {
   "cell_type": "code",
   "execution_count": 7,
   "id": "ece4e512",
   "metadata": {},
   "outputs": [
    {
     "name": "stdout",
     "output_type": "stream",
     "text": [
      "3.38 s ± 25.3 ms per loop (mean ± std. dev. of 7 runs, 1 loop each)\n"
     ]
    }
   ],
   "source": [
    "# benchmark\n",
    "%timeit solution()"
   ]
  },
  {
   "cell_type": "markdown",
   "id": "c951db38",
   "metadata": {},
   "source": [
    "### Save benchmark"
   ]
  },
  {
   "cell_type": "code",
   "execution_count": 8,
   "id": "f00e115f",
   "metadata": {},
   "outputs": [
    {
     "name": "stdout",
     "output_type": "stream",
     "text": [
      "3.36 s ± 11.2 ms per loop (mean ± std. dev. of 7 runs, 1 loop each)\n"
     ]
    }
   ],
   "source": [
    "bm = %timeit -o solution()\n",
    "import euler\n",
    "euler.save_benchmark(43, bm)"
   ]
  }
 ],
 "metadata": {
  "kernelspec": {
   "display_name": "datascience",
   "language": "python",
   "name": "python3"
  },
  "language_info": {
   "codemirror_mode": {
    "name": "ipython",
    "version": 3
   },
   "file_extension": ".py",
   "mimetype": "text/x-python",
   "name": "python",
   "nbconvert_exporter": "python",
   "pygments_lexer": "ipython3",
   "version": "3.11.10"
  }
 },
 "nbformat": 4,
 "nbformat_minor": 5
}
