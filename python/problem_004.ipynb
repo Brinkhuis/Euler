{
 "cells": [
  {
   "cell_type": "markdown",
   "id": "c6e2ad94-1596-4b05-a508-e71eeba93df9",
   "metadata": {},
   "source": [
    "# Problem 4\n",
    "https://projecteuler.net/problem=4"
   ]
  },
  {
   "cell_type": "code",
   "execution_count": 1,
   "id": "5891be24",
   "metadata": {},
   "outputs": [
    {
     "name": "stdout",
     "output_type": "stream",
     "text": [
      "Python v3.11.10\n"
     ]
    }
   ],
   "source": [
    "print('Python v{}'.format(__import__('sys').version.split()[0]))"
   ]
  },
  {
   "cell_type": "code",
   "execution_count": 2,
   "id": "0fcdc37f",
   "metadata": {},
   "outputs": [],
   "source": [
    "import euler"
   ]
  },
  {
   "cell_type": "markdown",
   "id": "9e370dc7",
   "metadata": {},
   "source": [
    "### Solution 1 (list)"
   ]
  },
  {
   "cell_type": "code",
   "execution_count": 3,
   "id": "cd0ba455",
   "metadata": {},
   "outputs": [
    {
     "data": {
      "text/plain": [
       "906609"
      ]
     },
     "execution_count": 3,
     "metadata": {},
     "output_type": "execute_result"
    }
   ],
   "source": [
    "# answer\n",
    "def largest_palindrome_product(digits):\n",
    "    lo, hi = 10**(digits-1), (10**digits)-1\n",
    "    r = range(lo, hi+1)\n",
    "    palindrome_products = []\n",
    "    for n in r:\n",
    "        for m in r:\n",
    "            p = n*m # product\n",
    "            if str(p) == str(p)[::-1]:\n",
    "                palindrome_products.append(p)\n",
    "    return max(palindrome_products)\n",
    "\n",
    "largest_palindrome_product(3)"
   ]
  },
  {
   "cell_type": "code",
   "execution_count": 4,
   "id": "c01d745f",
   "metadata": {},
   "outputs": [
    {
     "name": "stdout",
     "output_type": "stream",
     "text": [
      "138 ms ± 5.32 ms per loop (mean ± std. dev. of 7 runs, 10 loops each)\n"
     ]
    }
   ],
   "source": [
    "# benchmark\n",
    "b = %timeit -o largest_palindrome_product(3)\n",
    "euler.save_benchmark(4, b)"
   ]
  },
  {
   "cell_type": "markdown",
   "id": "f3981c44",
   "metadata": {},
   "source": [
    "### Solution 2 (no list)"
   ]
  },
  {
   "cell_type": "code",
   "execution_count": 5,
   "id": "7fcca0bb",
   "metadata": {},
   "outputs": [
    {
     "data": {
      "text/plain": [
       "906609"
      ]
     },
     "execution_count": 5,
     "metadata": {},
     "output_type": "execute_result"
    }
   ],
   "source": [
    "# answer\n",
    "def largest_palindrome_product(digits):\n",
    "    lo, hi = 10**(digits-1), (10**digits)-1\n",
    "    r = range(lo, hi+1)\n",
    "    lpp = 0 # largest palindrome product\n",
    "    for n in r:\n",
    "        for m in r:\n",
    "            p = n*m # product\n",
    "            if str(p) == str(p)[::-1] and p > lpp:\n",
    "                lpp = p\n",
    "    return lpp\n",
    "\n",
    "largest_palindrome_product(3)"
   ]
  },
  {
   "cell_type": "code",
   "execution_count": 6,
   "id": "34e30dde",
   "metadata": {},
   "outputs": [
    {
     "name": "stdout",
     "output_type": "stream",
     "text": [
      "134 ms ± 5.38 ms per loop (mean ± std. dev. of 7 runs, 10 loops each)\n"
     ]
    }
   ],
   "source": [
    "# benchmark\n",
    "b = %timeit -o largest_palindrome_product(3)\n",
    "euler.save_benchmark(4, b)"
   ]
  }
 ],
 "metadata": {
  "kernelspec": {
   "display_name": "datascience",
   "language": "python",
   "name": "python3"
  },
  "language_info": {
   "codemirror_mode": {
    "name": "ipython",
    "version": 3
   },
   "file_extension": ".py",
   "mimetype": "text/x-python",
   "name": "python",
   "nbconvert_exporter": "python",
   "pygments_lexer": "ipython3",
   "version": "3.11.10"
  }
 },
 "nbformat": 4,
 "nbformat_minor": 5
}
