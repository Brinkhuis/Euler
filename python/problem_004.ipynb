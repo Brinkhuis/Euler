{
 "cells": [
  {
   "cell_type": "markdown",
   "id": "c6e2ad94-1596-4b05-a508-e71eeba93df9",
   "metadata": {},
   "source": [
    "## Problem 4\n",
    "https://projecteuler.net/problem=4"
   ]
  },
  {
   "cell_type": "code",
   "execution_count": 1,
   "id": "81c2912c",
   "metadata": {},
   "outputs": [],
   "source": [
    "def largest_palindrome_product(digits):\n",
    "    low = 10**(digits-1)\n",
    "    high = (10**digits)-1\n",
    "    r = range(low, high+1)\n",
    "    palindrome_products = []\n",
    "    for n in r:\n",
    "        for m in r:\n",
    "            if str(n*m) == str(n*m)[::-1]:\n",
    "                palindrome_products.append(n*m)\n",
    "    return max(palindrome_products)"
   ]
  },
  {
   "cell_type": "code",
   "execution_count": 2,
   "id": "9d585b52",
   "metadata": {},
   "outputs": [],
   "source": [
    "assert largest_palindrome_product(digits=2) == 9009"
   ]
  },
  {
   "cell_type": "code",
   "execution_count": 3,
   "id": "23233c14",
   "metadata": {},
   "outputs": [
    {
     "data": {
      "text/plain": [
       "906609"
      ]
     },
     "execution_count": 3,
     "metadata": {},
     "output_type": "execute_result"
    }
   ],
   "source": [
    "largest_palindrome_product(digits=3)"
   ]
  },
  {
   "cell_type": "code",
   "execution_count": 4,
   "id": "7d2ebc28",
   "metadata": {},
   "outputs": [
    {
     "name": "stdout",
     "output_type": "stream",
     "text": [
      "118 ms ± 4.46 ms per loop (mean ± std. dev. of 7 runs, 10 loops each)\n"
     ]
    }
   ],
   "source": [
    "%%timeit\n",
    "largest_palindrome_product(digits=3)"
   ]
  }
 ],
 "metadata": {
  "kernelspec": {
   "display_name": "datascience",
   "language": "python",
   "name": "python3"
  },
  "language_info": {
   "codemirror_mode": {
    "name": "ipython",
    "version": 3
   },
   "file_extension": ".py",
   "mimetype": "text/x-python",
   "name": "python",
   "nbconvert_exporter": "python",
   "pygments_lexer": "ipython3",
   "version": "3.11.9"
  }
 },
 "nbformat": 4,
 "nbformat_minor": 5
}
