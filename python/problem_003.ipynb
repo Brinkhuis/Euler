{
 "cells": [
  {
   "cell_type": "markdown",
   "id": "c6e2ad94-1596-4b05-a508-e71eeba93df9",
   "metadata": {},
   "source": [
    "## Problem 3\n",
    "https://projecteuler.net/problem=3"
   ]
  },
  {
   "cell_type": "markdown",
   "id": "6d89e8e7",
   "metadata": {},
   "source": [
    "Sources:\n",
    "- Prime Generator: https://code.activestate.com/recipes/117119\n",
    "- Prime Factorization: https://www.cuemath.com/numbers/prime-factorization  "
   ]
  },
  {
   "cell_type": "code",
   "execution_count": 1,
   "id": "81c2912c",
   "metadata": {},
   "outputs": [],
   "source": [
    "def eratosthenes():\n",
    "\t'''Yields the sequence of prime numbers via the Sieve of Eratosthenes.'''\n",
    "\tD = {}  # map composite integers to primes witnessing their compositeness\n",
    "\tq = 2   # first integer to test for primality\n",
    "\twhile 1:\n",
    "\t\tif q not in D:\n",
    "\t\t\tyield q        # not marked composite, must be prime\n",
    "\t\t\tD[q*q] = [q]   # first multiple of q not already marked\n",
    "\t\telse:\n",
    "\t\t\tfor p in D[q]: # move each witness to its next multiple\n",
    "\t\t\t\tD.setdefault(p+q,[]).append(p)\n",
    "\t\t\tdel D[q]       # no longer need D[q], free memory\n",
    "\t\tq += 1"
   ]
  },
  {
   "cell_type": "code",
   "execution_count": 2,
   "id": "02c9b941",
   "metadata": {},
   "outputs": [],
   "source": [
    "def prime_factorization(n):\n",
    "    factors = []\n",
    "    primes = eratosthenes()\n",
    "    while n != 1:\n",
    "        prime = next(primes)\n",
    "        while n%prime == 0:\n",
    "            factors.append(prime)\n",
    "            n = int(n/prime)\n",
    "    return factors"
   ]
  },
  {
   "cell_type": "code",
   "execution_count": 3,
   "id": "9d585b52",
   "metadata": {},
   "outputs": [],
   "source": [
    "assert prime_factorization(13195) == [5, 7, 13, 29]"
   ]
  },
  {
   "cell_type": "code",
   "execution_count": 4,
   "id": "7d2ebc28",
   "metadata": {},
   "outputs": [
    {
     "data": {
      "text/plain": [
       "6857"
      ]
     },
     "execution_count": 4,
     "metadata": {},
     "output_type": "execute_result"
    }
   ],
   "source": [
    "max(prime_factorization(600851475143))"
   ]
  },
  {
   "cell_type": "code",
   "execution_count": 5,
   "id": "98c18397",
   "metadata": {},
   "outputs": [
    {
     "name": "stdout",
     "output_type": "stream",
     "text": [
      "1.4 ms ± 6.85 μs per loop (mean ± std. dev. of 7 runs, 100 loops each)\n"
     ]
    }
   ],
   "source": [
    "%timeit max(prime_factorization(600851475143))"
   ]
  }
 ],
 "metadata": {
  "kernelspec": {
   "display_name": "datascience",
   "language": "python",
   "name": "python3"
  },
  "language_info": {
   "codemirror_mode": {
    "name": "ipython",
    "version": 3
   },
   "file_extension": ".py",
   "mimetype": "text/x-python",
   "name": "python",
   "nbconvert_exporter": "python",
   "pygments_lexer": "ipython3",
   "version": "3.11.9"
  }
 },
 "nbformat": 4,
 "nbformat_minor": 5
}
