{
 "cells": [
  {
   "cell_type": "markdown",
   "id": "c6e2ad94-1596-4b05-a508-e71eeba93df9",
   "metadata": {},
   "source": [
    "## Problem 3\n",
    "https://projecteuler.net/problem=3"
   ]
  },
  {
   "cell_type": "code",
   "execution_count": 1,
   "id": "4a05ecfc",
   "metadata": {},
   "outputs": [
    {
     "name": "stdout",
     "output_type": "stream",
     "text": [
      "Python v3.11.10\n"
     ]
    }
   ],
   "source": [
    "print('Python v{}'.format(__import__('sys').version.split()[0]))"
   ]
  },
  {
   "cell_type": "code",
   "execution_count": 2,
   "id": "6ee77be3",
   "metadata": {},
   "outputs": [],
   "source": [
    "import sympy\n",
    "import euler"
   ]
  },
  {
   "cell_type": "markdown",
   "id": "ce2da826",
   "metadata": {},
   "source": [
    "### Solution 1 (sympy)"
   ]
  },
  {
   "cell_type": "code",
   "execution_count": 3,
   "id": "0d93ff13",
   "metadata": {},
   "outputs": [
    {
     "data": {
      "text/plain": [
       "6857"
      ]
     },
     "execution_count": 3,
     "metadata": {},
     "output_type": "execute_result"
    }
   ],
   "source": [
    "# answer\n",
    "max(sympy.primefactors(600851475143))"
   ]
  },
  {
   "cell_type": "code",
   "execution_count": 4,
   "id": "eea63904",
   "metadata": {},
   "outputs": [
    {
     "name": "stdout",
     "output_type": "stream",
     "text": [
      "37.1 μs ± 773 ns per loop (mean ± std. dev. of 7 runs, 10,000 loops each)\n"
     ]
    }
   ],
   "source": [
    "# benchmark\n",
    "b = %timeit -o max(sympy.primefactors(600851475143))\n",
    "euler.save_benchmark(3, b)"
   ]
  },
  {
   "cell_type": "markdown",
   "id": "02909f54",
   "metadata": {},
   "source": [
    "### Solution 2 (sieve of eratosthenes)"
   ]
  },
  {
   "cell_type": "code",
   "execution_count": 5,
   "id": "81c2912c",
   "metadata": {},
   "outputs": [],
   "source": [
    "def eratosthenes():\n",
    "\t'''Yields the sequence of prime numbers via the Sieve of Eratosthenes.'''\n",
    "\tD = {}  # map composite integers to primes witnessing their compositeness\n",
    "\tq = 2   # first integer to test for primality\n",
    "\twhile 1:\n",
    "\t\tif q not in D:\n",
    "\t\t\tyield q        # not marked composite, must be prime\n",
    "\t\t\tD[q*q] = [q]   # first multiple of q not already marked\n",
    "\t\telse:\n",
    "\t\t\tfor p in D[q]: # move each witness to its next multiple\n",
    "\t\t\t\tD.setdefault(p+q,[]).append(p)\n",
    "\t\t\tdel D[q]       # no longer need D[q], free memory\n",
    "\t\tq += 1"
   ]
  },
  {
   "cell_type": "code",
   "execution_count": 6,
   "id": "02c9b941",
   "metadata": {},
   "outputs": [],
   "source": [
    "def prime_factorization(n):\n",
    "    factors = []\n",
    "    primes = eratosthenes()\n",
    "    while n != 1:\n",
    "        prime = next(primes)\n",
    "        while n%prime == 0:\n",
    "            factors.append(prime)\n",
    "            n = int(n/prime)\n",
    "    return factors"
   ]
  },
  {
   "cell_type": "code",
   "execution_count": 7,
   "id": "7d2ebc28",
   "metadata": {},
   "outputs": [
    {
     "data": {
      "text/plain": [
       "6857"
      ]
     },
     "execution_count": 7,
     "metadata": {},
     "output_type": "execute_result"
    }
   ],
   "source": [
    "# answer\n",
    "max(prime_factorization(600851475143))"
   ]
  },
  {
   "cell_type": "code",
   "execution_count": 8,
   "id": "98c18397",
   "metadata": {},
   "outputs": [
    {
     "name": "stdout",
     "output_type": "stream",
     "text": [
      "1.39 ms ± 5.76 μs per loop (mean ± std. dev. of 7 runs, 1,000 loops each)\n"
     ]
    }
   ],
   "source": [
    "# benchmark\n",
    "b = %timeit -o max(prime_factorization(600851475143))\n",
    "euler.save_benchmark(3, b)"
   ]
  }
 ],
 "metadata": {
  "kernelspec": {
   "display_name": "datascience",
   "language": "python",
   "name": "python3"
  },
  "language_info": {
   "codemirror_mode": {
    "name": "ipython",
    "version": 3
   },
   "file_extension": ".py",
   "mimetype": "text/x-python",
   "name": "python",
   "nbconvert_exporter": "python",
   "pygments_lexer": "ipython3",
   "version": "3.11.10"
  }
 },
 "nbformat": 4,
 "nbformat_minor": 5
}
