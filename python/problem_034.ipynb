{
 "cells": [
  {
   "cell_type": "markdown",
   "id": "c6e2ad94-1596-4b05-a508-e71eeba93df9",
   "metadata": {},
   "source": [
    "## Problem 34\n",
    "https://projecteuler.net/problem=34"
   ]
  },
  {
   "cell_type": "code",
   "execution_count": 1,
   "id": "b658c7d3",
   "metadata": {},
   "outputs": [],
   "source": [
    "# Factorial\n",
    "def factorial(n):\n",
    "    fac = 1\n",
    "    for i in range(1, n+1):\n",
    "        fac *= i\n",
    "    return fac"
   ]
  },
  {
   "cell_type": "code",
   "execution_count": 2,
   "id": "328c49e0",
   "metadata": {},
   "outputs": [
    {
     "data": {
      "text/plain": [
       "True"
      ]
     },
     "execution_count": 2,
     "metadata": {},
     "output_type": "execute_result"
    }
   ],
   "source": [
    "# Test run\n",
    "factorial(5) == 1 * 2 * 3 * 4 * 5"
   ]
  },
  {
   "cell_type": "code",
   "execution_count": 3,
   "id": "54982c72",
   "metadata": {},
   "outputs": [],
   "source": [
    "# Digit Factorials\n",
    "def digit_factorials(numbers):\n",
    "    results = []\n",
    "    for x in numbers:\n",
    "        value = 0\n",
    "        s = str(x)\n",
    "        for i in s:\n",
    "            n = int(i)\n",
    "            value += factorial(n)\n",
    "        if x == value:\n",
    "            results.append(value)\n",
    "    return results"
   ]
  },
  {
   "cell_type": "code",
   "execution_count": 4,
   "id": "ca799368",
   "metadata": {},
   "outputs": [
    {
     "data": {
      "text/plain": [
       "True"
      ]
     },
     "execution_count": 4,
     "metadata": {},
     "output_type": "execute_result"
    }
   ],
   "source": [
    "# Test run\n",
    "sum(digit_factorials([145])) == 145"
   ]
  },
  {
   "cell_type": "code",
   "execution_count": 5,
   "id": "49ae927c",
   "metadata": {},
   "outputs": [
    {
     "data": {
      "text/plain": [
       "40730"
      ]
     },
     "execution_count": 5,
     "metadata": {},
     "output_type": "execute_result"
    }
   ],
   "source": [
    "# Answer\n",
    "numbers = range(3, 1_000_000)\n",
    "sum(digit_factorials(numbers))"
   ]
  }
 ],
 "metadata": {
  "kernelspec": {
   "display_name": "datascience",
   "language": "python",
   "name": "python3"
  },
  "language_info": {
   "codemirror_mode": {
    "name": "ipython",
    "version": 3
   },
   "file_extension": ".py",
   "mimetype": "text/x-python",
   "name": "python",
   "nbconvert_exporter": "python",
   "pygments_lexer": "ipython3",
   "version": "3.11.9"
  }
 },
 "nbformat": 4,
 "nbformat_minor": 5
}
