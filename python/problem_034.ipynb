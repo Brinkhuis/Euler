{
 "cells": [
  {
   "cell_type": "markdown",
   "id": "c6e2ad94-1596-4b05-a508-e71eeba93df9",
   "metadata": {},
   "source": [
    "## Problem 34\n",
    "https://projecteuler.net/problem=34"
   ]
  },
  {
   "cell_type": "code",
   "execution_count": 1,
   "id": "0ed3f181",
   "metadata": {},
   "outputs": [],
   "source": [
    "import euler"
   ]
  },
  {
   "cell_type": "code",
   "execution_count": 2,
   "id": "b658c7d3",
   "metadata": {},
   "outputs": [],
   "source": [
    "def factorial(n):\n",
    "    fac = 1\n",
    "    for i in range(1, n+1):\n",
    "        fac *= i\n",
    "    return fac"
   ]
  },
  {
   "cell_type": "code",
   "execution_count": 3,
   "id": "328c49e0",
   "metadata": {},
   "outputs": [],
   "source": [
    "assert factorial(5) == 1 * 2 * 3 * 4 * 5"
   ]
  },
  {
   "cell_type": "code",
   "execution_count": 4,
   "id": "54982c72",
   "metadata": {},
   "outputs": [],
   "source": [
    "def digit_factorials(numbers):\n",
    "    results = []\n",
    "    for x in numbers:\n",
    "        value = 0\n",
    "        s = str(x)\n",
    "        for i in s:\n",
    "            n = int(i)\n",
    "            value += factorial(n)\n",
    "        if x == value:\n",
    "            results.append(value)\n",
    "    return results"
   ]
  },
  {
   "cell_type": "code",
   "execution_count": 5,
   "id": "ca799368",
   "metadata": {},
   "outputs": [],
   "source": [
    "assert sum(digit_factorials([145])) == 145"
   ]
  },
  {
   "cell_type": "code",
   "execution_count": 6,
   "id": "49ae927c",
   "metadata": {},
   "outputs": [
    {
     "data": {
      "text/plain": [
       "40730"
      ]
     },
     "execution_count": 6,
     "metadata": {},
     "output_type": "execute_result"
    }
   ],
   "source": [
    "sum(digit_factorials(range(3, 1_000_000)))"
   ]
  },
  {
   "cell_type": "code",
   "execution_count": 7,
   "id": "13c232ba",
   "metadata": {},
   "outputs": [
    {
     "name": "stdout",
     "output_type": "stream",
     "text": [
      "2.06 s ± 48.4 ms per loop (mean ± std. dev. of 7 runs, 1 loop each)\n"
     ]
    }
   ],
   "source": [
    "t = %timeit -o sum(digit_factorials(range(3, 1_000_000)))\n",
    "euler.save_benchmark(34, t)"
   ]
  }
 ],
 "metadata": {
  "kernelspec": {
   "display_name": "datascience",
   "language": "python",
   "name": "python3"
  },
  "language_info": {
   "codemirror_mode": {
    "name": "ipython",
    "version": 3
   },
   "file_extension": ".py",
   "mimetype": "text/x-python",
   "name": "python",
   "nbconvert_exporter": "python",
   "pygments_lexer": "ipython3",
   "version": "3.11.9"
  }
 },
 "nbformat": 4,
 "nbformat_minor": 5
}
