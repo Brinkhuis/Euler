{
 "cells": [
  {
   "cell_type": "markdown",
   "id": "c6e2ad94-1596-4b05-a508-e71eeba93df9",
   "metadata": {},
   "source": [
    "## Problem 40\n",
    "https://projecteuler.net/problem=40"
   ]
  },
  {
   "cell_type": "code",
   "execution_count": 1,
   "id": "68f3f050",
   "metadata": {},
   "outputs": [],
   "source": [
    "import euler"
   ]
  },
  {
   "cell_type": "code",
   "execution_count": 2,
   "id": "d485cb56",
   "metadata": {},
   "outputs": [],
   "source": [
    "def champernowne(n):\n",
    "    \n",
    "    # generate number\n",
    "    number = ''\n",
    "    counter = 0\n",
    "    while len(number) < n:\n",
    "        counter += 1\n",
    "        number += str(counter)\n",
    "    \n",
    "    # product\n",
    "    product = 1\n",
    "    for i in [10**x for x in range(7)]:\n",
    "        product *= int(number[i-1])\n",
    "    \n",
    "    # return answer\n",
    "    return product"
   ]
  },
  {
   "cell_type": "code",
   "execution_count": 3,
   "id": "6319e8a6",
   "metadata": {},
   "outputs": [
    {
     "data": {
      "text/plain": [
       "210"
      ]
     },
     "execution_count": 3,
     "metadata": {},
     "output_type": "execute_result"
    }
   ],
   "source": [
    "champernowne(10**6)"
   ]
  },
  {
   "cell_type": "code",
   "execution_count": 4,
   "id": "7c860257",
   "metadata": {},
   "outputs": [
    {
     "name": "stdout",
     "output_type": "stream",
     "text": [
      "23.2 ms ± 46.2 μs per loop (mean ± std. dev. of 7 runs, 10 loops each)\n"
     ]
    }
   ],
   "source": [
    "t = %timeit -o champernowne(10**6)\n",
    "euler.save_benchmark(40, t)"
   ]
  }
 ],
 "metadata": {
  "kernelspec": {
   "display_name": "datascience",
   "language": "python",
   "name": "python3"
  },
  "language_info": {
   "codemirror_mode": {
    "name": "ipython",
    "version": 3
   },
   "file_extension": ".py",
   "mimetype": "text/x-python",
   "name": "python",
   "nbconvert_exporter": "python",
   "pygments_lexer": "ipython3",
   "version": "3.11.9"
  }
 },
 "nbformat": 4,
 "nbformat_minor": 5
}
