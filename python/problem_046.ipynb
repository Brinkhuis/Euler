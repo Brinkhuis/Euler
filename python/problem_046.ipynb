{
 "cells": [
  {
   "cell_type": "markdown",
   "id": "c6e2ad94-1596-4b05-a508-e71eeba93df9",
   "metadata": {},
   "source": [
    "# Problem 46\n",
    "https://projecteuler.net/problem=46"
   ]
  },
  {
   "cell_type": "code",
   "execution_count": 1,
   "id": "f4aaec09",
   "metadata": {},
   "outputs": [
    {
     "name": "stdout",
     "output_type": "stream",
     "text": [
      "Python v3.11.10\n"
     ]
    }
   ],
   "source": [
    "print('Python v{}'.format(__import__('sys').version.split()[0]))"
   ]
  },
  {
   "cell_type": "markdown",
   "id": "818b36ed",
   "metadata": {},
   "source": [
    "### Solution"
   ]
  },
  {
   "cell_type": "code",
   "execution_count": 2,
   "id": "6ee27726",
   "metadata": {},
   "outputs": [],
   "source": [
    "import math\n",
    "import sympy"
   ]
  },
  {
   "cell_type": "code",
   "execution_count": 3,
   "id": "6665944a",
   "metadata": {},
   "outputs": [],
   "source": [
    "def square_numbers(high, low=1):\n",
    "    \"\"\"\n",
    "    square_numbers(25) == [1, 4, 9, 16, 25]\n",
    "    square_numbers(25, 9) == [9, 16, 25]\n",
    "    square_numbers(25, 10) == [16, 25]\n",
    "    \"\"\"\n",
    "    squares = []\n",
    "    n = math.ceil(low**.5)\n",
    "    while n**2 <= high:\n",
    "        squares.append(n**2)\n",
    "        n += 1\n",
    "    return squares\n",
    "\n",
    "assert square_numbers(25) == [1, 4, 9, 16, 25]\n",
    "assert square_numbers(25, 9) == [9, 16, 25]\n",
    "assert square_numbers(25, 10) == [16, 25]"
   ]
  },
  {
   "cell_type": "code",
   "execution_count": 4,
   "id": "0d5962ce",
   "metadata": {},
   "outputs": [],
   "source": [
    "def is_goldbach(n):\n",
    "    \"\"\"\n",
    "    is_goldbach(7) == True\n",
    "    is_goldbach(8) == False\n",
    "    is_goldbach(9) == True\n",
    "    \"\"\"\n",
    "    if n % 2 != 0:\n",
    "        squares = square_numbers(math.ceil(n/2))\n",
    "        return any([sympy.isprime(n-2*s) for s in squares])\n",
    "    else:\n",
    "        return False\n",
    "\n",
    "assert is_goldbach(7)\n",
    "assert not is_goldbach(8)\n",
    "assert is_goldbach(9)"
   ]
  },
  {
   "cell_type": "code",
   "execution_count": 5,
   "id": "5f496982",
   "metadata": {},
   "outputs": [],
   "source": [
    "def solution(n=3):\n",
    "    while is_goldbach(n) or sympy.isprime(n):\n",
    "        n += 2 # odds only\n",
    "    return n"
   ]
  },
  {
   "cell_type": "code",
   "execution_count": 6,
   "id": "46be4c73",
   "metadata": {},
   "outputs": [
    {
     "data": {
      "text/plain": [
       "5777"
      ]
     },
     "execution_count": 6,
     "metadata": {},
     "output_type": "execute_result"
    }
   ],
   "source": [
    "# answer\n",
    "solution()"
   ]
  },
  {
   "cell_type": "code",
   "execution_count": 7,
   "id": "ae1b890a",
   "metadata": {},
   "outputs": [
    {
     "name": "stdout",
     "output_type": "stream",
     "text": [
      "41.1 ms ± 1.48 ms per loop (mean ± std. dev. of 7 runs, 10 loops each)\n"
     ]
    }
   ],
   "source": [
    "# benchmark\n",
    "%timeit solution()"
   ]
  },
  {
   "cell_type": "markdown",
   "id": "bddc032d",
   "metadata": {},
   "source": [
    "### Save benchmark"
   ]
  },
  {
   "cell_type": "code",
   "execution_count": 8,
   "id": "a97141ef",
   "metadata": {},
   "outputs": [
    {
     "name": "stdout",
     "output_type": "stream",
     "text": [
      "40.5 ms ± 411 μs per loop (mean ± std. dev. of 7 runs, 10 loops each)\n"
     ]
    }
   ],
   "source": [
    "bm = %timeit -o solution()\n",
    "import euler\n",
    "euler.save_benchmark(46, bm)"
   ]
  }
 ],
 "metadata": {
  "kernelspec": {
   "display_name": "datascience",
   "language": "python",
   "name": "python3"
  },
  "language_info": {
   "codemirror_mode": {
    "name": "ipython",
    "version": 3
   },
   "file_extension": ".py",
   "mimetype": "text/x-python",
   "name": "python",
   "nbconvert_exporter": "python",
   "pygments_lexer": "ipython3",
   "version": "3.11.10"
  }
 },
 "nbformat": 4,
 "nbformat_minor": 5
}
