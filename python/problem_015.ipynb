{
 "cells": [
  {
   "cell_type": "markdown",
   "id": "c6e2ad94-1596-4b05-a508-e71eeba93df9",
   "metadata": {},
   "source": [
    "# Problem 15\n",
    "https://projecteuler.net/problem=15"
   ]
  },
  {
   "cell_type": "code",
   "execution_count": 1,
   "id": "8d163696",
   "metadata": {},
   "outputs": [
    {
     "name": "stdout",
     "output_type": "stream",
     "text": [
      "Python v3.11.10\n"
     ]
    }
   ],
   "source": [
    "print('Python v{}'.format(__import__('sys').version.split()[0]))"
   ]
  },
  {
   "cell_type": "markdown",
   "id": "0d6ac255",
   "metadata": {},
   "source": [
    "* Binominal problem (2 options): _right_ or _down_\n",
    "* n × n matrix: 2n sequential steps from _top left_ to _bottom right_\n",
    "* 20 × 20 matrix = 2 × 20 = 40 steps: 20× _right_ and 20× _down_"
   ]
  },
  {
   "cell_type": "markdown",
   "id": "e3a13fa4",
   "metadata": {},
   "source": [
    "$$ P = \\left( \\frac{n}{k} \\right) = \\frac{n!}{\\left( n - k \\right)! \\cdot k!} $$"
   ]
  },
  {
   "cell_type": "markdown",
   "id": "543921e3",
   "metadata": {},
   "source": [
    "$$ P = \\left( \\frac{40}{20} \\right) = \\frac{40!}{\\left( 40 - 20 \\right)! \\cdot 20!} $$"
   ]
  },
  {
   "cell_type": "markdown",
   "id": "a68b9435",
   "metadata": {},
   "source": [
    "### Solution"
   ]
  },
  {
   "cell_type": "code",
   "execution_count": 2,
   "id": "ea3e7747",
   "metadata": {},
   "outputs": [],
   "source": [
    "def factorial(n):\n",
    "    f = 1\n",
    "    for i in range(2, n+1):\n",
    "        f *= i\n",
    "    return f\n",
    "\n",
    "assert factorial(5) == 120"
   ]
  },
  {
   "cell_type": "code",
   "execution_count": 3,
   "id": "9242ed03",
   "metadata": {},
   "outputs": [
    {
     "data": {
      "text/plain": [
       "120"
      ]
     },
     "execution_count": 3,
     "metadata": {},
     "output_type": "execute_result"
    }
   ],
   "source": [
    "factorial(5)"
   ]
  },
  {
   "cell_type": "code",
   "execution_count": 4,
   "id": "9d7f9afa",
   "metadata": {},
   "outputs": [],
   "source": [
    "def P(n, k):\n",
    "    return int(factorial(n)/(factorial(n-k)*factorial(k)))"
   ]
  },
  {
   "cell_type": "markdown",
   "id": "ed66a24d",
   "metadata": {},
   "source": [
    "$$ P = \\left( \\frac{4}{2} \\right) = 6$$"
   ]
  },
  {
   "cell_type": "code",
   "execution_count": 5,
   "id": "264f6ae4",
   "metadata": {},
   "outputs": [],
   "source": [
    "assert P(4, 2) == 6"
   ]
  },
  {
   "cell_type": "code",
   "execution_count": 6,
   "id": "6d4fcf6d",
   "metadata": {},
   "outputs": [
    {
     "data": {
      "text/plain": [
       "137846528820"
      ]
     },
     "execution_count": 6,
     "metadata": {},
     "output_type": "execute_result"
    }
   ],
   "source": [
    "# answer\n",
    "P(40, 20)"
   ]
  },
  {
   "cell_type": "code",
   "execution_count": 7,
   "id": "1eec2363",
   "metadata": {},
   "outputs": [
    {
     "name": "stdout",
     "output_type": "stream",
     "text": [
      "2.27 μs ± 42.9 ns per loop (mean ± std. dev. of 7 runs, 100,000 loops each)\n"
     ]
    }
   ],
   "source": [
    "# benchmark\n",
    "%timeit P(40, 20)"
   ]
  },
  {
   "cell_type": "markdown",
   "id": "0d3f20e7",
   "metadata": {},
   "source": [
    "### Save benchmark"
   ]
  },
  {
   "cell_type": "code",
   "execution_count": 8,
   "id": "6eaee537",
   "metadata": {},
   "outputs": [
    {
     "name": "stdout",
     "output_type": "stream",
     "text": [
      "2.25 μs ± 18.5 ns per loop (mean ± std. dev. of 7 runs, 100,000 loops each)\n"
     ]
    }
   ],
   "source": [
    "bm = %timeit -o P(40, 20)\n",
    "import euler\n",
    "euler.save_benchmark(15, bm)"
   ]
  },
  {
   "cell_type": "markdown",
   "id": "e13a2592",
   "metadata": {},
   "source": [
    "Source:\n",
    "* https://stemhash.com/counting-lattice-paths\n"
   ]
  }
 ],
 "metadata": {
  "kernelspec": {
   "display_name": "datascience",
   "language": "python",
   "name": "python3"
  },
  "language_info": {
   "codemirror_mode": {
    "name": "ipython",
    "version": 3
   },
   "file_extension": ".py",
   "mimetype": "text/x-python",
   "name": "python",
   "nbconvert_exporter": "python",
   "pygments_lexer": "ipython3",
   "version": "3.11.10"
  }
 },
 "nbformat": 4,
 "nbformat_minor": 5
}
