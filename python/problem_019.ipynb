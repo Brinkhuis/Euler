{
 "cells": [
  {
   "cell_type": "markdown",
   "id": "c6e2ad94-1596-4b05-a508-e71eeba93df9",
   "metadata": {},
   "source": [
    "# Problem 19\n",
    "https://projecteuler.net/problem=19"
   ]
  },
  {
   "cell_type": "code",
   "execution_count": 1,
   "id": "9e799b3e",
   "metadata": {},
   "outputs": [
    {
     "name": "stdout",
     "output_type": "stream",
     "text": [
      "Python v3.11.10\n"
     ]
    }
   ],
   "source": [
    "print('Python v{}'.format(__import__('sys').version.split()[0]))"
   ]
  },
  {
   "cell_type": "markdown",
   "id": "90d1c4b1",
   "metadata": {},
   "source": [
    "### Solution 1 (custom function)"
   ]
  },
  {
   "cell_type": "code",
   "execution_count": 2,
   "id": "cb6ec1ea",
   "metadata": {},
   "outputs": [],
   "source": [
    "def leapyear(year):\n",
    "    return (year % 4 == 0) and ((year % 100 != 0) or (year % 400 == 0))"
   ]
  },
  {
   "cell_type": "code",
   "execution_count": 3,
   "id": "caa08c07",
   "metadata": {},
   "outputs": [],
   "source": [
    "def counting_sundays(year_start, year_end):\n",
    "    \n",
    "    day = 1 # 1 Jan 1900 is a monday; 6 days later is a Sunday (day 7). So day%7 == 0 is True for all Sundays.\n",
    "    sunday_count = 0\n",
    "\n",
    "    for year in range(1900, year_end + 1):\n",
    "        if year == year_start:\n",
    "            sunday_count = 0\n",
    "        for month_days in [31, 28, 31, 30, 31, 30, 31, 31, 30, 31, 30, 31]:\n",
    "            day += month_days\n",
    "            if leapyear(year) and month_days == 28:\n",
    "                day += 1\n",
    "            if day % 7 == 0:\n",
    "                sunday_count += 1\n",
    "\n",
    "    return sunday_count"
   ]
  },
  {
   "cell_type": "code",
   "execution_count": 4,
   "id": "e6b927bb",
   "metadata": {},
   "outputs": [
    {
     "data": {
      "text/plain": [
       "171"
      ]
     },
     "execution_count": 4,
     "metadata": {},
     "output_type": "execute_result"
    }
   ],
   "source": [
    "# answer\n",
    "counting_sundays(1901, 2000)"
   ]
  },
  {
   "cell_type": "code",
   "execution_count": 5,
   "id": "0985ef87",
   "metadata": {},
   "outputs": [
    {
     "name": "stdout",
     "output_type": "stream",
     "text": [
      "100 μs ± 160 ns per loop (mean ± std. dev. of 7 runs, 10,000 loops each)\n"
     ]
    }
   ],
   "source": [
    "# benchmark\n",
    "%timeit counting_sundays(1901, 2000)"
   ]
  },
  {
   "cell_type": "markdown",
   "id": "8212d8bd",
   "metadata": {},
   "source": [
    "### Solution 2 (pandas)"
   ]
  },
  {
   "cell_type": "code",
   "execution_count": 6,
   "id": "ef01d238",
   "metadata": {},
   "outputs": [],
   "source": [
    "import pandas as pd"
   ]
  },
  {
   "cell_type": "code",
   "execution_count": 7,
   "id": "c98bb809",
   "metadata": {},
   "outputs": [
    {
     "data": {
      "text/plain": [
       "171"
      ]
     },
     "execution_count": 7,
     "metadata": {},
     "output_type": "execute_result"
    }
   ],
   "source": [
    "# answer\n",
    "dates = pd.date_range(start=\"1901-01-01\", end=\"2000-12-31\")\n",
    "sum([1 for (d, dn) in zip(dates.day.values, dates.day_name()) if d == 1 and dn == \"Sunday\"])"
   ]
  },
  {
   "cell_type": "code",
   "execution_count": 8,
   "id": "2f811648",
   "metadata": {},
   "outputs": [
    {
     "name": "stdout",
     "output_type": "stream",
     "text": [
      "7.59 ms ± 64.5 μs per loop (mean ± std. dev. of 7 runs, 100 loops each)\n"
     ]
    }
   ],
   "source": [
    "# benchmark\n",
    "%timeit sum([1 for (d, dn) in zip(pd.date_range(start=\"1901-01-01\", end=\"2000-12-31\").day.values, pd.date_range(start=\"1901-01-01\", end=\"2000-12-31\").day_name()) if d == 1 and dn == \"Sunday\"])"
   ]
  },
  {
   "cell_type": "markdown",
   "id": "f4ab78ce",
   "metadata": {},
   "source": [
    "### Save benchmark"
   ]
  },
  {
   "cell_type": "code",
   "execution_count": 9,
   "id": "e86968f9",
   "metadata": {},
   "outputs": [
    {
     "name": "stdout",
     "output_type": "stream",
     "text": [
      "104 μs ± 1.77 μs per loop (mean ± std. dev. of 7 runs, 10,000 loops each)\n"
     ]
    }
   ],
   "source": [
    "bm = %timeit -o counting_sundays(1901, 2000)\n",
    "import euler\n",
    "euler.save_benchmark(19, bm)"
   ]
  }
 ],
 "metadata": {
  "kernelspec": {
   "display_name": "datascience",
   "language": "python",
   "name": "python3"
  },
  "language_info": {
   "codemirror_mode": {
    "name": "ipython",
    "version": 3
   },
   "file_extension": ".py",
   "mimetype": "text/x-python",
   "name": "python",
   "nbconvert_exporter": "python",
   "pygments_lexer": "ipython3",
   "version": "3.11.10"
  }
 },
 "nbformat": 4,
 "nbformat_minor": 5
}
