{
 "cells": [
  {
   "cell_type": "markdown",
   "id": "c6e2ad94-1596-4b05-a508-e71eeba93df9",
   "metadata": {},
   "source": [
    "## Problem 19\n",
    "https://projecteuler.net/problem=19"
   ]
  },
  {
   "cell_type": "markdown",
   "id": "90d1c4b1",
   "metadata": {},
   "source": [
    "#### Solution 1 (custom function)"
   ]
  },
  {
   "cell_type": "code",
   "execution_count": 1,
   "id": "cb6ec1ea",
   "metadata": {},
   "outputs": [],
   "source": [
    "def leapyear(year):\n",
    "    return (year % 4 == 0) and ((year % 100 != 0) or (year % 400 == 0))"
   ]
  },
  {
   "cell_type": "code",
   "execution_count": 2,
   "id": "caa08c07",
   "metadata": {},
   "outputs": [],
   "source": [
    "def counting_sundays(year_start, year_end):\n",
    "    \n",
    "    day = 1 # assumed to be a Sunday (not true)\n",
    "    correction = 2 # 1901-01-01 was on a Tuesday\n",
    "    sunday_count = 0\n",
    "\n",
    "    for year in range(year_start, year_end + 1):\n",
    "        for month_days in [31, 28, 31, 30, 31, 30, 31, 31, 30, 31, 30, 31]:\n",
    "            day += month_days\n",
    "            if leapyear(year) and month_days == 28:\n",
    "                day += 1\n",
    "            if day % 7 == 0:\n",
    "                sunday_count += 1\n",
    "\n",
    "    return sunday_count - correction"
   ]
  },
  {
   "cell_type": "code",
   "execution_count": 3,
   "id": "e6b927bb",
   "metadata": {},
   "outputs": [
    {
     "data": {
      "text/plain": [
       "171"
      ]
     },
     "execution_count": 3,
     "metadata": {},
     "output_type": "execute_result"
    }
   ],
   "source": [
    "counting_sundays(1901, 2000)"
   ]
  },
  {
   "cell_type": "code",
   "execution_count": 4,
   "id": "2e84c396",
   "metadata": {},
   "outputs": [
    {
     "name": "stdout",
     "output_type": "stream",
     "text": [
      "99.9 μs ± 2.97 μs per loop (mean ± std. dev. of 7 runs, 10,000 loops each)\n"
     ]
    }
   ],
   "source": [
    "%timeit counting_sundays(1901, 2000)"
   ]
  },
  {
   "cell_type": "markdown",
   "id": "8212d8bd",
   "metadata": {},
   "source": [
    "#### Solution 2 (pandas)"
   ]
  },
  {
   "cell_type": "code",
   "execution_count": 5,
   "id": "ef01d238",
   "metadata": {},
   "outputs": [],
   "source": [
    "import pandas as pd"
   ]
  },
  {
   "cell_type": "code",
   "execution_count": 6,
   "id": "c98bb809",
   "metadata": {},
   "outputs": [
    {
     "data": {
      "text/plain": [
       "171"
      ]
     },
     "execution_count": 6,
     "metadata": {},
     "output_type": "execute_result"
    }
   ],
   "source": [
    "dates = pd.date_range(start=\"1901-01-01\", end=\"2000-12-31\")\n",
    "sum([1 for (d, dn) in zip(dates.day.values, dates.day_name()) if d == 1 and dn == \"Sunday\"])"
   ]
  },
  {
   "cell_type": "code",
   "execution_count": 7,
   "id": "b4c0ca63",
   "metadata": {},
   "outputs": [
    {
     "name": "stdout",
     "output_type": "stream",
     "text": [
      "7.86 ms ± 264 μs per loop (mean ± std. dev. of 7 runs, 100 loops each)\n"
     ]
    }
   ],
   "source": [
    "%%timeit\n",
    "dates = pd.date_range(start=\"1901-01-01\", end=\"2000-12-31\")\n",
    "sum([1 for (d, dn) in zip(dates.day.values, dates.day_name()) if d == 1 and dn == \"Sunday\"])"
   ]
  }
 ],
 "metadata": {
  "kernelspec": {
   "display_name": "datascience",
   "language": "python",
   "name": "python3"
  },
  "language_info": {
   "codemirror_mode": {
    "name": "ipython",
    "version": 3
   },
   "file_extension": ".py",
   "mimetype": "text/x-python",
   "name": "python",
   "nbconvert_exporter": "python",
   "pygments_lexer": "ipython3",
   "version": "3.11.9"
  }
 },
 "nbformat": 4,
 "nbformat_minor": 5
}
