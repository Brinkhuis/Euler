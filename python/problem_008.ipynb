{
 "cells": [
  {
   "cell_type": "markdown",
   "id": "c6e2ad94-1596-4b05-a508-e71eeba93df9",
   "metadata": {},
   "source": [
    "# Problem 8\n",
    "https://projecteuler.net/problem=8"
   ]
  },
  {
   "cell_type": "code",
   "execution_count": 1,
   "id": "36d77a4a",
   "metadata": {},
   "outputs": [
    {
     "name": "stdout",
     "output_type": "stream",
     "text": [
      "Python v3.11.10\n"
     ]
    }
   ],
   "source": [
    "print('Python v{}'.format(__import__('sys').version.split()[0]))"
   ]
  },
  {
   "cell_type": "code",
   "execution_count": 2,
   "id": "baeb3275",
   "metadata": {},
   "outputs": [],
   "source": [
    "f = open(\"../data/0008_series.txt\", \"r\")\n",
    "series = f.readline()\n",
    "f.close()"
   ]
  },
  {
   "cell_type": "markdown",
   "id": "ec34a8b2",
   "metadata": {},
   "source": [
    "### Solution 1 (for loop)"
   ]
  },
  {
   "cell_type": "code",
   "execution_count": 3,
   "id": "e0081fe6",
   "metadata": {},
   "outputs": [],
   "source": [
    "def largest_product_loop(series, digits):\n",
    "    largest = 0\n",
    "    for i in range(len(series)-digits+1):\n",
    "        product = 1\n",
    "        for j in series[i:i+digits]:\n",
    "            product *= int(j)\n",
    "        if product > largest:\n",
    "            largest = product\n",
    "    return largest\n",
    "\n",
    "assert largest_product_loop(series, 4) == 5832"
   ]
  },
  {
   "cell_type": "code",
   "execution_count": 4,
   "id": "191ecc71",
   "metadata": {},
   "outputs": [
    {
     "data": {
      "text/plain": [
       "23514624000"
      ]
     },
     "execution_count": 4,
     "metadata": {},
     "output_type": "execute_result"
    }
   ],
   "source": [
    "# answer\n",
    "largest_product_loop(series, 13)"
   ]
  },
  {
   "cell_type": "code",
   "execution_count": 5,
   "id": "6bf61979",
   "metadata": {},
   "outputs": [
    {
     "name": "stdout",
     "output_type": "stream",
     "text": [
      "926 μs ± 28.3 μs per loop (mean ± std. dev. of 7 runs, 100 loops each)\n"
     ]
    }
   ],
   "source": [
    "# benchmark\n",
    "%timeit largest_product_loop(series, 13)"
   ]
  },
  {
   "cell_type": "markdown",
   "id": "a59fcac9",
   "metadata": {},
   "source": [
    "### Solution 2 (reduce)"
   ]
  },
  {
   "cell_type": "code",
   "execution_count": 6,
   "id": "588c8c17",
   "metadata": {},
   "outputs": [],
   "source": [
    "import functools"
   ]
  },
  {
   "cell_type": "code",
   "execution_count": 7,
   "id": "a55681eb",
   "metadata": {},
   "outputs": [],
   "source": [
    "def mul(a, b): return a * b\n",
    "\n",
    "assert mul(5, 10) == 50"
   ]
  },
  {
   "cell_type": "code",
   "execution_count": 8,
   "id": "4fbe304a",
   "metadata": {},
   "outputs": [],
   "source": [
    "def largest_product_reduce(series, digits):\n",
    "    series = [int(i) for i in series]\n",
    "    largest = 0\n",
    "    for i in range(len(series)-digits+1):\n",
    "        product = functools.reduce(mul, series[i:i+digits])\n",
    "        if product > largest:\n",
    "            largest = product\n",
    "    return largest\n",
    "\n",
    "assert largest_product_reduce(series, 4) == 5832"
   ]
  },
  {
   "cell_type": "code",
   "execution_count": 9,
   "id": "ed55f77c",
   "metadata": {},
   "outputs": [
    {
     "data": {
      "text/plain": [
       "23514624000"
      ]
     },
     "execution_count": 9,
     "metadata": {},
     "output_type": "execute_result"
    }
   ],
   "source": [
    "# answer\n",
    "largest_product_reduce(series, 13)"
   ]
  },
  {
   "cell_type": "code",
   "execution_count": 10,
   "id": "7e92ea51",
   "metadata": {},
   "outputs": [
    {
     "name": "stdout",
     "output_type": "stream",
     "text": [
      "607 μs ± 9.81 μs per loop (mean ± std. dev. of 7 runs, 1,000 loops each)\n"
     ]
    }
   ],
   "source": [
    "# benchmark\n",
    "%timeit largest_product_reduce(series, 13)"
   ]
  },
  {
   "cell_type": "markdown",
   "id": "4863079f",
   "metadata": {},
   "source": [
    "### Solution 3 (oneliner)"
   ]
  },
  {
   "cell_type": "code",
   "execution_count": 11,
   "id": "c941dd90",
   "metadata": {},
   "outputs": [],
   "source": [
    "import functools"
   ]
  },
  {
   "cell_type": "code",
   "execution_count": 12,
   "id": "1cd71e26",
   "metadata": {},
   "outputs": [],
   "source": [
    "def mul(a, b): return a * b\n",
    "\n",
    "assert mul(5, 10) == 50"
   ]
  },
  {
   "cell_type": "code",
   "execution_count": 13,
   "id": "2e31e534",
   "metadata": {},
   "outputs": [
    {
     "data": {
      "text/plain": [
       "23514624000"
      ]
     },
     "execution_count": 13,
     "metadata": {},
     "output_type": "execute_result"
    }
   ],
   "source": [
    "# answer\n",
    "max(functools.reduce(mul, [int(c) for c in series][i:i+13]) for i in range(len(series)-12))"
   ]
  },
  {
   "cell_type": "code",
   "execution_count": 14,
   "id": "9c8c868f",
   "metadata": {},
   "outputs": [
    {
     "name": "stdout",
     "output_type": "stream",
     "text": [
      "59.5 ms ± 4.77 ms per loop (mean ± std. dev. of 7 runs, 10 loops each)\n"
     ]
    }
   ],
   "source": [
    "# benchmark\n",
    "%timeit max(functools.reduce(mul, [int(c) for c in series][i:i+13]) for i in range(len(series)-12))"
   ]
  },
  {
   "cell_type": "markdown",
   "id": "6659ea06",
   "metadata": {},
   "source": [
    "### Save benchmark"
   ]
  },
  {
   "cell_type": "code",
   "execution_count": 15,
   "id": "53aef35e",
   "metadata": {},
   "outputs": [
    {
     "name": "stdout",
     "output_type": "stream",
     "text": [
      "913 μs ± 7.05 μs per loop (mean ± std. dev. of 7 runs, 1,000 loops each)\n"
     ]
    }
   ],
   "source": [
    "bm = %timeit -o largest_product_loop(series, 13)\n",
    "import euler\n",
    "euler.save_benchmark(8, bm)"
   ]
  }
 ],
 "metadata": {
  "kernelspec": {
   "display_name": "datascience",
   "language": "python",
   "name": "python3"
  },
  "language_info": {
   "codemirror_mode": {
    "name": "ipython",
    "version": 3
   },
   "file_extension": ".py",
   "mimetype": "text/x-python",
   "name": "python",
   "nbconvert_exporter": "python",
   "pygments_lexer": "ipython3",
   "version": "3.11.10"
  }
 },
 "nbformat": 4,
 "nbformat_minor": 5
}
