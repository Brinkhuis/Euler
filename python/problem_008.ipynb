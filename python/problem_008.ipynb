{
 "cells": [
  {
   "cell_type": "markdown",
   "id": "c6e2ad94-1596-4b05-a508-e71eeba93df9",
   "metadata": {},
   "source": [
    "## Problem 8\n",
    "https://projecteuler.net/problem=8"
   ]
  },
  {
   "cell_type": "code",
   "execution_count": 1,
   "id": "79869908",
   "metadata": {},
   "outputs": [],
   "source": [
    "series = '7316717653133062491922511967442657474235534919493496983520312774506326239578318016984801869478851843858615607891129494954595017379583319528532088055111254069874715852386305071569329096329522744304355766896648950445244523161731856403098711121722383113622298934233803081353362766142828064444866452387493035890729629049156044077239071381051585930796086670172427121883998797908792274921901699720888093776657273330010533678812202354218097512545405947522435258490771167055601360483958644670632441572215539753697817977846174064955149290862569321978468622482839722413756570560574902614079729686524145351004748216637048440319989000889524345065854122758866688116427171479924442928230863465674813919123162824586178664583591245665294765456828489128831426076900422421902267105562632111110937054421750694165896040807198403850962455444362981230987879927244284909188845801561660979191338754992005240636899125607176060588611646710940507754100225698315520005593572972571636269561882670428252483600823257530420752963450'"
   ]
  },
  {
   "cell_type": "code",
   "execution_count": 2,
   "id": "881d655c",
   "metadata": {},
   "outputs": [],
   "source": [
    "def largest_product(series, digits):\n",
    "    products = []\n",
    "    for i in range(len(series)-digits+1):\n",
    "        product = 1\n",
    "        for j in series[i:i+digits]:\n",
    "            product *= int(j)\n",
    "        products.append(product)\n",
    "    return max(products)"
   ]
  },
  {
   "cell_type": "code",
   "execution_count": 3,
   "id": "41d76f14",
   "metadata": {},
   "outputs": [],
   "source": [
    "assert largest_product(series, 4) == 5832"
   ]
  },
  {
   "cell_type": "code",
   "execution_count": 4,
   "id": "ae7adbca",
   "metadata": {},
   "outputs": [
    {
     "data": {
      "text/plain": [
       "23514624000"
      ]
     },
     "execution_count": 4,
     "metadata": {},
     "output_type": "execute_result"
    }
   ],
   "source": [
    "largest_product(series, 13)"
   ]
  },
  {
   "cell_type": "code",
   "execution_count": 5,
   "id": "c2e9f49a",
   "metadata": {},
   "outputs": [
    {
     "name": "stdout",
     "output_type": "stream",
     "text": [
      "908 μs ± 826 ns per loop (mean ± std. dev. of 7 runs, 1,000 loops each)\n"
     ]
    }
   ],
   "source": [
    "%timeit largest_product(series, 13)"
   ]
  }
 ],
 "metadata": {
  "kernelspec": {
   "display_name": "datascience",
   "language": "python",
   "name": "python3"
  },
  "language_info": {
   "codemirror_mode": {
    "name": "ipython",
    "version": 3
   },
   "file_extension": ".py",
   "mimetype": "text/x-python",
   "name": "python",
   "nbconvert_exporter": "python",
   "pygments_lexer": "ipython3",
   "version": "3.11.9"
  }
 },
 "nbformat": 4,
 "nbformat_minor": 5
}
