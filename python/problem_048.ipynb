{
 "cells": [
  {
   "cell_type": "markdown",
   "id": "c6e2ad94-1596-4b05-a508-e71eeba93df9",
   "metadata": {},
   "source": [
    "# Problem 48\n",
    "https://projecteuler.net/problem=48"
   ]
  },
  {
   "cell_type": "code",
   "execution_count": 1,
   "id": "8a4e0ff1",
   "metadata": {},
   "outputs": [
    {
     "name": "stdout",
     "output_type": "stream",
     "text": [
      "Python v3.11.10\n"
     ]
    }
   ],
   "source": [
    "print('Python v{}'.format(__import__('sys').version.split()[0]))"
   ]
  },
  {
   "cell_type": "markdown",
   "id": "9c110f76",
   "metadata": {},
   "source": [
    "### Solution"
   ]
  },
  {
   "cell_type": "code",
   "execution_count": 2,
   "id": "29f97d68",
   "metadata": {},
   "outputs": [],
   "source": [
    "def sum_self_powers(n):\n",
    "    s = 0\n",
    "    for i in range(1, n+1):\n",
    "        s += i**i\n",
    "    return s\n",
    "\n",
    "assert sum_self_powers(10) == 10405071317"
   ]
  },
  {
   "cell_type": "code",
   "execution_count": 3,
   "id": "9a436e84",
   "metadata": {},
   "outputs": [
    {
     "data": {
      "text/plain": [
       "'9110846700'"
      ]
     },
     "execution_count": 3,
     "metadata": {},
     "output_type": "execute_result"
    }
   ],
   "source": [
    "# answer\n",
    "str(sum_self_powers(1_000))[-10:]"
   ]
  },
  {
   "cell_type": "code",
   "execution_count": 4,
   "id": "fab0e4d9",
   "metadata": {},
   "outputs": [
    {
     "name": "stdout",
     "output_type": "stream",
     "text": [
      "8.45 ms ± 12.4 μs per loop (mean ± std. dev. of 7 runs, 100 loops each)\n"
     ]
    }
   ],
   "source": [
    "# benchmark\n",
    "%timeit str(sum_self_powers(1_000))[-10:]"
   ]
  },
  {
   "cell_type": "markdown",
   "id": "ba156b3f",
   "metadata": {},
   "source": [
    "### Save benchmark"
   ]
  },
  {
   "cell_type": "code",
   "execution_count": 5,
   "id": "41e982dd",
   "metadata": {},
   "outputs": [
    {
     "name": "stdout",
     "output_type": "stream",
     "text": [
      "8.45 ms ± 13.7 μs per loop (mean ± std. dev. of 7 runs, 100 loops each)\n"
     ]
    }
   ],
   "source": [
    "bm = %timeit -o str(sum_self_powers(1_000))[-10:]\n",
    "import euler\n",
    "euler.save_benchmark(48, bm)"
   ]
  }
 ],
 "metadata": {
  "kernelspec": {
   "display_name": "datascience",
   "language": "python",
   "name": "python3"
  },
  "language_info": {
   "codemirror_mode": {
    "name": "ipython",
    "version": 3
   },
   "file_extension": ".py",
   "mimetype": "text/x-python",
   "name": "python",
   "nbconvert_exporter": "python",
   "pygments_lexer": "ipython3",
   "version": "3.11.10"
  }
 },
 "nbformat": 4,
 "nbformat_minor": 5
}
