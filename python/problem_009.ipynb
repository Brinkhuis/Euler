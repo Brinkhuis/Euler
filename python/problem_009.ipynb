{
 "cells": [
  {
   "cell_type": "markdown",
   "id": "c6e2ad94-1596-4b05-a508-e71eeba93df9",
   "metadata": {},
   "source": [
    "##Problem 9\n",
    "https://projecteuler.net/problem=9"
   ]
  },
  {
   "cell_type": "code",
   "execution_count": 1,
   "id": "91ad7a42",
   "metadata": {},
   "outputs": [
    {
     "name": "stdout",
     "output_type": "stream",
     "text": [
      "Python v3.11.10\n"
     ]
    }
   ],
   "source": [
    "print('Python v{}'.format(__import__('sys').version.split()[0]))"
   ]
  },
  {
   "cell_type": "markdown",
   "id": "fe7fddbd",
   "metadata": {},
   "source": [
    "### Solution 1 (brute force)"
   ]
  },
  {
   "cell_type": "code",
   "execution_count": 2,
   "id": "e9820fc9",
   "metadata": {},
   "outputs": [],
   "source": [
    "def triplet_product():\n",
    "    for c in range(1000):\n",
    "        for b in range(1000):\n",
    "            for a in range(1000):\n",
    "                if (a < b < c) and (a**2 + b**2 == c**2) and (a + b + c == 1000):\n",
    "                    return a * b * c\n"
   ]
  },
  {
   "cell_type": "code",
   "execution_count": 3,
   "id": "93323ee3",
   "metadata": {},
   "outputs": [
    {
     "data": {
      "text/plain": [
       "31875000"
      ]
     },
     "execution_count": 3,
     "metadata": {},
     "output_type": "execute_result"
    }
   ],
   "source": [
    "# answer\n",
    "triplet_product()"
   ]
  },
  {
   "cell_type": "code",
   "execution_count": 4,
   "id": "3dab9b64",
   "metadata": {},
   "outputs": [
    {
     "name": "stdout",
     "output_type": "stream",
     "text": [
      "7.6 s ± 100 ms per loop (mean ± std. dev. of 7 runs, 1 loop each)\n"
     ]
    }
   ],
   "source": [
    "# benchmark\n",
    "%timeit triplet_product()"
   ]
  },
  {
   "cell_type": "markdown",
   "id": "d761f594",
   "metadata": {},
   "source": [
    "### Solution 2 minimize loops)"
   ]
  },
  {
   "cell_type": "markdown",
   "id": "29082456",
   "metadata": {},
   "source": [
    "$$ a < b < c $$\n",
    "$$ c > b > a $$\n",
    "$$ c + b + a = 1000 $$\n",
    "$$ \\text{Therefore } b \\text{ cannot be greater than 499} $$\n",
    "$$ a = 1000 - b - c$$"
   ]
  },
  {
   "cell_type": "code",
   "execution_count": 5,
   "id": "2dfd6fcb",
   "metadata": {},
   "outputs": [],
   "source": [
    "def triplet_product():\n",
    "    for c in range(1000):\n",
    "        for b in range(500):\n",
    "            a = 1000 - b - c\n",
    "            if (a < b < c) and (a**2 + b**2 == c**2) and (a + b + c == 1000):\n",
    "                return a * b * c"
   ]
  },
  {
   "cell_type": "code",
   "execution_count": 6,
   "id": "bd2be809",
   "metadata": {},
   "outputs": [
    {
     "data": {
      "text/plain": [
       "31875000"
      ]
     },
     "execution_count": 6,
     "metadata": {},
     "output_type": "execute_result"
    }
   ],
   "source": [
    "# answer\n",
    "triplet_product()"
   ]
  },
  {
   "cell_type": "code",
   "execution_count": 7,
   "id": "9b14e27e",
   "metadata": {},
   "outputs": [
    {
     "name": "stdout",
     "output_type": "stream",
     "text": [
      "7.27 ms ± 343 μs per loop (mean ± std. dev. of 7 runs, 100 loops each)\n"
     ]
    }
   ],
   "source": [
    "# benchmark\n",
    "%timeit triplet_product()"
   ]
  },
  {
   "cell_type": "markdown",
   "id": "36f231fb",
   "metadata": {},
   "source": [
    "### Save benchmark"
   ]
  },
  {
   "cell_type": "code",
   "execution_count": 8,
   "id": "35801c60",
   "metadata": {},
   "outputs": [
    {
     "name": "stdout",
     "output_type": "stream",
     "text": [
      "7.22 ms ± 94.9 μs per loop (mean ± std. dev. of 7 runs, 100 loops each)\n"
     ]
    }
   ],
   "source": [
    "bm = %timeit -o triplet_product()\n",
    "import euler\n",
    "euler.save_benchmark(9, bm)"
   ]
  }
 ],
 "metadata": {
  "kernelspec": {
   "display_name": "datascience",
   "language": "python",
   "name": "python3"
  },
  "language_info": {
   "codemirror_mode": {
    "name": "ipython",
    "version": 3
   },
   "file_extension": ".py",
   "mimetype": "text/x-python",
   "name": "python",
   "nbconvert_exporter": "python",
   "pygments_lexer": "ipython3",
   "version": "3.11.10"
  }
 },
 "nbformat": 4,
 "nbformat_minor": 5
}
