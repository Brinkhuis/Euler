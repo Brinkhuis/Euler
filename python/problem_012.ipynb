{
 "cells": [
  {
   "cell_type": "markdown",
   "id": "c6e2ad94-1596-4b05-a508-e71eeba93df9",
   "metadata": {},
   "source": [
    "## Problem 12\n",
    "https://projecteuler.net/problem=12"
   ]
  },
  {
   "cell_type": "code",
   "execution_count": 1,
   "id": "81c2912c",
   "metadata": {},
   "outputs": [],
   "source": [
    "def factors(n):\n",
    "    f = []\n",
    "    for i in range(1, n+1):\n",
    "        if n%i == 0:\n",
    "            f.append(i)\n",
    "    return(f)"
   ]
  },
  {
   "cell_type": "code",
   "execution_count": 2,
   "id": "b9481546",
   "metadata": {},
   "outputs": [],
   "source": [
    "assert factors(28) == [1, 2, 4, 7, 14, 28]"
   ]
  },
  {
   "cell_type": "code",
   "execution_count": 3,
   "id": "3a963707",
   "metadata": {},
   "outputs": [],
   "source": [
    "def triangular_number():\n",
    "    n = 1\n",
    "    while True:\n",
    "        yield(sum(range(1, n+1)))\n",
    "        n += 1"
   ]
  },
  {
   "cell_type": "code",
   "execution_count": 4,
   "id": "70462b22",
   "metadata": {},
   "outputs": [],
   "source": [
    "tri_num = triangular_number()\n",
    "assert [next(tri_num) for _ in range(10)] == [1, 3, 6, 10, 15, 21, 28, 36, 45, 55]"
   ]
  },
  {
   "cell_type": "code",
   "execution_count": 5,
   "id": "f12e2264",
   "metadata": {},
   "outputs": [],
   "source": [
    "def divisors(n):\n",
    "    tri_num = triangular_number()\n",
    "    tri = 0 # init\n",
    "    while len(factors(tri)) <= n:\n",
    "        tri = next(tri_num)\n",
    "    return tri"
   ]
  },
  {
   "cell_type": "code",
   "execution_count": 6,
   "id": "9d585b52",
   "metadata": {},
   "outputs": [],
   "source": [
    "assert divisors(5) == 28"
   ]
  },
  {
   "cell_type": "code",
   "execution_count": 7,
   "id": "6e675e57",
   "metadata": {},
   "outputs": [],
   "source": [
    "def triangular_number():\n",
    "    n = 0\n",
    "    t = 0\n",
    "    while True:\n",
    "        n += 1\n",
    "        t = t + n\n",
    "        yield(t)"
   ]
  },
  {
   "cell_type": "code",
   "execution_count": 8,
   "id": "90451dd1",
   "metadata": {},
   "outputs": [],
   "source": [
    "tri = triangular_number()\n",
    "assert next(tri) == 1\n",
    "assert next(tri) == 3\n",
    "assert next(tri) == 6\n",
    "assert next(tri) == 10\n",
    "assert next(tri) == 15"
   ]
  },
  {
   "cell_type": "code",
   "execution_count": 9,
   "id": "d415415a",
   "metadata": {},
   "outputs": [
    {
     "data": {
      "text/plain": [
       "76576500"
      ]
     },
     "execution_count": 9,
     "metadata": {},
     "output_type": "execute_result"
    }
   ],
   "source": [
    "divisors(500)"
   ]
  },
  {
   "cell_type": "code",
   "execution_count": 10,
   "id": "7d2ebc28",
   "metadata": {},
   "outputs": [
    {
     "name": "stdout",
     "output_type": "stream",
     "text": [
      "2h 11min 7s ± 36.4 s per loop (mean ± std. dev. of 7 runs, 1 loop each)\n"
     ]
    }
   ],
   "source": [
    "%timeit divisors(500)"
   ]
  }
 ],
 "metadata": {
  "kernelspec": {
   "display_name": "datascience",
   "language": "python",
   "name": "python3"
  },
  "language_info": {
   "codemirror_mode": {
    "name": "ipython",
    "version": 3
   },
   "file_extension": ".py",
   "mimetype": "text/x-python",
   "name": "python",
   "nbconvert_exporter": "python",
   "pygments_lexer": "ipython3",
   "version": "3.11.9"
  }
 },
 "nbformat": 4,
 "nbformat_minor": 5
}
