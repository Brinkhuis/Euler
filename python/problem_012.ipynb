{
 "cells": [
  {
   "cell_type": "markdown",
   "id": "c6e2ad94-1596-4b05-a508-e71eeba93df9",
   "metadata": {},
   "source": [
    "# Problem 12\n",
    "https://projecteuler.net/problem=12"
   ]
  },
  {
   "cell_type": "code",
   "execution_count": 1,
   "id": "325945ab",
   "metadata": {},
   "outputs": [
    {
     "name": "stdout",
     "output_type": "stream",
     "text": [
      "Python v3.11.10\n"
     ]
    }
   ],
   "source": [
    "print('Python v{}'.format(__import__('sys').version.split()[0]))"
   ]
  },
  {
   "cell_type": "markdown",
   "id": "51a6a4be",
   "metadata": {},
   "source": [
    "### Solution 1 (list of factors)"
   ]
  },
  {
   "cell_type": "code",
   "execution_count": 2,
   "id": "81c2912c",
   "metadata": {},
   "outputs": [],
   "source": [
    "def factors(n):\n",
    "    f = []\n",
    "    for i in range(1, n+1):\n",
    "        if n%i == 0:\n",
    "            f.append(i)\n",
    "    return(f)\n",
    "\n",
    "assert factors(28) == [1, 2, 4, 7, 14, 28]"
   ]
  },
  {
   "cell_type": "code",
   "execution_count": 3,
   "id": "3a963707",
   "metadata": {},
   "outputs": [],
   "source": [
    "def triangular_number():\n",
    "    n = 1\n",
    "    while True:\n",
    "        yield(sum(range(1, n+1)))\n",
    "        n += 1\n",
    "\n",
    "tri_num = triangular_number()\n",
    "assert [next(tri_num) for _ in range(10)] == [1, 3, 6, 10, 15, 21, 28, 36, 45, 55]"
   ]
  },
  {
   "cell_type": "code",
   "execution_count": 4,
   "id": "f12e2264",
   "metadata": {},
   "outputs": [],
   "source": [
    "def divisors(n):\n",
    "    tri_num = triangular_number()\n",
    "    tri = 0 # init\n",
    "    while len(factors(tri)) <= n:\n",
    "        tri = next(tri_num)\n",
    "    return tri\n",
    "\n",
    "assert divisors(5) == 28"
   ]
  },
  {
   "cell_type": "code",
   "execution_count": 5,
   "id": "d415415a",
   "metadata": {},
   "outputs": [
    {
     "data": {
      "text/plain": [
       "76576500"
      ]
     },
     "execution_count": 5,
     "metadata": {},
     "output_type": "execute_result"
    }
   ],
   "source": [
    "# answer\n",
    "divisors(500)"
   ]
  },
  {
   "cell_type": "code",
   "execution_count": 6,
   "id": "7d2ebc28",
   "metadata": {},
   "outputs": [
    {
     "name": "stdout",
     "output_type": "stream",
     "text": [
      "2h 11min ± 0 ns per loop (mean ± std. dev. of 1 run, 1 loop each)\n"
     ]
    }
   ],
   "source": [
    "# benchmark\n",
    "%timeit -n1 -r1 divisors(500)"
   ]
  },
  {
   "cell_type": "markdown",
   "id": "ff454e5c",
   "metadata": {},
   "source": [
    "### Solution 2 (number of factors)"
   ]
  },
  {
   "cell_type": "code",
   "execution_count": 7,
   "id": "c28a3f37",
   "metadata": {},
   "outputs": [],
   "source": [
    "def factors(n):\n",
    "    number_of_factors = 0\n",
    "    for i in range(1, int(n**.5 // 1)):\n",
    "        if i*i == n:\n",
    "            number_of_factors += 1\n",
    "        elif n%i == 0:\n",
    "            number_of_factors += 2\n",
    "    return number_of_factors\n",
    "\n",
    "assert factors(28) == 6"
   ]
  },
  {
   "cell_type": "code",
   "execution_count": 8,
   "id": "84ab0381",
   "metadata": {},
   "outputs": [],
   "source": [
    "def divisors(n):\n",
    "    i = 1\n",
    "    while factors(sum(range(1, i+1))) <= n:\n",
    "        i += 1\n",
    "    return sum(range(1, i+1))\n",
    "\n",
    "assert divisors(5) == 28"
   ]
  },
  {
   "cell_type": "code",
   "execution_count": 9,
   "id": "f4378fdb",
   "metadata": {},
   "outputs": [
    {
     "data": {
      "text/plain": [
       "76576500"
      ]
     },
     "execution_count": 9,
     "metadata": {},
     "output_type": "execute_result"
    }
   ],
   "source": [
    "# answer\n",
    "divisors(500)"
   ]
  },
  {
   "cell_type": "code",
   "execution_count": 10,
   "id": "db56807a",
   "metadata": {},
   "outputs": [
    {
     "name": "stdout",
     "output_type": "stream",
     "text": [
      "2.77 s ± 30 ms per loop (mean ± std. dev. of 7 runs, 1 loop each)\n"
     ]
    }
   ],
   "source": [
    "# benchmark\n",
    "%timeit divisors(500)"
   ]
  },
  {
   "cell_type": "markdown",
   "id": "00356e0e",
   "metadata": {},
   "source": [
    "### Save benchmark"
   ]
  },
  {
   "cell_type": "code",
   "execution_count": 11,
   "id": "7b75731c",
   "metadata": {},
   "outputs": [
    {
     "name": "stdout",
     "output_type": "stream",
     "text": [
      "2.76 s ± 19.7 ms per loop (mean ± std. dev. of 7 runs, 1 loop each)\n"
     ]
    }
   ],
   "source": [
    "bm = %timeit -o divisors(500)\n",
    "import euler\n",
    "euler.save_benchmark(12, bm)"
   ]
  }
 ],
 "metadata": {
  "kernelspec": {
   "display_name": "datascience",
   "language": "python",
   "name": "python3"
  },
  "language_info": {
   "codemirror_mode": {
    "name": "ipython",
    "version": 3
   },
   "file_extension": ".py",
   "mimetype": "text/x-python",
   "name": "python",
   "nbconvert_exporter": "python",
   "pygments_lexer": "ipython3",
   "version": "3.11.10"
  }
 },
 "nbformat": 4,
 "nbformat_minor": 5
}
