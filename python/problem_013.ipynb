{
 "cells": [
  {
   "cell_type": "markdown",
   "id": "c6e2ad94-1596-4b05-a508-e71eeba93df9",
   "metadata": {},
   "source": [
    "## Problem 13\n",
    "https://projecteuler.net/problem=13"
   ]
  },
  {
   "cell_type": "code",
   "execution_count": 1,
   "id": "1a37750a",
   "metadata": {},
   "outputs": [
    {
     "name": "stdout",
     "output_type": "stream",
     "text": [
      "Python v3.11.10\n"
     ]
    }
   ],
   "source": [
    "print('Python v{}'.format(__import__('sys').version.split()[0]))"
   ]
  },
  {
   "cell_type": "code",
   "execution_count": 2,
   "id": "0a50bad0",
   "metadata": {},
   "outputs": [],
   "source": [
    "f = open(\"../data/0013_large_sum.txt\", \"r\")\n",
    "raw = [s.strip() for s in f.readlines()]\n",
    "f.close()"
   ]
  },
  {
   "cell_type": "markdown",
   "id": "40ad0563",
   "metadata": {},
   "source": [
    "### Solution 1 (sum)"
   ]
  },
  {
   "cell_type": "code",
   "execution_count": 3,
   "id": "16a669e1",
   "metadata": {},
   "outputs": [
    {
     "data": {
      "text/plain": [
       "5537376230"
      ]
     },
     "execution_count": 3,
     "metadata": {},
     "output_type": "execute_result"
    }
   ],
   "source": [
    "# answer\n",
    "int(str(sum(int(s) for s in raw))[:10])"
   ]
  },
  {
   "cell_type": "code",
   "execution_count": 4,
   "id": "4117042a",
   "metadata": {},
   "outputs": [
    {
     "name": "stdout",
     "output_type": "stream",
     "text": [
      "14 μs ± 184 ns per loop (mean ± std. dev. of 7 runs, 100,000 loops each)\n"
     ]
    }
   ],
   "source": [
    "# benchmark\n",
    "%timeit int(str(sum(int(s) for s in raw))[:10])"
   ]
  },
  {
   "cell_type": "markdown",
   "id": "ccf25e4a",
   "metadata": {},
   "source": [
    "### Solution 2 (partial sum)"
   ]
  },
  {
   "cell_type": "code",
   "execution_count": 5,
   "id": "71cb4b04",
   "metadata": {},
   "outputs": [
    {
     "data": {
      "text/plain": [
       "5537376230"
      ]
     },
     "execution_count": 5,
     "metadata": {},
     "output_type": "execute_result"
    }
   ],
   "source": [
    "# answer\n",
    "int(str(sum(int(s) for s in [s[:11] for s in raw]))[:10])"
   ]
  },
  {
   "cell_type": "code",
   "execution_count": 6,
   "id": "4d7a1e1b",
   "metadata": {},
   "outputs": [
    {
     "name": "stdout",
     "output_type": "stream",
     "text": [
      "12.9 μs ± 115 ns per loop (mean ± std. dev. of 7 runs, 100,000 loops each)\n"
     ]
    }
   ],
   "source": [
    "# benchmark\n",
    "%timeit int(str(sum(int(s) for s in [s[:11] for s in raw]))[:10])"
   ]
  },
  {
   "cell_type": "markdown",
   "id": "cb6cde21",
   "metadata": {},
   "source": [
    "### Save benchmark"
   ]
  },
  {
   "cell_type": "code",
   "execution_count": 7,
   "id": "8353c44d",
   "metadata": {},
   "outputs": [
    {
     "name": "stdout",
     "output_type": "stream",
     "text": [
      "12.9 μs ± 86.6 ns per loop (mean ± std. dev. of 7 runs, 100,000 loops each)\n"
     ]
    }
   ],
   "source": [
    "bm = %timeit -o int(str(sum(int(s) for s in [s[:11] for s in raw]))[:10])\n",
    "import euler\n",
    "euler.save_benchmark(13, bm)"
   ]
  }
 ],
 "metadata": {
  "kernelspec": {
   "display_name": "datascience",
   "language": "python",
   "name": "python3"
  },
  "language_info": {
   "codemirror_mode": {
    "name": "ipython",
    "version": 3
   },
   "file_extension": ".py",
   "mimetype": "text/x-python",
   "name": "python",
   "nbconvert_exporter": "python",
   "pygments_lexer": "ipython3",
   "version": "3.11.10"
  }
 },
 "nbformat": 4,
 "nbformat_minor": 5
}
