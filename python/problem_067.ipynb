{
 "cells": [
  {
   "cell_type": "markdown",
   "id": "c6e2ad94-1596-4b05-a508-e71eeba93df9",
   "metadata": {},
   "source": [
    "## Problem 67\n",
    "https://projecteuler.net/problem=67"
   ]
  },
  {
   "cell_type": "code",
   "execution_count": 1,
   "id": "e3327d53",
   "metadata": {},
   "outputs": [],
   "source": [
    "import euler"
   ]
  },
  {
   "cell_type": "code",
   "execution_count": 2,
   "id": "47c7baaf",
   "metadata": {},
   "outputs": [],
   "source": [
    "def maximum_path(triangle):\n",
    "    for row_index in range(len(triangle)-2, -1, -1):\n",
    "        new_values = []\n",
    "        for idx, val in enumerate(triangle[row_index]):\n",
    "            m = max([triangle[row_index+1][idx], triangle[row_index+1][idx+1]]) + val\n",
    "            new_values.append(m)\n",
    "        triangle[row_index] = new_values\n",
    "        triangle.pop()\n",
    "    return triangle[0][0]"
   ]
  },
  {
   "cell_type": "code",
   "execution_count": 3,
   "id": "0b2aa9a9",
   "metadata": {},
   "outputs": [],
   "source": [
    "def get_data(f):\n",
    "    triangle = []\n",
    "    with open(f) as file:\n",
    "        while line := file.readline():\n",
    "            triangle.append([int(s) for s in line.strip().split()])\n",
    "    return triangle"
   ]
  },
  {
   "cell_type": "code",
   "execution_count": 4,
   "id": "db496458",
   "metadata": {},
   "outputs": [
    {
     "data": {
      "text/plain": [
       "7273"
      ]
     },
     "execution_count": 4,
     "metadata": {},
     "output_type": "execute_result"
    }
   ],
   "source": [
    "maximum_path(get_data(\"../data/0067_triangle.txt\"))"
   ]
  },
  {
   "cell_type": "code",
   "execution_count": 5,
   "id": "e5dd97d5",
   "metadata": {},
   "outputs": [
    {
     "name": "stdout",
     "output_type": "stream",
     "text": [
      "1.14 ms ± 4.58 μs per loop (mean ± std. dev. of 7 runs, 1,000 loops each)\n"
     ]
    }
   ],
   "source": [
    "t = %timeit -o maximum_path(get_data(\"../data/0067_triangle.txt\"))\n",
    "euler.save_benchmark(67, t)"
   ]
  }
 ],
 "metadata": {
  "kernelspec": {
   "display_name": "datascience",
   "language": "python",
   "name": "python3"
  },
  "language_info": {
   "codemirror_mode": {
    "name": "ipython",
    "version": 3
   },
   "file_extension": ".py",
   "mimetype": "text/x-python",
   "name": "python",
   "nbconvert_exporter": "python",
   "pygments_lexer": "ipython3",
   "version": "3.11.9"
  }
 },
 "nbformat": 4,
 "nbformat_minor": 5
}
