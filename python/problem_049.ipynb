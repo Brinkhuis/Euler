{
 "cells": [
  {
   "cell_type": "markdown",
   "id": "c6e2ad94-1596-4b05-a508-e71eeba93df9",
   "metadata": {},
   "source": [
    "# Problem 49\n",
    "https://projecteuler.net/problem=49"
   ]
  },
  {
   "cell_type": "code",
   "execution_count": 1,
   "id": "4bbaa636",
   "metadata": {},
   "outputs": [
    {
     "name": "stdout",
     "output_type": "stream",
     "text": [
      "Python v3.11.10\n"
     ]
    }
   ],
   "source": [
    "print('Python v{}'.format(__import__('sys').version.split()[0]))"
   ]
  },
  {
   "cell_type": "markdown",
   "id": "0aa9dd51",
   "metadata": {},
   "source": [
    "### Solution"
   ]
  },
  {
   "cell_type": "code",
   "execution_count": 2,
   "id": "d3df1d56",
   "metadata": {},
   "outputs": [],
   "source": [
    "import sympy"
   ]
  },
  {
   "cell_type": "code",
   "execution_count": 3,
   "id": "74281e4d",
   "metadata": {},
   "outputs": [
    {
     "data": {
      "text/plain": [
       "True"
      ]
     },
     "execution_count": 3,
     "metadata": {},
     "output_type": "execute_result"
    }
   ],
   "source": [
    "sorted(str(4534)) == sorted(str(4534)) == sorted(str(4435))"
   ]
  },
  {
   "cell_type": "code",
   "execution_count": 4,
   "id": "d64a3725",
   "metadata": {},
   "outputs": [],
   "source": [
    "def prime_permutations(x=3330):\n",
    "\n",
    "    p = [n for n in sympy.primerange(1_000, 10_000) if n not in [1487, 4817, 8147]]\n",
    "\n",
    "    for a in p:\n",
    "        b = a + x\n",
    "        c = b + x\n",
    "        if b in p and c in p and sorted(str(a)) == sorted(str(b)) == sorted(str(c)):\n",
    "            return (10**8)*a + (10**4)*b + c"
   ]
  },
  {
   "cell_type": "code",
   "execution_count": 5,
   "id": "3bd51404",
   "metadata": {},
   "outputs": [
    {
     "data": {
      "text/plain": [
       "296962999629"
      ]
     },
     "execution_count": 5,
     "metadata": {},
     "output_type": "execute_result"
    }
   ],
   "source": [
    "# answer\n",
    "prime_permutations()"
   ]
  },
  {
   "cell_type": "code",
   "execution_count": 6,
   "id": "6fa34dfa",
   "metadata": {},
   "outputs": [
    {
     "name": "stdout",
     "output_type": "stream",
     "text": [
      "3.66 ms ± 4.54 μs per loop (mean ± std. dev. of 7 runs, 100 loops each)\n"
     ]
    }
   ],
   "source": [
    "# benchmark\n",
    "%timeit prime_permutations()"
   ]
  },
  {
   "cell_type": "markdown",
   "id": "28d7ed6d",
   "metadata": {},
   "source": [
    "### Save benchmark"
   ]
  },
  {
   "cell_type": "code",
   "execution_count": 7,
   "id": "0bf7c1b1",
   "metadata": {},
   "outputs": [
    {
     "name": "stdout",
     "output_type": "stream",
     "text": [
      "3.68 ms ± 32 μs per loop (mean ± std. dev. of 7 runs, 100 loops each)\n"
     ]
    }
   ],
   "source": [
    "bm = %timeit -o prime_permutations()\n",
    "import euler\n",
    "euler.save_benchmark(49, bm)"
   ]
  }
 ],
 "metadata": {
  "kernelspec": {
   "display_name": "datascience",
   "language": "python",
   "name": "python3"
  },
  "language_info": {
   "codemirror_mode": {
    "name": "ipython",
    "version": 3
   },
   "file_extension": ".py",
   "mimetype": "text/x-python",
   "name": "python",
   "nbconvert_exporter": "python",
   "pygments_lexer": "ipython3",
   "version": "3.11.10"
  }
 },
 "nbformat": 4,
 "nbformat_minor": 5
}
