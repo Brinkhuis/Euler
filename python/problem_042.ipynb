{
 "cells": [
  {
   "cell_type": "markdown",
   "id": "c6e2ad94-1596-4b05-a508-e71eeba93df9",
   "metadata": {},
   "source": [
    "## Problem 42\n",
    "https://projecteuler.net/problem=42"
   ]
  },
  {
   "cell_type": "code",
   "execution_count": 1,
   "id": "9121639c",
   "metadata": {},
   "outputs": [],
   "source": [
    "import string\n",
    "import euler"
   ]
  },
  {
   "cell_type": "code",
   "execution_count": 2,
   "id": "2ba089a2",
   "metadata": {},
   "outputs": [],
   "source": [
    "words = open('../data/0042_words.txt', 'r').read().replace('\"', '').split(',')\n",
    "alphabet = {key:value for (key, value) in zip(string.ascii_uppercase, range(1, len(string.ascii_uppercase)+1))}"
   ]
  },
  {
   "cell_type": "code",
   "execution_count": 3,
   "id": "2c92bf21",
   "metadata": {},
   "outputs": [],
   "source": [
    "def triangle(n):\n",
    "    return int(.5*n*(n+1))"
   ]
  },
  {
   "cell_type": "code",
   "execution_count": 4,
   "id": "c511cd1f",
   "metadata": {},
   "outputs": [],
   "source": [
    "def triangles(n):\n",
    "    triangle_list = [-1]\n",
    "    counter = 1\n",
    "    while max(triangle_list) < n  * alphabet['Z']:\n",
    "        triangle_list.append(triangle(counter))\n",
    "        counter += 1\n",
    "    return triangle_list[1:]"
   ]
  },
  {
   "cell_type": "code",
   "execution_count": 5,
   "id": "c471c8d2",
   "metadata": {},
   "outputs": [],
   "source": [
    "def coded_triangle_numbers():\n",
    "    triangle_list = triangles(max([len(w) for w in words]))\n",
    "    counter = 0\n",
    "    for word in words:\n",
    "        value = 0\n",
    "        for letter in word:\n",
    "            value += alphabet[letter]\n",
    "        if value in triangle_list:\n",
    "            counter += 1\n",
    "    return counter"
   ]
  },
  {
   "cell_type": "code",
   "execution_count": 6,
   "id": "772de720",
   "metadata": {},
   "outputs": [
    {
     "data": {
      "text/plain": [
       "162"
      ]
     },
     "execution_count": 6,
     "metadata": {},
     "output_type": "execute_result"
    }
   ],
   "source": [
    "coded_triangle_numbers()"
   ]
  },
  {
   "cell_type": "code",
   "execution_count": 7,
   "id": "30e46679",
   "metadata": {},
   "outputs": [
    {
     "name": "stdout",
     "output_type": "stream",
     "text": [
      "718 μs ± 46.7 μs per loop (mean ± std. dev. of 7 runs, 1,000 loops each)\n"
     ]
    }
   ],
   "source": [
    "t = %timeit -o coded_triangle_numbers()\n",
    "euler.save_benchmark(42, t)"
   ]
  }
 ],
 "metadata": {
  "kernelspec": {
   "display_name": "datascience",
   "language": "python",
   "name": "python3"
  },
  "language_info": {
   "codemirror_mode": {
    "name": "ipython",
    "version": 3
   },
   "file_extension": ".py",
   "mimetype": "text/x-python",
   "name": "python",
   "nbconvert_exporter": "python",
   "pygments_lexer": "ipython3",
   "version": "3.11.9"
  }
 },
 "nbformat": 4,
 "nbformat_minor": 5
}
