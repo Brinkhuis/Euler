{
 "cells": [
  {
   "cell_type": "markdown",
   "id": "c6e2ad94-1596-4b05-a508-e71eeba93df9",
   "metadata": {},
   "source": [
    "## Problem 92\n",
    "https://projecteuler.net/problem=92"
   ]
  },
  {
   "cell_type": "code",
   "execution_count": 1,
   "id": "bb066cb5",
   "metadata": {},
   "outputs": [],
   "source": [
    "# Square Digit Chain\n",
    "def square_digit_train(n):\n",
    "    if n == 1:\n",
    "        return False\n",
    "    if n == 89:\n",
    "        return True\n",
    "    while n not in [1, 89]:\n",
    "        s = str(n)\n",
    "        n = sum([int(c)**2 for c in s])\n",
    "        # print((s, n))\n",
    "        if n == 1:\n",
    "            return False\n",
    "        if n == 89:\n",
    "            return True"
   ]
  },
  {
   "cell_type": "code",
   "execution_count": 2,
   "id": "516cc039",
   "metadata": {},
   "outputs": [
    {
     "data": {
      "text/plain": [
       "8581146"
      ]
     },
     "execution_count": 2,
     "metadata": {},
     "output_type": "execute_result"
    }
   ],
   "source": [
    "# Answer\n",
    "sum([square_digit_train(n) for n in range(1, 10_000_000)])"
   ]
  }
 ],
 "metadata": {
  "kernelspec": {
   "display_name": "datascience",
   "language": "python",
   "name": "python3"
  },
  "language_info": {
   "codemirror_mode": {
    "name": "ipython",
    "version": 3
   },
   "file_extension": ".py",
   "mimetype": "text/x-python",
   "name": "python",
   "nbconvert_exporter": "python",
   "pygments_lexer": "ipython3",
   "version": "3.11.9"
  }
 },
 "nbformat": 4,
 "nbformat_minor": 5
}
