{
 "cells": [
  {
   "cell_type": "markdown",
   "id": "c6e2ad94-1596-4b05-a508-e71eeba93df9",
   "metadata": {},
   "source": [
    "## Problem 92\n",
    "https://projecteuler.net/problem=92"
   ]
  },
  {
   "cell_type": "code",
   "execution_count": 1,
   "id": "40f4cb3d",
   "metadata": {},
   "outputs": [],
   "source": [
    "import euler"
   ]
  },
  {
   "cell_type": "code",
   "execution_count": 2,
   "id": "bb066cb5",
   "metadata": {},
   "outputs": [],
   "source": [
    "def square_digit_train(n):\n",
    "    if n == 1:\n",
    "        return False\n",
    "    if n == 89:\n",
    "        return True\n",
    "    while n not in [1, 89]:\n",
    "        s = str(n)\n",
    "        n = sum([int(c)**2 for c in s])\n",
    "        if n == 1:\n",
    "            return False\n",
    "        if n == 89:\n",
    "            return True"
   ]
  },
  {
   "cell_type": "code",
   "execution_count": 3,
   "id": "516cc039",
   "metadata": {},
   "outputs": [
    {
     "data": {
      "text/plain": [
       "8581146"
      ]
     },
     "execution_count": 3,
     "metadata": {},
     "output_type": "execute_result"
    }
   ],
   "source": [
    "sum([square_digit_train(n) for n in range(1, 10_000_000)])"
   ]
  },
  {
   "cell_type": "code",
   "execution_count": 4,
   "id": "7ae15781",
   "metadata": {},
   "outputs": [
    {
     "name": "stdout",
     "output_type": "stream",
     "text": [
      "30.7 s ± 266 ms per loop (mean ± std. dev. of 7 runs, 1 loop each)\n"
     ]
    }
   ],
   "source": [
    "t = %timeit -o sum([square_digit_train(n) for n in range(1, 10_000_000)])\n",
    "euler.save_benchmark(92, t)"
   ]
  }
 ],
 "metadata": {
  "kernelspec": {
   "display_name": "datascience",
   "language": "python",
   "name": "python3"
  },
  "language_info": {
   "codemirror_mode": {
    "name": "ipython",
    "version": 3
   },
   "file_extension": ".py",
   "mimetype": "text/x-python",
   "name": "python",
   "nbconvert_exporter": "python",
   "pygments_lexer": "ipython3",
   "version": "3.11.9"
  }
 },
 "nbformat": 4,
 "nbformat_minor": 5
}
