{
 "cells": [
  {
   "cell_type": "markdown",
   "id": "c6e2ad94-1596-4b05-a508-e71eeba93df9",
   "metadata": {},
   "source": [
    "## Problem 14\n",
    "https://projecteuler.net/problem=14"
   ]
  },
  {
   "cell_type": "code",
   "execution_count": 1,
   "id": "ad7b9b35",
   "metadata": {},
   "outputs": [
    {
     "name": "stdout",
     "output_type": "stream",
     "text": [
      "Python v3.11.10\n"
     ]
    }
   ],
   "source": [
    "print('Python v{}'.format(__import__('sys').version.split()[0]))"
   ]
  },
  {
   "cell_type": "code",
   "execution_count": 2,
   "id": "d49e09bd",
   "metadata": {},
   "outputs": [],
   "source": [
    "def even(n): return int(n/2)\n",
    "def odd(n): return 3*n + 1"
   ]
  },
  {
   "cell_type": "markdown",
   "id": "ccccba89",
   "metadata": {},
   "source": [
    "### Solution 1 (sequence list)"
   ]
  },
  {
   "cell_type": "code",
   "execution_count": 3,
   "id": "d16547ce",
   "metadata": {},
   "outputs": [],
   "source": [
    "def collatz(n):\n",
    "    sequence = []\n",
    "    while n != 1:\n",
    "        sequence.append(n)\n",
    "        if n%2 == 0:\n",
    "            n = even(n)\n",
    "        else:\n",
    "            n = odd(n)\n",
    "    sequence.append(1)\n",
    "    return sequence\n",
    "\n",
    "assert collatz(13) == [13, 40, 20, 10, 5, 16, 8, 4, 2, 1]\n"
   ]
  },
  {
   "cell_type": "code",
   "execution_count": 4,
   "id": "33355599",
   "metadata": {},
   "outputs": [],
   "source": [
    "def longest_collatz(hi):\n",
    "    sequences = {}\n",
    "    for n in range(1, hi):\n",
    "        sequences[len(collatz(n))] = n\n",
    "    return sequences[max(sequences.keys())]"
   ]
  },
  {
   "cell_type": "code",
   "execution_count": 5,
   "id": "41017f19",
   "metadata": {},
   "outputs": [
    {
     "data": {
      "text/plain": [
       "837799"
      ]
     },
     "execution_count": 5,
     "metadata": {},
     "output_type": "execute_result"
    }
   ],
   "source": [
    "# answer\n",
    "longest_collatz(1_000_000)"
   ]
  },
  {
   "cell_type": "code",
   "execution_count": 6,
   "id": "6b800915",
   "metadata": {},
   "outputs": [
    {
     "name": "stdout",
     "output_type": "stream",
     "text": [
      "11.7 s ± 36.1 ms per loop (mean ± std. dev. of 7 runs, 1 loop each)\n"
     ]
    }
   ],
   "source": [
    "# benchmark\n",
    "%timeit longest_collatz(1_000_000)"
   ]
  },
  {
   "cell_type": "markdown",
   "id": "dc3a04dd",
   "metadata": {},
   "source": [
    "### Solution 2 (counter)"
   ]
  },
  {
   "cell_type": "code",
   "execution_count": 7,
   "id": "5b2dda26",
   "metadata": {},
   "outputs": [],
   "source": [
    "def collatz(n):\n",
    "    counter = 1\n",
    "    while n != 1:\n",
    "        counter += 1\n",
    "        if n%2 == 0:\n",
    "            n = even(n)\n",
    "        else:\n",
    "            n = odd(n)\n",
    "    return counter\n",
    "\n",
    "assert collatz(13) == 10"
   ]
  },
  {
   "cell_type": "code",
   "execution_count": 8,
   "id": "e5fea66e",
   "metadata": {},
   "outputs": [],
   "source": [
    "def longest_collatz(hi):\n",
    "    sequences = {}\n",
    "    for n in range(1, hi):\n",
    "        sequences[collatz(n)] = n\n",
    "    return sequences[max(sequences.keys())]"
   ]
  },
  {
   "cell_type": "code",
   "execution_count": 9,
   "id": "0dfd60f3",
   "metadata": {},
   "outputs": [
    {
     "data": {
      "text/plain": [
       "837799"
      ]
     },
     "execution_count": 9,
     "metadata": {},
     "output_type": "execute_result"
    }
   ],
   "source": [
    "# answer\n",
    "longest_collatz(1_000_000)"
   ]
  },
  {
   "cell_type": "code",
   "execution_count": 10,
   "id": "19413df5",
   "metadata": {},
   "outputs": [
    {
     "name": "stdout",
     "output_type": "stream",
     "text": [
      "11.2 s ± 39.1 ms per loop (mean ± std. dev. of 7 runs, 1 loop each)\n"
     ]
    }
   ],
   "source": [
    "# benchmark\n",
    "%timeit longest_collatz(1_000_000)"
   ]
  },
  {
   "cell_type": "markdown",
   "id": "899a8cf0",
   "metadata": {},
   "source": [
    "### Save benchmark"
   ]
  },
  {
   "cell_type": "code",
   "execution_count": 11,
   "id": "0cd761be",
   "metadata": {},
   "outputs": [
    {
     "name": "stdout",
     "output_type": "stream",
     "text": [
      "11.2 s ± 21.4 ms per loop (mean ± std. dev. of 7 runs, 1 loop each)\n"
     ]
    }
   ],
   "source": [
    "bm = %timeit -o longest_collatz(1_000_000)\n",
    "import euler\n",
    "euler.save_benchmark(14, bm)"
   ]
  }
 ],
 "metadata": {
  "kernelspec": {
   "display_name": "datascience",
   "language": "python",
   "name": "python3"
  },
  "language_info": {
   "codemirror_mode": {
    "name": "ipython",
    "version": 3
   },
   "file_extension": ".py",
   "mimetype": "text/x-python",
   "name": "python",
   "nbconvert_exporter": "python",
   "pygments_lexer": "ipython3",
   "version": "3.11.10"
  }
 },
 "nbformat": 4,
 "nbformat_minor": 5
}
