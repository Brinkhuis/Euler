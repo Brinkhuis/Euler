{
 "cells": [
  {
   "cell_type": "markdown",
   "id": "c6e2ad94-1596-4b05-a508-e71eeba93df9",
   "metadata": {},
   "source": [
    "## Problem 14\n",
    "https://projecteuler.net/problem=14"
   ]
  },
  {
   "cell_type": "code",
   "execution_count": 1,
   "id": "d49e09bd",
   "metadata": {},
   "outputs": [],
   "source": [
    "def even(n): return int(n/2)\n",
    "def odd(n): return 3*n + 1"
   ]
  },
  {
   "cell_type": "code",
   "execution_count": 2,
   "id": "d16547ce",
   "metadata": {},
   "outputs": [],
   "source": [
    "def collatz(n):\n",
    "    sequence = []\n",
    "    while n != 1:\n",
    "        sequence.append(n)\n",
    "        if n%2 == 0:\n",
    "            n = even(n)\n",
    "        else:\n",
    "            n = odd(n)\n",
    "    sequence.append(1)\n",
    "    return sequence"
   ]
  },
  {
   "cell_type": "code",
   "execution_count": null,
   "id": "8ae2547d",
   "metadata": {},
   "outputs": [],
   "source": [
    "assert collatz(13) == [13, 40, 20, 10, 5, 16, 8, 4, 2, 1]"
   ]
  },
  {
   "cell_type": "code",
   "execution_count": 4,
   "id": "33355599",
   "metadata": {},
   "outputs": [],
   "source": [
    "def longest_collatz(hi=1_000_000):\n",
    "    sequences = {}\n",
    "    for n in range(1, hi):\n",
    "        sequences[len(collatz(n))] = n\n",
    "    return sequences[max(sequences.keys())]"
   ]
  },
  {
   "cell_type": "code",
   "execution_count": 5,
   "id": "41017f19",
   "metadata": {},
   "outputs": [
    {
     "data": {
      "text/plain": [
       "837799"
      ]
     },
     "execution_count": 5,
     "metadata": {},
     "output_type": "execute_result"
    }
   ],
   "source": [
    "longest_collatz(1_000_000)"
   ]
  },
  {
   "cell_type": "code",
   "execution_count": 6,
   "id": "1bf309df",
   "metadata": {},
   "outputs": [
    {
     "name": "stdout",
     "output_type": "stream",
     "text": [
      "11.8 s ± 32.6 ms per loop (mean ± std. dev. of 7 runs, 1 loop each)\n"
     ]
    }
   ],
   "source": [
    "%timeit longest_collatz(1_000_000)"
   ]
  }
 ],
 "metadata": {
  "kernelspec": {
   "display_name": "datascience",
   "language": "python",
   "name": "python3"
  },
  "language_info": {
   "codemirror_mode": {
    "name": "ipython",
    "version": 3
   },
   "file_extension": ".py",
   "mimetype": "text/x-python",
   "name": "python",
   "nbconvert_exporter": "python",
   "pygments_lexer": "ipython3",
   "version": "3.11.9"
  }
 },
 "nbformat": 4,
 "nbformat_minor": 5
}
