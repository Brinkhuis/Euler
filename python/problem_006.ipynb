{
 "cells": [
  {
   "cell_type": "markdown",
   "id": "c6e2ad94-1596-4b05-a508-e71eeba93df9",
   "metadata": {},
   "source": [
    "## Problem 6\n",
    "https://projecteuler.net/problem=6"
   ]
  },
  {
   "cell_type": "code",
   "execution_count": 1,
   "id": "760563f7",
   "metadata": {},
   "outputs": [
    {
     "name": "stdout",
     "output_type": "stream",
     "text": [
      "Python v3.11.10\n"
     ]
    }
   ],
   "source": [
    "print('Python v{}'.format(__import__('sys').version.split()[0]))"
   ]
  },
  {
   "cell_type": "code",
   "execution_count": 2,
   "id": "0d151e26",
   "metadata": {},
   "outputs": [],
   "source": [
    "def sum_square_difference(n): return sum(range(1, n+1))**2 - sum([i**2 for i in range(1, n+1)])\n",
    "\n",
    "assert sum_square_difference(10) == 2640"
   ]
  },
  {
   "cell_type": "code",
   "execution_count": 3,
   "id": "1967759e",
   "metadata": {},
   "outputs": [
    {
     "data": {
      "text/plain": [
       "25164150"
      ]
     },
     "execution_count": 3,
     "metadata": {},
     "output_type": "execute_result"
    }
   ],
   "source": [
    "# answer\n",
    "sum_square_difference(100)"
   ]
  },
  {
   "cell_type": "code",
   "execution_count": 4,
   "id": "79d231b7",
   "metadata": {},
   "outputs": [
    {
     "name": "stdout",
     "output_type": "stream",
     "text": [
      "3.82 μs ± 41.8 ns per loop (mean ± std. dev. of 7 runs, 100,000 loops each)\n"
     ]
    }
   ],
   "source": [
    "# benchmark\n",
    "%timeit sum_square_difference(100)"
   ]
  },
  {
   "cell_type": "markdown",
   "id": "b3e260af",
   "metadata": {},
   "source": [
    "### Save benchmark"
   ]
  },
  {
   "cell_type": "code",
   "execution_count": 5,
   "id": "bec863bf",
   "metadata": {},
   "outputs": [
    {
     "name": "stdout",
     "output_type": "stream",
     "text": [
      "3.83 μs ± 32.8 ns per loop (mean ± std. dev. of 7 runs, 100,000 loops each)\n"
     ]
    }
   ],
   "source": [
    "bm = %timeit -o sum_square_difference(100)\n",
    "import euler\n",
    "euler.save_benchmark(6, bm)"
   ]
  }
 ],
 "metadata": {
  "kernelspec": {
   "display_name": "datascience",
   "language": "python",
   "name": "python3"
  },
  "language_info": {
   "codemirror_mode": {
    "name": "ipython",
    "version": 3
   },
   "file_extension": ".py",
   "mimetype": "text/x-python",
   "name": "python",
   "nbconvert_exporter": "python",
   "pygments_lexer": "ipython3",
   "version": "3.11.10"
  }
 },
 "nbformat": 4,
 "nbformat_minor": 5
}
