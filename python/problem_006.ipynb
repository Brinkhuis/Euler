{
 "cells": [
  {
   "cell_type": "markdown",
   "id": "c6e2ad94-1596-4b05-a508-e71eeba93df9",
   "metadata": {},
   "source": [
    "## Problem 6\n",
    "https://projecteuler.net/problem=6"
   ]
  },
  {
   "cell_type": "code",
   "execution_count": 1,
   "id": "f46b401c",
   "metadata": {},
   "outputs": [],
   "source": [
    "import euler"
   ]
  },
  {
   "cell_type": "code",
   "execution_count": 2,
   "id": "81c2912c",
   "metadata": {},
   "outputs": [],
   "source": [
    "def sum_square_difference(n):\n",
    "    sum_of_square = sum([i**2 for i in range(1, n+1)])\n",
    "    square_of_sum = sum(range(1, n+1))**2\n",
    "    return square_of_sum - sum_of_square"
   ]
  },
  {
   "cell_type": "code",
   "execution_count": 3,
   "id": "9d585b52",
   "metadata": {},
   "outputs": [],
   "source": [
    "assert sum_square_difference(n=10) == 2640"
   ]
  },
  {
   "cell_type": "code",
   "execution_count": 4,
   "id": "7d2ebc28",
   "metadata": {},
   "outputs": [
    {
     "data": {
      "text/plain": [
       "25164150"
      ]
     },
     "execution_count": 4,
     "metadata": {},
     "output_type": "execute_result"
    }
   ],
   "source": [
    "sum_square_difference(n=100)"
   ]
  },
  {
   "cell_type": "code",
   "execution_count": 5,
   "id": "97e15d2b",
   "metadata": {},
   "outputs": [
    {
     "name": "stdout",
     "output_type": "stream",
     "text": [
      "3.84 μs ± 20.3 ns per loop (mean ± std. dev. of 7 runs, 100,000 loops each)\n"
     ]
    }
   ],
   "source": [
    "t = %timeit -o sum_square_difference(n=100)\n",
    "euler.save_benchmark(6, t)"
   ]
  }
 ],
 "metadata": {
  "kernelspec": {
   "display_name": "datascience",
   "language": "python",
   "name": "python3"
  },
  "language_info": {
   "codemirror_mode": {
    "name": "ipython",
    "version": 3
   },
   "file_extension": ".py",
   "mimetype": "text/x-python",
   "name": "python",
   "nbconvert_exporter": "python",
   "pygments_lexer": "ipython3",
   "version": "3.11.9"
  }
 },
 "nbformat": 4,
 "nbformat_minor": 5
}
