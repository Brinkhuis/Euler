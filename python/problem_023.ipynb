{
 "cells": [
  {
   "cell_type": "markdown",
   "id": "c6e2ad94-1596-4b05-a508-e71eeba93df9",
   "metadata": {},
   "source": [
    "# Problem 23\n",
    "https://projecteuler.net/problem=23"
   ]
  },
  {
   "cell_type": "code",
   "execution_count": 1,
   "id": "e0aa558c",
   "metadata": {},
   "outputs": [
    {
     "name": "stdout",
     "output_type": "stream",
     "text": [
      "Python v3.11.10\n"
     ]
    }
   ],
   "source": [
    "print('Python v{}'.format(__import__('sys').version.split()[0]))"
   ]
  },
  {
   "cell_type": "markdown",
   "id": "6257b7c2",
   "metadata": {},
   "source": [
    "### Solutuon"
   ]
  },
  {
   "cell_type": "code",
   "execution_count": 2,
   "id": "cf1a7e34",
   "metadata": {},
   "outputs": [],
   "source": [
    "def f(n):\n",
    "    \"\"\"\n",
    "    factorial sum\n",
    "    f(10) == 8 # sum(1, 2, 5)\n",
    "    \"\"\"\n",
    "    f = []\n",
    "    for i in range(1, n):\n",
    "        if n%i == 0:\n",
    "            f.append(i)\n",
    "    return sum(f)"
   ]
  },
  {
   "cell_type": "code",
   "execution_count": 3,
   "id": "ebc1f6a9",
   "metadata": {},
   "outputs": [],
   "source": [
    "def abundant(n):\n",
    "    abundants = []\n",
    "    for i in range(1, n+1):\n",
    "        if f(i) > i:\n",
    "            abundants.append(i)\n",
    "    return abundants"
   ]
  },
  {
   "cell_type": "code",
   "execution_count": 4,
   "id": "32d1dab9",
   "metadata": {},
   "outputs": [],
   "source": [
    "def non_abundant_sums(n=28123):\n",
    "\n",
    "    # Abundant list\n",
    "    abundants = abundant(n)\n",
    "\n",
    "    # Combinations\n",
    "    combinations = []\n",
    "    for i in abundants:\n",
    "        for j in abundants:\n",
    "            combinations.append((i, j, i+j))\n",
    "    \n",
    "    # Answer\n",
    "    answer = 0\n",
    "    s = set([x[-1] for x in combinations])\n",
    "    for i in range (n+1):\n",
    "        if i not in s:\n",
    "            answer += i\n",
    "    return answer"
   ]
  },
  {
   "cell_type": "code",
   "execution_count": 5,
   "id": "f902502f",
   "metadata": {},
   "outputs": [
    {
     "data": {
      "text/plain": [
       "4179871"
      ]
     },
     "execution_count": 5,
     "metadata": {},
     "output_type": "execute_result"
    }
   ],
   "source": [
    "# answer\n",
    "non_abundant_sums(n=28123)"
   ]
  },
  {
   "cell_type": "code",
   "execution_count": 6,
   "id": "94635cc8",
   "metadata": {},
   "outputs": [
    {
     "name": "stdout",
     "output_type": "stream",
     "text": [
      "19.4 s ± 0 ns per loop (mean ± std. dev. of 1 run, 1 loop each)\n"
     ]
    }
   ],
   "source": [
    "# benchmark\n",
    "%timeit -n1 -r1 non_abundant_sums(n=28123)"
   ]
  },
  {
   "cell_type": "markdown",
   "id": "d25b2ada",
   "metadata": {},
   "source": [
    "### Save benchmark"
   ]
  },
  {
   "cell_type": "code",
   "execution_count": 7,
   "id": "9e492d88",
   "metadata": {},
   "outputs": [
    {
     "name": "stdout",
     "output_type": "stream",
     "text": [
      "19 s ± 57.1 ms per loop (mean ± std. dev. of 3 runs, 3 loops each)\n"
     ]
    }
   ],
   "source": [
    "bm = %timeit -o -n3 -r3 non_abundant_sums(n=28123)\n",
    "import euler\n",
    "euler.save_benchmark(23, bm)"
   ]
  }
 ],
 "metadata": {
  "kernelspec": {
   "display_name": "datascience",
   "language": "python",
   "name": "python3"
  },
  "language_info": {
   "codemirror_mode": {
    "name": "ipython",
    "version": 3
   },
   "file_extension": ".py",
   "mimetype": "text/x-python",
   "name": "python",
   "nbconvert_exporter": "python",
   "pygments_lexer": "ipython3",
   "version": "3.11.10"
  }
 },
 "nbformat": 4,
 "nbformat_minor": 5
}
