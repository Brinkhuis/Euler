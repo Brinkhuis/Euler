{
 "cells": [
  {
   "cell_type": "markdown",
   "id": "c6e2ad94-1596-4b05-a508-e71eeba93df9",
   "metadata": {},
   "source": [
    "## Problem 23\n",
    "https://projecteuler.net/problem=23"
   ]
  },
  {
   "cell_type": "code",
   "execution_count": 1,
   "id": "e0aa558c",
   "metadata": {},
   "outputs": [],
   "source": [
    "import euler"
   ]
  },
  {
   "cell_type": "code",
   "execution_count": 2,
   "id": "cf1a7e34",
   "metadata": {},
   "outputs": [],
   "source": [
    "def f(n):\n",
    "    \"\"\"\n",
    "    factorial sum\n",
    "    f(10) == 8 # sum(1, 2, 5)\n",
    "    \"\"\"\n",
    "    f = []\n",
    "    for i in range(1, n):\n",
    "        if n%i == 0:\n",
    "            f.append(i)\n",
    "    return sum(f)"
   ]
  },
  {
   "cell_type": "code",
   "execution_count": 3,
   "id": "ebc1f6a9",
   "metadata": {},
   "outputs": [],
   "source": [
    "def abundant(n):\n",
    "    abundants = []\n",
    "    for i in range(1, n+1):\n",
    "        if f(i) > i:\n",
    "            abundants.append(i)\n",
    "    return abundants"
   ]
  },
  {
   "cell_type": "code",
   "execution_count": 4,
   "id": "32d1dab9",
   "metadata": {},
   "outputs": [],
   "source": [
    "def non_abundant_sums(n=28123):\n",
    "\n",
    "    # Abundant list\n",
    "    abundants = abundant(n)\n",
    "\n",
    "    # Combinations\n",
    "    combinations = []\n",
    "    for i in abundants:\n",
    "        for j in abundants:\n",
    "            combinations.append((i, j, i+j))\n",
    "    \n",
    "    # Answer\n",
    "    answer = 0\n",
    "    s = set([x[-1] for x in combinations])\n",
    "    for i in range (n+1):\n",
    "        if i not in s:\n",
    "            answer += i\n",
    "    return answer"
   ]
  },
  {
   "cell_type": "code",
   "execution_count": 5,
   "id": "f902502f",
   "metadata": {},
   "outputs": [
    {
     "data": {
      "text/plain": [
       "4179871"
      ]
     },
     "execution_count": 5,
     "metadata": {},
     "output_type": "execute_result"
    }
   ],
   "source": [
    "non_abundant_sums(n=28123)"
   ]
  },
  {
   "cell_type": "code",
   "execution_count": 6,
   "id": "94635cc8",
   "metadata": {},
   "outputs": [
    {
     "name": "stdout",
     "output_type": "stream",
     "text": [
      "18.1 s ± 208 ms per loop (mean ± std. dev. of 7 runs, 1 loop each)\n"
     ]
    }
   ],
   "source": [
    "t = %timeit -o non_abundant_sums(n=28123)\n",
    "euler.save_benchmark(23, t)"
   ]
  }
 ],
 "metadata": {
  "kernelspec": {
   "display_name": "datascience",
   "language": "python",
   "name": "python3"
  },
  "language_info": {
   "codemirror_mode": {
    "name": "ipython",
    "version": 3
   },
   "file_extension": ".py",
   "mimetype": "text/x-python",
   "name": "python",
   "nbconvert_exporter": "python",
   "pygments_lexer": "ipython3",
   "version": "3.11.9"
  }
 },
 "nbformat": 4,
 "nbformat_minor": 5
}
