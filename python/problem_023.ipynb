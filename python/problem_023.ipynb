{
 "cells": [
  {
   "cell_type": "markdown",
   "id": "c6e2ad94-1596-4b05-a508-e71eeba93df9",
   "metadata": {},
   "source": [
    "# Problem 23\n",
    "https://projecteuler.net/problem=23"
   ]
  },
  {
   "cell_type": "code",
   "execution_count": 1,
   "id": "e0aa558c",
   "metadata": {},
   "outputs": [
    {
     "name": "stdout",
     "output_type": "stream",
     "text": [
      "Python v3.11.10\n"
     ]
    }
   ],
   "source": [
    "print('Python v{}'.format(__import__('sys').version.split()[0]))"
   ]
  },
  {
   "cell_type": "markdown",
   "id": "ef27b14c",
   "metadata": {},
   "source": [
    "### Solution (build list of abundants during for-loop)"
   ]
  },
  {
   "cell_type": "code",
   "execution_count": 2,
   "id": "0ab48824",
   "metadata": {},
   "outputs": [],
   "source": [
    "def isqrt(n):\n",
    "    return int(n**.5 // 1)\n",
    "\n",
    "assert isqrt(25) == 5\n",
    "assert isqrt(37) == 6"
   ]
  },
  {
   "cell_type": "code",
   "execution_count": 3,
   "id": "11ae332b",
   "metadata": {},
   "outputs": [],
   "source": [
    "def proper_divisors(n):\n",
    "    divisor_list = []\n",
    "    if n <= 0:\n",
    "        return divisor_list\n",
    "    for divisor in range(1, isqrt(n)+2):\n",
    "        if n % divisor == 0:\n",
    "            divisor_list.extend([int(n / divisor), divisor])\n",
    "    return sorted(list(set(divisor_list)))[:-1]\n",
    "\n",
    "# Note: for this solution, the last proper divisor `28` is removed.\n",
    "assert proper_divisors(28) == [1, 2, 4, 7, 14]"
   ]
  },
  {
   "cell_type": "code",
   "execution_count": 4,
   "id": "93beac57",
   "metadata": {},
   "outputs": [],
   "source": [
    "def non_abundant_sums(hi=28123):\n",
    "    # init\n",
    "    non_abundant_sum = 0\n",
    "    abundants = set() \n",
    "\n",
    "    for n in range(1, hi+1):\n",
    "        # build list of abundants\n",
    "        if sum(proper_divisors(n)) > n:\n",
    "            abundants.add(n)\n",
    "\n",
    "        # check if n minus any abunant num is an abundant num\n",
    "        if not any(map(lambda abundant: n - abundant in abundants, abundants)):\n",
    "            non_abundant_sum += n\n",
    "\n",
    "    return non_abundant_sum"
   ]
  },
  {
   "cell_type": "code",
   "execution_count": 5,
   "id": "ad7129cd",
   "metadata": {},
   "outputs": [
    {
     "data": {
      "text/plain": [
       "4179871"
      ]
     },
     "execution_count": 5,
     "metadata": {},
     "output_type": "execute_result"
    }
   ],
   "source": [
    "# answer\n",
    "non_abundant_sums()"
   ]
  },
  {
   "cell_type": "code",
   "execution_count": 6,
   "id": "b63fc90f",
   "metadata": {},
   "outputs": [
    {
     "name": "stdout",
     "output_type": "stream",
     "text": [
      "357 ms ± 381 μs per loop (mean ± std. dev. of 7 runs, 1 loop each)\n"
     ]
    }
   ],
   "source": [
    "# benchmarkt\n",
    "%timeit non_abundant_sums()"
   ]
  },
  {
   "cell_type": "markdown",
   "id": "d25b2ada",
   "metadata": {},
   "source": [
    "### Save benchmark"
   ]
  },
  {
   "cell_type": "code",
   "execution_count": 7,
   "id": "9e492d88",
   "metadata": {},
   "outputs": [
    {
     "name": "stdout",
     "output_type": "stream",
     "text": [
      "362 ms ± 4.74 ms per loop (mean ± std. dev. of 10 runs, 10 loops each)\n"
     ]
    }
   ],
   "source": [
    "bm = %timeit -o -n10 -r10 non_abundant_sums()\n",
    "import euler\n",
    "euler.save_benchmark(23, bm)"
   ]
  }
 ],
 "metadata": {
  "kernelspec": {
   "display_name": "datascience",
   "language": "python",
   "name": "python3"
  },
  "language_info": {
   "codemirror_mode": {
    "name": "ipython",
    "version": 3
   },
   "file_extension": ".py",
   "mimetype": "text/x-python",
   "name": "python",
   "nbconvert_exporter": "python",
   "pygments_lexer": "ipython3",
   "version": "3.11.10"
  }
 },
 "nbformat": 4,
 "nbformat_minor": 5
}
