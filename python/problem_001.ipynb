{
 "cells": [
  {
   "cell_type": "markdown",
   "id": "c6e2ad94-1596-4b05-a508-e71eeba93df9",
   "metadata": {},
   "source": [
    "# Problem 1\n",
    "https://projecteuler.net/problem=1"
   ]
  },
  {
   "cell_type": "code",
   "execution_count": 1,
   "id": "228ce1fa",
   "metadata": {},
   "outputs": [
    {
     "name": "stdout",
     "output_type": "stream",
     "text": [
      "Python 3.11.10\n"
     ]
    }
   ],
   "source": [
    "%%bash\n",
    "python --version"
   ]
  },
  {
   "cell_type": "markdown",
   "id": "63677405",
   "metadata": {},
   "source": [
    "### Solution 1 (union)"
   ]
  },
  {
   "cell_type": "code",
   "execution_count": 2,
   "id": "1821c250",
   "metadata": {},
   "outputs": [
    {
     "data": {
      "text/plain": [
       "233168"
      ]
     },
     "execution_count": 2,
     "metadata": {},
     "output_type": "execute_result"
    }
   ],
   "source": [
    "# answer\n",
    "sum(set(range(3, 1000, 3)).union(set(range(5, 1000, 5))))"
   ]
  },
  {
   "cell_type": "code",
   "execution_count": 3,
   "id": "64484a18",
   "metadata": {},
   "outputs": [
    {
     "name": "stdout",
     "output_type": "stream",
     "text": [
      "12.5 μs ± 66.1 ns per loop (mean ± std. dev. of 7 runs, 100,000 loops each)\n"
     ]
    }
   ],
   "source": [
    "# benchmark\n",
    "%timeit sum(set(range(3, 1000, 3)).union(set(range(5, 1000, 5))))"
   ]
  },
  {
   "cell_type": "markdown",
   "id": "c0ee02ea",
   "metadata": {},
   "source": [
    "### Solution 2 (list comprehension)"
   ]
  },
  {
   "cell_type": "code",
   "execution_count": 4,
   "id": "758aae29",
   "metadata": {},
   "outputs": [
    {
     "data": {
      "text/plain": [
       "233168"
      ]
     },
     "execution_count": 4,
     "metadata": {},
     "output_type": "execute_result"
    }
   ],
   "source": [
    "# answer\n",
    "sum(i for i in range(3, 1000) if i%3 == 0 or i%5 == 0)"
   ]
  },
  {
   "cell_type": "code",
   "execution_count": 5,
   "id": "844f3d10",
   "metadata": {},
   "outputs": [
    {
     "name": "stdout",
     "output_type": "stream",
     "text": [
      "44.6 μs ± 110 ns per loop (mean ± std. dev. of 7 runs, 10,000 loops each)\n"
     ]
    }
   ],
   "source": [
    "# benchmark\n",
    "%timeit sum(i for i in range(1000) if i%3 == 0 or i%5 == 0)"
   ]
  },
  {
   "cell_type": "markdown",
   "id": "6a3568e3",
   "metadata": {},
   "source": [
    "### Solution 3 (conditional sum)"
   ]
  },
  {
   "cell_type": "code",
   "execution_count": 6,
   "id": "00800dc2",
   "metadata": {},
   "outputs": [
    {
     "data": {
      "text/plain": [
       "233168"
      ]
     },
     "execution_count": 6,
     "metadata": {},
     "output_type": "execute_result"
    }
   ],
   "source": [
    "# answer\n",
    "sum(filter(lambda x: x%3 == 0 or x%5 == 0, range(3, 1000)))"
   ]
  },
  {
   "cell_type": "code",
   "execution_count": 7,
   "id": "b31d0592",
   "metadata": {},
   "outputs": [
    {
     "name": "stdout",
     "output_type": "stream",
     "text": [
      "61.4 μs ± 83.2 ns per loop (mean ± std. dev. of 7 runs, 10,000 loops each)\n"
     ]
    }
   ],
   "source": [
    "# benchmark\n",
    "%timeit sum(filter(lambda x: x%3 == 0 or x%5 == 0, range(3, 1000)))"
   ]
  },
  {
   "cell_type": "markdown",
   "id": "4a00dcf6",
   "metadata": {},
   "source": [
    "### Solution 4 (function)"
   ]
  },
  {
   "cell_type": "code",
   "execution_count": 8,
   "id": "82d7a314",
   "metadata": {},
   "outputs": [],
   "source": [
    "def multiples(n):\n",
    "    s = 0\n",
    "    for i in range(3, n):\n",
    "        if i%3 == 0 or i%5 == 0:\n",
    "            s += i\n",
    "    return s\n",
    "\n",
    "assert multiples(10) == 23"
   ]
  },
  {
   "cell_type": "code",
   "execution_count": 9,
   "id": "7ee7d19c",
   "metadata": {},
   "outputs": [
    {
     "data": {
      "text/plain": [
       "233168"
      ]
     },
     "execution_count": 9,
     "metadata": {},
     "output_type": "execute_result"
    }
   ],
   "source": [
    "# answer\n",
    "multiples(1000)"
   ]
  },
  {
   "cell_type": "code",
   "execution_count": 10,
   "id": "21d61a11",
   "metadata": {},
   "outputs": [
    {
     "name": "stdout",
     "output_type": "stream",
     "text": [
      "45.1 μs ± 1.45 μs per loop (mean ± std. dev. of 7 runs, 10,000 loops each)\n"
     ]
    }
   ],
   "source": [
    "# benchmark\n",
    "%timeit multiples(1000)"
   ]
  },
  {
   "cell_type": "markdown",
   "id": "705f0295",
   "metadata": {},
   "source": [
    "### Save benchmark"
   ]
  },
  {
   "cell_type": "code",
   "execution_count": 11,
   "id": "5911be1a",
   "metadata": {},
   "outputs": [
    {
     "name": "stdout",
     "output_type": "stream",
     "text": [
      "12.6 μs ± 17.7 ns per loop (mean ± std. dev. of 7 runs, 100,000 loops each)\n"
     ]
    }
   ],
   "source": [
    "bm = %timeit -o sum(set(range(3, 1000, 3)).union(set(range(5, 1000, 5))))\n",
    "import euler\n",
    "euler.save_benchmark(1, bm)"
   ]
  }
 ],
 "metadata": {
  "kernelspec": {
   "display_name": "datascience",
   "language": "python",
   "name": "python3"
  },
  "language_info": {
   "codemirror_mode": {
    "name": "ipython",
    "version": 3
   },
   "file_extension": ".py",
   "mimetype": "text/x-python",
   "name": "python",
   "nbconvert_exporter": "python",
   "pygments_lexer": "ipython3",
   "version": "3.11.10"
  }
 },
 "nbformat": 4,
 "nbformat_minor": 5
}
