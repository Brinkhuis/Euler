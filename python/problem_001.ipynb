{
 "cells": [
  {
   "cell_type": "markdown",
   "id": "c6e2ad94-1596-4b05-a508-e71eeba93df9",
   "metadata": {},
   "source": [
    "## Problem 1\n",
    "https://projecteuler.net/problem=1"
   ]
  },
  {
   "cell_type": "markdown",
   "id": "320004e9",
   "metadata": {},
   "source": [
    "#### Solution 1 (function)"
   ]
  },
  {
   "cell_type": "code",
   "execution_count": 1,
   "id": "9ddd8fcc",
   "metadata": {},
   "outputs": [],
   "source": [
    "def multiples(n=1000):\n",
    "    s = 0\n",
    "    for i in range(1, n):\n",
    "        if (i%3 == 0) or (i%5 == 0):\n",
    "            s += i\n",
    "    return s"
   ]
  },
  {
   "cell_type": "code",
   "execution_count": 2,
   "id": "eaf60461",
   "metadata": {},
   "outputs": [
    {
     "data": {
      "text/plain": [
       "233168"
      ]
     },
     "execution_count": 2,
     "metadata": {},
     "output_type": "execute_result"
    }
   ],
   "source": [
    "multiples()"
   ]
  },
  {
   "cell_type": "code",
   "execution_count": 3,
   "id": "d5fbbc6e",
   "metadata": {},
   "outputs": [
    {
     "name": "stdout",
     "output_type": "stream",
     "text": [
      "43.8 μs ± 323 ns per loop (mean ± std. dev. of 7 runs, 10,000 loops each)\n"
     ]
    }
   ],
   "source": [
    "%timeit multiples()"
   ]
  },
  {
   "cell_type": "markdown",
   "id": "f79377c2",
   "metadata": {},
   "source": [
    "#### Solution 2 (oneliner)"
   ]
  },
  {
   "cell_type": "code",
   "execution_count": 4,
   "id": "ea9a7c99",
   "metadata": {},
   "outputs": [
    {
     "data": {
      "text/plain": [
       "233168"
      ]
     },
     "execution_count": 4,
     "metadata": {},
     "output_type": "execute_result"
    }
   ],
   "source": [
    "sum([i for i in range(1000) if (i%3 == 0) or (i%5 == 0)])"
   ]
  },
  {
   "cell_type": "code",
   "execution_count": 5,
   "id": "87b48ae7",
   "metadata": {},
   "outputs": [
    {
     "name": "stdout",
     "output_type": "stream",
     "text": [
      "42.8 μs ± 318 ns per loop (mean ± std. dev. of 7 runs, 10,000 loops each)\n"
     ]
    }
   ],
   "source": [
    "%timeit sum([i for i in range(1000) if (i%3 == 0) or (i%5 == 0)])"
   ]
  },
  {
   "cell_type": "markdown",
   "id": "77db6c57",
   "metadata": {},
   "source": [
    "#### Solution 3 (union)"
   ]
  },
  {
   "cell_type": "code",
   "execution_count": 6,
   "id": "47dceda5",
   "metadata": {},
   "outputs": [
    {
     "data": {
      "text/plain": [
       "233168"
      ]
     },
     "execution_count": 6,
     "metadata": {},
     "output_type": "execute_result"
    }
   ],
   "source": [
    "sum(set(range(0, 1000, 3)).union(set(range(0, 1000, 5))))"
   ]
  },
  {
   "cell_type": "code",
   "execution_count": 7,
   "id": "6c4767ad",
   "metadata": {},
   "outputs": [
    {
     "name": "stdout",
     "output_type": "stream",
     "text": [
      "12.8 μs ± 207 ns per loop (mean ± std. dev. of 7 runs, 100,000 loops each)\n"
     ]
    }
   ],
   "source": [
    "%timeit sum(set(range(0, 1000, 3)).union(set(range(0, 1000, 5))))"
   ]
  }
 ],
 "metadata": {
  "kernelspec": {
   "display_name": "datascience",
   "language": "python",
   "name": "python3"
  },
  "language_info": {
   "codemirror_mode": {
    "name": "ipython",
    "version": 3
   },
   "file_extension": ".py",
   "mimetype": "text/x-python",
   "name": "python",
   "nbconvert_exporter": "python",
   "pygments_lexer": "ipython3",
   "version": "3.11.9"
  }
 },
 "nbformat": 4,
 "nbformat_minor": 5
}
