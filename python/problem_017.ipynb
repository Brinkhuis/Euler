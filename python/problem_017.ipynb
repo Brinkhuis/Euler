{
 "cells": [
  {
   "cell_type": "markdown",
   "id": "c6e2ad94-1596-4b05-a508-e71eeba93df9",
   "metadata": {},
   "source": [
    "## Problem 17\n",
    "https://projecteuler.net/problem=17"
   ]
  },
  {
   "cell_type": "code",
   "execution_count": 1,
   "id": "197bc878",
   "metadata": {},
   "outputs": [],
   "source": [
    "# Dictionary\n",
    "dictionary = {\n",
    "    1 : 'one',\n",
    "    2 : 'two',\n",
    "    3 : 'three',\n",
    "    4 : 'four',\n",
    "    5 : 'five',\n",
    "    6 : 'six',\n",
    "    7 : 'seven',\n",
    "    8 : 'eight',\n",
    "    9 : 'nine',\n",
    "    10 : 'ten',\n",
    "    11 : 'eleven',\n",
    "    12 : 'twelve',\n",
    "    13 : 'thirteen',\n",
    "    14 : 'fourteen',\n",
    "    15 : 'fifteen',\n",
    "    16 : 'sixteen',\n",
    "    17 : 'seventeen',\n",
    "    18 : 'eighteen',\n",
    "    19 : 'nineteen',\n",
    "    20 : 'twenty',\n",
    "    30 : 'thirty',\n",
    "    40 : 'forty',\n",
    "    50 : 'fifty',\n",
    "    60 : 'sixty',\n",
    "    70 : 'seventy',\n",
    "    80 : 'eighty',\n",
    "    90 : 'ninety',\n",
    "    100 : 'hundred',\n",
    "    1000 : 'thousand'\n",
    "}"
   ]
  },
  {
   "cell_type": "code",
   "execution_count": 2,
   "id": "405fe05c",
   "metadata": {},
   "outputs": [],
   "source": [
    "# One digit numbers to text\n",
    "def one(n):\n",
    "    assert len(str(n)) == 1 and n >= 1\n",
    "    text = dictionary[n]\n",
    "    return text"
   ]
  },
  {
   "cell_type": "code",
   "execution_count": 3,
   "id": "5935fe88",
   "metadata": {},
   "outputs": [
    {
     "data": {
      "text/plain": [
       "[(1, 'one'),\n",
       " (2, 'two'),\n",
       " (3, 'three'),\n",
       " (4, 'four'),\n",
       " (5, 'five'),\n",
       " (6, 'six'),\n",
       " (7, 'seven'),\n",
       " (8, 'eight'),\n",
       " (9, 'nine')]"
      ]
     },
     "execution_count": 3,
     "metadata": {},
     "output_type": "execute_result"
    }
   ],
   "source": [
    "# Test run\n",
    "[(i, one(i)) for i in range(1, 10)]"
   ]
  },
  {
   "cell_type": "code",
   "execution_count": 4,
   "id": "188bfa0a",
   "metadata": {},
   "outputs": [],
   "source": [
    "# Two digit numbers to text\n",
    "def two(n):\n",
    "    assert len(str(n)) == 2\n",
    "    text = ''\n",
    "    s = str(n)\n",
    "    if n > 20:\n",
    "        text += dictionary[int(s[0]) * 10]\n",
    "        if s[-1] != '0':\n",
    "            text += ' ' + dictionary[int(s[-1])]\n",
    "    else:\n",
    "        text += dictionary[int(s)]\n",
    "    return text\n",
    "\n"
   ]
  },
  {
   "cell_type": "code",
   "execution_count": 5,
   "id": "567f5ad3",
   "metadata": {},
   "outputs": [
    {
     "data": {
      "text/plain": [
       "[(10, 'ten'),\n",
       " (11, 'eleven'),\n",
       " (12, 'twelve'),\n",
       " (13, 'thirteen'),\n",
       " (14, 'fourteen'),\n",
       " (15, 'fifteen'),\n",
       " (16, 'sixteen'),\n",
       " (17, 'seventeen'),\n",
       " (18, 'eighteen'),\n",
       " (19, 'nineteen'),\n",
       " (20, 'twenty'),\n",
       " (21, 'twenty one'),\n",
       " (22, 'twenty two'),\n",
       " (23, 'twenty three'),\n",
       " (24, 'twenty four'),\n",
       " (25, 'twenty five'),\n",
       " (26, 'twenty six'),\n",
       " (27, 'twenty seven'),\n",
       " (28, 'twenty eight'),\n",
       " (29, 'twenty nine'),\n",
       " (30, 'thirty')]"
      ]
     },
     "execution_count": 5,
     "metadata": {},
     "output_type": "execute_result"
    }
   ],
   "source": [
    "# Test run\n",
    "[(i, two(i)) for i in range(10, 31)]"
   ]
  },
  {
   "cell_type": "code",
   "execution_count": 6,
   "id": "e9ae0094",
   "metadata": {},
   "outputs": [],
   "source": [
    "# Three digit numbers to text\n",
    "def three(n):\n",
    "    assert len(str(n)) == 3\n",
    "    text = ''\n",
    "    s = str(n)\n",
    "    text += dictionary[int(s[0])] + ' ' + dictionary[100]\n",
    "    return text    "
   ]
  },
  {
   "cell_type": "code",
   "execution_count": 7,
   "id": "b83fff98",
   "metadata": {},
   "outputs": [
    {
     "data": {
      "text/plain": [
       "[(100, 'one hundred'),\n",
       " (111, 'one hundred'),\n",
       " (200, 'two hundred'),\n",
       " (222, 'two hundred'),\n",
       " (300, 'three hundred'),\n",
       " (333, 'three hundred'),\n",
       " (900, 'nine hundred'),\n",
       " (999, 'nine hundred')]"
      ]
     },
     "execution_count": 7,
     "metadata": {},
     "output_type": "execute_result"
    }
   ],
   "source": [
    "# Test run\n",
    "[(i, three(i)) for i in [100, 111, 200, 222, 300, 333, 900, 999]]"
   ]
  },
  {
   "cell_type": "code",
   "execution_count": 8,
   "id": "befc52c2",
   "metadata": {},
   "outputs": [],
   "source": [
    "# Four digit numbers to text, when n=1000\n",
    "def four(n):\n",
    "    assert n == 1000\n",
    "    text = ''\n",
    "    s = str(n)\n",
    "    text += dictionary[int(s[0])] + ' ' + dictionary[1000]\n",
    "    return text    "
   ]
  },
  {
   "cell_type": "code",
   "execution_count": 9,
   "id": "360d560c",
   "metadata": {},
   "outputs": [
    {
     "data": {
      "text/plain": [
       "'one thousand'"
      ]
     },
     "execution_count": 9,
     "metadata": {},
     "output_type": "execute_result"
    }
   ],
   "source": [
    "# Test run\n",
    "four(1000)"
   ]
  },
  {
   "cell_type": "code",
   "execution_count": 10,
   "id": "a4457d13",
   "metadata": {},
   "outputs": [],
   "source": [
    "# Number Letter Counts\n",
    "def number_letter_counts(n):\n",
    "    assert n >= 1 and n <= 1000\n",
    "    written = {}\n",
    "    for i in range(1, n+1):\n",
    "        number = ''\n",
    "        s = str(i)\n",
    "        if len(s) == 4:\n",
    "            number += four(i)\n",
    "        elif len(s) == 3:\n",
    "            number += three(i)\n",
    "            if 0 < int(s[1:]) < 10:\n",
    "                number += ' and ' + one(int(s[-1]))\n",
    "            if 10 <= int(s[1:]) < 100:\n",
    "                number += ' and ' + two(int(s[1:]))\n",
    "\n",
    "        elif len(s) == 2:\n",
    "            number += two(i)\n",
    "        elif len(s) == 1:\n",
    "            number += one(i)\n",
    "        else:\n",
    "            pass\n",
    "        written[i] = number\n",
    "    return written\n",
    "    "
   ]
  },
  {
   "cell_type": "code",
   "execution_count": 11,
   "id": "c47727c1",
   "metadata": {},
   "outputs": [
    {
     "name": "stdout",
     "output_type": "stream",
     "text": [
      "1 one\n",
      "11 eleven\n",
      "20 twenty\n",
      "50 fifty\n",
      "99 ninety nine\n",
      "100 one hundred\n",
      "110 one hundred and ten\n",
      "111 one hundred and eleven\n",
      "999 nine hundred and ninety nine\n",
      "1000 one thousand\n"
     ]
    }
   ],
   "source": [
    "# Selection of results\n",
    "d = number_letter_counts(1000)\n",
    "for key in [1, 11, 20, 50, 99, 100, 110, 111, 999, 1000]:\n",
    "    print(key, d[key])"
   ]
  },
  {
   "cell_type": "code",
   "execution_count": 12,
   "id": "147edd5d",
   "metadata": {},
   "outputs": [
    {
     "data": {
      "text/plain": [
       "21124"
      ]
     },
     "execution_count": 12,
     "metadata": {},
     "output_type": "execute_result"
    }
   ],
   "source": [
    "# Answer\n",
    "count = 0\n",
    "for value in d.values():\n",
    "    for char in value:\n",
    "        if char != ' ':\n",
    "            count += 1\n",
    "count"
   ]
  }
 ],
 "metadata": {
  "kernelspec": {
   "display_name": "Python 3 (ipykernel)",
   "language": "python",
   "name": "python3"
  },
  "language_info": {
   "codemirror_mode": {
    "name": "ipython",
    "version": 3
   },
   "file_extension": ".py",
   "mimetype": "text/x-python",
   "name": "python",
   "nbconvert_exporter": "python",
   "pygments_lexer": "ipython3",
   "version": "3.11.9"
  }
 },
 "nbformat": 4,
 "nbformat_minor": 5
}
