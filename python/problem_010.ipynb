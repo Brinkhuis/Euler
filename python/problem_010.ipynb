{
 "cells": [
  {
   "cell_type": "markdown",
   "id": "c6e2ad94-1596-4b05-a508-e71eeba93df9",
   "metadata": {},
   "source": [
    "## Problem 10\n",
    "https://projecteuler.net/problem=10"
   ]
  },
  {
   "cell_type": "code",
   "execution_count": 1,
   "id": "7071e49a",
   "metadata": {},
   "outputs": [
    {
     "name": "stdout",
     "output_type": "stream",
     "text": [
      "Python v3.11.10\n"
     ]
    }
   ],
   "source": [
    "print('Python v{}'.format(__import__('sys').version.split()[0]))"
   ]
  },
  {
   "cell_type": "markdown",
   "id": "287a3d5a",
   "metadata": {},
   "source": [
    "### Solution 1 (prime range)"
   ]
  },
  {
   "cell_type": "code",
   "execution_count": 2,
   "id": "ce220220",
   "metadata": {},
   "outputs": [],
   "source": [
    "import sympy"
   ]
  },
  {
   "cell_type": "code",
   "execution_count": 3,
   "id": "464c26e9",
   "metadata": {},
   "outputs": [
    {
     "data": {
      "text/plain": [
       "142913828922"
      ]
     },
     "execution_count": 3,
     "metadata": {},
     "output_type": "execute_result"
    }
   ],
   "source": [
    "# answer\n",
    "sum(sympy.primerange(2_000_000))"
   ]
  },
  {
   "cell_type": "code",
   "execution_count": 4,
   "id": "0eb6eed5",
   "metadata": {},
   "outputs": [
    {
     "name": "stdout",
     "output_type": "stream",
     "text": [
      "941 ms ± 21.6 ms per loop (mean ± std. dev. of 7 runs, 1 loop each)\n"
     ]
    }
   ],
   "source": [
    "# benchmark\n",
    "%timeit sum(sympy.primerange(2_000_000))"
   ]
  },
  {
   "cell_type": "markdown",
   "id": "affb6b04",
   "metadata": {},
   "source": [
    "### Slution 2 (sieve prime range)"
   ]
  },
  {
   "cell_type": "code",
   "execution_count": 5,
   "id": "5f0c8734",
   "metadata": {},
   "outputs": [],
   "source": [
    "import sympy"
   ]
  },
  {
   "cell_type": "code",
   "execution_count": 6,
   "id": "d64f32dc",
   "metadata": {},
   "outputs": [
    {
     "data": {
      "text/plain": [
       "142913828922"
      ]
     },
     "execution_count": 6,
     "metadata": {},
     "output_type": "execute_result"
    }
   ],
   "source": [
    "# answer\n",
    "sum(sympy.sieve.primerange(2_000_000))"
   ]
  },
  {
   "cell_type": "code",
   "execution_count": 7,
   "id": "910cab9d",
   "metadata": {},
   "outputs": [
    {
     "name": "stdout",
     "output_type": "stream",
     "text": [
      "3.41 ms ± 58.1 μs per loop (mean ± std. dev. of 7 runs, 100 loops each)\n"
     ]
    }
   ],
   "source": [
    "# benchmark\n",
    "%timeit sum(sympy.sieve.primerange(2_000_000))"
   ]
  },
  {
   "cell_type": "markdown",
   "id": "a73a0844",
   "metadata": {},
   "source": [
    "### Solution 3 (sieve of eratosthenes)"
   ]
  },
  {
   "cell_type": "code",
   "execution_count": 8,
   "id": "81c2912c",
   "metadata": {},
   "outputs": [],
   "source": [
    "def eratosthenes():\n",
    "\t'''Yields the sequence of prime numbers via the Sieve of Eratosthenes.'''\n",
    "\tD = {}  # map composite integers to primes witnessing their compositeness\n",
    "\tq = 2   # first integer to test for primality\n",
    "\twhile 1:\n",
    "\t\tif q not in D:\n",
    "\t\t\tyield q        # not marked composite, must be prime\n",
    "\t\t\tD[q*q] = [q]   # first multiple of q not already marked\n",
    "\t\telse:\n",
    "\t\t\tfor p in D[q]: # move each witness to its next multiple\n",
    "\t\t\t\tD.setdefault(p+q,[]).append(p)\n",
    "\t\t\tdel D[q]       # no longer need D[q], free memory\n",
    "\t\tq += 1\n",
    "\n",
    "assert next(eratosthenes()) == 2"
   ]
  },
  {
   "cell_type": "code",
   "execution_count": 9,
   "id": "02c9b941",
   "metadata": {},
   "outputs": [],
   "source": [
    "def summation_of_primes(n):\n",
    "    primes = eratosthenes()\n",
    "    summation = 0\n",
    "    prime = 0\n",
    "    while True:\n",
    "        prime = next(primes)\n",
    "        if prime < n:\n",
    "            summation += prime\n",
    "        else:\n",
    "            break\n",
    "    return summation\n",
    "\n",
    "assert summation_of_primes(10) == 17"
   ]
  },
  {
   "cell_type": "code",
   "execution_count": 10,
   "id": "7d2ebc28",
   "metadata": {},
   "outputs": [
    {
     "data": {
      "text/plain": [
       "142913828922"
      ]
     },
     "execution_count": 10,
     "metadata": {},
     "output_type": "execute_result"
    }
   ],
   "source": [
    "# answer\n",
    "summation_of_primes(2_000_000)"
   ]
  },
  {
   "cell_type": "code",
   "execution_count": 11,
   "id": "5b472287",
   "metadata": {},
   "outputs": [
    {
     "name": "stdout",
     "output_type": "stream",
     "text": [
      "532 ms ± 16 ms per loop (mean ± std. dev. of 7 runs, 1 loop each)\n"
     ]
    }
   ],
   "source": [
    "# benchmark\n",
    "%timeit summation_of_primes(2_000_000)"
   ]
  },
  {
   "cell_type": "markdown",
   "id": "009b9198",
   "metadata": {},
   "source": [
    "### Save benchmark"
   ]
  },
  {
   "cell_type": "code",
   "execution_count": 12,
   "id": "d3850ce8",
   "metadata": {},
   "outputs": [
    {
     "name": "stdout",
     "output_type": "stream",
     "text": [
      "3.45 ms ± 49.5 μs per loop (mean ± std. dev. of 7 runs, 100 loops each)\n"
     ]
    }
   ],
   "source": [
    "bm = %timeit -o sum(sympy.sieve.primerange(2_000_000))\n",
    "import euler\n",
    "euler.save_benchmark(10, bm)"
   ]
  },
  {
   "cell_type": "markdown",
   "id": "83486bc4",
   "metadata": {},
   "source": [
    "Source:\n",
    "- Prime Generator: https://code.activestate.com/recipes/117119"
   ]
  }
 ],
 "metadata": {
  "kernelspec": {
   "display_name": "datascience",
   "language": "python",
   "name": "python3"
  },
  "language_info": {
   "codemirror_mode": {
    "name": "ipython",
    "version": 3
   },
   "file_extension": ".py",
   "mimetype": "text/x-python",
   "name": "python",
   "nbconvert_exporter": "python",
   "pygments_lexer": "ipython3",
   "version": "3.11.10"
  }
 },
 "nbformat": 4,
 "nbformat_minor": 5
}
