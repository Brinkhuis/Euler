{
 "cells": [
  {
   "cell_type": "markdown",
   "id": "c6e2ad94-1596-4b05-a508-e71eeba93df9",
   "metadata": {},
   "source": [
    "# Problem 27\n",
    "https://projecteuler.net/problem=27"
   ]
  },
  {
   "cell_type": "code",
   "execution_count": 1,
   "id": "a7a8e0e5",
   "metadata": {},
   "outputs": [
    {
     "name": "stdout",
     "output_type": "stream",
     "text": [
      "Python v3.11.10\n"
     ]
    }
   ],
   "source": [
    "print('Python v{}'.format(__import__('sys').version.split()[0]))"
   ]
  },
  {
   "cell_type": "markdown",
   "id": "b5831f0e",
   "metadata": {},
   "source": [
    "### Solution"
   ]
  },
  {
   "cell_type": "code",
   "execution_count": 2,
   "id": "70ff0b87",
   "metadata": {},
   "outputs": [],
   "source": [
    "import sympy"
   ]
  },
  {
   "cell_type": "code",
   "execution_count": 3,
   "id": "88a275ca",
   "metadata": {},
   "outputs": [],
   "source": [
    "def consecutive_primes(a, b):\n",
    "    n = 1\n",
    "    while sympy.isprime(n**2 + (a * n + b)):\n",
    "        n += 1\n",
    "    return n-1"
   ]
  },
  {
   "cell_type": "code",
   "execution_count": 4,
   "id": "6e50902f",
   "metadata": {},
   "outputs": [],
   "source": [
    "def answer():\n",
    "    dictionary = {\n",
    "        key:value for (key, value) in zip(\n",
    "            [consecutive_primes(a,b) for a in range(-999, 1000) for b in range(-1000, 1001)], \n",
    "            [a*b for a in range(-999, 1000) for b in range(-1000, 1001)]\n",
    "        )\n",
    "    }\n",
    "    return dictionary[max(dictionary.keys())]"
   ]
  },
  {
   "cell_type": "code",
   "execution_count": 5,
   "id": "735446b4",
   "metadata": {},
   "outputs": [
    {
     "data": {
      "text/plain": [
       "-59231"
      ]
     },
     "execution_count": 5,
     "metadata": {},
     "output_type": "execute_result"
    }
   ],
   "source": [
    "# answer\n",
    "answer()"
   ]
  },
  {
   "cell_type": "code",
   "execution_count": 6,
   "id": "886e12d4",
   "metadata": {},
   "outputs": [
    {
     "name": "stdout",
     "output_type": "stream",
     "text": [
      "1.31 s ± 6.36 ms per loop (mean ± std. dev. of 7 runs, 1 loop each)\n"
     ]
    }
   ],
   "source": [
    "# benchmark\n",
    "%timeit answer()"
   ]
  },
  {
   "cell_type": "markdown",
   "id": "8fa3781d",
   "metadata": {},
   "source": [
    "### Save benchmark"
   ]
  },
  {
   "cell_type": "code",
   "execution_count": 7,
   "id": "99b58934",
   "metadata": {},
   "outputs": [
    {
     "name": "stdout",
     "output_type": "stream",
     "text": [
      "1.31 s ± 11.1 ms per loop (mean ± std. dev. of 7 runs, 1 loop each)\n"
     ]
    }
   ],
   "source": [
    "bm = %timeit -o answer()\n",
    "import euler\n",
    "euler.save_benchmark(27, bm)"
   ]
  }
 ],
 "metadata": {
  "kernelspec": {
   "display_name": "datascience",
   "language": "python",
   "name": "python3"
  },
  "language_info": {
   "codemirror_mode": {
    "name": "ipython",
    "version": 3
   },
   "file_extension": ".py",
   "mimetype": "text/x-python",
   "name": "python",
   "nbconvert_exporter": "python",
   "pygments_lexer": "ipython3",
   "version": "3.11.10"
  }
 },
 "nbformat": 4,
 "nbformat_minor": 5
}
