{
 "cells": [
  {
   "cell_type": "markdown",
   "id": "c6e2ad94-1596-4b05-a508-e71eeba93df9",
   "metadata": {},
   "source": [
    "# Problem 28\n",
    "https://projecteuler.net/problem=28"
   ]
  },
  {
   "cell_type": "code",
   "execution_count": 1,
   "id": "19f1971a",
   "metadata": {},
   "outputs": [
    {
     "name": "stdout",
     "output_type": "stream",
     "text": [
      "Python v3.11.10\n"
     ]
    }
   ],
   "source": [
    "print('Python v{}'.format(__import__('sys').version.split()[0]))"
   ]
  },
  {
   "cell_type": "markdown",
   "id": "6be017c1",
   "metadata": {},
   "source": [
    "### Solution"
   ]
  },
  {
   "cell_type": "code",
   "execution_count": 2,
   "id": "6d848674",
   "metadata": {},
   "outputs": [],
   "source": [
    "def number_spiral_diagonals(dims):\n",
    "    diagonal_sum = 1\n",
    "    diagonal_corner = 1\n",
    "    for s in range(3, dims+1, 2): # side length\n",
    "        for _ in range(1,5): # diagonal corner\n",
    "            diagonal_corner += s - 1\n",
    "            diagonal_sum += diagonal_corner\n",
    "    return diagonal_sum\n",
    "\n",
    "assert number_spiral_diagonals(5) == 101"
   ]
  },
  {
   "cell_type": "code",
   "execution_count": 3,
   "id": "fd3d40cd",
   "metadata": {},
   "outputs": [
    {
     "data": {
      "text/plain": [
       "669171001"
      ]
     },
     "execution_count": 3,
     "metadata": {},
     "output_type": "execute_result"
    }
   ],
   "source": [
    "# answer\n",
    "number_spiral_diagonals(1001)"
   ]
  },
  {
   "cell_type": "code",
   "execution_count": 4,
   "id": "40a6b7c0",
   "metadata": {},
   "outputs": [
    {
     "name": "stdout",
     "output_type": "stream",
     "text": [
      "106 μs ± 3.05 μs per loop (mean ± std. dev. of 7 runs, 10,000 loops each)\n"
     ]
    }
   ],
   "source": [
    "# benchmark\n",
    "%timeit number_spiral_diagonals(1001)"
   ]
  },
  {
   "cell_type": "markdown",
   "id": "3c15f8c5",
   "metadata": {},
   "source": [
    "### Save benchmark"
   ]
  },
  {
   "cell_type": "code",
   "execution_count": 5,
   "id": "2acad9c5",
   "metadata": {},
   "outputs": [
    {
     "name": "stdout",
     "output_type": "stream",
     "text": [
      "105 μs ± 81.8 ns per loop (mean ± std. dev. of 7 runs, 10,000 loops each)\n"
     ]
    }
   ],
   "source": [
    "bm = %timeit -o number_spiral_diagonals(1001)\n",
    "import euler\n",
    "euler.save_benchmark(28, bm)"
   ]
  }
 ],
 "metadata": {
  "kernelspec": {
   "display_name": "datascience",
   "language": "python",
   "name": "python3"
  },
  "language_info": {
   "codemirror_mode": {
    "name": "ipython",
    "version": 3
   },
   "file_extension": ".py",
   "mimetype": "text/x-python",
   "name": "python",
   "nbconvert_exporter": "python",
   "pygments_lexer": "ipython3",
   "version": "3.11.10"
  }
 },
 "nbformat": 4,
 "nbformat_minor": 5
}
