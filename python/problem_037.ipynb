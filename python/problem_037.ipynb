{
 "cells": [
  {
   "cell_type": "markdown",
   "id": "c6e2ad94-1596-4b05-a508-e71eeba93df9",
   "metadata": {},
   "source": [
    "## Problem 37\n",
    "https://projecteuler.net/problem=37"
   ]
  },
  {
   "cell_type": "code",
   "execution_count": 1,
   "id": "f6eca067",
   "metadata": {},
   "outputs": [],
   "source": [
    "import euler"
   ]
  },
  {
   "cell_type": "code",
   "execution_count": 2,
   "id": "60a68c40",
   "metadata": {},
   "outputs": [],
   "source": [
    "def isprime(n):\n",
    "    if n <= 1:\n",
    "        return False\n",
    "    else:\n",
    "        for i in range(2, (n//2)+1):\n",
    "            if n%i == 0:\n",
    "                return False\n",
    "        return True"
   ]
  },
  {
   "cell_type": "code",
   "execution_count": 3,
   "id": "6be8ac76",
   "metadata": {},
   "outputs": [],
   "source": [
    "def eratosthenes():\n",
    "\t'''Yields the sequence of prime numbers via the Sieve of Eratosthenes.'''\n",
    "\tD = {}  # map composite integers to primes witnessing their compositeness\n",
    "\tq = 2   # first integer to test for primality\n",
    "\twhile 1:\n",
    "\t\tif q not in D:\n",
    "\t\t\tyield q        # not marked composite, must be prime\n",
    "\t\t\tD[q*q] = [q]   # first multiple of q not already marked\n",
    "\t\telse:\n",
    "\t\t\tfor p in D[q]: # move each witness to its next multiple\n",
    "\t\t\t\tD.setdefault(p+q,[]).append(p)\n",
    "\t\t\tdel D[q]       # no longer need D[q], free memory\n",
    "\t\tq += 1"
   ]
  },
  {
   "cell_type": "code",
   "execution_count": 4,
   "id": "a9bae2bf",
   "metadata": {},
   "outputs": [],
   "source": [
    "def truncatable_primes(n):\n",
    "    prime = eratosthenes()\n",
    "    counter = 0\n",
    "    primes = []\n",
    "    while counter < n:\n",
    "        p = next(prime)\n",
    "        s = str(p)\n",
    "        if all([isprime(y) for y in set([int(s[:x]) for x in range(1, len(s)+1)] + [int(s[x:]) for x in range(len(s))])]) and p > 7:\n",
    "            primes.append(p)\n",
    "            counter += 1\n",
    "    return sum(primes)"
   ]
  },
  {
   "cell_type": "code",
   "execution_count": 5,
   "id": "ce0e9940",
   "metadata": {},
   "outputs": [
    {
     "data": {
      "text/plain": [
       "748317"
      ]
     },
     "execution_count": 5,
     "metadata": {},
     "output_type": "execute_result"
    }
   ],
   "source": [
    "truncatable_primes(11) # 2, 3, 5 and 7 are not considered to be truncatable primes."
   ]
  },
  {
   "cell_type": "code",
   "execution_count": 6,
   "id": "67da81b8",
   "metadata": {},
   "outputs": [
    {
     "name": "stdout",
     "output_type": "stream",
     "text": [
      "5min 27s ± 0 ns per loop (mean ± std. dev. of 1 run, 1 loop each)\n"
     ]
    }
   ],
   "source": [
    "t = %timeit -o -n1 -r1 truncatable_primes(11)\n",
    "euler.save_benchmark(37, t)"
   ]
  }
 ],
 "metadata": {
  "kernelspec": {
   "display_name": "datascience",
   "language": "python",
   "name": "python3"
  },
  "language_info": {
   "codemirror_mode": {
    "name": "ipython",
    "version": 3
   },
   "file_extension": ".py",
   "mimetype": "text/x-python",
   "name": "python",
   "nbconvert_exporter": "python",
   "pygments_lexer": "ipython3",
   "version": "3.11.9"
  }
 },
 "nbformat": 4,
 "nbformat_minor": 5
}
