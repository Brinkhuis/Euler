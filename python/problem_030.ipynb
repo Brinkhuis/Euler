{
 "cells": [
  {
   "cell_type": "markdown",
   "id": "c6e2ad94-1596-4b05-a508-e71eeba93df9",
   "metadata": {},
   "source": [
    "## Problem 30\n",
    "https://projecteuler.net/problem=30"
   ]
  },
  {
   "cell_type": "code",
   "execution_count": 1,
   "id": "bdc029a2",
   "metadata": {},
   "outputs": [],
   "source": [
    "def powers(start, end, power):\n",
    "    results = []\n",
    "    for n in range(start, end):\n",
    "        text = str(n)\n",
    "        total = 0\n",
    "        for i in text:\n",
    "            total += int(i)**power\n",
    "        if n == total:\n",
    "            results.append(n)\n",
    "    return sum(results)"
   ]
  },
  {
   "cell_type": "code",
   "execution_count": 2,
   "id": "9957b42b",
   "metadata": {},
   "outputs": [],
   "source": [
    "assert powers(start=2, end=1_000_000, power=4) == 19316"
   ]
  },
  {
   "cell_type": "code",
   "execution_count": 3,
   "id": "3d8b6936",
   "metadata": {},
   "outputs": [
    {
     "data": {
      "text/plain": [
       "443839"
      ]
     },
     "execution_count": 3,
     "metadata": {},
     "output_type": "execute_result"
    }
   ],
   "source": [
    "powers(start=2, end=10_000_000, power=5)"
   ]
  },
  {
   "cell_type": "code",
   "execution_count": 4,
   "id": "05162b0c",
   "metadata": {},
   "outputs": [
    {
     "name": "stdout",
     "output_type": "stream",
     "text": [
      "7.44 s ± 55.4 ms per loop (mean ± std. dev. of 7 runs, 1 loop each)\n"
     ]
    }
   ],
   "source": [
    "%timeit powers(start=2, end=10_000_000, power=5)"
   ]
  }
 ],
 "metadata": {
  "kernelspec": {
   "display_name": "datascience",
   "language": "python",
   "name": "python3"
  },
  "language_info": {
   "codemirror_mode": {
    "name": "ipython",
    "version": 3
   },
   "file_extension": ".py",
   "mimetype": "text/x-python",
   "name": "python",
   "nbconvert_exporter": "python",
   "pygments_lexer": "ipython3",
   "version": "3.11.9"
  }
 },
 "nbformat": 4,
 "nbformat_minor": 5
}
