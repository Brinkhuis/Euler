{
 "cells": [
  {
   "cell_type": "markdown",
   "id": "c6e2ad94-1596-4b05-a508-e71eeba93df9",
   "metadata": {},
   "source": [
    "# Problem 30\n",
    "https://projecteuler.net/problem=30"
   ]
  },
  {
   "cell_type": "code",
   "execution_count": 1,
   "id": "39a7985e",
   "metadata": {},
   "outputs": [
    {
     "name": "stdout",
     "output_type": "stream",
     "text": [
      "Python v3.11.10\n"
     ]
    }
   ],
   "source": [
    "print('Python v{}'.format(__import__('sys').version.split()[0]))"
   ]
  },
  {
   "cell_type": "markdown",
   "id": "e44bd6d3",
   "metadata": {},
   "source": [
    "### Solution"
   ]
  },
  {
   "cell_type": "code",
   "execution_count": 2,
   "id": "bdc029a2",
   "metadata": {},
   "outputs": [],
   "source": [
    "def powers(start, end, power):\n",
    "    results = []\n",
    "    for n in range(start, end):\n",
    "        text = str(n)\n",
    "        total = 0\n",
    "        for i in text:\n",
    "            total += int(i)**power\n",
    "        if n == total:\n",
    "            results.append(n)\n",
    "    return sum(results)\n",
    "\n",
    "assert powers(start=2, end=10_000, power=4) == 19316"
   ]
  },
  {
   "cell_type": "code",
   "execution_count": 3,
   "id": "9957b42b",
   "metadata": {},
   "outputs": [
    {
     "data": {
      "text/plain": [
       "443839"
      ]
     },
     "execution_count": 3,
     "metadata": {},
     "output_type": "execute_result"
    }
   ],
   "source": [
    "# answer\n",
    "powers(start=2, end=250_000, power=5)"
   ]
  },
  {
   "cell_type": "code",
   "execution_count": 4,
   "id": "3d8b6936",
   "metadata": {},
   "outputs": [
    {
     "name": "stdout",
     "output_type": "stream",
     "text": [
      "155 ms ± 2.27 ms per loop (mean ± std. dev. of 7 runs, 10 loops each)\n"
     ]
    }
   ],
   "source": [
    "# benchmark\n",
    "%timeit powers(start=2, end=250_000, power=5)"
   ]
  },
  {
   "cell_type": "markdown",
   "id": "7ad25bca",
   "metadata": {},
   "source": [
    "### Save benchmark"
   ]
  },
  {
   "cell_type": "code",
   "execution_count": 5,
   "id": "91cecffd",
   "metadata": {},
   "outputs": [
    {
     "name": "stdout",
     "output_type": "stream",
     "text": [
      "156 ms ± 2.48 ms per loop (mean ± std. dev. of 7 runs, 10 loops each)\n"
     ]
    }
   ],
   "source": [
    "bm = %timeit -o powers(start=2, end=250_000, power=5)\n",
    "import euler\n",
    "euler.save_benchmark(30, bm)"
   ]
  }
 ],
 "metadata": {
  "kernelspec": {
   "display_name": "datascience",
   "language": "python",
   "name": "python3"
  },
  "language_info": {
   "codemirror_mode": {
    "name": "ipython",
    "version": 3
   },
   "file_extension": ".py",
   "mimetype": "text/x-python",
   "name": "python",
   "nbconvert_exporter": "python",
   "pygments_lexer": "ipython3",
   "version": "3.11.10"
  }
 },
 "nbformat": 4,
 "nbformat_minor": 5
}
