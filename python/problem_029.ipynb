{
 "cells": [
  {
   "cell_type": "markdown",
   "id": "c6e2ad94-1596-4b05-a508-e71eeba93df9",
   "metadata": {},
   "source": [
    "## Problem 29\n",
    "https://projecteuler.net/problem=29"
   ]
  },
  {
   "cell_type": "code",
   "execution_count": 1,
   "id": "723ada8a",
   "metadata": {},
   "outputs": [],
   "source": [
    "def distinct_power(start, end):\n",
    "    power = []\n",
    "    for i in range(start, end+1):\n",
    "        for j in range(start, end+1):\n",
    "            power.append(i**j)\n",
    "    return len(set(power))"
   ]
  },
  {
   "cell_type": "code",
   "execution_count": null,
   "id": "bdc029a2",
   "metadata": {},
   "outputs": [],
   "source": [
    "assert distinct_power(2, 5) == 15"
   ]
  },
  {
   "cell_type": "code",
   "execution_count": 3,
   "id": "9957b42b",
   "metadata": {},
   "outputs": [
    {
     "data": {
      "text/plain": [
       "9183"
      ]
     },
     "execution_count": 3,
     "metadata": {},
     "output_type": "execute_result"
    }
   ],
   "source": [
    "distinct_power(2, 100)"
   ]
  },
  {
   "cell_type": "code",
   "execution_count": 4,
   "id": "49f91135",
   "metadata": {},
   "outputs": [
    {
     "name": "stdout",
     "output_type": "stream",
     "text": [
      "2.43 ms ± 4.73 μs per loop (mean ± std. dev. of 7 runs, 100 loops each)\n"
     ]
    }
   ],
   "source": [
    "%timeit distinct_power(2, 100)"
   ]
  }
 ],
 "metadata": {
  "kernelspec": {
   "display_name": "datascience",
   "language": "python",
   "name": "python3"
  },
  "language_info": {
   "codemirror_mode": {
    "name": "ipython",
    "version": 3
   },
   "file_extension": ".py",
   "mimetype": "text/x-python",
   "name": "python",
   "nbconvert_exporter": "python",
   "pygments_lexer": "ipython3",
   "version": "3.11.9"
  }
 },
 "nbformat": 4,
 "nbformat_minor": 5
}
