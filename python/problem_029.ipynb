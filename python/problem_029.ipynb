{
 "cells": [
  {
   "cell_type": "markdown",
   "id": "c6e2ad94-1596-4b05-a508-e71eeba93df9",
   "metadata": {},
   "source": [
    "# Problem 29\n",
    "https://projecteuler.net/problem=29"
   ]
  },
  {
   "cell_type": "code",
   "execution_count": 1,
   "id": "a2e632d2",
   "metadata": {},
   "outputs": [
    {
     "name": "stdout",
     "output_type": "stream",
     "text": [
      "Python v3.11.10\n"
     ]
    }
   ],
   "source": [
    "print('Python v{}'.format(__import__('sys').version.split()[0]))"
   ]
  },
  {
   "cell_type": "markdown",
   "id": "3cf674d3",
   "metadata": {},
   "source": [
    "### Solution 1 (add to set)"
   ]
  },
  {
   "cell_type": "code",
   "execution_count": 2,
   "id": "67e5caf7",
   "metadata": {},
   "outputs": [],
   "source": [
    "def distinct_power(start, end):\n",
    "    power = set()\n",
    "    for i in range(start, end+1):\n",
    "        for j in range(start, end+1):\n",
    "            power.add(i**j)\n",
    "    return len(power)\n",
    "\n",
    "assert distinct_power(2, 5) == 15"
   ]
  },
  {
   "cell_type": "code",
   "execution_count": 3,
   "id": "9957b42b",
   "metadata": {},
   "outputs": [
    {
     "data": {
      "text/plain": [
       "9183"
      ]
     },
     "execution_count": 3,
     "metadata": {},
     "output_type": "execute_result"
    }
   ],
   "source": [
    "# answer\n",
    "distinct_power(2, 100)"
   ]
  },
  {
   "cell_type": "code",
   "execution_count": 4,
   "id": "1f1b2ea5",
   "metadata": {},
   "outputs": [
    {
     "name": "stdout",
     "output_type": "stream",
     "text": [
      "2.65 ms ± 205 μs per loop (mean ± std. dev. of 7 runs, 100 loops each)\n"
     ]
    }
   ],
   "source": [
    "# benchmark\n",
    "%timeit distinct_power(2, 100)"
   ]
  },
  {
   "cell_type": "markdown",
   "id": "65ea9264",
   "metadata": {},
   "source": [
    "### Solution 2 (oneliner)"
   ]
  },
  {
   "cell_type": "code",
   "execution_count": 5,
   "id": "e59bf5fa",
   "metadata": {},
   "outputs": [
    {
     "data": {
      "text/plain": [
       "9183"
      ]
     },
     "execution_count": 5,
     "metadata": {},
     "output_type": "execute_result"
    }
   ],
   "source": [
    "# answer\n",
    "len(set(i**j for i in range(2, 100+1) for j in range(2, 100+1)))"
   ]
  },
  {
   "cell_type": "code",
   "execution_count": 6,
   "id": "0d065f3d",
   "metadata": {},
   "outputs": [
    {
     "name": "stdout",
     "output_type": "stream",
     "text": [
      "2.6 ms ± 14.6 μs per loop (mean ± std. dev. of 7 runs, 100 loops each)\n"
     ]
    }
   ],
   "source": [
    "# benchmark\n",
    "%timeit len(set(i**j for i in range(2, 100+1) for j in range(2, 100+1)))"
   ]
  },
  {
   "cell_type": "markdown",
   "id": "27e2ce1b",
   "metadata": {},
   "source": [
    "### Save benchmark"
   ]
  },
  {
   "cell_type": "code",
   "execution_count": 7,
   "id": "0c0ef186",
   "metadata": {},
   "outputs": [
    {
     "name": "stdout",
     "output_type": "stream",
     "text": [
      "2.6 ms ± 13 μs per loop (mean ± std. dev. of 7 runs, 100 loops each)\n"
     ]
    }
   ],
   "source": [
    "bm = %timeit -o len(set(i**j for i in range(2, 100+1) for j in range(2, 100+1)))\n",
    "import euler\n",
    "euler.save_benchmark(29, bm)"
   ]
  }
 ],
 "metadata": {
  "kernelspec": {
   "display_name": "datascience",
   "language": "python",
   "name": "python3"
  },
  "language_info": {
   "codemirror_mode": {
    "name": "ipython",
    "version": 3
   },
   "file_extension": ".py",
   "mimetype": "text/x-python",
   "name": "python",
   "nbconvert_exporter": "python",
   "pygments_lexer": "ipython3",
   "version": "3.11.10"
  }
 },
 "nbformat": 4,
 "nbformat_minor": 5
}
