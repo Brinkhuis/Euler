{
 "cells": [
  {
   "cell_type": "markdown",
   "id": "c6e2ad94-1596-4b05-a508-e71eeba93df9",
   "metadata": {},
   "source": [
    "# Problem 11\n",
    "https://projecteuler.net/problem=11"
   ]
  },
  {
   "cell_type": "code",
   "execution_count": 1,
   "id": "574cf3df",
   "metadata": {},
   "outputs": [
    {
     "name": "stdout",
     "output_type": "stream",
     "text": [
      "Python v3.11.10\n"
     ]
    }
   ],
   "source": [
    "print('Python v{}'.format(__import__('sys').version.split()[0]))"
   ]
  },
  {
   "cell_type": "markdown",
   "id": "8751771f",
   "metadata": {},
   "source": [
    "### Solution"
   ]
  },
  {
   "cell_type": "code",
   "execution_count": 2,
   "id": "b69b4b58",
   "metadata": {},
   "outputs": [],
   "source": [
    "f = open(\"../data/0011_grid.txt\", \"r\")\n",
    "grid = [[int(n) for n in s.split()] for s in f.readlines()]\n",
    "f.close()"
   ]
  },
  {
   "cell_type": "code",
   "execution_count": 3,
   "id": "5ac01d4a",
   "metadata": {},
   "outputs": [],
   "source": [
    "def get_lines(matrix):\n",
    "\n",
    "    nrows = len(matrix)\n",
    "    ncols = len(matrix[0])\n",
    "    \n",
    "    h = [[] for _ in range(nrows)] # horizontal lines\n",
    "    v = [[] for _ in range(ncols)] # vertical lines\n",
    "    f = [[] for _ in range(nrows + ncols - 1)] # forward diagonals\n",
    "    b = [[] for _ in range(nrows + ncols - 1)] # backward diagonals\n",
    "    \n",
    "    for i in range(nrows):\n",
    "        for j in range(ncols):\n",
    "            h[i].append(matrix[i][j]) # horizontal line\n",
    "            v[j].append(matrix[i][j]) # vertical line\n",
    "            f[i + j].append(matrix[i][j]) # forward diagonal\n",
    "            b[i - j + nrows - 2].append(matrix[i][j]) # backward diagonal\n",
    "\n",
    "    return {\n",
    "        \"lines_horizontal\": h,\n",
    "        \"lines_vertical\": v,\n",
    "        \"diagonals_forward\": f,\n",
    "        \"diagonals_backward\": b\n",
    "    }"
   ]
  },
  {
   "cell_type": "code",
   "execution_count": 4,
   "id": "9559ef6d",
   "metadata": {},
   "outputs": [],
   "source": [
    "def greatest_adjacent_numbers(n, grid_lines):\n",
    "    \n",
    "    # Flatten list\n",
    "    lines = [line for sub_list in [value for key, value in grid_lines.items()] for line in sub_list]\n",
    "\n",
    "    # Keep lines with minimum required length\n",
    "    lines = [line for line in lines if len(line) >= n]\n",
    "\n",
    "    # Sections of length n from all lines\n",
    "    sections = []\n",
    "    for s in lines:\n",
    "        l = len(s)\n",
    "        x = l-n\n",
    "        for i in range(x+1):\n",
    "            sections.append(s[i:i+n])\n",
    "    \n",
    "    # Products\n",
    "    products = []\n",
    "    for s in sections:\n",
    "        p = 1\n",
    "        for i in s:\n",
    "            p *= i\n",
    "            products.append(p)\n",
    "    \n",
    "    # Return\n",
    "    return max(products)"
   ]
  },
  {
   "cell_type": "code",
   "execution_count": 5,
   "id": "bb826667",
   "metadata": {},
   "outputs": [
    {
     "data": {
      "text/plain": [
       "70600674"
      ]
     },
     "execution_count": 5,
     "metadata": {},
     "output_type": "execute_result"
    }
   ],
   "source": [
    "# answer\n",
    "greatest_adjacent_numbers(4, get_lines(grid))"
   ]
  },
  {
   "cell_type": "code",
   "execution_count": 6,
   "id": "e5e70db5",
   "metadata": {},
   "outputs": [
    {
     "name": "stdout",
     "output_type": "stream",
     "text": [
      "331 μs ± 961 ns per loop (mean ± std. dev. of 7 runs, 1,000 loops each)\n"
     ]
    }
   ],
   "source": [
    "# benchmark\n",
    "%timeit greatest_adjacent_numbers(4, get_lines(grid))"
   ]
  },
  {
   "cell_type": "markdown",
   "id": "1762f87e",
   "metadata": {},
   "source": [
    "### Save benchmark"
   ]
  },
  {
   "cell_type": "code",
   "execution_count": 7,
   "id": "b5fab265",
   "metadata": {},
   "outputs": [
    {
     "name": "stdout",
     "output_type": "stream",
     "text": [
      "330 μs ± 319 ns per loop (mean ± std. dev. of 7 runs, 1,000 loops each)\n"
     ]
    }
   ],
   "source": [
    "bm = %timeit -o greatest_adjacent_numbers(4, get_lines(grid))\n",
    "import euler\n",
    "euler.save_benchmark(11, bm)"
   ]
  }
 ],
 "metadata": {
  "kernelspec": {
   "display_name": "datascience",
   "language": "python",
   "name": "python3"
  },
  "language_info": {
   "codemirror_mode": {
    "name": "ipython",
    "version": 3
   },
   "file_extension": ".py",
   "mimetype": "text/x-python",
   "name": "python",
   "nbconvert_exporter": "python",
   "pygments_lexer": "ipython3",
   "version": "3.11.10"
  }
 },
 "nbformat": 4,
 "nbformat_minor": 5
}
