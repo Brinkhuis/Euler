{
 "cells": [
  {
   "cell_type": "markdown",
   "id": "c6e2ad94-1596-4b05-a508-e71eeba93df9",
   "metadata": {},
   "source": [
    "# Problem 41\n",
    "https://projecteuler.net/problem=41"
   ]
  },
  {
   "cell_type": "code",
   "execution_count": 1,
   "id": "0ab09475",
   "metadata": {},
   "outputs": [
    {
     "name": "stdout",
     "output_type": "stream",
     "text": [
      "Python v3.11.10\n"
     ]
    }
   ],
   "source": [
    "print('Python v{}'.format(__import__('sys').version.split()[0]))"
   ]
  },
  {
   "cell_type": "markdown",
   "id": "b25058b6",
   "metadata": {},
   "source": [
    "### Solution 1 (brute force)"
   ]
  },
  {
   "cell_type": "code",
   "execution_count": 2,
   "id": "ba162115",
   "metadata": {},
   "outputs": [],
   "source": [
    "from sympy import primerange"
   ]
  },
  {
   "cell_type": "code",
   "execution_count": 3,
   "id": "5ca88ca0",
   "metadata": {},
   "outputs": [],
   "source": [
    "def ispandigital(n):\n",
    "    return ''.join(sorted(str(n))) == ''.join(str(i) for i in range(1, len(str(n))+1))\n",
    "\n",
    "assert ispandigital(15243)"
   ]
  },
  {
   "cell_type": "code",
   "execution_count": 4,
   "id": "99b6c4a8",
   "metadata": {},
   "outputs": [
    {
     "data": {
      "text/plain": [
       "7652413"
      ]
     },
     "execution_count": 4,
     "metadata": {},
     "output_type": "execute_result"
    }
   ],
   "source": [
    "# answer\n",
    "max(p for p in primerange(987654321) if ispandigital(p))"
   ]
  },
  {
   "cell_type": "code",
   "execution_count": 5,
   "id": "1d0b4a76",
   "metadata": {},
   "outputs": [
    {
     "name": "stdout",
     "output_type": "stream",
     "text": [
      "8min 48s ± 0 ns per loop (mean ± std. dev. of 1 run, 1 loop each)\n"
     ]
    }
   ],
   "source": [
    "# benchmark\n",
    "%timeit -n1 -r1 max(p for p in primerange(987654321) if ispandigital(p))"
   ]
  },
  {
   "cell_type": "markdown",
   "id": "ac4108c8",
   "metadata": {},
   "source": [
    "### Solution 2 (skip irrelevant pandigital ranges)"
   ]
  },
  {
   "cell_type": "code",
   "execution_count": 6,
   "id": "db0c0ba1",
   "metadata": {},
   "outputs": [],
   "source": [
    "from sympy import primerange\n",
    "from itertools import permutations "
   ]
  },
  {
   "cell_type": "markdown",
   "id": "4df80876",
   "metadata": {},
   "source": [
    "$$ \\text{sum(1:9) = 45} \\Rightarrow \\text{45 is dividable by 3} \\Rightarrow \\text{9-digit pandigitals are not prime} $$"
   ]
  },
  {
   "cell_type": "code",
   "execution_count": 7,
   "id": "75d13ceb",
   "metadata": {},
   "outputs": [
    {
     "data": {
      "text/plain": [
       "True"
      ]
     },
     "execution_count": 7,
     "metadata": {},
     "output_type": "execute_result"
    }
   ],
   "source": [
    "# proof\n",
    "all(int(''.join(str(n) for n in p)) % 3 == 0 for p in permutations(range(1, 10)))"
   ]
  },
  {
   "cell_type": "markdown",
   "id": "f17cccd1",
   "metadata": {},
   "source": [
    "$$ \\text{sum(1:8) = 36} \\Rightarrow \\text{36 is dividable by 3} \\Rightarrow \\text{8-digit pandigitals are not prime} $$"
   ]
  },
  {
   "cell_type": "code",
   "execution_count": 8,
   "id": "46650d25",
   "metadata": {},
   "outputs": [
    {
     "data": {
      "text/plain": [
       "True"
      ]
     },
     "execution_count": 8,
     "metadata": {},
     "output_type": "execute_result"
    }
   ],
   "source": [
    "# proof\n",
    "all(int(''.join(str(n) for n in p)) % 3 == 0 for p in permutations(range(1, 9)))"
   ]
  },
  {
   "cell_type": "markdown",
   "id": "864597cb",
   "metadata": {},
   "source": [
    "$$ \\text{Check pandigitals of length 2 - 9; 1 excluded because 1 is not a prime} $$"
   ]
  },
  {
   "cell_type": "code",
   "execution_count": 9,
   "id": "614287c6",
   "metadata": {},
   "outputs": [
    {
     "name": "stdout",
     "output_type": "stream",
     "text": [
      "2 -> False\n",
      "3 -> False\n",
      "4 -> True\n",
      "5 -> False\n",
      "6 -> False\n",
      "7 -> True\n",
      "8 -> False\n",
      "9 -> False\n"
     ]
    }
   ],
   "source": [
    "# valid pandigital lengths\n",
    "for i in range(2, 10):\n",
    "    check = all(int(''.join(str(n) for n in p)) % 3 == 0 for p in permutations(range(1, i+1)))\n",
    "    print(f'{i} -> {not check}')"
   ]
  },
  {
   "cell_type": "code",
   "execution_count": 10,
   "id": "6c02f185",
   "metadata": {},
   "outputs": [],
   "source": [
    "def ispandigital(n):\n",
    "    return ''.join(sorted(str(n))) == ''.join(str(i) for i in range(1, len(str(n))+1))\n",
    "\n",
    "assert ispandigital(15243)"
   ]
  },
  {
   "cell_type": "code",
   "execution_count": 11,
   "id": "b6065389",
   "metadata": {},
   "outputs": [],
   "source": [
    "def largest_pandigital_prime():\n",
    "    valid_primes = []\n",
    "    prime_ranges = [\n",
    "        primerange(\n",
    "            int(''.join(str(n) for n in range(1, i+1))), \n",
    "            int(''.join(str(n) for n in range(i, 0, -1)))+1\n",
    "        ) for i in range(2, 10) if not all(int(''.join(str(n) for n in p)) % 3 == 0 for p in permutations(range(1, i+1)))]\n",
    "    for prime_range in prime_ranges:\n",
    "        valid_primes.extend(prime_range)\n",
    "    for p in valid_primes[::-1]:\n",
    "        if ispandigital(p):\n",
    "            return p"
   ]
  },
  {
   "cell_type": "code",
   "execution_count": 12,
   "id": "536bc1e8",
   "metadata": {},
   "outputs": [
    {
     "data": {
      "text/plain": [
       "7652413"
      ]
     },
     "execution_count": 12,
     "metadata": {},
     "output_type": "execute_result"
    }
   ],
   "source": [
    "# answer\n",
    "largest_pandigital_prime()"
   ]
  },
  {
   "cell_type": "code",
   "execution_count": 13,
   "id": "1309cac6",
   "metadata": {},
   "outputs": [
    {
     "name": "stdout",
     "output_type": "stream",
     "text": [
      "3.42 s ± 75.8 ms per loop (mean ± std. dev. of 7 runs, 1 loop each)\n"
     ]
    }
   ],
   "source": [
    "# benchmark\n",
    "%timeit largest_pandigital_prime()"
   ]
  },
  {
   "cell_type": "markdown",
   "id": "e9c91e1e",
   "metadata": {},
   "source": [
    "### Save benchmark"
   ]
  },
  {
   "cell_type": "code",
   "execution_count": 14,
   "id": "b7e49bf0",
   "metadata": {},
   "outputs": [
    {
     "name": "stdout",
     "output_type": "stream",
     "text": [
      "3.4 s ± 6.28 ms per loop (mean ± std. dev. of 7 runs, 1 loop each)\n"
     ]
    }
   ],
   "source": [
    "bm = %timeit -o largest_pandigital_prime()\n",
    "import euler\n",
    "euler.save_benchmark(41, bm)"
   ]
  }
 ],
 "metadata": {
  "kernelspec": {
   "display_name": "datascience",
   "language": "python",
   "name": "python3"
  },
  "language_info": {
   "codemirror_mode": {
    "name": "ipython",
    "version": 3
   },
   "file_extension": ".py",
   "mimetype": "text/x-python",
   "name": "python",
   "nbconvert_exporter": "python",
   "pygments_lexer": "ipython3",
   "version": "3.11.10"
  }
 },
 "nbformat": 4,
 "nbformat_minor": 5
}
