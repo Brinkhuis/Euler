{
 "cells": [
  {
   "cell_type": "markdown",
   "id": "c6e2ad94-1596-4b05-a508-e71eeba93df9",
   "metadata": {},
   "source": [
    "# Problem 41\n",
    "https://projecteuler.net/problem=41"
   ]
  },
  {
   "cell_type": "code",
   "execution_count": 1,
   "id": "0ab09475",
   "metadata": {},
   "outputs": [
    {
     "name": "stdout",
     "output_type": "stream",
     "text": [
      "Python v3.11.10\n"
     ]
    }
   ],
   "source": [
    "print('Python v{}'.format(__import__('sys').version.split()[0]))"
   ]
  },
  {
   "cell_type": "markdown",
   "id": "b25058b6",
   "metadata": {},
   "source": [
    "### Solution"
   ]
  },
  {
   "cell_type": "code",
   "execution_count": 2,
   "id": "ba162115",
   "metadata": {},
   "outputs": [],
   "source": [
    "import sympy"
   ]
  },
  {
   "cell_type": "code",
   "execution_count": 3,
   "id": "5ca88ca0",
   "metadata": {},
   "outputs": [],
   "source": [
    "def ispandigital(n):\n",
    "    return ''.join(sorted(str(n))) == ''.join(str(i) for i in range(1, len(str(n))+1))\n",
    "\n",
    "assert ispandigital(15243)"
   ]
  },
  {
   "cell_type": "code",
   "execution_count": 4,
   "id": "99b6c4a8",
   "metadata": {},
   "outputs": [
    {
     "data": {
      "text/plain": [
       "7652413"
      ]
     },
     "execution_count": 4,
     "metadata": {},
     "output_type": "execute_result"
    }
   ],
   "source": [
    "# answer\n",
    "max(p for p in sympy.primerange(987654321) if ispandigital(p))"
   ]
  },
  {
   "cell_type": "code",
   "execution_count": 5,
   "id": "1d0b4a76",
   "metadata": {},
   "outputs": [
    {
     "name": "stdout",
     "output_type": "stream",
     "text": [
      "8min 50s ± 0 ns per loop (mean ± std. dev. of 1 run, 1 loop each)\n"
     ]
    }
   ],
   "source": [
    "# benchmark\n",
    "%timeit -n1 -r1 max(p for p in sympy.primerange(987654321) if ispandigital(p))"
   ]
  },
  {
   "cell_type": "markdown",
   "id": "e9c91e1e",
   "metadata": {},
   "source": [
    "### Save benchmark"
   ]
  },
  {
   "cell_type": "code",
   "execution_count": 6,
   "id": "b7e49bf0",
   "metadata": {},
   "outputs": [
    {
     "name": "stdout",
     "output_type": "stream",
     "text": [
      "8min 51s ± 0 ns per loop (mean ± std. dev. of 1 run, 1 loop each)\n"
     ]
    }
   ],
   "source": [
    "bm = %timeit -o -n1 -r1 max(p for p in sympy.primerange(987654321) if ispandigital(p))\n",
    "import euler\n",
    "euler.save_benchmark(41, bm)"
   ]
  }
 ],
 "metadata": {
  "kernelspec": {
   "display_name": "datascience",
   "language": "python",
   "name": "python3"
  },
  "language_info": {
   "codemirror_mode": {
    "name": "ipython",
    "version": 3
   },
   "file_extension": ".py",
   "mimetype": "text/x-python",
   "name": "python",
   "nbconvert_exporter": "python",
   "pygments_lexer": "ipython3",
   "version": "3.11.10"
  }
 },
 "nbformat": 4,
 "nbformat_minor": 5
}
