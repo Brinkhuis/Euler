{
 "cells": [
  {
   "cell_type": "markdown",
   "id": "c6e2ad94-1596-4b05-a508-e71eeba93df9",
   "metadata": {},
   "source": [
    "## Problem 7\n",
    "https://projecteuler.net/problem=7"
   ]
  },
  {
   "cell_type": "code",
   "execution_count": 1,
   "id": "46b306d8",
   "metadata": {},
   "outputs": [
    {
     "name": "stdout",
     "output_type": "stream",
     "text": [
      "Python v3.11.10\n"
     ]
    }
   ],
   "source": [
    "print('Python v{}'.format(__import__('sys').version.split()[0]))"
   ]
  },
  {
   "cell_type": "markdown",
   "id": "982690ae",
   "metadata": {},
   "source": [
    "### Solution 1 (sieve of eratosthenes)"
   ]
  },
  {
   "cell_type": "code",
   "execution_count": 2,
   "id": "81c2912c",
   "metadata": {},
   "outputs": [],
   "source": [
    "def eratosthenes():\n",
    "\t'''Yields the sequence of prime numbers via the Sieve of Eratosthenes.'''\n",
    "\tD = {}  # map composite integers to primes witnessing their compositeness\n",
    "\tq = 2   # first integer to test for primality\n",
    "\twhile 1:\n",
    "\t\tif q not in D:\n",
    "\t\t\tyield q        # not marked composite, must be prime\n",
    "\t\t\tD[q*q] = [q]   # first multiple of q not already marked\n",
    "\t\telse:\n",
    "\t\t\tfor p in D[q]: # move each witness to its next multiple\n",
    "\t\t\t\tD.setdefault(p+q,[]).append(p)\n",
    "\t\t\tdel D[q]       # no longer need D[q], free memory\n",
    "\t\tq += 1\n",
    "\n",
    "assert next(eratosthenes()) == 2"
   ]
  },
  {
   "cell_type": "code",
   "execution_count": 3,
   "id": "02c9b941",
   "metadata": {},
   "outputs": [],
   "source": [
    "def prime(n):\n",
    "    primes = eratosthenes()\n",
    "    for i in range(n):\n",
    "        prime = next(primes)\n",
    "    return prime\n",
    "\n",
    "assert prime(6) == 13"
   ]
  },
  {
   "cell_type": "code",
   "execution_count": 4,
   "id": "12cdb474",
   "metadata": {},
   "outputs": [
    {
     "data": {
      "text/plain": [
       "104743"
      ]
     },
     "execution_count": 4,
     "metadata": {},
     "output_type": "execute_result"
    }
   ],
   "source": [
    "# answer\n",
    "prime(10_001)"
   ]
  },
  {
   "cell_type": "code",
   "execution_count": 5,
   "id": "7d2ebc28",
   "metadata": {},
   "outputs": [
    {
     "name": "stdout",
     "output_type": "stream",
     "text": [
      "23.9 ms ± 207 μs per loop (mean ± std. dev. of 7 runs, 10 loops each)\n"
     ]
    }
   ],
   "source": [
    "# benchmark\n",
    "%timeit prime(10_001)"
   ]
  },
  {
   "cell_type": "markdown",
   "id": "621a97d8",
   "metadata": {},
   "source": [
    "### Solution 2 (sympy)"
   ]
  },
  {
   "cell_type": "code",
   "execution_count": 6,
   "id": "368acef6",
   "metadata": {},
   "outputs": [],
   "source": [
    "import sympy"
   ]
  },
  {
   "cell_type": "code",
   "execution_count": 7,
   "id": "53866cb1",
   "metadata": {},
   "outputs": [
    {
     "data": {
      "text/plain": [
       "104743"
      ]
     },
     "execution_count": 7,
     "metadata": {},
     "output_type": "execute_result"
    }
   ],
   "source": [
    "# answer\n",
    "sympy.prime(10_001)"
   ]
  },
  {
   "cell_type": "code",
   "execution_count": 8,
   "id": "f8396fa5",
   "metadata": {},
   "outputs": [
    {
     "name": "stdout",
     "output_type": "stream",
     "text": [
      "4.43 ms ± 4.47 μs per loop (mean ± std. dev. of 7 runs, 100 loops each)\n"
     ]
    }
   ],
   "source": [
    "# benchmark\n",
    "%timeit sympy.prime(10_001)"
   ]
  },
  {
   "cell_type": "markdown",
   "id": "f486a09d",
   "metadata": {},
   "source": [
    "### Save benchmark"
   ]
  },
  {
   "cell_type": "code",
   "execution_count": 9,
   "id": "0f883624",
   "metadata": {},
   "outputs": [
    {
     "name": "stdout",
     "output_type": "stream",
     "text": [
      "4.57 ms ± 168 μs per loop (mean ± std. dev. of 7 runs, 100 loops each)\n"
     ]
    }
   ],
   "source": [
    "bm = %timeit -o sympy.prime(10_001)\n",
    "import euler\n",
    "euler.save_benchmark(7, bm)"
   ]
  },
  {
   "cell_type": "markdown",
   "id": "554e79b2",
   "metadata": {},
   "source": [
    "Source:\n",
    "- Prime Generator: https://code.activestate.com/recipes/117119"
   ]
  }
 ],
 "metadata": {
  "kernelspec": {
   "display_name": "datascience",
   "language": "python",
   "name": "python3"
  },
  "language_info": {
   "codemirror_mode": {
    "name": "ipython",
    "version": 3
   },
   "file_extension": ".py",
   "mimetype": "text/x-python",
   "name": "python",
   "nbconvert_exporter": "python",
   "pygments_lexer": "ipython3",
   "version": "3.11.10"
  }
 },
 "nbformat": 4,
 "nbformat_minor": 5
}
