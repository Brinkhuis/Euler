{
 "cells": [
  {
   "cell_type": "markdown",
   "id": "c6e2ad94-1596-4b05-a508-e71eeba93df9",
   "metadata": {},
   "source": [
    "## Problem 7\n",
    "https://projecteuler.net/problem=7"
   ]
  },
  {
   "cell_type": "code",
   "execution_count": 1,
   "id": "46b306d8",
   "metadata": {},
   "outputs": [],
   "source": [
    "import euler"
   ]
  },
  {
   "cell_type": "code",
   "execution_count": 2,
   "id": "81c2912c",
   "metadata": {},
   "outputs": [],
   "source": [
    "def eratosthenes():\n",
    "\t'''Yields the sequence of prime numbers via the Sieve of Eratosthenes.'''\n",
    "\tD = {}  # map composite integers to primes witnessing their compositeness\n",
    "\tq = 2   # first integer to test for primality\n",
    "\twhile 1:\n",
    "\t\tif q not in D:\n",
    "\t\t\tyield q        # not marked composite, must be prime\n",
    "\t\t\tD[q*q] = [q]   # first multiple of q not already marked\n",
    "\t\telse:\n",
    "\t\t\tfor p in D[q]: # move each witness to its next multiple\n",
    "\t\t\t\tD.setdefault(p+q,[]).append(p)\n",
    "\t\t\tdel D[q]       # no longer need D[q], free memory\n",
    "\t\tq += 1"
   ]
  },
  {
   "cell_type": "code",
   "execution_count": 3,
   "id": "02c9b941",
   "metadata": {},
   "outputs": [],
   "source": [
    "def prime(n):\n",
    "    primes = eratosthenes()\n",
    "    for i in range(n):\n",
    "        prime = next(primes)\n",
    "    return prime"
   ]
  },
  {
   "cell_type": "code",
   "execution_count": 4,
   "id": "8e8fa561",
   "metadata": {},
   "outputs": [],
   "source": [
    "assert prime(6) == 13"
   ]
  },
  {
   "cell_type": "code",
   "execution_count": 5,
   "id": "7d2ebc28",
   "metadata": {},
   "outputs": [
    {
     "data": {
      "text/plain": [
       "104743"
      ]
     },
     "execution_count": 5,
     "metadata": {},
     "output_type": "execute_result"
    }
   ],
   "source": [
    "prime(10001)"
   ]
  },
  {
   "cell_type": "code",
   "execution_count": 6,
   "id": "0f883624",
   "metadata": {},
   "outputs": [
    {
     "name": "stdout",
     "output_type": "stream",
     "text": [
      "23.5 ms ± 51.4 μs per loop (mean ± std. dev. of 7 runs, 10 loops each)\n"
     ]
    }
   ],
   "source": [
    "t = %timeit -o prime(10001)\n",
    "euler.save_benchmark(7, t)"
   ]
  },
  {
   "cell_type": "markdown",
   "id": "554e79b2",
   "metadata": {},
   "source": [
    "Source:\n",
    "- Prime Generator: https://code.activestate.com/recipes/117119"
   ]
  }
 ],
 "metadata": {
  "kernelspec": {
   "display_name": "datascience",
   "language": "python",
   "name": "python3"
  },
  "language_info": {
   "codemirror_mode": {
    "name": "ipython",
    "version": 3
   },
   "file_extension": ".py",
   "mimetype": "text/x-python",
   "name": "python",
   "nbconvert_exporter": "python",
   "pygments_lexer": "ipython3",
   "version": "3.11.9"
  }
 },
 "nbformat": 4,
 "nbformat_minor": 5
}
