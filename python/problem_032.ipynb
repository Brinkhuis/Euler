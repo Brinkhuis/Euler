{
 "cells": [
  {
   "cell_type": "markdown",
   "id": "c6e2ad94-1596-4b05-a508-e71eeba93df9",
   "metadata": {},
   "source": [
    "# Problem 32\n",
    "https://projecteuler.net/problem=32"
   ]
  },
  {
   "cell_type": "code",
   "execution_count": 1,
   "id": "7f1c9b6b",
   "metadata": {},
   "outputs": [
    {
     "name": "stdout",
     "output_type": "stream",
     "text": [
      "Python v3.11.10\n"
     ]
    }
   ],
   "source": [
    "print('Python v{}'.format(__import__('sys').version.split()[0]))"
   ]
  },
  {
   "cell_type": "markdown",
   "id": "651143c9",
   "metadata": {},
   "source": [
    "### Solution"
   ]
  },
  {
   "cell_type": "code",
   "execution_count": 2,
   "id": "81c2912c",
   "metadata": {},
   "outputs": [],
   "source": [
    "def ispandigital(num):\n",
    "    \"\"\"\n",
    "    ispandigital(123456789) == true\n",
    "    ispandigital(987654321) == true\n",
    "    ispandigital(12345) == true\n",
    "    \"\"\"\n",
    "    if ''.join(sorted(str(num))) == ''.join(str(i) for i in range(1, len(str(num))+1)):\n",
    "        return True\n",
    "    else:\n",
    "        return False\n",
    "\n",
    "assert ispandigital(123456789)\n",
    "assert ispandigital(987654321)\n",
    "assert ispandigital(12345)\n",
    "assert ispandigital(54321)\n",
    "assert not ispandigital(2468)"
   ]
  },
  {
   "cell_type": "code",
   "execution_count": 3,
   "id": "0a0f6210",
   "metadata": {},
   "outputs": [],
   "source": [
    "def ispandigital(num, n=0):\n",
    "    \"\"\"\n",
    "    ispandigital(123456789) == true\n",
    "    ispandigital(987654321) == true\n",
    "    ispandigital(12345) == true\n",
    "    ispandigital(12345, 9) == false\n",
    "    ispandigital(123456789, 5) == false\n",
    "    \"\"\"\n",
    "    if n == 0:\n",
    "        n = len(str(num))\n",
    "\n",
    "    if ''.join(sorted(str(num))) == ''.join(str(i) for i in range(1, n+1)):\n",
    "        return True\n",
    "    else:\n",
    "        return False\n",
    "\n",
    "assert ispandigital(123456789)\n",
    "assert ispandigital(987654321)\n",
    "assert ispandigital(12345)\n",
    "assert not ispandigital(12345, 9)\n",
    "assert not ispandigital(123456789, 5)"
   ]
  },
  {
   "cell_type": "code",
   "execution_count": 4,
   "id": "e564c137",
   "metadata": {},
   "outputs": [],
   "source": [
    "def concat_nums(lst):\n",
    "    \"\"\"\n",
    "    concat_nums([1, 23, 456]) == 123456\n",
    "    concat_nums([543, 21, 0]) == 543210\n",
    "    concat_nums([0, 12, 345]) ==  12345\n",
    "    \"\"\"\n",
    "    num = ''\n",
    "    for j in [str(i) for i in lst]:\n",
    "        num += j\n",
    "    return int(num)\n",
    "\n",
    "assert concat_nums([1, 23, 456]) == 123456\n",
    "assert concat_nums([543, 21, 0]) == 543210\n",
    "assert concat_nums([0, 12, 345]) ==  12345"
   ]
  },
  {
   "cell_type": "code",
   "execution_count": 5,
   "id": "e4b977f0",
   "metadata": {},
   "outputs": [],
   "source": [
    "multiplicand_max = 100 # try different values to optimize execution time\n",
    "multiplier_max = 10_000; # try different values to optimize execution time"
   ]
  },
  {
   "cell_type": "code",
   "execution_count": 6,
   "id": "8f78d886",
   "metadata": {},
   "outputs": [
    {
     "data": {
      "text/plain": [
       "45228"
      ]
     },
     "execution_count": 6,
     "metadata": {},
     "output_type": "execute_result"
    }
   ],
   "source": [
    "# answer\n",
    "sum(set(i*j for i in range(1, multiplicand_max+1) for j in range(1, multiplier_max+1) if ispandigital(concat_nums([i, j, i*j]), 9)))"
   ]
  },
  {
   "cell_type": "code",
   "execution_count": 7,
   "id": "d948aa18",
   "metadata": {},
   "outputs": [
    {
     "name": "stdout",
     "output_type": "stream",
     "text": [
      "1.96 s ± 56 ms per loop (mean ± std. dev. of 7 runs, 1 loop each)\n"
     ]
    }
   ],
   "source": [
    "# benchmark\n",
    "%timeit sum(set(i*j for i in range(1, multiplicand_max+1) for j in range(1, multiplier_max+1) if ispandigital(concat_nums([i, j, i*j]), 9)))"
   ]
  },
  {
   "cell_type": "markdown",
   "id": "8bbb7276",
   "metadata": {},
   "source": [
    "### Save benchmark"
   ]
  },
  {
   "cell_type": "code",
   "execution_count": 8,
   "id": "083102bb",
   "metadata": {},
   "outputs": [
    {
     "name": "stdout",
     "output_type": "stream",
     "text": [
      "1.91 s ± 58.4 ms per loop (mean ± std. dev. of 7 runs, 1 loop each)\n"
     ]
    }
   ],
   "source": [
    "bm = %timeit -o sum(set(i*j for i in range(1, multiplicand_max+1) for j in range(1, multiplier_max+1) if ispandigital(concat_nums([i, j, i*j]), 9)))\n",
    "import euler\n",
    "euler.save_benchmark(32, bm)"
   ]
  }
 ],
 "metadata": {
  "kernelspec": {
   "display_name": "datascience",
   "language": "python",
   "name": "python3"
  },
  "language_info": {
   "codemirror_mode": {
    "name": "ipython",
    "version": 3
   },
   "file_extension": ".py",
   "mimetype": "text/x-python",
   "name": "python",
   "nbconvert_exporter": "python",
   "pygments_lexer": "ipython3",
   "version": "3.11.10"
  }
 },
 "nbformat": 4,
 "nbformat_minor": 5
}
