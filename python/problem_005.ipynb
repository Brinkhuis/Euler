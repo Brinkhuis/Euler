{
 "cells": [
  {
   "cell_type": "markdown",
   "id": "c6e2ad94-1596-4b05-a508-e71eeba93df9",
   "metadata": {},
   "source": [
    "## Problem 5\n",
    "https://projecteuler.net/problem=5"
   ]
  },
  {
   "cell_type": "markdown",
   "id": "1cc7e0f8",
   "metadata": {},
   "source": [
    "#### Solution 1 (brute force)"
   ]
  },
  {
   "cell_type": "code",
   "execution_count": 1,
   "id": "4a53b3ca",
   "metadata": {},
   "outputs": [],
   "source": [
    "def smallest_multiple_brute_force(n=20):\n",
    "    x = 1\n",
    "    while not all([x%i == 0 for i in range(1, n+1)]):\n",
    "        x += 1\n",
    "    return x"
   ]
  },
  {
   "cell_type": "code",
   "execution_count": 2,
   "id": "c2b48784",
   "metadata": {},
   "outputs": [
    {
     "data": {
      "text/plain": [
       "232792560"
      ]
     },
     "execution_count": 2,
     "metadata": {},
     "output_type": "execute_result"
    }
   ],
   "source": [
    "smallest_multiple_brute_force(n=20)"
   ]
  },
  {
   "cell_type": "code",
   "execution_count": 3,
   "id": "c7e4c4c9",
   "metadata": {},
   "outputs": [
    {
     "name": "stdout",
     "output_type": "stream",
     "text": [
      "3min 14s ± 3.21 s per loop (mean ± std. dev. of 7 runs, 1 loop each)\n"
     ]
    }
   ],
   "source": [
    "%timeit smallest_multiple_brute_force(n=20)"
   ]
  },
  {
   "cell_type": "markdown",
   "id": "62f176ee",
   "metadata": {},
   "source": [
    "#### Solution 2 (factors)"
   ]
  },
  {
   "cell_type": "code",
   "execution_count": 4,
   "id": "e8875591",
   "metadata": {},
   "outputs": [],
   "source": [
    "def factors(n):\n",
    "    facs = []\n",
    "    for i in range(1, n+1):\n",
    "        if n%i == 0:\n",
    "            facs.append(i)\n",
    "    return facs"
   ]
  },
  {
   "cell_type": "code",
   "execution_count": 5,
   "id": "8716ab1e",
   "metadata": {},
   "outputs": [
    {
     "name": "stdout",
     "output_type": "stream",
     "text": [
      "1 : [1]\n",
      "2 : [1, 2]\n",
      "3 : [1, 3]\n",
      "4 : [1, 2, 4]\n",
      "5 : [1, 5]\n",
      "6 : [1, 2, 3, 6]\n",
      "7 : [1, 7]\n",
      "8 : [1, 2, 4, 8]\n",
      "9 : [1, 3, 9]\n",
      "10 : [1, 2, 5, 10]\n",
      "11 : [1, 11]\n",
      "12 : [1, 2, 3, 4, 6, 12]\n",
      "13 : [1, 13]\n",
      "14 : [1, 2, 7, 14]\n",
      "15 : [1, 3, 5, 15]\n",
      "16 : [1, 2, 4, 8, 16]\n",
      "17 : [1, 17]\n",
      "18 : [1, 2, 3, 6, 9, 18]\n",
      "19 : [1, 19]\n",
      "20 : [1, 2, 4, 5, 10, 20]\n"
     ]
    }
   ],
   "source": [
    "for i in range(1, 21):\n",
    "    print(i, ':', factors(i))"
   ]
  },
  {
   "cell_type": "code",
   "execution_count": 6,
   "id": "2a3e52af",
   "metadata": {},
   "outputs": [],
   "source": [
    "def smallest_multiple_fast():\n",
    "    smallest_multiple = 20\n",
    "    while True:\n",
    "        if smallest_multiple % 20 == 0: # [1, 2, 4, 5, 10, 20]\n",
    "            if smallest_multiple % 18 == 0: # [1, 2, 3, 6, 9, 18]\n",
    "                if smallest_multiple % 16 == 0: # [1, 2, 4, 8, 16]\n",
    "                    if smallest_multiple % 14 == 0: # [1, 2, 7, 14]\n",
    "                        if smallest_multiple % 19 == 0: # [1, 19]\n",
    "                            if smallest_multiple % 17 == 0: # [1, 17]\n",
    "                                if smallest_multiple % 15 == 0: # [1, 3, 5, 15]\n",
    "                                    if smallest_multiple % 13 == 0: # [1, 13]\n",
    "                                        if smallest_multiple % 12 == 0: # [1, 2, 3, 4, 6, 12]\n",
    "                                            if smallest_multiple % 11 == 0: # [1, 11]\n",
    "                                                return smallest_multiple\n",
    "        smallest_multiple += 1"
   ]
  },
  {
   "cell_type": "code",
   "execution_count": 7,
   "id": "5902f55e",
   "metadata": {},
   "outputs": [
    {
     "data": {
      "text/plain": [
       "232792560"
      ]
     },
     "execution_count": 7,
     "metadata": {},
     "output_type": "execute_result"
    }
   ],
   "source": [
    "smallest_multiple_fast()"
   ]
  },
  {
   "cell_type": "code",
   "execution_count": 8,
   "id": "8179bac4",
   "metadata": {},
   "outputs": [
    {
     "name": "stdout",
     "output_type": "stream",
     "text": [
      "6.82 s ± 14 ms per loop (mean ± std. dev. of 7 runs, 1 loop each)\n"
     ]
    }
   ],
   "source": [
    "%timeit smallest_multiple_fast()"
   ]
  }
 ],
 "metadata": {
  "kernelspec": {
   "display_name": "datascience",
   "language": "python",
   "name": "python3"
  },
  "language_info": {
   "codemirror_mode": {
    "name": "ipython",
    "version": 3
   },
   "file_extension": ".py",
   "mimetype": "text/x-python",
   "name": "python",
   "nbconvert_exporter": "python",
   "pygments_lexer": "ipython3",
   "version": "3.11.9"
  }
 },
 "nbformat": 4,
 "nbformat_minor": 5
}
