{
 "cells": [
  {
   "cell_type": "markdown",
   "id": "c6e2ad94-1596-4b05-a508-e71eeba93df9",
   "metadata": {},
   "source": [
    "# Problem 5\n",
    "https://projecteuler.net/problem=5"
   ]
  },
  {
   "cell_type": "code",
   "execution_count": 1,
   "id": "54a5bd61",
   "metadata": {},
   "outputs": [
    {
     "name": "stdout",
     "output_type": "stream",
     "text": [
      "Python v3.11.10\n"
     ]
    }
   ],
   "source": [
    "print('Python v{}'.format(__import__('sys').version.split()[0]))"
   ]
  },
  {
   "cell_type": "code",
   "execution_count": 2,
   "id": "570ff717",
   "metadata": {},
   "outputs": [],
   "source": [
    "import math"
   ]
  },
  {
   "cell_type": "markdown",
   "id": "1cc7e0f8",
   "metadata": {},
   "source": [
    "#### Solution 1 (brute force)"
   ]
  },
  {
   "cell_type": "code",
   "execution_count": 3,
   "id": "4a53b3ca",
   "metadata": {},
   "outputs": [
    {
     "data": {
      "text/plain": [
       "232792560"
      ]
     },
     "execution_count": 3,
     "metadata": {},
     "output_type": "execute_result"
    }
   ],
   "source": [
    "# answer\n",
    "def smallest_multiple(n):\n",
    "    x = n\n",
    "    while not all([x%i == 0 for i in range(2, n)]):\n",
    "        x += n\n",
    "    return x\n",
    "\n",
    "smallest_multiple(20)"
   ]
  },
  {
   "cell_type": "code",
   "execution_count": 4,
   "id": "fbe22f60",
   "metadata": {},
   "outputs": [
    {
     "name": "stdout",
     "output_type": "stream",
     "text": [
      "8.94 s ± 186 ms per loop (mean ± std. dev. of 7 runs, 1 loop each)\n"
     ]
    }
   ],
   "source": [
    "# benchmark\n",
    "%timeit smallest_multiple(20)"
   ]
  },
  {
   "cell_type": "markdown",
   "id": "8f97122d",
   "metadata": {},
   "source": [
    "### Solution 2 (divisors)"
   ]
  },
  {
   "cell_type": "code",
   "execution_count": 5,
   "id": "7121cef8",
   "metadata": {},
   "outputs": [],
   "source": [
    "def divisor(n):\n",
    "    d = [] # divisors\n",
    "    i = 1\n",
    "    while i <= n**.5:\n",
    "        if (n%i == 0):\n",
    "            if (n/i == i):\n",
    "                d.append(i)\n",
    "            else:\n",
    "                d.extend([i, int(n/i)])\n",
    "        i += 1\n",
    "    return sorted(d)\n",
    "\n",
    "assert divisor(10) == [1, 2, 5, 10]"
   ]
  },
  {
   "cell_type": "code",
   "execution_count": 6,
   "id": "db0fc8ea",
   "metadata": {},
   "outputs": [],
   "source": [
    "def smallest_multiple(n):\n",
    "    divisors = set.union(*[set(divisor(i)[:-1]) for i in range(2, n+1)])\n",
    "    denominators = set(range(1, n)).difference(divisors)\n",
    "    x = n\n",
    "    while not all([x%i == 0 for i in denominators]):\n",
    "        x += n\n",
    "    return x\n",
    "\n",
    "assert smallest_multiple(10) == 2520"
   ]
  },
  {
   "cell_type": "code",
   "execution_count": 7,
   "id": "536a5930",
   "metadata": {},
   "outputs": [
    {
     "data": {
      "text/plain": [
       "232792560"
      ]
     },
     "execution_count": 7,
     "metadata": {},
     "output_type": "execute_result"
    }
   ],
   "source": [
    "# answer\n",
    "smallest_multiple(20)"
   ]
  },
  {
   "cell_type": "code",
   "execution_count": 8,
   "id": "20c655d1",
   "metadata": {},
   "outputs": [
    {
     "name": "stdout",
     "output_type": "stream",
     "text": [
      "5.1 s ± 102 ms per loop (mean ± std. dev. of 7 runs, 1 loop each)\n"
     ]
    }
   ],
   "source": [
    "# benchmark\n",
    "%timeit smallest_multiple(20)"
   ]
  },
  {
   "cell_type": "markdown",
   "id": "a7b193ac",
   "metadata": {},
   "source": [
    "### Solution 3 (denominator check )"
   ]
  },
  {
   "cell_type": "code",
   "execution_count": 9,
   "id": "4936b6b3",
   "metadata": {},
   "outputs": [],
   "source": [
    "def divisor(n):\n",
    "    d = [] # divisors\n",
    "    i = 1\n",
    "    while i <= n**.5:\n",
    "        if (n%i == 0):\n",
    "            if (n/i == i):\n",
    "                d.append(i)\n",
    "            else:\n",
    "                d.extend([i, int(n/i)])\n",
    "        i += 1\n",
    "    return sorted(d)\n",
    "\n",
    "assert divisor(10) == [1, 2, 5, 10]"
   ]
  },
  {
   "cell_type": "code",
   "execution_count": 10,
   "id": "1b4aa44f",
   "metadata": {},
   "outputs": [],
   "source": [
    "def denominator_check(n, denominators):\n",
    "    for d in denominators:\n",
    "        if n%d == 0:\n",
    "            continue\n",
    "        else:\n",
    "            return False\n",
    "    return True\n",
    "\n",
    "assert denominator_check(10, [1, 2, 5, 10]) == True\n",
    "assert denominator_check(15, [1, 2, 5, 10]) == False"
   ]
  },
  {
   "cell_type": "code",
   "execution_count": 11,
   "id": "55705990",
   "metadata": {},
   "outputs": [],
   "source": [
    "def smallest_multiple(n):\n",
    "    divisors = set.union(*[set(divisor(i)[:-1]) for i in range(2, n+1)])\n",
    "    denominators = sorted(set(range(1, n)).difference(divisors), reverse=True)\n",
    "    x = n\n",
    "    while not denominator_check(x, denominators):\n",
    "        x += n\n",
    "    return x\n",
    "\n",
    "assert smallest_multiple(10) == 2520"
   ]
  },
  {
   "cell_type": "code",
   "execution_count": 12,
   "id": "cb153919",
   "metadata": {},
   "outputs": [
    {
     "data": {
      "text/plain": [
       "232792560"
      ]
     },
     "execution_count": 12,
     "metadata": {},
     "output_type": "execute_result"
    }
   ],
   "source": [
    "# answer\n",
    "smallest_multiple(20)"
   ]
  },
  {
   "cell_type": "code",
   "execution_count": 13,
   "id": "e41e025e",
   "metadata": {},
   "outputs": [
    {
     "name": "stdout",
     "output_type": "stream",
     "text": [
      "851 ms ± 74 ms per loop (mean ± std. dev. of 7 runs, 1 loop each)\n"
     ]
    }
   ],
   "source": [
    "# benchmark\n",
    "%timeit smallest_multiple(20)"
   ]
  },
  {
   "cell_type": "markdown",
   "id": "e1311dc5",
   "metadata": {},
   "source": [
    "### Solution 4 (lcm)"
   ]
  },
  {
   "cell_type": "code",
   "execution_count": 14,
   "id": "28cb2fa6",
   "metadata": {},
   "outputs": [
    {
     "data": {
      "text/plain": [
       "232792560"
      ]
     },
     "execution_count": 14,
     "metadata": {},
     "output_type": "execute_result"
    }
   ],
   "source": [
    "# answer\n",
    "math.lcm(*range(1, 21))"
   ]
  },
  {
   "cell_type": "code",
   "execution_count": 15,
   "id": "46f2d5e5",
   "metadata": {},
   "outputs": [
    {
     "name": "stdout",
     "output_type": "stream",
     "text": [
      "907 ns ± 1.46 ns per loop (mean ± std. dev. of 7 runs, 1,000,000 loops each)\n"
     ]
    }
   ],
   "source": [
    "# benchmark\n",
    "%timeit math.lcm(*range(1, 21))"
   ]
  },
  {
   "cell_type": "markdown",
   "id": "55afb7fa",
   "metadata": {},
   "source": [
    "### Save benchmark"
   ]
  },
  {
   "cell_type": "code",
   "execution_count": 16,
   "id": "d7359bfa",
   "metadata": {},
   "outputs": [
    {
     "name": "stdout",
     "output_type": "stream",
     "text": [
      "913 ns ± 16.2 ns per loop (mean ± std. dev. of 7 runs, 1,000,000 loops each)\n"
     ]
    }
   ],
   "source": [
    "bm = %timeit -o math.lcm(*range(1, 21))\n",
    "import euler\n",
    "euler.save_benchmark(5, bm)"
   ]
  }
 ],
 "metadata": {
  "kernelspec": {
   "display_name": "datascience",
   "language": "python",
   "name": "python3"
  },
  "language_info": {
   "codemirror_mode": {
    "name": "ipython",
    "version": 3
   },
   "file_extension": ".py",
   "mimetype": "text/x-python",
   "name": "python",
   "nbconvert_exporter": "python",
   "pygments_lexer": "ipython3",
   "version": "3.11.10"
  }
 },
 "nbformat": 4,
 "nbformat_minor": 5
}
