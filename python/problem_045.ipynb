{
 "cells": [
  {
   "cell_type": "markdown",
   "id": "c6e2ad94-1596-4b05-a508-e71eeba93df9",
   "metadata": {},
   "source": [
    "# Problem 45\n",
    "https://projecteuler.net/problem=45"
   ]
  },
  {
   "cell_type": "code",
   "execution_count": 1,
   "id": "64208fa8",
   "metadata": {},
   "outputs": [
    {
     "name": "stdout",
     "output_type": "stream",
     "text": [
      "Python v3.11.10\n"
     ]
    }
   ],
   "source": [
    "print('Python v{}'.format(__import__('sys').version.split()[0]))"
   ]
  },
  {
   "cell_type": "code",
   "execution_count": 2,
   "id": "6b9715e6",
   "metadata": {},
   "outputs": [],
   "source": [
    "def triangle(n):\n",
    "    return int(n*(n+ 1 )/2)\n",
    "\n",
    "def pentagonal(n):\n",
    "    return int(n*(3*n - 1)/2)\n",
    "\n",
    "def hexagonal(n):\n",
    "    return int(n*(2*n - 1))"
   ]
  },
  {
   "cell_type": "markdown",
   "id": "a19e5b90",
   "metadata": {},
   "source": [
    "### Solution 1 (triangle, pentagonal & hexagonal)"
   ]
  },
  {
   "cell_type": "code",
   "execution_count": 3,
   "id": "5bc9245e",
   "metadata": {},
   "outputs": [],
   "source": [
    "hi = 55_386;"
   ]
  },
  {
   "cell_type": "code",
   "execution_count": 4,
   "id": "cb9a3cf6",
   "metadata": {},
   "outputs": [
    {
     "data": {
      "text/plain": [
       "1533776805"
      ]
     },
     "execution_count": 4,
     "metadata": {},
     "output_type": "execute_result"
    }
   ],
   "source": [
    "# answer\n",
    "list(\n",
    "    set.intersection(\n",
    "        set(triangle(n) for n in range(285+1, hi)),\n",
    "        set(pentagonal(n) for n in range(165+1, hi)),\n",
    "        set(hexagonal(n) for n in range(143+1, hi))\n",
    "    )\n",
    ")[0]"
   ]
  },
  {
   "cell_type": "code",
   "execution_count": 5,
   "id": "52234ce8",
   "metadata": {},
   "outputs": [
    {
     "name": "stdout",
     "output_type": "stream",
     "text": [
      "23.5 ms ± 3.18 ms per loop (mean ± std. dev. of 7 runs, 10 loops each)\n"
     ]
    }
   ],
   "source": [
    "# benchmark\n",
    "%timeit list(set.intersection(set(triangle(n) for n in range(285+1, hi)), set(pentagonal(n) for n in range(165+1, hi)), set(hexagonal(n) for n in range(143+1, hi))))[0]"
   ]
  },
  {
   "cell_type": "code",
   "execution_count": 6,
   "id": "2713ada4",
   "metadata": {},
   "outputs": [],
   "source": [
    "### Solution 2 (pentagonal & hexagonal)"
   ]
  },
  {
   "cell_type": "code",
   "execution_count": 7,
   "id": "9d912150",
   "metadata": {},
   "outputs": [
    {
     "data": {
      "text/plain": [
       "True"
      ]
     },
     "execution_count": 7,
     "metadata": {},
     "output_type": "execute_result"
    }
   ],
   "source": [
    "all(map(lambda x: x in [triangle(n) for n in range(1, 8_000)], [hexagonal(n) for n in range(1, 4_000)]))"
   ]
  },
  {
   "cell_type": "markdown",
   "id": "2cb97018",
   "metadata": {},
   "source": [
    "> As shown above, it is superflous to have triangle numbers in the equation  \n",
    "> since all hexagonal numbers are also triangle numbers."
   ]
  },
  {
   "cell_type": "code",
   "execution_count": 8,
   "id": "fec2123b",
   "metadata": {},
   "outputs": [],
   "source": [
    "hi = 40_000;"
   ]
  },
  {
   "cell_type": "code",
   "execution_count": 9,
   "id": "1cd58151",
   "metadata": {},
   "outputs": [
    {
     "data": {
      "text/plain": [
       "1533776805"
      ]
     },
     "execution_count": 9,
     "metadata": {},
     "output_type": "execute_result"
    }
   ],
   "source": [
    "# answer\n",
    "list(\n",
    "    set.intersection(\n",
    "        set(pentagonal(n) for n in range(165+1, hi)),\n",
    "        set(hexagonal(n) for n in range(143+1, hi))\n",
    "    )\n",
    ")[0]"
   ]
  },
  {
   "cell_type": "code",
   "execution_count": 10,
   "id": "8d77d6d8",
   "metadata": {},
   "outputs": [
    {
     "name": "stdout",
     "output_type": "stream",
     "text": [
      "10.1 ms ± 56.3 μs per loop (mean ± std. dev. of 7 runs, 100 loops each)\n"
     ]
    }
   ],
   "source": [
    "# benchmark\n",
    "%timeit list(set.intersection(set(pentagonal(n) for n in range(165+1, hi)), set(hexagonal(n) for n in range(143+1, hi))))[0]"
   ]
  },
  {
   "cell_type": "markdown",
   "id": "913981c0",
   "metadata": {},
   "source": [
    "### Save benchmark"
   ]
  },
  {
   "cell_type": "code",
   "execution_count": 11,
   "id": "f490932c",
   "metadata": {},
   "outputs": [
    {
     "name": "stdout",
     "output_type": "stream",
     "text": [
      "10.2 ms ± 138 μs per loop (mean ± std. dev. of 7 runs, 100 loops each)\n"
     ]
    }
   ],
   "source": [
    "bm = %timeit -o list(set.intersection(set(pentagonal(n) for n in range(165+1, hi)), set(hexagonal(n) for n in range(143+1, hi))))[0]\n",
    "import euler\n",
    "euler.save_benchmark(45, bm)"
   ]
  }
 ],
 "metadata": {
  "kernelspec": {
   "display_name": "datascience",
   "language": "python",
   "name": "python3"
  },
  "language_info": {
   "codemirror_mode": {
    "name": "ipython",
    "version": 3
   },
   "file_extension": ".py",
   "mimetype": "text/x-python",
   "name": "python",
   "nbconvert_exporter": "python",
   "pygments_lexer": "ipython3",
   "version": "3.11.10"
  }
 },
 "nbformat": 4,
 "nbformat_minor": 5
}
