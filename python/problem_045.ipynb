{
 "cells": [
  {
   "cell_type": "markdown",
   "id": "c6e2ad94-1596-4b05-a508-e71eeba93df9",
   "metadata": {},
   "source": [
    "## Problem 45\n",
    "https://projecteuler.net/problem=45"
   ]
  },
  {
   "cell_type": "code",
   "execution_count": 1,
   "id": "6414f4d7",
   "metadata": {},
   "outputs": [],
   "source": [
    "from collections import Counter\n",
    "import euler"
   ]
  },
  {
   "cell_type": "code",
   "execution_count": 2,
   "id": "6b9715e6",
   "metadata": {},
   "outputs": [],
   "source": [
    "def triangle(n):\n",
    "    return int(n*(n+ 1 )/2)\n",
    "\n",
    "def pentagonal(n):\n",
    "    return int(n*(3*n - 1)/2)\n",
    "\n",
    "def hexagonal(n):\n",
    "    return int(n*(2*n - 1))"
   ]
  },
  {
   "cell_type": "code",
   "execution_count": 3,
   "id": "2421e2f1",
   "metadata": {},
   "outputs": [],
   "source": [
    "def triangle_number(n):\n",
    "    nums = [number for sub_list in [[triangle(n), pentagonal(n), hexagonal(n)] for n in range(1, n+1)] for number in sub_list]\n",
    "    counts = Counter(nums)\n",
    "    for i in set(nums):\n",
    "        if i not in [1, 40755] and counts[i] == 3:\n",
    "            return i"
   ]
  },
  {
   "cell_type": "code",
   "execution_count": 4,
   "id": "94341868",
   "metadata": {},
   "outputs": [
    {
     "data": {
      "text/plain": [
       "1533776805"
      ]
     },
     "execution_count": 4,
     "metadata": {},
     "output_type": "execute_result"
    }
   ],
   "source": [
    "triangle_number(75_000) # try till first result shows"
   ]
  },
  {
   "cell_type": "code",
   "execution_count": 5,
   "id": "82a7b5a3",
   "metadata": {},
   "outputs": [
    {
     "name": "stdout",
     "output_type": "stream",
     "text": [
      "65.5 ms ± 2.14 ms per loop (mean ± std. dev. of 7 runs, 10 loops each)\n"
     ]
    }
   ],
   "source": [
    "t = %timeit -o triangle_number(75_000)\n",
    "euler.save_benchmark(45, t)"
   ]
  }
 ],
 "metadata": {
  "kernelspec": {
   "display_name": "datascience",
   "language": "python",
   "name": "python3"
  },
  "language_info": {
   "codemirror_mode": {
    "name": "ipython",
    "version": 3
   },
   "file_extension": ".py",
   "mimetype": "text/x-python",
   "name": "python",
   "nbconvert_exporter": "python",
   "pygments_lexer": "ipython3",
   "version": "3.11.9"
  }
 },
 "nbformat": 4,
 "nbformat_minor": 5
}
