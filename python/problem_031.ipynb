{
 "cells": [
  {
   "cell_type": "markdown",
   "id": "c6e2ad94-1596-4b05-a508-e71eeba93df9",
   "metadata": {},
   "source": [
    "# Problem 31\n",
    "https://projecteuler.net/problem=31"
   ]
  },
  {
   "cell_type": "code",
   "execution_count": 1,
   "id": "e8543f3d",
   "metadata": {},
   "outputs": [
    {
     "name": "stdout",
     "output_type": "stream",
     "text": [
      "Python v3.11.10\n"
     ]
    }
   ],
   "source": [
    "print('Python v{}'.format(__import__('sys').version.split()[0]))"
   ]
  },
  {
   "cell_type": "markdown",
   "id": "43802738",
   "metadata": {},
   "source": [
    "### Solution 1"
   ]
  },
  {
   "cell_type": "code",
   "execution_count": 2,
   "id": "17602470",
   "metadata": {},
   "outputs": [],
   "source": [
    "def coin_sums():\n",
    "    counter = 0\n",
    "    for a in range(1+1): # 200p\n",
    "        for b in range(2+1): # 100p\n",
    "            for c in range(4+1): # 50p\n",
    "                for d in range(10+1): # 20p\n",
    "                    for e in range(20+1): # 10p\n",
    "                        for f in range(40+1): # 5p\n",
    "                            for g in range(100+1): # 2p\n",
    "                                for h in range(200+1): # 1p\n",
    "                                    if a*200 + b*100 + c*50 + d*20 + e*10 + f*5 + g*2 + h*1 == 200:\n",
    "                                        counter += 1\n",
    "    return counter"
   ]
  },
  {
   "cell_type": "code",
   "execution_count": 3,
   "id": "e4f036fe",
   "metadata": {},
   "outputs": [
    {
     "data": {
      "text/plain": [
       "73682"
      ]
     },
     "execution_count": 3,
     "metadata": {},
     "output_type": "execute_result"
    }
   ],
   "source": [
    "# answer\n",
    "coin_sums()"
   ]
  },
  {
   "cell_type": "code",
   "execution_count": 4,
   "id": "d0529438",
   "metadata": {},
   "outputs": [
    {
     "name": "stdout",
     "output_type": "stream",
     "text": [
      "13min 25s ± 2.21 s per loop (mean ± std. dev. of 7 runs, 1 loop each)\n"
     ]
    }
   ],
   "source": [
    "# benchmark\n",
    "%timeit coin_sums()"
   ]
  },
  {
   "cell_type": "markdown",
   "id": "29c61eb9",
   "metadata": {},
   "source": [
    "### Solution 2 (skip one for-loop)"
   ]
  },
  {
   "cell_type": "code",
   "execution_count": 5,
   "id": "4e339b30",
   "metadata": {},
   "outputs": [],
   "source": [
    "def coin_sums():\n",
    "    counter = 1 # 200p\n",
    "    for b in range(2+1): # 100p\n",
    "        for c in range(4+1): # 50p\n",
    "            for d in range(10+1): # 20p\n",
    "                for e in range(20+1): # 10p\n",
    "                    for f in range(40+1): # 5p\n",
    "                        for g in range(100+1): # 2p\n",
    "                            for h in range(200+1): # 1p\n",
    "                                if b*100 + c*50 + d*20 + e*10 + f*5 + g*2 + h == 200:\n",
    "                                    counter += 1\n",
    "    return counter"
   ]
  },
  {
   "cell_type": "code",
   "execution_count": 6,
   "id": "191c9973",
   "metadata": {},
   "outputs": [
    {
     "data": {
      "text/plain": [
       "73682"
      ]
     },
     "execution_count": 6,
     "metadata": {},
     "output_type": "execute_result"
    }
   ],
   "source": [
    "# answer\n",
    "coin_sums()"
   ]
  },
  {
   "cell_type": "code",
   "execution_count": 7,
   "id": "59ae4954",
   "metadata": {},
   "outputs": [
    {
     "name": "stdout",
     "output_type": "stream",
     "text": [
      "5min 3s ± 424 ms per loop (mean ± std. dev. of 7 runs, 1 loop each)\n"
     ]
    }
   ],
   "source": [
    "# benchmark\n",
    "%timeit coin_sums()"
   ]
  },
  {
   "cell_type": "markdown",
   "id": "b4913c5a",
   "metadata": {},
   "source": [
    "### Save benchmark"
   ]
  },
  {
   "cell_type": "code",
   "execution_count": 8,
   "id": "9bf726ee",
   "metadata": {},
   "outputs": [
    {
     "name": "stdout",
     "output_type": "stream",
     "text": [
      "5min 5s ± 137 ms per loop (mean ± std. dev. of 7 runs, 1 loop each)\n"
     ]
    }
   ],
   "source": [
    "bm = %timeit -o coin_sums()\n",
    "import euler\n",
    "euler.save_benchmark(31, bm)"
   ]
  }
 ],
 "metadata": {
  "kernelspec": {
   "display_name": "datascience",
   "language": "python",
   "name": "python3"
  },
  "language_info": {
   "codemirror_mode": {
    "name": "ipython",
    "version": 3
   },
   "file_extension": ".py",
   "mimetype": "text/x-python",
   "name": "python",
   "nbconvert_exporter": "python",
   "pygments_lexer": "ipython3",
   "version": "3.11.10"
  }
 },
 "nbformat": 4,
 "nbformat_minor": 5
}
