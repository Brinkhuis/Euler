{
 "cells": [
  {
   "cell_type": "markdown",
   "id": "c6e2ad94-1596-4b05-a508-e71eeba93df9",
   "metadata": {},
   "source": [
    "## Problem 31\n",
    "https://projecteuler.net/problem=31"
   ]
  },
  {
   "cell_type": "code",
   "execution_count": 1,
   "id": "17602470",
   "metadata": {},
   "outputs": [
    {
     "data": {
      "text/plain": [
       "73682"
      ]
     },
     "execution_count": 1,
     "metadata": {},
     "output_type": "execute_result"
    }
   ],
   "source": [
    "# Answer (brute force)\n",
    "counter = 0\n",
    "for a in range(1+1): # 200p\n",
    "    for b in range(2+1): # 100p\n",
    "        for c in range(4+1): # 50p\n",
    "            for d in range(10+1): # 20p\n",
    "                for e in range(20+1): # 10p\n",
    "                    for f in range(40+1): # 5p\n",
    "                        for g in range(100+1): # 2p\n",
    "                            for h in range(200+1): # 1p\n",
    "                                if a*200 + b*100 + c*50 + d*20 + e*10 + f*5 + g*2 + h*1 == 200:\n",
    "                                    counter += 1\n",
    "counter"
   ]
  }
 ],
 "metadata": {
  "kernelspec": {
   "display_name": "datascience",
   "language": "python",
   "name": "python3"
  },
  "language_info": {
   "codemirror_mode": {
    "name": "ipython",
    "version": 3
   },
   "file_extension": ".py",
   "mimetype": "text/x-python",
   "name": "python",
   "nbconvert_exporter": "python",
   "pygments_lexer": "ipython3",
   "version": "3.11.9"
  }
 },
 "nbformat": 4,
 "nbformat_minor": 5
}
