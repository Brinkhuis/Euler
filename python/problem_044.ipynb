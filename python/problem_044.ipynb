{
 "cells": [
  {
   "cell_type": "markdown",
   "id": "c6e2ad94-1596-4b05-a508-e71eeba93df9",
   "metadata": {},
   "source": [
    "# Problem 44\n",
    "https://projecteuler.net/problem=44"
   ]
  },
  {
   "cell_type": "code",
   "execution_count": 1,
   "id": "0087e5eb",
   "metadata": {},
   "outputs": [
    {
     "name": "stdout",
     "output_type": "stream",
     "text": [
      "Python v3.11.10\n"
     ]
    }
   ],
   "source": [
    "print('Python v{}'.format(__import__('sys').version.split()[0]))"
   ]
  },
  {
   "cell_type": "markdown",
   "id": "089c93c5",
   "metadata": {},
   "source": [
    "### Solution (brute force)"
   ]
  },
  {
   "cell_type": "code",
   "execution_count": 2,
   "id": "ea123dbe",
   "metadata": {},
   "outputs": [],
   "source": [
    "import itertools"
   ]
  },
  {
   "cell_type": "code",
   "execution_count": 3,
   "id": "6b9715e6",
   "metadata": {},
   "outputs": [],
   "source": [
    "def pentagonal(n):\n",
    "    return int(n*(3*n - 1)/2)"
   ]
  },
  {
   "cell_type": "code",
   "execution_count": 4,
   "id": "537ecdb1",
   "metadata": {},
   "outputs": [],
   "source": [
    "def pentagon_numbers(n):\n",
    "    pentagonal_list = [pentagonal(i) for i in range(1, n+1)]\n",
    "    result = []\n",
    "    for x in itertools.permutations(pentagonal_list, 2):\n",
    "        if x[1]-x[0] in pentagonal_list and sum(x) in pentagonal_list:\n",
    "            result.append(abs(x[0]-x[1]))\n",
    "    return min(result)"
   ]
  },
  {
   "cell_type": "code",
   "execution_count": 5,
   "id": "8624a435",
   "metadata": {},
   "outputs": [
    {
     "data": {
      "text/plain": [
       "5482660"
      ]
     },
     "execution_count": 5,
     "metadata": {},
     "output_type": "execute_result"
    }
   ],
   "source": [
    "# answer\n",
    "pentagon_numbers(10_000)"
   ]
  },
  {
   "cell_type": "code",
   "execution_count": 6,
   "id": "450822ba",
   "metadata": {},
   "outputs": [
    {
     "name": "stdout",
     "output_type": "stream",
     "text": [
      "1h 44min 13s ± 0 ns per loop (mean ± std. dev. of 1 run, 1 loop each)\n"
     ]
    }
   ],
   "source": [
    "# benchmark\n",
    "%timeit -n1 -r1 pentagon_numbers(10_000)"
   ]
  },
  {
   "cell_type": "markdown",
   "id": "e21cc612",
   "metadata": {},
   "source": [
    "### Solution (loop through the pentagonals)"
   ]
  },
  {
   "cell_type": "code",
   "execution_count": 7,
   "id": "9b66e4a4",
   "metadata": {},
   "outputs": [],
   "source": [
    "def pentagonal(n):\n",
    "    return int(n*(3*n - 1)/2)"
   ]
  },
  {
   "cell_type": "code",
   "execution_count": 8,
   "id": "21a423a2",
   "metadata": {},
   "outputs": [],
   "source": [
    "def pentagon(hi):\n",
    "    pentagon_numbers = list(map(pentagonal, range(1, hi)))\n",
    "    pentagon_set = set(pentagon_numbers)\n",
    "    minimum_difference = max(pentagon_numbers)\n",
    "    i = 1 # init value\n",
    "    while True:\n",
    "        for j in range(i): # diff with all previous nums\n",
    "            difference = pentagon_numbers[i] - pentagon_numbers[j]\n",
    "            if difference > minimum_difference:\n",
    "                break\n",
    "            elif difference in pentagon_set and pentagon_numbers[i] + pentagon_numbers[j] in pentagon_set:\n",
    "                minimum_difference = difference\n",
    "        if pentagon_numbers[i+1] - pentagon_numbers[i] > minimum_difference:\n",
    "            break\n",
    "        i += 1\n",
    "    return minimum_difference"
   ]
  },
  {
   "cell_type": "code",
   "execution_count": 9,
   "id": "243768d2",
   "metadata": {},
   "outputs": [
    {
     "data": {
      "text/plain": [
       "5482660"
      ]
     },
     "execution_count": 9,
     "metadata": {},
     "output_type": "execute_result"
    }
   ],
   "source": [
    "# answer\n",
    "pentagon(2_500_000)"
   ]
  },
  {
   "cell_type": "code",
   "execution_count": 10,
   "id": "f440eca8",
   "metadata": {},
   "outputs": [
    {
     "name": "stdout",
     "output_type": "stream",
     "text": [
      "1.03 s ± 4.83 ms per loop (mean ± std. dev. of 7 runs, 1 loop each)\n"
     ]
    }
   ],
   "source": [
    "# benchmark\n",
    "%timeit pentagon(2_500_000)"
   ]
  },
  {
   "cell_type": "markdown",
   "id": "355c812d",
   "metadata": {},
   "source": [
    "### Save benchmark"
   ]
  },
  {
   "cell_type": "code",
   "execution_count": 11,
   "id": "8be84c5a",
   "metadata": {},
   "outputs": [
    {
     "name": "stdout",
     "output_type": "stream",
     "text": [
      "1.02 s ± 1.11 ms per loop (mean ± std. dev. of 7 runs, 1 loop each)\n"
     ]
    }
   ],
   "source": [
    "bm = %timeit -o pentagon(2_500_000)\n",
    "import euler\n",
    "euler.save_benchmark(44, bm)"
   ]
  }
 ],
 "metadata": {
  "kernelspec": {
   "display_name": "datascience",
   "language": "python",
   "name": "python3"
  },
  "language_info": {
   "codemirror_mode": {
    "name": "ipython",
    "version": 3
   },
   "file_extension": ".py",
   "mimetype": "text/x-python",
   "name": "python",
   "nbconvert_exporter": "python",
   "pygments_lexer": "ipython3",
   "version": "3.11.10"
  }
 },
 "nbformat": 4,
 "nbformat_minor": 5
}
