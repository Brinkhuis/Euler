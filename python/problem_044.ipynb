{
 "cells": [
  {
   "cell_type": "markdown",
   "id": "c6e2ad94-1596-4b05-a508-e71eeba93df9",
   "metadata": {},
   "source": [
    "## Problem 44\n",
    "https://projecteuler.net/problem=44"
   ]
  },
  {
   "cell_type": "code",
   "execution_count": 1,
   "id": "ea123dbe",
   "metadata": {},
   "outputs": [],
   "source": [
    "# Imports\n",
    "import itertools"
   ]
  },
  {
   "cell_type": "code",
   "execution_count": 2,
   "id": "1415ed5e",
   "metadata": {},
   "outputs": [],
   "source": [
    "# Setup\n",
    "n = 10_000"
   ]
  },
  {
   "cell_type": "code",
   "execution_count": 3,
   "id": "6b9715e6",
   "metadata": {},
   "outputs": [],
   "source": [
    "# Pentagonal\n",
    "def pentagonal(n):\n",
    "    return int(n*(3*n - 1)/2)"
   ]
  },
  {
   "cell_type": "code",
   "execution_count": 4,
   "id": "2421e2f1",
   "metadata": {},
   "outputs": [],
   "source": [
    "# Pentagonal list\n",
    "pentagonal_list = [pentagonal(i) for i in range(1, n+1)]\n"
   ]
  },
  {
   "cell_type": "code",
   "execution_count": 5,
   "id": "4ac74ba0",
   "metadata": {},
   "outputs": [
    {
     "data": {
      "text/plain": [
       "5482660"
      ]
     },
     "execution_count": 5,
     "metadata": {},
     "output_type": "execute_result"
    }
   ],
   "source": [
    "# Answer\n",
    "result = []\n",
    "for x in itertools.permutations(pentagonal_list, 2):\n",
    "    if x[1]-x[0] in pentagonal_list and sum(x) in pentagonal_list:\n",
    "        result.append(abs(x[0]-x[1]))\n",
    "min(result)"
   ]
  }
 ],
 "metadata": {
  "kernelspec": {
   "display_name": "datascience",
   "language": "python",
   "name": "python3"
  },
  "language_info": {
   "codemirror_mode": {
    "name": "ipython",
    "version": 3
   },
   "file_extension": ".py",
   "mimetype": "text/x-python",
   "name": "python",
   "nbconvert_exporter": "python",
   "pygments_lexer": "ipython3",
   "version": "3.11.9"
  }
 },
 "nbformat": 4,
 "nbformat_minor": 5
}
