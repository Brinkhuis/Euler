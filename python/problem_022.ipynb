{
 "cells": [
  {
   "cell_type": "markdown",
   "id": "c6e2ad94-1596-4b05-a508-e71eeba93df9",
   "metadata": {},
   "source": [
    "# Problem 22\n",
    "https://projecteuler.net/problem=22"
   ]
  },
  {
   "cell_type": "code",
   "execution_count": 1,
   "id": "f51c208e",
   "metadata": {},
   "outputs": [
    {
     "name": "stdout",
     "output_type": "stream",
     "text": [
      "Python v3.11.10\n"
     ]
    }
   ],
   "source": [
    "print('Python v{}'.format(__import__('sys').version.split()[0]))"
   ]
  },
  {
   "cell_type": "markdown",
   "id": "16e20127",
   "metadata": {},
   "source": [
    "### Solution"
   ]
  },
  {
   "cell_type": "code",
   "execution_count": 2,
   "id": "9d10187a",
   "metadata": {},
   "outputs": [],
   "source": [
    "import string"
   ]
  },
  {
   "cell_type": "code",
   "execution_count": 3,
   "id": "12c8b07c",
   "metadata": {},
   "outputs": [],
   "source": [
    "f = open(\"../data/0022_names.txt\", \"r\")\n",
    "s = f.readline()\n",
    "f.close()\n",
    "\n",
    "names = s.strip('\"').split('\",\"')\n",
    "names.sort()\n",
    "\n",
    "assert len(names) == 5163"
   ]
  },
  {
   "cell_type": "code",
   "execution_count": 4,
   "id": "1fd7e548",
   "metadata": {},
   "outputs": [],
   "source": [
    "alphabetical_value = {value:key+1 for (key, value) in enumerate(string.ascii_uppercase)}"
   ]
  },
  {
   "cell_type": "code",
   "execution_count": 5,
   "id": "c3006dd7",
   "metadata": {},
   "outputs": [],
   "source": [
    "def name_value(name):\n",
    "    value = 0\n",
    "    for letter in name:\n",
    "        value += alphabetical_value[letter]\n",
    "    return value\n",
    "\n",
    "assert name_value('COLIN') == 53"
   ]
  },
  {
   "cell_type": "code",
   "execution_count": 6,
   "id": "efedce9a",
   "metadata": {},
   "outputs": [
    {
     "data": {
      "text/plain": [
       "871198282"
      ]
     },
     "execution_count": 6,
     "metadata": {},
     "output_type": "execute_result"
    }
   ],
   "source": [
    "# answer\n",
    "sum([(i+1)*(name_value(n)) for (i, n) in enumerate(names)])"
   ]
  },
  {
   "cell_type": "code",
   "execution_count": 7,
   "id": "30220ec2",
   "metadata": {},
   "outputs": [
    {
     "name": "stdout",
     "output_type": "stream",
     "text": [
      "1.23 ms ± 20.4 μs per loop (mean ± std. dev. of 7 runs, 1,000 loops each)\n"
     ]
    }
   ],
   "source": [
    "# benchmark\n",
    "%timeit sum([(i+1)*(name_value(n)) for (i, n) in enumerate(names)])"
   ]
  },
  {
   "cell_type": "markdown",
   "id": "d88625ae",
   "metadata": {},
   "source": [
    "### Save benchmark"
   ]
  },
  {
   "cell_type": "code",
   "execution_count": 8,
   "id": "6c122671",
   "metadata": {},
   "outputs": [
    {
     "name": "stdout",
     "output_type": "stream",
     "text": [
      "1.22 ms ± 17 μs per loop (mean ± std. dev. of 7 runs, 1,000 loops each)\n"
     ]
    }
   ],
   "source": [
    "bm = %timeit -o sum([(i+1)*(name_value(n)) for (i, n) in enumerate(names)])\n",
    "import euler\n",
    "euler.save_benchmark(22, bm)"
   ]
  }
 ],
 "metadata": {
  "kernelspec": {
   "display_name": "datascience",
   "language": "python",
   "name": "python3"
  },
  "language_info": {
   "codemirror_mode": {
    "name": "ipython",
    "version": 3
   },
   "file_extension": ".py",
   "mimetype": "text/x-python",
   "name": "python",
   "nbconvert_exporter": "python",
   "pygments_lexer": "ipython3",
   "version": "3.11.10"
  }
 },
 "nbformat": 4,
 "nbformat_minor": 5
}
