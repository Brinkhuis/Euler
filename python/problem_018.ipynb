{
 "cells": [
  {
   "cell_type": "markdown",
   "id": "c6e2ad94-1596-4b05-a508-e71eeba93df9",
   "metadata": {},
   "source": [
    "## Problem 18\n",
    "https://projecteuler.net/problem=18"
   ]
  },
  {
   "cell_type": "code",
   "execution_count": 1,
   "id": "ac1fcd73",
   "metadata": {},
   "outputs": [],
   "source": [
    "import euler"
   ]
  },
  {
   "cell_type": "code",
   "execution_count": 2,
   "id": "ec8705be",
   "metadata": {},
   "outputs": [],
   "source": [
    "data = \"\"\"\n",
    "   3\n",
    "  7 4\n",
    " 2 4 6\n",
    "8 5 9 3\n",
    "\"\"\""
   ]
  },
  {
   "cell_type": "code",
   "execution_count": 3,
   "id": "9bff21b6",
   "metadata": {},
   "outputs": [],
   "source": [
    "triangle = [[int(string) for string in row.split()] for row in data.split('\\n')[1:-1]];"
   ]
  },
  {
   "cell_type": "code",
   "execution_count": 4,
   "id": "0a075279",
   "metadata": {},
   "outputs": [],
   "source": [
    "def maximum_path(triangle):\n",
    "    for row_index in range(len(triangle)-2, -1, -1):\n",
    "        new_values = []\n",
    "        for idx, val in enumerate(triangle[row_index]):\n",
    "            m = max([triangle[row_index+1][idx], triangle[row_index+1][idx+1]]) + val\n",
    "            new_values.append(m)\n",
    "        triangle[row_index] = new_values\n",
    "        triangle.pop()\n",
    "    return triangle[0][0]"
   ]
  },
  {
   "cell_type": "code",
   "execution_count": 5,
   "id": "421d5d05",
   "metadata": {},
   "outputs": [],
   "source": [
    "assert maximum_path(triangle) == 23"
   ]
  },
  {
   "cell_type": "code",
   "execution_count": 6,
   "id": "6681562d",
   "metadata": {},
   "outputs": [],
   "source": [
    "def get_data(f):\n",
    "    triangle = []\n",
    "    with open(f) as file:\n",
    "        while line := file.readline():\n",
    "            triangle.append([int(s) for s in line.strip().split()])\n",
    "    return triangle"
   ]
  },
  {
   "cell_type": "code",
   "execution_count": 7,
   "id": "d04fb8ee",
   "metadata": {},
   "outputs": [
    {
     "data": {
      "text/plain": [
       "1074"
      ]
     },
     "execution_count": 7,
     "metadata": {},
     "output_type": "execute_result"
    }
   ],
   "source": [
    "maximum_path(get_data(\"../data/0018_triangle.txt\"))"
   ]
  },
  {
   "cell_type": "code",
   "execution_count": 8,
   "id": "fd4f3ade",
   "metadata": {},
   "outputs": [
    {
     "name": "stdout",
     "output_type": "stream",
     "text": [
      "49.1 μs ± 485 ns per loop (mean ± std. dev. of 7 runs, 10,000 loops each)\n"
     ]
    }
   ],
   "source": [
    "t = %timeit -o maximum_path(get_data(\"../data/0018_triangle.txt\"))\n",
    "euler.save_benchmark(18, t)"
   ]
  }
 ],
 "metadata": {
  "kernelspec": {
   "display_name": "datascience",
   "language": "python",
   "name": "python3"
  },
  "language_info": {
   "codemirror_mode": {
    "name": "ipython",
    "version": 3
   },
   "file_extension": ".py",
   "mimetype": "text/x-python",
   "name": "python",
   "nbconvert_exporter": "python",
   "pygments_lexer": "ipython3",
   "version": "3.11.9"
  }
 },
 "nbformat": 4,
 "nbformat_minor": 5
}
