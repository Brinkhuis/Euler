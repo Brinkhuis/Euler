{
 "cells": [
  {
   "cell_type": "markdown",
   "id": "c6e2ad94-1596-4b05-a508-e71eeba93df9",
   "metadata": {},
   "source": [
    "# Problem 18\n",
    "https://projecteuler.net/problem=18"
   ]
  },
  {
   "cell_type": "code",
   "execution_count": 1,
   "id": "ac1fcd73",
   "metadata": {},
   "outputs": [
    {
     "name": "stdout",
     "output_type": "stream",
     "text": [
      "Python v3.11.10\n"
     ]
    }
   ],
   "source": [
    "print('Python v{}'.format(__import__('sys').version.split()[0]))"
   ]
  },
  {
   "cell_type": "markdown",
   "id": "0fad0bc9",
   "metadata": {},
   "source": [
    "__Steps to solve the problem__\n",
    "\n",
    "A top-down approach leads to a local maximum and is know as a 'greedy algorithm'.  \n",
    "A bottom-up approach guarantees a global maximum.\n",
    "\n",
    "Example:\n",
    "\n",
    "```\n",
    "      04      \n",
    "    06  07    \n",
    "  10  01  02  \n",
    "05  08  09  03\n",
    "```\n",
    "\n",
    "Top-down approach:  \n",
    "04 + 07 + 02 + 09 = 22 (local maximum)\n",
    "\n",
    "Bottom-up approach:  \n",
    "08 + 10 + 06 + 04 = 28 (global maximum)"
   ]
  },
  {
   "cell_type": "markdown",
   "id": "3514f703",
   "metadata": {},
   "source": [
    "### Solution"
   ]
  },
  {
   "cell_type": "code",
   "execution_count": 2,
   "id": "0a075279",
   "metadata": {},
   "outputs": [],
   "source": [
    "def maximum_path(triangle):\n",
    "    for row_index in range(len(triangle)-2, -1, -1):\n",
    "        new_values = []\n",
    "        for idx, val in enumerate(triangle[row_index]):\n",
    "            m = max([triangle[row_index+1][idx], triangle[row_index+1][idx+1]]) + val\n",
    "            new_values.append(m)\n",
    "        triangle[row_index] = new_values\n",
    "        triangle.pop()\n",
    "    return triangle[0][0]\n",
    "\n",
    "# Test 1 #############################################################################\n",
    "\n",
    "data = \"\"\"\n",
    "   3\n",
    "  7 4\n",
    " 2 4 6\n",
    "8 5 9 3\n",
    "\"\"\"\n",
    "\n",
    "triangle = [[int(string) for string in row.split()] for row in data.split('\\n')[1:-1]]\n",
    "\n",
    "assert maximum_path(triangle) == 23\n",
    "\n",
    "\n",
    "# Test 2 #############################################################################\n",
    "\n",
    "data = \"\"\"\n",
    "      04\n",
    "    06  07\n",
    "  10  01  02\n",
    "05  08  09  03\n",
    "\"\"\"\n",
    "\n",
    "triangle = [[int(string) for string in row.split()] for row in data.split('\\n')[1:-1]]\n",
    "\n",
    "assert maximum_path(triangle) == 28"
   ]
  },
  {
   "cell_type": "code",
   "execution_count": 3,
   "id": "6681562d",
   "metadata": {},
   "outputs": [],
   "source": [
    "def get_data(f):\n",
    "    triangle = []\n",
    "    with open(f) as file:\n",
    "        while line := file.readline():\n",
    "            triangle.append([int(s) for s in line.strip().split()])\n",
    "    return triangle"
   ]
  },
  {
   "cell_type": "code",
   "execution_count": 4,
   "id": "d04fb8ee",
   "metadata": {},
   "outputs": [
    {
     "data": {
      "text/plain": [
       "1074"
      ]
     },
     "execution_count": 4,
     "metadata": {},
     "output_type": "execute_result"
    }
   ],
   "source": [
    "# answer\n",
    "maximum_path(get_data(\"../data/0018_triangle.txt\"))"
   ]
  },
  {
   "cell_type": "code",
   "execution_count": 5,
   "id": "4a1ea00c",
   "metadata": {},
   "outputs": [
    {
     "name": "stdout",
     "output_type": "stream",
     "text": [
      "45.7 μs ± 2.18 μs per loop (mean ± std. dev. of 7 runs, 10,000 loops each)\n"
     ]
    }
   ],
   "source": [
    "# benchmark\n",
    "%timeit maximum_path(get_data(\"../data/0018_triangle.txt\"))"
   ]
  },
  {
   "cell_type": "markdown",
   "id": "5b43f8c4",
   "metadata": {},
   "source": [
    "### Save benchmark"
   ]
  },
  {
   "cell_type": "code",
   "execution_count": 6,
   "id": "fd4f3ade",
   "metadata": {},
   "outputs": [
    {
     "name": "stdout",
     "output_type": "stream",
     "text": [
      "45.2 μs ± 1.87 μs per loop (mean ± std. dev. of 7 runs, 10,000 loops each)\n"
     ]
    }
   ],
   "source": [
    "bm = %timeit -o maximum_path(get_data(\"../data/0018_triangle.txt\"))\n",
    "import euler\n",
    "euler.save_benchmark(18, bm)"
   ]
  }
 ],
 "metadata": {
  "kernelspec": {
   "display_name": "datascience",
   "language": "python",
   "name": "python3"
  },
  "language_info": {
   "codemirror_mode": {
    "name": "ipython",
    "version": 3
   },
   "file_extension": ".py",
   "mimetype": "text/x-python",
   "name": "python",
   "nbconvert_exporter": "python",
   "pygments_lexer": "ipython3",
   "version": "3.11.10"
  }
 },
 "nbformat": 4,
 "nbformat_minor": 5
}
