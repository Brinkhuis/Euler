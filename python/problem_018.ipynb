{
 "cells": [
  {
   "cell_type": "markdown",
   "id": "c6e2ad94-1596-4b05-a508-e71eeba93df9",
   "metadata": {},
   "source": [
    "## Problem 18\n",
    "https://projecteuler.net/problem=18"
   ]
  },
  {
   "cell_type": "code",
   "execution_count": 1,
   "id": "ec8705be",
   "metadata": {},
   "outputs": [],
   "source": [
    "# Data\n",
    "data = \"\"\"\n",
    "   3\n",
    "  7 4\n",
    " 2 4 6\n",
    "8 5 9 3\n",
    "\"\"\""
   ]
  },
  {
   "cell_type": "code",
   "execution_count": 2,
   "id": "9bff21b6",
   "metadata": {},
   "outputs": [],
   "source": [
    "# Triangle\n",
    "triangle = [[int(string) for string in row.split()] for row in data.split('\\n')[1:-1]];"
   ]
  },
  {
   "cell_type": "code",
   "execution_count": 3,
   "id": "0a075279",
   "metadata": {},
   "outputs": [],
   "source": [
    "# Maximum Path\n",
    "def maximum_path(triangle):\n",
    "    for row_index in range(len(triangle)-2, -1, -1):\n",
    "        new_values = []\n",
    "        for idx, val in enumerate(triangle[row_index]):\n",
    "            m = max([triangle[row_index+1][idx], triangle[row_index+1][idx+1]]) + val\n",
    "            new_values.append(m)\n",
    "        triangle[row_index] = new_values\n",
    "        triangle.pop()\n",
    "    return triangle[0][0]"
   ]
  },
  {
   "cell_type": "code",
   "execution_count": 4,
   "id": "421d5d05",
   "metadata": {},
   "outputs": [
    {
     "data": {
      "text/plain": [
       "True"
      ]
     },
     "execution_count": 4,
     "metadata": {},
     "output_type": "execute_result"
    }
   ],
   "source": [
    "# Test run\n",
    "maximum_path(triangle) == 23"
   ]
  },
  {
   "cell_type": "code",
   "execution_count": 5,
   "id": "a91c95af",
   "metadata": {},
   "outputs": [],
   "source": [
    "data = \"\"\"\n",
    "                            75\n",
    "                          95  64\n",
    "                        17  47  82\n",
    "                      18  35  87  10\n",
    "                    20  04  82  47  65\n",
    "                  19  01  23  75  03  34\n",
    "                88  02  77  73  07  63  67\n",
    "              99  65  04  28  06  16  70  92\n",
    "            41  41  26  56  83  40  80  70  33\n",
    "          41  48  72  33  47  32  37  16  94  29\n",
    "        53  71  44  65  25  43  91  52  97  51  14\n",
    "      70  11  33  28  77  73  17  78  39  68  17  57\n",
    "    91  71  52  38  17  14  91  43  58  50  27  29  48\n",
    "  63  66  04  68  89  53  67  30  73  16  69  87  40  31\n",
    "04  62  98  27  23  09  70  98  73  93  38  53  60  04  23\n",
    "\"\"\""
   ]
  },
  {
   "cell_type": "code",
   "execution_count": 6,
   "id": "b81e560d",
   "metadata": {},
   "outputs": [],
   "source": [
    "# Triangle\n",
    "triangle = [[int(string) for string in row.split()] for row in data.split('\\n')[1:-1]];"
   ]
  },
  {
   "cell_type": "code",
   "execution_count": 7,
   "id": "1b8ed5ab",
   "metadata": {},
   "outputs": [
    {
     "data": {
      "text/plain": [
       "1074"
      ]
     },
     "execution_count": 7,
     "metadata": {},
     "output_type": "execute_result"
    }
   ],
   "source": [
    "# Answer\n",
    "maximum_path(triangle)"
   ]
  }
 ],
 "metadata": {
  "kernelspec": {
   "display_name": "datascience",
   "language": "python",
   "name": "python3"
  },
  "language_info": {
   "codemirror_mode": {
    "name": "ipython",
    "version": 3
   },
   "file_extension": ".py",
   "mimetype": "text/x-python",
   "name": "python",
   "nbconvert_exporter": "python",
   "pygments_lexer": "ipython3",
   "version": "3.11.9"
  }
 },
 "nbformat": 4,
 "nbformat_minor": 5
}
