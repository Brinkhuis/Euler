{
 "cells": [
  {
   "cell_type": "markdown",
   "id": "c6e2ad94-1596-4b05-a508-e71eeba93df9",
   "metadata": {},
   "source": [
    "# Problem 21\n",
    "https://projecteuler.net/problem=21"
   ]
  },
  {
   "cell_type": "code",
   "execution_count": 1,
   "id": "bdf4b125",
   "metadata": {},
   "outputs": [
    {
     "name": "stdout",
     "output_type": "stream",
     "text": [
      "Python v3.11.10\n"
     ]
    }
   ],
   "source": [
    "print('Python v{}'.format(__import__('sys').version.split()[0]))"
   ]
  },
  {
   "cell_type": "markdown",
   "id": "ec45230e",
   "metadata": {},
   "source": [
    "### Solution"
   ]
  },
  {
   "cell_type": "code",
   "execution_count": 2,
   "id": "60fd50bf",
   "metadata": {},
   "outputs": [],
   "source": [
    "def d(n):\n",
    "    f = []\n",
    "    for i in range(1, n):\n",
    "        if n%i == 0:\n",
    "            f.append(i)\n",
    "    return sum(f)\n",
    "\n",
    "assert d(d(220)) == 220"
   ]
  },
  {
   "cell_type": "code",
   "execution_count": 3,
   "id": "ac3a76dc",
   "metadata": {},
   "outputs": [],
   "source": [
    "def amicables(n):\n",
    "    amicable_numbers = []\n",
    "    for n in range(n):\n",
    "        b = d(n)\n",
    "        a = d(b)\n",
    "        if (a == n) and (a != b):\n",
    "            amicable_numbers.append(n)\n",
    "    return amicable_numbers"
   ]
  },
  {
   "cell_type": "code",
   "execution_count": 4,
   "id": "819fd310",
   "metadata": {},
   "outputs": [
    {
     "data": {
      "text/plain": [
       "31626"
      ]
     },
     "execution_count": 4,
     "metadata": {},
     "output_type": "execute_result"
    }
   ],
   "source": [
    "# answer\n",
    "sum(amicables(10_000))"
   ]
  },
  {
   "cell_type": "code",
   "execution_count": 5,
   "id": "85da20ca",
   "metadata": {},
   "outputs": [
    {
     "name": "stdout",
     "output_type": "stream",
     "text": [
      "2 s ± 26.1 ms per loop (mean ± std. dev. of 7 runs, 1 loop each)\n"
     ]
    }
   ],
   "source": [
    "# benchmark\n",
    "%timeit sum(amicables(10_000))"
   ]
  },
  {
   "cell_type": "markdown",
   "id": "23abf82f",
   "metadata": {},
   "source": [
    "### Save benchmark"
   ]
  },
  {
   "cell_type": "code",
   "execution_count": 6,
   "id": "71e2073e",
   "metadata": {},
   "outputs": [
    {
     "name": "stdout",
     "output_type": "stream",
     "text": [
      "1.99 s ± 17.9 ms per loop (mean ± std. dev. of 7 runs, 1 loop each)\n"
     ]
    }
   ],
   "source": [
    "bm = %timeit -o sum(amicables(10_000))\n",
    "import euler\n",
    "euler.save_benchmark(21, bm)"
   ]
  }
 ],
 "metadata": {
  "kernelspec": {
   "display_name": "datascience",
   "language": "python",
   "name": "python3"
  },
  "language_info": {
   "codemirror_mode": {
    "name": "ipython",
    "version": 3
   },
   "file_extension": ".py",
   "mimetype": "text/x-python",
   "name": "python",
   "nbconvert_exporter": "python",
   "pygments_lexer": "ipython3",
   "version": "3.11.10"
  }
 },
 "nbformat": 4,
 "nbformat_minor": 5
}
