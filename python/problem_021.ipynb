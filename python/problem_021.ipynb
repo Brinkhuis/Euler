{
 "cells": [
  {
   "cell_type": "markdown",
   "id": "c6e2ad94-1596-4b05-a508-e71eeba93df9",
   "metadata": {},
   "source": [
    "## Problem 21\n",
    "https://projecteuler.net/problem=21"
   ]
  },
  {
   "cell_type": "code",
   "execution_count": 1,
   "id": "bdf4b125",
   "metadata": {},
   "outputs": [],
   "source": [
    "import euler"
   ]
  },
  {
   "cell_type": "code",
   "execution_count": 2,
   "id": "60fd50bf",
   "metadata": {},
   "outputs": [],
   "source": [
    "def d(n):\n",
    "    f = []\n",
    "    for i in range(1, n):\n",
    "        if n%i == 0:\n",
    "            f.append(i)\n",
    "    return sum(f)"
   ]
  },
  {
   "cell_type": "code",
   "execution_count": 3,
   "id": "e18a2e1c",
   "metadata": {},
   "outputs": [],
   "source": [
    "assert d(d(220)) == 220"
   ]
  },
  {
   "cell_type": "code",
   "execution_count": 4,
   "id": "ac3a76dc",
   "metadata": {},
   "outputs": [],
   "source": [
    "def amicables(n):\n",
    "    amicable_numbers = []\n",
    "    for n in range(n):\n",
    "        b = d(n)\n",
    "        a = d(b)\n",
    "        if (a == n) and (a != b):\n",
    "            amicable_numbers.append(n)\n",
    "    return amicable_numbers"
   ]
  },
  {
   "cell_type": "code",
   "execution_count": 5,
   "id": "819fd310",
   "metadata": {},
   "outputs": [
    {
     "data": {
      "text/plain": [
       "31626"
      ]
     },
     "execution_count": 5,
     "metadata": {},
     "output_type": "execute_result"
    }
   ],
   "source": [
    "sum(amicables(10_000))"
   ]
  },
  {
   "cell_type": "code",
   "execution_count": 6,
   "id": "71e2073e",
   "metadata": {},
   "outputs": [
    {
     "name": "stdout",
     "output_type": "stream",
     "text": [
      "2.02 s ± 1.39 ms per loop (mean ± std. dev. of 7 runs, 1 loop each)\n"
     ]
    }
   ],
   "source": [
    "t = %timeit -o sum(amicables(10_000))\n",
    "euler.save_benchmark(21, t)"
   ]
  }
 ],
 "metadata": {
  "kernelspec": {
   "display_name": "datascience",
   "language": "python",
   "name": "python3"
  },
  "language_info": {
   "codemirror_mode": {
    "name": "ipython",
    "version": 3
   },
   "file_extension": ".py",
   "mimetype": "text/x-python",
   "name": "python",
   "nbconvert_exporter": "python",
   "pygments_lexer": "ipython3",
   "version": "3.11.9"
  }
 },
 "nbformat": 4,
 "nbformat_minor": 5
}
