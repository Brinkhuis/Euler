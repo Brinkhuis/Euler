{
 "cells": [
  {
   "cell_type": "markdown",
   "id": "c6e2ad94-1596-4b05-a508-e71eeba93df9",
   "metadata": {},
   "source": [
    "# Problem 47\n",
    "https://projecteuler.net/problem=32"
   ]
  },
  {
   "cell_type": "code",
   "execution_count": 1,
   "id": "5fbf5b49",
   "metadata": {},
   "outputs": [
    {
     "name": "stdout",
     "output_type": "stream",
     "text": [
      "Python v3.11.10\n"
     ]
    }
   ],
   "source": [
    "print('Python v{}'.format(__import__('sys').version.split()[0]))"
   ]
  },
  {
   "cell_type": "markdown",
   "id": "e971c7be",
   "metadata": {},
   "source": [
    "### Solution 1 (counter)"
   ]
  },
  {
   "cell_type": "code",
   "execution_count": 2,
   "id": "364b21f3",
   "metadata": {},
   "outputs": [],
   "source": [
    "import sympy"
   ]
  },
  {
   "cell_type": "code",
   "execution_count": 3,
   "id": "3e5a0196",
   "metadata": {},
   "outputs": [],
   "source": [
    "def distinct_primes_factors(n):\n",
    "    i = 1\n",
    "    while True:\n",
    "        if all([len(sympy.primefactors(i+j)) >= n for j in range(n)]):\n",
    "            return i\n",
    "        i += 1\n",
    "\n",
    "assert distinct_primes_factors(3) == 644"
   ]
  },
  {
   "cell_type": "code",
   "execution_count": 4,
   "id": "f54c8933",
   "metadata": {},
   "outputs": [
    {
     "data": {
      "text/plain": [
       "134043"
      ]
     },
     "execution_count": 4,
     "metadata": {},
     "output_type": "execute_result"
    }
   ],
   "source": [
    "# answer\n",
    "distinct_primes_factors(4)"
   ]
  },
  {
   "cell_type": "code",
   "execution_count": 5,
   "id": "f5aa1e50",
   "metadata": {},
   "outputs": [
    {
     "name": "stdout",
     "output_type": "stream",
     "text": [
      "2.57 s ± 36.7 ms per loop (mean ± std. dev. of 7 runs, 1 loop each)\n"
     ]
    }
   ],
   "source": [
    "# benchmark\n",
    "%timeit distinct_primes_factors(4)"
   ]
  },
  {
   "cell_type": "markdown",
   "id": "da2b42a3",
   "metadata": {},
   "source": [
    "### Solution 2 (`itertools.count`)"
   ]
  },
  {
   "cell_type": "code",
   "execution_count": 6,
   "id": "f058ffd6",
   "metadata": {},
   "outputs": [],
   "source": [
    "import itertools\n",
    "import sympy"
   ]
  },
  {
   "cell_type": "code",
   "execution_count": 7,
   "id": "4657e117",
   "metadata": {},
   "outputs": [],
   "source": [
    "def distinct_primes_factors(n):\n",
    "    for i in itertools.count():\n",
    "        if all([len(sympy.primefactors(i+j)) >= n for j in range(n)]):\n",
    "            return i\n",
    "\n",
    "assert distinct_primes_factors(3) == 644"
   ]
  },
  {
   "cell_type": "code",
   "execution_count": 8,
   "id": "211c2895",
   "metadata": {},
   "outputs": [
    {
     "data": {
      "text/plain": [
       "134043"
      ]
     },
     "execution_count": 8,
     "metadata": {},
     "output_type": "execute_result"
    }
   ],
   "source": [
    "# answer\n",
    "distinct_primes_factors(4)"
   ]
  },
  {
   "cell_type": "code",
   "execution_count": 9,
   "id": "5d76ad8b",
   "metadata": {},
   "outputs": [
    {
     "name": "stdout",
     "output_type": "stream",
     "text": [
      "2.57 s ± 48.3 ms per loop (mean ± std. dev. of 7 runs, 1 loop each)\n"
     ]
    }
   ],
   "source": [
    "# benchmark\n",
    "%timeit distinct_primes_factors(4)"
   ]
  },
  {
   "cell_type": "markdown",
   "id": "332fb1f2",
   "metadata": {},
   "source": [
    "### Save benchmark"
   ]
  },
  {
   "cell_type": "code",
   "execution_count": 10,
   "id": "d25e86ab",
   "metadata": {},
   "outputs": [
    {
     "name": "stdout",
     "output_type": "stream",
     "text": [
      "2.56 s ± 35.1 ms per loop (mean ± std. dev. of 7 runs, 1 loop each)\n"
     ]
    }
   ],
   "source": [
    "bm = %timeit -o distinct_primes_factors(4)\n",
    "import euler\n",
    "euler.save_benchmark(47, bm)"
   ]
  }
 ],
 "metadata": {
  "kernelspec": {
   "display_name": "datascience",
   "language": "python",
   "name": "python3"
  },
  "language_info": {
   "codemirror_mode": {
    "name": "ipython",
    "version": 3
   },
   "file_extension": ".py",
   "mimetype": "text/x-python",
   "name": "python",
   "nbconvert_exporter": "python",
   "pygments_lexer": "ipython3",
   "version": "3.11.10"
  }
 },
 "nbformat": 4,
 "nbformat_minor": 5
}
