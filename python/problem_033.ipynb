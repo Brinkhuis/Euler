{
 "cells": [
  {
   "cell_type": "markdown",
   "id": "c6e2ad94-1596-4b05-a508-e71eeba93df9",
   "metadata": {},
   "source": [
    "# Problem 33\n",
    "https://projecteuler.net/problem=33"
   ]
  },
  {
   "cell_type": "code",
   "execution_count": 1,
   "id": "f59d5772",
   "metadata": {},
   "outputs": [
    {
     "name": "stdout",
     "output_type": "stream",
     "text": [
      "Python v3.11.10\n"
     ]
    }
   ],
   "source": [
    "print('Python v{}'.format(__import__('sys').version.split()[0]))"
   ]
  },
  {
   "cell_type": "markdown",
   "id": "98e6334f",
   "metadata": {},
   "source": [
    "### Solution"
   ]
  },
  {
   "cell_type": "code",
   "execution_count": 2,
   "id": "66381c52",
   "metadata": {},
   "outputs": [],
   "source": [
    "def factors(n):\n",
    "    l = []\n",
    "    for i in range(1, n+1):\n",
    "        if n % i == 0:\n",
    "            l.append(i)\n",
    "    return set(l)\n",
    "\n",
    "assert factors(8) == {1, 2, 4, 8}"
   ]
  },
  {
   "cell_type": "code",
   "execution_count": 3,
   "id": "82f4b246",
   "metadata": {},
   "outputs": [],
   "source": [
    "def solution():\n",
    "\n",
    "    # Select fractions less than 1\n",
    "    a = [(n, d) for n in range(10, 100) for d in range(10, 100) if n / d < 1]\n",
    "\n",
    "    # Cancellation options 4?/?8 (like 49/98)\n",
    "    b = [(n, d) for (n, d) in a if str(n)[1] == str(d)[0] and int(str(d)[1]) != 0]\n",
    "\n",
    "    # Select the 1-digit nom/denom fractions that equals their 2-digit equivalents\n",
    "    c = [[n, d, int(str(n)[0]), int(str(d)[1]), int(str(n)[1])] for (n, d) in b if int(str(n)[0])/int(str(d)[1]) == n/d]\n",
    "\n",
    "    # Denominator\n",
    "    d = 1\n",
    "    for i in [item[3] for item in c]: d *= i\n",
    "\n",
    "    # Numerator\n",
    "    n = 1\n",
    "    for i in [item[2] for item in c]: n *= i\n",
    "\n",
    "    # Return denominator in lowest common terms\n",
    "    return int(d / max(factors(n).intersection(factors(d))))"
   ]
  },
  {
   "cell_type": "code",
   "execution_count": 4,
   "id": "4440ae38",
   "metadata": {},
   "outputs": [
    {
     "data": {
      "text/plain": [
       "100"
      ]
     },
     "execution_count": 4,
     "metadata": {},
     "output_type": "execute_result"
    }
   ],
   "source": [
    "# answer\n",
    "solution()"
   ]
  },
  {
   "cell_type": "code",
   "execution_count": 5,
   "id": "a444172f",
   "metadata": {},
   "outputs": [
    {
     "name": "stdout",
     "output_type": "stream",
     "text": [
      "980 μs ± 12.3 μs per loop (mean ± std. dev. of 7 runs, 1,000 loops each)\n"
     ]
    }
   ],
   "source": [
    "# benchmark\n",
    "%timeit solution()"
   ]
  },
  {
   "cell_type": "markdown",
   "id": "06723954",
   "metadata": {},
   "source": [
    "### Save benchmark"
   ]
  },
  {
   "cell_type": "code",
   "execution_count": 6,
   "id": "32dbe1b1",
   "metadata": {},
   "outputs": [
    {
     "name": "stdout",
     "output_type": "stream",
     "text": [
      "974 μs ± 6.83 μs per loop (mean ± std. dev. of 7 runs, 1,000 loops each)\n"
     ]
    }
   ],
   "source": [
    "bm = %timeit -o solution()\n",
    "import euler\n",
    "euler.save_benchmark(33, bm)"
   ]
  }
 ],
 "metadata": {
  "kernelspec": {
   "display_name": "datascience",
   "language": "python",
   "name": "python3"
  },
  "language_info": {
   "codemirror_mode": {
    "name": "ipython",
    "version": 3
   },
   "file_extension": ".py",
   "mimetype": "text/x-python",
   "name": "python",
   "nbconvert_exporter": "python",
   "pygments_lexer": "ipython3",
   "version": "3.11.10"
  }
 },
 "nbformat": 4,
 "nbformat_minor": 5
}
