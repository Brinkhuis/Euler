{
 "cells": [
  {
   "cell_type": "markdown",
   "id": "c6e2ad94-1596-4b05-a508-e71eeba93df9",
   "metadata": {},
   "source": [
    "# Problem 33\n",
    "https://projecteuler.net/problem=33"
   ]
  },
  {
   "cell_type": "code",
   "execution_count": 1,
   "id": "f59d5772",
   "metadata": {},
   "outputs": [
    {
     "name": "stdout",
     "output_type": "stream",
     "text": [
      "Python v3.11.10\n"
     ]
    }
   ],
   "source": [
    "print('Python v{}'.format(__import__('sys').version.split()[0]))"
   ]
  },
  {
   "cell_type": "markdown",
   "id": "98e6334f",
   "metadata": {},
   "source": [
    "### Solution"
   ]
  },
  {
   "cell_type": "code",
   "execution_count": null,
   "id": "82f4b246",
   "metadata": {},
   "outputs": [
    {
     "data": {
      "text/plain": [
       "4005"
      ]
     },
     "execution_count": 8,
     "metadata": {},
     "output_type": "execute_result"
    }
   ],
   "source": [
    "# Select fractions less than 1\n",
    "a = [(n, d) for n in range(10, 100) for d in range(10, 100) if n / d < 1]"
   ]
  },
  {
   "cell_type": "code",
   "execution_count": 21,
   "id": "4440ae38",
   "metadata": {},
   "outputs": [],
   "source": [
    "# Cancellation options 4?/?8 (like 49/98)\n",
    "b = [(n, d) for (n, d) in a if str(n)[1] == str(d)[0] and int(str(d)[1]) != 0]"
   ]
  },
  {
   "cell_type": "code",
   "execution_count": null,
   "id": "a444172f",
   "metadata": {},
   "outputs": [
    {
     "data": {
      "text/plain": [
       "[[16, 64, 1, 4, 6], [19, 95, 1, 5, 9], [26, 65, 2, 5, 6], [49, 98, 4, 8, 9]]"
      ]
     },
     "execution_count": 23,
     "metadata": {},
     "output_type": "execute_result"
    }
   ],
   "source": [
    "# Select the 1-digit nom/denom fractions that equals their 2-digit equivalents\n",
    "c = [[n, d, int(str(n)[0]), int(str(d)[1]), int(str(n)[1])] for (n, d) in b if int(str(n)[0])/int(str(d)[1]) == n/d]"
   ]
  },
  {
   "cell_type": "code",
   "execution_count": null,
   "id": "81024e70",
   "metadata": {},
   "outputs": [
    {
     "name": "stdout",
     "output_type": "stream",
     "text": [
      "  179.875 μs (17661 allocations: 811.56 KiB)\n"
     ]
    },
    {
     "data": {
      "text/plain": [
       "100"
      ]
     },
     "metadata": {},
     "output_type": "display_data"
    }
   ],
   "source": [
    "@btime begin\n",
    "\n",
    "    # Select fractions less than 1\n",
    "    a = [(n, d) for n in 10:99, d in 10:99 if n / d < 1]\n",
    "\n",
    "    # Cancellation options 4?/?8 (like 49/98) --> note: digit() returns digits in reverse order\n",
    "    b = [(n, d) for (n, d) in a if digits(n)[1] == digits(d)[2]]\n",
    "\n",
    "    # Select the 1-digit nom/denom fractions that equals their 2-digit equivalents\n",
    "    c = [[n, d, digits(n)[2], digits(d)[1], digits(n)[1]] for (n, d) in b if digits(n)[2]/digits(d)[1] == n/d]\n",
    "\n",
    "    # Denominator value\n",
    "    denominator(prod([row[3]//row[4] for row in c]))\n",
    "    \n",
    "end"
   ]
  },
  {
   "cell_type": "markdown",
   "id": "06723954",
   "metadata": {},
   "source": [
    "### Save benchmark"
   ]
  },
  {
   "cell_type": "code",
   "execution_count": null,
   "id": "32dbe1b1",
   "metadata": {},
   "outputs": [],
   "source": [
    "include(\"./euler.jl\")\n",
    "bm = @benchmark begin\n",
    "\n",
    "    # Select fractions less than 1\n",
    "    a = [(n, d) for n in 10:99, d in 10:99 if n / d < 1]\n",
    "\n",
    "    # Cancellation options 4?/?8 (like 49/98) --> note: digit() returns digits in reverse order\n",
    "    b = [(n, d) for (n, d) in a if digits(n)[1] == digits(d)[2]]\n",
    "\n",
    "    # Select the 1-digit nom/denom fractions that equals their 2-digit equivalents\n",
    "    c = [[n, d, digits(n)[2], digits(d)[1], digits(n)[1]] for (n, d) in b if digits(n)[2]/digits(d)[1] == n/d]\n",
    "\n",
    "    # Denominator value\n",
    "    denominator(prod([row[3]//row[4] for row in c]))\n",
    "    \n",
    "end\n",
    "euler.save_benchmark(33, bm);"
   ]
  }
 ],
 "metadata": {
  "kernelspec": {
   "display_name": "datascience",
   "language": "python",
   "name": "python3"
  },
  "language_info": {
   "codemirror_mode": {
    "name": "ipython",
    "version": 3
   },
   "file_extension": ".py",
   "mimetype": "text/x-python",
   "name": "python",
   "nbconvert_exporter": "python",
   "pygments_lexer": "ipython3",
   "version": "3.11.10"
  }
 },
 "nbformat": 4,
 "nbformat_minor": 5
}
