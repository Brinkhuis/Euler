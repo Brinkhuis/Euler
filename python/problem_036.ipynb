{
 "cells": [
  {
   "cell_type": "markdown",
   "id": "c6e2ad94-1596-4b05-a508-e71eeba93df9",
   "metadata": {},
   "source": [
    "# Problem 36\n",
    "https://projecteuler.net/problem=36"
   ]
  },
  {
   "cell_type": "code",
   "execution_count": 1,
   "id": "9cf46734",
   "metadata": {},
   "outputs": [
    {
     "name": "stdout",
     "output_type": "stream",
     "text": [
      "Python v3.11.10\n"
     ]
    }
   ],
   "source": [
    "print('Python v{}'.format(__import__('sys').version.split()[0]))"
   ]
  },
  {
   "cell_type": "markdown",
   "id": "3f6cbe22",
   "metadata": {},
   "source": [
    "### Solution"
   ]
  },
  {
   "cell_type": "code",
   "execution_count": 2,
   "id": "22316a62",
   "metadata": {},
   "outputs": [
    {
     "data": {
      "text/plain": [
       "872187"
      ]
     },
     "execution_count": 2,
     "metadata": {},
     "output_type": "execute_result"
    }
   ],
   "source": [
    "# answer\n",
    "sum([i for i in range(1_000_000) if str(i)==str(i)[::-1] and bin(i)[2:]==bin(i)[2:][::-1]])"
   ]
  },
  {
   "cell_type": "code",
   "execution_count": 3,
   "id": "98b2d6a8",
   "metadata": {},
   "outputs": [
    {
     "name": "stdout",
     "output_type": "stream",
     "text": [
      "158 ms ± 281 μs per loop (mean ± std. dev. of 7 runs, 10 loops each)\n"
     ]
    }
   ],
   "source": [
    "# benchmark\n",
    "%timeit sum([i for i in range(1_000_000) if str(i)==str(i)[::-1] and bin(i)[2:]==bin(i)[2:][::-1]])"
   ]
  },
  {
   "cell_type": "markdown",
   "id": "182b8124",
   "metadata": {},
   "source": [
    "### Save benchmark"
   ]
  },
  {
   "cell_type": "code",
   "execution_count": 4,
   "id": "b5f75e40",
   "metadata": {},
   "outputs": [
    {
     "name": "stdout",
     "output_type": "stream",
     "text": [
      "158 ms ± 176 μs per loop (mean ± std. dev. of 7 runs, 10 loops each)\n"
     ]
    }
   ],
   "source": [
    "bm = %timeit -o sum([i for i in range(1_000_000) if str(i)==str(i)[::-1] and bin(i)[2:]==bin(i)[2:][::-1]])\n",
    "import euler\n",
    "euler.save_benchmark(36, bm)"
   ]
  }
 ],
 "metadata": {
  "kernelspec": {
   "display_name": "datascience",
   "language": "python",
   "name": "python3"
  },
  "language_info": {
   "codemirror_mode": {
    "name": "ipython",
    "version": 3
   },
   "file_extension": ".py",
   "mimetype": "text/x-python",
   "name": "python",
   "nbconvert_exporter": "python",
   "pygments_lexer": "ipython3",
   "version": "3.11.10"
  }
 },
 "nbformat": 4,
 "nbformat_minor": 5
}
