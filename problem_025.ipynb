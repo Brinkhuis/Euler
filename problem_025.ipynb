{
 "cells": [
  {
   "cell_type": "markdown",
   "id": "c6e2ad94-1596-4b05-a508-e71eeba93df9",
   "metadata": {},
   "source": [
    "## Problem 25\n",
    "https://projecteuler.net/problem=25"
   ]
  },
  {
   "cell_type": "code",
   "execution_count": 1,
   "id": "723ada8a",
   "metadata": {},
   "outputs": [],
   "source": [
    "# Fibonacci generator\n",
    "def fibonacci():\n",
    "    a, b = 0, 1\n",
    "    while True:\n",
    "        yield a\n",
    "        a, b = b, a + b"
   ]
  },
  {
   "cell_type": "code",
   "execution_count": 2,
   "id": "e191fff6",
   "metadata": {},
   "outputs": [],
   "source": [
    "# Setup\n",
    "n = 1_000"
   ]
  },
  {
   "cell_type": "code",
   "execution_count": 3,
   "id": "99c22dd0",
   "metadata": {},
   "outputs": [
    {
     "name": "stdout",
     "output_type": "stream",
     "text": [
      "4782\n"
     ]
    }
   ],
   "source": [
    "# Answer\n",
    "fib = fibonacci()\n",
    "counter = 0\n",
    "while True:\n",
    "    f = next(fib)\n",
    "    l = len(str(f))\n",
    "    if l == n:\n",
    "        print(counter)\n",
    "        break\n",
    "    counter += 1"
   ]
  }
 ],
 "metadata": {
  "kernelspec": {
   "display_name": "Python 3 (ipykernel)",
   "language": "python",
   "name": "python3"
  },
  "language_info": {
   "codemirror_mode": {
    "name": "ipython",
    "version": 3
   },
   "file_extension": ".py",
   "mimetype": "text/x-python",
   "name": "python",
   "nbconvert_exporter": "python",
   "pygments_lexer": "ipython3",
   "version": "3.11.9"
  }
 },
 "nbformat": 4,
 "nbformat_minor": 5
}
