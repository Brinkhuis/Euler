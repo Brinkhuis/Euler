{
 "cells": [
  {
   "cell_type": "markdown",
   "id": "c6e2ad94-1596-4b05-a508-e71eeba93df9",
   "metadata": {},
   "source": [
    "## Problem 22\n",
    "https://projecteuler.net/problem=22"
   ]
  },
  {
   "cell_type": "code",
   "execution_count": 1,
   "id": "cbad4896",
   "metadata": {},
   "outputs": [],
   "source": [
    "import pandas as pd\n",
    "import string"
   ]
  },
  {
   "cell_type": "code",
   "execution_count": 2,
   "id": "60fd50bf",
   "metadata": {},
   "outputs": [],
   "source": [
    "# Sorted list of names\n",
    "names = list(pd.read_csv('data/0022_names.txt').T.index)\n",
    "names.sort()\n"
   ]
  },
  {
   "cell_type": "code",
   "execution_count": 3,
   "id": "1fd7e548",
   "metadata": {},
   "outputs": [],
   "source": [
    "# Alphabetical value\n",
    "alphabetical_value = {value:key+1 for (key, value) in enumerate(string.ascii_uppercase)}"
   ]
  },
  {
   "cell_type": "code",
   "execution_count": 4,
   "id": "c3006dd7",
   "metadata": {},
   "outputs": [],
   "source": [
    "# Name value\n",
    "def name_value(name):\n",
    "    value = 0\n",
    "    for letter in name:\n",
    "        value += alphabetical_value[letter]\n",
    "    return value"
   ]
  },
  {
   "cell_type": "code",
   "execution_count": 5,
   "id": "efedce9a",
   "metadata": {},
   "outputs": [
    {
     "data": {
      "text/plain": [
       "True"
      ]
     },
     "execution_count": 5,
     "metadata": {},
     "output_type": "execute_result"
    }
   ],
   "source": [
    "# Test run\n",
    "name_value('COLIN') == 53"
   ]
  },
  {
   "cell_type": "code",
   "execution_count": 6,
   "id": "30220ec2",
   "metadata": {},
   "outputs": [
    {
     "data": {
      "text/plain": [
       "871198282"
      ]
     },
     "execution_count": 6,
     "metadata": {},
     "output_type": "execute_result"
    }
   ],
   "source": [
    "# Answer\n",
    "sum([(i+1)*(name_value(n)) for (i, n) in enumerate(names)])"
   ]
  }
 ],
 "metadata": {
  "kernelspec": {
   "display_name": "Python 3 (ipykernel)",
   "language": "python",
   "name": "python3"
  },
  "language_info": {
   "codemirror_mode": {
    "name": "ipython",
    "version": 3
   },
   "file_extension": ".py",
   "mimetype": "text/x-python",
   "name": "python",
   "nbconvert_exporter": "python",
   "pygments_lexer": "ipython3",
   "version": "3.11.9"
  }
 },
 "nbformat": 4,
 "nbformat_minor": 5
}
