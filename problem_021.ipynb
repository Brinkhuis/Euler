{
 "cells": [
  {
   "cell_type": "markdown",
   "id": "c6e2ad94-1596-4b05-a508-e71eeba93df9",
   "metadata": {},
   "source": [
    "## Problem 21\n",
    "https://projecteuler.net/problem=21"
   ]
  },
  {
   "cell_type": "code",
   "execution_count": 1,
   "id": "60fd50bf",
   "metadata": {},
   "outputs": [],
   "source": [
    "# Factors\n",
    "def d(n):\n",
    "    f = []\n",
    "    for i in range(1, n):\n",
    "        if n%i == 0:\n",
    "            f.append(i)\n",
    "    return sum(f)"
   ]
  },
  {
   "cell_type": "code",
   "execution_count": 2,
   "id": "e18a2e1c",
   "metadata": {},
   "outputs": [
    {
     "data": {
      "text/plain": [
       "True"
      ]
     },
     "execution_count": 2,
     "metadata": {},
     "output_type": "execute_result"
    }
   ],
   "source": [
    "# Test run\n",
    "d(d(220)) == 220"
   ]
  },
  {
   "cell_type": "code",
   "execution_count": 3,
   "id": "ac3a76dc",
   "metadata": {},
   "outputs": [],
   "source": [
    "# Amicables\n",
    "def amicables(n):\n",
    "    amicable_numbers = []\n",
    "    for n in range(n):\n",
    "        b = d(n)\n",
    "        a = d(b)\n",
    "        if (a == n) and (a != b):\n",
    "            amicable_numbers.append(n)\n",
    "    return amicable_numbers"
   ]
  },
  {
   "cell_type": "code",
   "execution_count": 4,
   "id": "819fd310",
   "metadata": {},
   "outputs": [
    {
     "data": {
      "text/plain": [
       "31626"
      ]
     },
     "execution_count": 4,
     "metadata": {},
     "output_type": "execute_result"
    }
   ],
   "source": [
    "# Answer\n",
    "sum(amicables(10_000))"
   ]
  }
 ],
 "metadata": {
  "kernelspec": {
   "display_name": "Python 3 (ipykernel)",
   "language": "python",
   "name": "python3"
  },
  "language_info": {
   "codemirror_mode": {
    "name": "ipython",
    "version": 3
   },
   "file_extension": ".py",
   "mimetype": "text/x-python",
   "name": "python",
   "nbconvert_exporter": "python",
   "pygments_lexer": "ipython3",
   "version": "3.11.9"
  }
 },
 "nbformat": 4,
 "nbformat_minor": 5
}
