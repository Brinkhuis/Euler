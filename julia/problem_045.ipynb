{
 "cells": [
  {
   "cell_type": "markdown",
   "id": "c6e2ad94-1596-4b05-a508-e71eeba93df9",
   "metadata": {},
   "source": [
    "# Problem 45\n",
    "https://projecteuler.net/problem=45"
   ]
  },
  {
   "cell_type": "code",
   "execution_count": 10,
   "id": "33db1a78",
   "metadata": {},
   "outputs": [
    {
     "name": "stdout",
     "output_type": "stream",
     "text": [
      "Julia v1.11.1\n"
     ]
    }
   ],
   "source": [
    "println(\"Julia v\", string(VERSION))"
   ]
  },
  {
   "cell_type": "code",
   "execution_count": 11,
   "id": "e961a0f3",
   "metadata": {},
   "outputs": [],
   "source": [
    "using BenchmarkTools"
   ]
  },
  {
   "cell_type": "code",
   "execution_count": 12,
   "id": "015bfb73",
   "metadata": {},
   "outputs": [
    {
     "data": {
      "text/plain": [
       "H (generic function with 1 method)"
      ]
     },
     "metadata": {},
     "output_type": "display_data"
    }
   ],
   "source": [
    "T(n) = div(n * (n + 1), 2)\n",
    "P(n) = div(n * (3n - 1), 2)\n",
    "H(n) = n * (2n - 1)"
   ]
  },
  {
   "cell_type": "markdown",
   "id": "3623f209",
   "metadata": {},
   "source": [
    "### Solution 1 (triangle, pentagonal & hexagonal)"
   ]
  },
  {
   "cell_type": "code",
   "execution_count": 13,
   "id": "16b025dd",
   "metadata": {},
   "outputs": [],
   "source": [
    "hi = 55385;"
   ]
  },
  {
   "cell_type": "code",
   "execution_count": 14,
   "id": "367c9713",
   "metadata": {},
   "outputs": [
    {
     "name": "stdout",
     "output_type": "stream",
     "text": [
      "  2.737 ms (32 allocations: 3.38 MiB)\n"
     ]
    },
    {
     "data": {
      "text/plain": [
       "Set{Int64} with 1 element:\n",
       "  1533776805"
      ]
     },
     "metadata": {},
     "output_type": "display_data"
    }
   ],
   "source": [
    "@btime intersect(\n",
    "    Set(T(n) for n in 285+1:hi), \n",
    "    Set(P(n) for n in 165+1:hi),\n",
    "    Set(H(n) for n in 143+1:hi)\n",
    ")"
   ]
  },
  {
   "cell_type": "markdown",
   "id": "06abfd04",
   "metadata": {},
   "source": [
    "### Solution 2 (pentagonal & hexagonal)"
   ]
  },
  {
   "cell_type": "code",
   "execution_count": 15,
   "id": "cc80e81d",
   "metadata": {},
   "outputs": [
    {
     "data": {
      "text/plain": [
       "true"
      ]
     },
     "metadata": {},
     "output_type": "display_data"
    }
   ],
   "source": [
    "all(x -> x in [T(n) for n ∈ 1:80_000], [H(n) for n ∈ 1:40_000])"
   ]
  },
  {
   "cell_type": "markdown",
   "id": "a146f271",
   "metadata": {},
   "source": [
    "> As shown above, it is superflous to have triangle numbers in the equation  \n",
    "> since all hexagonal numbers are also triangle numbers."
   ]
  },
  {
   "cell_type": "code",
   "execution_count": 16,
   "id": "e15e5088",
   "metadata": {},
   "outputs": [],
   "source": [
    "hi = 40_000;"
   ]
  },
  {
   "cell_type": "code",
   "execution_count": 17,
   "id": "1567e70b",
   "metadata": {},
   "outputs": [
    {
     "name": "stdout",
     "output_type": "stream",
     "text": [
      "  1.710 ms (23 allocations: 1.13 MiB)\n"
     ]
    },
    {
     "data": {
      "text/plain": [
       "Set{Int64} with 1 element:\n",
       "  1533776805"
      ]
     },
     "metadata": {},
     "output_type": "display_data"
    }
   ],
   "source": [
    "@btime intersect(\n",
    "    Set(P(n) for n in 165+1:hi),\n",
    "    Set(H(n) for n in 143+1:hi)\n",
    ")"
   ]
  },
  {
   "cell_type": "markdown",
   "id": "2ebd7287",
   "metadata": {},
   "source": [
    "### Save benchmark"
   ]
  },
  {
   "cell_type": "code",
   "execution_count": 18,
   "id": "4a051f45",
   "metadata": {},
   "outputs": [],
   "source": [
    "include(\"./euler.jl\")\n",
    "bm = @benchmark intersect(Set(P(n) for n in 165+1:hi), Set(H(n) for n in 143+1:hi))\n",
    "euler.save_benchmark(45, bm);"
   ]
  }
 ],
 "metadata": {
  "kernelspec": {
   "display_name": "Julia 1.11.1",
   "language": "julia",
   "name": "julia-1.11"
  },
  "language_info": {
   "file_extension": ".jl",
   "mimetype": "application/julia",
   "name": "julia",
   "version": "1.11.1"
  }
 },
 "nbformat": 4,
 "nbformat_minor": 5
}
