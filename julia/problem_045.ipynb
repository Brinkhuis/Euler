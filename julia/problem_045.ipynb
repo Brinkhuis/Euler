{
 "cells": [
  {
   "cell_type": "markdown",
   "id": "c6e2ad94-1596-4b05-a508-e71eeba93df9",
   "metadata": {},
   "source": [
    "## Problem 45\n",
    "https://projecteuler.net/problem=45"
   ]
  },
  {
   "cell_type": "code",
   "execution_count": 1,
   "id": "e961a0f3",
   "metadata": {},
   "outputs": [],
   "source": [
    "using BenchmarkTools"
   ]
  },
  {
   "cell_type": "code",
   "execution_count": 2,
   "id": "015bfb73",
   "metadata": {},
   "outputs": [
    {
     "data": {
      "text/plain": [
       "H (generic function with 1 method)"
      ]
     },
     "metadata": {},
     "output_type": "display_data"
    }
   ],
   "source": [
    "T(n) = div(n * (n + 1), 2)\n",
    "P(n) = div(n * (3n - 1), 2)\n",
    "H(n) = n * (2n - 1)"
   ]
  },
  {
   "cell_type": "markdown",
   "id": "3623f209",
   "metadata": {},
   "source": [
    "#### Solution 1 (triangle, pentagonal & hexagonal)"
   ]
  },
  {
   "cell_type": "code",
   "execution_count": 3,
   "id": "16b025dd",
   "metadata": {},
   "outputs": [
    {
     "data": {
      "text/plain": [
       "55385"
      ]
     },
     "metadata": {},
     "output_type": "display_data"
    }
   ],
   "source": [
    "hi = 55385"
   ]
  },
  {
   "cell_type": "code",
   "execution_count": 4,
   "id": "60ac9474",
   "metadata": {},
   "outputs": [
    {
     "name": "stdout",
     "output_type": "stream",
     "text": [
      "  2.789 ms (35 allocations: 3.38 MiB)\n"
     ]
    },
    {
     "data": {
      "text/plain": [
       "Set{Int64} with 1 element:\n",
       "  1533776805"
      ]
     },
     "metadata": {},
     "output_type": "display_data"
    }
   ],
   "source": [
    "@btime intersect(\n",
    "    Set(T(n) for n in 285+1:hi), \n",
    "    Set(P(n) for n in 165+1:hi),\n",
    "    Set(H(n) for n in 143+1:hi)\n",
    ")"
   ]
  },
  {
   "cell_type": "markdown",
   "id": "06abfd04",
   "metadata": {},
   "source": [
    "Solution 2 (pentagonal & hexagonal)"
   ]
  },
  {
   "cell_type": "markdown",
   "id": "a146f271",
   "metadata": {},
   "source": [
    "It is superflous to have triangle numbers in the equation since all hexagonal numbers are also triangle numbers."
   ]
  },
  {
   "cell_type": "code",
   "execution_count": 5,
   "id": "e15e5088",
   "metadata": {},
   "outputs": [
    {
     "data": {
      "text/plain": [
       "40000"
      ]
     },
     "metadata": {},
     "output_type": "display_data"
    }
   ],
   "source": [
    "hi = 40_000"
   ]
  },
  {
   "cell_type": "code",
   "execution_count": 6,
   "id": "71fb4568",
   "metadata": {},
   "outputs": [
    {
     "name": "stdout",
     "output_type": "stream",
     "text": [
      "  1.751 ms (25 allocations: 1.13 MiB)\n"
     ]
    },
    {
     "data": {
      "text/plain": [
       "Set{Int64} with 1 element:\n",
       "  1533776805"
      ]
     },
     "metadata": {},
     "output_type": "display_data"
    }
   ],
   "source": [
    "@btime intersect(\n",
    "    Set(P(n) for n in 165+1:hi),\n",
    "    Set(H(n) for n in 143+1:hi)\n",
    ")"
   ]
  }
 ],
 "metadata": {
  "kernelspec": {
   "display_name": "Julia 1.10.5",
   "language": "julia",
   "name": "julia-1.10"
  },
  "language_info": {
   "file_extension": ".jl",
   "mimetype": "application/julia",
   "name": "julia",
   "version": "1.10.5"
  }
 },
 "nbformat": 4,
 "nbformat_minor": 5
}
