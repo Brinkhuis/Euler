{
 "cells": [
  {
   "cell_type": "markdown",
   "id": "c6e2ad94-1596-4b05-a508-e71eeba93df9",
   "metadata": {},
   "source": [
    "## Problem 39\n",
    "https://projecteuler.net/problem=39"
   ]
  },
  {
   "cell_type": "markdown",
   "id": "962771dc",
   "metadata": {},
   "source": [
    "$$ P = a + b + \\sqrt{a^{2} + b^{2}} $$"
   ]
  },
  {
   "cell_type": "code",
   "execution_count": 1,
   "id": "9ddad57f",
   "metadata": {},
   "outputs": [],
   "source": [
    "using BenchmarkTools"
   ]
  },
  {
   "cell_type": "code",
   "execution_count": 2,
   "id": "1a729538",
   "metadata": {},
   "outputs": [
    {
     "data": {
      "text/plain": [
       "P (generic function with 1 method)"
      ]
     },
     "metadata": {},
     "output_type": "display_data"
    }
   ],
   "source": [
    "P(a, b) = a + b + sqrt(a^2 + b^2) # faster than a + b + hypot(a, b)"
   ]
  },
  {
   "cell_type": "code",
   "execution_count": 3,
   "id": "8eccb123",
   "metadata": {},
   "outputs": [],
   "source": [
    "@assert P(20, 48) == 120"
   ]
  },
  {
   "cell_type": "code",
   "execution_count": 4,
   "id": "8710a8fe",
   "metadata": {},
   "outputs": [
    {
     "data": {
      "text/plain": [
       "integer_right_triangle (generic function with 1 method)"
      ]
     },
     "metadata": {},
     "output_type": "display_data"
    }
   ],
   "source": [
    "function integer_right_triangle(n)\n",
    "    counter = 0\n",
    "    for i in 1:n÷2+1\n",
    "        for j in 1:n÷2+1\n",
    "            if isinteger(P(i, j)) && P(i, j) == n\n",
    "                counter += 1\n",
    "            end\n",
    "        end\n",
    "    end\n",
    "    return counter ÷ 2 # deduplicate combinations (i.e. i=1, j=2 vs i=2, j=1) in the double for loop\n",
    "end"
   ]
  },
  {
   "cell_type": "code",
   "execution_count": 5,
   "id": "ff7f4199",
   "metadata": {},
   "outputs": [
    {
     "data": {
      "text/plain": [
       "3"
      ]
     },
     "metadata": {},
     "output_type": "display_data"
    }
   ],
   "source": [
    "integer_right_triangle(120)"
   ]
  },
  {
   "cell_type": "code",
   "execution_count": 6,
   "id": "bd3f54cb",
   "metadata": {},
   "outputs": [],
   "source": [
    "@assert integer_right_triangle(120) == 3"
   ]
  },
  {
   "cell_type": "code",
   "execution_count": 7,
   "id": "9a992a48",
   "metadata": {},
   "outputs": [
    {
     "data": {
      "text/plain": [
       "maximum_solution (generic function with 2 methods)"
      ]
     },
     "metadata": {},
     "output_type": "display_data"
    }
   ],
   "source": [
    "function maximum_solution(p=1000)\n",
    "    p_value = 0\n",
    "    maximum_solutions = 0\n",
    "    for i in 1:p\n",
    "        irt = integer_right_triangle(i)\n",
    "        if irt > maximum_solutions\n",
    "            p_value = i\n",
    "            maximum_solutions = irt\n",
    "        end\n",
    "    end\n",
    "    return p_value\n",
    "end"
   ]
  },
  {
   "cell_type": "code",
   "execution_count": 8,
   "id": "f21a28ab",
   "metadata": {},
   "outputs": [
    {
     "name": "stdout",
     "output_type": "stream",
     "text": [
      "  106.688 ms (0 allocations: 0 bytes)\n"
     ]
    },
    {
     "data": {
      "text/plain": [
       "840"
      ]
     },
     "metadata": {},
     "output_type": "display_data"
    }
   ],
   "source": [
    "@btime maximum_solution(1000)"
   ]
  }
 ],
 "metadata": {
  "kernelspec": {
   "display_name": "Julia 1.10.5",
   "language": "julia",
   "name": "julia-1.10"
  },
  "language_info": {
   "file_extension": ".jl",
   "mimetype": "application/julia",
   "name": "julia",
   "version": "1.10.5"
  }
 },
 "nbformat": 4,
 "nbformat_minor": 5
}
