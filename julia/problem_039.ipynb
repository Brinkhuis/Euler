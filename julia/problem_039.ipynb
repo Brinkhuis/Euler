{
 "cells": [
  {
   "cell_type": "markdown",
   "id": "c6e2ad94-1596-4b05-a508-e71eeba93df9",
   "metadata": {},
   "source": [
    "# Problem 39\n",
    "https://projecteuler.net/problem=39"
   ]
  },
  {
   "cell_type": "code",
   "execution_count": 1,
   "id": "7f0ce116",
   "metadata": {},
   "outputs": [
    {
     "name": "stdout",
     "output_type": "stream",
     "text": [
      "Julia v1.11.1\n"
     ]
    }
   ],
   "source": [
    "println(\"Julia v\", string(VERSION))"
   ]
  },
  {
   "cell_type": "code",
   "execution_count": 2,
   "id": "9ddad57f",
   "metadata": {},
   "outputs": [],
   "source": [
    "using BenchmarkTools"
   ]
  },
  {
   "cell_type": "markdown",
   "id": "a30ae065",
   "metadata": {},
   "source": [
    "### Solution"
   ]
  },
  {
   "cell_type": "markdown",
   "id": "962771dc",
   "metadata": {},
   "source": [
    "$$ P = a + b + \\sqrt{a^{2} + b^{2}} $$"
   ]
  },
  {
   "cell_type": "code",
   "execution_count": 3,
   "id": "1a729538",
   "metadata": {},
   "outputs": [],
   "source": [
    "P(a, b) = a + b + sqrt(a^2 + b^2) # faster than a + b + hypot(a, b)\n",
    "\n",
    "@assert P(20, 48) == 120"
   ]
  },
  {
   "cell_type": "code",
   "execution_count": 4,
   "id": "8710a8fe",
   "metadata": {},
   "outputs": [],
   "source": [
    "function integer_right_triangle(n)\n",
    "    counter = 0\n",
    "    for i in 1:n÷2+1\n",
    "        for j in 1:n÷2+1\n",
    "            if isinteger(P(i, j)) && P(i, j) == n\n",
    "                counter += 1\n",
    "            end\n",
    "        end\n",
    "    end\n",
    "    return counter ÷ 2 # deduplicate combinations (i.e. i=1, j=2 vs i=2, j=1) in the double for loop\n",
    "end\n",
    "\n",
    "@assert integer_right_triangle(120) == 3"
   ]
  },
  {
   "cell_type": "code",
   "execution_count": 5,
   "id": "9a992a48",
   "metadata": {},
   "outputs": [
    {
     "data": {
      "text/plain": [
       "maximum_solution (generic function with 2 methods)"
      ]
     },
     "metadata": {},
     "output_type": "display_data"
    }
   ],
   "source": [
    "function maximum_solution(p=1000)\n",
    "    p_value = 0\n",
    "    maximum_solutions = 0\n",
    "    for i in 1:p\n",
    "        irt = integer_right_triangle(i)\n",
    "        if irt > maximum_solutions\n",
    "            p_value = i\n",
    "            maximum_solutions = irt\n",
    "        end\n",
    "    end\n",
    "    return p_value\n",
    "end"
   ]
  },
  {
   "cell_type": "code",
   "execution_count": 6,
   "id": "fd3ff295",
   "metadata": {},
   "outputs": [
    {
     "name": "stdout",
     "output_type": "stream",
     "text": [
      "  106.705 ms (0 allocations: 0 bytes)\n"
     ]
    },
    {
     "data": {
      "text/plain": [
       "840"
      ]
     },
     "metadata": {},
     "output_type": "display_data"
    }
   ],
   "source": [
    "@btime maximum_solution(1000)"
   ]
  },
  {
   "cell_type": "markdown",
   "id": "9382908b",
   "metadata": {},
   "source": [
    "### Save benchmark"
   ]
  },
  {
   "cell_type": "code",
   "execution_count": 7,
   "id": "9a92c861",
   "metadata": {},
   "outputs": [],
   "source": [
    "include(\"./euler.jl\")\n",
    "bm = @benchmark maximum_solution(1000)\n",
    "euler.save_benchmark(39, bm);"
   ]
  }
 ],
 "metadata": {
  "kernelspec": {
   "display_name": "Julia 1.11.1",
   "language": "julia",
   "name": "julia-1.11"
  },
  "language_info": {
   "file_extension": ".jl",
   "mimetype": "application/julia",
   "name": "julia",
   "version": "1.11.1"
  }
 },
 "nbformat": 4,
 "nbformat_minor": 5
}
