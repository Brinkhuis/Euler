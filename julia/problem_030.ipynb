{
 "cells": [
  {
   "cell_type": "markdown",
   "id": "c6e2ad94-1596-4b05-a508-e71eeba93df9",
   "metadata": {},
   "source": [
    "## Problem 55\n",
    "https://projecteuler.net/problem=55"
   ]
  },
  {
   "cell_type": "code",
   "execution_count": 1,
   "id": "8351a395",
   "metadata": {},
   "outputs": [],
   "source": [
    "using BenchmarkTools"
   ]
  },
  {
   "cell_type": "code",
   "execution_count": 2,
   "id": "e2ab66cd",
   "metadata": {},
   "outputs": [
    {
     "data": {
      "text/plain": [
       "1000000"
      ]
     },
     "metadata": {},
     "output_type": "display_data"
    }
   ],
   "source": [
    "hi = 1_000_000"
   ]
  },
  {
   "cell_type": "markdown",
   "id": "1495d98e",
   "metadata": {},
   "source": [
    "#### Solution 1 (function)"
   ]
  },
  {
   "cell_type": "code",
   "execution_count": 3,
   "id": "c91e727f",
   "metadata": {},
   "outputs": [
    {
     "data": {
      "text/plain": [
       "digit_fifth_powers (generic function with 1 method)"
      ]
     },
     "metadata": {},
     "output_type": "display_data"
    }
   ],
   "source": [
    "function digit_fifth_powers(stop)\n",
    "    nums = Int64[]\n",
    "    for n in 2:stop \n",
    "        if n == sum(d^5 for d in digits(n))\n",
    "            push!(nums, n)\n",
    "        end\n",
    "    end\n",
    "    return sum(nums)\n",
    "end"
   ]
  },
  {
   "cell_type": "code",
   "execution_count": 4,
   "id": "a4f31d22",
   "metadata": {},
   "outputs": [
    {
     "name": "stdout",
     "output_type": "stream",
     "text": [
      "  41.115 ms (1000002 allocations: 105.27 MiB)\n"
     ]
    },
    {
     "data": {
      "text/plain": [
       "443839"
      ]
     },
     "metadata": {},
     "output_type": "display_data"
    }
   ],
   "source": [
    "@btime digit_fifth_powers(hi)"
   ]
  },
  {
   "cell_type": "markdown",
   "id": "3b0be18c",
   "metadata": {},
   "source": [
    "#### Solution 2 (oneliners)"
   ]
  },
  {
   "cell_type": "code",
   "execution_count": 5,
   "id": "1db89286",
   "metadata": {},
   "outputs": [
    {
     "name": "stdout",
     "output_type": "stream",
     "text": [
      "  41.404 ms (1000011 allocations: 105.27 MiB)\n"
     ]
    },
    {
     "data": {
      "text/plain": [
       "443839"
      ]
     },
     "metadata": {},
     "output_type": "display_data"
    }
   ],
   "source": [
    "@btime sum(n for n in 2:hi if n == sum(d^5 for d in digits(n)))"
   ]
  },
  {
   "cell_type": "code",
   "execution_count": 6,
   "id": "8cbeba32",
   "metadata": {},
   "outputs": [
    {
     "name": "stdout",
     "output_type": "stream",
     "text": [
      "  41.368 ms (1000005 allocations: 112.90 MiB)\n"
     ]
    },
    {
     "data": {
      "text/plain": [
       "443839"
      ]
     },
     "metadata": {},
     "output_type": "display_data"
    }
   ],
   "source": [
    "@btime sum(filter(n -> n == sum(d -> d^5, digits(n)), 2:hi))"
   ]
  }
 ],
 "metadata": {
  "kernelspec": {
   "display_name": "Julia 1.10.5",
   "language": "julia",
   "name": "julia-1.10"
  },
  "language_info": {
   "file_extension": ".jl",
   "mimetype": "application/julia",
   "name": "julia",
   "version": "1.10.5"
  }
 },
 "nbformat": 4,
 "nbformat_minor": 5
}
