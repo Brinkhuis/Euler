{
 "cells": [
  {
   "cell_type": "markdown",
   "id": "c6e2ad94-1596-4b05-a508-e71eeba93df9",
   "metadata": {},
   "source": [
    "# Problem 30\n",
    "https://projecteuler.net/problem=30"
   ]
  },
  {
   "cell_type": "code",
   "execution_count": 1,
   "id": "9167dd6c",
   "metadata": {},
   "outputs": [
    {
     "name": "stdout",
     "output_type": "stream",
     "text": [
      "Julia v1.11.1\n"
     ]
    }
   ],
   "source": [
    "println(\"Julia v\", string(VERSION))"
   ]
  },
  {
   "cell_type": "code",
   "execution_count": 2,
   "id": "8351a395",
   "metadata": {},
   "outputs": [],
   "source": [
    "using BenchmarkTools"
   ]
  },
  {
   "cell_type": "code",
   "execution_count": 3,
   "id": "e2ab66cd",
   "metadata": {},
   "outputs": [
    {
     "data": {
      "text/plain": [
       "250000"
      ]
     },
     "metadata": {},
     "output_type": "display_data"
    }
   ],
   "source": [
    "hi = 250_000"
   ]
  },
  {
   "cell_type": "markdown",
   "id": "1495d98e",
   "metadata": {},
   "source": [
    "### Solution 1 (function)"
   ]
  },
  {
   "cell_type": "code",
   "execution_count": 4,
   "id": "c91e727f",
   "metadata": {},
   "outputs": [],
   "source": [
    "function digit_fifth_powers(stop, p)\n",
    "    nums = Int64[]\n",
    "    for n in 2:stop \n",
    "        if n == sum(d^p for d in digits(n))\n",
    "            push!(nums, n)\n",
    "        end\n",
    "    end\n",
    "    return sum(nums)\n",
    "end\n",
    "\n",
    "@assert digit_fifth_powers(hi, 4) == 19316"
   ]
  },
  {
   "cell_type": "code",
   "execution_count": 5,
   "id": "f068992e",
   "metadata": {},
   "outputs": [
    {
     "name": "stdout",
     "output_type": "stream",
     "text": [
      "  9.008 ms (500001 allocations: 25.16 MiB)\n"
     ]
    },
    {
     "data": {
      "text/plain": [
       "443839"
      ]
     },
     "metadata": {},
     "output_type": "display_data"
    }
   ],
   "source": [
    "@btime digit_fifth_powers(hi, 5)"
   ]
  },
  {
   "cell_type": "markdown",
   "id": "a6cc3548",
   "metadata": {},
   "source": [
    "### Solution 2 (oneliner)"
   ]
  },
  {
   "cell_type": "code",
   "execution_count": 6,
   "id": "8316c544",
   "metadata": {},
   "outputs": [
    {
     "name": "stdout",
     "output_type": "stream",
     "text": [
      "  9.689 ms (500004 allocations: 25.16 MiB)\n"
     ]
    },
    {
     "data": {
      "text/plain": [
       "443839"
      ]
     },
     "metadata": {},
     "output_type": "display_data"
    }
   ],
   "source": [
    "@btime sum(n for n in 2:hi if n == sum(d^5 for d in digits(n)))"
   ]
  },
  {
   "cell_type": "markdown",
   "id": "33a18069",
   "metadata": {},
   "source": [
    "### Save benchmark"
   ]
  },
  {
   "cell_type": "code",
   "execution_count": 7,
   "id": "a4f31d22",
   "metadata": {},
   "outputs": [],
   "source": [
    "include(\"./euler.jl\")\n",
    "bm = @benchmark digit_fifth_powers(hi, 5)\n",
    "euler.save_benchmark(30, bm);"
   ]
  }
 ],
 "metadata": {
  "kernelspec": {
   "display_name": "Julia 1.11.1",
   "language": "julia",
   "name": "julia-1.11"
  },
  "language_info": {
   "file_extension": ".jl",
   "mimetype": "application/julia",
   "name": "julia",
   "version": "1.11.1"
  }
 },
 "nbformat": 4,
 "nbformat_minor": 5
}
