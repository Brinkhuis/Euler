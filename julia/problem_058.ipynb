{
 "cells": [
  {
   "cell_type": "markdown",
   "id": "c6e2ad94-1596-4b05-a508-e71eeba93df9",
   "metadata": {},
   "source": [
    "# Problem 58\n",
    "https://projecteuler.net/problem=58"
   ]
  },
  {
   "cell_type": "code",
   "execution_count": 1,
   "id": "729987e8",
   "metadata": {},
   "outputs": [
    {
     "name": "stdout",
     "output_type": "stream",
     "text": [
      "Julia v1.11.1\n"
     ]
    }
   ],
   "source": [
    "println(\"Julia v\", string(VERSION))"
   ]
  },
  {
   "cell_type": "code",
   "execution_count": 2,
   "id": "0ef4b191",
   "metadata": {},
   "outputs": [],
   "source": [
    "using BenchmarkTools"
   ]
  },
  {
   "cell_type": "markdown",
   "id": "9dc6bb66",
   "metadata": {},
   "source": [
    "### Solution"
   ]
  },
  {
   "cell_type": "code",
   "execution_count": 3,
   "id": "44a1f997",
   "metadata": {},
   "outputs": [],
   "source": [
    "using Primes"
   ]
  },
  {
   "cell_type": "code",
   "execution_count": 4,
   "id": "48ea7b45",
   "metadata": {},
   "outputs": [
    {
     "data": {
      "text/plain": [
       "spiral_primes (generic function with 1 method)"
      ]
     },
     "metadata": {},
     "output_type": "display_data"
    }
   ],
   "source": [
    "function spiral_primes()\n",
    "    primes_count = 0\n",
    "    diagonal_corner = 1 # init\n",
    "    for side_length in Iterators.countfrom(3, 2)\n",
    "        for _ in 1:4 # diagonal corners\n",
    "            diagonal_corner += side_length - 1\n",
    "            if isprime(diagonal_corner)\n",
    "                primes_count += 1\n",
    "            end\n",
    "            primes_count / (2side_length - 1) < .10 && return side_length\n",
    "        end\n",
    "    end\n",
    "end"
   ]
  },
  {
   "cell_type": "code",
   "execution_count": 5,
   "id": "ef91199c",
   "metadata": {},
   "outputs": [
    {
     "name": "stdout",
     "output_type": "stream",
     "text": [
      "  12.420 ms (0 allocations: 0 bytes)\n"
     ]
    },
    {
     "data": {
      "text/plain": [
       "26241"
      ]
     },
     "metadata": {},
     "output_type": "display_data"
    }
   ],
   "source": [
    "@btime spiral_primes()"
   ]
  }
 ],
 "metadata": {
  "kernelspec": {
   "display_name": "Julia 1.11.1",
   "language": "julia",
   "name": "julia-1.11"
  },
  "language_info": {
   "file_extension": ".jl",
   "mimetype": "application/julia",
   "name": "julia",
   "version": "1.11.1"
  }
 },
 "nbformat": 4,
 "nbformat_minor": 5
}
