{
 "cells": [
  {
   "cell_type": "markdown",
   "id": "c6e2ad94-1596-4b05-a508-e71eeba93df9",
   "metadata": {},
   "source": [
    "## Problem 22\n",
    "https://projecteuler.net/problem=22"
   ]
  },
  {
   "cell_type": "code",
   "execution_count": 1,
   "id": "c6409fe0",
   "metadata": {},
   "outputs": [],
   "source": [
    "using BenchmarkTools"
   ]
  },
  {
   "cell_type": "code",
   "execution_count": 2,
   "id": "e68c6350",
   "metadata": {},
   "outputs": [
    {
     "name": "stdout",
     "output_type": "stream",
     "text": [
      "Reading file ...\n"
     ]
    }
   ],
   "source": [
    "file_name = \"0022_names.txt\"\n",
    "file_path = \"../data/\"\n",
    "\n",
    "if isfile(file_path * file_name)\n",
    "    println(\"Reading file ...\")\n",
    "    s = read(file_path * file_name, String)\n",
    "else\n",
    "    println(\"Downloading file ...\")\n",
    "    s = read(download(\"https://projecteuler.net/resources/documents/\" * file_name), String)\n",
    "end\n",
    "\n",
    "names = split(replace(s, '\"' => \"\"), \",\")\n",
    "\n",
    "@assert length(names) == 5163"
   ]
  },
  {
   "cell_type": "markdown",
   "id": "a443f0c3",
   "metadata": {},
   "source": [
    "#### Solution 1 (function)"
   ]
  },
  {
   "cell_type": "code",
   "execution_count": 3,
   "id": "29df4fb4",
   "metadata": {},
   "outputs": [
    {
     "data": {
      "text/plain": [
       "name_value (generic function with 1 method)"
      ]
     },
     "metadata": {},
     "output_type": "display_data"
    }
   ],
   "source": [
    "function name_value(name)::Int64\n",
    "    val = 0\n",
    "    for letter in name\n",
    "        val += findfirst(==(only(letter)), 'A':'Z')\n",
    "    end\n",
    "    return val\n",
    "end"
   ]
  },
  {
   "cell_type": "code",
   "execution_count": 4,
   "id": "a5e53952",
   "metadata": {},
   "outputs": [
    {
     "name": "stdout",
     "output_type": "stream",
     "text": [
      "  735.084 μs (7 allocations: 242.39 KiB)\n"
     ]
    },
    {
     "data": {
      "text/plain": [
       "871198282"
      ]
     },
     "metadata": {},
     "output_type": "display_data"
    }
   ],
   "source": [
    "@btime sum((idx * name_value(name) for (idx, name) in enumerate(sort(names))))"
   ]
  },
  {
   "cell_type": "markdown",
   "id": "d3cdc0b6",
   "metadata": {},
   "source": [
    "#### Solution 2 (oneliner)"
   ]
  },
  {
   "cell_type": "code",
   "execution_count": 5,
   "id": "ed13b21d",
   "metadata": {},
   "outputs": [
    {
     "name": "stdout",
     "output_type": "stream",
     "text": [
      "  1.469 ms (25287 allocations: 798.73 KiB)\n"
     ]
    },
    {
     "data": {
      "text/plain": [
       "871198282"
      ]
     },
     "metadata": {},
     "output_type": "display_data"
    }
   ],
   "source": [
    "@btime sum(i * sum(findfirst(==(only(l)), 'A':'Z') for l ∈ n) for (i, n) ∈ enumerate(sort(names)))"
   ]
  }
 ],
 "metadata": {
  "kernelspec": {
   "display_name": "Julia 1.10.5",
   "language": "julia",
   "name": "julia-1.10"
  },
  "language_info": {
   "file_extension": ".jl",
   "mimetype": "application/julia",
   "name": "julia",
   "version": "1.10.5"
  }
 },
 "nbformat": 4,
 "nbformat_minor": 5
}
