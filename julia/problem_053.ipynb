{
 "cells": [
  {
   "cell_type": "markdown",
   "id": "c6e2ad94-1596-4b05-a508-e71eeba93df9",
   "metadata": {},
   "source": [
    "## Problem 53\n",
    "https://projecteuler.net/problem=53"
   ]
  },
  {
   "cell_type": "markdown",
   "id": "3dc325c8",
   "metadata": {},
   "source": [
    "$$ \\left( \\frac{n}{r} \\right) = \\frac{n!}{r! \\cdot \\left( n - r \\right)!} \\text{, where}\\: r ≤ n$$"
   ]
  },
  {
   "cell_type": "code",
   "execution_count": 1,
   "id": "2d23da97",
   "metadata": {},
   "outputs": [],
   "source": [
    "using BenchmarkTools"
   ]
  },
  {
   "cell_type": "code",
   "execution_count": 2,
   "id": "b0db654d",
   "metadata": {},
   "outputs": [
    {
     "data": {
      "text/plain": [
       "f (generic function with 1 method)"
      ]
     },
     "metadata": {},
     "output_type": "display_data"
    }
   ],
   "source": [
    "f(n, r) = factorial(big(n)) / (factorial(big(r)) * factorial(big(n - r)))"
   ]
  },
  {
   "cell_type": "code",
   "execution_count": 3,
   "id": "4eb891e4",
   "metadata": {},
   "outputs": [],
   "source": [
    "@assert f(5, 3) == 10"
   ]
  },
  {
   "cell_type": "markdown",
   "id": "a8f3fe22",
   "metadata": {},
   "source": [
    "#### Solution 1"
   ]
  },
  {
   "cell_type": "code",
   "execution_count": 4,
   "id": "5740a29f",
   "metadata": {},
   "outputs": [
    {
     "name": "stdout",
     "output_type": "stream",
     "text": [
      "  3.236 ms (124294 allocations: 3.39 MiB)\n"
     ]
    },
    {
     "data": {
      "text/plain": [
       "4075"
      ]
     },
     "metadata": {},
     "output_type": "display_data"
    }
   ],
   "source": [
    "@btime begin\n",
    "    counter = 0\n",
    "    for n in 1:100, r in 1:100\n",
    "        if r ≤ n && f(n, r) > 1_000_000\n",
    "            counter += 1\n",
    "        end\n",
    "    end\n",
    "    counter\n",
    "end"
   ]
  },
  {
   "cell_type": "markdown",
   "id": "34b1877d",
   "metadata": {},
   "source": [
    "#### Solution 2"
   ]
  },
  {
   "cell_type": "code",
   "execution_count": 5,
   "id": "811f3e54",
   "metadata": {},
   "outputs": [
    {
     "name": "stdout",
     "output_type": "stream",
     "text": [
      "  3.240 ms (124294 allocations: 3.39 MiB)\n"
     ]
    },
    {
     "data": {
      "text/plain": [
       "4075"
      ]
     },
     "metadata": {},
     "output_type": "display_data"
    }
   ],
   "source": [
    "@btime begin\n",
    "    counter = 0\n",
    "    for n in 1:100, r in 1:100\n",
    "        r ≤ n && f(n, r) > 1_000_000 ? counter += 1 : nothing\n",
    "    end\n",
    "    counter\n",
    "end"
   ]
  },
  {
   "cell_type": "markdown",
   "id": "6800f11c",
   "metadata": {},
   "source": [
    "#### Solution 3"
   ]
  },
  {
   "cell_type": "code",
   "execution_count": 6,
   "id": "6deb4a65",
   "metadata": {},
   "outputs": [
    {
     "name": "stdout",
     "output_type": "stream",
     "text": [
      "  3.291 ms (124295 allocations: 3.40 MiB)\n"
     ]
    },
    {
     "data": {
      "text/plain": [
       "4075"
      ]
     },
     "metadata": {},
     "output_type": "display_data"
    }
   ],
   "source": [
    "@btime sum(Bool[r ≤ n && f(n, r) > 1_000_000 for n in 1:100, r in 1:100])"
   ]
  },
  {
   "cell_type": "markdown",
   "id": "f402b207",
   "metadata": {},
   "source": [
    "#### Solution 4"
   ]
  },
  {
   "cell_type": "code",
   "execution_count": 7,
   "id": "03891c64",
   "metadata": {},
   "outputs": [
    {
     "name": "stdout",
     "output_type": "stream",
     "text": [
      "  3.346 ms (124301 allocations: 3.44 MiB)\n"
     ]
    },
    {
     "data": {
      "text/plain": [
       "4075"
      ]
     },
     "metadata": {},
     "output_type": "display_data"
    }
   ],
   "source": [
    "@btime sum(Int[1 for n in 1:100, r in 1:100 if r ≤ n && f(n, r) > 1_000_000])"
   ]
  }
 ],
 "metadata": {
  "kernelspec": {
   "display_name": "Julia 1.10.5",
   "language": "julia",
   "name": "julia-1.10"
  },
  "language_info": {
   "file_extension": ".jl",
   "mimetype": "application/julia",
   "name": "julia",
   "version": "1.10.5"
  }
 },
 "nbformat": 4,
 "nbformat_minor": 5
}
