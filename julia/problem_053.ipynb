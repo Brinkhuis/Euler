{
 "cells": [
  {
   "cell_type": "markdown",
   "id": "c6e2ad94-1596-4b05-a508-e71eeba93df9",
   "metadata": {},
   "source": [
    "# Problem 53\n",
    "https://projecteuler.net/problem=53"
   ]
  },
  {
   "cell_type": "code",
   "execution_count": 1,
   "id": "5e25f26a",
   "metadata": {},
   "outputs": [
    {
     "name": "stdout",
     "output_type": "stream",
     "text": [
      "Julia v1.11.1\n"
     ]
    }
   ],
   "source": [
    "println(\"Julia v\", string(VERSION))"
   ]
  },
  {
   "cell_type": "code",
   "execution_count": 2,
   "id": "2d23da97",
   "metadata": {},
   "outputs": [],
   "source": [
    "using BenchmarkTools"
   ]
  },
  {
   "cell_type": "markdown",
   "id": "3dc325c8",
   "metadata": {},
   "source": [
    "$$ \\left( \\frac{n}{r} \\right) = \\frac{n!}{r! \\cdot \\left( n - r \\right)!} \\text{, where}\\: r ≤ n$$"
   ]
  },
  {
   "cell_type": "code",
   "execution_count": 3,
   "id": "b0db654d",
   "metadata": {},
   "outputs": [],
   "source": [
    "f(n, r) = factorial(big(n)) / (factorial(big(r)) * factorial(big(n - r)))\n",
    "\n",
    "@assert f(5, 3) == 10"
   ]
  },
  {
   "cell_type": "markdown",
   "id": "a8f3fe22",
   "metadata": {},
   "source": [
    "### Solution 1 (function)"
   ]
  },
  {
   "cell_type": "code",
   "execution_count": 4,
   "id": "d7242326",
   "metadata": {},
   "outputs": [
    {
     "data": {
      "text/plain": [
       "combinatoric_selections (generic function with 3 methods)"
      ]
     },
     "metadata": {},
     "output_type": "display_data"
    }
   ],
   "source": [
    "function combinatoric_selections(x=100, y=1_000_000)\n",
    "    counter = 0\n",
    "    for n in 1:x, r in 1:x\n",
    "        if r ≤ n && f(n, r) > y\n",
    "            counter += 1\n",
    "        end\n",
    "    end\n",
    "    return counter\n",
    "end"
   ]
  },
  {
   "cell_type": "code",
   "execution_count": 5,
   "id": "5740a29f",
   "metadata": {},
   "outputs": [
    {
     "name": "stdout",
     "output_type": "stream",
     "text": [
      "  2.848 ms (124294 allocations: 3.39 MiB)\n"
     ]
    },
    {
     "data": {
      "text/plain": [
       "4075"
      ]
     },
     "metadata": {},
     "output_type": "display_data"
    }
   ],
   "source": [
    "@btime combinatoric_selections()"
   ]
  },
  {
   "cell_type": "markdown",
   "id": "34b1877d",
   "metadata": {},
   "source": [
    "### Solution 2 (oneliner)"
   ]
  },
  {
   "cell_type": "code",
   "execution_count": 6,
   "id": "846481f6",
   "metadata": {},
   "outputs": [
    {
     "name": "stdout",
     "output_type": "stream",
     "text": [
      "  2.898 ms (124294 allocations: 3.39 MiB)\n"
     ]
    },
    {
     "data": {
      "text/plain": [
       "4075"
      ]
     },
     "metadata": {},
     "output_type": "display_data"
    }
   ],
   "source": [
    "@btime sum(r ≤ n && f(n, r) > 1_000_000 for n in 1:100, r in 1:100)"
   ]
  }
 ],
 "metadata": {
  "kernelspec": {
   "display_name": "Julia 1.11.1",
   "language": "julia",
   "name": "julia-1.11"
  },
  "language_info": {
   "file_extension": ".jl",
   "mimetype": "application/julia",
   "name": "julia",
   "version": "1.11.1"
  }
 },
 "nbformat": 4,
 "nbformat_minor": 5
}
