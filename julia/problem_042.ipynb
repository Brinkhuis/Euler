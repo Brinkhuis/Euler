{
 "cells": [
  {
   "cell_type": "markdown",
   "id": "c6e2ad94-1596-4b05-a508-e71eeba93df9",
   "metadata": {},
   "source": [
    "## Problem 42\n",
    "https://projecteuler.net/problem=42"
   ]
  },
  {
   "cell_type": "code",
   "execution_count": 1,
   "id": "4289b3d4",
   "metadata": {},
   "outputs": [],
   "source": [
    "using DelimitedFiles, BenchmarkTools"
   ]
  },
  {
   "cell_type": "code",
   "execution_count": 2,
   "id": "03c5e063",
   "metadata": {},
   "outputs": [
    {
     "data": {
      "text/plain": [
       "1×1786 Matrix{String}:\n",
       " \"A\"  \"ABILITY\"  \"ABLE\"  \"ABOUT\"  \"ABOVE\"  …  \"YOUR\"  \"YOURSELF\"  \"YOUTH\""
      ]
     },
     "metadata": {},
     "output_type": "display_data"
    }
   ],
   "source": [
    "file_path = \"data/\"\n",
    "file_name = \"0042_words.txt\"\n",
    "\n",
    "words = DelimitedFiles.readdlm(file_path * file_name, ',', String)"
   ]
  },
  {
   "cell_type": "markdown",
   "id": "daa121e2",
   "metadata": {},
   "source": [
    "#### Solution 1 (function)"
   ]
  },
  {
   "cell_type": "code",
   "execution_count": 3,
   "id": "a84cbf0a",
   "metadata": {},
   "outputs": [
    {
     "data": {
      "text/plain": [
       "triangular (generic function with 1 method)"
      ]
     },
     "metadata": {},
     "output_type": "display_data"
    }
   ],
   "source": [
    "triangular(n) = div(n * (n + 1), 2)"
   ]
  },
  {
   "cell_type": "code",
   "execution_count": 4,
   "id": "8b8c6936",
   "metadata": {},
   "outputs": [
    {
     "data": {
      "text/plain": [
       "3"
      ]
     },
     "metadata": {},
     "output_type": "display_data"
    }
   ],
   "source": [
    "triangular(2)"
   ]
  },
  {
   "cell_type": "code",
   "execution_count": 5,
   "id": "049ef599",
   "metadata": {},
   "outputs": [
    {
     "data": {
      "text/plain": [
       "coded_triangle_numbers (generic function with 1 method)"
      ]
     },
     "metadata": {},
     "output_type": "display_data"
    }
   ],
   "source": [
    "function coded_triangle_numbers(words)\n",
    "    word_values = [sum(Int(letter) - Int('A') + 1 for letter ∈ word) for word ∈ words]\n",
    "    max = maximum(word_values)\n",
    "    triangle_sequence = Int64[]\n",
    "    counter = 1\n",
    "    while triangular(counter) ≤ max\n",
    "        push!(triangle_sequence, triangular(counter))\n",
    "        counter += 1\n",
    "    end\n",
    "    return count(value ∈ triangle_sequence for value ∈ word_values)\n",
    "end"
   ]
  },
  {
   "cell_type": "code",
   "execution_count": 6,
   "id": "a47da3cc",
   "metadata": {},
   "outputs": [
    {
     "name": "stdout",
     "output_type": "stream",
     "text": [
      "  25.250 μs (4 allocations: 14.72 KiB)\n"
     ]
    },
    {
     "data": {
      "text/plain": [
       "162"
      ]
     },
     "metadata": {},
     "output_type": "display_data"
    }
   ],
   "source": [
    "@btime coded_triangle_numbers(words)"
   ]
  },
  {
   "cell_type": "markdown",
   "id": "0626f139",
   "metadata": {},
   "source": [
    "#### Solution 2 (oneliner)"
   ]
  },
  {
   "cell_type": "code",
   "execution_count": 7,
   "id": "27f3b3e0",
   "metadata": {},
   "outputs": [
    {
     "data": {
      "text/plain": [
       "istriangluar (generic function with 1 method)"
      ]
     },
     "metadata": {},
     "output_type": "display_data"
    }
   ],
   "source": [
    "function istriangluar(n)\n",
    "    counter = 1\n",
    "    while triangular(counter) ≤ n\n",
    "        if triangular(counter) == n\n",
    "            return true\n",
    "        end\n",
    "        counter += 1\n",
    "    end\n",
    "    return false\n",
    "end"
   ]
  },
  {
   "cell_type": "code",
   "execution_count": 8,
   "id": "88e2d853",
   "metadata": {},
   "outputs": [
    {
     "name": "stdout",
     "output_type": "stream",
     "text": [
      "  26.417 μs (2 allocations: 14.27 KiB)\n"
     ]
    },
    {
     "data": {
      "text/plain": [
       "162"
      ]
     },
     "metadata": {},
     "output_type": "display_data"
    }
   ],
   "source": [
    "@btime count(istriangluar, [sum(Int(letter) - Int('A') + 1 for letter ∈ word) for word ∈ words])"
   ]
  }
 ],
 "metadata": {
  "kernelspec": {
   "display_name": "Julia 1.10.5",
   "language": "julia",
   "name": "julia-1.10"
  },
  "language_info": {
   "file_extension": ".jl",
   "mimetype": "application/julia",
   "name": "julia",
   "version": "1.10.5"
  }
 },
 "nbformat": 4,
 "nbformat_minor": 5
}
