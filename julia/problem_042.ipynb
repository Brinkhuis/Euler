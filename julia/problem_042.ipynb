{
 "cells": [
  {
   "cell_type": "markdown",
   "id": "c6e2ad94-1596-4b05-a508-e71eeba93df9",
   "metadata": {},
   "source": [
    "## Problem 42\n",
    "https://projecteuler.net/problem=42"
   ]
  },
  {
   "cell_type": "code",
   "execution_count": 1,
   "id": "4289b3d4",
   "metadata": {},
   "outputs": [],
   "source": [
    "using DelimitedFiles, BenchmarkTools\n",
    "include(\"./euler.jl\");"
   ]
  },
  {
   "cell_type": "code",
   "execution_count": 2,
   "id": "03c5e063",
   "metadata": {},
   "outputs": [
    {
     "data": {
      "text/plain": [
       "1×1786 Matrix{String}:\n",
       " \"A\"  \"ABILITY\"  \"ABLE\"  \"ABOUT\"  \"ABOVE\"  …  \"YOUR\"  \"YOURSELF\"  \"YOUTH\""
      ]
     },
     "metadata": {},
     "output_type": "display_data"
    }
   ],
   "source": [
    "file_path = \"../data/\"\n",
    "file_name = \"0042_words.txt\"\n",
    "\n",
    "words = DelimitedFiles.readdlm(file_path * file_name, ',', String)"
   ]
  },
  {
   "cell_type": "markdown",
   "id": "daa121e2",
   "metadata": {},
   "source": [
    "#### Solution 1 (function)"
   ]
  },
  {
   "cell_type": "code",
   "execution_count": 3,
   "id": "a84cbf0a",
   "metadata": {},
   "outputs": [
    {
     "data": {
      "text/plain": [
       "triangular (generic function with 1 method)"
      ]
     },
     "metadata": {},
     "output_type": "display_data"
    }
   ],
   "source": [
    "triangular(n) = div(n * (n + 1), 2)"
   ]
  },
  {
   "cell_type": "code",
   "execution_count": 4,
   "id": "049ef599",
   "metadata": {},
   "outputs": [
    {
     "data": {
      "text/plain": [
       "coded_triangle_numbers (generic function with 1 method)"
      ]
     },
     "metadata": {},
     "output_type": "display_data"
    }
   ],
   "source": [
    "function coded_triangle_numbers(words)\n",
    "    word_values = [sum(Int(letter) - Int('A') + 1 for letter ∈ word) for word ∈ words]\n",
    "    max = maximum(word_values)\n",
    "    triangle_sequence = Int64[]\n",
    "    counter = 1\n",
    "    while triangular(counter) ≤ max\n",
    "        push!(triangle_sequence, triangular(counter))\n",
    "        counter += 1\n",
    "    end\n",
    "    return count(value ∈ triangle_sequence for value ∈ word_values)\n",
    "end"
   ]
  },
  {
   "cell_type": "code",
   "execution_count": 5,
   "id": "1ed14cc5",
   "metadata": {},
   "outputs": [
    {
     "data": {
      "text/plain": [
       "162"
      ]
     },
     "metadata": {},
     "output_type": "display_data"
    }
   ],
   "source": [
    "coded_triangle_numbers(words)"
   ]
  },
  {
   "cell_type": "code",
   "execution_count": 6,
   "id": "a47da3cc",
   "metadata": {},
   "outputs": [
    {
     "data": {
      "text/plain": [
       "BenchmarkTools.Trial: 10000 samples with 1 evaluation.\n",
       " Range \u001b[90m(\u001b[39m\u001b[36m\u001b[1mmin\u001b[22m\u001b[39m … \u001b[35mmax\u001b[39m\u001b[90m):  \u001b[39m\u001b[36m\u001b[1m30.000 μs\u001b[22m\u001b[39m … \u001b[35m 4.189 ms\u001b[39m  \u001b[90m┊\u001b[39m GC \u001b[90m(\u001b[39mmin … max\u001b[90m): \u001b[39m0.00% … 98.62%\n",
       " Time  \u001b[90m(\u001b[39m\u001b[34m\u001b[1mmedian\u001b[22m\u001b[39m\u001b[90m):     \u001b[39m\u001b[34m\u001b[1m34.792 μs              \u001b[22m\u001b[39m\u001b[90m┊\u001b[39m GC \u001b[90m(\u001b[39mmedian\u001b[90m):    \u001b[39m0.00%\n",
       " Time  \u001b[90m(\u001b[39m\u001b[32m\u001b[1mmean\u001b[22m\u001b[39m ± \u001b[32mσ\u001b[39m\u001b[90m):   \u001b[39m\u001b[32m\u001b[1m38.699 μs\u001b[22m\u001b[39m ± \u001b[32m60.435 μs\u001b[39m  \u001b[90m┊\u001b[39m GC \u001b[90m(\u001b[39mmean ± σ\u001b[90m):  \u001b[39m2.12% ±  1.39%\n",
       "\n",
       "  \u001b[39m▄\u001b[39m▇\u001b[39m▇\u001b[39m▇\u001b[34m█\u001b[39m\u001b[39m▆\u001b[39m▅\u001b[32m▄\u001b[39m\u001b[39m▃\u001b[39m▂\u001b[39m▁\u001b[39m▁\u001b[39m▁\u001b[39m \u001b[39m \u001b[39m \u001b[39m \u001b[39m \u001b[39m \u001b[39m \u001b[39m \u001b[39m \u001b[39m \u001b[39m \u001b[39m \u001b[39m \u001b[39m \u001b[39m \u001b[39m \u001b[39m \u001b[39m \u001b[39m \u001b[39m \u001b[39m \u001b[39m \u001b[39m \u001b[39m \u001b[39m \u001b[39m \u001b[39m \u001b[39m \u001b[39m \u001b[39m \u001b[39m \u001b[39m \u001b[39m \u001b[39m \u001b[39m \u001b[39m \u001b[39m \u001b[39m \u001b[39m \u001b[39m \u001b[39m \u001b[39m \u001b[39m \u001b[39m \u001b[39m \u001b[39m \u001b[39m \u001b[39m▂\n",
       "  \u001b[39m█\u001b[39m█\u001b[39m█\u001b[39m█\u001b[34m█\u001b[39m\u001b[39m█\u001b[39m█\u001b[32m█\u001b[39m\u001b[39m█\u001b[39m█\u001b[39m█\u001b[39m█\u001b[39m█\u001b[39m▇\u001b[39m▇\u001b[39m▇\u001b[39m▇\u001b[39m▆\u001b[39m▆\u001b[39m▇\u001b[39m▇\u001b[39m▇\u001b[39m▇\u001b[39m▇\u001b[39m█\u001b[39m▇\u001b[39m▇\u001b[39m▇\u001b[39m▆\u001b[39m▇\u001b[39m▇\u001b[39m▆\u001b[39m▆\u001b[39m▆\u001b[39m▆\u001b[39m▆\u001b[39m▇\u001b[39m▆\u001b[39m▅\u001b[39m▆\u001b[39m▇\u001b[39m▆\u001b[39m▆\u001b[39m▆\u001b[39m▅\u001b[39m▄\u001b[39m▆\u001b[39m▅\u001b[39m▅\u001b[39m▅\u001b[39m▄\u001b[39m▆\u001b[39m▅\u001b[39m▅\u001b[39m▄\u001b[39m▅\u001b[39m▄\u001b[39m▄\u001b[39m▄\u001b[39m \u001b[39m█\n",
       "  30 μs\u001b[90m        \u001b[39m\u001b[90mHistogram: \u001b[39m\u001b[90m\u001b[1mlog(\u001b[22m\u001b[39m\u001b[90mfrequency\u001b[39m\u001b[90m\u001b[1m)\u001b[22m\u001b[39m\u001b[90m by time\u001b[39m       101 μs \u001b[0m\u001b[1m<\u001b[22m\n",
       "\n",
       " Memory estimate\u001b[90m: \u001b[39m\u001b[33m14.56 KiB\u001b[39m, allocs estimate\u001b[90m: \u001b[39m\u001b[33m6\u001b[39m."
      ]
     },
     "metadata": {},
     "output_type": "display_data"
    }
   ],
   "source": [
    "b = @benchmark coded_triangle_numbers(words)"
   ]
  },
  {
   "cell_type": "code",
   "execution_count": 7,
   "id": "c93c8db6",
   "metadata": {},
   "outputs": [],
   "source": [
    "euler.save_benchmark(42, b);"
   ]
  },
  {
   "cell_type": "markdown",
   "id": "0626f139",
   "metadata": {},
   "source": [
    "#### Solution 2 (oneliner)"
   ]
  },
  {
   "cell_type": "code",
   "execution_count": 8,
   "id": "27f3b3e0",
   "metadata": {},
   "outputs": [
    {
     "data": {
      "text/plain": [
       "istriangluar (generic function with 1 method)"
      ]
     },
     "metadata": {},
     "output_type": "display_data"
    }
   ],
   "source": [
    "function istriangluar(n)\n",
    "    counter = 1\n",
    "    while triangular(counter) ≤ n\n",
    "        if triangular(counter) == n\n",
    "            return true\n",
    "        end\n",
    "        counter += 1\n",
    "    end\n",
    "    return false\n",
    "end"
   ]
  },
  {
   "cell_type": "code",
   "execution_count": 9,
   "id": "2261c7a8",
   "metadata": {},
   "outputs": [
    {
     "data": {
      "text/plain": [
       "162"
      ]
     },
     "metadata": {},
     "output_type": "display_data"
    }
   ],
   "source": [
    "count(istriangluar, [sum(Int(letter) - Int('A') + 1 for letter ∈ word) for word ∈ words])"
   ]
  },
  {
   "cell_type": "code",
   "execution_count": 10,
   "id": "88e2d853",
   "metadata": {},
   "outputs": [
    {
     "data": {
      "text/plain": [
       "BenchmarkTools.Trial: 10000 samples with 1 evaluation.\n",
       " Range \u001b[90m(\u001b[39m\u001b[36m\u001b[1mmin\u001b[22m\u001b[39m … \u001b[35mmax\u001b[39m\u001b[90m):  \u001b[39m\u001b[36m\u001b[1m35.625 μs\u001b[22m\u001b[39m … \u001b[35m 4.021 ms\u001b[39m  \u001b[90m┊\u001b[39m GC \u001b[90m(\u001b[39mmin … max\u001b[90m): \u001b[39m0.00% … 98.27%\n",
       " Time  \u001b[90m(\u001b[39m\u001b[34m\u001b[1mmedian\u001b[22m\u001b[39m\u001b[90m):     \u001b[39m\u001b[34m\u001b[1m41.167 μs              \u001b[22m\u001b[39m\u001b[90m┊\u001b[39m GC \u001b[90m(\u001b[39mmedian\u001b[90m):    \u001b[39m0.00%\n",
       " Time  \u001b[90m(\u001b[39m\u001b[32m\u001b[1mmean\u001b[22m\u001b[39m ± \u001b[32mσ\u001b[39m\u001b[90m):   \u001b[39m\u001b[32m\u001b[1m41.925 μs\u001b[22m\u001b[39m ± \u001b[32m46.026 μs\u001b[39m  \u001b[90m┊\u001b[39m GC \u001b[90m(\u001b[39mmean ± σ\u001b[90m):  \u001b[39m1.47% ±  1.38%\n",
       "\n",
       "  \u001b[39m \u001b[39m \u001b[39m \u001b[39m \u001b[39m█\u001b[39m \u001b[39m \u001b[39m \u001b[39m \u001b[39m \u001b[39m \u001b[39m \u001b[39m \u001b[39m \u001b[39m \u001b[34m▄\u001b[39m\u001b[39m▅\u001b[39m \u001b[32m \u001b[39m\u001b[39m \u001b[39m \u001b[39m \u001b[39m▂\u001b[39m \u001b[39m \u001b[39m \u001b[39m \u001b[39m \u001b[39m \u001b[39m \u001b[39m \u001b[39m \u001b[39m \u001b[39m \u001b[39m \u001b[39m \u001b[39m \u001b[39m \u001b[39m \u001b[39m \u001b[39m \u001b[39m \u001b[39m \u001b[39m \u001b[39m \u001b[39m \u001b[39m \u001b[39m \u001b[39m \u001b[39m \u001b[39m \u001b[39m \u001b[39m \u001b[39m \u001b[39m \u001b[39m \u001b[39m \u001b[39m \u001b[39m \u001b[39m \u001b[39m \n",
       "  \u001b[39m▂\u001b[39m▄\u001b[39m▇\u001b[39m▇\u001b[39m█\u001b[39m▆\u001b[39m▅\u001b[39m▄\u001b[39m▃\u001b[39m▃\u001b[39m▃\u001b[39m▃\u001b[39m▅\u001b[39m▇\u001b[39m█\u001b[34m█\u001b[39m\u001b[39m█\u001b[39m█\u001b[32m▅\u001b[39m\u001b[39m▇\u001b[39m▄\u001b[39m▃\u001b[39m█\u001b[39m▆\u001b[39m▄\u001b[39m▄\u001b[39m▅\u001b[39m▃\u001b[39m▂\u001b[39m▂\u001b[39m▂\u001b[39m▂\u001b[39m▁\u001b[39m▁\u001b[39m▁\u001b[39m▂\u001b[39m▁\u001b[39m▁\u001b[39m▁\u001b[39m▁\u001b[39m▁\u001b[39m▁\u001b[39m▁\u001b[39m▁\u001b[39m▁\u001b[39m▁\u001b[39m▁\u001b[39m▁\u001b[39m▁\u001b[39m▁\u001b[39m▁\u001b[39m▁\u001b[39m▁\u001b[39m▁\u001b[39m▁\u001b[39m▁\u001b[39m▁\u001b[39m▁\u001b[39m▁\u001b[39m \u001b[39m▂\n",
       "  35.6 μs\u001b[90m         Histogram: frequency by time\u001b[39m        56.8 μs \u001b[0m\u001b[1m<\u001b[22m\n",
       "\n",
       " Memory estimate\u001b[90m: \u001b[39m\u001b[33m14.09 KiB\u001b[39m, allocs estimate\u001b[90m: \u001b[39m\u001b[33m4\u001b[39m."
      ]
     },
     "metadata": {},
     "output_type": "display_data"
    }
   ],
   "source": [
    "b = @benchmark count(istriangluar, [sum(Int(letter) - Int('A') + 1 for letter ∈ word) for word ∈ words])"
   ]
  },
  {
   "cell_type": "code",
   "execution_count": 11,
   "id": "db4eb187",
   "metadata": {},
   "outputs": [],
   "source": [
    "euler.save_benchmark(42, b);"
   ]
  }
 ],
 "metadata": {
  "kernelspec": {
   "display_name": "Julia 1.11.0",
   "language": "julia",
   "name": "julia-1.11"
  },
  "language_info": {
   "file_extension": ".jl",
   "mimetype": "application/julia",
   "name": "julia",
   "version": "1.11.0"
  }
 },
 "nbformat": 4,
 "nbformat_minor": 5
}
