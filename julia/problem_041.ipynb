{
 "cells": [
  {
   "cell_type": "markdown",
   "id": "c6e2ad94-1596-4b05-a508-e71eeba93df9",
   "metadata": {},
   "source": [
    "# Problem 41\n",
    "https://projecteuler.net/problem=41"
   ]
  },
  {
   "cell_type": "code",
   "execution_count": 1,
   "id": "0ab09475",
   "metadata": {},
   "outputs": [
    {
     "name": "stdout",
     "output_type": "stream",
     "text": [
      "Julia v1.11.1\n"
     ]
    }
   ],
   "source": [
    "println(\"Julia v\", string(VERSION))"
   ]
  },
  {
   "cell_type": "code",
   "execution_count": 2,
   "id": "ba162115",
   "metadata": {},
   "outputs": [],
   "source": [
    "using BenchmarkTools\n",
    "using Primes"
   ]
  },
  {
   "cell_type": "code",
   "execution_count": 3,
   "id": "5ca88ca0",
   "metadata": {},
   "outputs": [
    {
     "data": {
      "text/plain": [
       "ispandigital (generic function with 1 method)"
      ]
     },
     "metadata": {},
     "output_type": "display_data"
    }
   ],
   "source": [
    "ispandigital(n) = sort(digits(n)) == 1:ndigits(n)"
   ]
  },
  {
   "cell_type": "markdown",
   "id": "6491bb80",
   "metadata": {},
   "source": [
    "### Solution 1 (filter, maximum)"
   ]
  },
  {
   "cell_type": "code",
   "execution_count": 4,
   "id": "a15c752a",
   "metadata": {},
   "outputs": [
    {
     "name": "stdout",
     "output_type": "stream",
     "text": [
      "  7.527 s (201005820 allocations: 12.96 GiB)\n"
     ]
    },
    {
     "data": {
      "text/plain": [
       "7652413"
      ]
     },
     "metadata": {},
     "output_type": "display_data"
    }
   ],
   "source": [
    "@btime maximum(filter(ispandigital, primes(987654321)))"
   ]
  },
  {
   "cell_type": "markdown",
   "id": "d75bf4b0",
   "metadata": {},
   "source": [
    "### Solution 2 (filter, last)"
   ]
  },
  {
   "cell_type": "code",
   "execution_count": 5,
   "id": "7101c2e5",
   "metadata": {},
   "outputs": [
    {
     "name": "stdout",
     "output_type": "stream",
     "text": [
      "  7.531 s (201005820 allocations: 12.96 GiB)\n"
     ]
    },
    {
     "data": {
      "text/plain": [
       "7652413"
      ]
     },
     "metadata": {},
     "output_type": "display_data"
    }
   ],
   "source": [
    "@btime last(filter(ispandigital, primes(987654321)))"
   ]
  },
  {
   "cell_type": "markdown",
   "id": "06fe20a0",
   "metadata": {},
   "source": [
    "### Solution 3 (list comprehension)"
   ]
  },
  {
   "cell_type": "code",
   "execution_count": 6,
   "id": "c85b18da",
   "metadata": {},
   "outputs": [
    {
     "name": "stdout",
     "output_type": "stream",
     "text": [
      "  7.787 s (201005815 allocations: 12.58 GiB)\n"
     ]
    },
    {
     "data": {
      "text/plain": [
       "7652413"
      ]
     },
     "metadata": {},
     "output_type": "display_data"
    }
   ],
   "source": [
    "@btime maximum(p for p in primes(987654321) if ispandigital(p))"
   ]
  },
  {
   "cell_type": "markdown",
   "id": "3999151e",
   "metadata": {},
   "source": [
    "### Solution 4 (custom)"
   ]
  },
  {
   "cell_type": "code",
   "execution_count": 7,
   "id": "4d05efec",
   "metadata": {},
   "outputs": [
    {
     "data": {
      "text/plain": [
       "firsttrue (generic function with 1 method)"
      ]
     },
     "metadata": {},
     "output_type": "display_data"
    }
   ],
   "source": [
    "function firsttrue(condition, iterator)\n",
    "    for value in iterator\n",
    "        condition(value) && return value\n",
    "    end\n",
    "end"
   ]
  },
  {
   "cell_type": "code",
   "execution_count": 8,
   "id": "5a18a903",
   "metadata": {},
   "outputs": [
    {
     "name": "stdout",
     "output_type": "stream",
     "text": [
      "  7.589 s (198934270 allocations: 12.85 GiB)\n"
     ]
    },
    {
     "data": {
      "text/plain": [
       "7652413"
      ]
     },
     "metadata": {},
     "output_type": "display_data"
    }
   ],
   "source": [
    "@btime firsttrue(ispandigital, reverse(primes(987654321)))"
   ]
  },
  {
   "cell_type": "markdown",
   "id": "e9c91e1e",
   "metadata": {},
   "source": [
    "### Save benchmark"
   ]
  },
  {
   "cell_type": "code",
   "execution_count": 9,
   "id": "b7e49bf0",
   "metadata": {},
   "outputs": [],
   "source": [
    "include(\"./euler.jl\")\n",
    "bm = @benchmark maximum(filter(ispandigital, primes(987654321)))\n",
    "euler.save_benchmark(41, bm);"
   ]
  }
 ],
 "metadata": {
  "kernelspec": {
   "display_name": "Julia 1.11.1",
   "language": "julia",
   "name": "julia-1.11"
  },
  "language_info": {
   "file_extension": ".jl",
   "mimetype": "application/julia",
   "name": "julia",
   "version": "1.11.1"
  }
 },
 "nbformat": 4,
 "nbformat_minor": 5
}
