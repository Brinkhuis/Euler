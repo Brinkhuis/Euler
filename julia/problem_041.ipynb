{
 "cells": [
  {
   "cell_type": "markdown",
   "id": "c6e2ad94-1596-4b05-a508-e71eeba93df9",
   "metadata": {},
   "source": [
    "## Problem 41\n",
    "https://projecteuler.net/problem=41"
   ]
  },
  {
   "cell_type": "code",
   "execution_count": 1,
   "id": "9ddad57f",
   "metadata": {},
   "outputs": [],
   "source": [
    "using Primes, BenchmarkTools"
   ]
  },
  {
   "cell_type": "code",
   "execution_count": 2,
   "id": "5ca88ca0",
   "metadata": {},
   "outputs": [
    {
     "data": {
      "text/plain": [
       "ispandigital (generic function with 1 method)"
      ]
     },
     "metadata": {},
     "output_type": "display_data"
    }
   ],
   "source": [
    "ispandigital(n) = sort(digits(n)) == 1:ndigits(n)"
   ]
  },
  {
   "cell_type": "markdown",
   "id": "6491bb80",
   "metadata": {},
   "source": [
    "#### Solution 1 (filter, maximum)"
   ]
  },
  {
   "cell_type": "code",
   "execution_count": 3,
   "id": "07dd188b",
   "metadata": {},
   "outputs": [
    {
     "name": "stdout",
     "output_type": "stream",
     "text": [
      "  9.002 s (100502912 allocations: 12.96 GiB)\n"
     ]
    },
    {
     "data": {
      "text/plain": [
       "7652413"
      ]
     },
     "metadata": {},
     "output_type": "display_data"
    }
   ],
   "source": [
    "@btime maximum(filter(ispandigital, primes(987654321)))"
   ]
  },
  {
   "cell_type": "markdown",
   "id": "d75bf4b0",
   "metadata": {},
   "source": [
    "#### Solution 2 (filter, last)"
   ]
  },
  {
   "cell_type": "code",
   "execution_count": 4,
   "id": "0229cb45",
   "metadata": {},
   "outputs": [
    {
     "name": "stdout",
     "output_type": "stream",
     "text": [
      "  9.034 s (100502912 allocations: 12.96 GiB)\n"
     ]
    },
    {
     "data": {
      "text/plain": [
       "7652413"
      ]
     },
     "metadata": {},
     "output_type": "display_data"
    }
   ],
   "source": [
    "@btime last(filter(ispandigital, primes(987654321)))"
   ]
  },
  {
   "cell_type": "markdown",
   "id": "06fe20a0",
   "metadata": {},
   "source": [
    "#### Solution 3 (list comprehension)"
   ]
  },
  {
   "cell_type": "code",
   "execution_count": 5,
   "id": "c3f0af80",
   "metadata": {},
   "outputs": [
    {
     "name": "stdout",
     "output_type": "stream",
     "text": [
      "  9.011 s (100502909 allocations: 12.58 GiB)\n"
     ]
    },
    {
     "data": {
      "text/plain": [
       "7652413"
      ]
     },
     "metadata": {},
     "output_type": "display_data"
    }
   ],
   "source": [
    "@btime maximum(p for p in primes(987654321) if ispandigital(p))"
   ]
  },
  {
   "cell_type": "markdown",
   "id": "3999151e",
   "metadata": {},
   "source": [
    "#### Solution 4 (custom)"
   ]
  },
  {
   "cell_type": "code",
   "execution_count": 6,
   "id": "4d05efec",
   "metadata": {},
   "outputs": [
    {
     "data": {
      "text/plain": [
       "firsttrue (generic function with 1 method)"
      ]
     },
     "metadata": {},
     "output_type": "display_data"
    }
   ],
   "source": [
    "function firsttrue(condition, iterator)\n",
    "    for value in iterator\n",
    "        condition(value) && return value\n",
    "    end\n",
    "end"
   ]
  },
  {
   "cell_type": "code",
   "execution_count": 7,
   "id": "c90443ae",
   "metadata": {},
   "outputs": [
    {
     "name": "stdout",
     "output_type": "stream",
     "text": [
      "  8.906 s (99467137 allocations: 12.85 GiB)\n"
     ]
    },
    {
     "data": {
      "text/plain": [
       "7652413"
      ]
     },
     "metadata": {},
     "output_type": "display_data"
    }
   ],
   "source": [
    "@btime firsttrue(ispandigital, reverse(primes(987654321)))"
   ]
  }
 ],
 "metadata": {
  "kernelspec": {
   "display_name": "Julia 1.10.5",
   "language": "julia",
   "name": "julia-1.10"
  },
  "language_info": {
   "file_extension": ".jl",
   "mimetype": "application/julia",
   "name": "julia",
   "version": "1.10.5"
  }
 },
 "nbformat": 4,
 "nbformat_minor": 5
}
