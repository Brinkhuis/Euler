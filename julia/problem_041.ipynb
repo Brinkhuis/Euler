{
 "cells": [
  {
   "cell_type": "markdown",
   "id": "c6e2ad94-1596-4b05-a508-e71eeba93df9",
   "metadata": {},
   "source": [
    "# Problem 41\n",
    "https://projecteuler.net/problem=41"
   ]
  },
  {
   "cell_type": "code",
   "execution_count": 1,
   "id": "0ab09475",
   "metadata": {},
   "outputs": [
    {
     "name": "stdout",
     "output_type": "stream",
     "text": [
      "Julia v1.11.1\n"
     ]
    }
   ],
   "source": [
    "println(\"Julia v\", string(VERSION))"
   ]
  },
  {
   "cell_type": "code",
   "execution_count": 2,
   "id": "ba162115",
   "metadata": {},
   "outputs": [],
   "source": [
    "using BenchmarkTools\n",
    "using Combinatorics\n",
    "using Primes"
   ]
  },
  {
   "cell_type": "code",
   "execution_count": 3,
   "id": "5ca88ca0",
   "metadata": {},
   "outputs": [
    {
     "data": {
      "text/plain": [
       "ispandigital (generic function with 1 method)"
      ]
     },
     "metadata": {},
     "output_type": "display_data"
    }
   ],
   "source": [
    "ispandigital(n) = sort(digits(n)) == 1:ndigits(n)"
   ]
  },
  {
   "cell_type": "markdown",
   "id": "6491bb80",
   "metadata": {},
   "source": [
    "### Solution 1 (filter, maximum) -- brute force"
   ]
  },
  {
   "cell_type": "code",
   "execution_count": 4,
   "id": "a15c752a",
   "metadata": {},
   "outputs": [
    {
     "name": "stdout",
     "output_type": "stream",
     "text": [
      "  7.461 s (201005820 allocations: 12.96 GiB)\n"
     ]
    },
    {
     "data": {
      "text/plain": [
       "7652413"
      ]
     },
     "metadata": {},
     "output_type": "display_data"
    }
   ],
   "source": [
    "@btime maximum(filter(ispandigital, primes(987654321)))"
   ]
  },
  {
   "cell_type": "markdown",
   "id": "d75bf4b0",
   "metadata": {},
   "source": [
    "### Solution 2 (filter, last) -- brute force"
   ]
  },
  {
   "cell_type": "code",
   "execution_count": 5,
   "id": "7101c2e5",
   "metadata": {},
   "outputs": [
    {
     "name": "stdout",
     "output_type": "stream",
     "text": [
      "  7.587 s (201005820 allocations: 12.96 GiB)\n"
     ]
    },
    {
     "data": {
      "text/plain": [
       "7652413"
      ]
     },
     "metadata": {},
     "output_type": "display_data"
    }
   ],
   "source": [
    "@btime last(filter(ispandigital, primes(987654321)))"
   ]
  },
  {
   "cell_type": "markdown",
   "id": "06fe20a0",
   "metadata": {},
   "source": [
    "### Solution 3 (list comprehension) -- brute force"
   ]
  },
  {
   "cell_type": "code",
   "execution_count": 6,
   "id": "c85b18da",
   "metadata": {},
   "outputs": [
    {
     "name": "stdout",
     "output_type": "stream",
     "text": [
      "  7.930 s (201005815 allocations: 12.58 GiB)\n"
     ]
    },
    {
     "data": {
      "text/plain": [
       "7652413"
      ]
     },
     "metadata": {},
     "output_type": "display_data"
    }
   ],
   "source": [
    "@btime maximum(p for p in primes(987654321) if ispandigital(p))"
   ]
  },
  {
   "cell_type": "markdown",
   "id": "3999151e",
   "metadata": {},
   "source": [
    "### Solution 4 (find first) -- brute force"
   ]
  },
  {
   "cell_type": "code",
   "execution_count": 7,
   "id": "4d05efec",
   "metadata": {},
   "outputs": [
    {
     "data": {
      "text/plain": [
       "firsttrue (generic function with 1 method)"
      ]
     },
     "metadata": {},
     "output_type": "display_data"
    }
   ],
   "source": [
    "function firsttrue(condition, iterator)\n",
    "    for value in iterator\n",
    "        condition(value) && return value\n",
    "    end\n",
    "end"
   ]
  },
  {
   "cell_type": "code",
   "execution_count": 8,
   "id": "5a18a903",
   "metadata": {},
   "outputs": [
    {
     "name": "stdout",
     "output_type": "stream",
     "text": [
      "  7.507 s (198934270 allocations: 12.85 GiB)\n"
     ]
    },
    {
     "data": {
      "text/plain": [
       "7652413"
      ]
     },
     "metadata": {},
     "output_type": "display_data"
    }
   ],
   "source": [
    "@btime firsttrue(ispandigital, reverse(primes(987654321)))"
   ]
  },
  {
   "cell_type": "markdown",
   "id": "30ecddad",
   "metadata": {},
   "source": [
    "### Solution 5 (find first) -- exclude 8 and 9 length pandigitals"
   ]
  },
  {
   "cell_type": "markdown",
   "id": "985a2283",
   "metadata": {},
   "source": [
    "$$ \\text{sum(1:9) = 45} \\Rightarrow \\text{45 is dividable by 3} \\Rightarrow \\text{9-digit pandigitals are not prime} $$"
   ]
  },
  {
   "cell_type": "code",
   "execution_count": 9,
   "id": "6b48a009",
   "metadata": {},
   "outputs": [
    {
     "data": {
      "text/plain": [
       "true"
      ]
     },
     "metadata": {},
     "output_type": "display_data"
    }
   ],
   "source": [
    "# proof\n",
    "all(parse(Int64, join(permutation)) % 3 == 0 for permutation in Combinatorics.permutations(1:9))"
   ]
  },
  {
   "cell_type": "markdown",
   "id": "eaf4698b",
   "metadata": {},
   "source": [
    "$$ \\text{sum(1:8) = 36} \\Rightarrow \\text{36 is dividable by 3} \\Rightarrow \\text{8-digit pandigitals are not prime} $$"
   ]
  },
  {
   "cell_type": "code",
   "execution_count": 10,
   "id": "34c012c2",
   "metadata": {},
   "outputs": [
    {
     "data": {
      "text/plain": [
       "true"
      ]
     },
     "metadata": {},
     "output_type": "display_data"
    }
   ],
   "source": [
    "all(parse(Int64, join(permutation)) % 3 == 0 for permutation in Combinatorics.permutations(1:8))"
   ]
  },
  {
   "cell_type": "markdown",
   "id": "3417966c",
   "metadata": {},
   "source": [
    "$$ \\text{Check pandigitals of length 2 - 9; 1 excluded because 1 is not a prime} $$"
   ]
  },
  {
   "cell_type": "code",
   "execution_count": 11,
   "id": "01aa1c5c",
   "metadata": {},
   "outputs": [
    {
     "name": "stdout",
     "output_type": "stream",
     "text": [
      "2 => false\n",
      "3 => false\n",
      "4 => true\n",
      "5 => false\n",
      "6 => false\n",
      "7 => true\n",
      "8 => false\n",
      "9 => false\n"
     ]
    }
   ],
   "source": [
    "# valid pandigtial lengths\n",
    "for i in 2:9\n",
    "    value = !all(parse(Int64, join(permutation)) % 3 == 0 for permutation in Combinatorics.permutations(1:i))\n",
    "    println(i, \" => \", value)\n",
    "end"
   ]
  },
  {
   "cell_type": "code",
   "execution_count": 12,
   "id": "a2f7820b",
   "metadata": {},
   "outputs": [
    {
     "data": {
      "text/plain": [
       "firsttrue (generic function with 1 method)"
      ]
     },
     "metadata": {},
     "output_type": "display_data"
    }
   ],
   "source": [
    "function firsttrue(condition, iterator)\n",
    "    for value in iterator\n",
    "        condition(value) && return value\n",
    "    end\n",
    "end"
   ]
  },
  {
   "cell_type": "code",
   "execution_count": 13,
   "id": "27ced5bf",
   "metadata": {},
   "outputs": [
    {
     "data": {
      "text/plain": [
       "largest_pandigital_prime (generic function with 1 method)"
      ]
     },
     "metadata": {},
     "output_type": "display_data"
    }
   ],
   "source": [
    "function largest_pandigital_prime()\n",
    "    valid_primes = Int[]\n",
    "    for prime_range in [Primes.primes(parse(Int, join(1:i)), parse(Int, join(reverse(1:i)))) for i in 2:9 if !all(parse(Int64, join(p)) % 3 == 0 for p in Combinatorics.permutations(1:i))]\n",
    "        append!(valid_primes, prime_range)\n",
    "    end\n",
    "    return firsttrue(ispandigital, reverse(valid_primes))\n",
    "end"
   ]
  },
  {
   "cell_type": "code",
   "execution_count": 14,
   "id": "e8d7f7d5",
   "metadata": {},
   "outputs": [
    {
     "name": "stdout",
     "output_type": "stream",
     "text": [
      "  194.199 ms (10741578 allocations: 384.43 MiB)\n"
     ]
    },
    {
     "data": {
      "text/plain": [
       "7652413"
      ]
     },
     "metadata": {},
     "output_type": "display_data"
    }
   ],
   "source": [
    "@btime largest_pandigital_prime()"
   ]
  },
  {
   "cell_type": "markdown",
   "id": "e9c91e1e",
   "metadata": {},
   "source": [
    "### Save benchmark"
   ]
  },
  {
   "cell_type": "code",
   "execution_count": 15,
   "id": "b7e49bf0",
   "metadata": {},
   "outputs": [],
   "source": [
    "include(\"./euler.jl\")\n",
    "bm = @benchmark largest_pandigital_prime()\n",
    "euler.save_benchmark(41, bm);"
   ]
  }
 ],
 "metadata": {
  "kernelspec": {
   "display_name": "Julia 1.11.1",
   "language": "julia",
   "name": "julia-1.11"
  },
  "language_info": {
   "file_extension": ".jl",
   "mimetype": "application/julia",
   "name": "julia",
   "version": "1.11.1"
  }
 },
 "nbformat": 4,
 "nbformat_minor": 5
}
