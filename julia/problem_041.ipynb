{
 "cells": [
  {
   "cell_type": "markdown",
   "id": "c6e2ad94-1596-4b05-a508-e71eeba93df9",
   "metadata": {},
   "source": [
    "## Problem 41\n",
    "https://projecteuler.net/problem=41"
   ]
  },
  {
   "cell_type": "code",
   "execution_count": 1,
   "id": "9ddad57f",
   "metadata": {},
   "outputs": [],
   "source": [
    "using Primes, BenchmarkTools\n",
    "include(\"./euler.jl\");"
   ]
  },
  {
   "cell_type": "code",
   "execution_count": 2,
   "id": "5ca88ca0",
   "metadata": {},
   "outputs": [
    {
     "data": {
      "text/plain": [
       "ispandigital (generic function with 1 method)"
      ]
     },
     "metadata": {},
     "output_type": "display_data"
    }
   ],
   "source": [
    "ispandigital(n) = sort(digits(n)) == 1:ndigits(n)"
   ]
  },
  {
   "cell_type": "markdown",
   "id": "6491bb80",
   "metadata": {},
   "source": [
    "#### Solution 1 (filter, maximum)"
   ]
  },
  {
   "cell_type": "code",
   "execution_count": 3,
   "id": "a15c752a",
   "metadata": {},
   "outputs": [
    {
     "data": {
      "text/plain": [
       "7652413"
      ]
     },
     "metadata": {},
     "output_type": "display_data"
    }
   ],
   "source": [
    "maximum(filter(ispandigital, primes(987654321)))"
   ]
  },
  {
   "cell_type": "code",
   "execution_count": 4,
   "id": "07dd188b",
   "metadata": {},
   "outputs": [
    {
     "data": {
      "text/plain": [
       "BenchmarkTools.Trial: 1 sample with 1 evaluation.\n",
       " Single result which took \u001b[34m8.085 s\u001b[39m (5.01% GC) to evaluate,\n",
       " with a memory estimate of \u001b[33m12.96 GiB\u001b[39m, over \u001b[33m201005820\u001b[39m allocations."
      ]
     },
     "metadata": {},
     "output_type": "display_data"
    }
   ],
   "source": [
    "b = @benchmark maximum(filter(ispandigital, primes(987654321)))"
   ]
  },
  {
   "cell_type": "code",
   "execution_count": 5,
   "id": "255b1dff",
   "metadata": {},
   "outputs": [],
   "source": [
    "euler.save_benchmark(41, b);"
   ]
  },
  {
   "cell_type": "markdown",
   "id": "d75bf4b0",
   "metadata": {},
   "source": [
    "#### Solution 2 (filter, last)"
   ]
  },
  {
   "cell_type": "code",
   "execution_count": 6,
   "id": "7101c2e5",
   "metadata": {},
   "outputs": [
    {
     "data": {
      "text/plain": [
       "7652413"
      ]
     },
     "metadata": {},
     "output_type": "display_data"
    }
   ],
   "source": [
    "last(filter(ispandigital, primes(987654321)))"
   ]
  },
  {
   "cell_type": "code",
   "execution_count": 7,
   "id": "0229cb45",
   "metadata": {},
   "outputs": [
    {
     "data": {
      "text/plain": [
       "BenchmarkTools.Trial: 1 sample with 1 evaluation.\n",
       " Single result which took \u001b[34m8.506 s\u001b[39m (5.87% GC) to evaluate,\n",
       " with a memory estimate of \u001b[33m12.96 GiB\u001b[39m, over \u001b[33m201005820\u001b[39m allocations."
      ]
     },
     "metadata": {},
     "output_type": "display_data"
    }
   ],
   "source": [
    "b = @benchmark last(filter(ispandigital, primes(987654321)))"
   ]
  },
  {
   "cell_type": "code",
   "execution_count": 8,
   "id": "3da2229f",
   "metadata": {},
   "outputs": [],
   "source": [
    "euler.save_benchmark(41, b);"
   ]
  },
  {
   "cell_type": "markdown",
   "id": "06fe20a0",
   "metadata": {},
   "source": [
    "#### Solution 3 (list comprehension)"
   ]
  },
  {
   "cell_type": "code",
   "execution_count": 9,
   "id": "c85b18da",
   "metadata": {},
   "outputs": [
    {
     "data": {
      "text/plain": [
       "7652413"
      ]
     },
     "metadata": {},
     "output_type": "display_data"
    }
   ],
   "source": [
    "maximum(p for p in primes(987654321) if ispandigital(p))"
   ]
  },
  {
   "cell_type": "code",
   "execution_count": 10,
   "id": "c3f0af80",
   "metadata": {},
   "outputs": [
    {
     "data": {
      "text/plain": [
       "BenchmarkTools.Trial: 1 sample with 1 evaluation.\n",
       " Single result which took \u001b[34m8.674 s\u001b[39m (6.15% GC) to evaluate,\n",
       " with a memory estimate of \u001b[33m12.58 GiB\u001b[39m, over \u001b[33m201005815\u001b[39m allocations."
      ]
     },
     "metadata": {},
     "output_type": "display_data"
    }
   ],
   "source": [
    "b = @benchmark maximum(p for p in primes(987654321) if ispandigital(p))"
   ]
  },
  {
   "cell_type": "code",
   "execution_count": 11,
   "id": "d0872d7a",
   "metadata": {},
   "outputs": [],
   "source": [
    "euler.save_benchmark(41, b);"
   ]
  },
  {
   "cell_type": "markdown",
   "id": "3999151e",
   "metadata": {},
   "source": [
    "#### Solution 4 (custom)"
   ]
  },
  {
   "cell_type": "code",
   "execution_count": 12,
   "id": "4d05efec",
   "metadata": {},
   "outputs": [
    {
     "data": {
      "text/plain": [
       "firsttrue (generic function with 1 method)"
      ]
     },
     "metadata": {},
     "output_type": "display_data"
    }
   ],
   "source": [
    "function firsttrue(condition, iterator)\n",
    "    for value in iterator\n",
    "        condition(value) && return value\n",
    "    end\n",
    "end"
   ]
  },
  {
   "cell_type": "code",
   "execution_count": 13,
   "id": "5a18a903",
   "metadata": {},
   "outputs": [
    {
     "data": {
      "text/plain": [
       "7652413"
      ]
     },
     "metadata": {},
     "output_type": "display_data"
    }
   ],
   "source": [
    "firsttrue(ispandigital, reverse(primes(987654321)))"
   ]
  },
  {
   "cell_type": "code",
   "execution_count": 14,
   "id": "c90443ae",
   "metadata": {},
   "outputs": [
    {
     "data": {
      "text/plain": [
       "BenchmarkTools.Trial: 1 sample with 1 evaluation.\n",
       " Single result which took \u001b[34m8.519 s\u001b[39m (6.08% GC) to evaluate,\n",
       " with a memory estimate of \u001b[33m12.85 GiB\u001b[39m, over \u001b[33m198934270\u001b[39m allocations."
      ]
     },
     "metadata": {},
     "output_type": "display_data"
    }
   ],
   "source": [
    "b = @benchmark firsttrue(ispandigital, reverse(primes(987654321)))"
   ]
  },
  {
   "cell_type": "code",
   "execution_count": 15,
   "id": "604fdd5a",
   "metadata": {},
   "outputs": [],
   "source": [
    "euler.save_benchmark(41, b);"
   ]
  }
 ],
 "metadata": {
  "kernelspec": {
   "display_name": "Julia 1.11.0",
   "language": "julia",
   "name": "julia-1.11"
  },
  "language_info": {
   "file_extension": ".jl",
   "mimetype": "application/julia",
   "name": "julia",
   "version": "1.11.0"
  }
 },
 "nbformat": 4,
 "nbformat_minor": 5
}
