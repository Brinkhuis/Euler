{
 "cells": [
  {
   "cell_type": "markdown",
   "id": "c6e2ad94-1596-4b05-a508-e71eeba93df9",
   "metadata": {},
   "source": [
    "## Problem 31\n",
    "https://projecteuler.net/problem=31"
   ]
  },
  {
   "cell_type": "code",
   "execution_count": 1,
   "id": "4289b3d4",
   "metadata": {},
   "outputs": [],
   "source": [
    "using BenchmarkTools"
   ]
  },
  {
   "cell_type": "code",
   "execution_count": 2,
   "id": "873fc553",
   "metadata": {},
   "outputs": [
    {
     "data": {
      "text/plain": [
       "coin_sums (generic function with 1 method)"
      ]
     },
     "metadata": {},
     "output_type": "display_data"
    }
   ],
   "source": [
    "function coin_sums()\n",
    "    \"\"\"\n",
    "    a = £2 (1x), b = £1 (2x), c = 50p (4x), d = 20p (10x), e = 10p (20x), f = 5p (40x), g = 2p (100x) and h = 1p (200x)\n",
    "    \"\"\"\n",
    "    counter = 0\n",
    "    for a in 0:1, b in 0:2, c in 0:4, d in 0:10, e in 0:20, f in 0:40, g in 0:100, h in 0:200\n",
    "        if 200a + 100b + 50c + 20d + 10e + 5f + 2g + 1h == 200\n",
    "            counter += 1\n",
    "        end\n",
    "    end\n",
    "    return counter\n",
    "end"
   ]
  },
  {
   "cell_type": "code",
   "execution_count": 3,
   "id": "dbc0f34a",
   "metadata": {},
   "outputs": [
    {
     "name": "stdout",
     "output_type": "stream",
     "text": [
      "  1.243 s (0 allocations: 0 bytes)\n"
     ]
    },
    {
     "data": {
      "text/plain": [
       "73682"
      ]
     },
     "metadata": {},
     "output_type": "display_data"
    }
   ],
   "source": [
    "@btime coin_sums()"
   ]
  }
 ],
 "metadata": {
  "kernelspec": {
   "display_name": "Julia 1.10.5",
   "language": "julia",
   "name": "julia-1.10"
  },
  "language_info": {
   "file_extension": ".jl",
   "mimetype": "application/julia",
   "name": "julia",
   "version": "1.10.5"
  }
 },
 "nbformat": 4,
 "nbformat_minor": 5
}
