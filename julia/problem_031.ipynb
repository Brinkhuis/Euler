{
 "cells": [
  {
   "cell_type": "markdown",
   "id": "c6e2ad94-1596-4b05-a508-e71eeba93df9",
   "metadata": {},
   "source": [
    "# Problem 31\n",
    "https://projecteuler.net/problem=31"
   ]
  },
  {
   "cell_type": "code",
   "execution_count": 1,
   "id": "0dbfc09c",
   "metadata": {},
   "outputs": [
    {
     "name": "stdout",
     "output_type": "stream",
     "text": [
      "Julia v1.11.1\n"
     ]
    }
   ],
   "source": [
    "println(\"Julia v\", string(VERSION))"
   ]
  },
  {
   "cell_type": "code",
   "execution_count": 2,
   "id": "4289b3d4",
   "metadata": {},
   "outputs": [],
   "source": [
    "using BenchmarkTools"
   ]
  },
  {
   "cell_type": "markdown",
   "id": "6bb5c4c4",
   "metadata": {},
   "source": [
    "### Solution 1"
   ]
  },
  {
   "cell_type": "code",
   "execution_count": 3,
   "id": "873fc553",
   "metadata": {},
   "outputs": [
    {
     "data": {
      "text/plain": [
       "coin_sums (generic function with 1 method)"
      ]
     },
     "metadata": {},
     "output_type": "display_data"
    }
   ],
   "source": [
    "function coin_sums()::Int64\n",
    "    \"\"\"\n",
    "    a = £2 (1x), b = £1 (2x), c = 50p (4x), d = 20p (10x), e = 10p (20x), f = 5p (40x), g = 2p (100x) and h = 1p (200x)\n",
    "    \"\"\"\n",
    "    counter = 0\n",
    "    for a ∈ 0:1, b ∈ 0:2, c ∈ 0:4, d ∈ 0:10, e ∈ 0:20, f ∈ 0:40, g ∈ 0:100, h ∈ 0:200\n",
    "        if 200a + 100b + 50c + 20d + 10e + 5f + 2g + h == 200\n",
    "            counter += 1\n",
    "        end\n",
    "    end\n",
    "    return counter\n",
    "end"
   ]
  },
  {
   "cell_type": "code",
   "execution_count": 4,
   "id": "391d91fc",
   "metadata": {},
   "outputs": [
    {
     "name": "stdout",
     "output_type": "stream",
     "text": [
      "  1.029 s (0 allocations: 0 bytes)\n"
     ]
    },
    {
     "data": {
      "text/plain": [
       "73682"
      ]
     },
     "metadata": {},
     "output_type": "display_data"
    }
   ],
   "source": [
    "@btime coin_sums()"
   ]
  },
  {
   "cell_type": "markdown",
   "id": "df1885dc",
   "metadata": {},
   "source": [
    "### Solution 2 (skip one for-loop)"
   ]
  },
  {
   "cell_type": "code",
   "execution_count": 5,
   "id": "4bb9ddd9",
   "metadata": {},
   "outputs": [
    {
     "data": {
      "text/plain": [
       "coin_sums (generic function with 1 method)"
      ]
     },
     "metadata": {},
     "output_type": "display_data"
    }
   ],
   "source": [
    "function coin_sums()::Int64\n",
    "    \"\"\"\n",
    "    a = £2 (1x), b = £1 (2x), c = 50p (4x), d = 20p (10x), e = 10p (20x), f = 5p (40x), g = 2p (100x) and h = 1p (200x)\n",
    "    \"\"\"\n",
    "    counter = 1 # £2 (1x)\n",
    "    for b ∈ 0:2, c ∈ 0:4, d ∈ 0:10, e ∈ 0:20, f ∈ 0:40, g ∈ 0:100, h ∈ 0:200\n",
    "        if 100b + 50c + 20d + 10e + 5f + 2g + h == 200\n",
    "            counter += 1\n",
    "        end\n",
    "    end\n",
    "    return counter\n",
    "end"
   ]
  },
  {
   "cell_type": "code",
   "execution_count": 6,
   "id": "a5a2676c",
   "metadata": {},
   "outputs": [
    {
     "name": "stdout",
     "output_type": "stream",
     "text": [
      "  503.592 ms (0 allocations: 0 bytes)\n"
     ]
    },
    {
     "data": {
      "text/plain": [
       "73682"
      ]
     },
     "metadata": {},
     "output_type": "display_data"
    }
   ],
   "source": [
    "@btime coin_sums()"
   ]
  },
  {
   "cell_type": "markdown",
   "id": "ff8a3f99",
   "metadata": {},
   "source": [
    "### Save benchmark"
   ]
  },
  {
   "cell_type": "code",
   "execution_count": 7,
   "id": "0a1ba9d8",
   "metadata": {},
   "outputs": [],
   "source": [
    "include(\"./euler.jl\")\n",
    "bm = @benchmark coin_sums()\n",
    "euler.save_benchmark(31, bm);"
   ]
  }
 ],
 "metadata": {
  "kernelspec": {
   "display_name": "Julia 1.11.1",
   "language": "julia",
   "name": "julia-1.11"
  },
  "language_info": {
   "file_extension": ".jl",
   "mimetype": "application/julia",
   "name": "julia",
   "version": "1.11.1"
  }
 },
 "nbformat": 4,
 "nbformat_minor": 5
}
