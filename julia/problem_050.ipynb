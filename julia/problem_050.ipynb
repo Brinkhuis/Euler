{
 "cells": [
  {
   "cell_type": "markdown",
   "id": "c6e2ad94-1596-4b05-a508-e71eeba93df9",
   "metadata": {},
   "source": [
    "## Problem 50\n",
    "https://projecteuler.net/problem=50"
   ]
  },
  {
   "cell_type": "code",
   "execution_count": 1,
   "id": "0ef4b191",
   "metadata": {},
   "outputs": [],
   "source": [
    "using Primes, BenchmarkTools\n",
    "include(\"./euler.jl\");"
   ]
  },
  {
   "cell_type": "code",
   "execution_count": 2,
   "id": "3efc3f3e",
   "metadata": {},
   "outputs": [
    {
     "data": {
      "text/plain": [
       "consecutive_prime_sum (generic function with 1 method)"
      ]
     },
     "metadata": {},
     "output_type": "display_data"
    }
   ],
   "source": [
    "function consecutive_prime_sum(n)\n",
    "\n",
    "    p = primes(n)\n",
    "    consecutives_cnt = 0\n",
    "    consecutives_sum = 0\n",
    "    last_j = length(p)\n",
    "\n",
    "    for i in 1:length(p)\n",
    "        for j in (i + consecutives_cnt):last_j\n",
    "            s = sum(p[i:j])\n",
    "            if s < n\n",
    "                if s ∈ p\n",
    "                    consecutives_cnt = j - i\n",
    "                    consecutives_sum = s\n",
    "                end\n",
    "            else\n",
    "                last_j = j\n",
    "                break\n",
    "            end\n",
    "        end\n",
    "    end\n",
    "\n",
    "    return consecutives_sum\n",
    "\n",
    "end"
   ]
  },
  {
   "cell_type": "code",
   "execution_count": 3,
   "id": "bc84a3ba",
   "metadata": {},
   "outputs": [],
   "source": [
    "@assert consecutive_prime_sum(50) == 41"
   ]
  },
  {
   "cell_type": "code",
   "execution_count": 4,
   "id": "4653d3aa",
   "metadata": {},
   "outputs": [
    {
     "data": {
      "text/plain": [
       "997651"
      ]
     },
     "metadata": {},
     "output_type": "display_data"
    }
   ],
   "source": [
    "consecutive_prime_sum(1_000_000)"
   ]
  },
  {
   "cell_type": "code",
   "execution_count": 5,
   "id": "d5709a51",
   "metadata": {},
   "outputs": [
    {
     "data": {
      "text/plain": [
       "BenchmarkTools.Trial: 340 samples with 1 evaluation.\n",
       " Range \u001b[90m(\u001b[39m\u001b[36m\u001b[1mmin\u001b[22m\u001b[39m … \u001b[35mmax\u001b[39m\u001b[90m):  \u001b[39m\u001b[36m\u001b[1m14.365 ms\u001b[22m\u001b[39m … \u001b[35m 17.504 ms\u001b[39m  \u001b[90m┊\u001b[39m GC \u001b[90m(\u001b[39mmin … max\u001b[90m): \u001b[39m0.00% … 15.94%\n",
       " Time  \u001b[90m(\u001b[39m\u001b[34m\u001b[1mmedian\u001b[22m\u001b[39m\u001b[90m):     \u001b[39m\u001b[34m\u001b[1m14.664 ms               \u001b[22m\u001b[39m\u001b[90m┊\u001b[39m GC \u001b[90m(\u001b[39mmedian\u001b[90m):    \u001b[39m0.00%\n",
       " Time  \u001b[90m(\u001b[39m\u001b[32m\u001b[1mmean\u001b[22m\u001b[39m ± \u001b[32mσ\u001b[39m\u001b[90m):   \u001b[39m\u001b[32m\u001b[1m14.691 ms\u001b[22m\u001b[39m ± \u001b[32m279.949 μs\u001b[39m  \u001b[90m┊\u001b[39m GC \u001b[90m(\u001b[39mmean ± σ\u001b[90m):  \u001b[39m0.62% ±  1.48%\n",
       "\n",
       "  \u001b[39m \u001b[39m \u001b[39m▇\u001b[39m▁\u001b[39m \u001b[39m█\u001b[39m▁\u001b[39m \u001b[39m▄\u001b[39m▂\u001b[39m▁\u001b[39m▄\u001b[39m▄\u001b[39m \u001b[39m▅\u001b[39m \u001b[39m▂\u001b[39m▂\u001b[34m▄\u001b[39m\u001b[39m▃\u001b[32m█\u001b[39m\u001b[39m▂\u001b[39m▇\u001b[39m▄\u001b[39m \u001b[39m▄\u001b[39m▁\u001b[39m \u001b[39m \u001b[39m▁\u001b[39m \u001b[39m▁\u001b[39m \u001b[39m \u001b[39m \u001b[39m \u001b[39m \u001b[39m \u001b[39m \u001b[39m \u001b[39m \u001b[39m \u001b[39m \u001b[39m \u001b[39m \u001b[39m \u001b[39m \u001b[39m \u001b[39m \u001b[39m \u001b[39m \u001b[39m \u001b[39m \u001b[39m \u001b[39m \u001b[39m \u001b[39m \u001b[39m \u001b[39m \u001b[39m \u001b[39m \u001b[39m \n",
       "  \u001b[39m▆\u001b[39m▆\u001b[39m█\u001b[39m█\u001b[39m▇\u001b[39m█\u001b[39m█\u001b[39m█\u001b[39m█\u001b[39m█\u001b[39m█\u001b[39m█\u001b[39m█\u001b[39m▇\u001b[39m█\u001b[39m█\u001b[39m█\u001b[39m█\u001b[34m█\u001b[39m\u001b[39m█\u001b[32m█\u001b[39m\u001b[39m█\u001b[39m█\u001b[39m█\u001b[39m▆\u001b[39m█\u001b[39m█\u001b[39m▆\u001b[39m▄\u001b[39m█\u001b[39m▄\u001b[39m█\u001b[39m▆\u001b[39m▇\u001b[39m▄\u001b[39m▇\u001b[39m▆\u001b[39m▃\u001b[39m▆\u001b[39m▆\u001b[39m▆\u001b[39m▆\u001b[39m▁\u001b[39m▃\u001b[39m▅\u001b[39m▃\u001b[39m▃\u001b[39m▁\u001b[39m▁\u001b[39m▃\u001b[39m▁\u001b[39m▄\u001b[39m▁\u001b[39m▁\u001b[39m▁\u001b[39m▁\u001b[39m▁\u001b[39m▁\u001b[39m▁\u001b[39m▃\u001b[39m \u001b[39m▅\n",
       "  14.4 ms\u001b[90m         Histogram: frequency by time\u001b[39m         15.3 ms \u001b[0m\u001b[1m<\u001b[22m\n",
       "\n",
       " Memory estimate\u001b[90m: \u001b[39m\u001b[33m2.18 MiB\u001b[39m, allocs estimate\u001b[90m: \u001b[39m\u001b[33m1481\u001b[39m."
      ]
     },
     "metadata": {},
     "output_type": "display_data"
    }
   ],
   "source": [
    "b = @benchmark consecutive_prime_sum(1_000_000)"
   ]
  },
  {
   "cell_type": "code",
   "execution_count": 6,
   "id": "c400bcee",
   "metadata": {},
   "outputs": [],
   "source": [
    "euler.save_benchmark(50, b);"
   ]
  }
 ],
 "metadata": {
  "kernelspec": {
   "display_name": "Julia 1.11.0",
   "language": "julia",
   "name": "julia-1.11"
  },
  "language_info": {
   "file_extension": ".jl",
   "mimetype": "application/julia",
   "name": "julia",
   "version": "1.11.0"
  }
 },
 "nbformat": 4,
 "nbformat_minor": 5
}
