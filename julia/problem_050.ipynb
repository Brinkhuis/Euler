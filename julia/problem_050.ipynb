{
 "cells": [
  {
   "cell_type": "markdown",
   "id": "c6e2ad94-1596-4b05-a508-e71eeba93df9",
   "metadata": {},
   "source": [
    "# Problem 50\n",
    "https://projecteuler.net/problem=50"
   ]
  },
  {
   "cell_type": "code",
   "execution_count": 1,
   "id": "1c261027",
   "metadata": {},
   "outputs": [
    {
     "name": "stdout",
     "output_type": "stream",
     "text": [
      "Julia v1.11.1\n"
     ]
    }
   ],
   "source": [
    "println(\"Julia v\", string(VERSION))"
   ]
  },
  {
   "cell_type": "code",
   "execution_count": 2,
   "id": "0ef4b191",
   "metadata": {},
   "outputs": [],
   "source": [
    "using BenchmarkTools"
   ]
  },
  {
   "cell_type": "markdown",
   "id": "b962c78a",
   "metadata": {},
   "source": [
    "### Solution"
   ]
  },
  {
   "cell_type": "code",
   "execution_count": 3,
   "id": "8ca57347",
   "metadata": {},
   "outputs": [],
   "source": [
    "using Primes"
   ]
  },
  {
   "cell_type": "code",
   "execution_count": null,
   "id": "3efc3f3e",
   "metadata": {},
   "outputs": [],
   "source": [
    "function consecutive_prime_sum(n)\n",
    "\n",
    "    p = primes(n)\n",
    "    consecutives_cnt = 0\n",
    "    consecutives_sum = 0\n",
    "    last_j = length(p)\n",
    "\n",
    "    for i ∈ 1:length(p)\n",
    "        for j ∈ (i + consecutives_cnt):last_j\n",
    "            s = sum(p[i:j])\n",
    "            if s < n\n",
    "                if s ∈ p\n",
    "                    consecutives_cnt = j - i\n",
    "                    consecutives_sum = s\n",
    "                end\n",
    "            else\n",
    "                last_j = j\n",
    "                break\n",
    "            end\n",
    "        end\n",
    "    end\n",
    "\n",
    "    return consecutives_sum\n",
    "\n",
    "end\n",
    "\n",
    "@assert consecutive_prime_sum(50) == 41"
   ]
  },
  {
   "cell_type": "code",
   "execution_count": 5,
   "id": "4653d3aa",
   "metadata": {},
   "outputs": [
    {
     "name": "stdout",
     "output_type": "stream",
     "text": [
      "  14.372 ms (1481 allocations: 2.18 MiB)\n"
     ]
    },
    {
     "data": {
      "text/plain": [
       "997651"
      ]
     },
     "metadata": {},
     "output_type": "display_data"
    }
   ],
   "source": [
    "@btime consecutive_prime_sum(1_000_000)"
   ]
  },
  {
   "cell_type": "markdown",
   "id": "24ab04f9",
   "metadata": {},
   "source": [
    "### Save benchmark"
   ]
  },
  {
   "cell_type": "code",
   "execution_count": 6,
   "id": "60fa8578",
   "metadata": {},
   "outputs": [],
   "source": [
    "include(\"./euler.jl\")\n",
    "bm = @benchmark consecutive_prime_sum(1_000_000)\n",
    "euler.save_benchmark(50, bm);"
   ]
  }
 ],
 "metadata": {
  "kernelspec": {
   "display_name": "Julia 1.11.1",
   "language": "julia",
   "name": "julia-1.11"
  },
  "language_info": {
   "file_extension": ".jl",
   "mimetype": "application/julia",
   "name": "julia",
   "version": "1.11.1"
  }
 },
 "nbformat": 4,
 "nbformat_minor": 5
}
