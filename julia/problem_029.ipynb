{
 "cells": [
  {
   "cell_type": "markdown",
   "id": "c6e2ad94-1596-4b05-a508-e71eeba93df9",
   "metadata": {},
   "source": [
    "## Problem 29\n",
    "https://projecteuler.net/problem=29"
   ]
  },
  {
   "cell_type": "code",
   "execution_count": 1,
   "id": "4289b3d4",
   "metadata": {},
   "outputs": [],
   "source": [
    "using BenchmarkTools"
   ]
  },
  {
   "cell_type": "markdown",
   "id": "30432db7",
   "metadata": {},
   "source": [
    "#### Solution 1 (function)"
   ]
  },
  {
   "cell_type": "code",
   "execution_count": 2,
   "id": "da7d7092",
   "metadata": {},
   "outputs": [
    {
     "data": {
      "text/plain": [
       "distinct_power (generic function with 1 method)"
      ]
     },
     "metadata": {},
     "output_type": "display_data"
    }
   ],
   "source": [
    "function distinct_power(start, stop)\n",
    "    power = Set()\n",
    "    for a in start:stop\n",
    "        for b in start:stop\n",
    "            push!(power, big(a)^b)\n",
    "        end\n",
    "    end\n",
    "    return length(power)\n",
    "end"
   ]
  },
  {
   "cell_type": "code",
   "execution_count": 3,
   "id": "56454849",
   "metadata": {},
   "outputs": [
    {
     "name": "stdout",
     "output_type": "stream",
     "text": [
      "  1.920 ms (56043 allocations: 1.64 MiB)\n"
     ]
    },
    {
     "data": {
      "text/plain": [
       "9183"
      ]
     },
     "metadata": {},
     "output_type": "display_data"
    }
   ],
   "source": [
    "@btime distinct_power(2, 100)"
   ]
  },
  {
   "cell_type": "markdown",
   "id": "5c469646",
   "metadata": {},
   "source": [
    "#### Solution 2 (oneliner)"
   ]
  },
  {
   "cell_type": "code",
   "execution_count": 4,
   "id": "39896abc",
   "metadata": {},
   "outputs": [
    {
     "name": "stdout",
     "output_type": "stream",
     "text": [
      "  1.770 ms (49012 allocations: 1.43 MiB)\n"
     ]
    },
    {
     "data": {
      "text/plain": [
       "9183"
      ]
     },
     "metadata": {},
     "output_type": "display_data"
    }
   ],
   "source": [
    "@btime length(Set(big(a)^b for a in 2:100, b in 2:100))"
   ]
  }
 ],
 "metadata": {
  "kernelspec": {
   "display_name": "Julia 1.10.5",
   "language": "julia",
   "name": "julia-1.10"
  },
  "language_info": {
   "file_extension": ".jl",
   "mimetype": "application/julia",
   "name": "julia",
   "version": "1.10.5"
  }
 },
 "nbformat": 4,
 "nbformat_minor": 5
}
