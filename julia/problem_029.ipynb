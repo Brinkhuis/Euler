{
 "cells": [
  {
   "cell_type": "markdown",
   "id": "c6e2ad94-1596-4b05-a508-e71eeba93df9",
   "metadata": {},
   "source": [
    "# Problem 29\n",
    "https://projecteuler.net/problem=29"
   ]
  },
  {
   "cell_type": "code",
   "execution_count": 1,
   "id": "4dfd73c7",
   "metadata": {},
   "outputs": [
    {
     "name": "stdout",
     "output_type": "stream",
     "text": [
      "Julia v1.11.1\n"
     ]
    }
   ],
   "source": [
    "println(\"Julia v\", string(VERSION))"
   ]
  },
  {
   "cell_type": "code",
   "execution_count": 2,
   "id": "4289b3d4",
   "metadata": {},
   "outputs": [],
   "source": [
    "using BenchmarkTools"
   ]
  },
  {
   "cell_type": "markdown",
   "id": "30432db7",
   "metadata": {},
   "source": [
    "### Solution 1 (vector)"
   ]
  },
  {
   "cell_type": "code",
   "execution_count": 3,
   "id": "da7d7092",
   "metadata": {},
   "outputs": [
    {
     "data": {
      "text/plain": [
       "distinct_power (generic function with 1 method)"
      ]
     },
     "metadata": {},
     "output_type": "display_data"
    }
   ],
   "source": [
    "function distinct_power(start, stop)\n",
    "    power = BigInt[]\n",
    "    for a in start:stop\n",
    "        for b in start:stop\n",
    "            push!(power, big(a)^b)\n",
    "        end\n",
    "    end\n",
    "    return length(unique(power))\n",
    "end"
   ]
  },
  {
   "cell_type": "code",
   "execution_count": 4,
   "id": "bc232b2d",
   "metadata": {},
   "outputs": [
    {
     "name": "stdout",
     "output_type": "stream",
     "text": [
      "  1.683 ms (49058 allocations: 2.12 MiB)\n"
     ]
    },
    {
     "data": {
      "text/plain": [
       "9183"
      ]
     },
     "metadata": {},
     "output_type": "display_data"
    }
   ],
   "source": [
    "@btime distinct_power(2, 100)"
   ]
  },
  {
   "cell_type": "markdown",
   "id": "5c469646",
   "metadata": {},
   "source": [
    "### Solution 2 (oneliner)"
   ]
  },
  {
   "cell_type": "code",
   "execution_count": 5,
   "id": "488d90df",
   "metadata": {},
   "outputs": [
    {
     "name": "stdout",
     "output_type": "stream",
     "text": [
      "  1.669 ms (49011 allocations: 1.43 MiB)\n"
     ]
    },
    {
     "data": {
      "text/plain": [
       "9183"
      ]
     },
     "metadata": {},
     "output_type": "display_data"
    }
   ],
   "source": [
    "@btime length(Set(big(a)^b for a in 2:100, b in 2:100))"
   ]
  },
  {
   "cell_type": "markdown",
   "id": "9b1252dc",
   "metadata": {},
   "source": [
    "### Save benchmark"
   ]
  },
  {
   "cell_type": "code",
   "execution_count": 6,
   "id": "4af4c589",
   "metadata": {},
   "outputs": [],
   "source": [
    "include(\"./euler.jl\")\n",
    "bm = @benchmark length(Set(big(a)^b for a in 2:100, b in 2:100))\n",
    "euler.save_benchmark(29, bm);"
   ]
  }
 ],
 "metadata": {
  "kernelspec": {
   "display_name": "Julia 1.11.1",
   "language": "julia",
   "name": "julia-1.11"
  },
  "language_info": {
   "file_extension": ".jl",
   "mimetype": "application/julia",
   "name": "julia",
   "version": "1.11.1"
  }
 },
 "nbformat": 4,
 "nbformat_minor": 5
}
