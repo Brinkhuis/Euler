{
 "cells": [
  {
   "cell_type": "markdown",
   "id": "c6e2ad94-1596-4b05-a508-e71eeba93df9",
   "metadata": {},
   "source": [
    "## Problem 7\n",
    "https://projecteuler.net/problem=7"
   ]
  },
  {
   "cell_type": "code",
   "execution_count": 1,
   "id": "6af6605c",
   "metadata": {},
   "outputs": [],
   "source": [
    "using Primes, BenchmarkTools"
   ]
  },
  {
   "cell_type": "markdown",
   "id": "2e32a6f8",
   "metadata": {},
   "source": [
    "#### Solution 1 (oneliner)"
   ]
  },
  {
   "cell_type": "code",
   "execution_count": 2,
   "id": "00d93c48",
   "metadata": {},
   "outputs": [
    {
     "name": "stdout",
     "output_type": "stream",
     "text": [
      "  2.737 ms (0 allocations: 0 bytes)\n"
     ]
    },
    {
     "data": {
      "text/plain": [
       "104743"
      ]
     },
     "metadata": {},
     "output_type": "display_data"
    }
   ],
   "source": [
    "@btime Primes.prime(10_001)"
   ]
  },
  {
   "cell_type": "markdown",
   "id": "03de2dfb",
   "metadata": {},
   "source": [
    "#### Solution 2 (sieve of eratosthenes)"
   ]
  },
  {
   "cell_type": "code",
   "execution_count": 3,
   "id": "81c2912c",
   "metadata": {},
   "outputs": [
    {
     "data": {
      "text/plain": [
       "eratosthenes (generic function with 1 method)"
      ]
     },
     "metadata": {},
     "output_type": "display_data"
    }
   ],
   "source": [
    "function eratosthenes(n::Int64)::Vector{Int64}\n",
    "    D = Dict{Int64, Vector{Int64}}()\n",
    "    P = Vector{Int64}()\n",
    "    q = 2\n",
    "    counter = 0\n",
    "\n",
    "    while counter < n\n",
    "        if !(q in keys(D))\n",
    "            D[q * q] = Int64[q] # Vector{Int64}([q])\n",
    "            push!(P, q)\n",
    "            counter += 1\n",
    "        else\n",
    "            for p in D[q]\n",
    "                if haskey(D, p+q)\n",
    "                    push!(D[p+q], p)\n",
    "                else\n",
    "                    D[p+q] = [p]\n",
    "                end\n",
    "            end\n",
    "            delete!(D, q)\n",
    "        end\n",
    "        q += 1\n",
    "    end\n",
    "\n",
    "    return P\n",
    "end"
   ]
  },
  {
   "cell_type": "code",
   "execution_count": 4,
   "id": "7d2ebc28",
   "metadata": {},
   "outputs": [
    {
     "name": "stdout",
     "output_type": "stream",
     "text": [
      "  11.777 ms (165621 allocations: 12.42 MiB)\n"
     ]
    },
    {
     "data": {
      "text/plain": [
       "104743"
      ]
     },
     "metadata": {},
     "output_type": "display_data"
    }
   ],
   "source": [
    "@btime last(eratosthenes(10_001))"
   ]
  },
  {
   "cell_type": "markdown",
   "id": "1db1831e",
   "metadata": {},
   "source": [
    "Source: https://code.activestate.com/recipes/117119"
   ]
  }
 ],
 "metadata": {
  "kernelspec": {
   "display_name": "Julia 1.10.5",
   "language": "julia",
   "name": "julia-1.10"
  },
  "language_info": {
   "file_extension": ".jl",
   "mimetype": "application/julia",
   "name": "julia",
   "version": "1.10.5"
  }
 },
 "nbformat": 4,
 "nbformat_minor": 5
}
