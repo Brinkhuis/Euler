{
 "cells": [
  {
   "cell_type": "markdown",
   "id": "c6e2ad94-1596-4b05-a508-e71eeba93df9",
   "metadata": {},
   "source": [
    "# Problem 7\n",
    "https://projecteuler.net/problem=7"
   ]
  },
  {
   "cell_type": "code",
   "execution_count": 1,
   "id": "1c50f455",
   "metadata": {},
   "outputs": [
    {
     "name": "stdout",
     "output_type": "stream",
     "text": [
      "Julia v1.11.1\n"
     ]
    }
   ],
   "source": [
    "println(\"Julia v\", string(VERSION))"
   ]
  },
  {
   "cell_type": "code",
   "execution_count": 2,
   "id": "6af6605c",
   "metadata": {},
   "outputs": [],
   "source": [
    "using BenchmarkTools"
   ]
  },
  {
   "cell_type": "markdown",
   "id": "2732bc3e",
   "metadata": {},
   "source": [
    "### Solution 1 (sieve of eratosthenes)"
   ]
  },
  {
   "cell_type": "code",
   "execution_count": 3,
   "id": "466fd49f",
   "metadata": {},
   "outputs": [],
   "source": [
    "function eratosthenes(n::Int64)::Vector{Int64}\n",
    "    \n",
    "    D = Dict{Int64, Vector{Int64}}()\n",
    "    P = Vector{Int64}()\n",
    "    q = 2\n",
    "    counter = 0\n",
    "\n",
    "    while counter < n\n",
    "        if !(q in keys(D))\n",
    "            D[q * q] = Int64[q] # Vector{Int64}([q])\n",
    "            push!(P, q)\n",
    "            counter += 1\n",
    "        else\n",
    "            for p in D[q]\n",
    "                haskey(D, p+q) ? push!(D[p+q], p) : D[p+q] = [p]\n",
    "            end\n",
    "            delete!(D, q)\n",
    "        end\n",
    "        q += 1\n",
    "    end\n",
    "    return P\n",
    "end\n",
    "\n",
    "@assert last(eratosthenes(6)) == 13"
   ]
  },
  {
   "cell_type": "code",
   "execution_count": 4,
   "id": "1dff8ded",
   "metadata": {},
   "outputs": [
    {
     "name": "stdout",
     "output_type": "stream",
     "text": [
      "  11.007 ms (270363 allocations: 13.34 MiB)\n"
     ]
    },
    {
     "data": {
      "text/plain": [
       "104743"
      ]
     },
     "metadata": {},
     "output_type": "display_data"
    }
   ],
   "source": [
    "@btime last(eratosthenes(10_001))"
   ]
  },
  {
   "cell_type": "markdown",
   "id": "2e32a6f8",
   "metadata": {},
   "source": [
    "### Solution 2 (Primes)"
   ]
  },
  {
   "cell_type": "code",
   "execution_count": 5,
   "id": "060ac3cf",
   "metadata": {},
   "outputs": [],
   "source": [
    "using Primes"
   ]
  },
  {
   "cell_type": "code",
   "execution_count": 6,
   "id": "9fc81373",
   "metadata": {},
   "outputs": [
    {
     "name": "stdout",
     "output_type": "stream",
     "text": [
      "  2.741 ms (0 allocations: 0 bytes)\n"
     ]
    },
    {
     "data": {
      "text/plain": [
       "104743"
      ]
     },
     "metadata": {},
     "output_type": "display_data"
    }
   ],
   "source": [
    "@btime Primes.prime(10_001)"
   ]
  },
  {
   "cell_type": "markdown",
   "id": "ea043534",
   "metadata": {},
   "source": [
    "### Save benchmark"
   ]
  },
  {
   "cell_type": "code",
   "execution_count": 7,
   "id": "26be4f46",
   "metadata": {},
   "outputs": [],
   "source": [
    "include(\"./euler.jl\")\n",
    "bm = @benchmark sum(n for n in 3:999 if n%3 == 0 || n%5 == 0)\n",
    "euler.save_benchmark(7, bm);"
   ]
  },
  {
   "cell_type": "markdown",
   "id": "1db1831e",
   "metadata": {},
   "source": [
    "Source: https://code.activestate.com/recipes/117119"
   ]
  }
 ],
 "metadata": {
  "kernelspec": {
   "display_name": "Julia 1.11.1",
   "language": "julia",
   "name": "julia-1.11"
  },
  "language_info": {
   "file_extension": ".jl",
   "mimetype": "application/julia",
   "name": "julia",
   "version": "1.11.1"
  }
 },
 "nbformat": 4,
 "nbformat_minor": 5
}
