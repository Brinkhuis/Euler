{
 "cells": [
  {
   "cell_type": "markdown",
   "id": "c6e2ad94-1596-4b05-a508-e71eeba93df9",
   "metadata": {},
   "source": [
    "## Problem 12\n",
    "https://projecteuler.net/problem=12"
   ]
  },
  {
   "cell_type": "code",
   "execution_count": 1,
   "id": "5acfe54e",
   "metadata": {},
   "outputs": [],
   "source": [
    "using BenchmarkTools"
   ]
  },
  {
   "cell_type": "code",
   "execution_count": 2,
   "id": "ed923949",
   "metadata": {},
   "outputs": [
    {
     "data": {
      "text/plain": [
       "triangular_number (generic function with 1 method)"
      ]
     },
     "metadata": {},
     "output_type": "display_data"
    }
   ],
   "source": [
    "triangular_number(n) = sum(1:n)"
   ]
  },
  {
   "cell_type": "code",
   "execution_count": 3,
   "id": "3aeac7ca",
   "metadata": {},
   "outputs": [],
   "source": [
    "@assert triangular_number(7) == 28"
   ]
  },
  {
   "cell_type": "code",
   "execution_count": 4,
   "id": "81c2912c",
   "metadata": {},
   "outputs": [
    {
     "data": {
      "text/plain": [
       "factors (generic function with 1 method)"
      ]
     },
     "metadata": {},
     "output_type": "display_data"
    }
   ],
   "source": [
    "function factors(n)\n",
    "    f = Int64[]\n",
    "    for i in 1:n\n",
    "        if n%i == 0\n",
    "            push!(f, i)\n",
    "        end\n",
    "    end\n",
    "    return(f)\n",
    "end"
   ]
  },
  {
   "cell_type": "code",
   "execution_count": 5,
   "id": "b9481546",
   "metadata": {},
   "outputs": [],
   "source": [
    "@assert factors(28) == [1, 2, 4, 7, 14, 28]"
   ]
  },
  {
   "cell_type": "code",
   "execution_count": 6,
   "id": "e7f3da2d",
   "metadata": {},
   "outputs": [
    {
     "data": {
      "text/plain": [
       "divisors (generic function with 1 method)"
      ]
     },
     "metadata": {},
     "output_type": "display_data"
    }
   ],
   "source": [
    "function divisors(n::Int64)::Int64\n",
    "    i = 1\n",
    "    tri = 0 # init\n",
    "    while length(factors(tri)) <= n\n",
    "        tri = triangular_number(i)\n",
    "        i += 1\n",
    "    end\n",
    "    return tri\n",
    "end"
   ]
  },
  {
   "cell_type": "code",
   "execution_count": 7,
   "id": "48ecb1e1",
   "metadata": {},
   "outputs": [],
   "source": [
    "@assert divisors(5) == 28"
   ]
  },
  {
   "cell_type": "code",
   "execution_count": 8,
   "id": "bb01290c",
   "metadata": {},
   "outputs": [
    {
     "name": "stdout",
     "output_type": "stream",
     "text": [
      "  199.449 s (40465 allocations: 13.26 MiB)\n"
     ]
    },
    {
     "data": {
      "text/plain": [
       "76576500"
      ]
     },
     "metadata": {},
     "output_type": "display_data"
    }
   ],
   "source": [
    "@btime divisors(500)"
   ]
  }
 ],
 "metadata": {
  "kernelspec": {
   "display_name": "Julia 1.10.5",
   "language": "julia",
   "name": "julia-1.10"
  },
  "language_info": {
   "file_extension": ".jl",
   "mimetype": "application/julia",
   "name": "julia",
   "version": "1.10.5"
  }
 },
 "nbformat": 4,
 "nbformat_minor": 5
}
