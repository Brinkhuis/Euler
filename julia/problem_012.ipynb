{
 "cells": [
  {
   "cell_type": "markdown",
   "id": "c6e2ad94-1596-4b05-a508-e71eeba93df9",
   "metadata": {},
   "source": [
    "## Problem 12\n",
    "https://projecteuler.net/problem=12"
   ]
  },
  {
   "cell_type": "code",
   "execution_count": 1,
   "id": "5acfe54e",
   "metadata": {},
   "outputs": [],
   "source": [
    "using BenchmarkTools\n",
    "include(\"./euler.jl\");"
   ]
  },
  {
   "cell_type": "markdown",
   "id": "ccb3d6e3",
   "metadata": {},
   "source": [
    "#### Solution 1 (list of factors)"
   ]
  },
  {
   "cell_type": "code",
   "execution_count": 2,
   "id": "81c2912c",
   "metadata": {},
   "outputs": [
    {
     "data": {
      "text/plain": [
       "factors (generic function with 1 method)"
      ]
     },
     "metadata": {},
     "output_type": "display_data"
    }
   ],
   "source": [
    "function factors(n)\n",
    "    list_of_factors = Int64[]\n",
    "    for i in 1:n\n",
    "        if n%i == 0\n",
    "            push!(list_of_factors, i)\n",
    "        end\n",
    "    end\n",
    "    return list_of_factors\n",
    "end"
   ]
  },
  {
   "cell_type": "code",
   "execution_count": 3,
   "id": "b9481546",
   "metadata": {},
   "outputs": [],
   "source": [
    "@assert factors(28) == [1, 2, 4, 7, 14, 28]"
   ]
  },
  {
   "cell_type": "code",
   "execution_count": 4,
   "id": "28dfb731",
   "metadata": {},
   "outputs": [
    {
     "data": {
      "text/plain": [
       "divisors (generic function with 1 method)"
      ]
     },
     "metadata": {},
     "output_type": "display_data"
    }
   ],
   "source": [
    "function divisors(n)\n",
    "    i = 1\n",
    "    while length(factors(sum(1:i))) <= n\n",
    "        i += 1\n",
    "    end\n",
    "    return sum(1:i)\n",
    "end"
   ]
  },
  {
   "cell_type": "code",
   "execution_count": 5,
   "id": "bda98c2b",
   "metadata": {},
   "outputs": [],
   "source": [
    "@assert divisors(5) == 28"
   ]
  },
  {
   "cell_type": "code",
   "execution_count": 6,
   "id": "7b486448",
   "metadata": {},
   "outputs": [
    {
     "data": {
      "text/plain": [
       "76576500"
      ]
     },
     "metadata": {},
     "output_type": "display_data"
    }
   ],
   "source": [
    "divisors(500)"
   ]
  },
  {
   "cell_type": "code",
   "execution_count": 7,
   "id": "bb01290c",
   "metadata": {},
   "outputs": [
    {
     "data": {
      "text/plain": [
       "BenchmarkTools.Trial: 1 sample with 1 evaluation.\n",
       " Single result which took \u001b[34m199.531 s\u001b[39m (0.00% GC) to evaluate,\n",
       " with a memory estimate of \u001b[33m13.41 MiB\u001b[39m, over \u001b[33m40757\u001b[39m allocations."
      ]
     },
     "metadata": {},
     "output_type": "display_data"
    }
   ],
   "source": [
    "b = @benchmark divisors(500)"
   ]
  },
  {
   "cell_type": "code",
   "execution_count": 8,
   "id": "623a1ab3",
   "metadata": {},
   "outputs": [],
   "source": [
    "euler.save_benchmark(12, b);"
   ]
  },
  {
   "cell_type": "markdown",
   "id": "a2fe9a71",
   "metadata": {},
   "source": [
    "#### Solution 2 (number of factors)"
   ]
  },
  {
   "cell_type": "code",
   "execution_count": 9,
   "id": "3e4972cd",
   "metadata": {},
   "outputs": [
    {
     "data": {
      "text/plain": [
       "factors (generic function with 1 method)"
      ]
     },
     "metadata": {},
     "output_type": "display_data"
    }
   ],
   "source": [
    "function factors(n)::Int64\n",
    "    number_of_factors = 0\n",
    "    for i in 1:isqrt(n)\n",
    "        if i*i == n\n",
    "            number_of_factors += 1\n",
    "        elseif n%i == 0\n",
    "            number_of_factors += 2\n",
    "        end\n",
    "    end\n",
    "    return number_of_factors\n",
    "end"
   ]
  },
  {
   "cell_type": "code",
   "execution_count": 10,
   "id": "28744fd6",
   "metadata": {},
   "outputs": [
    {
     "data": {
      "text/plain": [
       "divisors (generic function with 1 method)"
      ]
     },
     "metadata": {},
     "output_type": "display_data"
    }
   ],
   "source": [
    "function divisors(n)\n",
    "    i = 1\n",
    "    while factors(sum(1:i)) <= n\n",
    "        i += 1\n",
    "    end\n",
    "    return sum(1:i)\n",
    "end"
   ]
  },
  {
   "cell_type": "code",
   "execution_count": 11,
   "id": "97a9c48c",
   "metadata": {},
   "outputs": [],
   "source": [
    "@assert divisors(5) == 28"
   ]
  },
  {
   "cell_type": "code",
   "execution_count": 12,
   "id": "3fa07484",
   "metadata": {},
   "outputs": [
    {
     "data": {
      "text/plain": [
       "76576500"
      ]
     },
     "metadata": {},
     "output_type": "display_data"
    }
   ],
   "source": [
    "divisors(500)"
   ]
  },
  {
   "cell_type": "code",
   "execution_count": 13,
   "id": "2c138201",
   "metadata": {},
   "outputs": [
    {
     "data": {
      "text/plain": [
       "BenchmarkTools.Trial: 104 samples with 1 evaluation.\n",
       " Range \u001b[90m(\u001b[39m\u001b[36m\u001b[1mmin\u001b[22m\u001b[39m … \u001b[35mmax\u001b[39m\u001b[90m):  \u001b[39m\u001b[36m\u001b[1m48.102 ms\u001b[22m\u001b[39m … \u001b[35m48.594 ms\u001b[39m  \u001b[90m┊\u001b[39m GC \u001b[90m(\u001b[39mmin … max\u001b[90m): \u001b[39m0.00% … 0.00%\n",
       " Time  \u001b[90m(\u001b[39m\u001b[34m\u001b[1mmedian\u001b[22m\u001b[39m\u001b[90m):     \u001b[39m\u001b[34m\u001b[1m48.281 ms              \u001b[22m\u001b[39m\u001b[90m┊\u001b[39m GC \u001b[90m(\u001b[39mmedian\u001b[90m):    \u001b[39m0.00%\n",
       " Time  \u001b[90m(\u001b[39m\u001b[32m\u001b[1mmean\u001b[22m\u001b[39m ± \u001b[32mσ\u001b[39m\u001b[90m):   \u001b[39m\u001b[32m\u001b[1m48.290 ms\u001b[22m\u001b[39m ± \u001b[32m83.912 μs\u001b[39m  \u001b[90m┊\u001b[39m GC \u001b[90m(\u001b[39mmean ± σ\u001b[90m):  \u001b[39m0.00% ± 0.00%\n",
       "\n",
       "  \u001b[39m \u001b[39m \u001b[39m \u001b[39m \u001b[39m \u001b[39m \u001b[39m \u001b[39m \u001b[39m \u001b[39m \u001b[39m \u001b[39m▄\u001b[39m \u001b[39m \u001b[39m█\u001b[39m▆\u001b[39m \u001b[39m█\u001b[39m▄\u001b[39m▂\u001b[39m▄\u001b[34m \u001b[39m\u001b[39m \u001b[32m▂\u001b[39m\u001b[39m█\u001b[39m▂\u001b[39m▂\u001b[39m \u001b[39m▆\u001b[39m \u001b[39m \u001b[39m▂\u001b[39m \u001b[39m \u001b[39m \u001b[39m \u001b[39m \u001b[39m \u001b[39m \u001b[39m \u001b[39m \u001b[39m \u001b[39m \u001b[39m \u001b[39m \u001b[39m \u001b[39m \u001b[39m \u001b[39m \u001b[39m \u001b[39m \u001b[39m \u001b[39m \u001b[39m \u001b[39m \u001b[39m \u001b[39m \u001b[39m \u001b[39m \u001b[39m \u001b[39m \n",
       "  \u001b[39m▄\u001b[39m▁\u001b[39m▁\u001b[39m▁\u001b[39m▁\u001b[39m▄\u001b[39m▄\u001b[39m▁\u001b[39m▆\u001b[39m▁\u001b[39m▆\u001b[39m█\u001b[39m▆\u001b[39m▆\u001b[39m█\u001b[39m█\u001b[39m▆\u001b[39m█\u001b[39m█\u001b[39m█\u001b[39m█\u001b[34m▁\u001b[39m\u001b[39m▆\u001b[32m█\u001b[39m\u001b[39m█\u001b[39m█\u001b[39m█\u001b[39m█\u001b[39m█\u001b[39m▄\u001b[39m▆\u001b[39m█\u001b[39m▄\u001b[39m▆\u001b[39m▄\u001b[39m▆\u001b[39m▄\u001b[39m▆\u001b[39m▆\u001b[39m▁\u001b[39m▁\u001b[39m▁\u001b[39m▁\u001b[39m▁\u001b[39m▄\u001b[39m▁\u001b[39m▁\u001b[39m▁\u001b[39m▁\u001b[39m▁\u001b[39m▄\u001b[39m▁\u001b[39m▁\u001b[39m▁\u001b[39m▁\u001b[39m▁\u001b[39m▁\u001b[39m▁\u001b[39m▄\u001b[39m \u001b[39m▄\n",
       "  48.1 ms\u001b[90m         Histogram: frequency by time\u001b[39m        48.6 ms \u001b[0m\u001b[1m<\u001b[22m\n",
       "\n",
       " Memory estimate\u001b[90m: \u001b[39m\u001b[33m0 bytes\u001b[39m, allocs estimate\u001b[90m: \u001b[39m\u001b[33m0\u001b[39m."
      ]
     },
     "metadata": {},
     "output_type": "display_data"
    }
   ],
   "source": [
    "b = @benchmark divisors(500)"
   ]
  },
  {
   "cell_type": "code",
   "execution_count": 14,
   "id": "884a4d7a",
   "metadata": {},
   "outputs": [],
   "source": [
    "euler.save_benchmark(12, b);"
   ]
  }
 ],
 "metadata": {
  "kernelspec": {
   "display_name": "Julia 1.11.0",
   "language": "julia",
   "name": "julia-1.11"
  },
  "language_info": {
   "file_extension": ".jl",
   "mimetype": "application/julia",
   "name": "julia",
   "version": "1.11.0"
  }
 },
 "nbformat": 4,
 "nbformat_minor": 5
}
