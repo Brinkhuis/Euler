{
 "cells": [
  {
   "cell_type": "markdown",
   "id": "c6e2ad94-1596-4b05-a508-e71eeba93df9",
   "metadata": {},
   "source": [
    "# Problem 12\n",
    "https://projecteuler.net/problem=12"
   ]
  },
  {
   "cell_type": "code",
   "execution_count": 1,
   "id": "a488fa30",
   "metadata": {},
   "outputs": [
    {
     "name": "stdout",
     "output_type": "stream",
     "text": [
      "Julia v1.11.1\n"
     ]
    }
   ],
   "source": [
    "println(\"Julia v\", string(VERSION))"
   ]
  },
  {
   "cell_type": "code",
   "execution_count": 2,
   "id": "5acfe54e",
   "metadata": {},
   "outputs": [],
   "source": [
    "using BenchmarkTools"
   ]
  },
  {
   "cell_type": "markdown",
   "id": "ccb3d6e3",
   "metadata": {},
   "source": [
    "### Solution 1 (list of factors)"
   ]
  },
  {
   "cell_type": "code",
   "execution_count": 3,
   "id": "81c2912c",
   "metadata": {},
   "outputs": [],
   "source": [
    "function factors(n::Int64)::Vector{Int64}\n",
    "    list_of_factors = Int64[]\n",
    "    for i in 1:n\n",
    "        if n%i == 0\n",
    "            push!(list_of_factors, i)\n",
    "        end\n",
    "    end\n",
    "    return list_of_factors\n",
    "end\n",
    "\n",
    "@assert factors(28) == [1, 2, 4, 7, 14, 28]"
   ]
  },
  {
   "cell_type": "code",
   "execution_count": 4,
   "id": "28dfb731",
   "metadata": {},
   "outputs": [],
   "source": [
    "function divisors(n::Int64)::Int64\n",
    "    i = 1\n",
    "    while length(factors(sum(1:i))) <= n\n",
    "        i += 1\n",
    "    end\n",
    "    return sum(1:i)\n",
    "end\n",
    "\n",
    "@assert divisors(5) == 28"
   ]
  },
  {
   "cell_type": "code",
   "execution_count": 5,
   "id": "7b486448",
   "metadata": {},
   "outputs": [
    {
     "name": "stdout",
     "output_type": "stream",
     "text": [
      "  199.266 s (40757 allocations: 13.41 MiB)\n"
     ]
    },
    {
     "data": {
      "text/plain": [
       "76576500"
      ]
     },
     "metadata": {},
     "output_type": "display_data"
    }
   ],
   "source": [
    "@btime divisors(500) samples=1 evals=1"
   ]
  },
  {
   "cell_type": "markdown",
   "id": "a2fe9a71",
   "metadata": {},
   "source": [
    "### Solution 2 (number of factors)"
   ]
  },
  {
   "cell_type": "code",
   "execution_count": 6,
   "id": "3e4972cd",
   "metadata": {},
   "outputs": [],
   "source": [
    "function factors(n::Int64)::Int64\n",
    "    number_of_factors = 0\n",
    "    for i in 1:isqrt(n)\n",
    "        if i*i == n\n",
    "            number_of_factors += 1\n",
    "        elseif n%i == 0\n",
    "            number_of_factors += 2\n",
    "        end\n",
    "    end\n",
    "    return number_of_factors\n",
    "end\n",
    "\n",
    "@assert factors(28) == 6"
   ]
  },
  {
   "cell_type": "code",
   "execution_count": 7,
   "id": "28744fd6",
   "metadata": {},
   "outputs": [],
   "source": [
    "function divisors(n::Int64)::Int64\n",
    "    i = 1\n",
    "    while factors(sum(1:i)) <= n\n",
    "        i += 1\n",
    "    end\n",
    "    return sum(1:i)\n",
    "end\n",
    "\n",
    "@assert divisors(5) == 28"
   ]
  },
  {
   "cell_type": "code",
   "execution_count": 8,
   "id": "3fa07484",
   "metadata": {},
   "outputs": [
    {
     "name": "stdout",
     "output_type": "stream",
     "text": [
      "  48.135 ms (0 allocations: 0 bytes)\n"
     ]
    },
    {
     "data": {
      "text/plain": [
       "76576500"
      ]
     },
     "metadata": {},
     "output_type": "display_data"
    }
   ],
   "source": [
    "@btime divisors(500)"
   ]
  },
  {
   "cell_type": "markdown",
   "id": "2c54a606",
   "metadata": {},
   "source": [
    "### Save benchmark"
   ]
  },
  {
   "cell_type": "code",
   "execution_count": 9,
   "id": "2c138201",
   "metadata": {},
   "outputs": [],
   "source": [
    "include(\"./euler.jl\")\n",
    "bm = @benchmark divisors(500)\n",
    "euler.save_benchmark(12, bm);"
   ]
  }
 ],
 "metadata": {
  "kernelspec": {
   "display_name": "Julia 1.11.1",
   "language": "julia",
   "name": "julia-1.11"
  },
  "language_info": {
   "file_extension": ".jl",
   "mimetype": "application/julia",
   "name": "julia",
   "version": "1.11.1"
  }
 },
 "nbformat": 4,
 "nbformat_minor": 5
}
