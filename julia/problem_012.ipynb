{
 "cells": [
  {
   "cell_type": "markdown",
   "id": "c6e2ad94-1596-4b05-a508-e71eeba93df9",
   "metadata": {},
   "source": [
    "## Problem 12\n",
    "https://projecteuler.net/problem=12"
   ]
  },
  {
   "cell_type": "code",
   "execution_count": 1,
   "id": "5acfe54e",
   "metadata": {},
   "outputs": [],
   "source": [
    "using BenchmarkTools"
   ]
  },
  {
   "cell_type": "markdown",
   "id": "ccb3d6e3",
   "metadata": {},
   "source": [
    "#### Solution 1 (list of factors)"
   ]
  },
  {
   "cell_type": "code",
   "execution_count": 2,
   "id": "81c2912c",
   "metadata": {},
   "outputs": [
    {
     "data": {
      "text/plain": [
       "factors (generic function with 1 method)"
      ]
     },
     "metadata": {},
     "output_type": "display_data"
    }
   ],
   "source": [
    "function factors(n)\n",
    "    list_of_factors = Int64[]\n",
    "    for i in 1:n\n",
    "        if n%i == 0\n",
    "            push!(list_of_factors, i)\n",
    "        end\n",
    "    end\n",
    "    return list_of_factors\n",
    "end"
   ]
  },
  {
   "cell_type": "code",
   "execution_count": 3,
   "id": "b9481546",
   "metadata": {},
   "outputs": [],
   "source": [
    "@assert factors(28) == [1, 2, 4, 7, 14, 28]"
   ]
  },
  {
   "cell_type": "code",
   "execution_count": 4,
   "id": "28dfb731",
   "metadata": {},
   "outputs": [
    {
     "data": {
      "text/plain": [
       "divisors (generic function with 1 method)"
      ]
     },
     "metadata": {},
     "output_type": "display_data"
    }
   ],
   "source": [
    "function divisors(n)\n",
    "    i = 1\n",
    "    while length(factors(sum(1:i))) <= n\n",
    "        i += 1\n",
    "    end\n",
    "    return sum(1:i)\n",
    "end"
   ]
  },
  {
   "cell_type": "code",
   "execution_count": 5,
   "id": "bda98c2b",
   "metadata": {},
   "outputs": [],
   "source": [
    "@assert divisors(5) == 28"
   ]
  },
  {
   "cell_type": "code",
   "execution_count": 6,
   "id": "bb01290c",
   "metadata": {},
   "outputs": [
    {
     "name": "stdout",
     "output_type": "stream",
     "text": [
      "  199.327 s (40464 allocations: 13.26 MiB)\n"
     ]
    },
    {
     "data": {
      "text/plain": [
       "76576500"
      ]
     },
     "metadata": {},
     "output_type": "display_data"
    }
   ],
   "source": [
    "@btime divisors(500)"
   ]
  },
  {
   "cell_type": "markdown",
   "id": "a2fe9a71",
   "metadata": {},
   "source": [
    "#### Solution 2 (number of factors)"
   ]
  },
  {
   "cell_type": "code",
   "execution_count": 7,
   "id": "3e4972cd",
   "metadata": {},
   "outputs": [
    {
     "data": {
      "text/plain": [
       "factors (generic function with 1 method)"
      ]
     },
     "metadata": {},
     "output_type": "display_data"
    }
   ],
   "source": [
    "function factors(n)::Int64\n",
    "    number_of_factors = 0\n",
    "    for i in 1:isqrt(n)\n",
    "        if i*i == n\n",
    "            number_of_factors += 1\n",
    "        elseif n%i == 0\n",
    "            number_of_factors += 2\n",
    "        end\n",
    "    end\n",
    "    return number_of_factors\n",
    "end"
   ]
  },
  {
   "cell_type": "code",
   "execution_count": 8,
   "id": "28744fd6",
   "metadata": {},
   "outputs": [
    {
     "data": {
      "text/plain": [
       "divisors (generic function with 1 method)"
      ]
     },
     "metadata": {},
     "output_type": "display_data"
    }
   ],
   "source": [
    "function divisors(n)\n",
    "    i = 1\n",
    "    while factors(sum(1:i)) <= n\n",
    "        i += 1\n",
    "    end\n",
    "    return sum(1:i)\n",
    "end"
   ]
  },
  {
   "cell_type": "code",
   "execution_count": 9,
   "id": "97a9c48c",
   "metadata": {},
   "outputs": [],
   "source": [
    "@assert divisors(5) == 28"
   ]
  },
  {
   "cell_type": "code",
   "execution_count": 10,
   "id": "2c138201",
   "metadata": {},
   "outputs": [
    {
     "name": "stdout",
     "output_type": "stream",
     "text": [
      "  48.523 ms (0 allocations: 0 bytes)\n"
     ]
    },
    {
     "data": {
      "text/plain": [
       "76576500"
      ]
     },
     "metadata": {},
     "output_type": "display_data"
    }
   ],
   "source": [
    "@btime divisors(500)"
   ]
  }
 ],
 "metadata": {
  "kernelspec": {
   "display_name": "Julia 1.10.5",
   "language": "julia",
   "name": "julia-1.10"
  },
  "language_info": {
   "file_extension": ".jl",
   "mimetype": "application/julia",
   "name": "julia",
   "version": "1.10.5"
  }
 },
 "nbformat": 4,
 "nbformat_minor": 5
}
