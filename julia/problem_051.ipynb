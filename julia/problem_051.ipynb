{
 "cells": [
  {
   "cell_type": "markdown",
   "id": "c6e2ad94-1596-4b05-a508-e71eeba93df9",
   "metadata": {},
   "source": [
    "## Problem 51\n",
    "https://projecteuler.net/problem=51"
   ]
  },
  {
   "cell_type": "code",
   "execution_count": 1,
   "id": "8d522a49",
   "metadata": {},
   "outputs": [],
   "source": [
    "using Primes, Combinatorics, BenchmarkTools"
   ]
  },
  {
   "cell_type": "code",
   "execution_count": 2,
   "id": "4b20b298",
   "metadata": {},
   "outputs": [
    {
     "data": {
      "text/plain": [
       "undigit (generic function with 1 method)"
      ]
     },
     "metadata": {},
     "output_type": "display_data"
    }
   ],
   "source": [
    "function undigit(l::Array{Int64, 1})::Int64\n",
    "    \"\"\"\n",
    "\n",
    "    julia> undigit([3, 4, 5])\n",
    "    345\n",
    "    \n",
    "    \"\"\"\n",
    "    @assert all(n -> n ∈ 0:9, l) \"Only integers in range 0:9 are valid inputs\"\n",
    "    s = 0 # sum\n",
    "    for (i, n) in enumerate(reverse(l))\n",
    "        s += n * 10^(i-1)\n",
    "    end\n",
    "    return s\n",
    "end"
   ]
  },
  {
   "cell_type": "code",
   "execution_count": 3,
   "id": "8411c2e4",
   "metadata": {},
   "outputs": [
    {
     "data": {
      "text/plain": [
       "1000"
      ]
     },
     "metadata": {},
     "output_type": "display_data"
    }
   ],
   "source": [
    "undigit([1, 0, 0, 0])"
   ]
  },
  {
   "cell_type": "code",
   "execution_count": 4,
   "id": "42106b7d",
   "metadata": {},
   "outputs": [
    {
     "data": {
      "text/plain": [
       "replace_digits (generic function with 1 method)"
      ]
     },
     "metadata": {},
     "output_type": "display_data"
    }
   ],
   "source": [
    "function replace_digits(n, d, idx)\n",
    "    \"\"\"\n",
    "\n",
    "    julia> replace_digits(9999, 0, [2, 3])\n",
    "    9009\n",
    "    \n",
    "    \"\"\"\n",
    "    digits_of_n = reverse(digits(n))\n",
    "    digits_of_n[idx] .= d\n",
    "    return undigit(digits_of_n)\n",
    "end"
   ]
  },
  {
   "cell_type": "code",
   "execution_count": 5,
   "id": "e5d79b82",
   "metadata": {},
   "outputs": [
    {
     "data": {
      "text/plain": [
       "119911"
      ]
     },
     "metadata": {},
     "output_type": "display_data"
    }
   ],
   "source": [
    "replace_digits(111111, 9, [3, 4])"
   ]
  },
  {
   "cell_type": "code",
   "execution_count": 6,
   "id": "85f1749a",
   "metadata": {},
   "outputs": [
    {
     "data": {
      "text/plain": [
       "10-element Vector{Int64}:\n",
       " 110011\n",
       " 111111\n",
       " 112211\n",
       " 113311\n",
       " 114411\n",
       " 115511\n",
       " 116611\n",
       " 117711\n",
       " 118811\n",
       " 119911"
      ]
     },
     "metadata": {},
     "output_type": "display_data"
    }
   ],
   "source": [
    "[replace_digits(111111, d, [3, 4]) for d in 0:9]"
   ]
  },
  {
   "cell_type": "markdown",
   "id": "fe989c97",
   "metadata": {},
   "source": [
    "### Solution 1"
   ]
  },
  {
   "cell_type": "code",
   "execution_count": 7,
   "id": "8c520fc0",
   "metadata": {},
   "outputs": [
    {
     "data": {
      "text/plain": [
       "prime_digit_replacements (generic function with 3 methods)"
      ]
     },
     "metadata": {},
     "output_type": "display_data"
    }
   ],
   "source": [
    "function prime_digit_replacements(treshold, n=1, info=false)\n",
    "    n = 1 # start with primes of length n\n",
    "    while true\n",
    "        for p in primes(10^(n-1), (10^n)-1) # generate primes of length n\n",
    "            for index_combination in powerset(1:n) # generate all index combinations in range 1:n\n",
    "                valid_digits = 1 ∉ index_combination ? (0:9) : (1:9) # do not replace first digit with zero\n",
    "                new_values = [replace_digits(p, d, index_combination) for d in valid_digits]\n",
    "                if sum(isprime, new_values) == treshold && p in new_values\n",
    "                    if info\n",
    "                        new_primes = [x for x in new_values if isprime(x)]\n",
    "                        println(\"Values changed for positions: \", index_combination),\n",
    "                        println(\"Prime family: \", new_primes)\n",
    "                    end\n",
    "                    return p\n",
    "                end\n",
    "            end\n",
    "        end\n",
    "        n += 1\n",
    "    end\n",
    "end"
   ]
  },
  {
   "cell_type": "code",
   "execution_count": 8,
   "id": "9e80a2ca",
   "metadata": {},
   "outputs": [
    {
     "name": "stdout",
     "output_type": "stream",
     "text": [
      "Values changed for positions: [3, 4]\n",
      "Prime family: [56003, 56113, 56333, 56443, 56663, 56773, 56993]\n"
     ]
    }
   ],
   "source": [
    "@assert prime_digit_replacements(7, 1, true) == 56003"
   ]
  },
  {
   "cell_type": "code",
   "execution_count": 9,
   "id": "89c7bacf",
   "metadata": {},
   "outputs": [
    {
     "data": {
      "text/plain": [
       "56003"
      ]
     },
     "metadata": {},
     "output_type": "display_data"
    }
   ],
   "source": [
    "prime_digit_replacements(7)"
   ]
  },
  {
   "cell_type": "code",
   "execution_count": 10,
   "id": "71d9eb04",
   "metadata": {},
   "outputs": [
    {
     "name": "stdout",
     "output_type": "stream",
     "text": [
      "  780.944 ms (12780777 allocations: 1.18 GiB)\n"
     ]
    },
    {
     "data": {
      "text/plain": [
       "121313"
      ]
     },
     "metadata": {},
     "output_type": "display_data"
    }
   ],
   "source": [
    "@btime prime_digit_replacements(8)"
   ]
  },
  {
   "cell_type": "markdown",
   "id": "6d042b38",
   "metadata": {},
   "source": [
    "#### Solution 2"
   ]
  },
  {
   "cell_type": "code",
   "execution_count": 11,
   "id": "7f48ec51",
   "metadata": {},
   "outputs": [
    {
     "data": {
      "text/plain": [
       "prime_digit_replacements_2 (generic function with 2 methods)"
      ]
     },
     "metadata": {},
     "output_type": "display_data"
    }
   ],
   "source": [
    "function prime_digit_replacements_2(treshold, n=1)\n",
    "    for i in Iterators.countfrom(n), p in primes(10^(i-1), (10^i)-1), index_combination in powerset(1:i)\n",
    "        new_values = [replace_digits(p, d, index_combination) for d in (1 ∉ index_combination ? (0:9) : (1:9))]\n",
    "        sum(isprime, new_values) == treshold && p in new_values && return p\n",
    "    end\n",
    "end"
   ]
  },
  {
   "cell_type": "code",
   "execution_count": 12,
   "id": "c4fc532e",
   "metadata": {},
   "outputs": [
    {
     "name": "stdout",
     "output_type": "stream",
     "text": [
      "  772.210 ms (12780777 allocations: 1.18 GiB)\n"
     ]
    },
    {
     "data": {
      "text/plain": [
       "121313"
      ]
     },
     "metadata": {},
     "output_type": "display_data"
    }
   ],
   "source": [
    "@btime prime_digit_replacements_2(8)"
   ]
  },
  {
   "cell_type": "code",
   "execution_count": 13,
   "id": "b4d35969",
   "metadata": {},
   "outputs": [
    {
     "data": {
      "text/plain": [
       "6"
      ]
     },
     "metadata": {},
     "output_type": "display_data"
    }
   ],
   "source": [
    "ndigits(prime_digit_replacements_2(8))"
   ]
  },
  {
   "cell_type": "code",
   "execution_count": 14,
   "id": "836a3692",
   "metadata": {},
   "outputs": [
    {
     "name": "stdout",
     "output_type": "stream",
     "text": [
      "  288.922 ms (3692272 allocations: 385.60 MiB)\n"
     ]
    },
    {
     "data": {
      "text/plain": [
       "121313"
      ]
     },
     "metadata": {},
     "output_type": "display_data"
    }
   ],
   "source": [
    "@btime prime_digit_replacements_2(8, 6)"
   ]
  }
 ],
 "metadata": {
  "kernelspec": {
   "display_name": "Julia 1.10.5",
   "language": "julia",
   "name": "julia-1.10"
  },
  "language_info": {
   "file_extension": ".jl",
   "mimetype": "application/julia",
   "name": "julia",
   "version": "1.10.5"
  }
 },
 "nbformat": 4,
 "nbformat_minor": 5
}
