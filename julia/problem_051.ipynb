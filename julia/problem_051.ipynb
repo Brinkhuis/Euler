{
 "cells": [
  {
   "cell_type": "markdown",
   "id": "c6e2ad94-1596-4b05-a508-e71eeba93df9",
   "metadata": {},
   "source": [
    "# Problem 51\n",
    "https://projecteuler.net/problem=51"
   ]
  },
  {
   "cell_type": "code",
   "execution_count": 1,
   "id": "4c3945c7",
   "metadata": {},
   "outputs": [
    {
     "name": "stdout",
     "output_type": "stream",
     "text": [
      "Julia v1.11.1\n"
     ]
    }
   ],
   "source": [
    "println(\"Julia v\", string(VERSION))"
   ]
  },
  {
   "cell_type": "code",
   "execution_count": 2,
   "id": "8d522a49",
   "metadata": {},
   "outputs": [],
   "source": [
    "using Primes, Combinatorics, BenchmarkTools"
   ]
  },
  {
   "cell_type": "code",
   "execution_count": 3,
   "id": "4b20b298",
   "metadata": {},
   "outputs": [],
   "source": [
    "function undigit(l::Array{Int64, 1})::Int64\n",
    "    \"\"\"\n",
    "\n",
    "    julia> undigit([3, 4, 5])\n",
    "    345\n",
    "    \n",
    "    \"\"\"\n",
    "    @assert all(n -> n ∈ 0:9, l) \"Only integers in range 0:9 are valid inputs\"\n",
    "    s = 0 # sum\n",
    "    for (i, n) in enumerate(reverse(l))\n",
    "        s += n * 10^(i-1)\n",
    "    end\n",
    "    return s\n",
    "end\n",
    "\n",
    "@assert undigit([0, 1, 2]) == 12\n",
    "@assert undigit([1, 2, 0]) == 120"
   ]
  },
  {
   "cell_type": "code",
   "execution_count": 4,
   "id": "42106b7d",
   "metadata": {},
   "outputs": [],
   "source": [
    "function replace_digits(n, d, idx)\n",
    "    \"\"\"\n",
    "    julia> replace_digits(9999, 0, [2, 3])\n",
    "    9009\n",
    "    \"\"\"\n",
    "    digits_of_n = reverse(digits(n))\n",
    "    digits_of_n[idx] .= d\n",
    "    return undigit(digits_of_n)\n",
    "end\n",
    "\n",
    "@assert replace_digits(111111, 9, [3, 4]) == 119911"
   ]
  },
  {
   "cell_type": "markdown",
   "id": "fe989c97",
   "metadata": {},
   "source": [
    "### Solution 1"
   ]
  },
  {
   "cell_type": "code",
   "execution_count": 5,
   "id": "8c520fc0",
   "metadata": {},
   "outputs": [
    {
     "name": "stdout",
     "output_type": "stream",
     "text": [
      "Values changed for positions: [3, 4]\n",
      "Prime family: [56003, 56113, 56333, 56443, 56663, 56773, 56993]\n"
     ]
    }
   ],
   "source": [
    "function prime_digit_replacements(treshold, n=1, info=false)\n",
    "    n = 1 # start with primes of length n\n",
    "    while true\n",
    "        for p ∈ primes(10^(n-1), (10^n)-1) # generate primes of length n\n",
    "            for index_combination ∈ powerset(1:n) # generate all index combinations in range 1:n\n",
    "                valid_digits = 1 ∉ index_combination ? (0:9) : (1:9) # do not replace first digit with zero\n",
    "                new_values = [replace_digits(p, d, index_combination) for d ∈ valid_digits]\n",
    "                if sum(isprime, new_values) == treshold && p ∈ new_values\n",
    "                    if info\n",
    "                        new_primes = [x for x ∈ new_values if isprime(x)]\n",
    "                        println(\"Values changed for positions: \", index_combination),\n",
    "                        println(\"Prime family: \", new_primes)\n",
    "                    end\n",
    "                    return p\n",
    "                end\n",
    "            end\n",
    "        end\n",
    "        n += 1\n",
    "    end\n",
    "end\n",
    "\n",
    "prime_digit_replacements(7, 1, true);\n",
    "@assert prime_digit_replacements(7, 1) == 56003"
   ]
  },
  {
   "cell_type": "code",
   "execution_count": 6,
   "id": "713ab67c",
   "metadata": {},
   "outputs": [
    {
     "name": "stdout",
     "output_type": "stream",
     "text": [
      "Values changed for positions: [1, 3, 5]\n",
      "Prime family: [121313, 222323, 323333, 424343, 525353, 626363, 828383, 929393]\n"
     ]
    }
   ],
   "source": [
    "# info\n",
    "prime_digit_replacements(8, 1, true);"
   ]
  },
  {
   "cell_type": "code",
   "execution_count": 7,
   "id": "503f8269",
   "metadata": {},
   "outputs": [
    {
     "name": "stdout",
     "output_type": "stream",
     "text": [
      "  702.823 ms (25113419 allocations: 1.18 GiB)\n"
     ]
    },
    {
     "data": {
      "text/plain": [
       "121313"
      ]
     },
     "metadata": {},
     "output_type": "display_data"
    }
   ],
   "source": [
    "# answer\n",
    "@btime prime_digit_replacements(8)"
   ]
  },
  {
   "cell_type": "markdown",
   "id": "6d042b38",
   "metadata": {},
   "source": [
    "### Solution 2"
   ]
  },
  {
   "cell_type": "code",
   "execution_count": 8,
   "id": "7f48ec51",
   "metadata": {},
   "outputs": [],
   "source": [
    "function prime_digit_replacements_solution_two(treshold, n=1)\n",
    "    for i in Iterators.countfrom(n), p ∈ primes(10^(i-1), (10^i)-1), index_combination ∈ powerset(1:i)\n",
    "        new_values = [replace_digits(p, d, index_combination) for d ∈ (1 ∉ index_combination ? (0:9) : (1:9))]\n",
    "        sum(isprime, new_values) == treshold && p ∈ new_values && return p\n",
    "    end\n",
    "end\n",
    "\n",
    "@assert prime_digit_replacements_solution_two(7) == 56003"
   ]
  },
  {
   "cell_type": "code",
   "execution_count": 9,
   "id": "c4fc532e",
   "metadata": {},
   "outputs": [
    {
     "name": "stdout",
     "output_type": "stream",
     "text": [
      "  724.538 ms (25113419 allocations: 1.18 GiB)\n"
     ]
    },
    {
     "data": {
      "text/plain": [
       "121313"
      ]
     },
     "metadata": {},
     "output_type": "display_data"
    }
   ],
   "source": [
    "@btime prime_digit_replacements_solution_two(8)"
   ]
  }
 ],
 "metadata": {
  "kernelspec": {
   "display_name": "Julia 1.11.1",
   "language": "julia",
   "name": "julia-1.11"
  },
  "language_info": {
   "file_extension": ".jl",
   "mimetype": "application/julia",
   "name": "julia",
   "version": "1.11.1"
  }
 },
 "nbformat": 4,
 "nbformat_minor": 5
}
