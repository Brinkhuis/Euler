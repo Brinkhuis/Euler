{
 "cells": [
  {
   "cell_type": "markdown",
   "id": "c6e2ad94-1596-4b05-a508-e71eeba93df9",
   "metadata": {},
   "source": [
    "## Problem 44\n",
    "https://projecteuler.net/problem=44"
   ]
  },
  {
   "cell_type": "code",
   "execution_count": 1,
   "id": "236042ec",
   "metadata": {},
   "outputs": [],
   "source": [
    "using Combinatorics, BenchmarkTools"
   ]
  },
  {
   "cell_type": "code",
   "execution_count": 2,
   "id": "b01dfb35",
   "metadata": {},
   "outputs": [
    {
     "data": {
      "text/plain": [
       "pentagon_numbers (generic function with 2 methods)"
      ]
     },
     "metadata": {},
     "output_type": "display_data"
    }
   ],
   "source": [
    "function pentagon_numbers(hi=10_000)\n",
    "    values = Int64[]\n",
    "    pentagonals = map(n -> div(n * (3n -1), 2), 1:hi)\n",
    "    for x in Combinatorics.permutations(pentagonals, 2)\n",
    "        if abs(+(x...)) ∈ pentagonals && abs(-(x...)) ∈ pentagonals\n",
    "            push!(values, abs(-(x...)))\n",
    "        end\n",
    "    end\n",
    "    return minimum(values)\n",
    "end"
   ]
  },
  {
   "cell_type": "code",
   "execution_count": 3,
   "id": "24e4c57f",
   "metadata": {},
   "outputs": [
    {
     "name": "stdout",
     "output_type": "stream",
     "text": [
      "1501.618147 seconds (699.61 M allocations: 7.294 TiB, 24.66% gc time)\n"
     ]
    },
    {
     "data": {
      "text/plain": [
       "5482660"
      ]
     },
     "metadata": {},
     "output_type": "display_data"
    }
   ],
   "source": [
    "@time pentagon_numbers()"
   ]
  }
 ],
 "metadata": {
  "kernelspec": {
   "display_name": "Julia 1.10.5",
   "language": "julia",
   "name": "julia-1.10"
  },
  "language_info": {
   "file_extension": ".jl",
   "mimetype": "application/julia",
   "name": "julia",
   "version": "1.10.5"
  }
 },
 "nbformat": 4,
 "nbformat_minor": 5
}
