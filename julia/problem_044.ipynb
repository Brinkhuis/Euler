{
 "cells": [
  {
   "cell_type": "markdown",
   "id": "c6e2ad94-1596-4b05-a508-e71eeba93df9",
   "metadata": {},
   "source": [
    "## Problem 44\n",
    "https://projecteuler.net/problem=44"
   ]
  },
  {
   "cell_type": "code",
   "execution_count": 6,
   "id": "236042ec",
   "metadata": {},
   "outputs": [],
   "source": [
    "using Combinatorics, BenchmarkTools\n",
    "include(\"./euler.jl\");"
   ]
  },
  {
   "cell_type": "code",
   "execution_count": 2,
   "id": "b01dfb35",
   "metadata": {},
   "outputs": [
    {
     "data": {
      "text/plain": [
       "pentagon_numbers (generic function with 2 methods)"
      ]
     },
     "metadata": {},
     "output_type": "display_data"
    }
   ],
   "source": [
    "function pentagon_numbers(hi=10_000)\n",
    "    values = Int64[]\n",
    "    pentagonals = map(n -> div(n * (3n -1), 2), 1:hi)\n",
    "    for x in Combinatorics.permutations(pentagonals, 2)\n",
    "        if abs(+(x...)) ∈ pentagonals && abs(-(x...)) ∈ pentagonals\n",
    "            push!(values, abs(-(x...)))\n",
    "        end\n",
    "    end\n",
    "    return minimum(values)\n",
    "end"
   ]
  },
  {
   "cell_type": "code",
   "execution_count": 3,
   "id": "b86e941c",
   "metadata": {},
   "outputs": [
    {
     "data": {
      "text/plain": [
       "5482660"
      ]
     },
     "metadata": {},
     "output_type": "display_data"
    }
   ],
   "source": [
    "pentagon_numbers()"
   ]
  },
  {
   "cell_type": "code",
   "execution_count": 4,
   "id": "24e4c57f",
   "metadata": {},
   "outputs": [
    {
     "data": {
      "text/plain": [
       "BenchmarkTools.Trial: 1 sample with 1 evaluation.\n",
       " Single result which took \u001b[34m1968.167 s\u001b[39m (16.10% GC) to evaluate,\n",
       " with a memory estimate of \u001b[33m7467.71 GiB\u001b[39m, over \u001b[33m799595274\u001b[39m allocations."
      ]
     },
     "metadata": {},
     "output_type": "display_data"
    }
   ],
   "source": [
    "b = @benchmark pentagon_numbers()"
   ]
  },
  {
   "cell_type": "code",
   "execution_count": 7,
   "id": "6a036d40",
   "metadata": {},
   "outputs": [],
   "source": [
    "euler.save_benchmark(44, b);"
   ]
  }
 ],
 "metadata": {
  "kernelspec": {
   "display_name": "Julia 1.11.0",
   "language": "julia",
   "name": "julia-1.11"
  },
  "language_info": {
   "file_extension": ".jl",
   "mimetype": "application/julia",
   "name": "julia",
   "version": "1.11.0"
  }
 },
 "nbformat": 4,
 "nbformat_minor": 5
}
