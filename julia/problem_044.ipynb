{
 "cells": [
  {
   "cell_type": "markdown",
   "id": "c6e2ad94-1596-4b05-a508-e71eeba93df9",
   "metadata": {},
   "source": [
    "# Problem 44\n",
    "https://projecteuler.net/problem=44"
   ]
  },
  {
   "cell_type": "code",
   "execution_count": 1,
   "id": "33a83c04",
   "metadata": {},
   "outputs": [
    {
     "name": "stdout",
     "output_type": "stream",
     "text": [
      "Julia v1.11.1\n"
     ]
    }
   ],
   "source": [
    "println(\"Julia v\", string(VERSION))"
   ]
  },
  {
   "cell_type": "code",
   "execution_count": 2,
   "id": "e98c99b5",
   "metadata": {},
   "outputs": [],
   "source": [
    "using BenchmarkTools"
   ]
  },
  {
   "cell_type": "markdown",
   "id": "8310c8d7",
   "metadata": {},
   "source": [
    "### Solution (brute force)"
   ]
  },
  {
   "cell_type": "code",
   "execution_count": 3,
   "id": "236042ec",
   "metadata": {},
   "outputs": [],
   "source": [
    "using Combinatorics"
   ]
  },
  {
   "cell_type": "code",
   "execution_count": 4,
   "id": "190e82d3",
   "metadata": {},
   "outputs": [
    {
     "data": {
      "text/plain": [
       "pentagon_numbers (generic function with 1 method)"
      ]
     },
     "metadata": {},
     "output_type": "display_data"
    }
   ],
   "source": [
    "function pentagon_numbers(hi)\n",
    "    pentagonals = map(n -> div(n * (3n -1), 2), 1:hi)\n",
    "    min_diff = maximum(pentagonals)\n",
    "    for x ∈ Combinatorics.permutations(pentagonals, 2)\n",
    "        diff = abs(-(x...))\n",
    "        if diff < min_diff\n",
    "            if abs(+(x...)) ∈ pentagonals && diff ∈ pentagonals\n",
    "                min_diff = diff\n",
    "            end\n",
    "        end\n",
    "    end\n",
    "    return min_diff\n",
    "end"
   ]
  },
  {
   "cell_type": "code",
   "execution_count": 5,
   "id": "b86e941c",
   "metadata": {},
   "outputs": [
    {
     "name": "stdout",
     "output_type": "stream",
     "text": [
      "  1030.193 s (854946302 allocations: 7468.54 GiB)\n"
     ]
    },
    {
     "data": {
      "text/plain": [
       "5482660"
      ]
     },
     "metadata": {},
     "output_type": "display_data"
    }
   ],
   "source": [
    "@btime pentagon_numbers(10_000) samples=1 evals=1"
   ]
  },
  {
   "cell_type": "markdown",
   "id": "7157162a",
   "metadata": {},
   "source": [
    "### Solution (loop through pentagonals)"
   ]
  },
  {
   "cell_type": "code",
   "execution_count": 6,
   "id": "53cc0fcc",
   "metadata": {},
   "outputs": [
    {
     "data": {
      "text/plain": [
       "pentagon (generic function with 1 method)"
      ]
     },
     "metadata": {},
     "output_type": "display_data"
    }
   ],
   "source": [
    "function pentagon(hi)\n",
    "    pentagon_numbers = map(n -> div(n * (3n -1), 2), 1:hi)\n",
    "    pentagon_set = Set(pentagon_numbers)\n",
    "    minimum_difference = maximum(pentagon_numbers) # init value\n",
    "    for i ∈ Iterators.countfrom(2) # 2nd num is the first to have a previous num\n",
    "        for j ∈ 1:i-1 # diff with all previous nums\n",
    "            difference = pentagon_numbers[i] - pentagon_numbers[j]\n",
    "            if difference > minimum_difference\n",
    "                break\n",
    "            elseif difference ∈ pentagon_set && pentagon_numbers[i] + pentagon_numbers[j] ∈ pentagon_set\n",
    "                minimum_difference = difference\n",
    "            end\n",
    "        end\n",
    "        if pentagon_numbers[i+1] - pentagon_numbers[i] > minimum_difference\n",
    "            break\n",
    "        end\n",
    "    end\n",
    "    return minimum_difference\n",
    "end"
   ]
  },
  {
   "cell_type": "code",
   "execution_count": 7,
   "id": "7a8e74e2",
   "metadata": {},
   "outputs": [
    {
     "name": "stdout",
     "output_type": "stream",
     "text": [
      "  108.878 ms (9 allocations: 55.07 MiB)\n"
     ]
    },
    {
     "data": {
      "text/plain": [
       "5482660"
      ]
     },
     "metadata": {},
     "output_type": "display_data"
    }
   ],
   "source": [
    "@btime pentagon(2_500_000)"
   ]
  },
  {
   "cell_type": "markdown",
   "id": "5eb15a41",
   "metadata": {},
   "source": [
    "### Save benchmark"
   ]
  },
  {
   "cell_type": "code",
   "execution_count": 8,
   "id": "8e3d7f53",
   "metadata": {},
   "outputs": [],
   "source": [
    "include(\"./euler.jl\")\n",
    "bm = @benchmark pentagon(2_500_000)\n",
    "euler.save_benchmark(44, bm);"
   ]
  }
 ],
 "metadata": {
  "kernelspec": {
   "display_name": "Julia 1.11.1",
   "language": "julia",
   "name": "julia-1.11"
  },
  "language_info": {
   "file_extension": ".jl",
   "mimetype": "application/julia",
   "name": "julia",
   "version": "1.11.1"
  }
 },
 "nbformat": 4,
 "nbformat_minor": 5
}
