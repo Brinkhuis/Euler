{
 "cells": [
  {
   "cell_type": "markdown",
   "id": "c6e2ad94-1596-4b05-a508-e71eeba93df9",
   "metadata": {},
   "source": [
    "# Problem 99\n",
    "https://projecteuler.net/problem=99"
   ]
  },
  {
   "cell_type": "code",
   "execution_count": 1,
   "id": "f48d8b01",
   "metadata": {},
   "outputs": [
    {
     "name": "stdout",
     "output_type": "stream",
     "text": [
      "Julia v1.11.1\n"
     ]
    }
   ],
   "source": [
    "println(\"Julia v\", string(VERSION))"
   ]
  },
  {
   "cell_type": "code",
   "execution_count": 2,
   "id": "0ef4b191",
   "metadata": {},
   "outputs": [],
   "source": [
    "using BenchmarkTools"
   ]
  },
  {
   "cell_type": "code",
   "execution_count": 3,
   "id": "5f18108d",
   "metadata": {},
   "outputs": [
    {
     "data": {
      "text/plain": [
       "5-element Vector{Vector{Int64}}:\n",
       " [519432, 525806]\n",
       " [632382, 518061]\n",
       " [78864, 613712]\n",
       " [466580, 530130]\n",
       " [780495, 510032]"
      ]
     },
     "metadata": {},
     "output_type": "display_data"
    }
   ],
   "source": [
    "URL = \"https://projecteuler.net/resources/documents/0099_base_exp.txt\"\n",
    "\n",
    "file = open(download(URL)) do f\n",
    "    readlines(f)\n",
    "end\n",
    "\n",
    "data = [[parse(Int, n) for n in split(line, \",\")] for line in file]\n",
    "\n",
    "@assert length(data) == 1000\n",
    "\n",
    "first(data, 5)"
   ]
  },
  {
   "cell_type": "markdown",
   "id": "261d4a8b",
   "metadata": {},
   "source": [
    "### Solution 1 (brute force)"
   ]
  },
  {
   "cell_type": "code",
   "execution_count": 4,
   "id": "c6a3969d",
   "metadata": {},
   "outputs": [
    {
     "name": "stdout",
     "output_type": "stream",
     "text": [
      "  16.236 s (280268 allocations: 10.93 GiB)\n"
     ]
    },
    {
     "data": {
      "text/plain": [
       "709"
      ]
     },
     "metadata": {},
     "output_type": "display_data"
    }
   ],
   "source": [
    "@btime last(findmax(big(x)^y for (x, y) in data))"
   ]
  },
  {
   "cell_type": "markdown",
   "id": "d53dff2a",
   "metadata": {},
   "source": [
    "### Solution 2 (log)"
   ]
  },
  {
   "cell_type": "markdown",
   "id": "4f8f833d",
   "metadata": {},
   "source": [
    "$$\\log(x^y) = y*\\log(x)$$"
   ]
  },
  {
   "cell_type": "code",
   "execution_count": 5,
   "id": "541714ee",
   "metadata": {},
   "outputs": [
    {
     "name": "stdout",
     "output_type": "stream",
     "text": [
      "  6.558 μs (3 allocations: 64 bytes)\n"
     ]
    },
    {
     "data": {
      "text/plain": [
       "709"
      ]
     },
     "metadata": {},
     "output_type": "display_data"
    }
   ],
   "source": [
    "@btime last(findmax(y * log(x) for (x, y) in data))"
   ]
  }
 ],
 "metadata": {
  "kernelspec": {
   "display_name": "Julia 1.11.1",
   "language": "julia",
   "name": "julia-1.11"
  },
  "language_info": {
   "file_extension": ".jl",
   "mimetype": "application/julia",
   "name": "julia",
   "version": "1.11.1"
  }
 },
 "nbformat": 4,
 "nbformat_minor": 5
}
