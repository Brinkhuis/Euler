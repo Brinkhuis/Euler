{
 "cells": [
  {
   "cell_type": "markdown",
   "id": "c6e2ad94-1596-4b05-a508-e71eeba93df9",
   "metadata": {},
   "source": [
    "# Problem 38\n",
    "https://projecteuler.net/problem=38"
   ]
  },
  {
   "cell_type": "code",
   "execution_count": 1,
   "id": "30b9cf51",
   "metadata": {},
   "outputs": [
    {
     "name": "stdout",
     "output_type": "stream",
     "text": [
      "Julia v1.11.1\n"
     ]
    }
   ],
   "source": [
    "println(\"Julia v\", string(VERSION))"
   ]
  },
  {
   "cell_type": "code",
   "execution_count": 2,
   "id": "9ddad57f",
   "metadata": {},
   "outputs": [],
   "source": [
    "using BenchmarkTools"
   ]
  },
  {
   "cell_type": "markdown",
   "id": "e4176e8e",
   "metadata": {},
   "source": [
    "### Solution"
   ]
  },
  {
   "cell_type": "code",
   "execution_count": 3,
   "id": "5c67a385",
   "metadata": {},
   "outputs": [],
   "source": [
    "ispandigital(num, n=9) = sort(digits(num)) == 1:n\n",
    "\n",
    "@assert ispandigital(4213, 4)\n",
    "@assert !ispandigital(4213)\n",
    "@assert ispandigital(987123654)"
   ]
  },
  {
   "cell_type": "code",
   "execution_count": 4,
   "id": "18f1457d",
   "metadata": {},
   "outputs": [
    {
     "data": {
      "text/plain": [
       "largest_pandigital_number (generic function with 4 methods)"
      ]
     },
     "metadata": {},
     "output_type": "display_data"
    }
   ],
   "source": [
    "function largest_pandigital_number(start=1, stop=10_000, x=9)\n",
    "    largest_pandigital = 0 # initial value\n",
    "    for i in start:stop\n",
    "        cps = \"\" # concatenated product string\n",
    "        integer = 1\n",
    "        while length(cps) < x\n",
    "            cps *= string(i * integer)\n",
    "            integer += 1\n",
    "        end\n",
    "        if length(cps) == 9 && !occursin('0', cps)\n",
    "            cpn = parse(Int64, cps) # concatenated product number\n",
    "            if ispandigital(cpn) && cpn > largest_pandigital\n",
    "                largest_pandigital = cpn\n",
    "            end\n",
    "        end\n",
    "    end\n",
    "    return largest_pandigital\n",
    "end       "
   ]
  },
  {
   "cell_type": "code",
   "execution_count": 5,
   "id": "0144b15e",
   "metadata": {},
   "outputs": [
    {
     "name": "stdout",
     "output_type": "stream",
     "text": [
      "  1.393 ms (86512 allocations: 2.70 MiB)\n"
     ]
    },
    {
     "data": {
      "text/plain": [
       "932718654"
      ]
     },
     "metadata": {},
     "output_type": "display_data"
    }
   ],
   "source": [
    "@btime largest_pandigital_number(1, 9999)"
   ]
  },
  {
   "cell_type": "markdown",
   "id": "072e9d5f",
   "metadata": {},
   "source": [
    "### Save benchmark"
   ]
  },
  {
   "cell_type": "code",
   "execution_count": 6,
   "id": "276d094d",
   "metadata": {},
   "outputs": [],
   "source": [
    "include(\"./euler.jl\")\n",
    "bm = @benchmark largest_pandigital_number(1, 9999)\n",
    "euler.save_benchmark(38, bm);"
   ]
  }
 ],
 "metadata": {
  "kernelspec": {
   "display_name": "Julia 1.11.1",
   "language": "julia",
   "name": "julia-1.11"
  },
  "language_info": {
   "file_extension": ".jl",
   "mimetype": "application/julia",
   "name": "julia",
   "version": "1.11.1"
  }
 },
 "nbformat": 4,
 "nbformat_minor": 5
}
