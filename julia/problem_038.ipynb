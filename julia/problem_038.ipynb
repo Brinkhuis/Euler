{
 "cells": [
  {
   "cell_type": "markdown",
   "id": "c6e2ad94-1596-4b05-a508-e71eeba93df9",
   "metadata": {},
   "source": [
    "## Problem 38\n",
    "https://projecteuler.net/problem=38"
   ]
  },
  {
   "cell_type": "code",
   "execution_count": 1,
   "id": "9ddad57f",
   "metadata": {},
   "outputs": [],
   "source": [
    "using BenchmarkTools"
   ]
  },
  {
   "cell_type": "code",
   "execution_count": 2,
   "id": "5c67a385",
   "metadata": {},
   "outputs": [
    {
     "data": {
      "text/plain": [
       "ispandigital (generic function with 2 methods)"
      ]
     },
     "metadata": {},
     "output_type": "display_data"
    }
   ],
   "source": [
    "ispandigital(num, n=9) = sort(digits(num)) == 1:n"
   ]
  },
  {
   "cell_type": "code",
   "execution_count": 3,
   "id": "5a42199e",
   "metadata": {},
   "outputs": [],
   "source": [
    "@assert ispandigital(4213, 4)\n",
    "@assert !ispandigital(4213)\n",
    "@assert ispandigital(987123654)"
   ]
  },
  {
   "cell_type": "code",
   "execution_count": 4,
   "id": "18f1457d",
   "metadata": {},
   "outputs": [
    {
     "data": {
      "text/plain": [
       "largest_pandigital_number (generic function with 4 methods)"
      ]
     },
     "metadata": {},
     "output_type": "display_data"
    }
   ],
   "source": [
    "function largest_pandigital_number(start=1, stop=10_000, x=9)\n",
    "    largest_pandigital = 0 # initial value\n",
    "    for i in start:stop\n",
    "        cps = \"\" # concatenated product string\n",
    "        integer = 1\n",
    "        while length(cps) < x\n",
    "            cps *= string(i * integer)\n",
    "            integer += 1\n",
    "        end\n",
    "        if length(cps) == 9 && !occursin('0', cps)\n",
    "            cpn = parse(Int64, cps) # concatenated product number\n",
    "            if ispandigital(cpn) && cpn > largest_pandigital\n",
    "                largest_pandigital = cpn\n",
    "            end\n",
    "        end\n",
    "    end\n",
    "    return largest_pandigital\n",
    "end       "
   ]
  },
  {
   "cell_type": "code",
   "execution_count": 5,
   "id": "c28db79f",
   "metadata": {},
   "outputs": [
    {
     "name": "stdout",
     "output_type": "stream",
     "text": [
      "  1.516 ms (80948 allocations: 3.47 MiB)\n"
     ]
    },
    {
     "data": {
      "text/plain": [
       "932718654"
      ]
     },
     "metadata": {},
     "output_type": "display_data"
    }
   ],
   "source": [
    "@btime largest_pandigital_number(1, 9999)"
   ]
  }
 ],
 "metadata": {
  "kernelspec": {
   "display_name": "Julia 1.10.5",
   "language": "julia",
   "name": "julia-1.10"
  },
  "language_info": {
   "file_extension": ".jl",
   "mimetype": "application/julia",
   "name": "julia",
   "version": "1.10.5"
  }
 },
 "nbformat": 4,
 "nbformat_minor": 5
}
