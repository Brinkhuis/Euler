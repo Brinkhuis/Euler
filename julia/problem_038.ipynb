{
 "cells": [
  {
   "cell_type": "markdown",
   "id": "c6e2ad94-1596-4b05-a508-e71eeba93df9",
   "metadata": {},
   "source": [
    "## Problem 38\n",
    "https://projecteuler.net/problem=38"
   ]
  },
  {
   "cell_type": "code",
   "execution_count": 1,
   "id": "9ddad57f",
   "metadata": {},
   "outputs": [],
   "source": [
    "using BenchmarkTools\n",
    "include(\"./euler.jl\");"
   ]
  },
  {
   "cell_type": "code",
   "execution_count": 2,
   "id": "5c67a385",
   "metadata": {},
   "outputs": [
    {
     "data": {
      "text/plain": [
       "ispandigital (generic function with 2 methods)"
      ]
     },
     "metadata": {},
     "output_type": "display_data"
    }
   ],
   "source": [
    "ispandigital(num, n=9) = sort(digits(num)) == 1:n"
   ]
  },
  {
   "cell_type": "code",
   "execution_count": 3,
   "id": "5a42199e",
   "metadata": {},
   "outputs": [],
   "source": [
    "@assert ispandigital(4213, 4)\n",
    "@assert !ispandigital(4213)\n",
    "@assert ispandigital(987123654)"
   ]
  },
  {
   "cell_type": "code",
   "execution_count": 4,
   "id": "18f1457d",
   "metadata": {},
   "outputs": [
    {
     "data": {
      "text/plain": [
       "largest_pandigital_number (generic function with 4 methods)"
      ]
     },
     "metadata": {},
     "output_type": "display_data"
    }
   ],
   "source": [
    "function largest_pandigital_number(start=1, stop=10_000, x=9)\n",
    "    largest_pandigital = 0 # initial value\n",
    "    for i in start:stop\n",
    "        cps = \"\" # concatenated product string\n",
    "        integer = 1\n",
    "        while length(cps) < x\n",
    "            cps *= string(i * integer)\n",
    "            integer += 1\n",
    "        end\n",
    "        if length(cps) == 9 && !occursin('0', cps)\n",
    "            cpn = parse(Int64, cps) # concatenated product number\n",
    "            if ispandigital(cpn) && cpn > largest_pandigital\n",
    "                largest_pandigital = cpn\n",
    "            end\n",
    "        end\n",
    "    end\n",
    "    return largest_pandigital\n",
    "end       "
   ]
  },
  {
   "cell_type": "code",
   "execution_count": 5,
   "id": "0144b15e",
   "metadata": {},
   "outputs": [
    {
     "data": {
      "text/plain": [
       "932718654"
      ]
     },
     "metadata": {},
     "output_type": "display_data"
    }
   ],
   "source": [
    "largest_pandigital_number(1, 9999)"
   ]
  },
  {
   "cell_type": "code",
   "execution_count": 6,
   "id": "c28db79f",
   "metadata": {},
   "outputs": [
    {
     "data": {
      "text/plain": [
       "BenchmarkTools.Trial: 2767 samples with 1 evaluation.\n",
       " Range \u001b[90m(\u001b[39m\u001b[36m\u001b[1mmin\u001b[22m\u001b[39m … \u001b[35mmax\u001b[39m\u001b[90m):  \u001b[39m\u001b[36m\u001b[1m1.432 ms\u001b[22m\u001b[39m … \u001b[35m  5.469 ms\u001b[39m  \u001b[90m┊\u001b[39m GC \u001b[90m(\u001b[39mmin … max\u001b[90m): \u001b[39m0.00% … 67.32%\n",
       " Time  \u001b[90m(\u001b[39m\u001b[34m\u001b[1mmedian\u001b[22m\u001b[39m\u001b[90m):     \u001b[39m\u001b[34m\u001b[1m1.651 ms               \u001b[22m\u001b[39m\u001b[90m┊\u001b[39m GC \u001b[90m(\u001b[39mmedian\u001b[90m):    \u001b[39m0.00%\n",
       " Time  \u001b[90m(\u001b[39m\u001b[32m\u001b[1mmean\u001b[22m\u001b[39m ± \u001b[32mσ\u001b[39m\u001b[90m):   \u001b[39m\u001b[32m\u001b[1m1.799 ms\u001b[22m\u001b[39m ± \u001b[32m445.335 μs\u001b[39m  \u001b[90m┊\u001b[39m GC \u001b[90m(\u001b[39mmean ± σ\u001b[90m):  \u001b[39m8.05% ± 13.68%\n",
       "\n",
       "  \u001b[39m▅\u001b[39m▄\u001b[39m▄\u001b[39m▂\u001b[39m▂\u001b[39m█\u001b[39m▆\u001b[34m▄\u001b[39m\u001b[39m▅\u001b[39m▇\u001b[39m▄\u001b[39m▂\u001b[32m▂\u001b[39m\u001b[39m▂\u001b[39m▂\u001b[39m \u001b[39m \u001b[39m \u001b[39m \u001b[39m \u001b[39m \u001b[39m \u001b[39m \u001b[39m \u001b[39m \u001b[39m \u001b[39m \u001b[39m \u001b[39m \u001b[39m \u001b[39m \u001b[39m \u001b[39m \u001b[39m \u001b[39m \u001b[39m \u001b[39m \u001b[39m \u001b[39m \u001b[39m \u001b[39m \u001b[39m \u001b[39m \u001b[39m▁\u001b[39m▁\u001b[39m \u001b[39m▁\u001b[39m▁\u001b[39m▁\u001b[39m▁\u001b[39m \u001b[39m▁\u001b[39m \u001b[39m \u001b[39m \u001b[39m \u001b[39m \u001b[39m \u001b[39m \u001b[39m \u001b[39m▁\n",
       "  \u001b[39m█\u001b[39m█\u001b[39m█\u001b[39m█\u001b[39m█\u001b[39m█\u001b[39m█\u001b[34m█\u001b[39m\u001b[39m█\u001b[39m█\u001b[39m█\u001b[39m█\u001b[32m█\u001b[39m\u001b[39m█\u001b[39m█\u001b[39m█\u001b[39m▇\u001b[39m▆\u001b[39m▅\u001b[39m▆\u001b[39m▄\u001b[39m▄\u001b[39m▃\u001b[39m▄\u001b[39m▁\u001b[39m▁\u001b[39m▁\u001b[39m▁\u001b[39m▁\u001b[39m▁\u001b[39m▁\u001b[39m▁\u001b[39m▃\u001b[39m▁\u001b[39m▁\u001b[39m▃\u001b[39m▁\u001b[39m▆\u001b[39m▃\u001b[39m▆\u001b[39m▅\u001b[39m▆\u001b[39m▆\u001b[39m█\u001b[39m█\u001b[39m█\u001b[39m█\u001b[39m█\u001b[39m█\u001b[39m█\u001b[39m█\u001b[39m█\u001b[39m█\u001b[39m▇\u001b[39m█\u001b[39m▃\u001b[39m▇\u001b[39m▆\u001b[39m▆\u001b[39m \u001b[39m█\n",
       "  1.43 ms\u001b[90m      \u001b[39m\u001b[90mHistogram: \u001b[39m\u001b[90m\u001b[1mlog(\u001b[22m\u001b[39m\u001b[90mfrequency\u001b[39m\u001b[90m\u001b[1m)\u001b[22m\u001b[39m\u001b[90m by time\u001b[39m      3.27 ms \u001b[0m\u001b[1m<\u001b[22m\n",
       "\n",
       " Memory estimate\u001b[90m: \u001b[39m\u001b[33m2.70 MiB\u001b[39m, allocs estimate\u001b[90m: \u001b[39m\u001b[33m86512\u001b[39m."
      ]
     },
     "metadata": {},
     "output_type": "display_data"
    }
   ],
   "source": [
    "b = @benchmark largest_pandigital_number(1, 9999)"
   ]
  },
  {
   "cell_type": "code",
   "execution_count": 7,
   "id": "5da34916",
   "metadata": {},
   "outputs": [],
   "source": [
    "euler.save_benchmark(38, b);"
   ]
  }
 ],
 "metadata": {
  "kernelspec": {
   "display_name": "Julia 1.11.0",
   "language": "julia",
   "name": "julia-1.11"
  },
  "language_info": {
   "file_extension": ".jl",
   "mimetype": "application/julia",
   "name": "julia",
   "version": "1.11.0"
  }
 },
 "nbformat": 4,
 "nbformat_minor": 5
}
