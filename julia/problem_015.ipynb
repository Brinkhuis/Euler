{
 "cells": [
  {
   "cell_type": "markdown",
   "id": "c6e2ad94-1596-4b05-a508-e71eeba93df9",
   "metadata": {},
   "source": [
    "## Problem 15\n",
    "https://projecteuler.net/problem=15"
   ]
  },
  {
   "cell_type": "markdown",
   "id": "0d6ac255",
   "metadata": {},
   "source": [
    "* Binominal problem (2 options): _right_ or _down_\n",
    "* n × n matrix: 2n sequential steps from _top left_ to _bottom right_\n",
    "* 20 × 20 matrix = 2 × 20 = 40 steps: 20× _right_ and 20× _down_"
   ]
  },
  {
   "cell_type": "markdown",
   "id": "e3a13fa4",
   "metadata": {},
   "source": [
    "$$ P = \\left( \\frac{n}{k} \\right) = \\frac{n!}{\\left( n - k \\right)! \\cdot k!} $$"
   ]
  },
  {
   "cell_type": "markdown",
   "id": "543921e3",
   "metadata": {},
   "source": [
    "$$ P = \\left( \\frac{40}{20} \\right) = \\frac{40!}{\\left( 40 - 20 \\right)! \\cdot 20!} $$"
   ]
  },
  {
   "cell_type": "code",
   "execution_count": 1,
   "id": "9d7f9afa",
   "metadata": {},
   "outputs": [
    {
     "data": {
      "text/plain": [
       "binom (generic function with 1 method)"
      ]
     },
     "metadata": {},
     "output_type": "display_data"
    }
   ],
   "source": [
    "binom(n, k)::BigInt = factorial(big(n))/(factorial(big(n-k))*factorial(big(k)))"
   ]
  },
  {
   "cell_type": "markdown",
   "id": "ed66a24d",
   "metadata": {},
   "source": [
    "$$ P = \\left( \\frac{4}{2} \\right) = 6$$"
   ]
  },
  {
   "cell_type": "code",
   "execution_count": 2,
   "id": "8078f674",
   "metadata": {},
   "outputs": [],
   "source": [
    "@assert binom(4, 2) == 6"
   ]
  },
  {
   "cell_type": "code",
   "execution_count": 3,
   "id": "90e6f75e",
   "metadata": {},
   "outputs": [
    {
     "data": {
      "text/plain": [
       "137846528820"
      ]
     },
     "metadata": {},
     "output_type": "display_data"
    }
   ],
   "source": [
    "binom(40, 20)"
   ]
  },
  {
   "cell_type": "code",
   "execution_count": 4,
   "id": "29bba315",
   "metadata": {},
   "outputs": [],
   "source": [
    "@assert binom(40, 20) == binomial(40, 20) # validate with Julia built-in function 'binominal()'"
   ]
  },
  {
   "cell_type": "markdown",
   "id": "e13a2592",
   "metadata": {},
   "source": [
    "Sources:\n",
    "* https://en.wikipedia.org/wiki/Lattice_path\n",
    "* https://stemhash.com/counting-lattice-paths\n"
   ]
  }
 ],
 "metadata": {
  "kernelspec": {
   "display_name": "Julia 1.10.5",
   "language": "julia",
   "name": "julia-1.10"
  },
  "language_info": {
   "file_extension": ".jl",
   "mimetype": "application/julia",
   "name": "julia",
   "version": "1.10.5"
  }
 },
 "nbformat": 4,
 "nbformat_minor": 5
}
