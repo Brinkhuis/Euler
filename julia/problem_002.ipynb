{
 "cells": [
  {
   "cell_type": "markdown",
   "id": "c6e2ad94-1596-4b05-a508-e71eeba93df9",
   "metadata": {},
   "source": [
    "# Problem 2\n",
    "https://projecteuler.net/problem=2"
   ]
  },
  {
   "cell_type": "code",
   "execution_count": 1,
   "id": "d69b0517",
   "metadata": {},
   "outputs": [
    {
     "name": "stdout",
     "output_type": "stream",
     "text": [
      "Julia v1.11.1\n"
     ]
    }
   ],
   "source": [
    "println(\"Julia v\", VERSION)"
   ]
  },
  {
   "cell_type": "code",
   "execution_count": 2,
   "id": "8bb33459",
   "metadata": {},
   "outputs": [],
   "source": [
    "using BenchmarkTools"
   ]
  },
  {
   "cell_type": "markdown",
   "id": "3c9f1c3e",
   "metadata": {},
   "source": [
    "### Solution 1 (full Fibonacci sequence)"
   ]
  },
  {
   "cell_type": "code",
   "execution_count": 3,
   "id": "7d2ebc28",
   "metadata": {},
   "outputs": [],
   "source": [
    "function fibonacci(n)\n",
    "    fib_seq = [1, 2]\n",
    "    while sum(fib_seq[end-1:end]) < n\n",
    "        push!(fib_seq, sum(fib_seq[end-1:end]))\n",
    "    end\n",
    "    return fib_seq\n",
    "end\n",
    "\n",
    "@assert fibonacci(100) == [1, 2, 3, 5, 8, 13, 21, 34, 55, 89]"
   ]
  },
  {
   "cell_type": "code",
   "execution_count": 4,
   "id": "351a3c47",
   "metadata": {},
   "outputs": [
    {
     "name": "stdout",
     "output_type": "stream",
     "text": [
      "  1.025 μs (129 allocations: 5.72 KiB)\n"
     ]
    },
    {
     "data": {
      "text/plain": [
       "4613732"
      ]
     },
     "metadata": {},
     "output_type": "display_data"
    }
   ],
   "source": [
    "@btime sum(filter(iseven, fibonacci(4_000_000)))"
   ]
  },
  {
   "cell_type": "markdown",
   "id": "84912ae6",
   "metadata": {},
   "source": [
    "### Solution 2 (keep last two in sequence)"
   ]
  },
  {
   "cell_type": "code",
   "execution_count": 5,
   "id": "e49959b6",
   "metadata": {},
   "outputs": [],
   "source": [
    "function sum_even_fib(n)\n",
    "    fib_seq = [1, 2]\n",
    "    fib_sum = fib_seq[end]\n",
    "    while sum(fib_seq) < n\n",
    "        push!(fib_seq, sum(fib_seq))\n",
    "        popfirst!(fib_seq)\n",
    "        if iseven(fib_seq[end])\n",
    "            fib_sum += fib_seq[end]\n",
    "        end\n",
    "    end\n",
    "    return fib_sum\n",
    "end\n",
    "\n",
    "@assert sum_even_fib(100) == 44"
   ]
  },
  {
   "cell_type": "code",
   "execution_count": 6,
   "id": "e3f2f765",
   "metadata": {},
   "outputs": [
    {
     "name": "stdout",
     "output_type": "stream",
     "text": [
      "  147.085 ns (3 allocations: 176 bytes)\n"
     ]
    },
    {
     "data": {
      "text/plain": [
       "4613732"
      ]
     },
     "metadata": {},
     "output_type": "display_data"
    }
   ],
   "source": [
    "@btime sum_even_fib(4_000_000)"
   ]
  },
  {
   "cell_type": "markdown",
   "id": "4457ab35",
   "metadata": {},
   "source": [
    "### Save benchmark"
   ]
  },
  {
   "cell_type": "code",
   "execution_count": 7,
   "id": "baf79c30",
   "metadata": {},
   "outputs": [],
   "source": [
    "include(\"./euler.jl\");\n",
    "b = @benchmark sum_even_fib(4_000_000)\n",
    "euler.save_benchmark(2, b);"
   ]
  }
 ],
 "metadata": {
  "kernelspec": {
   "display_name": "Julia 1.11.1",
   "language": "julia",
   "name": "julia-1.11"
  },
  "language_info": {
   "file_extension": ".jl",
   "mimetype": "application/julia",
   "name": "julia",
   "version": "1.11.1"
  }
 },
 "nbformat": 4,
 "nbformat_minor": 5
}
