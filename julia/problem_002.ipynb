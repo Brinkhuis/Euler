{
 "cells": [
  {
   "cell_type": "markdown",
   "id": "c6e2ad94-1596-4b05-a508-e71eeba93df9",
   "metadata": {},
   "source": [
    "## Problem 2\n",
    "https://projecteuler.net/problem=2"
   ]
  },
  {
   "cell_type": "code",
   "execution_count": 1,
   "id": "8bb33459",
   "metadata": {},
   "outputs": [],
   "source": [
    "using BenchmarkTools"
   ]
  },
  {
   "cell_type": "markdown",
   "id": "3c9f1c3e",
   "metadata": {},
   "source": [
    "#### Solution 1 (build full sequence)"
   ]
  },
  {
   "cell_type": "code",
   "execution_count": 2,
   "id": "7d2ebc28",
   "metadata": {},
   "outputs": [
    {
     "data": {
      "text/plain": [
       "fibonacci (generic function with 1 method)"
      ]
     },
     "metadata": {},
     "output_type": "display_data"
    }
   ],
   "source": [
    "function fibonacci(n)\n",
    "    fibonacci_sequence = [1, 2]\n",
    "    while sum(fibonacci_sequence[end-1:end]) < n\n",
    "        push!(fibonacci_sequence, sum(fibonacci_sequence[end-1:end]))\n",
    "    end\n",
    "    return fibonacci_sequence\n",
    "end"
   ]
  },
  {
   "cell_type": "code",
   "execution_count": 3,
   "id": "dba9ce86",
   "metadata": {},
   "outputs": [
    {
     "name": "stdout",
     "output_type": "stream",
     "text": [
      "  1.363 μs (65 allocations: 5.58 KiB)\n"
     ]
    },
    {
     "data": {
      "text/plain": [
       "4613732"
      ]
     },
     "metadata": {},
     "output_type": "display_data"
    }
   ],
   "source": [
    "@btime sum(filter(iseven, fibonacci(4_000_000)))"
   ]
  },
  {
   "cell_type": "markdown",
   "id": "84912ae6",
   "metadata": {},
   "source": [
    "#### Solution 2 (keep previous two)"
   ]
  },
  {
   "cell_type": "code",
   "execution_count": 4,
   "id": "e49959b6",
   "metadata": {},
   "outputs": [
    {
     "data": {
      "text/plain": [
       "fibonacci (generic function with 1 method)"
      ]
     },
     "metadata": {},
     "output_type": "display_data"
    }
   ],
   "source": [
    "function fibonacci(n)\n",
    "    previous_two = [1, 2]\n",
    "    counter = previous_two[end]\n",
    "    while sum(previous_two) < n\n",
    "        push!(previous_two, sum(previous_two))\n",
    "        popfirst!(previous_two)\n",
    "        if iseven(previous_two[end])\n",
    "            counter += previous_two[end]\n",
    "        end\n",
    "    end\n",
    "    return counter\n",
    "end"
   ]
  },
  {
   "cell_type": "code",
   "execution_count": 5,
   "id": "4b0199f0",
   "metadata": {},
   "outputs": [
    {
     "name": "stdout",
     "output_type": "stream",
     "text": [
      "  326.786 ns (2 allocations: 160 bytes)\n"
     ]
    },
    {
     "data": {
      "text/plain": [
       "4613732"
      ]
     },
     "metadata": {},
     "output_type": "display_data"
    }
   ],
   "source": [
    "@btime fibonacci(4_000_000)"
   ]
  }
 ],
 "metadata": {
  "kernelspec": {
   "display_name": "Julia 1.10.5",
   "language": "julia",
   "name": "julia-1.10"
  },
  "language_info": {
   "file_extension": ".jl",
   "mimetype": "application/julia",
   "name": "julia",
   "version": "1.10.5"
  }
 },
 "nbformat": 4,
 "nbformat_minor": 5
}
