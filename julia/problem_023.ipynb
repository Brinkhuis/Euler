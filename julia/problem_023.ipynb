{
 "cells": [
  {
   "cell_type": "markdown",
   "id": "c6e2ad94-1596-4b05-a508-e71eeba93df9",
   "metadata": {},
   "source": [
    "# Problem 23\n",
    "https://projecteuler.net/problem=23"
   ]
  },
  {
   "cell_type": "code",
   "execution_count": 1,
   "id": "d770386d",
   "metadata": {},
   "outputs": [
    {
     "name": "stdout",
     "output_type": "stream",
     "text": [
      "Julia v1.11.1\n"
     ]
    }
   ],
   "source": [
    "println(\"Julia v\", string(VERSION))"
   ]
  },
  {
   "cell_type": "code",
   "execution_count": 2,
   "id": "4289b3d4",
   "metadata": {},
   "outputs": [],
   "source": [
    "using BenchmarkTools"
   ]
  },
  {
   "cell_type": "markdown",
   "id": "33829227",
   "metadata": {},
   "source": [
    "### Solution 1 (brute force)"
   ]
  },
  {
   "cell_type": "code",
   "execution_count": 3,
   "id": "ec4a6db8",
   "metadata": {},
   "outputs": [],
   "source": [
    "hi = 28123;"
   ]
  },
  {
   "cell_type": "code",
   "execution_count": 4,
   "id": "64f84068",
   "metadata": {},
   "outputs": [],
   "source": [
    "function proper_divisors(n)\n",
    "    divisor_list = Int64[]\n",
    "    n ≤ 0 && return divisor_list\n",
    "    for divisor ∈ 1:isqrt(n)+1\n",
    "        if n % divisor == 0\n",
    "            append!(divisor_list, [n ÷ divisor, divisor])\n",
    "        end\n",
    "    end\n",
    "    return sort(unique(divisor_list))[begin:end-1]\n",
    "end\n",
    "\n",
    "# Note: for this solution, the last proper divisor `28` is removed.\n",
    "@assert proper_divisors(28) == [1, 2, 4, 7, 14]"
   ]
  },
  {
   "cell_type": "code",
   "execution_count": 5,
   "id": "6e32876c",
   "metadata": {},
   "outputs": [],
   "source": [
    "function is_abundant(n)::Bool\n",
    "    return sum(proper_divisors(n)) > n\n",
    "end\n",
    "\n",
    "@assert is_abundant(12)\n",
    "@assert !is_abundant(28)"
   ]
  },
  {
   "cell_type": "code",
   "execution_count": 6,
   "id": "29535e45",
   "metadata": {},
   "outputs": [
    {
     "data": {
      "text/plain": [
       "combinations (generic function with 1 method)"
      ]
     },
     "metadata": {},
     "output_type": "display_data"
    }
   ],
   "source": [
    "function combinations(abundants)\n",
    "    c = []\n",
    "    for i ∈ abundants\n",
    "        for j ∈ abundants\n",
    "            push!(c, (i, j, i+j))\n",
    "        end\n",
    "    end\n",
    "    return c\n",
    "end"
   ]
  },
  {
   "cell_type": "code",
   "execution_count": 7,
   "id": "5fc6f7ca",
   "metadata": {},
   "outputs": [
    {
     "data": {
      "text/plain": [
       "non_abundants_sums (generic function with 1 method)"
      ]
     },
     "metadata": {},
     "output_type": "display_data"
    }
   ],
   "source": [
    "function non_abundants_sums(combinations)\n",
    "    answer = 0\n",
    "    s = Set(x[end] for x ∈ combinations)\n",
    "    for i ∈ 1:hi\n",
    "        if i ∉ s\n",
    "            answer += i\n",
    "        end\n",
    "    end\n",
    "    return answer\n",
    "end"
   ]
  },
  {
   "cell_type": "code",
   "execution_count": 8,
   "id": "209ad304",
   "metadata": {},
   "outputs": [
    {
     "name": "stdout",
     "output_type": "stream",
     "text": [
      "  7.114 s (97636884 allocations: 3.52 GiB)\n"
     ]
    },
    {
     "data": {
      "text/plain": [
       "4179871"
      ]
     },
     "metadata": {},
     "output_type": "display_data"
    }
   ],
   "source": [
    "@btime non_abundants_sums(combinations(filter(is_abundant, 1:hi))) samples=1 evals=1"
   ]
  },
  {
   "cell_type": "markdown",
   "id": "8c747d88",
   "metadata": {},
   "source": [
    "### Solution 2 (build list of abundants during for-loop)"
   ]
  },
  {
   "cell_type": "code",
   "execution_count": 9,
   "id": "7d86da4d",
   "metadata": {},
   "outputs": [],
   "source": [
    "function proper_divisors(n)\n",
    "    divisor_list = Int64[]\n",
    "    n ≤ 0 && return divisor_list\n",
    "    for divisor ∈ 1:isqrt(n)+1\n",
    "        if n % divisor == 0\n",
    "            append!(divisor_list, [n ÷ divisor, divisor])\n",
    "        end\n",
    "    end\n",
    "    return sort(unique(divisor_list))[begin:end-1]\n",
    "end\n",
    "\n",
    "# Note: for this solution, the last proper divisor `28` is removed.\n",
    "@assert proper_divisors(28) == [1, 2, 4, 7, 14]"
   ]
  },
  {
   "cell_type": "code",
   "execution_count": 10,
   "id": "101be119",
   "metadata": {},
   "outputs": [
    {
     "data": {
      "text/plain": [
       "non_abundant_sums (generic function with 2 methods)"
      ]
     },
     "metadata": {},
     "output_type": "display_data"
    }
   ],
   "source": [
    "function non_abundant_sums(hi=28123)::Int\n",
    "    # init\n",
    "    non_abundant_sum = 0\n",
    "    abundants = Set() \n",
    "\n",
    "    for n in 1:hi\n",
    "        # build list of abundants\n",
    "        if sum(proper_divisors(n)) > n\n",
    "            push!(abundants, n)\n",
    "        end\n",
    "\n",
    "        # check if n minus any abunant num is an abundant num\n",
    "        if !any(abundant -> n - abundant ∈ abundants, abundants)\n",
    "            non_abundant_sum += n\n",
    "        end\n",
    "    end\n",
    "\n",
    "    return non_abundant_sum\n",
    "\n",
    "end"
   ]
  },
  {
   "cell_type": "code",
   "execution_count": 11,
   "id": "61e22eda",
   "metadata": {},
   "outputs": [
    {
     "name": "stdout",
     "output_type": "stream",
     "text": [
      "  170.561 ms (4934656 allocations: 179.14 MiB)\n"
     ]
    },
    {
     "data": {
      "text/plain": [
       "4179871"
      ]
     },
     "metadata": {},
     "output_type": "display_data"
    }
   ],
   "source": [
    "@btime non_abundant_sums()"
   ]
  },
  {
   "cell_type": "markdown",
   "id": "5c15b7ca",
   "metadata": {},
   "source": [
    "### Save benchmark"
   ]
  },
  {
   "cell_type": "code",
   "execution_count": null,
   "id": "5d99e98c",
   "metadata": {},
   "outputs": [],
   "source": [
    "include(\"./euler.jl\")\n",
    "bm = @benchmark non_abundant_sums()\n",
    "euler.save_benchmark(23, bm);"
   ]
  }
 ],
 "metadata": {
  "kernelspec": {
   "display_name": "Julia 1.11.1",
   "language": "julia",
   "name": "julia-1.11"
  },
  "language_info": {
   "file_extension": ".jl",
   "mimetype": "application/julia",
   "name": "julia",
   "version": "1.11.1"
  }
 },
 "nbformat": 4,
 "nbformat_minor": 5
}
