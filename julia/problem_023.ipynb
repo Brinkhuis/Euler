{
 "cells": [
  {
   "cell_type": "markdown",
   "id": "c6e2ad94-1596-4b05-a508-e71eeba93df9",
   "metadata": {},
   "source": [
    "## Problem 23\n",
    "https://projecteuler.net/problem=23"
   ]
  },
  {
   "cell_type": "code",
   "execution_count": 1,
   "id": "4289b3d4",
   "metadata": {},
   "outputs": [],
   "source": [
    "using BenchmarkTools"
   ]
  },
  {
   "cell_type": "code",
   "execution_count": 2,
   "id": "ec4a6db8",
   "metadata": {},
   "outputs": [
    {
     "data": {
      "text/plain": [
       "28123"
      ]
     },
     "metadata": {},
     "output_type": "display_data"
    }
   ],
   "source": [
    "hi = 28123"
   ]
  },
  {
   "cell_type": "code",
   "execution_count": 3,
   "id": "64f84068",
   "metadata": {},
   "outputs": [
    {
     "data": {
      "text/plain": [
       "proper_divisors (generic function with 1 method)"
      ]
     },
     "metadata": {},
     "output_type": "display_data"
    }
   ],
   "source": [
    "function proper_divisors(n)\n",
    "    divisor_list = Int64[]\n",
    "    n ≤ 0 && return divisor_list\n",
    "    for divisor ∈ 1:isqrt(n)+1\n",
    "        if n % divisor == 0\n",
    "            append!(divisor_list, [n ÷ divisor, divisor])\n",
    "        end\n",
    "    end\n",
    "    return sort(unique(divisor_list))[1:end-1]\n",
    "end"
   ]
  },
  {
   "cell_type": "code",
   "execution_count": 4,
   "id": "6e32876c",
   "metadata": {},
   "outputs": [
    {
     "data": {
      "text/plain": [
       "is_abundant (generic function with 1 method)"
      ]
     },
     "metadata": {},
     "output_type": "display_data"
    }
   ],
   "source": [
    "function is_abundant(n)::Bool\n",
    "    return sum(proper_divisors(n)) > n\n",
    "end"
   ]
  },
  {
   "cell_type": "code",
   "execution_count": 5,
   "id": "29535e45",
   "metadata": {},
   "outputs": [
    {
     "data": {
      "text/plain": [
       "combinations (generic function with 1 method)"
      ]
     },
     "metadata": {},
     "output_type": "display_data"
    }
   ],
   "source": [
    "function combinations(abundants)\n",
    "    c = []\n",
    "    for i ∈ abundants\n",
    "        for j ∈ abundants\n",
    "            push!(c, (i, j, i+j))\n",
    "        end\n",
    "    end\n",
    "    return c\n",
    "end"
   ]
  },
  {
   "cell_type": "code",
   "execution_count": 6,
   "id": "5fc6f7ca",
   "metadata": {},
   "outputs": [
    {
     "data": {
      "text/plain": [
       "non_abundants_sums (generic function with 1 method)"
      ]
     },
     "metadata": {},
     "output_type": "display_data"
    }
   ],
   "source": [
    "function non_abundants_sums(combinations)\n",
    "    answer = 0\n",
    "    s = Set(x[end] for x ∈ combinations)\n",
    "        for i ∈ 1:hi\n",
    "            if i ∉ s\n",
    "                answer += i\n",
    "            end\n",
    "        end\n",
    "    return answer\n",
    "end"
   ]
  },
  {
   "cell_type": "code",
   "execution_count": 7,
   "id": "5d99e98c",
   "metadata": {},
   "outputs": [
    {
     "name": "stdout",
     "output_type": "stream",
     "text": [
      "  4.243 s (97579686 allocations: 2.70 GiB)\n"
     ]
    },
    {
     "data": {
      "text/plain": [
       "4179871"
      ]
     },
     "metadata": {},
     "output_type": "display_data"
    }
   ],
   "source": [
    "@btime non_abundants_sums(combinations(filter(is_abundant, 1:hi)))"
   ]
  }
 ],
 "metadata": {
  "kernelspec": {
   "display_name": "Julia 1.10.5",
   "language": "julia",
   "name": "julia-1.10"
  },
  "language_info": {
   "file_extension": ".jl",
   "mimetype": "application/julia",
   "name": "julia",
   "version": "1.10.5"
  }
 },
 "nbformat": 4,
 "nbformat_minor": 5
}
