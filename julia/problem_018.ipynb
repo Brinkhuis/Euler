{
 "cells": [
  {
   "cell_type": "markdown",
   "id": "c6e2ad94-1596-4b05-a508-e71eeba93df9",
   "metadata": {},
   "source": [
    "## Problem 18\n",
    "https://projecteuler.net/problem=18"
   ]
  },
  {
   "cell_type": "markdown",
   "id": "fdc66692",
   "metadata": {},
   "source": [
    "__Steps to solve the problem__\n",
    "\n",
    "A top-down approach leads to a local maximum and is know as a 'greedy algorithm'.  \n",
    "An bottom-up approach guarantees a global maximum (and is way faster than a 'brute force' approach that tries to calculate all possible paths).\n",
    "\n",
    "Example:\n",
    "\n",
    "```\n",
    "      03      \n",
    "    05  04    \n",
    "  08  07  05  \n",
    "02  04  08  09\n",
    "```\n",
    "\n",
    "Top-down approach:  \n",
    "03 + 05 + 08 + 04 = 20\n",
    "\n",
    "Bottom-up approach:  \n",
    "08 + 07 + 05 + 03 = 23"
   ]
  },
  {
   "cell_type": "code",
   "execution_count": 1,
   "id": "a9bc5148",
   "metadata": {},
   "outputs": [
    {
     "data": {
      "text/plain": [
       "4-element Vector{Vector{Int64}}:\n",
       " [3]\n",
       " [5, 4]\n",
       " [8, 7, 5]\n",
       " [2, 4, 8, 9]"
      ]
     },
     "metadata": {},
     "output_type": "display_data"
    }
   ],
   "source": [
    "raw = \"\n",
    "      03      \n",
    "    05  04    \n",
    "  08  07  05  \n",
    "02  04  08  09\n",
    "\"\n",
    "\n",
    "triangle = [[parse(Int64, item) for item in elem] for elem in [split(line) for line in split(raw, \"\\n\")[2:end-1]]]"
   ]
  },
  {
   "cell_type": "markdown",
   "id": "424642e2",
   "metadata": {},
   "source": [
    "#### First Solution"
   ]
  },
  {
   "cell_type": "code",
   "execution_count": 2,
   "id": "f87473d2",
   "metadata": {},
   "outputs": [
    {
     "data": {
      "text/plain": [
       "maximum_path_sum (generic function with 1 method)"
      ]
     },
     "metadata": {},
     "output_type": "display_data"
    }
   ],
   "source": [
    "function maximum_path_sum(triangle)\n",
    "    data = reverse(triangle)\n",
    "    for i in 1:length(data)-1\n",
    "        next_line = Int64[]\n",
    "        for j in 1:length(data[i])-1\n",
    "            push!(next_line, maximum([data[i][j]+data[i+1][j], data[i][j+1]+data[i+1][j]]))\n",
    "        end\n",
    "        data[i+1] = next_line\n",
    "    end\n",
    "    return reverse(data)[1][1]\n",
    "end"
   ]
  },
  {
   "cell_type": "code",
   "execution_count": 3,
   "id": "adf1e58e",
   "metadata": {},
   "outputs": [],
   "source": [
    "triangle = [[parse(Int64, item) for item in elem] for elem in [split(line) for line in split(raw, \"\\n\")[2:end-1]]]\n",
    "@assert maximum_path_sum(triangle) == 23"
   ]
  },
  {
   "cell_type": "markdown",
   "id": "481149a1",
   "metadata": {},
   "source": [
    "#### Optimized Solution"
   ]
  },
  {
   "cell_type": "code",
   "execution_count": 4,
   "id": "1c7149f5",
   "metadata": {},
   "outputs": [
    {
     "data": {
      "text/plain": [
       "maximum_path_sum (generic function with 1 method)"
      ]
     },
     "metadata": {},
     "output_type": "display_data"
    }
   ],
   "source": [
    "function maximum_path_sum(triangle)\n",
    "    data = reverse(triangle)\n",
    "    for i in 1:length(data)-1\n",
    "        for j in 1:length(data[i])-1\n",
    "            data[i+1][j] = maximum([data[i][j]+data[i+1][j], data[i][j+1]+data[i+1][j]])\n",
    "        end\n",
    "    end\n",
    "    return reverse(data)[1][1]\n",
    "end"
   ]
  },
  {
   "cell_type": "code",
   "execution_count": 5,
   "id": "5919c58b",
   "metadata": {},
   "outputs": [],
   "source": [
    "triangle = [[parse(Int64, item) for item in elem] for elem in [split(line) for line in split(raw, \"\\n\")[2:end-1]]]\n",
    "@assert maximum_path_sum(triangle) == 23"
   ]
  },
  {
   "cell_type": "markdown",
   "id": "e051facd",
   "metadata": {},
   "source": [
    "#### Final Solution"
   ]
  },
  {
   "cell_type": "code",
   "execution_count": 6,
   "id": "e9c8f51a",
   "metadata": {},
   "outputs": [
    {
     "data": {
      "text/plain": [
       "maximum_path_sum (generic function with 1 method)"
      ]
     },
     "metadata": {},
     "output_type": "display_data"
    }
   ],
   "source": [
    "function maximum_path_sum(triangle)\n",
    "    data = reverse(triangle)\n",
    "    for i in 1:length(data)-1, j in 1:length(data[i])-1\n",
    "        data[i+1][j] = maximum([data[i][j]+data[i+1][j], data[i][j+1]+data[i+1][j]])\n",
    "    end\n",
    "    return reverse(data)[1][1]\n",
    "end"
   ]
  },
  {
   "cell_type": "code",
   "execution_count": 7,
   "id": "fc8f5197",
   "metadata": {},
   "outputs": [
    {
     "data": {
      "text/plain": [
       "23"
      ]
     },
     "metadata": {},
     "output_type": "display_data"
    }
   ],
   "source": [
    "triangle = [[parse(Int64, item) for item in elem] for elem in [split(line) for line in split(raw, \"\\n\")[2:end-1]]]\n",
    "maximum_path_sum(triangle)"
   ]
  },
  {
   "cell_type": "markdown",
   "id": "39391421",
   "metadata": {},
   "source": [
    "#### Answer"
   ]
  },
  {
   "cell_type": "code",
   "execution_count": 8,
   "id": "a91c95af",
   "metadata": {},
   "outputs": [],
   "source": [
    "raw = \"\n",
    "                            75\n",
    "                          95  64\n",
    "                        17  47  82\n",
    "                      18  35  87  10\n",
    "                    20  04  82  47  65\n",
    "                  19  01  23  75  03  34\n",
    "                88  02  77  73  07  63  67\n",
    "              99  65  04  28  06  16  70  92\n",
    "            41  41  26  56  83  40  80  70  33\n",
    "          41  48  72  33  47  32  37  16  94  29\n",
    "        53  71  44  65  25  43  91  52  97  51  14\n",
    "      70  11  33  28  77  73  17  78  39  68  17  57\n",
    "    91  71  52  38  17  14  91  43  58  50  27  29  48\n",
    "  63  66  04  68  89  53  67  30  73  16  69  87  40  31\n",
    "04  62  98  27  23  09  70  98  73  93  38  53  60  04  23\n",
    "\"\n",
    "\n",
    "triangle = [[parse(Int64, item) for item in elem] for elem in [split(line) for line in split(raw, \"\\n\")[2:end-1]]];"
   ]
  },
  {
   "cell_type": "code",
   "execution_count": 9,
   "id": "1b8ed5ab",
   "metadata": {},
   "outputs": [
    {
     "name": "stdout",
     "output_type": "stream",
     "text": [
      "  0.000006 seconds (108 allocations: 8.562 KiB)\n"
     ]
    },
    {
     "data": {
      "text/plain": [
       "1074"
      ]
     },
     "metadata": {},
     "output_type": "display_data"
    }
   ],
   "source": [
    "@time maximum_path_sum(triangle)"
   ]
  }
 ],
 "metadata": {
  "kernelspec": {
   "display_name": "Julia 1.10.5",
   "language": "julia",
   "name": "julia-1.10"
  },
  "language_info": {
   "file_extension": ".jl",
   "mimetype": "application/julia",
   "name": "julia",
   "version": "1.10.5"
  }
 },
 "nbformat": 4,
 "nbformat_minor": 5
}
