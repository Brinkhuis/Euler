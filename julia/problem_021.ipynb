{
 "cells": [
  {
   "cell_type": "markdown",
   "id": "c6e2ad94-1596-4b05-a508-e71eeba93df9",
   "metadata": {},
   "source": [
    "## Problem 21\n",
    "https://projecteuler.net/problem=21"
   ]
  },
  {
   "cell_type": "code",
   "execution_count": 1,
   "id": "1fb3914e",
   "metadata": {},
   "outputs": [],
   "source": [
    "using BenchmarkTools"
   ]
  },
  {
   "cell_type": "code",
   "execution_count": 2,
   "id": "e67b5d26",
   "metadata": {},
   "outputs": [
    {
     "data": {
      "text/plain": [
       "divisors (generic function with 1 method)"
      ]
     },
     "metadata": {},
     "output_type": "display_data"
    }
   ],
   "source": [
    "function divisors(n)\n",
    "    divisor_list = Int64[]\n",
    "    n ≤ 0 && return divisor_list\n",
    "    for divisor in 1:isqrt(n)+1\n",
    "        if n % divisor == 0\n",
    "            append!(divisor_list, [n ÷ divisor, divisor])\n",
    "        end\n",
    "    end\n",
    "    return sort(unique(divisor_list))\n",
    "end"
   ]
  },
  {
   "cell_type": "code",
   "execution_count": 3,
   "id": "e526b001",
   "metadata": {},
   "outputs": [
    {
     "data": {
      "text/plain": [
       "is_amicable (generic function with 1 method)"
      ]
     },
     "metadata": {},
     "output_type": "display_data"
    }
   ],
   "source": [
    "function is_amicable(a)::Bool\n",
    "    b = sum(divisors(a)[1:end-1])\n",
    "    return (a ≠ b && sum(divisors(b)[1:end-1]) == a)\n",
    "end"
   ]
  },
  {
   "cell_type": "code",
   "execution_count": 4,
   "id": "1d04b7b1",
   "metadata": {},
   "outputs": [
    {
     "name": "stdout",
     "output_type": "stream",
     "text": [
      "  11.439 ms (320689 allocations: 33.93 MiB)\n"
     ]
    },
    {
     "data": {
      "text/plain": [
       "31626"
      ]
     },
     "metadata": {},
     "output_type": "display_data"
    }
   ],
   "source": [
    "@btime sum(filter(is_amicable, 1:9999))"
   ]
  }
 ],
 "metadata": {
  "kernelspec": {
   "display_name": "Julia 1.10.5",
   "language": "julia",
   "name": "julia-1.10"
  },
  "language_info": {
   "file_extension": ".jl",
   "mimetype": "application/julia",
   "name": "julia",
   "version": "1.10.5"
  }
 },
 "nbformat": 4,
 "nbformat_minor": 5
}
