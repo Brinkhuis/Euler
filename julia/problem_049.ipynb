{
 "cells": [
  {
   "cell_type": "markdown",
   "id": "c6e2ad94-1596-4b05-a508-e71eeba93df9",
   "metadata": {},
   "source": [
    "## Problem 49\n",
    "https://projecteuler.net/problem=49"
   ]
  },
  {
   "cell_type": "code",
   "execution_count": 1,
   "id": "236042ec",
   "metadata": {},
   "outputs": [],
   "source": [
    "# Packages\n",
    "using Primes, BenchmarkTools"
   ]
  },
  {
   "cell_type": "code",
   "execution_count": 2,
   "id": "d64a3725",
   "metadata": {},
   "outputs": [
    {
     "data": {
      "text/plain": [
       "prime_permutations (generic function with 2 methods)"
      ]
     },
     "metadata": {},
     "output_type": "display_data"
    }
   ],
   "source": [
    "function prime_permutations(x=3330)\n",
    "\n",
    "    p = primes(1000, 9999)\n",
    "    filter!(n -> n ∉ [1487, 4817, 8147], p)\n",
    "\n",
    "    for a ∈ p\n",
    "        b = a + x\n",
    "        c = b + x\n",
    "        if b ∈ p && c ∈ p && sort(digits(a)) == sort(digits(b)) == sort(digits(c))\n",
    "            return (10^8)a + (10^4)b + c\n",
    "            break\n",
    "        end\n",
    "    end\n",
    "    \n",
    "end"
   ]
  },
  {
   "cell_type": "code",
   "execution_count": 3,
   "id": "19b36696",
   "metadata": {},
   "outputs": [
    {
     "name": "stdout",
     "output_type": "stream",
     "text": [
      "  138.458 μs (1219 allocations: 108.59 KiB)\n"
     ]
    },
    {
     "data": {
      "text/plain": [
       "296962999629"
      ]
     },
     "metadata": {},
     "output_type": "display_data"
    }
   ],
   "source": [
    "@btime prime_permutations()"
   ]
  }
 ],
 "metadata": {
  "kernelspec": {
   "display_name": "Julia 1.10.5",
   "language": "julia",
   "name": "julia-1.10"
  },
  "language_info": {
   "file_extension": ".jl",
   "mimetype": "application/julia",
   "name": "julia",
   "version": "1.10.5"
  }
 },
 "nbformat": 4,
 "nbformat_minor": 5
}
