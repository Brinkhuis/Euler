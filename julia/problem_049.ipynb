{
 "cells": [
  {
   "cell_type": "markdown",
   "id": "c6e2ad94-1596-4b05-a508-e71eeba93df9",
   "metadata": {},
   "source": [
    "## Problem 49\n",
    "https://projecteuler.net/problem=49"
   ]
  },
  {
   "cell_type": "code",
   "execution_count": 1,
   "id": "236042ec",
   "metadata": {},
   "outputs": [],
   "source": [
    "# Packages\n",
    "using Primes"
   ]
  },
  {
   "cell_type": "code",
   "execution_count": 2,
   "id": "8ba36a99",
   "metadata": {},
   "outputs": [],
   "source": [
    "# Next prime\n",
    "function next_prime(p)::Int64\n",
    "    p += 1\n",
    "    while !isprime(p)\n",
    "        p += 1\n",
    "    end\n",
    "    return p\n",
    "end;"
   ]
  },
  {
   "cell_type": "code",
   "execution_count": 3,
   "id": "779448a5",
   "metadata": {},
   "outputs": [
    {
     "data": {
      "text/plain": [
       "prime_range (generic function with 1 method)"
      ]
     },
     "metadata": {},
     "output_type": "display_data"
    }
   ],
   "source": [
    "# Prime range\n",
    "function prime_range(x, y)\n",
    "    primes = Int64[]\n",
    "    prime = x\n",
    "    while prime < y\n",
    "        prime = next_prime(prime)\n",
    "        push!(primes, prime)\n",
    "    end\n",
    "    return [prime for prime in primes if prime ≤ y]\n",
    "end"
   ]
  },
  {
   "cell_type": "code",
   "execution_count": 4,
   "id": "302be097",
   "metadata": {},
   "outputs": [],
   "source": [
    "# Primes\n",
    "primes = prime_range(1000, 9999);"
   ]
  },
  {
   "cell_type": "code",
   "execution_count": 5,
   "id": "6b270178",
   "metadata": {},
   "outputs": [],
   "source": [
    "# Permutations\n",
    "permutations = []\n",
    "for x in primes\n",
    "    perm = []\n",
    "    push!(perm, x)\n",
    "    xs = string(x)\n",
    "    for y in primes\n",
    "        ys = string(y)\n",
    "        if y > x && join(sort([c for c in xs])) == join(sort([c for c in ys]))\n",
    "            push!(perm, y)\n",
    "        end\n",
    "    end\n",
    "    push!(permutations, perm)\n",
    "end"
   ]
  },
  {
   "cell_type": "code",
   "execution_count": 6,
   "id": "8c636515",
   "metadata": {},
   "outputs": [],
   "source": [
    "# Permutations ≥ 3\n",
    "permutations = [permutation for permutation in permutations if length(permutation) ≥ 3];"
   ]
  },
  {
   "cell_type": "code",
   "execution_count": 7,
   "id": "cadf4ce7",
   "metadata": {},
   "outputs": [
    {
     "name": "stdout",
     "output_type": "stream",
     "text": [
      "(2969, 6299, 9629) --> 296962999629\n"
     ]
    }
   ],
   "source": [
    "# Answer\n",
    "for p in permutations\n",
    "    l = length(p)\n",
    "    combinations = [(i, j, k) for i in 1:l for j in 1:l for k in 1:l if k > j > i]\n",
    "    for c in combinations\n",
    "        if p[2] - p[1] == p[3] - p[2]\n",
    "            println((p[1], p[2], p[3]), \" --> \", join(string(p[1], p[2], p[3])))\n",
    "        end\n",
    "    end\n",
    "end"
   ]
  }
 ],
 "metadata": {
  "kernelspec": {
   "display_name": "Julia 1.10.5",
   "language": "julia",
   "name": "julia-1.10"
  },
  "language_info": {
   "file_extension": ".jl",
   "mimetype": "application/julia",
   "name": "julia",
   "version": "1.10.5"
  }
 },
 "nbformat": 4,
 "nbformat_minor": 5
}
