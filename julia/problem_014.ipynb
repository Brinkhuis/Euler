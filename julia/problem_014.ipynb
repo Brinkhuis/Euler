{
 "cells": [
  {
   "cell_type": "markdown",
   "id": "c6e2ad94-1596-4b05-a508-e71eeba93df9",
   "metadata": {},
   "source": [
    "# Problem 14\n",
    "https://projecteuler.net/problem=14"
   ]
  },
  {
   "cell_type": "code",
   "execution_count": 1,
   "id": "2dcc46b1",
   "metadata": {},
   "outputs": [
    {
     "name": "stdout",
     "output_type": "stream",
     "text": [
      "Julia v1.11.1\n"
     ]
    }
   ],
   "source": [
    "println(\"Julia v\", string(VERSION))"
   ]
  },
  {
   "cell_type": "code",
   "execution_count": 2,
   "id": "355f2fc8",
   "metadata": {},
   "outputs": [],
   "source": [
    "using BenchmarkTools"
   ]
  },
  {
   "cell_type": "code",
   "execution_count": 3,
   "id": "d49e09bd",
   "metadata": {},
   "outputs": [
    {
     "data": {
      "text/plain": [
       "even (generic function with 1 method)"
      ]
     },
     "metadata": {},
     "output_type": "display_data"
    }
   ],
   "source": [
    "even(n) = n/2"
   ]
  },
  {
   "cell_type": "code",
   "execution_count": 4,
   "id": "f3298e86",
   "metadata": {},
   "outputs": [
    {
     "data": {
      "text/plain": [
       "odd (generic function with 1 method)"
      ]
     },
     "metadata": {},
     "output_type": "display_data"
    }
   ],
   "source": [
    "odd(n) = 3n + 1"
   ]
  },
  {
   "cell_type": "markdown",
   "id": "4638a8b2",
   "metadata": {},
   "source": [
    "### Solution 1 (sequence vector)"
   ]
  },
  {
   "cell_type": "code",
   "execution_count": 5,
   "id": "d16547ce",
   "metadata": {},
   "outputs": [],
   "source": [
    "function collatz(n)\n",
    "    sequence = Int64[]\n",
    "    while n != 1\n",
    "        push!(sequence, n)\n",
    "        iseven(n) ? n = even(n) : n = odd(n)\n",
    "    end\n",
    "    push!(sequence, 1)\n",
    "    return sequence\n",
    "end\n",
    "\n",
    "@assert collatz(13) == [13, 40, 20, 10, 5, 16, 8, 4, 2, 1]"
   ]
  },
  {
   "cell_type": "code",
   "execution_count": 6,
   "id": "e5fffb60",
   "metadata": {},
   "outputs": [
    {
     "name": "stdout",
     "output_type": "stream",
     "text": [
      "  979.652 ms (4454575 allocations: 3.13 GiB)\n"
     ]
    },
    {
     "data": {
      "text/plain": [
       "837799"
      ]
     },
     "metadata": {},
     "output_type": "display_data"
    }
   ],
   "source": [
    "@btime begin\n",
    "   sequences = Dict(length(collatz(i)) => i for i in 1:1_000_000)\n",
    "   sequences[maximum(keys(sequences))]\n",
    "end"
   ]
  },
  {
   "cell_type": "markdown",
   "id": "ae83a515",
   "metadata": {},
   "source": [
    "### Solution 2 (sequence counter)"
   ]
  },
  {
   "cell_type": "code",
   "execution_count": 7,
   "id": "1bdf60bf",
   "metadata": {},
   "outputs": [],
   "source": [
    "function collatz(n)\n",
    "    counter = 1\n",
    "    while n != 1\n",
    "        counter += 1\n",
    "        iseven(n) ? n = even(n) : n = odd(n)\n",
    "    end\n",
    "    return counter\n",
    "end\n",
    "\n",
    "@assert collatz(13) == 10"
   ]
  },
  {
   "cell_type": "code",
   "execution_count": 8,
   "id": "14d4465a",
   "metadata": {},
   "outputs": [
    {
     "name": "stdout",
     "output_type": "stream",
     "text": [
      "  744.381 ms (0 allocations: 0 bytes)\n"
     ]
    },
    {
     "data": {
      "text/plain": [
       "837799"
      ]
     },
     "metadata": {},
     "output_type": "display_data"
    }
   ],
   "source": [
    "@btime begin\n",
    "    longest = 0\n",
    "    starting = 0\n",
    "    for i in 1:1_000_000\n",
    "        x = collatz(i)\n",
    "        if x > longest \n",
    "            longest = x\n",
    "            starting = i\n",
    "        end\n",
    "    end\n",
    "    starting\n",
    "end"
   ]
  },
  {
   "cell_type": "markdown",
   "id": "6d4ac324",
   "metadata": {},
   "source": [
    "### Solution 3 (oneliner)"
   ]
  },
  {
   "cell_type": "code",
   "execution_count": 9,
   "id": "3ba4202e",
   "metadata": {},
   "outputs": [],
   "source": [
    "function collatz(n)\n",
    "    counter = 1\n",
    "    while n != 1\n",
    "        counter += 1\n",
    "        iseven(n) ? n = even(n) : n = odd(n)\n",
    "    end\n",
    "    return counter\n",
    "end\n",
    "\n",
    "@assert collatz(13) == 10"
   ]
  },
  {
   "cell_type": "code",
   "execution_count": 10,
   "id": "a07607b6",
   "metadata": {},
   "outputs": [
    {
     "name": "stdout",
     "output_type": "stream",
     "text": [
      "  746.129 ms (0 allocations: 0 bytes)\n"
     ]
    },
    {
     "data": {
      "text/plain": [
       "837799"
      ]
     },
     "metadata": {},
     "output_type": "display_data"
    }
   ],
   "source": [
    "@btime last(maximum((collatz(n), n) for n in 1:1_000_000, dims=1))"
   ]
  },
  {
   "cell_type": "markdown",
   "id": "414b031a",
   "metadata": {},
   "source": [
    "### Save benchmark"
   ]
  },
  {
   "cell_type": "code",
   "execution_count": 11,
   "id": "1defd401",
   "metadata": {},
   "outputs": [],
   "source": [
    "include(\"./euler.jl\")\n",
    "bm = @benchmark last(maximum((collatz(n), n) for n in 1:1_000_000, dims=1))\n",
    "euler.save_benchmark(14, bm);"
   ]
  }
 ],
 "metadata": {
  "kernelspec": {
   "display_name": "Julia 1.11.1",
   "language": "julia",
   "name": "julia-1.11"
  },
  "language_info": {
   "file_extension": ".jl",
   "mimetype": "application/julia",
   "name": "julia",
   "version": "1.11.1"
  }
 },
 "nbformat": 4,
 "nbformat_minor": 5
}
