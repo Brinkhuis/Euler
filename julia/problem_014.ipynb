{
 "cells": [
  {
   "cell_type": "markdown",
   "id": "c6e2ad94-1596-4b05-a508-e71eeba93df9",
   "metadata": {},
   "source": [
    "## Problem 14\n",
    "https://projecteuler.net/problem=14"
   ]
  },
  {
   "cell_type": "code",
   "execution_count": 1,
   "id": "355f2fc8",
   "metadata": {},
   "outputs": [],
   "source": [
    "using BenchmarkTools"
   ]
  },
  {
   "cell_type": "code",
   "execution_count": 2,
   "id": "d49e09bd",
   "metadata": {},
   "outputs": [
    {
     "data": {
      "text/plain": [
       "even (generic function with 1 method)"
      ]
     },
     "metadata": {},
     "output_type": "display_data"
    }
   ],
   "source": [
    "even(n) = n/2"
   ]
  },
  {
   "cell_type": "code",
   "execution_count": 3,
   "id": "f3298e86",
   "metadata": {},
   "outputs": [
    {
     "data": {
      "text/plain": [
       "odd (generic function with 1 method)"
      ]
     },
     "metadata": {},
     "output_type": "display_data"
    }
   ],
   "source": [
    "odd(n) = 3n + 1"
   ]
  },
  {
   "cell_type": "markdown",
   "id": "4638a8b2",
   "metadata": {},
   "source": [
    "#### Solution 1 (sequence vector)"
   ]
  },
  {
   "cell_type": "code",
   "execution_count": 4,
   "id": "d16547ce",
   "metadata": {},
   "outputs": [
    {
     "data": {
      "text/plain": [
       "collatz (generic function with 1 method)"
      ]
     },
     "metadata": {},
     "output_type": "display_data"
    }
   ],
   "source": [
    "function collatz(n)\n",
    "    sequence = Int64[]\n",
    "    while n != 1\n",
    "        push!(sequence, n)\n",
    "        iseven(n) ? n = even(n) : n = odd(n)\n",
    "    end\n",
    "    push!(sequence, 1)\n",
    "    return sequence\n",
    "end"
   ]
  },
  {
   "cell_type": "code",
   "execution_count": 5,
   "id": "e5fffb60",
   "metadata": {},
   "outputs": [
    {
     "name": "stdout",
     "output_type": "stream",
     "text": [
      "  1.183 s (4220342 allocations: 3.10 GiB)\n"
     ]
    },
    {
     "data": {
      "text/plain": [
       "837799"
      ]
     },
     "metadata": {},
     "output_type": "display_data"
    }
   ],
   "source": [
    "@btime begin\n",
    "   sequences = Dict(length(collatz(i)) => i for i in 1:1_000_000)\n",
    "   sequences[maximum(keys(sequences))]\n",
    "end\n"
   ]
  },
  {
   "cell_type": "markdown",
   "id": "ae83a515",
   "metadata": {},
   "source": [
    "#### Solution 2 (sequence counter)"
   ]
  },
  {
   "cell_type": "code",
   "execution_count": 6,
   "id": "1bdf60bf",
   "metadata": {},
   "outputs": [
    {
     "data": {
      "text/plain": [
       "collatz (generic function with 1 method)"
      ]
     },
     "metadata": {},
     "output_type": "display_data"
    }
   ],
   "source": [
    "function collatz(n)\n",
    "    counter = 1\n",
    "    while n != 1\n",
    "        counter += 1\n",
    "        iseven(n) ? n = even(n) : n = odd(n)\n",
    "    end\n",
    "    return counter\n",
    "end"
   ]
  },
  {
   "cell_type": "code",
   "execution_count": 7,
   "id": "14d4465a",
   "metadata": {},
   "outputs": [
    {
     "name": "stdout",
     "output_type": "stream",
     "text": [
      "  748.158 ms (0 allocations: 0 bytes)\n"
     ]
    },
    {
     "data": {
      "text/plain": [
       "837799"
      ]
     },
     "metadata": {},
     "output_type": "display_data"
    }
   ],
   "source": [
    "@btime begin\n",
    "    longest = 0\n",
    "    starting = 0\n",
    "    for i in 1:1_000_000\n",
    "        x = collatz(i)\n",
    "        if x > longest \n",
    "            longest = x\n",
    "            starting = i\n",
    "        end\n",
    "    end\n",
    "    starting\n",
    "end"
   ]
  },
  {
   "cell_type": "markdown",
   "id": "6d4ac324",
   "metadata": {},
   "source": [
    "#### Solution 3 (oneliner)"
   ]
  },
  {
   "cell_type": "code",
   "execution_count": 8,
   "id": "3ba4202e",
   "metadata": {},
   "outputs": [
    {
     "data": {
      "text/plain": [
       "collatz (generic function with 1 method)"
      ]
     },
     "metadata": {},
     "output_type": "display_data"
    }
   ],
   "source": [
    "function collatz(n)\n",
    "    counter = 1\n",
    "    while n != 1\n",
    "        counter += 1\n",
    "        iseven(n) ? n = even(n) : n = odd(n)\n",
    "    end\n",
    "    return counter\n",
    "end"
   ]
  },
  {
   "cell_type": "code",
   "execution_count": 9,
   "id": "a11a30b8",
   "metadata": {},
   "outputs": [
    {
     "name": "stdout",
     "output_type": "stream",
     "text": [
      "  749.364 ms (0 allocations: 0 bytes)\n"
     ]
    },
    {
     "data": {
      "text/plain": [
       "837799"
      ]
     },
     "metadata": {},
     "output_type": "display_data"
    }
   ],
   "source": [
    "@btime last(maximum((collatz(n), n) for n in 1:1_000_000, dims=1))"
   ]
  }
 ],
 "metadata": {
  "kernelspec": {
   "display_name": "Julia 1.10.5",
   "language": "julia",
   "name": "julia-1.10"
  },
  "language_info": {
   "file_extension": ".jl",
   "mimetype": "application/julia",
   "name": "julia",
   "version": "1.10.5"
  }
 },
 "nbformat": 4,
 "nbformat_minor": 5
}
