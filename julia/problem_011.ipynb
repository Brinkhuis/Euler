{
 "cells": [
  {
   "cell_type": "markdown",
   "id": "c6e2ad94-1596-4b05-a508-e71eeba93df9",
   "metadata": {},
   "source": [
    "## Problem 11\n",
    "https://projecteuler.net/problem=11"
   ]
  },
  {
   "cell_type": "code",
   "execution_count": 1,
   "id": "e961a0f3",
   "metadata": {},
   "outputs": [],
   "source": [
    "using BenchmarkTools, DelimitedFiles\n",
    "include(\"./euler.jl\");"
   ]
  },
  {
   "cell_type": "code",
   "execution_count": 2,
   "id": "1f22dca1",
   "metadata": {},
   "outputs": [],
   "source": [
    "file_name = \"0011_grid.txt\"\n",
    "file_path = \"../data/\"\n",
    "\n",
    "M = DelimitedFiles.readdlm(file_path * file_name, ' ', Int64);"
   ]
  },
  {
   "cell_type": "code",
   "execution_count": 3,
   "id": "4153ff21",
   "metadata": {},
   "outputs": [
    {
     "data": {
      "text/plain": [
       "get_lines (generic function with 1 method)"
      ]
     },
     "metadata": {},
     "output_type": "display_data"
    }
   ],
   "source": [
    "function get_lines(M::Matrix{Int64})\n",
    "\n",
    "    nrows = size(M, 1)\n",
    "    ncols = size(M, 2)\n",
    "    \n",
    "    h = [Int64[] for _ in 1:nrows] # horizontals (rows)\n",
    "    v = [Int64[] for _ in 1:ncols] # verticals (columns)\n",
    "    f = [Int64[] for _ in 1:(ncols + nrows - 1)] # forward diagonals\n",
    "    b = [Int64[] for _ in 1:(ncols + nrows - 1)] # backward diagonals\n",
    "\n",
    "    for i in 1:nrows \n",
    "        for j in 1:ncols\n",
    "            push!(h[i], M[i, j])\n",
    "            push!(v[j], M[i, j])\n",
    "            push!(f[i+j-1], M[i, j])\n",
    "            push!(b[j-i+nrows], M[i, j])\n",
    "        end\n",
    "    end\n",
    "\n",
    "    return Dict(\"horizontals\" => h, \"verticals\" => v, \"diagonals_forward\" => f, \"diagonals_backward\" => b)\n",
    "\n",
    "end"
   ]
  },
  {
   "cell_type": "code",
   "execution_count": 4,
   "id": "f762c8c9",
   "metadata": {},
   "outputs": [
    {
     "data": {
      "text/plain": [
       "get_lol (generic function with 1 method)"
      ]
     },
     "metadata": {},
     "output_type": "display_data"
    }
   ],
   "source": [
    "function get_lol(d::Dict)\n",
    "    \"\"\"\n",
    "    Get flattened \"list of lists\" from dictionary with \"list of lists\"\n",
    "    \"\"\"\n",
    "    return [list for sub_list in [value for value in values(d)] for list in sub_list]\n",
    "end"
   ]
  },
  {
   "cell_type": "code",
   "execution_count": 5,
   "id": "3ba4591a",
   "metadata": {},
   "outputs": [
    {
     "data": {
      "text/plain": [
       "adjacents (generic function with 2 methods)"
      ]
     },
     "metadata": {},
     "output_type": "display_data"
    }
   ],
   "source": [
    "function adjacents(list_of_lists, n=4)\n",
    "    a = [] # adjacents\n",
    "    for list in filter(l -> length(l) ≥ n, list_of_lists)\n",
    "        l = length(list)\n",
    "        s = l - n + 1 # stop\n",
    "        for i in 1:s\n",
    "            push!(a, list[i:i+n-1])\n",
    "        end\n",
    "    end\n",
    "    return a\n",
    "end"
   ]
  },
  {
   "cell_type": "code",
   "execution_count": 6,
   "id": "9ab09262",
   "metadata": {},
   "outputs": [
    {
     "data": {
      "text/plain": [
       "products (generic function with 1 method)"
      ]
     },
     "metadata": {},
     "output_type": "display_data"
    }
   ],
   "source": [
    "products(list_of_lists) = [prod(list) for list in list_of_lists]"
   ]
  },
  {
   "cell_type": "code",
   "execution_count": 7,
   "id": "429da137",
   "metadata": {},
   "outputs": [
    {
     "data": {
      "text/plain": [
       "70600674"
      ]
     },
     "metadata": {},
     "output_type": "display_data"
    }
   ],
   "source": [
    "maximum(products(adjacents(get_lol(get_lines(M)))))"
   ]
  },
  {
   "cell_type": "code",
   "execution_count": 8,
   "id": "77c11b03",
   "metadata": {},
   "outputs": [
    {
     "data": {
      "text/plain": [
       "BenchmarkTools.Trial: 10000 samples with 1 evaluation.\n",
       " Range \u001b[90m(\u001b[39m\u001b[36m\u001b[1mmin\u001b[22m\u001b[39m … \u001b[35mmax\u001b[39m\u001b[90m):  \u001b[39m\u001b[36m\u001b[1m49.000 μs\u001b[22m\u001b[39m … \u001b[35m 15.270 ms\u001b[39m  \u001b[90m┊\u001b[39m GC \u001b[90m(\u001b[39mmin … max\u001b[90m): \u001b[39m 0.00% … 99.28%\n",
       " Time  \u001b[90m(\u001b[39m\u001b[34m\u001b[1mmedian\u001b[22m\u001b[39m\u001b[90m):     \u001b[39m\u001b[34m\u001b[1m58.250 μs               \u001b[22m\u001b[39m\u001b[90m┊\u001b[39m GC \u001b[90m(\u001b[39mmedian\u001b[90m):    \u001b[39m 0.00%\n",
       " Time  \u001b[90m(\u001b[39m\u001b[32m\u001b[1mmean\u001b[22m\u001b[39m ± \u001b[32mσ\u001b[39m\u001b[90m):   \u001b[39m\u001b[32m\u001b[1m71.015 μs\u001b[22m\u001b[39m ± \u001b[32m211.804 μs\u001b[39m  \u001b[90m┊\u001b[39m GC \u001b[90m(\u001b[39mmean ± σ\u001b[90m):  \u001b[39m15.54% ±  7.12%\n",
       "\n",
       "  \u001b[39m \u001b[39m \u001b[39m \u001b[39m \u001b[39m \u001b[39m▄\u001b[39m█\u001b[39m \u001b[34m▂\u001b[39m\u001b[39m▆\u001b[39m \u001b[39m \u001b[39m \u001b[39m \u001b[39m \u001b[39m \u001b[39m \u001b[39m \u001b[39m \u001b[39m \u001b[32m \u001b[39m\u001b[39m \u001b[39m \u001b[39m \u001b[39m \u001b[39m \u001b[39m \u001b[39m \u001b[39m \u001b[39m \u001b[39m \u001b[39m \u001b[39m \u001b[39m \u001b[39m \u001b[39m \u001b[39m \u001b[39m \u001b[39m \u001b[39m \u001b[39m \u001b[39m \u001b[39m \u001b[39m \u001b[39m \u001b[39m \u001b[39m \u001b[39m \u001b[39m \u001b[39m \u001b[39m \u001b[39m \u001b[39m \u001b[39m \u001b[39m \u001b[39m \u001b[39m \u001b[39m \u001b[39m \u001b[39m \u001b[39m \u001b[39m \n",
       "  \u001b[39m▃\u001b[39m▄\u001b[39m▄\u001b[39m▃\u001b[39m▄\u001b[39m█\u001b[39m█\u001b[39m▇\u001b[34m█\u001b[39m\u001b[39m█\u001b[39m▆\u001b[39m▄\u001b[39m▄\u001b[39m▃\u001b[39m▃\u001b[39m▃\u001b[39m▃\u001b[39m▃\u001b[39m▃\u001b[39m▃\u001b[32m▂\u001b[39m\u001b[39m▂\u001b[39m▂\u001b[39m▂\u001b[39m▂\u001b[39m▂\u001b[39m▂\u001b[39m▂\u001b[39m▂\u001b[39m▂\u001b[39m▂\u001b[39m▂\u001b[39m▂\u001b[39m▂\u001b[39m▂\u001b[39m▂\u001b[39m▂\u001b[39m▂\u001b[39m▂\u001b[39m▂\u001b[39m▂\u001b[39m▂\u001b[39m▂\u001b[39m▂\u001b[39m▂\u001b[39m▂\u001b[39m▂\u001b[39m▂\u001b[39m▂\u001b[39m▂\u001b[39m▂\u001b[39m▂\u001b[39m▂\u001b[39m▂\u001b[39m▂\u001b[39m▂\u001b[39m▁\u001b[39m▂\u001b[39m▁\u001b[39m▂\u001b[39m \u001b[39m▃\n",
       "  49 μs\u001b[90m           Histogram: frequency by time\u001b[39m          117 μs \u001b[0m\u001b[1m<\u001b[22m\n",
       "\n",
       " Memory estimate\u001b[90m: \u001b[39m\u001b[33m218.62 KiB\u001b[39m, allocs estimate\u001b[90m: \u001b[39m\u001b[33m4057\u001b[39m."
      ]
     },
     "metadata": {},
     "output_type": "display_data"
    }
   ],
   "source": [
    "b = @benchmark maximum(products(adjacents(get_lol(get_lines(M)))))"
   ]
  },
  {
   "cell_type": "code",
   "execution_count": 9,
   "id": "20ecd43b",
   "metadata": {},
   "outputs": [],
   "source": [
    "euler.save_benchmark(11, b);"
   ]
  }
 ],
 "metadata": {
  "kernelspec": {
   "display_name": "Julia 1.11.0",
   "language": "julia",
   "name": "julia-1.11"
  },
  "language_info": {
   "file_extension": ".jl",
   "mimetype": "application/julia",
   "name": "julia",
   "version": "1.11.0"
  }
 },
 "nbformat": 4,
 "nbformat_minor": 5
}
