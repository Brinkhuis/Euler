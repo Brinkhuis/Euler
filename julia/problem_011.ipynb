{
 "cells": [
  {
   "cell_type": "markdown",
   "id": "c6e2ad94-1596-4b05-a508-e71eeba93df9",
   "metadata": {},
   "source": [
    "# Problem 11\n",
    "https://projecteuler.net/problem=11"
   ]
  },
  {
   "cell_type": "code",
   "execution_count": 1,
   "id": "ca031664",
   "metadata": {},
   "outputs": [
    {
     "name": "stdout",
     "output_type": "stream",
     "text": [
      "Julia v1.11.1\n"
     ]
    }
   ],
   "source": [
    "println(\"Julia v\", string(VERSION))"
   ]
  },
  {
   "cell_type": "code",
   "execution_count": 2,
   "id": "e961a0f3",
   "metadata": {},
   "outputs": [],
   "source": [
    "using DelimitedFiles\n",
    "using BenchmarkTools"
   ]
  },
  {
   "cell_type": "markdown",
   "id": "a5055614",
   "metadata": {},
   "source": [
    "### Solution"
   ]
  },
  {
   "cell_type": "code",
   "execution_count": 3,
   "id": "1f22dca1",
   "metadata": {},
   "outputs": [],
   "source": [
    "file_name = \"0011_grid.txt\"\n",
    "file_path = \"../data/\"\n",
    "\n",
    "M = DelimitedFiles.readdlm(file_path * file_name, ' ', Int64);"
   ]
  },
  {
   "cell_type": "code",
   "execution_count": 4,
   "id": "4153ff21",
   "metadata": {},
   "outputs": [
    {
     "data": {
      "text/plain": [
       "get_lines (generic function with 1 method)"
      ]
     },
     "metadata": {},
     "output_type": "display_data"
    }
   ],
   "source": [
    "function get_lines(M::Matrix{Int64})\n",
    "\n",
    "    nrows = size(M, 1)\n",
    "    ncols = size(M, 2)\n",
    "    \n",
    "    h = [Int64[] for _ in 1:nrows] # horizontals (rows)\n",
    "    v = [Int64[] for _ in 1:ncols] # verticals (columns)\n",
    "    f = [Int64[] for _ in 1:(ncols + nrows - 1)] # forward diagonals\n",
    "    b = [Int64[] for _ in 1:(ncols + nrows - 1)] # backward diagonals\n",
    "\n",
    "    for i in 1:nrows \n",
    "        for j in 1:ncols\n",
    "            push!(h[i], M[i, j])\n",
    "            push!(v[j], M[i, j])\n",
    "            push!(f[i+j-1], M[i, j])\n",
    "            push!(b[j-i+nrows], M[i, j])\n",
    "        end\n",
    "    end\n",
    "\n",
    "    return Dict(\"horizontals\" => h, \"verticals\" => v, \"diagonals_forward\" => f, \"diagonals_backward\" => b)\n",
    "\n",
    "end"
   ]
  },
  {
   "cell_type": "code",
   "execution_count": 5,
   "id": "f762c8c9",
   "metadata": {},
   "outputs": [
    {
     "data": {
      "text/plain": [
       "get_lol (generic function with 1 method)"
      ]
     },
     "metadata": {},
     "output_type": "display_data"
    }
   ],
   "source": [
    "function get_lol(d::Dict)\n",
    "    \"\"\"\n",
    "    Get flattened \"list of lists\" from dictionary with \"list of lists\"\n",
    "    \"\"\"\n",
    "    return [list for sub_list in [value for value in values(d)] for list in sub_list]\n",
    "end"
   ]
  },
  {
   "cell_type": "code",
   "execution_count": 6,
   "id": "3ba4591a",
   "metadata": {},
   "outputs": [
    {
     "data": {
      "text/plain": [
       "adjacents (generic function with 2 methods)"
      ]
     },
     "metadata": {},
     "output_type": "display_data"
    }
   ],
   "source": [
    "function adjacents(list_of_lists, n=4)\n",
    "    a = [] # adjacents\n",
    "    for list in filter(l -> length(l) ≥ n, list_of_lists)\n",
    "        l = length(list)\n",
    "        s = l - n + 1 # stop\n",
    "        for i in 1:s\n",
    "            push!(a, list[i:i+n-1])\n",
    "        end\n",
    "    end\n",
    "    return a\n",
    "end"
   ]
  },
  {
   "cell_type": "code",
   "execution_count": 7,
   "id": "9ab09262",
   "metadata": {},
   "outputs": [
    {
     "data": {
      "text/plain": [
       "products (generic function with 1 method)"
      ]
     },
     "metadata": {},
     "output_type": "display_data"
    }
   ],
   "source": [
    "products(list_of_lists) = [prod(list) for list in list_of_lists]"
   ]
  },
  {
   "cell_type": "code",
   "execution_count": 8,
   "id": "77c11b03",
   "metadata": {},
   "outputs": [
    {
     "name": "stdout",
     "output_type": "stream",
     "text": [
      "  52.625 μs (4057 allocations: 218.62 KiB)\n"
     ]
    },
    {
     "data": {
      "text/plain": [
       "70600674"
      ]
     },
     "metadata": {},
     "output_type": "display_data"
    }
   ],
   "source": [
    "@btime maximum(products(adjacents(get_lol(get_lines(M)))))"
   ]
  },
  {
   "cell_type": "markdown",
   "id": "fb860d66",
   "metadata": {},
   "source": [
    "### Save benchmark"
   ]
  },
  {
   "cell_type": "code",
   "execution_count": 9,
   "id": "20ecd43b",
   "metadata": {},
   "outputs": [],
   "source": [
    "include(\"./euler.jl\")\n",
    "bm = @benchmark maximum(products(adjacents(get_lol(get_lines(M)))))\n",
    "euler.save_benchmark(11, bm);"
   ]
  }
 ],
 "metadata": {
  "kernelspec": {
   "display_name": "Julia 1.11.1",
   "language": "julia",
   "name": "julia-1.11"
  },
  "language_info": {
   "file_extension": ".jl",
   "mimetype": "application/julia",
   "name": "julia",
   "version": "1.11.1"
  }
 },
 "nbformat": 4,
 "nbformat_minor": 5
}
