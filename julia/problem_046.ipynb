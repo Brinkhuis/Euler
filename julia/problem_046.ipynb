{
 "cells": [
  {
   "cell_type": "markdown",
   "id": "c6e2ad94-1596-4b05-a508-e71eeba93df9",
   "metadata": {},
   "source": [
    "# Problem 46\n",
    "https://projecteuler.net/problem=46"
   ]
  },
  {
   "cell_type": "code",
   "execution_count": 1,
   "id": "f4aaec09",
   "metadata": {},
   "outputs": [
    {
     "name": "stdout",
     "output_type": "stream",
     "text": [
      "Julia v1.11.1\n"
     ]
    }
   ],
   "source": [
    "println(\"Julia v\", string(VERSION))"
   ]
  },
  {
   "cell_type": "code",
   "execution_count": 2,
   "id": "43bdfe49",
   "metadata": {},
   "outputs": [],
   "source": [
    "using BenchmarkTools"
   ]
  },
  {
   "cell_type": "markdown",
   "id": "818b36ed",
   "metadata": {},
   "source": [
    "### Solution"
   ]
  },
  {
   "cell_type": "code",
   "execution_count": 3,
   "id": "ad3966c2",
   "metadata": {},
   "outputs": [],
   "source": [
    "using Primes"
   ]
  },
  {
   "cell_type": "code",
   "execution_count": 4,
   "id": "6665944a",
   "metadata": {},
   "outputs": [],
   "source": [
    "function square_numbers(high, low=1)\n",
    "    \"\"\"\n",
    "    square_numbers(25) == [1, 4, 9, 16, 25]\n",
    "    square_numbers(25, 9) == [9, 16, 25]\n",
    "    square_numbers(25, 10) == [16, 25]\n",
    "    \"\"\"\n",
    "    squares = Int64[]\n",
    "    n = Int64(ceil(sqrt(low)))\n",
    "    while n^2 ≤ high\n",
    "        push!(squares, n^2)\n",
    "        n += 1\n",
    "    end\n",
    "    return squares\n",
    "end\n",
    "\n",
    "@assert square_numbers(25) == [1, 4, 9, 16, 25]\n",
    "@assert square_numbers(25, 9) == [9, 16, 25]\n",
    "@assert square_numbers(25, 10) == [16, 25]"
   ]
  },
  {
   "cell_type": "code",
   "execution_count": 5,
   "id": "0d5962ce",
   "metadata": {},
   "outputs": [],
   "source": [
    "function is_goldbach(n)\n",
    "    \"\"\"\n",
    "    is_goldbach(7) == true\n",
    "    is_goldbach(8) == false\n",
    "    is_goldbach(9) == true\n",
    "    \"\"\"\n",
    "    if isodd(n)\n",
    "        squares = square_numbers(ceil(n/2))\n",
    "        return any([isprime(n-2s) for s in squares])\n",
    "    else\n",
    "        return false\n",
    "    end\n",
    "end\n",
    "\n",
    "@assert is_goldbach(7)\n",
    "@assert !is_goldbach(8)\n",
    "@assert is_goldbach(9)"
   ]
  },
  {
   "cell_type": "code",
   "execution_count": 6,
   "id": "5f496982",
   "metadata": {},
   "outputs": [
    {
     "data": {
      "text/plain": [
       "solution (generic function with 2 methods)"
      ]
     },
     "metadata": {},
     "output_type": "display_data"
    }
   ],
   "source": [
    "function solution(n=3)\n",
    "    while is_goldbach(n) || isprime(n)\n",
    "        n += 2 # odds only\n",
    "    end\n",
    "    return n\n",
    "end"
   ]
  },
  {
   "cell_type": "code",
   "execution_count": 7,
   "id": "46be4c73",
   "metadata": {},
   "outputs": [
    {
     "name": "stdout",
     "output_type": "stream",
     "text": [
      "  562.166 μs (15487 allocations: 3.21 MiB)\n"
     ]
    },
    {
     "data": {
      "text/plain": [
       "5777"
      ]
     },
     "metadata": {},
     "output_type": "display_data"
    }
   ],
   "source": [
    "@btime solution()"
   ]
  },
  {
   "cell_type": "markdown",
   "id": "bddc032d",
   "metadata": {},
   "source": [
    "### Save benchmark"
   ]
  },
  {
   "cell_type": "code",
   "execution_count": 8,
   "id": "a97141ef",
   "metadata": {},
   "outputs": [],
   "source": [
    "include(\"./euler.jl\")\n",
    "bm = @benchmark solution()\n",
    "euler.save_benchmark(46, bm);"
   ]
  }
 ],
 "metadata": {
  "kernelspec": {
   "display_name": "Julia 1.11.1",
   "language": "julia",
   "name": "julia-1.11"
  },
  "language_info": {
   "file_extension": ".jl",
   "mimetype": "application/julia",
   "name": "julia",
   "version": "1.11.1"
  }
 },
 "nbformat": 4,
 "nbformat_minor": 5
}
