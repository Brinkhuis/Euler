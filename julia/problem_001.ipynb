{
 "cells": [
  {
   "cell_type": "markdown",
   "id": "c6e2ad94-1596-4b05-a508-e71eeba93df9",
   "metadata": {},
   "source": [
    "# Problem 1\n",
    "https://projecteuler.net/problem=1"
   ]
  },
  {
   "cell_type": "code",
   "execution_count": 1,
   "id": "7266698d",
   "metadata": {},
   "outputs": [
    {
     "name": "stdout",
     "output_type": "stream",
     "text": [
      "Julia v1.11.1\n"
     ]
    }
   ],
   "source": [
    "println(\"Julia v\", VERSION)"
   ]
  },
  {
   "cell_type": "code",
   "execution_count": 2,
   "id": "5bb6cf2c",
   "metadata": {},
   "outputs": [],
   "source": [
    "using BenchmarkTools"
   ]
  },
  {
   "cell_type": "markdown",
   "id": "0e440f1a",
   "metadata": {},
   "source": [
    "### Solution 1 (union)"
   ]
  },
  {
   "cell_type": "code",
   "execution_count": 3,
   "id": "8d1372fa",
   "metadata": {},
   "outputs": [
    {
     "name": "stdout",
     "output_type": "stream",
     "text": [
      "  5.792 μs (21 allocations: 20.03 KiB)\n"
     ]
    },
    {
     "data": {
      "text/plain": [
       "233168"
      ]
     },
     "metadata": {},
     "output_type": "display_data"
    }
   ],
   "source": [
    "@btime sum(union(3:3:999, 5:5:999))"
   ]
  },
  {
   "cell_type": "markdown",
   "id": "3171befe",
   "metadata": {},
   "source": [
    "### Solution 2 (list comprehension)"
   ]
  },
  {
   "cell_type": "code",
   "execution_count": 4,
   "id": "725c3404",
   "metadata": {},
   "outputs": [
    {
     "name": "stdout",
     "output_type": "stream",
     "text": [
      "  628.409 ns (0 allocations: 0 bytes)\n"
     ]
    },
    {
     "data": {
      "text/plain": [
       "233168"
      ]
     },
     "metadata": {},
     "output_type": "display_data"
    }
   ],
   "source": [
    "@btime sum(n for n in 3:999 if n%3 == 0 || n%5 == 0)"
   ]
  },
  {
   "cell_type": "markdown",
   "id": "763b8ad0",
   "metadata": {},
   "source": [
    "### Solution 3 (conditional sum)"
   ]
  },
  {
   "cell_type": "code",
   "execution_count": 5,
   "id": "1e5a8101",
   "metadata": {},
   "outputs": [
    {
     "name": "stdout",
     "output_type": "stream",
     "text": [
      "  1.508 μs (6 allocations: 11.75 KiB)\n"
     ]
    },
    {
     "data": {
      "text/plain": [
       "233168"
      ]
     },
     "metadata": {},
     "output_type": "display_data"
    }
   ],
   "source": [
    "@btime sum(filter(n -> n%3 == 0 || n%5 == 0, 3:999))"
   ]
  },
  {
   "cell_type": "markdown",
   "id": "ab4a376c",
   "metadata": {},
   "source": [
    "### Solution 4 (ternary)"
   ]
  },
  {
   "cell_type": "code",
   "execution_count": 6,
   "id": "426f1bb3",
   "metadata": {},
   "outputs": [
    {
     "name": "stdout",
     "output_type": "stream",
     "text": [
      "  669.304 ns (0 allocations: 0 bytes)\n"
     ]
    },
    {
     "data": {
      "text/plain": [
       "233168"
      ]
     },
     "metadata": {},
     "output_type": "display_data"
    }
   ],
   "source": [
    "@btime sum(n -> n%3 == 0 || n%5 == 0 ? n : 0, 3:999)"
   ]
  },
  {
   "cell_type": "markdown",
   "id": "5d681d61",
   "metadata": {},
   "source": [
    "### Solution 5 (function)"
   ]
  },
  {
   "cell_type": "code",
   "execution_count": 7,
   "id": "d8e497fa",
   "metadata": {},
   "outputs": [],
   "source": [
    "function multiples(hi)\n",
    "    s = 0\n",
    "    for n ∈ 3:hi-1\n",
    "        if n%3 == 0 || n%5 == 0\n",
    "            s += n\n",
    "        end\n",
    "    end\n",
    "    return s\n",
    "end\n",
    "\n",
    "@assert multiples(10) == 23"
   ]
  },
  {
   "cell_type": "code",
   "execution_count": 8,
   "id": "c8f0cabc",
   "metadata": {},
   "outputs": [
    {
     "name": "stdout",
     "output_type": "stream",
     "text": [
      "  628.918 ns (0 allocations: 0 bytes)\n"
     ]
    },
    {
     "data": {
      "text/plain": [
       "233168"
      ]
     },
     "metadata": {},
     "output_type": "display_data"
    }
   ],
   "source": [
    "@btime multiples(1000)"
   ]
  },
  {
   "cell_type": "markdown",
   "id": "5507ba25",
   "metadata": {},
   "source": [
    "### Save benchmark"
   ]
  },
  {
   "cell_type": "code",
   "execution_count": 9,
   "id": "066e6afa",
   "metadata": {},
   "outputs": [],
   "source": [
    "include(\"./euler.jl\")\n",
    "bm = @benchmark sum(n for n in 3:999 if n%3 == 0 || n%5 == 0)\n",
    "euler.save_benchmark(1, bm);"
   ]
  }
 ],
 "metadata": {
  "kernelspec": {
   "display_name": "Julia 1.11.1",
   "language": "julia",
   "name": "julia-1.11"
  },
  "language_info": {
   "file_extension": ".jl",
   "mimetype": "application/julia",
   "name": "julia",
   "version": "1.11.1"
  }
 },
 "nbformat": 4,
 "nbformat_minor": 5
}
