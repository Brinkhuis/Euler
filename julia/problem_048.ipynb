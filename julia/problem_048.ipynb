{
 "cells": [
  {
   "cell_type": "markdown",
   "id": "c6e2ad94-1596-4b05-a508-e71eeba93df9",
   "metadata": {},
   "source": [
    "## Problem 48\n",
    "https://projecteuler.net/problem=48"
   ]
  },
  {
   "cell_type": "code",
   "execution_count": 1,
   "id": "29f97d68",
   "metadata": {},
   "outputs": [
    {
     "data": {
      "text/plain": [
       "sum_self_powers (generic function with 1 method)"
      ]
     },
     "metadata": {},
     "output_type": "display_data"
    }
   ],
   "source": [
    "# Sum self powers\n",
    "function sum_self_powers(n)::BigInt\n",
    "    s = big(0)\n",
    "    for i in 1:n\n",
    "        s += big(i)^big(i)\n",
    "    end\n",
    "    return s\n",
    "end"
   ]
  },
  {
   "cell_type": "code",
   "execution_count": 2,
   "id": "bdcd0ec2",
   "metadata": {},
   "outputs": [
    {
     "data": {
      "text/plain": [
       "true"
      ]
     },
     "metadata": {},
     "output_type": "display_data"
    }
   ],
   "source": [
    "# Test run\n",
    "sum_self_powers(10) == 10405071317"
   ]
  },
  {
   "cell_type": "code",
   "execution_count": 3,
   "id": "e1c2cefc",
   "metadata": {},
   "outputs": [
    {
     "data": {
      "text/plain": [
       "\"9110846700\""
      ]
     },
     "metadata": {},
     "output_type": "display_data"
    }
   ],
   "source": [
    "# Answer\n",
    "string(sum_self_powers(1_000))[end-9:end]"
   ]
  }
 ],
 "metadata": {
  "kernelspec": {
   "display_name": "Julia 1.10.5",
   "language": "julia",
   "name": "julia-1.10"
  },
  "language_info": {
   "file_extension": ".jl",
   "mimetype": "application/julia",
   "name": "julia",
   "version": "1.10.5"
  }
 },
 "nbformat": 4,
 "nbformat_minor": 5
}
