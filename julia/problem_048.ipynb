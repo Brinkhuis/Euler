{
 "cells": [
  {
   "cell_type": "markdown",
   "id": "c6e2ad94-1596-4b05-a508-e71eeba93df9",
   "metadata": {},
   "source": [
    "# Problem 48\n",
    "https://projecteuler.net/problem=48"
   ]
  },
  {
   "cell_type": "code",
   "execution_count": 1,
   "id": "8a4e0ff1",
   "metadata": {},
   "outputs": [
    {
     "name": "stdout",
     "output_type": "stream",
     "text": [
      "Julia v1.11.1\n"
     ]
    }
   ],
   "source": [
    "println(\"Julia v\", string(VERSION))"
   ]
  },
  {
   "cell_type": "code",
   "execution_count": 2,
   "id": "83fc0a8f",
   "metadata": {},
   "outputs": [],
   "source": [
    "using BenchmarkTools"
   ]
  },
  {
   "cell_type": "markdown",
   "id": "9c110f76",
   "metadata": {},
   "source": [
    "### Solution"
   ]
  },
  {
   "cell_type": "code",
   "execution_count": 3,
   "id": "29f97d68",
   "metadata": {},
   "outputs": [],
   "source": [
    "function sum_self_powers(n)::BigInt\n",
    "    s = big(0)\n",
    "    for i in 1:n\n",
    "        s += big(i)^big(i)\n",
    "    end\n",
    "    return s\n",
    "end\n",
    "\n",
    "@assert sum_self_powers(10) == 10405071317"
   ]
  },
  {
   "cell_type": "code",
   "execution_count": 4,
   "id": "9a436e84",
   "metadata": {},
   "outputs": [
    {
     "name": "stdout",
     "output_type": "stream",
     "text": [
      "  868.792 μs (9009 allocations: 1.30 MiB)\n"
     ]
    },
    {
     "data": {
      "text/plain": [
       "\"9110846700\""
      ]
     },
     "metadata": {},
     "output_type": "display_data"
    }
   ],
   "source": [
    "@btime string(sum_self_powers(1_000))[end-9:end]"
   ]
  },
  {
   "cell_type": "markdown",
   "id": "ba156b3f",
   "metadata": {},
   "source": [
    "### Save benchmark"
   ]
  },
  {
   "cell_type": "code",
   "execution_count": 5,
   "id": "41e982dd",
   "metadata": {},
   "outputs": [],
   "source": [
    "include(\"./euler.jl\")\n",
    "bm = @benchmark string(sum_self_powers(1_000))[end-9:end]\n",
    "euler.save_benchmark(48, bm);"
   ]
  }
 ],
 "metadata": {
  "kernelspec": {
   "display_name": "Julia 1.11.1",
   "language": "julia",
   "name": "julia-1.11"
  },
  "language_info": {
   "file_extension": ".jl",
   "mimetype": "application/julia",
   "name": "julia",
   "version": "1.11.1"
  }
 },
 "nbformat": 4,
 "nbformat_minor": 5
}
