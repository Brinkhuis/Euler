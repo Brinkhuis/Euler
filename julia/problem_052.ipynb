{
 "cells": [
  {
   "cell_type": "markdown",
   "id": "c6e2ad94-1596-4b05-a508-e71eeba93df9",
   "metadata": {},
   "source": [
    "## Problem 52\n",
    "https://projecteuler.net/problem=52"
   ]
  },
  {
   "cell_type": "code",
   "execution_count": 1,
   "id": "972a518a",
   "metadata": {},
   "outputs": [
    {
     "data": {
      "text/plain": [
       "sort_num (generic function with 1 method)"
      ]
     },
     "metadata": {},
     "output_type": "display_data"
    }
   ],
   "source": [
    "# Sort number\n",
    "function sort_num(num)\n",
    "    return join(sort([c for c in string(num)]))\n",
    "end"
   ]
  },
  {
   "cell_type": "code",
   "execution_count": 2,
   "id": "401c6cef",
   "metadata": {},
   "outputs": [
    {
     "data": {
      "text/plain": [
       "permuted_multiples (generic function with 1 method)"
      ]
     },
     "metadata": {},
     "output_type": "display_data"
    }
   ],
   "source": [
    "# Permuted Multiples\n",
    "function permuted_multiples(x, y)\n",
    "    n = 1\n",
    "    while true\n",
    "        nums = Int64[]\n",
    "        for f in x:y\n",
    "            push!(nums, f*n)\n",
    "        end\n",
    "        if sort_num(nums[1]) == sort_num(nums[2]) == sort_num(nums[3]) == sort_num(nums[4]) == sort_num(nums[5])\n",
    "            return n\n",
    "            break\n",
    "        end\n",
    "        n += 1\n",
    "    end\n",
    "end"
   ]
  },
  {
   "cell_type": "code",
   "execution_count": 3,
   "id": "b48a83dc",
   "metadata": {},
   "outputs": [
    {
     "data": {
      "text/plain": [
       "142857"
      ]
     },
     "metadata": {},
     "output_type": "display_data"
    }
   ],
   "source": [
    "# Answer\n",
    "permuted_multiples(2, 6)"
   ]
  }
 ],
 "metadata": {
  "kernelspec": {
   "display_name": "Julia 1.10.5",
   "language": "julia",
   "name": "julia-1.10"
  },
  "language_info": {
   "file_extension": ".jl",
   "mimetype": "application/julia",
   "name": "julia",
   "version": "1.10.5"
  }
 },
 "nbformat": 4,
 "nbformat_minor": 5
}
