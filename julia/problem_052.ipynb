{
 "cells": [
  {
   "cell_type": "markdown",
   "id": "c6e2ad94-1596-4b05-a508-e71eeba93df9",
   "metadata": {},
   "source": [
    "# Problem 52\n",
    "https://projecteuler.net/problem=52"
   ]
  },
  {
   "cell_type": "code",
   "execution_count": 1,
   "id": "6de76ef9",
   "metadata": {},
   "outputs": [
    {
     "name": "stdout",
     "output_type": "stream",
     "text": [
      "Julia v1.11.1\n"
     ]
    }
   ],
   "source": [
    "println(\"Julia v\", string(VERSION))"
   ]
  },
  {
   "cell_type": "code",
   "execution_count": 2,
   "id": "f1fc974a",
   "metadata": {},
   "outputs": [],
   "source": [
    "using BenchmarkTools"
   ]
  },
  {
   "cell_type": "markdown",
   "id": "e14b35ec",
   "metadata": {},
   "source": [
    "### Solution 1 (brute force)"
   ]
  },
  {
   "cell_type": "code",
   "execution_count": 3,
   "id": "972a518a",
   "metadata": {},
   "outputs": [],
   "source": [
    "function sort_num(num)\n",
    "    return join(sort([c for c in string(num)]))\n",
    "end\n",
    "\n",
    "@assert sort_num(53124) == \"12345\""
   ]
  },
  {
   "cell_type": "code",
   "execution_count": 4,
   "id": "401c6cef",
   "metadata": {},
   "outputs": [
    {
     "data": {
      "text/plain": [
       "permuted_multiples_bf (generic function with 1 method)"
      ]
     },
     "metadata": {},
     "output_type": "display_data"
    }
   ],
   "source": [
    "function permuted_multiples_bf()\n",
    "    n = 1\n",
    "    while true\n",
    "        nums = Int64[]\n",
    "        for f in 2:6\n",
    "            push!(nums, f*n)\n",
    "        end\n",
    "        if sort_num(nums[1]) == sort_num(nums[2]) == sort_num(nums[3]) == sort_num(nums[4]) == sort_num(nums[5])\n",
    "            return n\n",
    "            break\n",
    "        end\n",
    "        n += 1\n",
    "    end\n",
    "end"
   ]
  },
  {
   "cell_type": "code",
   "execution_count": 5,
   "id": "b48a83dc",
   "metadata": {},
   "outputs": [
    {
     "name": "stdout",
     "output_type": "stream",
     "text": [
      "  56.187 ms (2857491 allocations: 111.18 MiB)\n"
     ]
    },
    {
     "data": {
      "text/plain": [
       "142857"
      ]
     },
     "metadata": {},
     "output_type": "display_data"
    }
   ],
   "source": [
    "@btime permuted_multiples_bf()"
   ]
  },
  {
   "cell_type": "markdown",
   "id": "9344462d",
   "metadata": {},
   "source": [
    "### Solution 2 (limit ranges)"
   ]
  },
  {
   "cell_type": "markdown",
   "id": "3098e9cb",
   "metadata": {},
   "source": [
    "$$\\text{The highest multiplier is 6.}$$  \n",
    "\n",
    "$$\\text{So, for a 3-digit number the valid range is from} \\space 10^{2} \\space (= 100) \\space \\text{to} \\space \\frac{10^{3}-1}{6} \\space (≈ 166) \\text{.}$$  \n",
    "\n",
    "$$ \\text{Else, multiplication by 6 makes it a 4-digit number.}$$  \n",
    "\n",
    "$$\\text{Likewise, for a 4-digit number} 10^{3} \\space (= 1000) \\space \\text{to} \\space \\frac{10^{4}-1}{6} \\space (≈ 1666) \\text{.}$$ \n",
    "\n",
    "$$\\text{And so on.}$$"
   ]
  },
  {
   "cell_type": "code",
   "execution_count": 6,
   "id": "9e45efb6",
   "metadata": {},
   "outputs": [
    {
     "data": {
      "text/plain": [
       "permuted_multiples (generic function with 2 methods)"
      ]
     },
     "metadata": {},
     "output_type": "display_data"
    }
   ],
   "source": [
    "function permuted_multiples(x=6)\n",
    "    for exp in Iterators.countfrom(1)\n",
    "        for n in 10^exp:(10^(exp+1) ÷ x)\n",
    "            if allequal(sort([_ for _ in string(n*i)]) for i in 2:x)\n",
    "                return n\n",
    "            end\n",
    "        end\n",
    "    end\n",
    "end"
   ]
  },
  {
   "cell_type": "code",
   "execution_count": 7,
   "id": "6c5da2d9",
   "metadata": {},
   "outputs": [
    {
     "name": "stdout",
     "output_type": "stream",
     "text": [
      "  8.931 ms (603234 allocations: 20.71 MiB)\n"
     ]
    },
    {
     "data": {
      "text/plain": [
       "142857"
      ]
     },
     "metadata": {},
     "output_type": "display_data"
    }
   ],
   "source": [
    "@btime permuted_multiples()"
   ]
  }
 ],
 "metadata": {
  "kernelspec": {
   "display_name": "Julia 1.11.1",
   "language": "julia",
   "name": "julia-1.11"
  },
  "language_info": {
   "file_extension": ".jl",
   "mimetype": "application/julia",
   "name": "julia",
   "version": "1.11.1"
  }
 },
 "nbformat": 4,
 "nbformat_minor": 5
}
