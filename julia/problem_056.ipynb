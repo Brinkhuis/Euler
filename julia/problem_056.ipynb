{
 "cells": [
  {
   "cell_type": "markdown",
   "id": "c6e2ad94-1596-4b05-a508-e71eeba93df9",
   "metadata": {},
   "source": [
    "# Problem 56\n",
    "https://projecteuler.net/problem=56"
   ]
  },
  {
   "cell_type": "code",
   "execution_count": 1,
   "id": "729987e8",
   "metadata": {},
   "outputs": [
    {
     "name": "stdout",
     "output_type": "stream",
     "text": [
      "Julia v1.11.1\n"
     ]
    }
   ],
   "source": [
    "println(\"Julia v\", string(VERSION))"
   ]
  },
  {
   "cell_type": "code",
   "execution_count": 2,
   "id": "0ef4b191",
   "metadata": {},
   "outputs": [],
   "source": [
    "using BenchmarkTools"
   ]
  },
  {
   "cell_type": "markdown",
   "id": "9dc6bb66",
   "metadata": {},
   "source": [
    "### Solution 1 (function)"
   ]
  },
  {
   "cell_type": "code",
   "execution_count": 3,
   "id": "5c852c54",
   "metadata": {},
   "outputs": [
    {
     "data": {
      "text/plain": [
       "maximum_digital_sum (generic function with 2 methods)"
      ]
     },
     "metadata": {},
     "output_type": "display_data"
    }
   ],
   "source": [
    "function maximum_digital_sum(n=100)\n",
    "    mds = 0 # maximum digital sum\n",
    "    for a in 1:n, b in 1:n\n",
    "        ds = sum(digits(big(a)^b)) # digit sum\n",
    "        if ds > mds\n",
    "            mds = ds\n",
    "        end\n",
    "    end\n",
    "    return mds\n",
    "end"
   ]
  },
  {
   "cell_type": "code",
   "execution_count": 4,
   "id": "e5b28848",
   "metadata": {},
   "outputs": [
    {
     "name": "stdout",
     "output_type": "stream",
     "text": [
      "  5.392 ms (120731 allocations: 10.30 MiB)\n"
     ]
    },
    {
     "data": {
      "text/plain": [
       "972"
      ]
     },
     "metadata": {},
     "output_type": "display_data"
    }
   ],
   "source": [
    "@btime maximum_digital_sum()"
   ]
  },
  {
   "cell_type": "markdown",
   "id": "8408912e",
   "metadata": {},
   "source": [
    "### Solution 2 (oneliner)"
   ]
  },
  {
   "cell_type": "code",
   "execution_count": 5,
   "id": "a2dbdaff",
   "metadata": {},
   "outputs": [
    {
     "name": "stdout",
     "output_type": "stream",
     "text": [
      "  5.462 ms (120731 allocations: 10.30 MiB)\n"
     ]
    },
    {
     "data": {
      "text/plain": [
       "972"
      ]
     },
     "metadata": {},
     "output_type": "display_data"
    }
   ],
   "source": [
    "@btime maximum(sum(digits(big(a)^b)) for a in 1:100, b in 1:100)"
   ]
  }
 ],
 "metadata": {
  "kernelspec": {
   "display_name": "Julia 1.11.1",
   "language": "julia",
   "name": "julia-1.11"
  },
  "language_info": {
   "file_extension": ".jl",
   "mimetype": "application/julia",
   "name": "julia",
   "version": "1.11.1"
  }
 },
 "nbformat": 4,
 "nbformat_minor": 5
}
