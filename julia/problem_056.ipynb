{
 "cells": [
  {
   "cell_type": "markdown",
   "id": "c6e2ad94-1596-4b05-a508-e71eeba93df9",
   "metadata": {},
   "source": [
    "## Problem 56\n",
    "https://projecteuler.net/problem=56"
   ]
  },
  {
   "cell_type": "code",
   "execution_count": 1,
   "id": "0ef4b191",
   "metadata": {},
   "outputs": [],
   "source": [
    "using BenchmarkTools"
   ]
  },
  {
   "cell_type": "markdown",
   "id": "9dc6bb66",
   "metadata": {},
   "source": [
    "#### Solution 1"
   ]
  },
  {
   "cell_type": "code",
   "execution_count": 2,
   "id": "5c852c54",
   "metadata": {},
   "outputs": [
    {
     "data": {
      "text/plain": [
       "maximum_digital_sum (generic function with 2 methods)"
      ]
     },
     "metadata": {},
     "output_type": "display_data"
    }
   ],
   "source": [
    "function maximum_digital_sum(n=100)\n",
    "    mds = 0 # maximum digital sum\n",
    "    for a in 1:n, b in 1:n\n",
    "        ds = sum(digits(BigInt(a)^b)) # digit sum\n",
    "        if ds > mds\n",
    "            mds = ds\n",
    "        end\n",
    "    end\n",
    "    return mds\n",
    "end"
   ]
  },
  {
   "cell_type": "code",
   "execution_count": 3,
   "id": "d73d6add",
   "metadata": {},
   "outputs": [
    {
     "name": "stdout",
     "output_type": "stream",
     "text": [
      "  5.564 ms (110731 allocations: 10.61 MiB)\n"
     ]
    },
    {
     "data": {
      "text/plain": [
       "972"
      ]
     },
     "metadata": {},
     "output_type": "display_data"
    }
   ],
   "source": [
    "@btime maximum_digital_sum()"
   ]
  },
  {
   "cell_type": "markdown",
   "id": "8408912e",
   "metadata": {},
   "source": [
    "#### Solution 2"
   ]
  },
  {
   "cell_type": "code",
   "execution_count": 4,
   "id": "eea929e7",
   "metadata": {},
   "outputs": [
    {
     "name": "stdout",
     "output_type": "stream",
     "text": [
      "  5.589 ms (110731 allocations: 10.61 MiB)\n"
     ]
    },
    {
     "data": {
      "text/plain": [
       "972"
      ]
     },
     "metadata": {},
     "output_type": "display_data"
    }
   ],
   "source": [
    "@btime maximum(sum(digits(BigInt(a)^b)) for a in 1:100, b in 1:100)"
   ]
  }
 ],
 "metadata": {
  "kernelspec": {
   "display_name": "Julia 1.10.5",
   "language": "julia",
   "name": "julia-1.10"
  },
  "language_info": {
   "file_extension": ".jl",
   "mimetype": "application/julia",
   "name": "julia",
   "version": "1.10.5"
  }
 },
 "nbformat": 4,
 "nbformat_minor": 5
}
