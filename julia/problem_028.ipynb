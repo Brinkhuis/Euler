{
 "cells": [
  {
   "cell_type": "markdown",
   "id": "c6e2ad94-1596-4b05-a508-e71eeba93df9",
   "metadata": {},
   "source": [
    "## Problem 28\n",
    "https://projecteuler.net/problem=28"
   ]
  },
  {
   "cell_type": "code",
   "execution_count": 1,
   "id": "4289b3d4",
   "metadata": {},
   "outputs": [],
   "source": [
    "using BenchmarkTools"
   ]
  },
  {
   "cell_type": "code",
   "execution_count": 2,
   "id": "6d848674",
   "metadata": {},
   "outputs": [
    {
     "data": {
      "text/plain": [
       "number_spiral_diagonals (generic function with 1 method)"
      ]
     },
     "metadata": {},
     "output_type": "display_data"
    }
   ],
   "source": [
    "function number_spiral_diagonals(dims)\n",
    "    diagonal_sum = 1\n",
    "    diagonal_corner = 1\n",
    "    for s in 3:2:dims # side length\n",
    "        for _ in 1:4 # diagonal corner\n",
    "            diagonal_corner += s - 1\n",
    "            diagonal_sum += diagonal_corner\n",
    "        end\n",
    "    end\n",
    "    return diagonal_sum\n",
    "end"
   ]
  },
  {
   "cell_type": "code",
   "execution_count": 3,
   "id": "2acad9c5",
   "metadata": {},
   "outputs": [
    {
     "name": "stdout",
     "output_type": "stream",
     "text": [
      "  1.500 ns (0 allocations: 0 bytes)\n"
     ]
    },
    {
     "data": {
      "text/plain": [
       "669171001"
      ]
     },
     "metadata": {},
     "output_type": "display_data"
    }
   ],
   "source": [
    "@btime number_spiral_diagonals(1001)"
   ]
  }
 ],
 "metadata": {
  "kernelspec": {
   "display_name": "Julia 1.10.5",
   "language": "julia",
   "name": "julia-1.10"
  },
  "language_info": {
   "file_extension": ".jl",
   "mimetype": "application/julia",
   "name": "julia",
   "version": "1.10.5"
  }
 },
 "nbformat": 4,
 "nbformat_minor": 5
}
