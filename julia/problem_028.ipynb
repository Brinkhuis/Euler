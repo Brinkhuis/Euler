{
 "cells": [
  {
   "cell_type": "markdown",
   "id": "c6e2ad94-1596-4b05-a508-e71eeba93df9",
   "metadata": {},
   "source": [
    "# Problem 28\n",
    "https://projecteuler.net/problem=28"
   ]
  },
  {
   "cell_type": "code",
   "execution_count": 1,
   "id": "cf4c2a11",
   "metadata": {},
   "outputs": [
    {
     "name": "stdout",
     "output_type": "stream",
     "text": [
      "Julia v1.11.1\n"
     ]
    }
   ],
   "source": [
    "println(\"Julia v\", string(VERSION))"
   ]
  },
  {
   "cell_type": "code",
   "execution_count": 2,
   "id": "4289b3d4",
   "metadata": {},
   "outputs": [],
   "source": [
    "using BenchmarkTools"
   ]
  },
  {
   "cell_type": "markdown",
   "id": "6be017c1",
   "metadata": {},
   "source": [
    "### Solution"
   ]
  },
  {
   "cell_type": "code",
   "execution_count": 3,
   "id": "6d848674",
   "metadata": {},
   "outputs": [],
   "source": [
    "function number_spiral_diagonals(dims)\n",
    "    diagonal_sum = 1\n",
    "    diagonal_corner = 1\n",
    "    for s in 3:2:dims # side length\n",
    "        for _ in 1:4 # diagonal corner\n",
    "            diagonal_corner += s - 1\n",
    "            diagonal_sum += diagonal_corner\n",
    "        end\n",
    "    end\n",
    "    return diagonal_sum\n",
    "end\n",
    "\n",
    "@assert number_spiral_diagonals(5) == 101"
   ]
  },
  {
   "cell_type": "code",
   "execution_count": 4,
   "id": "fd3d40cd",
   "metadata": {},
   "outputs": [
    {
     "name": "stdout",
     "output_type": "stream",
     "text": [
      "  2.125 ns (0 allocations: 0 bytes)\n"
     ]
    },
    {
     "data": {
      "text/plain": [
       "669171001"
      ]
     },
     "metadata": {},
     "output_type": "display_data"
    }
   ],
   "source": [
    "@btime number_spiral_diagonals(1001)"
   ]
  },
  {
   "cell_type": "markdown",
   "id": "3c15f8c5",
   "metadata": {},
   "source": [
    "### Save benchmark"
   ]
  },
  {
   "cell_type": "code",
   "execution_count": 5,
   "id": "2acad9c5",
   "metadata": {},
   "outputs": [],
   "source": [
    "include(\"./euler.jl\")\n",
    "bm = @benchmark number_spiral_diagonals(1001)\n",
    "euler.save_benchmark(28, bm);"
   ]
  }
 ],
 "metadata": {
  "kernelspec": {
   "display_name": "Julia 1.11.1",
   "language": "julia",
   "name": "julia-1.11"
  },
  "language_info": {
   "file_extension": ".jl",
   "mimetype": "application/julia",
   "name": "julia",
   "version": "1.11.1"
  }
 },
 "nbformat": 4,
 "nbformat_minor": 5
}
