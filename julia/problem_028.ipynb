{
 "cells": [
  {
   "cell_type": "markdown",
   "id": "c6e2ad94-1596-4b05-a508-e71eeba93df9",
   "metadata": {},
   "source": [
    "## Problem 28\n",
    "https://projecteuler.net/problem=28"
   ]
  },
  {
   "cell_type": "code",
   "execution_count": 1,
   "id": "eea5bf7a",
   "metadata": {},
   "outputs": [],
   "source": [
    "using BenchmarkTools"
   ]
  },
  {
   "cell_type": "code",
   "execution_count": 2,
   "id": "1ef74e26",
   "metadata": {},
   "outputs": [
    {
     "data": {
      "text/plain": [
       "diagonal (generic function with 1 method)"
      ]
     },
     "metadata": {},
     "output_type": "display_data"
    }
   ],
   "source": [
    "function diagonal(n)\n",
    "    x = n*n\n",
    "    a = 1\n",
    "    counter = 1\n",
    "    nums = []\n",
    "    while a < x\n",
    "        push!(nums, a)\n",
    "        a += 2*counter\n",
    "        counter +=1\n",
    "    end\n",
    "    return nums \n",
    "end"
   ]
  },
  {
   "cell_type": "code",
   "execution_count": 3,
   "id": "897fed18",
   "metadata": {},
   "outputs": [
    {
     "data": {
      "text/plain": [
       "number_spiral_diagonals (generic function with 1 method)"
      ]
     },
     "metadata": {},
     "output_type": "display_data"
    }
   ],
   "source": [
    "function number_spiral_diagonals(n)\n",
    "    diagonal1 = diagonal(n)\n",
    "    diagonal2 = [2x for x in 1:(length(diagonal1)-1)÷2 for y in 1:2] + diagonal1[2:end]\n",
    "    return sort(append!(diagonal1, diagonal2))\n",
    "end"
   ]
  },
  {
   "cell_type": "code",
   "execution_count": 4,
   "id": "9c7a40c0",
   "metadata": {},
   "outputs": [],
   "source": [
    "@assert sum(number_spiral_diagonals(5)) == 101"
   ]
  },
  {
   "cell_type": "code",
   "execution_count": 5,
   "id": "a592de19",
   "metadata": {},
   "outputs": [
    {
     "name": "stdout",
     "output_type": "stream",
     "text": [
      "  432.625 μs (5436 allocations: 208.61 KiB)\n"
     ]
    },
    {
     "data": {
      "text/plain": [
       "669171001"
      ]
     },
     "metadata": {},
     "output_type": "display_data"
    }
   ],
   "source": [
    "@btime sum(number_spiral_diagonals(1001))"
   ]
  }
 ],
 "metadata": {
  "kernelspec": {
   "display_name": "Julia 1.10.5",
   "language": "julia",
   "name": "julia-1.10"
  },
  "language_info": {
   "file_extension": ".jl",
   "mimetype": "application/julia",
   "name": "julia",
   "version": "1.10.5"
  }
 },
 "nbformat": 4,
 "nbformat_minor": 5
}
