{
 "cells": [
  {
   "cell_type": "markdown",
   "id": "c6e2ad94-1596-4b05-a508-e71eeba93df9",
   "metadata": {},
   "source": [
    "# Problem 17\n",
    "https://projecteuler.net/problem=17"
   ]
  },
  {
   "cell_type": "code",
   "execution_count": 1,
   "id": "00246cc4",
   "metadata": {},
   "outputs": [
    {
     "name": "stdout",
     "output_type": "stream",
     "text": [
      "Julia v1.11.1\n"
     ]
    }
   ],
   "source": [
    "println(\"Julia v\", string(VERSION))"
   ]
  },
  {
   "cell_type": "code",
   "execution_count": 2,
   "id": "197bc878",
   "metadata": {},
   "outputs": [],
   "source": [
    "using BenchmarkTools"
   ]
  },
  {
   "cell_type": "markdown",
   "id": "b87c3e3e",
   "metadata": {},
   "source": [
    "### Solution"
   ]
  },
  {
   "cell_type": "code",
   "execution_count": 3,
   "id": "c0c8c222",
   "metadata": {},
   "outputs": [],
   "source": [
    "d = Dict(\n",
    "    1 => \"one\", 2 => \"two\", 3 => \"three\", 4 => \"four\", 5 => \"five\", \n",
    "    6 => \"six\", 7 => \"seven\", 8 => \"eight\", 9 => \"nine\", 10 => \"ten\", \n",
    "    11 => \"eleven\", 12 => \"twelve\", 13 => \"thirteen\", 14 => \"fourteen\", 15 => \"fifteen\", \n",
    "    16 => \"sixteen\", 17 => \"seventeen\", 18 => \"eighteen\", 19 => \"nineteen\", \n",
    "    20 => \"twenty\", 30 => \"thirty\", 40 => \"forty\", 50 => \"fifty\", \n",
    "    60 => \"sixty\", 70 => \"seventy\", 80 => \"eighty\", 90 => \"ninety\", \n",
    "    100 => \"hundred\", 1000 => \"thousand\")\n",
    ";"
   ]
  },
  {
   "cell_type": "code",
   "execution_count": 4,
   "id": "6238fd88",
   "metadata": {},
   "outputs": [
    {
     "data": {
      "text/plain": [
       "num2txt (generic function with 1 method)"
      ]
     },
     "metadata": {},
     "output_type": "display_data"
    }
   ],
   "source": [
    "function num2txt(num)\n",
    "    txt = \"\"\n",
    "    if num == 1000\n",
    "        txt = \"one \" * d[num]\n",
    "        num = 0\n",
    "    end\n",
    "    if num ≥ 100\n",
    "        txt = d[num÷100] * \" \" * d[100]\n",
    "        num -= (num÷100)*100\n",
    "        txt *= num != 0 ? \" and \" : \"\"\n",
    "    end\n",
    "    if num > 20\n",
    "        txt *= d[(num÷10)*10] * (num%10!=0 ? (\"-\" * d[num%10]) : \"\")\n",
    "    else\n",
    "        txt *= num != 0 ? d[num] : \"\"\n",
    "    end\n",
    "    return txt\n",
    "end"
   ]
  },
  {
   "cell_type": "code",
   "execution_count": 5,
   "id": "040a0690",
   "metadata": {},
   "outputs": [
    {
     "name": "stdout",
     "output_type": "stream",
     "text": [
      "  344.792 μs (10212 allocations: 396.45 KiB)\n"
     ]
    },
    {
     "data": {
      "text/plain": [
       "21124"
      ]
     },
     "metadata": {},
     "output_type": "display_data"
    }
   ],
   "source": [
    "@btime sum(map(length, [replace(num2txt(num), \" \" => \"\", \"-\" => \"\") for num in 1:1000]))"
   ]
  },
  {
   "cell_type": "markdown",
   "id": "22670172",
   "metadata": {},
   "source": [
    "### Save benchmark"
   ]
  },
  {
   "cell_type": "code",
   "execution_count": 6,
   "id": "1dfd00e9",
   "metadata": {},
   "outputs": [],
   "source": [
    "include(\"./euler.jl\")\n",
    "bm = @benchmark sum(map(length, [replace(num2txt(num), \" \" => \"\", \"-\" => \"\") for num in 1:1000]))\n",
    "euler.save_benchmark(17, bm);"
   ]
  }
 ],
 "metadata": {
  "kernelspec": {
   "display_name": "Julia 1.11.1",
   "language": "julia",
   "name": "julia-1.11"
  },
  "language_info": {
   "file_extension": ".jl",
   "mimetype": "application/julia",
   "name": "julia",
   "version": "1.11.1"
  }
 },
 "nbformat": 4,
 "nbformat_minor": 5
}
