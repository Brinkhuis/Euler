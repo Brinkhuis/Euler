{
 "cells": [
  {
   "cell_type": "markdown",
   "id": "c6e2ad94-1596-4b05-a508-e71eeba93df9",
   "metadata": {},
   "source": [
    "## Problem 17\n",
    "https://projecteuler.net/problem=17"
   ]
  },
  {
   "cell_type": "code",
   "execution_count": 1,
   "id": "197bc878",
   "metadata": {},
   "outputs": [],
   "source": [
    "using BenchmarkTools\n",
    "include(\"./euler.jl\");"
   ]
  },
  {
   "cell_type": "code",
   "execution_count": 2,
   "id": "c0c8c222",
   "metadata": {},
   "outputs": [],
   "source": [
    "d = Dict(\n",
    "    1 => \"one\", 2 => \"two\", 3 => \"three\", 4 => \"four\", 5 => \"five\", \n",
    "    6 => \"six\", 7 => \"seven\", 8 => \"eight\", 9 => \"nine\", 10 => \"ten\", \n",
    "    11 => \"eleven\", 12 => \"twelve\", 13 => \"thirteen\", 14 => \"fourteen\", 15 => \"fifteen\", \n",
    "    16 => \"sixteen\", 17 => \"seventeen\", 18 => \"eighteen\", 19 => \"nineteen\", \n",
    "    20 => \"twenty\", 30 => \"thirty\", 40 => \"forty\", 50 => \"fifty\", \n",
    "    60 => \"sixty\", 70 => \"seventy\", 80 => \"eighty\", 90 => \"ninety\", \n",
    "    100 => \"hundred\", 1000 => \"thousand\")\n",
    ";"
   ]
  },
  {
   "cell_type": "code",
   "execution_count": 3,
   "id": "6238fd88",
   "metadata": {},
   "outputs": [
    {
     "data": {
      "text/plain": [
       "num2txt (generic function with 1 method)"
      ]
     },
     "metadata": {},
     "output_type": "display_data"
    }
   ],
   "source": [
    "function num2txt(num)\n",
    "    txt = \"\"\n",
    "    if num == 1000\n",
    "        txt = \"one \" * d[num]\n",
    "        num = 0\n",
    "    end\n",
    "    if num ≥ 100\n",
    "        txt = d[num÷100] * \" \" * d[100]\n",
    "        num -= (num÷100)*100\n",
    "        txt *= num != 0 ? \" and \" : \"\"\n",
    "    end\n",
    "    if num > 20\n",
    "        txt *= d[(num÷10)*10] * (num%10!=0 ? (\"-\" * d[num%10]) : \"\")\n",
    "    else\n",
    "        txt *= num != 0 ? d[num] : \"\"\n",
    "    end\n",
    "    return txt\n",
    "end"
   ]
  },
  {
   "cell_type": "code",
   "execution_count": 4,
   "id": "040a0690",
   "metadata": {},
   "outputs": [
    {
     "data": {
      "text/plain": [
       "21124"
      ]
     },
     "metadata": {},
     "output_type": "display_data"
    }
   ],
   "source": [
    "sum(map(length, [replace(num2txt(num), \" \" => \"\", \"-\" => \"\") for num in 1:1000]))"
   ]
  },
  {
   "cell_type": "code",
   "execution_count": 5,
   "id": "42a05519",
   "metadata": {},
   "outputs": [
    {
     "data": {
      "text/plain": [
       "BenchmarkTools.Trial: 10000 samples with 1 evaluation.\n",
       " Range \u001b[90m(\u001b[39m\u001b[36m\u001b[1mmin\u001b[22m\u001b[39m … \u001b[35mmax\u001b[39m\u001b[90m):  \u001b[39m\u001b[36m\u001b[1m358.292 μs\u001b[22m\u001b[39m … \u001b[35m  5.707 ms\u001b[39m  \u001b[90m┊\u001b[39m GC \u001b[90m(\u001b[39mmin … max\u001b[90m): \u001b[39m0.00% … 77.20%\n",
       " Time  \u001b[90m(\u001b[39m\u001b[34m\u001b[1mmedian\u001b[22m\u001b[39m\u001b[90m):     \u001b[39m\u001b[34m\u001b[1m406.312 μs               \u001b[22m\u001b[39m\u001b[90m┊\u001b[39m GC \u001b[90m(\u001b[39mmedian\u001b[90m):    \u001b[39m0.00%\n",
       " Time  \u001b[90m(\u001b[39m\u001b[32m\u001b[1mmean\u001b[22m\u001b[39m ± \u001b[32mσ\u001b[39m\u001b[90m):   \u001b[39m\u001b[32m\u001b[1m435.880 μs\u001b[22m\u001b[39m ± \u001b[32m212.135 μs\u001b[39m  \u001b[90m┊\u001b[39m GC \u001b[90m(\u001b[39mmean ± σ\u001b[90m):  \u001b[39m5.60% ±  9.44%\n",
       "\n",
       "  \u001b[39m \u001b[39m█\u001b[34m▃\u001b[39m\u001b[32m \u001b[39m\u001b[39m \u001b[39m \u001b[39m \u001b[39m \u001b[39m \u001b[39m \u001b[39m \u001b[39m \u001b[39m \u001b[39m \u001b[39m \u001b[39m \u001b[39m \u001b[39m \u001b[39m \u001b[39m \u001b[39m \u001b[39m \u001b[39m \u001b[39m \u001b[39m \u001b[39m \u001b[39m \u001b[39m \u001b[39m \u001b[39m \u001b[39m \u001b[39m \u001b[39m \u001b[39m \u001b[39m \u001b[39m \u001b[39m \u001b[39m \u001b[39m \u001b[39m \u001b[39m \u001b[39m \u001b[39m \u001b[39m \u001b[39m \u001b[39m \u001b[39m \u001b[39m \u001b[39m \u001b[39m \u001b[39m \u001b[39m \u001b[39m \u001b[39m \u001b[39m \u001b[39m \u001b[39m \u001b[39m \u001b[39m \u001b[39m \u001b[39m \u001b[39m \u001b[39m \n",
       "  \u001b[39m▇\u001b[39m█\u001b[34m█\u001b[39m\u001b[32m▄\u001b[39m\u001b[39m▂\u001b[39m▂\u001b[39m▂\u001b[39m▂\u001b[39m▂\u001b[39m▂\u001b[39m▂\u001b[39m▂\u001b[39m▁\u001b[39m▂\u001b[39m▁\u001b[39m▁\u001b[39m▁\u001b[39m▁\u001b[39m▁\u001b[39m▁\u001b[39m▁\u001b[39m▁\u001b[39m▁\u001b[39m▁\u001b[39m▁\u001b[39m▁\u001b[39m▁\u001b[39m▁\u001b[39m▁\u001b[39m▂\u001b[39m▁\u001b[39m▁\u001b[39m▁\u001b[39m▁\u001b[39m▁\u001b[39m▁\u001b[39m▁\u001b[39m▁\u001b[39m▁\u001b[39m▁\u001b[39m▁\u001b[39m▁\u001b[39m▁\u001b[39m▁\u001b[39m▁\u001b[39m▁\u001b[39m▁\u001b[39m▁\u001b[39m▁\u001b[39m▁\u001b[39m▁\u001b[39m▁\u001b[39m▁\u001b[39m▁\u001b[39m▁\u001b[39m▂\u001b[39m▂\u001b[39m▂\u001b[39m▂\u001b[39m▂\u001b[39m▂\u001b[39m \u001b[39m▂\n",
       "  358 μs\u001b[90m           Histogram: frequency by time\u001b[39m         1.95 ms \u001b[0m\u001b[1m<\u001b[22m\n",
       "\n",
       " Memory estimate\u001b[90m: \u001b[39m\u001b[33m396.45 KiB\u001b[39m, allocs estimate\u001b[90m: \u001b[39m\u001b[33m10212\u001b[39m."
      ]
     },
     "metadata": {},
     "output_type": "display_data"
    }
   ],
   "source": [
    "b = @benchmark sum(map(length, [replace(num2txt(num), \" \" => \"\", \"-\" => \"\") for num in 1:1000]))"
   ]
  },
  {
   "cell_type": "code",
   "execution_count": 6,
   "id": "cc99d0e5",
   "metadata": {},
   "outputs": [],
   "source": [
    "euler.save_benchmark(17, b);"
   ]
  }
 ],
 "metadata": {
  "kernelspec": {
   "display_name": "Julia 1.11.0",
   "language": "julia",
   "name": "julia-1.11"
  },
  "language_info": {
   "file_extension": ".jl",
   "mimetype": "application/julia",
   "name": "julia",
   "version": "1.11.0"
  }
 },
 "nbformat": 4,
 "nbformat_minor": 5
}
