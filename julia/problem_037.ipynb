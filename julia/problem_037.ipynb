{
 "cells": [
  {
   "cell_type": "markdown",
   "id": "c6e2ad94-1596-4b05-a508-e71eeba93df9",
   "metadata": {},
   "source": [
    "## Problem 37\n",
    "https://projecteuler.net/problem=37"
   ]
  },
  {
   "cell_type": "code",
   "execution_count": 1,
   "id": "236042ec",
   "metadata": {},
   "outputs": [],
   "source": [
    "using Primes, BenchmarkTools"
   ]
  },
  {
   "cell_type": "code",
   "execution_count": 2,
   "id": "b71b81c4",
   "metadata": {},
   "outputs": [
    {
     "data": {
      "text/plain": [
       "truncatables (generic function with 1 method)"
      ]
     },
     "metadata": {},
     "output_type": "display_data"
    }
   ],
   "source": [
    "function truncatables(n)\n",
    "    nums = Set()\n",
    "    for i in 1:ndigits(n)\n",
    "        push!(nums, join(reverse(digits(n)[1:i])))\n",
    "        push!(nums, join(reverse(digits(n))[1:i]))\n",
    "    end\n",
    "    return [parse(Int64, num) for num in nums]\n",
    "end"
   ]
  },
  {
   "cell_type": "code",
   "execution_count": 3,
   "id": "e9c3a30f",
   "metadata": {},
   "outputs": [
    {
     "data": {
      "text/plain": [
       "all_primes (generic function with 1 method)"
      ]
     },
     "metadata": {},
     "output_type": "display_data"
    }
   ],
   "source": [
    "all_primes(n) = all(isprime, truncatables(n))"
   ]
  },
  {
   "cell_type": "code",
   "execution_count": 4,
   "id": "74a151d6",
   "metadata": {},
   "outputs": [
    {
     "data": {
      "text/plain": [
       "truncatable_primes_sum (generic function with 1 method)"
      ]
     },
     "metadata": {},
     "output_type": "display_data"
    }
   ],
   "source": [
    "function truncatable_primes_sum()\n",
    "    n = 8 # 2, 3, and 7 are not considered to be truncatable primes\n",
    "    s = 0 # truncatable primes sum\n",
    "    c = 0 # counter\n",
    "    while c < 11\n",
    "        p = nextprime(n)\n",
    "        n = p + 1\n",
    "        if all_primes(p)\n",
    "            s += p\n",
    "            c += 1\n",
    "        end\n",
    "    end\n",
    "    return s\n",
    "end"
   ]
  },
  {
   "cell_type": "code",
   "execution_count": 5,
   "id": "c4135245",
   "metadata": {},
   "outputs": [
    {
     "name": "stdout",
     "output_type": "stream",
     "text": [
      "  351.297 ms (10136162 allocations: 581.25 MiB)\n"
     ]
    },
    {
     "data": {
      "text/plain": [
       "748317"
      ]
     },
     "metadata": {},
     "output_type": "display_data"
    }
   ],
   "source": [
    "@btime truncatable_primes_sum()"
   ]
  }
 ],
 "metadata": {
  "kernelspec": {
   "display_name": "Julia 1.10.5",
   "language": "julia",
   "name": "julia-1.10"
  },
  "language_info": {
   "file_extension": ".jl",
   "mimetype": "application/julia",
   "name": "julia",
   "version": "1.10.5"
  }
 },
 "nbformat": 4,
 "nbformat_minor": 5
}
