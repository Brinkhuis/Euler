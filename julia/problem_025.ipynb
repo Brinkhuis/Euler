{
 "cells": [
  {
   "cell_type": "markdown",
   "id": "c6e2ad94-1596-4b05-a508-e71eeba93df9",
   "metadata": {},
   "source": [
    "## Problem 25\n",
    "https://projecteuler.net/problem=25"
   ]
  },
  {
   "cell_type": "code",
   "execution_count": 1,
   "id": "4289b3d4",
   "metadata": {},
   "outputs": [],
   "source": [
    "using BenchmarkTools"
   ]
  },
  {
   "cell_type": "markdown",
   "id": "3e04a13d",
   "metadata": {},
   "source": [
    "#### Solution 1 (log10)"
   ]
  },
  {
   "cell_type": "code",
   "execution_count": 2,
   "id": "1359fb31",
   "metadata": {},
   "outputs": [
    {
     "data": {
      "text/plain": [
       "fibonacci (generic function with 1 method)"
      ]
     },
     "metadata": {},
     "output_type": "display_data"
    }
   ],
   "source": [
    "function fibonacci(d)\n",
    "    a, b = big(1), big(1)\n",
    "    for i in Iterators.countfrom(2)\n",
    "        log10(b) + 1 ≥ d && return i\n",
    "        c = a + b\n",
    "        a, b = b, c\n",
    "    end\n",
    "end "
   ]
  },
  {
   "cell_type": "code",
   "execution_count": 3,
   "id": "f1d0d6c6",
   "metadata": {},
   "outputs": [
    {
     "name": "stdout",
     "output_type": "stream",
     "text": [
      "  32.109 ms (57666 allocations: 3.30 MiB)\n"
     ]
    },
    {
     "data": {
      "text/plain": [
       "4782"
      ]
     },
     "metadata": {},
     "output_type": "display_data"
    }
   ],
   "source": [
    "@btime fibonacci(1000)"
   ]
  },
  {
   "cell_type": "markdown",
   "id": "f9a8fe7e",
   "metadata": {},
   "source": [
    "#### Solution 2 (ndigits)"
   ]
  },
  {
   "cell_type": "code",
   "execution_count": 4,
   "id": "5dafbcb0",
   "metadata": {},
   "outputs": [
    {
     "data": {
      "text/plain": [
       "fibonacci (generic function with 1 method)"
      ]
     },
     "metadata": {},
     "output_type": "display_data"
    }
   ],
   "source": [
    "function fibonacci(d)\n",
    "    a, b = big(1), big(1)\n",
    "    for i in Iterators.countfrom(3)\n",
    "        ndigits(a + b) == d && return i\n",
    "        c = a + b\n",
    "        a, b = b, c\n",
    "    end\n",
    "end "
   ]
  },
  {
   "cell_type": "code",
   "execution_count": 5,
   "id": "8603755f",
   "metadata": {},
   "outputs": [
    {
     "name": "stdout",
     "output_type": "stream",
     "text": [
      "  1.043 ms (26320 allocations: 2.72 MiB)\n"
     ]
    },
    {
     "data": {
      "text/plain": [
       "4782"
      ]
     },
     "metadata": {},
     "output_type": "display_data"
    }
   ],
   "source": [
    "@btime fibonacci(1000)"
   ]
  }
 ],
 "metadata": {
  "kernelspec": {
   "display_name": "Julia 1.10.5",
   "language": "julia",
   "name": "julia-1.10"
  },
  "language_info": {
   "file_extension": ".jl",
   "mimetype": "application/julia",
   "name": "julia",
   "version": "1.10.5"
  }
 },
 "nbformat": 4,
 "nbformat_minor": 5
}
