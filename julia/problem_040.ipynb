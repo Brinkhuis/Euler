{
 "cells": [
  {
   "cell_type": "markdown",
   "id": "c6e2ad94-1596-4b05-a508-e71eeba93df9",
   "metadata": {},
   "source": [
    "# Problem 40\n",
    "https://projecteuler.net/problem=40"
   ]
  },
  {
   "cell_type": "code",
   "execution_count": 1,
   "id": "c84cf590",
   "metadata": {},
   "outputs": [
    {
     "name": "stdout",
     "output_type": "stream",
     "text": [
      "Julia v1.11.1\n"
     ]
    }
   ],
   "source": [
    "println(\"Julia v\", string(VERSION))"
   ]
  },
  {
   "cell_type": "code",
   "execution_count": 2,
   "id": "9ddad57f",
   "metadata": {},
   "outputs": [],
   "source": [
    "using BenchmarkTools"
   ]
  },
  {
   "cell_type": "markdown",
   "id": "d2592c34",
   "metadata": {},
   "source": [
    "### Solution 1 (function)"
   ]
  },
  {
   "cell_type": "code",
   "execution_count": 3,
   "id": "b3e6569d",
   "metadata": {},
   "outputs": [
    {
     "data": {
      "text/plain": [
       "champernowne (generic function with 1 method)"
      ]
     },
     "metadata": {},
     "output_type": "display_data"
    }
   ],
   "source": [
    "function champernowne(l::Vector{Int64})\n",
    "    m = maximum(l)\n",
    "    d = Int64[]\n",
    "    counter = 1\n",
    "    while length(d) < m\n",
    "        append!(d, reverse(digits(counter)))\n",
    "        counter += 1\n",
    "    end\n",
    "    return prod(d[l])\n",
    "end"
   ]
  },
  {
   "cell_type": "code",
   "execution_count": 4,
   "id": "d269705a",
   "metadata": {},
   "outputs": [
    {
     "name": "stdout",
     "output_type": "stream",
     "text": [
      "  8.916 ms (740768 allocations: 53.89 MiB)\n"
     ]
    },
    {
     "data": {
      "text/plain": [
       "210"
      ]
     },
     "metadata": {},
     "output_type": "display_data"
    }
   ],
   "source": [
    "@btime champernowne([10^i for i in 0:6])"
   ]
  },
  {
   "cell_type": "markdown",
   "id": "89290064",
   "metadata": {},
   "source": [
    "### Solution 2 (oneliner)"
   ]
  },
  {
   "cell_type": "code",
   "execution_count": 5,
   "id": "7346c92a",
   "metadata": {},
   "outputs": [
    {
     "data": {
      "text/plain": [
       "true"
      ]
     },
     "metadata": {},
     "output_type": "display_data"
    }
   ],
   "source": [
    "length(join(1:185185)) > 10^6 # d1000000"
   ]
  },
  {
   "cell_type": "code",
   "execution_count": 6,
   "id": "fab93b29",
   "metadata": {},
   "outputs": [
    {
     "name": "stdout",
     "output_type": "stream",
     "text": [
      "  39.232 ms (2222388 allocations: 72.41 MiB)\n"
     ]
    },
    {
     "data": {
      "text/plain": [
       "210"
      ]
     },
     "metadata": {},
     "output_type": "display_data"
    }
   ],
   "source": [
    "@btime prod(d -> parse(Int, join(1:185185)[10^d]), 1:6)"
   ]
  },
  {
   "cell_type": "markdown",
   "id": "5f721e5d",
   "metadata": {},
   "source": [
    "### Save benchmark"
   ]
  },
  {
   "cell_type": "code",
   "execution_count": 7,
   "id": "f4ed889e",
   "metadata": {},
   "outputs": [],
   "source": [
    "include(\"./euler.jl\")\n",
    "bm = @benchmark champernowne([10^i for i in 0:6])\n",
    "euler.save_benchmark(40, bm);"
   ]
  }
 ],
 "metadata": {
  "kernelspec": {
   "display_name": "Julia 1.11.1",
   "language": "julia",
   "name": "julia-1.11"
  },
  "language_info": {
   "file_extension": ".jl",
   "mimetype": "application/julia",
   "name": "julia",
   "version": "1.11.1"
  }
 },
 "nbformat": 4,
 "nbformat_minor": 5
}
