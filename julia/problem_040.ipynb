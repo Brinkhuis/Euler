{
 "cells": [
  {
   "cell_type": "markdown",
   "id": "c6e2ad94-1596-4b05-a508-e71eeba93df9",
   "metadata": {},
   "source": [
    "## Problem 40\n",
    "https://projecteuler.net/problem=40"
   ]
  },
  {
   "cell_type": "code",
   "execution_count": 1,
   "id": "9ddad57f",
   "metadata": {},
   "outputs": [],
   "source": [
    "using BenchmarkTools"
   ]
  },
  {
   "cell_type": "markdown",
   "id": "d2592c34",
   "metadata": {},
   "source": [
    "#### Solution 1 (function)"
   ]
  },
  {
   "cell_type": "code",
   "execution_count": 2,
   "id": "b3e6569d",
   "metadata": {},
   "outputs": [
    {
     "data": {
      "text/plain": [
       "champernowne (generic function with 1 method)"
      ]
     },
     "metadata": {},
     "output_type": "display_data"
    }
   ],
   "source": [
    "function champernowne(l::Vector{Int64})\n",
    "    m = maximum(l)\n",
    "    d = Int64[]\n",
    "    counter = 1\n",
    "    while length(d) < m\n",
    "        append!(d, reverse(digits(counter)))\n",
    "        counter += 1\n",
    "    end\n",
    "    return prod(d[l])\n",
    "end"
   ]
  },
  {
   "cell_type": "code",
   "execution_count": 3,
   "id": "5d259dc3",
   "metadata": {},
   "outputs": [
    {
     "name": "stdout",
     "output_type": "stream",
     "text": [
      "  12.774 ms (370386 allocations: 46.26 MiB)\n"
     ]
    },
    {
     "data": {
      "text/plain": [
       "210"
      ]
     },
     "metadata": {},
     "output_type": "display_data"
    }
   ],
   "source": [
    "@btime champernowne([10^i for i in 0:6])"
   ]
  },
  {
   "cell_type": "markdown",
   "id": "89290064",
   "metadata": {},
   "source": [
    "#### Solution 2 (oneliner)"
   ]
  },
  {
   "cell_type": "code",
   "execution_count": 4,
   "id": "7346c92a",
   "metadata": {},
   "outputs": [
    {
     "data": {
      "text/plain": [
       "true"
      ]
     },
     "metadata": {},
     "output_type": "display_data"
    }
   ],
   "source": [
    "length(join(1:185185)) > 10^6"
   ]
  },
  {
   "cell_type": "code",
   "execution_count": 5,
   "id": "448e608c",
   "metadata": {},
   "outputs": [
    {
     "name": "stdout",
     "output_type": "stream",
     "text": [
      "  49.398 ms (2222316 allocations: 106.32 MiB)\n"
     ]
    },
    {
     "data": {
      "text/plain": [
       "210"
      ]
     },
     "metadata": {},
     "output_type": "display_data"
    }
   ],
   "source": [
    "@btime prod(d -> parse(Int, join(1:185185)[10^d]), 1:6)"
   ]
  }
 ],
 "metadata": {
  "kernelspec": {
   "display_name": "Julia 1.10.5",
   "language": "julia",
   "name": "julia-1.10"
  },
  "language_info": {
   "file_extension": ".jl",
   "mimetype": "application/julia",
   "name": "julia",
   "version": "1.10.5"
  }
 },
 "nbformat": 4,
 "nbformat_minor": 5
}
