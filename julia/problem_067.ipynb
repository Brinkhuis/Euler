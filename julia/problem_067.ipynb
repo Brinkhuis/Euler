{
 "cells": [
  {
   "cell_type": "markdown",
   "id": "c6e2ad94-1596-4b05-a508-e71eeba93df9",
   "metadata": {},
   "source": [
    "## Problem 67\n",
    "https://projecteuler.net/problem=67"
   ]
  },
  {
   "cell_type": "code",
   "execution_count": 1,
   "id": "e68c6350",
   "metadata": {},
   "outputs": [
    {
     "name": "stdout",
     "output_type": "stream",
     "text": [
      "Reading file ...\n"
     ]
    }
   ],
   "source": [
    "file_name = \"0067_triangle.txt\"\n",
    "if isfile(\"../data/\" * file_name)\n",
    "    println(\"Reading file ...\")\n",
    "    raw = open(\"../data/\" * file_name) do f\n",
    "        readlines(f)\n",
    "    end\n",
    "else\n",
    "    println(\"Downloading file ...\")\n",
    "    raw = open(download(\"https://projecteuler.net/resources/documents/\" * file_name)) do f\n",
    "        readlines(f)\n",
    "    end\n",
    "end\n",
    "\n",
    "@assert length(raw) == 100"
   ]
  },
  {
   "cell_type": "code",
   "execution_count": 2,
   "id": "5765fb74",
   "metadata": {},
   "outputs": [],
   "source": [
    "triangle = [[parse(Int64, item) for item in elem] for elem in [split(line) for line in raw]];"
   ]
  },
  {
   "cell_type": "code",
   "execution_count": 3,
   "id": "1c7149f5",
   "metadata": {},
   "outputs": [
    {
     "data": {
      "text/plain": [
       "maximum_path_sum (generic function with 1 method)"
      ]
     },
     "metadata": {},
     "output_type": "display_data"
    }
   ],
   "source": [
    "function maximum_path_sum(triangle)\n",
    "    data = reverse(triangle)\n",
    "    for i in 1:length(data)-1, j in 1:length(data[i])-1\n",
    "        data[i+1][j] = maximum([data[i][j]+data[i+1][j], data[i][j+1]+data[i+1][j]])\n",
    "    end\n",
    "    return reverse(data)[1][1]\n",
    "end"
   ]
  },
  {
   "cell_type": "code",
   "execution_count": 4,
   "id": "fc8f5197",
   "metadata": {},
   "outputs": [
    {
     "name": "stdout",
     "output_type": "stream",
     "text": [
      "  0.023260 seconds (26.98 k allocations: 1.866 MiB, 99.33% compilation time)\n"
     ]
    },
    {
     "data": {
      "text/plain": [
       "7273"
      ]
     },
     "metadata": {},
     "output_type": "display_data"
    }
   ],
   "source": [
    "@time maximum_path_sum(triangle)"
   ]
  }
 ],
 "metadata": {
  "kernelspec": {
   "display_name": "Julia 1.10.5",
   "language": "julia",
   "name": "julia-1.10"
  },
  "language_info": {
   "file_extension": ".jl",
   "mimetype": "application/julia",
   "name": "julia",
   "version": "1.10.5"
  }
 },
 "nbformat": 4,
 "nbformat_minor": 5
}
