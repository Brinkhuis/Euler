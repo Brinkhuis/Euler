{
 "cells": [
  {
   "cell_type": "markdown",
   "id": "c6e2ad94-1596-4b05-a508-e71eeba93df9",
   "metadata": {},
   "source": [
    "# Problem 67\n",
    "https://projecteuler.net/problem=67"
   ]
  },
  {
   "cell_type": "code",
   "execution_count": 1,
   "id": "6bc6a883",
   "metadata": {},
   "outputs": [
    {
     "name": "stdout",
     "output_type": "stream",
     "text": [
      "Julia v1.11.1\n"
     ]
    }
   ],
   "source": [
    "println(\"Julia v\", string(VERSION))"
   ]
  },
  {
   "cell_type": "code",
   "execution_count": 2,
   "id": "9213d0c9",
   "metadata": {},
   "outputs": [],
   "source": [
    "using BenchmarkTools"
   ]
  },
  {
   "cell_type": "markdown",
   "id": "fdc66692",
   "metadata": {},
   "source": [
    "__Steps to solve the problem__\n",
    "\n",
    "A top-down approach leads to a local maximum and is know as a 'greedy algorithm'.  \n",
    "A bottom-up approach guarantees a global maximum.\n",
    "\n",
    "Example:\n",
    "\n",
    "```\n",
    "      04      \n",
    "    06  07    \n",
    "  10  01  02  \n",
    "05  08  09  03\n",
    "```\n",
    "\n",
    "Top-down approach:  \n",
    "04 + 07 + 02 + 09 = 22 (local maximum)\n",
    "\n",
    "Bottom-up approach:  \n",
    "08 + 10 + 06 + 04 = 28 (global maximum)"
   ]
  },
  {
   "cell_type": "markdown",
   "id": "5a07a3be",
   "metadata": {},
   "source": [
    "### Solution"
   ]
  },
  {
   "cell_type": "code",
   "execution_count": 3,
   "id": "1fc4613c",
   "metadata": {},
   "outputs": [
    {
     "data": {
      "text/plain": [
       "triangle (generic function with 1 method)"
      ]
     },
     "metadata": {},
     "output_type": "display_data"
    }
   ],
   "source": [
    "function triangle(file_name)\n",
    "    raw = open(\"../data/\" * file_name) do f\n",
    "        readlines(f)\n",
    "    end\n",
    "    return [[parse(Int64, val) for val in split(line)] for line in raw]\n",
    "end"
   ]
  },
  {
   "cell_type": "code",
   "execution_count": 4,
   "id": "e9c8f51a",
   "metadata": {},
   "outputs": [],
   "source": [
    "function maximum_path_sum(triangle)\n",
    "    data = reverse(triangle)\n",
    "    for i in 1:length(data)-1, j in 1:length(data[i])-1\n",
    "        data[i+1][j] = maximum([data[i][j]+data[i+1][j], data[i][j+1]+data[i+1][j]])\n",
    "    end\n",
    "    return reverse(data)[1][1]\n",
    "end\n",
    "\n",
    "@assert maximum_path_sum([[4], [6, 7], [10, 1, 2], [5, 8, 9, 3]]) == 28"
   ]
  },
  {
   "cell_type": "code",
   "execution_count": 5,
   "id": "ec0e4a68",
   "metadata": {},
   "outputs": [
    {
     "name": "stdout",
     "output_type": "stream",
     "text": [
      "  268.166 μs (10734 allocations: 817.97 KiB)\n"
     ]
    },
    {
     "data": {
      "text/plain": [
       "7273"
      ]
     },
     "metadata": {},
     "output_type": "display_data"
    }
   ],
   "source": [
    "@btime maximum_path_sum(triangle(\"0067_triangle.txt\"))"
   ]
  }
 ],
 "metadata": {
  "kernelspec": {
   "display_name": "Julia 1.11.1",
   "language": "julia",
   "name": "julia-1.11"
  },
  "language_info": {
   "file_extension": ".jl",
   "mimetype": "application/julia",
   "name": "julia",
   "version": "1.11.1"
  }
 },
 "nbformat": 4,
 "nbformat_minor": 5
}
