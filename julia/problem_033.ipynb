{
 "cells": [
  {
   "cell_type": "markdown",
   "id": "c6e2ad94-1596-4b05-a508-e71eeba93df9",
   "metadata": {},
   "source": [
    "## Problem 33\n",
    "https://projecteuler.net/problem=33"
   ]
  },
  {
   "cell_type": "code",
   "execution_count": 1,
   "id": "6187e51d",
   "metadata": {},
   "outputs": [],
   "source": [
    "using BenchmarkTools"
   ]
  },
  {
   "cell_type": "code",
   "execution_count": 2,
   "id": "81024e70",
   "metadata": {},
   "outputs": [
    {
     "name": "stdout",
     "output_type": "stream",
     "text": [
      "  239.792 μs (8836 allocations: 811.73 KiB)\n"
     ]
    },
    {
     "data": {
      "text/plain": [
       "100"
      ]
     },
     "metadata": {},
     "output_type": "display_data"
    }
   ],
   "source": [
    "@btime begin\n",
    "\n",
    "    # Select fractions less than 1\n",
    "    a = [(n, d) for n in 10:99, d in 10:99 if n / d < 1]\n",
    "\n",
    "    # Cancellation options 4?/?8 (like 49/98) --> note: digit() returns digits in reverse order\n",
    "    b = [(n, d) for (n, d) in a if digits(n)[1] == digits(d)[2]]\n",
    "\n",
    "    # Select the 1-digit nom/denom fractions that equals their 2-digit equivalents\n",
    "    c = [[n, d, digits(n)[2], digits(d)[1], digits(n)[1]] for (n, d) in b if digits(n)[2]/digits(d)[1] == n/d]\n",
    "\n",
    "    # Denominator value\n",
    "    denominator(prod([row[3]//row[4] for row in c]))\n",
    "    \n",
    "end"
   ]
  }
 ],
 "metadata": {
  "kernelspec": {
   "display_name": "Julia 1.10.5",
   "language": "julia",
   "name": "julia-1.10"
  },
  "language_info": {
   "file_extension": ".jl",
   "mimetype": "application/julia",
   "name": "julia",
   "version": "1.10.5"
  }
 },
 "nbformat": 4,
 "nbformat_minor": 5
}
