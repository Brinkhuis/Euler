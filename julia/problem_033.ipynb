{
 "cells": [
  {
   "cell_type": "markdown",
   "id": "c6e2ad94-1596-4b05-a508-e71eeba93df9",
   "metadata": {},
   "source": [
    "## Problem 33\n",
    "https://projecteuler.net/problem=33"
   ]
  },
  {
   "cell_type": "code",
   "execution_count": 1,
   "id": "81024e70",
   "metadata": {},
   "outputs": [],
   "source": [
    "# Select fractions less than 1\n",
    "a = [(n, d) for n in 10:99, d in 10:99 if n / d < 1];"
   ]
  },
  {
   "cell_type": "code",
   "execution_count": 2,
   "id": "dba2fbb8",
   "metadata": {},
   "outputs": [],
   "source": [
    "# Cancellation options 4?/?8 (like 49/98) --> note: digit() returns digits in reverse order\n",
    "b = [(n, d) for (n, d) in a if digits(n)[1] == digits(d)[2]];"
   ]
  },
  {
   "cell_type": "code",
   "execution_count": 3,
   "id": "e9b77d16",
   "metadata": {},
   "outputs": [],
   "source": [
    "# Select the 1-digit nom/denom fractions that equals their 2-digit equivalents\n",
    "c = [[n, d, digits(n)[2], digits(d)[1], digits(n)[1]] for (n, d) in b if digits(n)[2]/digits(d)[1] == n/d];"
   ]
  },
  {
   "cell_type": "code",
   "execution_count": 4,
   "id": "e25f1320",
   "metadata": {},
   "outputs": [
    {
     "name": "stdout",
     "output_type": "stream",
     "text": [
      "1//4 × 2//5 × 1//5 × 1//2 = 1//100\n"
     ]
    }
   ],
   "source": [
    "# Print fraction product\n",
    "frac = [row[3]//row[4] for row in c]\n",
    "push!(frac, prod([row[3]//row[4] for row in c]'))\n",
    "println(\"$(frac[1]) × $(frac[2]) × $(frac[3]) × $(frac[4]) = $(frac[5])\")"
   ]
  },
  {
   "cell_type": "code",
   "execution_count": 5,
   "id": "36ea5b4f",
   "metadata": {},
   "outputs": [
    {
     "data": {
      "text/plain": [
       "100"
      ]
     },
     "metadata": {},
     "output_type": "display_data"
    }
   ],
   "source": [
    "# Answer\n",
    "denominator(prod([row[3]//row[4] for row in c]'))"
   ]
  }
 ],
 "metadata": {
  "kernelspec": {
   "display_name": "Julia 1.10.5",
   "language": "julia",
   "name": "julia-1.10"
  },
  "language_info": {
   "file_extension": ".jl",
   "mimetype": "application/julia",
   "name": "julia",
   "version": "1.10.5"
  }
 },
 "nbformat": 4,
 "nbformat_minor": 5
}
