{
 "cells": [
  {
   "cell_type": "markdown",
   "id": "c6e2ad94-1596-4b05-a508-e71eeba93df9",
   "metadata": {},
   "source": [
    "## Problem 27\n",
    "https://projecteuler.net/problem=27"
   ]
  },
  {
   "cell_type": "code",
   "execution_count": 1,
   "id": "eea5bf7a",
   "metadata": {},
   "outputs": [],
   "source": [
    "using Primes, BenchmarkTools"
   ]
  },
  {
   "cell_type": "code",
   "execution_count": 2,
   "id": "54d0c5f9",
   "metadata": {},
   "outputs": [
    {
     "data": {
      "text/plain": [
       "consecutive_primes (generic function with 1 method)"
      ]
     },
     "metadata": {},
     "output_type": "display_data"
    }
   ],
   "source": [
    "function consecutive_primes(a, b)::Int64\n",
    "    for n in Iterators.countfrom()\n",
    "        if !isprime(n^2 + (a * n + b))\n",
    "            return n-1\n",
    "        end\n",
    "    end\n",
    "end"
   ]
  },
  {
   "cell_type": "code",
   "execution_count": 3,
   "id": "8198fe81",
   "metadata": {},
   "outputs": [
    {
     "name": "stdout",
     "output_type": "stream",
     "text": [
      "  24.632 ms (16 allocations: 7.14 KiB)\n"
     ]
    },
    {
     "data": {
      "text/plain": [
       "-59231"
      ]
     },
     "metadata": {},
     "output_type": "display_data"
    }
   ],
   "source": [
    "@btime begin\n",
    "    dictionary = Dict(consecutive_primes(a, b) => a*b for a in -999:999 for b in -1000:1000)\n",
    "    dictionary[maximum(keys(dictionary))]\n",
    "end"
   ]
  }
 ],
 "metadata": {
  "kernelspec": {
   "display_name": "Julia 1.10.5",
   "language": "julia",
   "name": "julia-1.10"
  },
  "language_info": {
   "file_extension": ".jl",
   "mimetype": "application/julia",
   "name": "julia",
   "version": "1.10.5"
  }
 },
 "nbformat": 4,
 "nbformat_minor": 5
}
