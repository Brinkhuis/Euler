{
 "cells": [
  {
   "cell_type": "markdown",
   "id": "c6e2ad94-1596-4b05-a508-e71eeba93df9",
   "metadata": {},
   "source": [
    "# Problem 27\n",
    "https://projecteuler.net/problem=27"
   ]
  },
  {
   "cell_type": "code",
   "execution_count": 1,
   "id": "a7a8e0e5",
   "metadata": {},
   "outputs": [
    {
     "name": "stdout",
     "output_type": "stream",
     "text": [
      "Julia v1.11.1\n"
     ]
    }
   ],
   "source": [
    "println(\"Julia v\", string(VERSION))"
   ]
  },
  {
   "cell_type": "code",
   "execution_count": 2,
   "id": "eea5bf7a",
   "metadata": {},
   "outputs": [],
   "source": [
    "using BenchmarkTools"
   ]
  },
  {
   "cell_type": "markdown",
   "id": "b5831f0e",
   "metadata": {},
   "source": [
    "### Solution"
   ]
  },
  {
   "cell_type": "code",
   "execution_count": 3,
   "id": "70ff0b87",
   "metadata": {},
   "outputs": [],
   "source": [
    "using Primes"
   ]
  },
  {
   "cell_type": "code",
   "execution_count": 4,
   "id": "54d0c5f9",
   "metadata": {},
   "outputs": [
    {
     "data": {
      "text/plain": [
       "consecutive_primes (generic function with 1 method)"
      ]
     },
     "metadata": {},
     "output_type": "display_data"
    }
   ],
   "source": [
    "function consecutive_primes(a, b)::Int64\n",
    "    for n in Iterators.countfrom()\n",
    "        if !isprime(n^2 + (a * n + b))\n",
    "            return n-1\n",
    "        end\n",
    "    end\n",
    "end"
   ]
  },
  {
   "cell_type": "code",
   "execution_count": 5,
   "id": "7086e1c6",
   "metadata": {},
   "outputs": [
    {
     "name": "stdout",
     "output_type": "stream",
     "text": [
      "  26.422 ms (15 allocations: 6.05 KiB)\n"
     ]
    },
    {
     "data": {
      "text/plain": [
       "-59231"
      ]
     },
     "metadata": {},
     "output_type": "display_data"
    }
   ],
   "source": [
    "b = @btime begin\n",
    "    dictionary = Dict(consecutive_primes(a, b) => a*b for a in -999:999 for b in -1000:1000)\n",
    "    dictionary[maximum(keys(dictionary))]\n",
    "end"
   ]
  },
  {
   "cell_type": "markdown",
   "id": "8fa3781d",
   "metadata": {},
   "source": [
    "### Save benchmark"
   ]
  },
  {
   "cell_type": "code",
   "execution_count": 6,
   "id": "99b58934",
   "metadata": {},
   "outputs": [],
   "source": [
    "include(\"./euler.jl\")\n",
    "bm = @benchmark begin\n",
    "    dictionary = Dict(consecutive_primes(a, b) => a*b for a in -999:999 for b in -1000:1000)\n",
    "    dictionary[maximum(keys(dictionary))]\n",
    "end\n",
    "euler.save_benchmark(27, bm);"
   ]
  }
 ],
 "metadata": {
  "kernelspec": {
   "display_name": "Julia 1.11.1",
   "language": "julia",
   "name": "julia-1.11"
  },
  "language_info": {
   "file_extension": ".jl",
   "mimetype": "application/julia",
   "name": "julia",
   "version": "1.11.1"
  }
 },
 "nbformat": 4,
 "nbformat_minor": 5
}
