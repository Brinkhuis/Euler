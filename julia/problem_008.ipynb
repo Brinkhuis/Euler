{
 "cells": [
  {
   "cell_type": "markdown",
   "id": "c6e2ad94-1596-4b05-a508-e71eeba93df9",
   "metadata": {},
   "source": [
    "# Problem 8\n",
    "https://projecteuler.net/problem=8"
   ]
  },
  {
   "cell_type": "code",
   "execution_count": 1,
   "id": "55b83b0a",
   "metadata": {},
   "outputs": [
    {
     "name": "stdout",
     "output_type": "stream",
     "text": [
      "Julia v1.11.1\n"
     ]
    }
   ],
   "source": [
    "println(\"Julia v\", string(VERSION))"
   ]
  },
  {
   "cell_type": "code",
   "execution_count": 2,
   "id": "abccc5dd",
   "metadata": {},
   "outputs": [],
   "source": [
    "using BenchmarkTools"
   ]
  },
  {
   "cell_type": "code",
   "execution_count": 3,
   "id": "06633235",
   "metadata": {},
   "outputs": [],
   "source": [
    "series = read(\"../data/0008_series.txt\", String);"
   ]
  },
  {
   "cell_type": "markdown",
   "id": "91800791",
   "metadata": {},
   "source": [
    "### Solution 1 (prod)"
   ]
  },
  {
   "cell_type": "code",
   "execution_count": 4,
   "id": "e3b964b7",
   "metadata": {},
   "outputs": [],
   "source": [
    "function largest_prod(series::String, n::Int64)::Int64\n",
    "    digit_series = [parse(Int64, c) for c in series]\n",
    "    largest = 0\n",
    "    for i in 1:length(digit_series)-n+1\n",
    "        x = prod(digit_series[i:i+n-1])\n",
    "        if x > largest\n",
    "            largest = x\n",
    "        end\n",
    "    end\n",
    "    return largest\n",
    "end\n",
    "\n",
    "@assert largest_prod(series, 4) == 5832"
   ]
  },
  {
   "cell_type": "code",
   "execution_count": 5,
   "id": "f143d035",
   "metadata": {},
   "outputs": [
    {
     "name": "stdout",
     "output_type": "stream",
     "text": [
      "  23.458 μs (1979 allocations: 162.31 KiB)\n"
     ]
    },
    {
     "data": {
      "text/plain": [
       "23514624000"
      ]
     },
     "metadata": {},
     "output_type": "display_data"
    }
   ],
   "source": [
    "@btime largest_prod(series, 13)"
   ]
  },
  {
   "cell_type": "markdown",
   "id": "3bb0880e",
   "metadata": {},
   "source": [
    "### Solution 2 (reduce)"
   ]
  },
  {
   "cell_type": "code",
   "execution_count": 6,
   "id": "f5a18499",
   "metadata": {},
   "outputs": [],
   "source": [
    "function largest_reduce(series::String, n::Int64)::Int64\n",
    "    digit_series = [parse(Int64, c) for c in series]\n",
    "    largest = 0\n",
    "    for i in 1:length(digit_series)-n+1\n",
    "        x = reduce(*, digit_series[i:i+n-1])\n",
    "        if x > largest\n",
    "            largest = x\n",
    "        end\n",
    "    end\n",
    "    return largest\n",
    "end\n",
    "\n",
    "@assert largest_reduce(series, 4) == 5832"
   ]
  },
  {
   "cell_type": "code",
   "execution_count": 7,
   "id": "395b19ec",
   "metadata": {},
   "outputs": [
    {
     "name": "stdout",
     "output_type": "stream",
     "text": [
      "  24.208 μs (1979 allocations: 162.31 KiB)\n"
     ]
    },
    {
     "data": {
      "text/plain": [
       "23514624000"
      ]
     },
     "metadata": {},
     "output_type": "display_data"
    }
   ],
   "source": [
    "@btime largest_reduce(series, 13)"
   ]
  },
  {
   "cell_type": "markdown",
   "id": "135b9cd2",
   "metadata": {},
   "source": [
    "### Solution 3 (onliner)"
   ]
  },
  {
   "cell_type": "code",
   "execution_count": 8,
   "id": "2403ae40",
   "metadata": {},
   "outputs": [
    {
     "name": "stdout",
     "output_type": "stream",
     "text": [
      "  4.098 ms (8171 allocations: 7.87 MiB)\n"
     ]
    },
    {
     "data": {
      "text/plain": [
       "23514624000"
      ]
     },
     "metadata": {},
     "output_type": "display_data"
    }
   ],
   "source": [
    "@btime maximum(prod([parse(Int64, c) for c in series][i:i+13-1]) for i in 1:length(series)-13+1)"
   ]
  },
  {
   "cell_type": "markdown",
   "id": "52e69e83",
   "metadata": {},
   "source": [
    "### Save benchmark"
   ]
  },
  {
   "cell_type": "code",
   "execution_count": 9,
   "id": "40c77eb1",
   "metadata": {},
   "outputs": [],
   "source": [
    "include(\"./euler.jl\")\n",
    "bm = @benchmark largest_reduce(series, 13)\n",
    "euler.save_benchmark(8, bm);"
   ]
  }
 ],
 "metadata": {
  "kernelspec": {
   "display_name": "Julia 1.11.1",
   "language": "julia",
   "name": "julia-1.11"
  },
  "language_info": {
   "file_extension": ".jl",
   "mimetype": "application/julia",
   "name": "julia",
   "version": "1.11.1"
  }
 },
 "nbformat": 4,
 "nbformat_minor": 5
}
