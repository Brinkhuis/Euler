{
 "cells": [
  {
   "cell_type": "markdown",
   "id": "c6e2ad94-1596-4b05-a508-e71eeba93df9",
   "metadata": {},
   "source": [
    "## Problem 8\n",
    "https://projecteuler.net/problem=8"
   ]
  },
  {
   "cell_type": "code",
   "execution_count": 54,
   "id": "abccc5dd",
   "metadata": {},
   "outputs": [],
   "source": [
    "using BenchmarkTools"
   ]
  },
  {
   "cell_type": "code",
   "execution_count": 55,
   "id": "06633235",
   "metadata": {},
   "outputs": [],
   "source": [
    "digit_series = digits(parse(BigInt, read(\"data/0008_series.txt\", String)));"
   ]
  },
  {
   "cell_type": "markdown",
   "id": "91800791",
   "metadata": {},
   "source": [
    "#### Solution 1"
   ]
  },
  {
   "cell_type": "code",
   "execution_count": 56,
   "id": "62dc1b45",
   "metadata": {},
   "outputs": [
    {
     "data": {
      "text/plain": [
       "largest_product (generic function with 3 methods)"
      ]
     },
     "metadata": {},
     "output_type": "display_data"
    }
   ],
   "source": [
    "function largest_product(digit_series::Vector{Int64}, n::Int64)::Int64\n",
    "    largest = 0\n",
    "    for i in 1:length(digit_series)-n+1\n",
    "        x = prod(digit_series[i:i+n-1])\n",
    "        if x > largest\n",
    "            largest = x\n",
    "        end\n",
    "    end\n",
    "    return largest\n",
    "end"
   ]
  },
  {
   "cell_type": "code",
   "execution_count": 58,
   "id": "bf847f05",
   "metadata": {},
   "outputs": [],
   "source": [
    "@assert largest_product(digit_series, 4) == 5832"
   ]
  },
  {
   "cell_type": "code",
   "execution_count": 48,
   "id": "c9067a4f",
   "metadata": {},
   "outputs": [
    {
     "name": "stdout",
     "output_type": "stream",
     "text": [
      "  25.667 μs (988 allocations: 154.38 KiB)\n"
     ]
    },
    {
     "data": {
      "text/plain": [
       "23514624000"
      ]
     },
     "metadata": {},
     "output_type": "display_data"
    }
   ],
   "source": [
    "@btime largest_product(digit_series, 13)"
   ]
  },
  {
   "cell_type": "markdown",
   "id": "b168ef10",
   "metadata": {},
   "source": [
    "#### Solution 2"
   ]
  },
  {
   "cell_type": "code",
   "execution_count": 52,
   "id": "2edeeac7",
   "metadata": {},
   "outputs": [
    {
     "name": "stdout",
     "output_type": "stream",
     "text": [
      "  74.416 μs (3198 allocations: 204.38 KiB)\n"
     ]
    },
    {
     "data": {
      "text/plain": [
       "23514624000"
      ]
     },
     "metadata": {},
     "output_type": "display_data"
    }
   ],
   "source": [
    "@btime maximum(prod(digit_series[i:i+13-1]) for i in 1:length(digit_series)-13+1)"
   ]
  }
 ],
 "metadata": {
  "kernelspec": {
   "display_name": "Julia 1.10.5",
   "language": "julia",
   "name": "julia-1.10"
  },
  "language_info": {
   "file_extension": ".jl",
   "mimetype": "application/julia",
   "name": "julia",
   "version": "1.10.5"
  }
 },
 "nbformat": 4,
 "nbformat_minor": 5
}
