{
 "cells": [
  {
   "cell_type": "markdown",
   "id": "c6e2ad94-1596-4b05-a508-e71eeba93df9",
   "metadata": {},
   "source": [
    "# Problem 35\n",
    "https://projecteuler.net/problem=35"
   ]
  },
  {
   "cell_type": "code",
   "execution_count": 1,
   "id": "4c1c40ee",
   "metadata": {},
   "outputs": [
    {
     "name": "stdout",
     "output_type": "stream",
     "text": [
      "Julia v1.11.1\n"
     ]
    }
   ],
   "source": [
    "println(\"Julia v\", string(VERSION))"
   ]
  },
  {
   "cell_type": "code",
   "execution_count": 2,
   "id": "236042ec",
   "metadata": {},
   "outputs": [],
   "source": [
    "using BenchmarkTools"
   ]
  },
  {
   "cell_type": "markdown",
   "id": "826c1457",
   "metadata": {},
   "source": [
    "### Solution"
   ]
  },
  {
   "cell_type": "code",
   "execution_count": 3,
   "id": "486adb91",
   "metadata": {},
   "outputs": [],
   "source": [
    "using Primes"
   ]
  },
  {
   "cell_type": "code",
   "execution_count": null,
   "id": "40583963",
   "metadata": {},
   "outputs": [],
   "source": [
    "function rotation(n)\n",
    "    rotations = Int64[]\n",
    "    d = reverse(append!(digits(n), digits(n)))\n",
    "    l = ndigits(n)\n",
    "    for i in 1:l\n",
    "        push!(rotations, parse(Int64, join(d[i:i+l-1])))\n",
    "    end\n",
    "    return rotations\n",
    "end\n",
    "\n",
    "@assert rotation(197) == [197, 971, 719]"
   ]
  },
  {
   "cell_type": "code",
   "execution_count": 5,
   "id": "c03057af",
   "metadata": {},
   "outputs": [],
   "source": [
    "is_circular(n) = all(isprime, rotation(n))\n",
    "\n",
    "@assert is_circular(197)"
   ]
  },
  {
   "cell_type": "code",
   "execution_count": 6,
   "id": "145d38d0",
   "metadata": {},
   "outputs": [
    {
     "name": "stdout",
     "output_type": "stream",
     "text": [
      "  188.798 ms (8422423 allocations: 297.32 MiB)\n"
     ]
    },
    {
     "data": {
      "text/plain": [
       "55"
      ]
     },
     "metadata": {},
     "output_type": "display_data"
    }
   ],
   "source": [
    "@btime count(is_circular, primes(999_999))"
   ]
  },
  {
   "cell_type": "markdown",
   "id": "718d0af5",
   "metadata": {},
   "source": [
    "### Save benchmark"
   ]
  },
  {
   "cell_type": "code",
   "execution_count": 7,
   "id": "5a1f4c5e",
   "metadata": {},
   "outputs": [],
   "source": [
    "include(\"./euler.jl\")\n",
    "bm = @benchmark count(is_circular, primes(999_999))\n",
    "euler.save_benchmark(35, bm);"
   ]
  }
 ],
 "metadata": {
  "kernelspec": {
   "display_name": "Julia 1.11.1",
   "language": "julia",
   "name": "julia-1.11"
  },
  "language_info": {
   "file_extension": ".jl",
   "mimetype": "application/julia",
   "name": "julia",
   "version": "1.11.1"
  }
 },
 "nbformat": 4,
 "nbformat_minor": 5
}
