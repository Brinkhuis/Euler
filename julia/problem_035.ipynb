{
 "cells": [
  {
   "cell_type": "markdown",
   "id": "c6e2ad94-1596-4b05-a508-e71eeba93df9",
   "metadata": {},
   "source": [
    "## Problem 35\n",
    "https://projecteuler.net/problem=35"
   ]
  },
  {
   "cell_type": "code",
   "execution_count": 1,
   "id": "236042ec",
   "metadata": {},
   "outputs": [],
   "source": [
    "# Packages\n",
    "using Primes, BenchmarkTools"
   ]
  },
  {
   "cell_type": "code",
   "execution_count": 2,
   "id": "40583963",
   "metadata": {},
   "outputs": [
    {
     "data": {
      "text/plain": [
       "rotation (generic function with 1 method)"
      ]
     },
     "metadata": {},
     "output_type": "display_data"
    }
   ],
   "source": [
    "function rotation(n)\n",
    "    rotations = Int64[]\n",
    "    d = reverse(append!(digits(n), digits(n)))\n",
    "    l = ndigits(n)\n",
    "    for i in 1:l\n",
    "        push!(rotations, parse(Int64, join(d[i:i+l-1])))\n",
    "    end\n",
    "    return rotations\n",
    "end"
   ]
  },
  {
   "cell_type": "code",
   "execution_count": 3,
   "id": "c03057af",
   "metadata": {},
   "outputs": [
    {
     "data": {
      "text/plain": [
       "is_circular (generic function with 1 method)"
      ]
     },
     "metadata": {},
     "output_type": "display_data"
    }
   ],
   "source": [
    "is_circular(n) = all(isprime, rotation(n))"
   ]
  },
  {
   "cell_type": "code",
   "execution_count": 4,
   "id": "5a1f4c5e",
   "metadata": {},
   "outputs": [
    {
     "name": "stdout",
     "output_type": "stream",
     "text": [
      "  238.721 ms (7726957 allocations: 394.00 MiB)\n"
     ]
    },
    {
     "data": {
      "text/plain": [
       "55"
      ]
     },
     "metadata": {},
     "output_type": "display_data"
    }
   ],
   "source": [
    "@btime count(is_circular, primes(999_999))"
   ]
  }
 ],
 "metadata": {
  "kernelspec": {
   "display_name": "Julia 1.10.5",
   "language": "julia",
   "name": "julia-1.10"
  },
  "language_info": {
   "file_extension": ".jl",
   "mimetype": "application/julia",
   "name": "julia",
   "version": "1.10.5"
  }
 },
 "nbformat": 4,
 "nbformat_minor": 5
}
