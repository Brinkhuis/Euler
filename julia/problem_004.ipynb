{
 "cells": [
  {
   "cell_type": "markdown",
   "id": "c6e2ad94-1596-4b05-a508-e71eeba93df9",
   "metadata": {},
   "source": [
    "# Problem 4\n",
    "https://projecteuler.net/problem=4"
   ]
  },
  {
   "cell_type": "code",
   "execution_count": 1,
   "id": "9b28719f",
   "metadata": {},
   "outputs": [
    {
     "name": "stdout",
     "output_type": "stream",
     "text": [
      "Julia v1.11.1\n"
     ]
    }
   ],
   "source": [
    "println(\"Julia v\", VERSION)"
   ]
  },
  {
   "cell_type": "code",
   "execution_count": 2,
   "id": "d4560f0f",
   "metadata": {},
   "outputs": [],
   "source": [
    "using BenchmarkTools"
   ]
  },
  {
   "cell_type": "markdown",
   "id": "cbb2f265",
   "metadata": {},
   "source": [
    "### Solution 1 (no string conversion)"
   ]
  },
  {
   "cell_type": "code",
   "execution_count": 3,
   "id": "55e46c00",
   "metadata": {},
   "outputs": [],
   "source": [
    "function nsc(n)\n",
    "    lo, hi = 10^(n-1), (10^n)-1\n",
    "    palindrome_products = []\n",
    "    for i in lo:hi, j in lo:hi\n",
    "        if digits(i*j) == reverse(digits(i*j))\n",
    "            push!(palindrome_products, i*j)\n",
    "        end\n",
    "    end\n",
    "    return maximum(palindrome_products)\n",
    "end\n",
    "\n",
    "@assert nsc(2) == 9009"
   ]
  },
  {
   "cell_type": "code",
   "execution_count": 4,
   "id": "0040ff3c",
   "metadata": {},
   "outputs": [
    {
     "name": "stdout",
     "output_type": "stream",
     "text": [
      "  65.501 ms (4864952 allocations: 253.22 MiB)\n"
     ]
    },
    {
     "data": {
      "text/plain": [
       "906609"
      ]
     },
     "metadata": {},
     "output_type": "display_data"
    }
   ],
   "source": [
    "@btime nsc(3)"
   ]
  },
  {
   "cell_type": "markdown",
   "id": "baf638d4",
   "metadata": {},
   "source": [
    "### Solution 2 (string conversion)"
   ]
  },
  {
   "cell_type": "code",
   "execution_count": 5,
   "id": "d3d90ebf",
   "metadata": {},
   "outputs": [],
   "source": [
    "function ns(n)\n",
    "    lo, hi = 10^(n-1), (10^n)-1\n",
    "    palindrome_products = []\n",
    "    for i in lo:hi, j in lo:hi\n",
    "        if string(i*j) == reverse(string(i*j))\n",
    "            push!(palindrome_products, i*j)\n",
    "        end\n",
    "    end\n",
    "    return maximum(palindrome_products)\n",
    "end\n",
    "\n",
    "@assert ns(2) == 9009"
   ]
  },
  {
   "cell_type": "code",
   "execution_count": 6,
   "id": "a7ba7e84",
   "metadata": {},
   "outputs": [
    {
     "name": "stdout",
     "output_type": "stream",
     "text": [
      "  56.160 ms (4054952 allocations: 105.18 MiB)\n"
     ]
    },
    {
     "data": {
      "text/plain": [
       "906609"
      ]
     },
     "metadata": {},
     "output_type": "display_data"
    }
   ],
   "source": [
    "@btime ns(3)"
   ]
  },
  {
   "cell_type": "markdown",
   "id": "0aa3f737",
   "metadata": {},
   "source": [
    "### Solution 3 (product set)"
   ]
  },
  {
   "cell_type": "code",
   "execution_count": 7,
   "id": "8b7d4a73",
   "metadata": {},
   "outputs": [],
   "source": [
    "function ps(n)\n",
    "    lo, hi = 10^(n-1), (10^n)-1\n",
    "    lpp = 0 # largest palindrome product\n",
    "    for p in Set(i*j for i in lo:hi, j in lo:hi)\n",
    "        s = string(p)\n",
    "        if s == reverse(s) && p > lpp\n",
    "            lpp = p\n",
    "        end\n",
    "    end\n",
    "    return lpp\n",
    "end\n",
    "\n",
    "@assert ps(2) == 9009"
   ]
  },
  {
   "cell_type": "code",
   "execution_count": 8,
   "id": "aed35ec8",
   "metadata": {},
   "outputs": [
    {
     "name": "stdout",
     "output_type": "stream",
     "text": [
      "  21.446 ms (682569 allocations: 35.36 MiB)\n"
     ]
    },
    {
     "data": {
      "text/plain": [
       "906609"
      ]
     },
     "metadata": {},
     "output_type": "display_data"
    }
   ],
   "source": [
    "@btime ps(3)"
   ]
  },
  {
   "cell_type": "markdown",
   "id": "4a17c170",
   "metadata": {},
   "source": [
    "### Solution 4 (oneliner)"
   ]
  },
  {
   "cell_type": "code",
   "execution_count": 9,
   "id": "36080e24",
   "metadata": {},
   "outputs": [
    {
     "name": "stdout",
     "output_type": "stream",
     "text": [
      "  26.551 ms (1137611 allocations: 47.51 MiB)\n"
     ]
    },
    {
     "data": {
      "text/plain": [
       "906609"
      ]
     },
     "metadata": {},
     "output_type": "display_data"
    }
   ],
   "source": [
    "@btime maximum(p for p in Set(i*j for i in 100:999, j in 100:999) if string(p) == reverse(string(p)))"
   ]
  },
  {
   "cell_type": "markdown",
   "id": "840c9fdb",
   "metadata": {},
   "source": [
    "### Save benchmark"
   ]
  },
  {
   "cell_type": "code",
   "execution_count": 10,
   "id": "3daef5f3",
   "metadata": {},
   "outputs": [],
   "source": [
    "include(\"./euler.jl\");\n",
    "b = @benchmark ps(3)\n",
    "euler.save_benchmark(4, b);"
   ]
  }
 ],
 "metadata": {
  "kernelspec": {
   "display_name": "Julia 1.11.1",
   "language": "julia",
   "name": "julia-1.11"
  },
  "language_info": {
   "file_extension": ".jl",
   "mimetype": "application/julia",
   "name": "julia",
   "version": "1.11.1"
  }
 },
 "nbformat": 4,
 "nbformat_minor": 5
}
