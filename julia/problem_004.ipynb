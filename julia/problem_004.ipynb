{
 "cells": [
  {
   "cell_type": "markdown",
   "id": "c6e2ad94-1596-4b05-a508-e71eeba93df9",
   "metadata": {},
   "source": [
    "## Problem 4\n",
    "https://projecteuler.net/problem=4"
   ]
  },
  {
   "cell_type": "code",
   "execution_count": 1,
   "id": "81c2912c",
   "metadata": {},
   "outputs": [
    {
     "data": {
      "text/plain": [
       "largest_palindrome_product (generic function with 1 method)"
      ]
     },
     "metadata": {},
     "output_type": "display_data"
    }
   ],
   "source": [
    "# Largest palindrome product\n",
    "function largest_palindrome_product(digits)\n",
    "    low = 10^(digits-1)\n",
    "    high = (10^digits)-1\n",
    "    r = low:high\n",
    "    palindrome_products = []\n",
    "    for n in r\n",
    "        for m in r\n",
    "            if string(n*m) == string(n*m)[end:-1:begin]\n",
    "                push!(palindrome_products, [n*m, n, m])\n",
    "            end\n",
    "        end\n",
    "    end\n",
    "    return maximum([x[1] for x in palindrome_products])\n",
    "end"
   ]
  },
  {
   "cell_type": "code",
   "execution_count": 2,
   "id": "9d585b52",
   "metadata": {},
   "outputs": [
    {
     "data": {
      "text/plain": [
       "9009"
      ]
     },
     "metadata": {},
     "output_type": "display_data"
    }
   ],
   "source": [
    "# Test run\n",
    "largest_palindrome_product(2)"
   ]
  },
  {
   "cell_type": "code",
   "execution_count": 3,
   "id": "7d2ebc28",
   "metadata": {},
   "outputs": [
    {
     "data": {
      "text/plain": [
       "906609"
      ]
     },
     "metadata": {},
     "output_type": "display_data"
    }
   ],
   "source": [
    "# Answer\n",
    "largest_palindrome_product(3)"
   ]
  }
 ],
 "metadata": {
  "kernelspec": {
   "display_name": "Julia 1.10.5",
   "language": "julia",
   "name": "julia-1.10"
  },
  "language_info": {
   "file_extension": ".jl",
   "mimetype": "application/julia",
   "name": "julia",
   "version": "1.10.5"
  }
 },
 "nbformat": 4,
 "nbformat_minor": 5
}
