{
 "cells": [
  {
   "cell_type": "markdown",
   "id": "c6e2ad94-1596-4b05-a508-e71eeba93df9",
   "metadata": {},
   "source": [
    "## Problem 4\n",
    "https://projecteuler.net/problem=4"
   ]
  },
  {
   "cell_type": "code",
   "execution_count": 1,
   "id": "d4560f0f",
   "metadata": {},
   "outputs": [],
   "source": [
    "using BenchmarkTools"
   ]
  },
  {
   "cell_type": "markdown",
   "id": "baf638d4",
   "metadata": {},
   "source": [
    "#### Solution 1"
   ]
  },
  {
   "cell_type": "code",
   "execution_count": 2,
   "id": "d3d90ebf",
   "metadata": {},
   "outputs": [
    {
     "data": {
      "text/plain": [
       "largest_palindrome_product (generic function with 1 method)"
      ]
     },
     "metadata": {},
     "output_type": "display_data"
    }
   ],
   "source": [
    "function largest_palindrome_product(n)\n",
    "    lo = 10^(n-1)\n",
    "    hi = (10^n)-1\n",
    "    palindrome_products = []\n",
    "    for i in lo:hi\n",
    "        for j in lo:hi\n",
    "            if string(i*j) == string(i*j)[end:-1:begin] # string operation\n",
    "                push!(palindrome_products, i*j)\n",
    "            end\n",
    "        end\n",
    "    end\n",
    "    return maximum(palindrome_products)\n",
    "end"
   ]
  },
  {
   "cell_type": "code",
   "execution_count": 3,
   "id": "fa8b4db6",
   "metadata": {},
   "outputs": [
    {
     "name": "stdout",
     "output_type": "stream",
     "text": [
      "  103.812 ms (6484949 allocations: 290.58 MiB)\n"
     ]
    },
    {
     "data": {
      "text/plain": [
       "906609"
      ]
     },
     "metadata": {},
     "output_type": "display_data"
    }
   ],
   "source": [
    "@btime largest_palindrome_product(3)"
   ]
  },
  {
   "cell_type": "markdown",
   "id": "cbb2f265",
   "metadata": {},
   "source": [
    "#### Solution 2"
   ]
  },
  {
   "cell_type": "code",
   "execution_count": 4,
   "id": "55e46c00",
   "metadata": {},
   "outputs": [
    {
     "data": {
      "text/plain": [
       "largest_palindrome_product (generic function with 1 method)"
      ]
     },
     "metadata": {},
     "output_type": "display_data"
    }
   ],
   "source": [
    "function largest_palindrome_product(n)\n",
    "    lo = 10^(n-1)\n",
    "    hi = (10^n)-1\n",
    "    palindrome_products = []\n",
    "    for i in lo:hi\n",
    "        for j in lo:hi\n",
    "            if digits(i*j) == reverse(digits(i*j)) # no string operation\n",
    "                push!(palindrome_products, i*j)\n",
    "            end\n",
    "        end\n",
    "    end\n",
    "    return maximum(palindrome_products)\n",
    "end"
   ]
  },
  {
   "cell_type": "code",
   "execution_count": 5,
   "id": "3dcb61f7",
   "metadata": {},
   "outputs": [
    {
     "name": "stdout",
     "output_type": "stream",
     "text": [
      "  64.048 ms (2434949 allocations: 253.22 MiB)\n"
     ]
    },
    {
     "data": {
      "text/plain": [
       "906609"
      ]
     },
     "metadata": {},
     "output_type": "display_data"
    }
   ],
   "source": [
    "@btime largest_palindrome_product(3)"
   ]
  },
  {
   "cell_type": "markdown",
   "id": "0aa3f737",
   "metadata": {},
   "source": [
    "#### Solution 3"
   ]
  },
  {
   "cell_type": "code",
   "execution_count": 6,
   "id": "596e9a7c",
   "metadata": {},
   "outputs": [
    {
     "data": {
      "text/plain": [
       "largest_palindrome_product (generic function with 1 method)"
      ]
     },
     "metadata": {},
     "output_type": "display_data"
    }
   ],
   "source": [
    "function largest_palindrome_product(n)\n",
    "    lo = 10^(n-1)\n",
    "    hi = (10^n)-1\n",
    "    palindrome_products = []\n",
    "    for prod in Set(i*j for i in lo:hi, j in lo:hi)\n",
    "        if digits(prod) == reverse(digits(prod)) # no string operation\n",
    "            push!(palindrome_products, prod)\n",
    "        end\n",
    "    end\n",
    "    return maximum(palindrome_products)\n",
    "end"
   ]
  },
  {
   "cell_type": "code",
   "execution_count": 7,
   "id": "67cb8771",
   "metadata": {},
   "outputs": [
    {
     "name": "stdout",
     "output_type": "stream",
     "text": [
      "  30.545 ms (683887 allocations: 89.43 MiB)\n"
     ]
    },
    {
     "data": {
      "text/plain": [
       "906609"
      ]
     },
     "metadata": {},
     "output_type": "display_data"
    }
   ],
   "source": [
    "@btime largest_palindrome_product(3)"
   ]
  }
 ],
 "metadata": {
  "kernelspec": {
   "display_name": "Julia 1.10.5",
   "language": "julia",
   "name": "julia-1.10"
  },
  "language_info": {
   "file_extension": ".jl",
   "mimetype": "application/julia",
   "name": "julia",
   "version": "1.10.5"
  }
 },
 "nbformat": 4,
 "nbformat_minor": 5
}
