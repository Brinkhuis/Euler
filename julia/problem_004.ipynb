{
 "cells": [
  {
   "cell_type": "markdown",
   "id": "c6e2ad94-1596-4b05-a508-e71eeba93df9",
   "metadata": {},
   "source": [
    "## Problem 4\n",
    "https://projecteuler.net/problem=4"
   ]
  },
  {
   "cell_type": "code",
   "execution_count": 1,
   "id": "d4560f0f",
   "metadata": {},
   "outputs": [],
   "source": [
    "using BenchmarkTools"
   ]
  },
  {
   "cell_type": "markdown",
   "id": "cbb2f265",
   "metadata": {},
   "source": [
    "#### Solution 1 (no string conversion)"
   ]
  },
  {
   "cell_type": "code",
   "execution_count": 2,
   "id": "55e46c00",
   "metadata": {},
   "outputs": [
    {
     "data": {
      "text/plain": [
       "largest_palindrome_product (generic function with 1 method)"
      ]
     },
     "metadata": {},
     "output_type": "display_data"
    }
   ],
   "source": [
    "function largest_palindrome_product(n)\n",
    "    lo = 10^(n-1)\n",
    "    hi = (10^n)-1\n",
    "    palindrome_products = []\n",
    "    for i in lo:hi\n",
    "        for j in lo:hi\n",
    "            if digits(i*j) == reverse(digits(i*j))\n",
    "                push!(palindrome_products, i*j)\n",
    "            end\n",
    "        end\n",
    "    end\n",
    "    return maximum(palindrome_products)\n",
    "end"
   ]
  },
  {
   "cell_type": "code",
   "execution_count": 3,
   "id": "3dcb61f7",
   "metadata": {},
   "outputs": [
    {
     "name": "stdout",
     "output_type": "stream",
     "text": [
      "  64.039 ms (2434949 allocations: 253.22 MiB)\n"
     ]
    },
    {
     "data": {
      "text/plain": [
       "906609"
      ]
     },
     "metadata": {},
     "output_type": "display_data"
    }
   ],
   "source": [
    "@btime largest_palindrome_product(3)"
   ]
  },
  {
   "cell_type": "markdown",
   "id": "baf638d4",
   "metadata": {},
   "source": [
    "#### Solution 2 (string conversion)"
   ]
  },
  {
   "cell_type": "code",
   "execution_count": 4,
   "id": "d3d90ebf",
   "metadata": {},
   "outputs": [
    {
     "data": {
      "text/plain": [
       "largest_palindrome_product (generic function with 1 method)"
      ]
     },
     "metadata": {},
     "output_type": "display_data"
    }
   ],
   "source": [
    "function largest_palindrome_product(n)\n",
    "    lo = 10^(n-1)\n",
    "    hi = (10^n)-1\n",
    "    palindrome_products = []\n",
    "    for i in lo:hi\n",
    "        for j in lo:hi\n",
    "            if string(i*j) == reverse(string(i*j))\n",
    "                push!(palindrome_products, i*j)\n",
    "            end\n",
    "        end\n",
    "    end\n",
    "    return maximum(palindrome_products)\n",
    "end"
   ]
  },
  {
   "cell_type": "code",
   "execution_count": 5,
   "id": "fa8b4db6",
   "metadata": {},
   "outputs": [
    {
     "name": "stdout",
     "output_type": "stream",
     "text": [
      "  44.531 ms (4054949 allocations: 154.62 MiB)\n"
     ]
    },
    {
     "data": {
      "text/plain": [
       "906609"
      ]
     },
     "metadata": {},
     "output_type": "display_data"
    }
   ],
   "source": [
    "@btime largest_palindrome_product(3)"
   ]
  },
  {
   "cell_type": "markdown",
   "id": "0aa3f737",
   "metadata": {},
   "source": [
    "#### Solution 3 (minimize overhead)"
   ]
  },
  {
   "cell_type": "code",
   "execution_count": 6,
   "id": "8b7d4a73",
   "metadata": {},
   "outputs": [
    {
     "data": {
      "text/plain": [
       "largest_palindrome_product (generic function with 1 method)"
      ]
     },
     "metadata": {},
     "output_type": "display_data"
    }
   ],
   "source": [
    "function largest_palindrome_product(n)\n",
    "    lo = 10^(n-1)\n",
    "    hi = (10^n)-1\n",
    "    lpp = 0 # largest palindrome product\n",
    "    for p in Set(i*j for i in lo:hi, j in lo:hi)\n",
    "        s = string(p)\n",
    "        if s == reverse(s) && p > lpp\n",
    "            lpp = p\n",
    "        end\n",
    "    end\n",
    "    return lpp\n",
    "end"
   ]
  },
  {
   "cell_type": "code",
   "execution_count": 7,
   "id": "67cb8771",
   "metadata": {},
   "outputs": [
    {
     "name": "stdout",
     "output_type": "stream",
     "text": [
      "  18.572 ms (682570 allocations: 42.30 MiB)\n"
     ]
    },
    {
     "data": {
      "text/plain": [
       "906609"
      ]
     },
     "metadata": {},
     "output_type": "display_data"
    }
   ],
   "source": [
    "@btime largest_palindrome_product(3)"
   ]
  },
  {
   "cell_type": "markdown",
   "id": "4a17c170",
   "metadata": {},
   "source": [
    "#### Solution 4 (oneliner)"
   ]
  },
  {
   "cell_type": "code",
   "execution_count": 8,
   "id": "68f41b36",
   "metadata": {},
   "outputs": [
    {
     "name": "stdout",
     "output_type": "stream",
     "text": [
      "  23.806 ms (1137612 allocations: 61.40 MiB)\n"
     ]
    },
    {
     "data": {
      "text/plain": [
       "906609"
      ]
     },
     "metadata": {},
     "output_type": "display_data"
    }
   ],
   "source": [
    "@btime maximum(p for p in Set(i*j for i in 100:999, j in 100:999) if string(p) == reverse(string(p)))"
   ]
  }
 ],
 "metadata": {
  "kernelspec": {
   "display_name": "Julia 1.10.5",
   "language": "julia",
   "name": "julia-1.10"
  },
  "language_info": {
   "file_extension": ".jl",
   "mimetype": "application/julia",
   "name": "julia",
   "version": "1.10.5"
  }
 },
 "nbformat": 4,
 "nbformat_minor": 5
}
