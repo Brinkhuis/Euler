{
 "cells": [
  {
   "cell_type": "markdown",
   "id": "c6e2ad94-1596-4b05-a508-e71eeba93df9",
   "metadata": {},
   "source": [
    "# Problem 36\n",
    "https://projecteuler.net/problem=36"
   ]
  },
  {
   "cell_type": "code",
   "execution_count": 1,
   "id": "5fd45dc8",
   "metadata": {},
   "outputs": [
    {
     "name": "stdout",
     "output_type": "stream",
     "text": [
      "Julia v1.11.1\n"
     ]
    }
   ],
   "source": [
    "println(\"Julia v\", string(VERSION))"
   ]
  },
  {
   "cell_type": "code",
   "execution_count": 2,
   "id": "236042ec",
   "metadata": {},
   "outputs": [],
   "source": [
    "using BenchmarkTools"
   ]
  },
  {
   "cell_type": "markdown",
   "id": "b7c09db6",
   "metadata": {},
   "source": [
    "### Solution"
   ]
  },
  {
   "cell_type": "code",
   "execution_count": 3,
   "id": "fedbf911",
   "metadata": {},
   "outputs": [],
   "source": [
    "is_palindromic(n) = digits(n) == reverse(digits(n)) && digits(n, base=2) == reverse(digits(n, base=2))\n",
    "\n",
    "@assert is_palindromic(585)"
   ]
  },
  {
   "cell_type": "code",
   "execution_count": 4,
   "id": "c55a76fa",
   "metadata": {},
   "outputs": [
    {
     "name": "stdout",
     "output_type": "stream",
     "text": [
      "  74.185 ms (6011988 allocations: 317.05 MiB)\n"
     ]
    },
    {
     "data": {
      "text/plain": [
       "872187"
      ]
     },
     "metadata": {},
     "output_type": "display_data"
    }
   ],
   "source": [
    "@btime sum(findall(is_palindromic, 1:999_999))"
   ]
  },
  {
   "cell_type": "markdown",
   "id": "fb2d09d0",
   "metadata": {},
   "source": [
    "### Save benchmark"
   ]
  },
  {
   "cell_type": "code",
   "execution_count": 5,
   "id": "bc38d7dc",
   "metadata": {},
   "outputs": [],
   "source": [
    "include(\"./euler.jl\")\n",
    "bm = @benchmark sum(findall(is_palindromic, 1:999_999))\n",
    "euler.save_benchmark(36, bm);"
   ]
  }
 ],
 "metadata": {
  "kernelspec": {
   "display_name": "Julia 1.11.1",
   "language": "julia",
   "name": "julia-1.11"
  },
  "language_info": {
   "file_extension": ".jl",
   "mimetype": "application/julia",
   "name": "julia",
   "version": "1.11.1"
  }
 },
 "nbformat": 4,
 "nbformat_minor": 5
}
