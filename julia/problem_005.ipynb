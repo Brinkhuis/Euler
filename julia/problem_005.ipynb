{
 "cells": [
  {
   "cell_type": "markdown",
   "id": "c6e2ad94-1596-4b05-a508-e71eeba93df9",
   "metadata": {},
   "source": [
    "# Problem 5\n",
    "https://projecteuler.net/problem=5"
   ]
  },
  {
   "cell_type": "code",
   "execution_count": 1,
   "id": "33087cca",
   "metadata": {},
   "outputs": [
    {
     "name": "stdout",
     "output_type": "stream",
     "text": [
      "Julia v1.11.1\n"
     ]
    }
   ],
   "source": [
    "println(\"Julia v\", VERSION)"
   ]
  },
  {
   "cell_type": "code",
   "execution_count": 2,
   "id": "2e00996e",
   "metadata": {},
   "outputs": [],
   "source": [
    "using BenchmarkTools"
   ]
  },
  {
   "cell_type": "markdown",
   "id": "24ed8404",
   "metadata": {},
   "source": [
    "### Solution 1 (brute force / iterator)"
   ]
  },
  {
   "cell_type": "code",
   "execution_count": 3,
   "id": "58c04d06",
   "metadata": {},
   "outputs": [],
   "source": [
    "function smallest_multiple_bf(n) # brute force\n",
    "    for c in Iterators.countfrom()\n",
    "        all([c%i == 0 for i in 2:n]) && return c\n",
    "    end\n",
    "end\n",
    "\n",
    "@assert smallest_multiple_bf(10) == 2520"
   ]
  },
  {
   "cell_type": "code",
   "execution_count": 4,
   "id": "ef90bd3b",
   "metadata": {},
   "outputs": [
    {
     "name": "stdout",
     "output_type": "stream",
     "text": [
      "  7.375 s (465585120 allocations: 17.34 GiB)\n"
     ]
    },
    {
     "data": {
      "text/plain": [
       "232792560"
      ]
     },
     "metadata": {},
     "output_type": "display_data"
    }
   ],
   "source": [
    "@btime smallest_multiple_bf(20) samples=1"
   ]
  },
  {
   "cell_type": "markdown",
   "id": "499bf6f1",
   "metadata": {},
   "source": [
    "### Solution 2 (smart force / counter)"
   ]
  },
  {
   "cell_type": "code",
   "execution_count": 5,
   "id": "cd51abc9",
   "metadata": {},
   "outputs": [],
   "source": [
    "function smallest_multiple_sf(n)\n",
    "    c = n\n",
    "    while !all([c%i == 0 for i in 2:n-1])\n",
    "        c += n\n",
    "    end\n",
    "    return c\n",
    "end\n",
    "\n",
    "@assert smallest_multiple_sf(10) == 2520"
   ]
  },
  {
   "cell_type": "code",
   "execution_count": 6,
   "id": "e304a8a7",
   "metadata": {},
   "outputs": [
    {
     "name": "stdout",
     "output_type": "stream",
     "text": [
      "  7.121 s (58198116 allocations: 1.56 GiB)\n"
     ]
    },
    {
     "data": {
      "text/plain": [
       "232792560"
      ]
     },
     "metadata": {},
     "output_type": "display_data"
    }
   ],
   "source": [
    "@btime smallest_multiple_sf(20)"
   ]
  },
  {
   "cell_type": "markdown",
   "id": "750695d1",
   "metadata": {},
   "source": [
    "### Solution 3 (divisors / denominators)"
   ]
  },
  {
   "cell_type": "code",
   "execution_count": 7,
   "id": "acb13455",
   "metadata": {},
   "outputs": [],
   "source": [
    "function divisor(n)\n",
    "    divisor_list = Int64[]\n",
    "    n ≤ 0 && return divisor_list\n",
    "    for d in 1:isqrt(n)+1\n",
    "        if n%d == 0\n",
    "            append!(divisor_list, [n÷d, d])\n",
    "        end\n",
    "    end\n",
    "    return sort(unique(divisor_list))\n",
    "end\n",
    "\n",
    "@assert divisor(10) == [1, 2, 5, 10]"
   ]
  },
  {
   "cell_type": "code",
   "execution_count": 8,
   "id": "ea19ee9c",
   "metadata": {},
   "outputs": [],
   "source": [
    "function smallest_multiple_dd(n)\n",
    "    divisors = Set(Set(divisor(i)[begin:end-1]) for i in 2:n)\n",
    "    denominators = setdiff(Set(1:n), Set(number for sub_list in divisors for number in sub_list))\n",
    "    x = n\n",
    "    while !all([x%i == 0 for i in denominators])\n",
    "        x += n\n",
    "    end\n",
    "    return x\n",
    "end\n",
    "\n",
    "@assert smallest_multiple_dd(10) == 2520 \"Value should be 2520\""
   ]
  },
  {
   "cell_type": "code",
   "execution_count": 9,
   "id": "7c56d49b",
   "metadata": {},
   "outputs": [
    {
     "name": "stdout",
     "output_type": "stream",
     "text": [
      "  5.641 s (46558846 allocations: 1.39 GiB)\n"
     ]
    },
    {
     "data": {
      "text/plain": [
       "232792560"
      ]
     },
     "metadata": {},
     "output_type": "display_data"
    }
   ],
   "source": [
    "@btime smallest_multiple_dd(20)"
   ]
  },
  {
   "cell_type": "markdown",
   "id": "860d3474",
   "metadata": {},
   "source": [
    "### Solution 4 (denominator check)"
   ]
  },
  {
   "cell_type": "code",
   "execution_count": 10,
   "id": "9d12ed57",
   "metadata": {},
   "outputs": [],
   "source": [
    "function divisor(n)\n",
    "    divisor_list = Int64[]\n",
    "    n ≤ 0 && return divisor_list\n",
    "    for d in 1:isqrt(n)+1\n",
    "        if n%d == 0\n",
    "            append!(divisor_list, [n÷d, d])\n",
    "        end\n",
    "    end\n",
    "    return sort(unique(divisor_list))\n",
    "end\n",
    "\n",
    "@assert divisor(10) == [1, 2, 5, 10]"
   ]
  },
  {
   "cell_type": "code",
   "execution_count": 11,
   "id": "a47c4bd6",
   "metadata": {},
   "outputs": [],
   "source": [
    "function denominator_check(n, denoms)\n",
    "    for d in denoms\n",
    "        n%d == 0 ? continue : return false\n",
    "    end\n",
    "    return true\n",
    "end\n",
    "\n",
    "@assert denominator_check(10, [1, 2, 5, 10]) == true\n",
    "@assert denominator_check(15, [1, 2, 5, 10]) == false"
   ]
  },
  {
   "cell_type": "code",
   "execution_count": 12,
   "id": "828131e4",
   "metadata": {},
   "outputs": [],
   "source": [
    "function smallest_multiple_dd(n)\n",
    "    divisors = Set(number for sub_list in Set(Set(divisor(i)[begin:end-1]) for i in 2:n) for number in sub_list)\n",
    "    denominators = sort(collect(setdiff(Set(1:n-1), divisors)), rev=true)\n",
    "    x = n\n",
    "    while !denominator_check(x, denominators) == true\n",
    "        x += n\n",
    "    end\n",
    "    return x\n",
    "end\n",
    "\n",
    "@assert smallest_multiple_dd(10) == 2520 \"Value should be 2520\""
   ]
  },
  {
   "cell_type": "code",
   "execution_count": 13,
   "id": "8a4c9c35",
   "metadata": {},
   "outputs": [
    {
     "name": "stdout",
     "output_type": "stream",
     "text": [
      "  8.470 ms (362 allocations: 23.42 KiB)\n"
     ]
    },
    {
     "data": {
      "text/plain": [
       "232792560"
      ]
     },
     "metadata": {},
     "output_type": "display_data"
    }
   ],
   "source": [
    "@btime smallest_multiple_dd(20)"
   ]
  },
  {
   "cell_type": "markdown",
   "id": "f2dfeda4",
   "metadata": {},
   "source": [
    "### Solution 5 (lcm)"
   ]
  },
  {
   "cell_type": "code",
   "execution_count": 14,
   "id": "4e5f25a7",
   "metadata": {},
   "outputs": [
    {
     "name": "stdout",
     "output_type": "stream",
     "text": [
      "  312.671 ns (0 allocations: 0 bytes)\n"
     ]
    },
    {
     "data": {
      "text/plain": [
       "232792560"
      ]
     },
     "metadata": {},
     "output_type": "display_data"
    }
   ],
   "source": [
    "@btime lcm(1:20)"
   ]
  },
  {
   "cell_type": "markdown",
   "id": "7fd4659d",
   "metadata": {},
   "source": [
    "### Solution 6 (lcm, denominators)"
   ]
  },
  {
   "cell_type": "code",
   "execution_count": 15,
   "id": "10f29728",
   "metadata": {},
   "outputs": [
    {
     "name": "stdout",
     "output_type": "stream",
     "text": [
      "  178.244 ns (0 allocations: 0 bytes)\n"
     ]
    },
    {
     "data": {
      "text/plain": [
       "232792560"
      ]
     },
     "metadata": {},
     "output_type": "display_data"
    }
   ],
   "source": [
    "@btime lcm(11:20)"
   ]
  },
  {
   "cell_type": "markdown",
   "id": "32937635",
   "metadata": {},
   "source": [
    "### Save benchmark"
   ]
  },
  {
   "cell_type": "code",
   "execution_count": null,
   "id": "0682c8e2",
   "metadata": {},
   "outputs": [],
   "source": [
    "include(\"./euler.jl\");\n",
    "bm = @benchmark lcm(11:20)\n",
    "euler.save_benchmark(5, bm);"
   ]
  }
 ],
 "metadata": {
  "kernelspec": {
   "display_name": "Julia 1.11.1",
   "language": "julia",
   "name": "julia-1.11"
  },
  "language_info": {
   "file_extension": ".jl",
   "mimetype": "application/julia",
   "name": "julia",
   "version": "1.11.1"
  }
 },
 "nbformat": 4,
 "nbformat_minor": 5
}
