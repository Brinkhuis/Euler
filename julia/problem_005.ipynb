{
 "cells": [
  {
   "cell_type": "markdown",
   "id": "c6e2ad94-1596-4b05-a508-e71eeba93df9",
   "metadata": {},
   "source": [
    "## Problem 5\n",
    "https://projecteuler.net/problem=5"
   ]
  },
  {
   "cell_type": "code",
   "execution_count": 1,
   "id": "2e00996e",
   "metadata": {},
   "outputs": [],
   "source": [
    "using BenchmarkTools"
   ]
  },
  {
   "cell_type": "markdown",
   "id": "3957408b",
   "metadata": {},
   "source": [
    "#### Solution 1 (counter)"
   ]
  },
  {
   "cell_type": "code",
   "execution_count": 2,
   "id": "55678f7f",
   "metadata": {},
   "outputs": [
    {
     "data": {
      "text/plain": [
       "smallest_multiple (generic function with 1 method)"
      ]
     },
     "metadata": {},
     "output_type": "display_data"
    }
   ],
   "source": [
    "function smallest_multiple(n)\n",
    "    c = 1\n",
    "    while !all([c%i == 0 for i in 1:n])\n",
    "        c += 1\n",
    "    end\n",
    "    return c\n",
    "end"
   ]
  },
  {
   "cell_type": "code",
   "execution_count": 3,
   "id": "ff0a8190",
   "metadata": {},
   "outputs": [
    {
     "name": "stdout",
     "output_type": "stream",
     "text": [
      "  159.160 s (931169730 allocations: 31.22 GiB)\n"
     ]
    },
    {
     "data": {
      "text/plain": [
       "232792560"
      ]
     },
     "metadata": {},
     "output_type": "display_data"
    }
   ],
   "source": [
    "@btime smallest_multiple(20)"
   ]
  },
  {
   "cell_type": "markdown",
   "id": "f32d962f",
   "metadata": {},
   "source": [
    "#### Solution 2 (iterator)"
   ]
  },
  {
   "cell_type": "code",
   "execution_count": 4,
   "id": "ae556c5e",
   "metadata": {},
   "outputs": [
    {
     "data": {
      "text/plain": [
       "smallest_multiple (generic function with 2 methods)"
      ]
     },
     "metadata": {},
     "output_type": "display_data"
    }
   ],
   "source": [
    "function smallest_multiple(n)\n",
    "    for c in Iterators.countfrom()\n",
    "        all([c%i == 0 for i in 1:n]) && return c\n",
    "    end\n",
    "end"
   ]
  },
  {
   "cell_type": "code",
   "execution_count": 5,
   "id": "550f00d4",
   "metadata": {},
   "outputs": [
    {
     "name": "stdout",
     "output_type": "stream",
     "text": [
      "  158.918 s (931169730 allocations: 31.22 GiB)\n"
     ]
    },
    {
     "data": {
      "text/plain": [
       "232792560"
      ]
     },
     "metadata": {},
     "output_type": "display_data"
    }
   ],
   "source": [
    "@btime smallest_multiple(20)"
   ]
  },
  {
   "cell_type": "markdown",
   "id": "f2dfeda4",
   "metadata": {},
   "source": [
    "#### Solution 3 (oneliner)"
   ]
  },
  {
   "cell_type": "code",
   "execution_count": 6,
   "id": "ea3d423d",
   "metadata": {},
   "outputs": [
    {
     "name": "stdout",
     "output_type": "stream",
     "text": [
      "  318.367 ns (0 allocations: 0 bytes)\n"
     ]
    },
    {
     "data": {
      "text/plain": [
       "232792560"
      ]
     },
     "metadata": {},
     "output_type": "display_data"
    }
   ],
   "source": [
    "@btime lcm(1:20)"
   ]
  }
 ],
 "metadata": {
  "kernelspec": {
   "display_name": "Julia 1.10.5",
   "language": "julia",
   "name": "julia-1.10"
  },
  "language_info": {
   "file_extension": ".jl",
   "mimetype": "application/julia",
   "name": "julia",
   "version": "1.10.5"
  }
 },
 "nbformat": 4,
 "nbformat_minor": 5
}
