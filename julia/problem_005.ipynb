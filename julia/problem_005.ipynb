{
 "cells": [
  {
   "cell_type": "markdown",
   "id": "c6e2ad94-1596-4b05-a508-e71eeba93df9",
   "metadata": {},
   "source": [
    "## Problem 5\n",
    "https://projecteuler.net/problem=5"
   ]
  },
  {
   "cell_type": "code",
   "execution_count": 1,
   "id": "2e00996e",
   "metadata": {},
   "outputs": [],
   "source": [
    "using BenchmarkTools\n",
    "include(\"./euler.jl\");"
   ]
  },
  {
   "cell_type": "markdown",
   "id": "3957408b",
   "metadata": {},
   "source": [
    "#### Solution 1 (counter)"
   ]
  },
  {
   "cell_type": "code",
   "execution_count": 2,
   "id": "55678f7f",
   "metadata": {},
   "outputs": [
    {
     "data": {
      "text/plain": [
       "smallest_multiple (generic function with 1 method)"
      ]
     },
     "metadata": {},
     "output_type": "display_data"
    }
   ],
   "source": [
    "function smallest_multiple(n)\n",
    "    c = 1\n",
    "    while !all([c%i == 0 for i in 1:n])\n",
    "        c += 1\n",
    "    end\n",
    "    return c\n",
    "end"
   ]
  },
  {
   "cell_type": "code",
   "execution_count": 3,
   "id": "74d053d5",
   "metadata": {},
   "outputs": [
    {
     "data": {
      "text/plain": [
       "232792560"
      ]
     },
     "metadata": {},
     "output_type": "display_data"
    }
   ],
   "source": [
    "smallest_multiple(20)"
   ]
  },
  {
   "cell_type": "code",
   "execution_count": 4,
   "id": "ff0a8190",
   "metadata": {},
   "outputs": [
    {
     "data": {
      "text/plain": [
       "BenchmarkTools.Trial: 1 sample with 1 evaluation.\n",
       " Single result which took \u001b[34m137.368 s\u001b[39m (1.28% GC) to evaluate,\n",
       " with a memory estimate of \u001b[33m31.22 GiB\u001b[39m, over \u001b[33m1163962290\u001b[39m allocations."
      ]
     },
     "metadata": {},
     "output_type": "display_data"
    }
   ],
   "source": [
    "b = @benchmark smallest_multiple(20)"
   ]
  },
  {
   "cell_type": "code",
   "execution_count": 5,
   "id": "37d11515",
   "metadata": {},
   "outputs": [],
   "source": [
    "euler.save_benchmark(5, b);"
   ]
  },
  {
   "cell_type": "markdown",
   "id": "f32d962f",
   "metadata": {},
   "source": [
    "#### Solution 2 (iterator)"
   ]
  },
  {
   "cell_type": "code",
   "execution_count": 6,
   "id": "ae556c5e",
   "metadata": {},
   "outputs": [
    {
     "data": {
      "text/plain": [
       "smallest_multiple (generic function with 1 method)"
      ]
     },
     "metadata": {},
     "output_type": "display_data"
    }
   ],
   "source": [
    "function smallest_multiple(n)\n",
    "    for c in Iterators.countfrom()\n",
    "        all([c%i == 0 for i in 1:n]) && return c\n",
    "    end\n",
    "end"
   ]
  },
  {
   "cell_type": "code",
   "execution_count": 7,
   "id": "24dca935",
   "metadata": {},
   "outputs": [
    {
     "data": {
      "text/plain": [
       "232792560"
      ]
     },
     "metadata": {},
     "output_type": "display_data"
    }
   ],
   "source": [
    "smallest_multiple(20)"
   ]
  },
  {
   "cell_type": "code",
   "execution_count": 8,
   "id": "550f00d4",
   "metadata": {},
   "outputs": [
    {
     "data": {
      "text/plain": [
       "BenchmarkTools.Trial: 1 sample with 1 evaluation.\n",
       " Single result which took \u001b[34m7.211 s\u001b[39m (12.84% GC) to evaluate,\n",
       " with a memory estimate of \u001b[33m17.34 GiB\u001b[39m, over \u001b[33m465585120\u001b[39m allocations."
      ]
     },
     "metadata": {},
     "output_type": "display_data"
    }
   ],
   "source": [
    "b = @benchmark smallest_multiple(20)"
   ]
  },
  {
   "cell_type": "code",
   "execution_count": 9,
   "id": "7ab458a3",
   "metadata": {},
   "outputs": [],
   "source": [
    "euler.save_benchmark(5, b);"
   ]
  },
  {
   "cell_type": "markdown",
   "id": "f2dfeda4",
   "metadata": {},
   "source": [
    "#### Solution 3 (oneliner)"
   ]
  },
  {
   "cell_type": "code",
   "execution_count": 10,
   "id": "4e5f25a7",
   "metadata": {},
   "outputs": [
    {
     "data": {
      "text/plain": [
       "232792560"
      ]
     },
     "metadata": {},
     "output_type": "display_data"
    }
   ],
   "source": [
    "lcm(1:20)"
   ]
  },
  {
   "cell_type": "code",
   "execution_count": 11,
   "id": "ea3d423d",
   "metadata": {},
   "outputs": [
    {
     "data": {
      "text/plain": [
       "BenchmarkTools.Trial: 10000 samples with 236 evaluations.\n",
       " Range \u001b[90m(\u001b[39m\u001b[36m\u001b[1mmin\u001b[22m\u001b[39m … \u001b[35mmax\u001b[39m\u001b[90m):  \u001b[39m\u001b[36m\u001b[1m318.678 ns\u001b[22m\u001b[39m … \u001b[35m725.814 ns\u001b[39m  \u001b[90m┊\u001b[39m GC \u001b[90m(\u001b[39mmin … max\u001b[90m): \u001b[39m0.00% … 0.00%\n",
       " Time  \u001b[90m(\u001b[39m\u001b[34m\u001b[1mmedian\u001b[22m\u001b[39m\u001b[90m):     \u001b[39m\u001b[34m\u001b[1m319.386 ns               \u001b[22m\u001b[39m\u001b[90m┊\u001b[39m GC \u001b[90m(\u001b[39mmedian\u001b[90m):    \u001b[39m0.00%\n",
       " Time  \u001b[90m(\u001b[39m\u001b[32m\u001b[1mmean\u001b[22m\u001b[39m ± \u001b[32mσ\u001b[39m\u001b[90m):   \u001b[39m\u001b[32m\u001b[1m322.856 ns\u001b[22m\u001b[39m ± \u001b[32m 12.812 ns\u001b[39m  \u001b[90m┊\u001b[39m GC \u001b[90m(\u001b[39mmean ± σ\u001b[90m):  \u001b[39m0.00% ± 0.00%\n",
       "\n",
       "  \u001b[39m█\u001b[34m▇\u001b[39m\u001b[39m \u001b[39m \u001b[39m \u001b[32m \u001b[39m\u001b[39m▂\u001b[39m \u001b[39m \u001b[39m \u001b[39m \u001b[39m \u001b[39m \u001b[39m \u001b[39m▃\u001b[39m \u001b[39m \u001b[39m \u001b[39m \u001b[39m \u001b[39m▃\u001b[39m▂\u001b[39m \u001b[39m \u001b[39m \u001b[39m \u001b[39m \u001b[39m \u001b[39m \u001b[39m \u001b[39m \u001b[39m \u001b[39m \u001b[39m \u001b[39m \u001b[39m \u001b[39m \u001b[39m \u001b[39m \u001b[39m \u001b[39m \u001b[39m \u001b[39m \u001b[39m \u001b[39m \u001b[39m \u001b[39m \u001b[39m \u001b[39m \u001b[39m \u001b[39m \u001b[39m \u001b[39m \u001b[39m \u001b[39m \u001b[39m \u001b[39m \u001b[39m \u001b[39m \u001b[39m \u001b[39m \u001b[39m \u001b[39m▁\n",
       "  \u001b[39m█\u001b[34m█\u001b[39m\u001b[39m█\u001b[39m▇\u001b[39m▇\u001b[32m▇\u001b[39m\u001b[39m█\u001b[39m█\u001b[39m█\u001b[39m▇\u001b[39m▇\u001b[39m▇\u001b[39m▆\u001b[39m█\u001b[39m█\u001b[39m█\u001b[39m▇\u001b[39m▆\u001b[39m▇\u001b[39m▇\u001b[39m█\u001b[39m█\u001b[39m█\u001b[39m█\u001b[39m▇\u001b[39m▆\u001b[39m▆\u001b[39m▅\u001b[39m▄\u001b[39m▄\u001b[39m▃\u001b[39m▃\u001b[39m▄\u001b[39m▄\u001b[39m▃\u001b[39m▄\u001b[39m▅\u001b[39m▅\u001b[39m▄\u001b[39m▅\u001b[39m▃\u001b[39m▄\u001b[39m▅\u001b[39m▅\u001b[39m▅\u001b[39m▄\u001b[39m▃\u001b[39m▅\u001b[39m▄\u001b[39m▅\u001b[39m▄\u001b[39m▅\u001b[39m▄\u001b[39m▂\u001b[39m▅\u001b[39m▄\u001b[39m▄\u001b[39m▄\u001b[39m▂\u001b[39m▃\u001b[39m▃\u001b[39m \u001b[39m█\n",
       "  319 ns\u001b[90m        \u001b[39m\u001b[90mHistogram: \u001b[39m\u001b[90m\u001b[1mlog(\u001b[22m\u001b[39m\u001b[90mfrequency\u001b[39m\u001b[90m\u001b[1m)\u001b[22m\u001b[39m\u001b[90m by time\u001b[39m        370 ns \u001b[0m\u001b[1m<\u001b[22m\n",
       "\n",
       " Memory estimate\u001b[90m: \u001b[39m\u001b[33m0 bytes\u001b[39m, allocs estimate\u001b[90m: \u001b[39m\u001b[33m0\u001b[39m."
      ]
     },
     "metadata": {},
     "output_type": "display_data"
    }
   ],
   "source": [
    "b = @benchmark lcm(1:20)"
   ]
  },
  {
   "cell_type": "code",
   "execution_count": 12,
   "id": "8ed27e8f",
   "metadata": {},
   "outputs": [],
   "source": [
    "euler.save_benchmark(5, b);"
   ]
  }
 ],
 "metadata": {
  "kernelspec": {
   "display_name": "Julia 1.11.0",
   "language": "julia",
   "name": "julia-1.11"
  },
  "language_info": {
   "file_extension": ".jl",
   "mimetype": "application/julia",
   "name": "julia",
   "version": "1.11.0"
  }
 },
 "nbformat": 4,
 "nbformat_minor": 5
}
