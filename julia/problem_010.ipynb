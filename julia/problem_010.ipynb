{
 "cells": [
  {
   "cell_type": "markdown",
   "id": "c6e2ad94-1596-4b05-a508-e71eeba93df9",
   "metadata": {},
   "source": [
    "## Problem 10\n",
    "https://projecteuler.net/problem=10"
   ]
  },
  {
   "cell_type": "code",
   "execution_count": 1,
   "id": "8cd67453",
   "metadata": {},
   "outputs": [],
   "source": [
    "using Primes, BenchmarkTools"
   ]
  },
  {
   "cell_type": "code",
   "execution_count": 2,
   "id": "03f479fd",
   "metadata": {},
   "outputs": [
    {
     "name": "stdout",
     "output_type": "stream",
     "text": [
      "  265.166 μs (15 allocations: 474.80 KiB)\n"
     ]
    },
    {
     "data": {
      "text/plain": [
       "986017447"
      ]
     },
     "metadata": {},
     "output_type": "display_data"
    }
   ],
   "source": [
    "@btime begin\n",
    "    n = 150_000 # try different values to minimize overhead\n",
    "    sum([prime for prime in primes(n) if prime < 2_000_000])\n",
    "end"
   ]
  }
 ],
 "metadata": {
  "kernelspec": {
   "display_name": "Julia 1.10.5",
   "language": "julia",
   "name": "julia-1.10"
  },
  "language_info": {
   "file_extension": ".jl",
   "mimetype": "application/julia",
   "name": "julia",
   "version": "1.10.5"
  }
 },
 "nbformat": 4,
 "nbformat_minor": 5
}
