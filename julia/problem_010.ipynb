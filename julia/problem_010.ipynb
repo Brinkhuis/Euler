{
 "cells": [
  {
   "cell_type": "markdown",
   "id": "c6e2ad94-1596-4b05-a508-e71eeba93df9",
   "metadata": {},
   "source": [
    "## Problem 10\n",
    "https://projecteuler.net/problem=10"
   ]
  },
  {
   "cell_type": "code",
   "execution_count": 1,
   "id": "4476c49d",
   "metadata": {},
   "outputs": [
    {
     "name": "stdout",
     "output_type": "stream",
     "text": [
      "Julia v1.11.1\n"
     ]
    }
   ],
   "source": [
    "println(\"Julia v\", string(VERSION))"
   ]
  },
  {
   "cell_type": "code",
   "execution_count": 2,
   "id": "8cd67453",
   "metadata": {},
   "outputs": [],
   "source": [
    "using BenchmarkTools"
   ]
  },
  {
   "cell_type": "markdown",
   "id": "14911cdd",
   "metadata": {},
   "source": [
    "### Solution 1 (Sieve of Eratosthenes)"
   ]
  },
  {
   "cell_type": "code",
   "execution_count": 3,
   "id": "801d01c9",
   "metadata": {},
   "outputs": [],
   "source": [
    "function eratosthenes(n::Int64)::Vector{Int64}\n",
    "    \n",
    "    D = Dict{Int64, Vector{Int64}}()\n",
    "    P = Vector{Int64}()\n",
    "    q = 2 # first prime\n",
    "\n",
    "    while q < n\n",
    "        if !(q in keys(D))\n",
    "            D[q * q] = Int64[q] # Vector{Int64}([q])\n",
    "            push!(P, q)\n",
    "        else\n",
    "            for p in D[q]\n",
    "                haskey(D, p+q) ? push!(D[p+q], p) : D[p+q] = [p]\n",
    "            end\n",
    "            delete!(D, q)\n",
    "        end\n",
    "        q += 1\n",
    "    end\n",
    "    return P\n",
    "end\n",
    "\n",
    "@assert eratosthenes(20) == [2, 3, 5, 7, 11, 13, 17, 19]"
   ]
  },
  {
   "cell_type": "code",
   "execution_count": 4,
   "id": "5b2b0154",
   "metadata": {},
   "outputs": [
    {
     "name": "stdout",
     "output_type": "stream",
     "text": [
      "  282.912 ms (5303988 allocations: 270.94 MiB)\n"
     ]
    },
    {
     "data": {
      "text/plain": [
       "142913828922"
      ]
     },
     "metadata": {},
     "output_type": "display_data"
    }
   ],
   "source": [
    "@btime sum(eratosthenes(2_000_000))"
   ]
  },
  {
   "cell_type": "markdown",
   "id": "49e058a1",
   "metadata": {},
   "source": [
    "### Solution 2 (Primes package)"
   ]
  },
  {
   "cell_type": "code",
   "execution_count": 5,
   "id": "00770042",
   "metadata": {},
   "outputs": [],
   "source": [
    "using Primes"
   ]
  },
  {
   "cell_type": "code",
   "execution_count": 6,
   "id": "41426564",
   "metadata": {},
   "outputs": [
    {
     "name": "stdout",
     "output_type": "stream",
     "text": [
      "  2.118 ms (7 allocations: 1.65 MiB)\n"
     ]
    },
    {
     "data": {
      "text/plain": [
       "142913828922"
      ]
     },
     "metadata": {},
     "output_type": "display_data"
    }
   ],
   "source": [
    "@btime sum(Primes.primes(2_000_000))"
   ]
  },
  {
   "cell_type": "markdown",
   "id": "995c3063",
   "metadata": {},
   "source": [
    "### Save benchmark"
   ]
  },
  {
   "cell_type": "code",
   "execution_count": 7,
   "id": "732154dc",
   "metadata": {},
   "outputs": [],
   "source": [
    "include(\"./euler.jl\")\n",
    "bm = @benchmark sum(eratosthenes(2_000_000))\n",
    "euler.save_benchmark(10, bm);"
   ]
  }
 ],
 "metadata": {
  "kernelspec": {
   "display_name": "Julia 1.11.1",
   "language": "julia",
   "name": "julia-1.11"
  },
  "language_info": {
   "file_extension": ".jl",
   "mimetype": "application/julia",
   "name": "julia",
   "version": "1.11.1"
  }
 },
 "nbformat": 4,
 "nbformat_minor": 5
}
