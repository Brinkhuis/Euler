{
 "cells": [
  {
   "cell_type": "markdown",
   "id": "c6e2ad94-1596-4b05-a508-e71eeba93df9",
   "metadata": {},
   "source": [
    "# Problem 92\n",
    "https://projecteuler.net/problem=92"
   ]
  },
  {
   "cell_type": "code",
   "execution_count": 1,
   "id": "9b28719f",
   "metadata": {},
   "outputs": [
    {
     "name": "stdout",
     "output_type": "stream",
     "text": [
      "Julia v1.11.1\n"
     ]
    }
   ],
   "source": [
    "println(\"Julia v\", VERSION)"
   ]
  },
  {
   "cell_type": "code",
   "execution_count": 2,
   "id": "d4560f0f",
   "metadata": {},
   "outputs": [],
   "source": [
    "using BenchmarkTools"
   ]
  },
  {
   "cell_type": "markdown",
   "id": "cbb2f265",
   "metadata": {},
   "source": [
    "### Solution"
   ]
  },
  {
   "cell_type": "code",
   "execution_count": 3,
   "id": "9745c310",
   "metadata": {},
   "outputs": [
    {
     "data": {
      "text/plain": [
       "square_digit_chains (generic function with 1 method)"
      ]
     },
     "metadata": {},
     "output_type": "display_data"
    }
   ],
   "source": [
    "function square_digit_chains(n::Int64)::Bool\n",
    "    n == 1 && return false\n",
    "    n == 89 && return true\n",
    "    while n ∉ [1, 89]\n",
    "        n = sum(n^2 for n ∈ digits(n))\n",
    "        n == 1 && return false\n",
    "        n == 89 && return true\n",
    "    end\n",
    "end"
   ]
  },
  {
   "cell_type": "code",
   "execution_count": 4,
   "id": "c56ecad0",
   "metadata": {},
   "outputs": [
    {
     "name": "stdout",
     "output_type": "stream",
     "text": [
      "  2.591 s (209357019 allocations: 8.58 GiB)\n"
     ]
    },
    {
     "data": {
      "text/plain": [
       "8581146"
      ]
     },
     "metadata": {},
     "output_type": "display_data"
    }
   ],
   "source": [
    "@btime sum(map(square_digit_chains, 1:10^7-1))"
   ]
  }
 ],
 "metadata": {
  "kernelspec": {
   "display_name": "Julia 1.11.1",
   "language": "julia",
   "name": "julia-1.11"
  },
  "language_info": {
   "file_extension": ".jl",
   "mimetype": "application/julia",
   "name": "julia",
   "version": "1.11.1"
  }
 },
 "nbformat": 4,
 "nbformat_minor": 5
}
