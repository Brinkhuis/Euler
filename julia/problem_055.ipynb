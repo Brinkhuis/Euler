{
 "cells": [
  {
   "cell_type": "markdown",
   "id": "c6e2ad94-1596-4b05-a508-e71eeba93df9",
   "metadata": {},
   "source": [
    "## Problem 55\n",
    "https://projecteuler.net/problem=55"
   ]
  },
  {
   "cell_type": "code",
   "execution_count": 1,
   "id": "8351a395",
   "metadata": {},
   "outputs": [],
   "source": [
    "using BenchmarkTools"
   ]
  },
  {
   "cell_type": "markdown",
   "id": "1495d98e",
   "metadata": {},
   "source": [
    "#### Solution 1"
   ]
  },
  {
   "cell_type": "code",
   "execution_count": 2,
   "id": "ffe751d4",
   "metadata": {},
   "outputs": [
    {
     "data": {
      "text/plain": [
       "lychrel (generic function with 3 methods)"
      ]
     },
     "metadata": {},
     "output_type": "display_data"
    }
   ],
   "source": [
    "function lychrel(stop=9999, iterations=50)\n",
    "    counter = 0\n",
    "    for n in big(1):big(stop)\n",
    "        for _ in 1:iterations\n",
    "            n += sum([v * 10^(i-1) for (i, v) in enumerate(reverse(digits(n)))])\n",
    "            if digits(n) == reverse(digits(n))\n",
    "                counter += 1\n",
    "                break\n",
    "            end\n",
    "        end\n",
    "    end\n",
    "    return stop - counter\n",
    "end"
   ]
  },
  {
   "cell_type": "code",
   "execution_count": 3,
   "id": "42cfa19d",
   "metadata": {},
   "outputs": [
    {
     "data": {
      "text/plain": [
       "249"
      ]
     },
     "metadata": {},
     "output_type": "display_data"
    }
   ],
   "source": [
    "lychrel()"
   ]
  },
  {
   "cell_type": "markdown",
   "id": "3b0be18c",
   "metadata": {},
   "source": [
    "#### Solution 2"
   ]
  },
  {
   "cell_type": "code",
   "execution_count": 4,
   "id": "febb9dc9",
   "metadata": {},
   "outputs": [
    {
     "data": {
      "text/plain": [
       "islychrel (generic function with 2 methods)"
      ]
     },
     "metadata": {},
     "output_type": "display_data"
    }
   ],
   "source": [
    "function islychrel(n, iterations=50)\n",
    "    n = big(n)\n",
    "    for _ in 1:iterations\n",
    "        n += sum([k * 10^(i-1) for (i, k) in enumerate(reverse(digits(n)))])\n",
    "        if digits(n) == reverse(digits(n))\n",
    "            return false\n",
    "        end\n",
    "    end\n",
    "    return true\n",
    "end"
   ]
  },
  {
   "cell_type": "code",
   "execution_count": 5,
   "id": "3e5813b2",
   "metadata": {},
   "outputs": [
    {
     "name": "stdout",
     "output_type": "stream",
     "text": [
      "  41.642 ms (1315262 allocations: 58.90 MiB)\n"
     ]
    },
    {
     "data": {
      "text/plain": [
       "249"
      ]
     },
     "metadata": {},
     "output_type": "display_data"
    }
   ],
   "source": [
    "@btime sum(islychrel, 1:9999)"
   ]
  }
 ],
 "metadata": {
  "kernelspec": {
   "display_name": "Julia 1.10.5",
   "language": "julia",
   "name": "julia-1.10"
  },
  "language_info": {
   "file_extension": ".jl",
   "mimetype": "application/julia",
   "name": "julia",
   "version": "1.10.5"
  }
 },
 "nbformat": 4,
 "nbformat_minor": 5
}
