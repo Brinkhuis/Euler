{
 "cells": [
  {
   "cell_type": "markdown",
   "id": "c6e2ad94-1596-4b05-a508-e71eeba93df9",
   "metadata": {},
   "source": [
    "# Problem 55\n",
    "https://projecteuler.net/problem=55"
   ]
  },
  {
   "cell_type": "code",
   "execution_count": 1,
   "id": "99ab0c0e",
   "metadata": {},
   "outputs": [
    {
     "name": "stdout",
     "output_type": "stream",
     "text": [
      "Julia v1.11.1\n"
     ]
    }
   ],
   "source": [
    "println(\"Julia v\", string(VERSION))"
   ]
  },
  {
   "cell_type": "code",
   "execution_count": 2,
   "id": "8351a395",
   "metadata": {},
   "outputs": [],
   "source": [
    "using BenchmarkTools"
   ]
  },
  {
   "cell_type": "markdown",
   "id": "3b0be18c",
   "metadata": {},
   "source": [
    "### Solution"
   ]
  },
  {
   "cell_type": "code",
   "execution_count": 5,
   "id": "febb9dc9",
   "metadata": {},
   "outputs": [],
   "source": [
    "function islychrel(n::Int, iterations=50)::Bool\n",
    "    n = big(n)\n",
    "    for _ in 1:iterations\n",
    "        n += sum(val * 10^(idx-1) for (idx, val) in enumerate(reverse(digits(n))))\n",
    "        if digits(n) == reverse(digits(n))\n",
    "            return false\n",
    "        end\n",
    "    end\n",
    "    return true\n",
    "end\n",
    "\n",
    "@assert islychrel(4994)"
   ]
  },
  {
   "cell_type": "code",
   "execution_count": 6,
   "id": "a4089566",
   "metadata": {},
   "outputs": [
    {
     "name": "stdout",
     "output_type": "stream",
     "text": [
      "  37.408 ms (1491293 allocations: 49.65 MiB)\n"
     ]
    },
    {
     "data": {
      "text/plain": [
       "249"
      ]
     },
     "metadata": {},
     "output_type": "display_data"
    }
   ],
   "source": [
    "@btime sum(islychrel, 1:9999)"
   ]
  }
 ],
 "metadata": {
  "kernelspec": {
   "display_name": "Julia 1.11.1",
   "language": "julia",
   "name": "julia-1.11"
  },
  "language_info": {
   "file_extension": ".jl",
   "mimetype": "application/julia",
   "name": "julia",
   "version": "1.11.1"
  }
 },
 "nbformat": 4,
 "nbformat_minor": 5
}
