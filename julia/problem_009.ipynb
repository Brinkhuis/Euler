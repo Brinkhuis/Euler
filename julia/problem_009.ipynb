{
 "cells": [
  {
   "cell_type": "markdown",
   "id": "c6e2ad94-1596-4b05-a508-e71eeba93df9",
   "metadata": {},
   "source": [
    "# Problem 9\n",
    "https://projecteuler.net/problem=9"
   ]
  },
  {
   "cell_type": "code",
   "execution_count": 1,
   "id": "507cf51a",
   "metadata": {},
   "outputs": [
    {
     "name": "stdout",
     "output_type": "stream",
     "text": [
      "Julia v1.11.1\n"
     ]
    }
   ],
   "source": [
    "println(\"Julia v\", string(VERSION))"
   ]
  },
  {
   "cell_type": "code",
   "execution_count": 2,
   "id": "94849c62",
   "metadata": {},
   "outputs": [],
   "source": [
    "using BenchmarkTools"
   ]
  },
  {
   "cell_type": "markdown",
   "id": "18a218f8",
   "metadata": {},
   "source": [
    "### Solution 1 (brute force)"
   ]
  },
  {
   "cell_type": "code",
   "execution_count": 3,
   "id": "7545fe10",
   "metadata": {},
   "outputs": [
    {
     "data": {
      "text/plain": [
       "triplet_product (generic function with 1 method)"
      ]
     },
     "metadata": {},
     "output_type": "display_data"
    }
   ],
   "source": [
    "function triplet_product()::Int64\n",
    "    for c in 1:1000, b in 1:1000, a in 1:1000\n",
    "        if (a < b < c) && (a + b + c == 1000) && (a^2 + b^2 == c^2)\n",
    "            return a * b * c\n",
    "        end\n",
    "    end\n",
    "end"
   ]
  },
  {
   "cell_type": "code",
   "execution_count": 4,
   "id": "f4af84f3",
   "metadata": {},
   "outputs": [
    {
     "name": "stdout",
     "output_type": "stream",
     "text": [
      "  50.040 ms (0 allocations: 0 bytes)\n"
     ]
    },
    {
     "data": {
      "text/plain": [
       "31875000"
      ]
     },
     "metadata": {},
     "output_type": "display_data"
    }
   ],
   "source": [
    "@btime triplet_product()"
   ]
  },
  {
   "cell_type": "markdown",
   "id": "0a6a4170",
   "metadata": {},
   "source": [
    "### Solution 2 (minimize loops)"
   ]
  },
  {
   "cell_type": "markdown",
   "id": "bb0dba79",
   "metadata": {},
   "source": [
    "$$ a < b < c $$\n",
    "$$ c > b > a $$\n",
    "$$ c + b + a = 1000 $$\n",
    "$$ \\text{Therefore } b \\text{ cannot be greater than 499} $$\n",
    "$$ a = 1000 - b - c$$"
   ]
  },
  {
   "cell_type": "code",
   "execution_count": 5,
   "id": "c87c3644",
   "metadata": {},
   "outputs": [
    {
     "data": {
      "text/plain": [
       "triplet_product (generic function with 1 method)"
      ]
     },
     "metadata": {},
     "output_type": "display_data"
    }
   ],
   "source": [
    "function triplet_product()::Int64\n",
    "    for c in 1:1000, b in 1:500\n",
    "        a = 1000 - b - c\n",
    "        if (a < b < c) && (a^2 + b^2 == c^2)\n",
    "            return a * b * c\n",
    "        end\n",
    "    end\n",
    "end"
   ]
  },
  {
   "cell_type": "code",
   "execution_count": 6,
   "id": "3935a1d5",
   "metadata": {},
   "outputs": [
    {
     "name": "stdout",
     "output_type": "stream",
     "text": [
      "  84.208 μs (0 allocations: 0 bytes)\n"
     ]
    },
    {
     "data": {
      "text/plain": [
       "31875000"
      ]
     },
     "metadata": {},
     "output_type": "display_data"
    }
   ],
   "source": [
    "@btime triplet_product()"
   ]
  },
  {
   "cell_type": "markdown",
   "id": "c92d0dcc",
   "metadata": {},
   "source": [
    "### Solution 3 (oneliner)"
   ]
  },
  {
   "cell_type": "code",
   "execution_count": 7,
   "id": "3f2e911f",
   "metadata": {},
   "outputs": [
    {
     "name": "stdout",
     "output_type": "stream",
     "text": [
      "  303.625 μs (0 allocations: 0 bytes)\n"
     ]
    },
    {
     "data": {
      "text/plain": [
       "31875000"
      ]
     },
     "metadata": {},
     "output_type": "display_data"
    }
   ],
   "source": [
    "@btime first((1000-b-c) * b * c for c in 1:1000, b in 1:500 if (1000-b-c < b < c) && ((1000-b-c)^2 + b^2 == c^2))"
   ]
  },
  {
   "cell_type": "markdown",
   "id": "9a4735bd",
   "metadata": {},
   "source": [
    "### Solution 4 (hypotenuse)"
   ]
  },
  {
   "cell_type": "markdown",
   "id": "583b1971",
   "metadata": {},
   "source": [
    "In geometry, a hypotenuse is the side of a right triangle opposite the right angle.   \n",
    "It is the longest side of any such triangle; the two other shorter sides of such a triangle are called catheti or legs.  \n",
    "\n",
    "$$ c = \\sqrt{a^{2}+b^{2}} $$\n",
    "$$ c^{2} = a^{2} + b^{2} $$\n",
    "$$ \\text{hypot(a, b) = c} $$"
   ]
  },
  {
   "cell_type": "code",
   "execution_count": 8,
   "id": "92a4d357",
   "metadata": {},
   "outputs": [
    {
     "name": "stdout",
     "output_type": "stream",
     "text": [
      "  699.708 μs (0 allocations: 0 bytes)\n"
     ]
    },
    {
     "data": {
      "text/plain": [
       "31875000"
      ]
     },
     "metadata": {},
     "output_type": "display_data"
    }
   ],
   "source": [
    "@btime first((1000-b-c) * b * c for c in 1:1000, b in 1:500 if 1000-b-c < b < c && hypot(1000-b-c, b) == c)"
   ]
  },
  {
   "cell_type": "markdown",
   "id": "df738604",
   "metadata": {},
   "source": [
    "### Save benchmark"
   ]
  },
  {
   "cell_type": "code",
   "execution_count": 9,
   "id": "5067bd2e",
   "metadata": {},
   "outputs": [],
   "source": [
    "include(\"./euler.jl\")\n",
    "bm = @benchmark triplet_product()\n",
    "euler.save_benchmark(9, bm);"
   ]
  }
 ],
 "metadata": {
  "kernelspec": {
   "display_name": "Julia 1.11.1",
   "language": "julia",
   "name": "julia-1.11"
  },
  "language_info": {
   "file_extension": ".jl",
   "mimetype": "application/julia",
   "name": "julia",
   "version": "1.11.1"
  }
 },
 "nbformat": 4,
 "nbformat_minor": 5
}
