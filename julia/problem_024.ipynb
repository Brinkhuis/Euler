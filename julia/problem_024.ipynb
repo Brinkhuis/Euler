{
 "cells": [
  {
   "cell_type": "markdown",
   "id": "c6e2ad94-1596-4b05-a508-e71eeba93df9",
   "metadata": {},
   "source": [
    "# Problem 24\n",
    "https://projecteuler.net/problem=24"
   ]
  },
  {
   "cell_type": "code",
   "execution_count": 1,
   "id": "27d13bf3",
   "metadata": {},
   "outputs": [
    {
     "name": "stdout",
     "output_type": "stream",
     "text": [
      "Julia v1.11.1\n"
     ]
    }
   ],
   "source": [
    "println(\"Julia v\", string(VERSION))"
   ]
  },
  {
   "cell_type": "code",
   "execution_count": 2,
   "id": "4289b3d4",
   "metadata": {},
   "outputs": [],
   "source": [
    "using BenchmarkTools"
   ]
  },
  {
   "cell_type": "markdown",
   "id": "030399e8",
   "metadata": {},
   "source": [
    "### Solution"
   ]
  },
  {
   "cell_type": "code",
   "execution_count": 3,
   "id": "e2062e7a",
   "metadata": {},
   "outputs": [],
   "source": [
    "using Combinatorics"
   ]
  },
  {
   "cell_type": "code",
   "execution_count": 4,
   "id": "ed78455d",
   "metadata": {},
   "outputs": [
    {
     "name": "stdout",
     "output_type": "stream",
     "text": [
      "  429.437 ns (27 allocations: 928 bytes)\n"
     ]
    },
    {
     "data": {
      "text/plain": [
       "2783915460"
      ]
     },
     "metadata": {},
     "output_type": "display_data"
    }
   ],
   "source": [
    "@btime parse(Int64, join(Combinatorics.nthperm(0:9, 1_000_000)))"
   ]
  },
  {
   "cell_type": "markdown",
   "id": "b3f11141",
   "metadata": {},
   "source": [
    "### Save benchmark"
   ]
  },
  {
   "cell_type": "code",
   "execution_count": 5,
   "id": "f2dc3ca5",
   "metadata": {},
   "outputs": [],
   "source": [
    "include(\"./euler.jl\")\n",
    "bm = @benchmark parse(Int64, join(Combinatorics.nthperm(0:9, 1_000_000)))\n",
    "euler.save_benchmark(24, bm);"
   ]
  }
 ],
 "metadata": {
  "kernelspec": {
   "display_name": "Julia 1.11.1",
   "language": "julia",
   "name": "julia-1.11"
  },
  "language_info": {
   "file_extension": ".jl",
   "mimetype": "application/julia",
   "name": "julia",
   "version": "1.11.1"
  }
 },
 "nbformat": 4,
 "nbformat_minor": 5
}
