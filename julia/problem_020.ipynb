{
 "cells": [
  {
   "cell_type": "markdown",
   "id": "c6e2ad94-1596-4b05-a508-e71eeba93df9",
   "metadata": {},
   "source": [
    "## Problem 19\n",
    "https://projecteuler.net/problem=19"
   ]
  },
  {
   "cell_type": "code",
   "execution_count": 1,
   "id": "fc8f5197",
   "metadata": {},
   "outputs": [],
   "source": [
    "using BenchmarkTools"
   ]
  },
  {
   "cell_type": "code",
   "execution_count": 2,
   "id": "0f3f7fa2",
   "metadata": {},
   "outputs": [
    {
     "name": "stdout",
     "output_type": "stream",
     "text": [
      "  923.913 ns (19 allocations: 2.03 KiB)\n"
     ]
    },
    {
     "data": {
      "text/plain": [
       "648"
      ]
     },
     "metadata": {},
     "output_type": "display_data"
    }
   ],
   "source": [
    "@btime sum(digits(factorial(BigInt(100))))"
   ]
  }
 ],
 "metadata": {
  "kernelspec": {
   "display_name": "Julia 1.10.5",
   "language": "julia",
   "name": "julia-1.10"
  },
  "language_info": {
   "file_extension": ".jl",
   "mimetype": "application/julia",
   "name": "julia",
   "version": "1.10.5"
  }
 },
 "nbformat": 4,
 "nbformat_minor": 5
}
