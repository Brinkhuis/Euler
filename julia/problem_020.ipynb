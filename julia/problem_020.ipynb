{
 "cells": [
  {
   "cell_type": "markdown",
   "id": "c6e2ad94-1596-4b05-a508-e71eeba93df9",
   "metadata": {},
   "source": [
    "# Problem 20\n",
    "https://projecteuler.net/problem=20"
   ]
  },
  {
   "cell_type": "code",
   "execution_count": 1,
   "id": "770fb021",
   "metadata": {},
   "outputs": [
    {
     "name": "stdout",
     "output_type": "stream",
     "text": [
      "Julia v1.11.1\n"
     ]
    }
   ],
   "source": [
    "println(\"Julia v\", string(VERSION))"
   ]
  },
  {
   "cell_type": "code",
   "execution_count": 2,
   "id": "fc8f5197",
   "metadata": {},
   "outputs": [],
   "source": [
    "using BenchmarkTools"
   ]
  },
  {
   "cell_type": "markdown",
   "id": "fa3fb153",
   "metadata": {},
   "source": [
    "### Solution 1 (factorial)"
   ]
  },
  {
   "cell_type": "code",
   "execution_count": 3,
   "id": "709d6cae",
   "metadata": {},
   "outputs": [
    {
     "name": "stdout",
     "output_type": "stream",
     "text": [
      "  894.531 ns (20 allocations: 2.03 KiB)\n"
     ]
    },
    {
     "data": {
      "text/plain": [
       "648"
      ]
     },
     "metadata": {},
     "output_type": "display_data"
    }
   ],
   "source": [
    "@btime sum(digits(factorial(BigInt(100))))"
   ]
  },
  {
   "cell_type": "markdown",
   "id": "dc79a1f4",
   "metadata": {},
   "source": [
    "### Solution 2 (reduce)"
   ]
  },
  {
   "cell_type": "code",
   "execution_count": 4,
   "id": "03dbb92a",
   "metadata": {},
   "outputs": [
    {
     "name": "stdout",
     "output_type": "stream",
     "text": [
      "  12.000 μs (617 allocations: 13.71 KiB)\n"
     ]
    },
    {
     "data": {
      "text/plain": [
       "648"
      ]
     },
     "metadata": {},
     "output_type": "display_data"
    }
   ],
   "source": [
    "@btime reduce(+, digits(reduce(*, BigInt(2):99)))"
   ]
  },
  {
   "cell_type": "markdown",
   "id": "0e388137",
   "metadata": {},
   "source": [
    "### Save benchmark"
   ]
  },
  {
   "cell_type": "code",
   "execution_count": 5,
   "id": "e2b586b5",
   "metadata": {},
   "outputs": [],
   "source": [
    "include(\"./euler.jl\")\n",
    "bm = @benchmark sum(digits(factorial(BigInt(100))))\n",
    "euler.save_benchmark(20, bm);"
   ]
  }
 ],
 "metadata": {
  "kernelspec": {
   "display_name": "Julia 1.11.1",
   "language": "julia",
   "name": "julia-1.11"
  },
  "language_info": {
   "file_extension": ".jl",
   "mimetype": "application/julia",
   "name": "julia",
   "version": "1.11.1"
  }
 },
 "nbformat": 4,
 "nbformat_minor": 5
}
