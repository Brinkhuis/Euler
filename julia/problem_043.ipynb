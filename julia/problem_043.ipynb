{
 "cells": [
  {
   "cell_type": "markdown",
   "id": "c6e2ad94-1596-4b05-a508-e71eeba93df9",
   "metadata": {},
   "source": [
    "## Problem 43\n",
    "https://projecteuler.net/problem=43"
   ]
  },
  {
   "cell_type": "code",
   "execution_count": 1,
   "id": "e3110ace",
   "metadata": {},
   "outputs": [],
   "source": [
    "using Combinatorics, BenchmarkTools\n",
    "include(\"./euler.jl\");"
   ]
  },
  {
   "cell_type": "code",
   "execution_count": 2,
   "id": "9ec4ad7f",
   "metadata": {},
   "outputs": [
    {
     "data": {
      "text/plain": [
       "concat_ints (generic function with 1 method)"
      ]
     },
     "metadata": {},
     "output_type": "display_data"
    }
   ],
   "source": [
    "function concat_ints(l::Array{Int64, 1})::Int64\n",
    "    \"\"\"\n",
    "    concat_ints([3, 4, 5]) == 345\n",
    "    \"\"\"\n",
    "    @assert all(n -> n ∈ 0:9, l) \"Only integers in range 0:9 are valid inputs\"\n",
    "    s = 0 # sum\n",
    "    for (i, n) in enumerate(reverse(l))\n",
    "        s += n * 10^(i-1)\n",
    "    end\n",
    "    return s\n",
    "end"
   ]
  },
  {
   "cell_type": "code",
   "execution_count": 3,
   "id": "e59ae99f",
   "metadata": {},
   "outputs": [
    {
     "data": {
      "text/plain": [
       "16695334890"
      ]
     },
     "metadata": {},
     "output_type": "display_data"
    }
   ],
   "source": [
    "permutations = [concat_ints(l) for l in Combinatorics.Permutations{Vector{Int64}}(0:9, 10)]\n",
    "pandigitals = [p for p in permutations if ndigits(p) == 10]\n",
    "s = 0 # sum\n",
    "for n in pandigitals\n",
    "    stringnum = string(n)\n",
    "    if parse(Int64, stringnum[2:4]) % 2 == 0\n",
    "        if parse(Int64, stringnum[3:5]) % 3 == 0\n",
    "            if parse(Int64, stringnum[4:6]) % 5 == 0\n",
    "                if parse(Int64, stringnum[5:7]) % 7 == 0\n",
    "                    if parse(Int64, stringnum[6:8]) % 11 == 0\n",
    "                        if parse(Int64, stringnum[7:9]) % 13 == 0\n",
    "                            if parse(Int64, stringnum[8:10]) % 17 == 0\n",
    "                                s += n\n",
    "                            end\n",
    "                        end\n",
    "                    end\n",
    "                end\n",
    "            end\n",
    "        end\n",
    "    end\n",
    "end\n",
    "s"
   ]
  },
  {
   "cell_type": "code",
   "execution_count": 4,
   "id": "ffad227f",
   "metadata": {},
   "outputs": [
    {
     "data": {
      "text/plain": [
       "BenchmarkTools.Trial: 7 samples with 1 evaluation.\n",
       " Range \u001b[90m(\u001b[39m\u001b[36m\u001b[1mmin\u001b[22m\u001b[39m … \u001b[35mmax\u001b[39m\u001b[90m):  \u001b[39m\u001b[36m\u001b[1m743.982 ms\u001b[22m\u001b[39m … \u001b[35m831.673 ms\u001b[39m  \u001b[90m┊\u001b[39m GC \u001b[90m(\u001b[39mmin … max\u001b[90m): \u001b[39m15.71% … 22.61%\n",
       " Time  \u001b[90m(\u001b[39m\u001b[34m\u001b[1mmedian\u001b[22m\u001b[39m\u001b[90m):     \u001b[39m\u001b[34m\u001b[1m745.336 ms               \u001b[22m\u001b[39m\u001b[90m┊\u001b[39m GC \u001b[90m(\u001b[39mmedian\u001b[90m):    \u001b[39m15.98%\n",
       " Time  \u001b[90m(\u001b[39m\u001b[32m\u001b[1mmean\u001b[22m\u001b[39m ± \u001b[32mσ\u001b[39m\u001b[90m):   \u001b[39m\u001b[32m\u001b[1m757.312 ms\u001b[22m\u001b[39m ± \u001b[32m 32.797 ms\u001b[39m  \u001b[90m┊\u001b[39m GC \u001b[90m(\u001b[39mmean ± σ\u001b[90m):  \u001b[39m17.00% ±  2.52%\n",
       "\n",
       "  \u001b[34m█\u001b[39m\u001b[39m \u001b[39m \u001b[39m \u001b[39m \u001b[39m \u001b[39m \u001b[39m \u001b[39m \u001b[32m \u001b[39m\u001b[39m \u001b[39m \u001b[39m \u001b[39m \u001b[39m \u001b[39m \u001b[39m \u001b[39m \u001b[39m \u001b[39m \u001b[39m \u001b[39m \u001b[39m \u001b[39m \u001b[39m \u001b[39m \u001b[39m \u001b[39m \u001b[39m \u001b[39m \u001b[39m \u001b[39m \u001b[39m \u001b[39m \u001b[39m \u001b[39m \u001b[39m \u001b[39m \u001b[39m \u001b[39m \u001b[39m \u001b[39m \u001b[39m \u001b[39m \u001b[39m \u001b[39m \u001b[39m \u001b[39m \u001b[39m \u001b[39m \u001b[39m \u001b[39m \u001b[39m \u001b[39m \u001b[39m \u001b[39m \u001b[39m \u001b[39m \u001b[39m \u001b[39m \u001b[39m \u001b[39m \u001b[39m \n",
       "  \u001b[34m█\u001b[39m\u001b[39m▅\u001b[39m▁\u001b[39m▁\u001b[39m▁\u001b[39m▁\u001b[39m▁\u001b[39m▁\u001b[39m▁\u001b[32m▁\u001b[39m\u001b[39m▁\u001b[39m▁\u001b[39m▁\u001b[39m▁\u001b[39m▁\u001b[39m▁\u001b[39m▁\u001b[39m▁\u001b[39m▁\u001b[39m▁\u001b[39m▁\u001b[39m▁\u001b[39m▁\u001b[39m▁\u001b[39m▁\u001b[39m▁\u001b[39m▁\u001b[39m▁\u001b[39m▁\u001b[39m▁\u001b[39m▁\u001b[39m▁\u001b[39m▁\u001b[39m▁\u001b[39m▁\u001b[39m▁\u001b[39m▁\u001b[39m▁\u001b[39m▁\u001b[39m▁\u001b[39m▁\u001b[39m▁\u001b[39m▁\u001b[39m▁\u001b[39m▁\u001b[39m▁\u001b[39m▁\u001b[39m▁\u001b[39m▁\u001b[39m▁\u001b[39m▁\u001b[39m▁\u001b[39m▁\u001b[39m▁\u001b[39m▁\u001b[39m▁\u001b[39m▁\u001b[39m▁\u001b[39m▁\u001b[39m▁\u001b[39m▅\u001b[39m \u001b[39m▁\n",
       "  744 ms\u001b[90m           Histogram: frequency by time\u001b[39m          832 ms \u001b[0m\u001b[1m<\u001b[22m\n",
       "\n",
       " Memory estimate\u001b[90m: \u001b[39m\u001b[33m1.88 GiB\u001b[39m, allocs estimate\u001b[90m: \u001b[39m\u001b[33m33942460\u001b[39m."
      ]
     },
     "metadata": {},
     "output_type": "display_data"
    }
   ],
   "source": [
    "b = @benchmark begin\n",
    "    permutations = [concat_ints(l) for l in Combinatorics.Permutations{Vector{Int64}}(0:9, 10)]\n",
    "    pandigitals = [p for p in permutations if ndigits(p) == 10]\n",
    "    s = 0 # sum\n",
    "    for n in pandigitals\n",
    "        stringnum = string(n)\n",
    "        if parse(Int64, stringnum[2:4]) % 2 == 0\n",
    "            if parse(Int64, stringnum[3:5]) % 3 == 0\n",
    "                if parse(Int64, stringnum[4:6]) % 5 == 0\n",
    "                    if parse(Int64, stringnum[5:7]) % 7 == 0\n",
    "                        if parse(Int64, stringnum[6:8]) % 11 == 0\n",
    "                            if parse(Int64, stringnum[7:9]) % 13 == 0\n",
    "                                if parse(Int64, stringnum[8:10]) % 17 == 0\n",
    "                                    s += n\n",
    "                                end\n",
    "                            end\n",
    "                        end\n",
    "                    end\n",
    "                end\n",
    "            end\n",
    "        end\n",
    "    end\n",
    "    s\n",
    "end"
   ]
  },
  {
   "cell_type": "code",
   "execution_count": 5,
   "id": "44a439f9",
   "metadata": {},
   "outputs": [],
   "source": [
    "euler.save_benchmark(43, b);"
   ]
  }
 ],
 "metadata": {
  "kernelspec": {
   "display_name": "Julia 1.11.0",
   "language": "julia",
   "name": "julia-1.11"
  },
  "language_info": {
   "file_extension": ".jl",
   "mimetype": "application/julia",
   "name": "julia",
   "version": "1.11.0"
  }
 },
 "nbformat": 4,
 "nbformat_minor": 5
}
