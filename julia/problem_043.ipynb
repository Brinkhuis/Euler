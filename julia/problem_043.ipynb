{
 "cells": [
  {
   "cell_type": "markdown",
   "id": "c6e2ad94-1596-4b05-a508-e71eeba93df9",
   "metadata": {},
   "source": [
    "# Problem 43\n",
    "https://projecteuler.net/problem=43"
   ]
  },
  {
   "cell_type": "code",
   "execution_count": 1,
   "id": "1a481548",
   "metadata": {},
   "outputs": [
    {
     "name": "stdout",
     "output_type": "stream",
     "text": [
      "Julia v1.11.1\n"
     ]
    }
   ],
   "source": [
    "println(\"Julia v\", string(VERSION))"
   ]
  },
  {
   "cell_type": "code",
   "execution_count": 2,
   "id": "e3110ace",
   "metadata": {},
   "outputs": [],
   "source": [
    "using BenchmarkTools"
   ]
  },
  {
   "cell_type": "markdown",
   "id": "aa17b6e5",
   "metadata": {},
   "source": [
    "### Solution"
   ]
  },
  {
   "cell_type": "code",
   "execution_count": 3,
   "id": "ed8d9ae2",
   "metadata": {},
   "outputs": [],
   "source": [
    "using Combinatorics"
   ]
  },
  {
   "cell_type": "code",
   "execution_count": 4,
   "id": "9ec4ad7f",
   "metadata": {},
   "outputs": [],
   "source": [
    "function concat_ints(l::Array{Int64, 1})::Int64\n",
    "    \"\"\"\n",
    "    concat_ints([3, 4, 5]) == 345\n",
    "    \"\"\"\n",
    "    # @assert all(n -> n ∈ 0:9, l) \"Only integers in range 0:9 are valid inputs\"\n",
    "    s = 0 # sum\n",
    "    for (i, n) in enumerate(reverse(l))\n",
    "        s += n * 10^(i-1)\n",
    "    end\n",
    "    return s\n",
    "end\n",
    "\n",
    "@assert concat_ints([0, 1, 2]) == 12\n",
    "@assert concat_ints([2, 1, 0]) == 210"
   ]
  },
  {
   "cell_type": "code",
   "execution_count": 5,
   "id": "1b546161",
   "metadata": {},
   "outputs": [],
   "source": [
    "function divisibility(n::Int)::Bool\n",
    "    stringnum = string(n)\n",
    "    if parse(Int64, stringnum[2:4]) % 2 == 0\n",
    "        if parse(Int64, stringnum[3:5]) % 3 == 0\n",
    "            if parse(Int64, stringnum[4:6]) % 5 == 0\n",
    "                if parse(Int64, stringnum[5:7]) % 7 == 0\n",
    "                    if parse(Int64, stringnum[6:8]) % 11 == 0\n",
    "                        if parse(Int64, stringnum[7:9]) % 13 == 0\n",
    "                            if parse(Int64, stringnum[8:10]) % 17 == 0\n",
    "                                return true\n",
    "                            end\n",
    "                        end\n",
    "                    end\n",
    "                end\n",
    "            end\n",
    "        end\n",
    "    end\n",
    "    return false\n",
    "end\n",
    "\n",
    "@assert divisibility(1406357289)\n",
    "@assert !divisibility(1234567890)"
   ]
  },
  {
   "cell_type": "code",
   "execution_count": null,
   "id": "b0c1245a",
   "metadata": {},
   "outputs": [
    {
     "data": {
      "text/plain": [
       "solution (generic function with 1 method)"
      ]
     },
     "metadata": {},
     "output_type": "display_data"
    }
   ],
   "source": [
    "function solution()\n",
    "    s = 0 # sum\n",
    "    for n ∈ [concat_ints(permutation) for permutation in Combinatorics.Permutations(0:9, 10) if first(permutation) != 0]\n",
    "        if divisibility(n)\n",
    "            s += n\n",
    "        end\n",
    "    end\n",
    "    return s\n",
    "end"
   ]
  },
  {
   "cell_type": "code",
   "execution_count": 7,
   "id": "ece4e512",
   "metadata": {},
   "outputs": [
    {
     "name": "stdout",
     "output_type": "stream",
     "text": [
      "  814.575 ms (40111415 allocations: 2.01 GiB)\n"
     ]
    },
    {
     "data": {
      "text/plain": [
       "16695334890"
      ]
     },
     "metadata": {},
     "output_type": "display_data"
    }
   ],
   "source": [
    "@btime solution()"
   ]
  },
  {
   "cell_type": "markdown",
   "id": "c951db38",
   "metadata": {},
   "source": [
    "### Save benchmark"
   ]
  },
  {
   "cell_type": "code",
   "execution_count": 8,
   "id": "f00e115f",
   "metadata": {},
   "outputs": [],
   "source": [
    "include(\"./euler.jl\")\n",
    "bm = @benchmark solution()\n",
    "euler.save_benchmark(43, bm);"
   ]
  }
 ],
 "metadata": {
  "kernelspec": {
   "display_name": "Julia 1.11.1",
   "language": "julia",
   "name": "julia-1.11"
  },
  "language_info": {
   "file_extension": ".jl",
   "mimetype": "application/julia",
   "name": "julia",
   "version": "1.11.1"
  }
 },
 "nbformat": 4,
 "nbformat_minor": 5
}
