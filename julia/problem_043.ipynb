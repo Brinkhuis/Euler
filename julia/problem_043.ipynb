{
 "cells": [
  {
   "cell_type": "markdown",
   "id": "c6e2ad94-1596-4b05-a508-e71eeba93df9",
   "metadata": {},
   "source": [
    "## Problem 43\n",
    "https://projecteuler.net/problem=43"
   ]
  },
  {
   "cell_type": "code",
   "execution_count": 1,
   "id": "e3110ace",
   "metadata": {},
   "outputs": [],
   "source": [
    "using Combinatorics, BenchmarkTools"
   ]
  },
  {
   "cell_type": "code",
   "execution_count": 2,
   "id": "9ec4ad7f",
   "metadata": {},
   "outputs": [
    {
     "data": {
      "text/plain": [
       "concat_ints (generic function with 1 method)"
      ]
     },
     "metadata": {},
     "output_type": "display_data"
    }
   ],
   "source": [
    "function concat_ints(l::Array{Int64, 1})::Int64\n",
    "    \"\"\"\n",
    "    concat_ints([3, 4, 5]) == 345\n",
    "    \"\"\"\n",
    "    @assert all(n -> n ∈ 0:9, l) \"Only integers in range 0:9 are valid inputs\"\n",
    "    s = 0 # sum\n",
    "    for (i, n) in enumerate(reverse(l))\n",
    "        s += n * 10^(i-1)\n",
    "    end\n",
    "    return s\n",
    "end"
   ]
  },
  {
   "cell_type": "code",
   "execution_count": 3,
   "id": "ffad227f",
   "metadata": {},
   "outputs": [
    {
     "name": "stdout",
     "output_type": "stream",
     "text": [
      "  899.310 ms (23056046 allocations: 1.94 GiB)\n"
     ]
    },
    {
     "data": {
      "text/plain": [
       "16695334890"
      ]
     },
     "metadata": {},
     "output_type": "display_data"
    }
   ],
   "source": [
    "@btime begin\n",
    "    permutations = [concat_ints(l) for l in Combinatorics.Permutations{Vector{Int64}}(0:9, 10)]\n",
    "    pandigitals = [p for p in permutations if ndigits(p) == 10]\n",
    "    s = 0 # sum\n",
    "    for n in pandigitals\n",
    "        stringnum = string(n)\n",
    "        if parse(Int64, stringnum[2:4]) % 2 == 0\n",
    "            if parse(Int64, stringnum[3:5]) % 3 == 0\n",
    "                if parse(Int64, stringnum[4:6]) % 5 == 0\n",
    "                    if parse(Int64, stringnum[5:7]) % 7 == 0\n",
    "                        if parse(Int64, stringnum[6:8]) % 11 == 0\n",
    "                            if parse(Int64, stringnum[7:9]) % 13 == 0\n",
    "                                if parse(Int64, stringnum[8:10]) % 17 == 0\n",
    "                                    s += n\n",
    "                                end\n",
    "                            end\n",
    "                        end\n",
    "                    end\n",
    "                end\n",
    "            end\n",
    "        end\n",
    "    end\n",
    "s\n",
    "end"
   ]
  }
 ],
 "metadata": {
  "kernelspec": {
   "display_name": "Julia 1.10.5",
   "language": "julia",
   "name": "julia-1.10"
  },
  "language_info": {
   "file_extension": ".jl",
   "mimetype": "application/julia",
   "name": "julia",
   "version": "1.10.5"
  }
 },
 "nbformat": 4,
 "nbformat_minor": 5
}
