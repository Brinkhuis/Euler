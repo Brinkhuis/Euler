{
 "cells": [
  {
   "cell_type": "markdown",
   "id": "c6e2ad94-1596-4b05-a508-e71eeba93df9",
   "metadata": {},
   "source": [
    "## Problem 63\n",
    "https://projecteuler.net/problem=63"
   ]
  },
  {
   "cell_type": "code",
   "execution_count": 1,
   "id": "83fc0a8f",
   "metadata": {},
   "outputs": [],
   "source": [
    "using BenchmarkTools"
   ]
  },
  {
   "cell_type": "code",
   "execution_count": 2,
   "id": "2f8ab43c",
   "metadata": {},
   "outputs": [
    {
     "data": {
      "text/plain": [
       "powerful_digit_counts (generic function with 1 method)"
      ]
     },
     "metadata": {},
     "output_type": "display_data"
    }
   ],
   "source": [
    "function powerful_digit_counts()\n",
    "    counter = 0\n",
    "    for i in 1:9\n",
    "        power = 1\n",
    "        while true\n",
    "            if power == ndigits(BigInt(i)^power)\n",
    "                counter += 1\n",
    "            else\n",
    "                break\n",
    "            end\n",
    "            power += 1\n",
    "        end\n",
    "    end\n",
    "    return counter\n",
    "end"
   ]
  },
  {
   "cell_type": "code",
   "execution_count": 3,
   "id": "708c454e",
   "metadata": {},
   "outputs": [
    {
     "name": "stdout",
     "output_type": "stream",
     "text": [
      "  9.416 μs (363 allocations: 7.55 KiB)\n"
     ]
    },
    {
     "data": {
      "text/plain": [
       "49"
      ]
     },
     "metadata": {},
     "output_type": "display_data"
    }
   ],
   "source": [
    "@btime powerful_digit_counts()"
   ]
  }
 ],
 "metadata": {
  "kernelspec": {
   "display_name": "Julia 1.10.5",
   "language": "julia",
   "name": "julia-1.10"
  },
  "language_info": {
   "file_extension": ".jl",
   "mimetype": "application/julia",
   "name": "julia",
   "version": "1.10.5"
  }
 },
 "nbformat": 4,
 "nbformat_minor": 5
}
