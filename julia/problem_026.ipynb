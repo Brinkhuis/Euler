{
 "cells": [
  {
   "cell_type": "markdown",
   "id": "c6e2ad94-1596-4b05-a508-e71eeba93df9",
   "metadata": {},
   "source": [
    "# Problem 26\n",
    "https://projecteuler.net/problem=26"
   ]
  },
  {
   "cell_type": "code",
   "execution_count": 1,
   "id": "d837e4a4",
   "metadata": {},
   "outputs": [
    {
     "name": "stdout",
     "output_type": "stream",
     "text": [
      "Julia v1.11.1\n"
     ]
    }
   ],
   "source": [
    "println(\"Julia v\", string(VERSION))"
   ]
  },
  {
   "cell_type": "code",
   "execution_count": 2,
   "id": "eea5bf7a",
   "metadata": {},
   "outputs": [],
   "source": [
    "using BenchmarkTools"
   ]
  },
  {
   "cell_type": "markdown",
   "id": "401d1874",
   "metadata": {},
   "source": [
    "### Solution"
   ]
  },
  {
   "cell_type": "code",
   "execution_count": 3,
   "id": "98c30610",
   "metadata": {},
   "outputs": [
    {
     "data": {
      "text/plain": [
       "get_longest_division_cycle (generic function with 1 method)"
      ]
     },
     "metadata": {},
     "output_type": "display_data"
    }
   ],
   "source": [
    "function get_longest_division_cycle(d)\n",
    "    \"\"\"\n",
    "    n = nominator\n",
    "    d = denominator\n",
    "    r = remainder\n",
    "    t = digit\n",
    "    c = current\n",
    "    \"\"\"\n",
    "    digits = Int64[]\n",
    "    remainders = Int64[]\n",
    "    n = 10\n",
    "    c = n\n",
    "    while true\n",
    "        t = c ÷ d\n",
    "        c = c % d\n",
    "        if c in remainders\n",
    "            break\n",
    "        end\n",
    "        push!(digits, t)\n",
    "        push!(remainders, c)\n",
    "        c *= 10\n",
    "        if c == 0\n",
    "            return 0\n",
    "        end\n",
    "        while c < d\n",
    "            c *= 10\n",
    "            push!(digits, 0)\n",
    "        end\n",
    "    end\n",
    "    while remainders[1] != c\n",
    "        deleteat!(remainders, 1)\n",
    "    end\n",
    "    return length(remainders)\n",
    "end"
   ]
  },
  {
   "cell_type": "code",
   "execution_count": 4,
   "id": "25422d55",
   "metadata": {},
   "outputs": [
    {
     "name": "stdout",
     "output_type": "stream",
     "text": [
      "  5.001 ms (7093 allocations: 4.26 MiB)\n"
     ]
    },
    {
     "data": {
      "text/plain": [
       "983"
      ]
     },
     "metadata": {},
     "output_type": "display_data"
    }
   ],
   "source": [
    "@btime begin\n",
    "    dictionary = Dict(get_longest_division_cycle(i) => i for i in 1:1000)\n",
    "    dictionary[maximum(keys(dictionary))]\n",
    "end"
   ]
  },
  {
   "cell_type": "markdown",
   "id": "a24ba2a9",
   "metadata": {},
   "source": [
    "### Save benchmark"
   ]
  },
  {
   "cell_type": "code",
   "execution_count": 5,
   "id": "2c9f80c7",
   "metadata": {},
   "outputs": [],
   "source": [
    "include(\"./euler.jl\")\n",
    "bm = @benchmark begin\n",
    "    dictionary = Dict(get_longest_division_cycle(i) => i for i in 1:1000)\n",
    "    dictionary[maximum(keys(dictionary))]\n",
    "end\n",
    "euler.save_benchmark(26, bm);"
   ]
  }
 ],
 "metadata": {
  "kernelspec": {
   "display_name": "Julia 1.11.1",
   "language": "julia",
   "name": "julia-1.11"
  },
  "language_info": {
   "file_extension": ".jl",
   "mimetype": "application/julia",
   "name": "julia",
   "version": "1.11.1"
  }
 },
 "nbformat": 4,
 "nbformat_minor": 5
}
