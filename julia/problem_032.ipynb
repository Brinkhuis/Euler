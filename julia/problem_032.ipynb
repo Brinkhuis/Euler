{
 "cells": [
  {
   "cell_type": "markdown",
   "id": "c6e2ad94-1596-4b05-a508-e71eeba93df9",
   "metadata": {},
   "source": [
    "## Problem 32\n",
    "https://projecteuler.net/problem=32"
   ]
  },
  {
   "cell_type": "code",
   "execution_count": 1,
   "id": "81c2912c",
   "metadata": {},
   "outputs": [
    {
     "data": {
      "text/plain": [
       "ispandigital (generic function with 2 methods)"
      ]
     },
     "metadata": {},
     "output_type": "display_data"
    }
   ],
   "source": [
    "# Is pandigital?\n",
    "function ispandigital(num, n=0)\n",
    "    \"\"\"\n",
    "    ispandigital(123456789) == true\n",
    "    ispandigital(987654321) == true\n",
    "    ispandigital(12345) == true\n",
    "    ispandigital(12345, 9) == false\n",
    "    ispandigital(123456789, 5) == false\n",
    "    \"\"\"\n",
    "    return sort(digits(num)) == 1:(n == 0 ? length(digits(num)) : n ) ? true : false\n",
    "end"
   ]
  },
  {
   "cell_type": "code",
   "execution_count": 2,
   "id": "e564c137",
   "metadata": {},
   "outputs": [
    {
     "data": {
      "text/plain": [
       "concat_nums (generic function with 1 method)"
      ]
     },
     "metadata": {},
     "output_type": "display_data"
    }
   ],
   "source": [
    "# Concatenate a list of numbers\n",
    "function concat_nums(lst)\n",
    "    \"\"\"\n",
    "    concat_nums([1, 23, 456]) == 123456\n",
    "    concat_nums([543, 21, 0]) == 543210\n",
    "    concat_nums([0, 12, 345]) ==  12345\n",
    "    \"\"\"\n",
    "    ordered_digits = [n for l in [digits(num)[end:-1:begin] for num in lst] for n in l]\n",
    "    concated_num = sum([i*j for (i, j) in zip(ordered_digits, [10^x for x in length(ordered_digits)-1:-1:0])])\n",
    "    return concated_num\n",
    "end"
   ]
  },
  {
   "cell_type": "code",
   "execution_count": 3,
   "id": "e4b977f0",
   "metadata": {},
   "outputs": [],
   "source": [
    "# Settings (try different values to optimize execution time)\n",
    "multiplicand_max = 100\n",
    "multiplier_max = 10_000;"
   ]
  },
  {
   "cell_type": "code",
   "execution_count": 4,
   "id": "6ca98e55",
   "metadata": {},
   "outputs": [
    {
     "data": {
      "text/plain": [
       "45228"
      ]
     },
     "metadata": {},
     "output_type": "display_data"
    }
   ],
   "source": [
    "# Answer\n",
    "sum(Set(i*j for i in 1:multiplicand_max, j in 1:multiplier_max if ispandigital(concat_nums([i, j, i*j]), 9)))"
   ]
  }
 ],
 "metadata": {
  "kernelspec": {
   "display_name": "Julia 1.10.5",
   "language": "julia",
   "name": "julia-1.10"
  },
  "language_info": {
   "file_extension": ".jl",
   "mimetype": "application/julia",
   "name": "julia",
   "version": "1.10.5"
  }
 },
 "nbformat": 4,
 "nbformat_minor": 5
}
