{
 "cells": [
  {
   "cell_type": "markdown",
   "id": "c6e2ad94-1596-4b05-a508-e71eeba93df9",
   "metadata": {},
   "source": [
    "# Problem 32\n",
    "https://projecteuler.net/problem=32"
   ]
  },
  {
   "cell_type": "code",
   "execution_count": 1,
   "id": "7f1c9b6b",
   "metadata": {},
   "outputs": [
    {
     "name": "stdout",
     "output_type": "stream",
     "text": [
      "Julia v1.11.1\n"
     ]
    }
   ],
   "source": [
    "println(\"Julia v\", string(VERSION))"
   ]
  },
  {
   "cell_type": "code",
   "execution_count": 2,
   "id": "e61e86fa",
   "metadata": {},
   "outputs": [],
   "source": [
    "using BenchmarkTools"
   ]
  },
  {
   "cell_type": "markdown",
   "id": "651143c9",
   "metadata": {},
   "source": [
    "### Solution"
   ]
  },
  {
   "cell_type": "code",
   "execution_count": 3,
   "id": "81c2912c",
   "metadata": {},
   "outputs": [
    {
     "data": {
      "text/plain": [
       "ispandigital (generic function with 2 methods)"
      ]
     },
     "metadata": {},
     "output_type": "display_data"
    }
   ],
   "source": [
    "function ispandigital(num, n=0)\n",
    "    \"\"\"\n",
    "    ispandigital(123456789) == true\n",
    "    ispandigital(987654321) == true\n",
    "    ispandigital(12345) == true\n",
    "    ispandigital(12345, 9) == false\n",
    "    ispandigital(123456789, 5) == false\n",
    "    \"\"\"\n",
    "    return sort(digits(num)) == 1:(n == 0 ? length(digits(num)) : n ) ? true : false\n",
    "end"
   ]
  },
  {
   "cell_type": "code",
   "execution_count": 4,
   "id": "e564c137",
   "metadata": {},
   "outputs": [
    {
     "data": {
      "text/plain": [
       "concat_nums (generic function with 1 method)"
      ]
     },
     "metadata": {},
     "output_type": "display_data"
    }
   ],
   "source": [
    "function concat_nums(lst)\n",
    "    \"\"\"\n",
    "    concat_nums([1, 23, 456]) == 123456\n",
    "    concat_nums([543, 21, 0]) == 543210\n",
    "    concat_nums([0, 12, 345]) ==  12345\n",
    "    \"\"\"\n",
    "    ordered_digits = [n for l in [digits(num)[end:-1:begin] for num in lst] for n in l]\n",
    "    concated_nums = sum([i*j for (i, j) in zip(ordered_digits, [10^x for x in length(ordered_digits)-1:-1:0])])\n",
    "    return concated_nums\n",
    "end"
   ]
  },
  {
   "cell_type": "code",
   "execution_count": 5,
   "id": "e4b977f0",
   "metadata": {},
   "outputs": [],
   "source": [
    "multiplicand_max = 100 # try different values to optimize execution time\n",
    "multiplier_max = 10_000; # try different values to optimize execution time"
   ]
  },
  {
   "cell_type": "code",
   "execution_count": 6,
   "id": "0420b317",
   "metadata": {},
   "outputs": [
    {
     "name": "stdout",
     "output_type": "stream",
     "text": [
      "  620.934 ms (27982102 allocations: 1.73 GiB)\n"
     ]
    },
    {
     "data": {
      "text/plain": [
       "45228"
      ]
     },
     "metadata": {},
     "output_type": "display_data"
    }
   ],
   "source": [
    "@btime sum(Set(i*j for i in 1:multiplicand_max, j in 1:multiplier_max if ispandigital(concat_nums([i, j, i*j]), 9)))"
   ]
  },
  {
   "cell_type": "markdown",
   "id": "8bbb7276",
   "metadata": {},
   "source": [
    "### Save benchmark"
   ]
  },
  {
   "cell_type": "code",
   "execution_count": 7,
   "id": "083102bb",
   "metadata": {},
   "outputs": [],
   "source": [
    "include(\"./euler.jl\")\n",
    "bm = @benchmark sum(Set(i*j for i in 1:multiplicand_max, j in 1:multiplier_max if ispandigital(concat_nums([i, j, i*j]), 9)))\n",
    "euler.save_benchmark(32, bm);"
   ]
  }
 ],
 "metadata": {
  "kernelspec": {
   "display_name": "Julia 1.11.1",
   "language": "julia",
   "name": "julia-1.11"
  },
  "language_info": {
   "file_extension": ".jl",
   "mimetype": "application/julia",
   "name": "julia",
   "version": "1.11.1"
  }
 },
 "nbformat": 4,
 "nbformat_minor": 5
}
