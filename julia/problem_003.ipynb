{
 "cells": [
  {
   "cell_type": "markdown",
   "id": "c6e2ad94-1596-4b05-a508-e71eeba93df9",
   "metadata": {},
   "source": [
    "## Problem 3\n",
    "https://projecteuler.net/problem=3"
   ]
  },
  {
   "cell_type": "code",
   "execution_count": 1,
   "id": "9c5a74a0",
   "metadata": {},
   "outputs": [],
   "source": [
    "# Packages\n",
    "using Primes"
   ]
  },
  {
   "cell_type": "code",
   "execution_count": 2,
   "id": "1f4cd19c",
   "metadata": {},
   "outputs": [],
   "source": [
    "# Next prime\n",
    "function next_prime(p)::Int64\n",
    "    p += 1\n",
    "    while !isprime(p)\n",
    "        p += 1\n",
    "    end\n",
    "    return p\n",
    "end;"
   ]
  },
  {
   "cell_type": "code",
   "execution_count": 3,
   "id": "bf328a0a",
   "metadata": {},
   "outputs": [],
   "source": [
    "# Prime factorization\n",
    "function prime_factorization(n)\n",
    "\n",
    "    # init\n",
    "    factors = Int64[]\n",
    "    index = 0\n",
    "    prime = 0\n",
    "\n",
    "    # logic\n",
    "    while n != 1\n",
    "        index += 1\n",
    "        prime = next_prime(prime)\n",
    "        while n % prime == 0\n",
    "            push!(factors, prime)\n",
    "            n = Int64(n / prime)\n",
    "        end\n",
    "    end\n",
    "\n",
    "    # return\n",
    "    return factors\n",
    "    \n",
    "end;"
   ]
  },
  {
   "cell_type": "code",
   "execution_count": 4,
   "id": "ea4b6847",
   "metadata": {},
   "outputs": [
    {
     "data": {
      "text/plain": [
       "29"
      ]
     },
     "metadata": {},
     "output_type": "display_data"
    }
   ],
   "source": [
    "# Test run\n",
    "maximum(prime_factorization(13195))"
   ]
  },
  {
   "cell_type": "code",
   "execution_count": 5,
   "id": "ff73ec22",
   "metadata": {},
   "outputs": [
    {
     "data": {
      "text/plain": [
       "6857"
      ]
     },
     "metadata": {},
     "output_type": "display_data"
    }
   ],
   "source": [
    "# Answer\n",
    "maximum(prime_factorization(600851475143))"
   ]
  }
 ],
 "metadata": {
  "kernelspec": {
   "display_name": "Julia 1.10.5",
   "language": "julia",
   "name": "julia-1.10"
  },
  "language_info": {
   "file_extension": ".jl",
   "mimetype": "application/julia",
   "name": "julia",
   "version": "1.10.5"
  }
 },
 "nbformat": 4,
 "nbformat_minor": 5
}
