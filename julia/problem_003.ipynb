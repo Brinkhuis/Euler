{
 "cells": [
  {
   "cell_type": "markdown",
   "id": "c6e2ad94-1596-4b05-a508-e71eeba93df9",
   "metadata": {},
   "source": [
    "## Problem 3\n",
    "https://projecteuler.net/problem=3"
   ]
  },
  {
   "cell_type": "code",
   "execution_count": 1,
   "id": "9c5a74a0",
   "metadata": {},
   "outputs": [],
   "source": [
    "using Primes, BenchmarkTools"
   ]
  },
  {
   "cell_type": "markdown",
   "id": "ffd42d1b",
   "metadata": {},
   "source": [
    "#### Solution 1"
   ]
  },
  {
   "cell_type": "code",
   "execution_count": 2,
   "id": "49e5470f",
   "metadata": {},
   "outputs": [
    {
     "name": "stdout",
     "output_type": "stream",
     "text": [
      "  1.637 μs (1 allocation: 128 bytes)\n"
     ]
    },
    {
     "data": {
      "text/plain": [
       "6857"
      ]
     },
     "metadata": {},
     "output_type": "display_data"
    }
   ],
   "source": [
    "@btime maximum(keys(Primes.factor(600851475143)))"
   ]
  },
  {
   "cell_type": "markdown",
   "id": "9d906a82",
   "metadata": {},
   "source": [
    "#### Solution 2"
   ]
  },
  {
   "cell_type": "code",
   "execution_count": 3,
   "id": "1f4cd19c",
   "metadata": {},
   "outputs": [],
   "source": [
    "function next_prime(p::Int64)::Int64\n",
    "    p += 1\n",
    "    while !isprime(p)\n",
    "        p += 1\n",
    "    end\n",
    "    return p\n",
    "end;"
   ]
  },
  {
   "cell_type": "code",
   "execution_count": 4,
   "id": "bf328a0a",
   "metadata": {},
   "outputs": [
    {
     "data": {
      "text/plain": [
       "prime_factorization (generic function with 1 method)"
      ]
     },
     "metadata": {},
     "output_type": "display_data"
    }
   ],
   "source": [
    "function prime_factorization(n::Int64)::Vector{Int64}\n",
    "    factors = Int64[]\n",
    "    index = 0\n",
    "    prime = 0\n",
    "    while n != 1\n",
    "        index += 1\n",
    "        prime = next_prime(prime)\n",
    "        while n % prime == 0\n",
    "            push!(factors, prime)\n",
    "            n = Int64(n / prime)\n",
    "        end\n",
    "    end\n",
    "    return factors \n",
    "end"
   ]
  },
  {
   "cell_type": "code",
   "execution_count": 5,
   "id": "ea4b6847",
   "metadata": {},
   "outputs": [],
   "source": [
    "@assert maximum(prime_factorization(13195)) == 29"
   ]
  },
  {
   "cell_type": "code",
   "execution_count": 6,
   "id": "ff73ec22",
   "metadata": {},
   "outputs": [
    {
     "name": "stdout",
     "output_type": "stream",
     "text": [
      "  20.459 μs (2 allocations: 144 bytes)\n"
     ]
    },
    {
     "data": {
      "text/plain": [
       "6857"
      ]
     },
     "metadata": {},
     "output_type": "display_data"
    }
   ],
   "source": [
    "@btime maximum(prime_factorization(600851475143))"
   ]
  }
 ],
 "metadata": {
  "kernelspec": {
   "display_name": "Julia 1.10.5",
   "language": "julia",
   "name": "julia-1.10"
  },
  "language_info": {
   "file_extension": ".jl",
   "mimetype": "application/julia",
   "name": "julia",
   "version": "1.10.5"
  }
 },
 "nbformat": 4,
 "nbformat_minor": 5
}
