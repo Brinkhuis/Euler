{
 "cells": [
  {
   "cell_type": "markdown",
   "id": "c6e2ad94-1596-4b05-a508-e71eeba93df9",
   "metadata": {},
   "source": [
    "# Problem 3\n",
    "https://projecteuler.net/problem=3"
   ]
  },
  {
   "cell_type": "code",
   "execution_count": 1,
   "id": "03df820f",
   "metadata": {},
   "outputs": [
    {
     "name": "stdout",
     "output_type": "stream",
     "text": [
      "Julia v1.11.1\n"
     ]
    }
   ],
   "source": [
    "println(\"Julia v\", VERSION)"
   ]
  },
  {
   "cell_type": "code",
   "execution_count": 2,
   "id": "9c5a74a0",
   "metadata": {},
   "outputs": [],
   "source": [
    "using BenchmarkTools"
   ]
  },
  {
   "cell_type": "markdown",
   "id": "fb5b719d",
   "metadata": {},
   "source": [
    "### Solution 1 (Sieve of Eratosthenes)"
   ]
  },
  {
   "cell_type": "code",
   "execution_count": 3,
   "id": "172959df",
   "metadata": {},
   "outputs": [],
   "source": [
    "function eratosthenes(n::Int64)::Vector{Int64}\n",
    "    \n",
    "    D = Dict{Int64, Vector{Int64}}()\n",
    "    P = Vector{Int64}()\n",
    "    q = 2\n",
    "\n",
    "    while q ≤ n\n",
    "        if !(q in keys(D))\n",
    "            D[q * q] = Int64[q] # Vector{Int64}([q])\n",
    "            push!(P, q)\n",
    "        else\n",
    "            for p in D[q]\n",
    "                haskey(D, p+q) ? push!(D[p+q], p) : D[p+q] = [p]\n",
    "            end\n",
    "            delete!(D, q)\n",
    "        end\n",
    "        q += 1\n",
    "    end\n",
    "    return P\n",
    "end\n",
    "\n",
    "@assert eratosthenes(19) == [2, 3, 5, 7, 11, 13, 17, 19]"
   ]
  },
  {
   "cell_type": "code",
   "execution_count": 4,
   "id": "078b1e11",
   "metadata": {},
   "outputs": [],
   "source": [
    "function max_prime_factor(n, hi)\n",
    "    prime_numbers = eratosthenes(hi)\n",
    "    # prime_factors = Int64[]\n",
    "    for p in prime_numbers\n",
    "        n == p && return p\n",
    "        while n%p == 0\n",
    "            # push!(prime_factors, p)\n",
    "            n ÷= p\n",
    "        end\n",
    "    end\n",
    "    println(\"Incomplete processing, increase the value of 'hi' and run again.\")\n",
    "    return nothing\n",
    "end\n",
    "\n",
    "@assert max_prime_factor(13195, 50) == 29"
   ]
  },
  {
   "cell_type": "code",
   "execution_count": 5,
   "id": "1095ab40",
   "metadata": {},
   "outputs": [
    {
     "name": "stdout",
     "output_type": "stream",
     "text": [
      "Incomplete processing, increase the value of 'hi' and run again.\n"
     ]
    }
   ],
   "source": [
    "max_prime_factor(600851475143, 5_000)"
   ]
  },
  {
   "cell_type": "code",
   "execution_count": 6,
   "id": "9ec4eb73",
   "metadata": {},
   "outputs": [
    {
     "name": "stdout",
     "output_type": "stream",
     "text": [
      "  686.750 μs (18702 allocations: 970.84 KiB)\n"
     ]
    },
    {
     "data": {
      "text/plain": [
       "6857"
      ]
     },
     "metadata": {},
     "output_type": "display_data"
    }
   ],
   "source": [
    "@btime max_prime_factor(600851475143, 7_500)"
   ]
  },
  {
   "cell_type": "markdown",
   "id": "0e051b2b",
   "metadata": {},
   "source": [
    "### Solution 2 (Primes package)"
   ]
  },
  {
   "cell_type": "code",
   "execution_count": 7,
   "id": "ee93432e",
   "metadata": {},
   "outputs": [],
   "source": [
    "using Primes"
   ]
  },
  {
   "cell_type": "code",
   "execution_count": 8,
   "id": "ebe9b788",
   "metadata": {},
   "outputs": [
    {
     "name": "stdout",
     "output_type": "stream",
     "text": [
      "  1.629 μs (2 allocations: 128 bytes)\n"
     ]
    },
    {
     "data": {
      "text/plain": [
       "6857"
      ]
     },
     "metadata": {},
     "output_type": "display_data"
    }
   ],
   "source": [
    "@btime maximum(keys(Primes.factor(600851475143)))"
   ]
  },
  {
   "cell_type": "markdown",
   "id": "c091bb15",
   "metadata": {},
   "source": [
    "### Save benchmark"
   ]
  },
  {
   "cell_type": "code",
   "execution_count": 9,
   "id": "0e920213",
   "metadata": {},
   "outputs": [],
   "source": [
    "include(\"./euler.jl\");\n",
    "bm = @benchmark max_prime_factor(600851475143, 7_500)\n",
    "euler.save_benchmark(3, bm);"
   ]
  }
 ],
 "metadata": {
  "kernelspec": {
   "display_name": "Julia 1.11.1",
   "language": "julia",
   "name": "julia-1.11"
  },
  "language_info": {
   "file_extension": ".jl",
   "mimetype": "application/julia",
   "name": "julia",
   "version": "1.11.1"
  }
 },
 "nbformat": 4,
 "nbformat_minor": 5
}
