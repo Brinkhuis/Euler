{
 "cells": [
  {
   "cell_type": "markdown",
   "id": "c6e2ad94-1596-4b05-a508-e71eeba93df9",
   "metadata": {},
   "source": [
    "## Problem 19\n",
    "https://projecteuler.net/problem=19"
   ]
  },
  {
   "cell_type": "code",
   "execution_count": 1,
   "id": "83fc0a8f",
   "metadata": {},
   "outputs": [],
   "source": [
    "using Dates, BenchmarkTools"
   ]
  },
  {
   "cell_type": "markdown",
   "id": "e21b4448",
   "metadata": {},
   "source": [
    "#### Solution 1 (function)"
   ]
  },
  {
   "cell_type": "code",
   "execution_count": 2,
   "id": "99a91c89",
   "metadata": {},
   "outputs": [
    {
     "name": "stdout",
     "output_type": "stream",
     "text": [
      "  640.958 μs (0 allocations: 0 bytes)\n"
     ]
    },
    {
     "data": {
      "text/plain": [
       "171"
      ]
     },
     "metadata": {},
     "output_type": "display_data"
    }
   ],
   "source": [
    "@btime begin\n",
    "    counter = 0\n",
    "    for d in Date(1901, 1, 1):Date(2000, 12, 31)\n",
    "        if dayname(d) == \"Sunday\" && dayofmonth(d) == 1\n",
    "            counter += 1\n",
    "        end\n",
    "    end\n",
    "    counter\n",
    "end"
   ]
  },
  {
   "cell_type": "markdown",
   "id": "3ca313cf",
   "metadata": {},
   "source": [
    "#### Solution 2 (oneliner)"
   ]
  },
  {
   "cell_type": "code",
   "execution_count": 3,
   "id": "ce063f7f",
   "metadata": {},
   "outputs": [
    {
     "name": "stdout",
     "output_type": "stream",
     "text": [
      "  765.084 μs (0 allocations: 0 bytes)\n"
     ]
    },
    {
     "data": {
      "text/plain": [
       "171"
      ]
     },
     "metadata": {},
     "output_type": "display_data"
    }
   ],
   "source": [
    "@btime count(d -> dayname(d) == \"Sunday\" && dayofmonth(d) == 1, Date(1901, 1, 1):Date(2000, 12, 31))"
   ]
  }
 ],
 "metadata": {
  "kernelspec": {
   "display_name": "Julia 1.10.5",
   "language": "julia",
   "name": "julia-1.10"
  },
  "language_info": {
   "file_extension": ".jl",
   "mimetype": "application/julia",
   "name": "julia",
   "version": "1.10.5"
  }
 },
 "nbformat": 4,
 "nbformat_minor": 5
}
