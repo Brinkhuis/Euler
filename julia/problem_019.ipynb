{
 "cells": [
  {
   "cell_type": "markdown",
   "id": "c6e2ad94-1596-4b05-a508-e71eeba93df9",
   "metadata": {},
   "source": [
    "## Problem 19\n",
    "https://projecteuler.net/problem=19"
   ]
  },
  {
   "cell_type": "code",
   "execution_count": 1,
   "id": "83fc0a8f",
   "metadata": {},
   "outputs": [],
   "source": [
    "using Dates, BenchmarkTools"
   ]
  },
  {
   "cell_type": "markdown",
   "id": "aee82004",
   "metadata": {},
   "source": [
    "#### Solution 1 (custom)"
   ]
  },
  {
   "cell_type": "code",
   "execution_count": 2,
   "id": "0cd0a07e",
   "metadata": {},
   "outputs": [
    {
     "data": {
      "text/plain": [
       "leapyear (generic function with 1 method)"
      ]
     },
     "metadata": {},
     "output_type": "display_data"
    }
   ],
   "source": [
    "leapyear(year) = (year % 4 == 0) && ((year % 100 != 0) || (year % 400 == 0))"
   ]
  },
  {
   "cell_type": "code",
   "execution_count": 3,
   "id": "6312522d",
   "metadata": {},
   "outputs": [
    {
     "data": {
      "text/plain": [
       "counting_sundays (generic function with 1 method)"
      ]
     },
     "metadata": {},
     "output_type": "display_data"
    }
   ],
   "source": [
    "function counting_sundays(year_start, year_end)\n",
    "    \n",
    "    day = 1 # 1 Jan 1900 is a monday; 6 days later is a Sunday (day 7). So day%7 == 0 is True for  all Sundays.\n",
    "    sunday_count = 0\n",
    "\n",
    "    for year in 1900:year_end\n",
    "        if year == year_start\n",
    "            sunday_count = 0\n",
    "        end\n",
    "        for month_days in [31, 28, 31, 30, 31, 30, 31, 31, 30, 31, 30, 31]\n",
    "            day += month_days\n",
    "            if leapyear(year) && month_days == 28\n",
    "                day += 1\n",
    "            end\n",
    "            if day % 7 == 0\n",
    "                sunday_count += 1\n",
    "            end\n",
    "        end\n",
    "    end\n",
    "\n",
    "    return sunday_count\n",
    "\n",
    "end"
   ]
  },
  {
   "cell_type": "code",
   "execution_count": 4,
   "id": "5147be4c",
   "metadata": {},
   "outputs": [
    {
     "name": "stdout",
     "output_type": "stream",
     "text": [
      "  3.562 μs (101 allocations: 15.78 KiB)\n"
     ]
    },
    {
     "data": {
      "text/plain": [
       "171"
      ]
     },
     "metadata": {},
     "output_type": "display_data"
    }
   ],
   "source": [
    "@btime counting_sundays(1901, 2000)"
   ]
  },
  {
   "cell_type": "markdown",
   "id": "e21b4448",
   "metadata": {},
   "source": [
    "#### Solution 2 (date)"
   ]
  },
  {
   "cell_type": "code",
   "execution_count": 5,
   "id": "99a91c89",
   "metadata": {},
   "outputs": [
    {
     "name": "stdout",
     "output_type": "stream",
     "text": [
      "  641.125 μs (0 allocations: 0 bytes)\n"
     ]
    },
    {
     "data": {
      "text/plain": [
       "171"
      ]
     },
     "metadata": {},
     "output_type": "display_data"
    }
   ],
   "source": [
    "@btime begin\n",
    "    counter = 0\n",
    "    for d in Date(1901, 1, 1):Date(2000, 12, 31)\n",
    "        if dayname(d) == \"Sunday\" && dayofmonth(d) == 1\n",
    "            counter += 1\n",
    "        end\n",
    "    end\n",
    "    counter\n",
    "end"
   ]
  },
  {
   "cell_type": "markdown",
   "id": "3ca313cf",
   "metadata": {},
   "source": [
    "#### Solution 3 (oneliner)"
   ]
  },
  {
   "cell_type": "code",
   "execution_count": 6,
   "id": "ce063f7f",
   "metadata": {},
   "outputs": [
    {
     "name": "stdout",
     "output_type": "stream",
     "text": [
      "  767.333 μs (0 allocations: 0 bytes)\n"
     ]
    },
    {
     "data": {
      "text/plain": [
       "171"
      ]
     },
     "metadata": {},
     "output_type": "display_data"
    }
   ],
   "source": [
    "@btime count(d -> dayname(d) == \"Sunday\" && dayofmonth(d) == 1, Date(1901, 1, 1):Date(2000, 12, 31))"
   ]
  }
 ],
 "metadata": {
  "kernelspec": {
   "display_name": "Julia 1.10.5",
   "language": "julia",
   "name": "julia-1.10"
  },
  "language_info": {
   "file_extension": ".jl",
   "mimetype": "application/julia",
   "name": "julia",
   "version": "1.10.5"
  }
 },
 "nbformat": 4,
 "nbformat_minor": 5
}
