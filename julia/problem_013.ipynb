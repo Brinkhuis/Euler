{
 "cells": [
  {
   "cell_type": "markdown",
   "id": "c6e2ad94-1596-4b05-a508-e71eeba93df9",
   "metadata": {},
   "source": [
    "## Problem 13\n",
    "https://projecteuler.net/problem=13"
   ]
  },
  {
   "cell_type": "code",
   "execution_count": 1,
   "id": "9213497d",
   "metadata": {},
   "outputs": [],
   "source": [
    "using BenchmarkTools"
   ]
  },
  {
   "cell_type": "code",
   "execution_count": 2,
   "id": "cb31a127",
   "metadata": {},
   "outputs": [
    {
     "name": "stdout",
     "output_type": "stream",
     "text": [
      "Reading file ...\n"
     ]
    }
   ],
   "source": [
    "file_name = \"0013_large_sum.txt\"\n",
    "if isfile(\"../data/\" * file_name)\n",
    "    println(\"Reading file ...\")\n",
    "    raw = open(\"../data/\" * file_name) do f\n",
    "        readlines(f)\n",
    "    end\n",
    "end\n",
    "\n",
    "nums = [parse(BigInt, n) for n in raw];"
   ]
  },
  {
   "cell_type": "markdown",
   "id": "7f1b5708",
   "metadata": {},
   "source": [
    "#### Solution 1 (string conversion)"
   ]
  },
  {
   "cell_type": "code",
   "execution_count": 3,
   "id": "2147aabc",
   "metadata": {},
   "outputs": [
    {
     "name": "stdout",
     "output_type": "stream",
     "text": [
      "  1.512 μs (32 allocations: 2.04 KiB)\n"
     ]
    },
    {
     "data": {
      "text/plain": [
       "5537376230"
      ]
     },
     "metadata": {},
     "output_type": "display_data"
    }
   ],
   "source": [
    "@btime parse(Int64, join(reverse(last(digits(sum(nums)), 10))))"
   ]
  },
  {
   "cell_type": "markdown",
   "id": "075a412b",
   "metadata": {},
   "source": [
    "#### Solution 2 (no string conversion)"
   ]
  },
  {
   "cell_type": "code",
   "execution_count": 4,
   "id": "64e6982d",
   "metadata": {},
   "outputs": [
    {
     "data": {
      "text/plain": [
       "undigit (generic function with 1 method)"
      ]
     },
     "metadata": {},
     "output_type": "display_data"
    }
   ],
   "source": [
    "function undigit(l::Array{Int64, 1})::Int64\n",
    "    s = 0 # sum\n",
    "    for (i, n) in enumerate(reverse(l))\n",
    "        s += n * 10^(i-1)\n",
    "    end\n",
    "    return s\n",
    "end"
   ]
  },
  {
   "cell_type": "code",
   "execution_count": 5,
   "id": "a6b90929",
   "metadata": {},
   "outputs": [
    {
     "name": "stdout",
     "output_type": "stream",
     "text": [
      "  1.008 μs (9 allocations: 1.10 KiB)\n"
     ]
    },
    {
     "data": {
      "text/plain": [
       "5537376230"
      ]
     },
     "metadata": {},
     "output_type": "display_data"
    }
   ],
   "source": [
    "@btime undigit(reverse(last(digits(sum(nums)), 10)))"
   ]
  }
 ],
 "metadata": {
  "kernelspec": {
   "display_name": "Julia 1.10.5",
   "language": "julia",
   "name": "julia-1.10"
  },
  "language_info": {
   "file_extension": ".jl",
   "mimetype": "application/julia",
   "name": "julia",
   "version": "1.10.5"
  }
 },
 "nbformat": 4,
 "nbformat_minor": 5
}
