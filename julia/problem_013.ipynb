{
 "cells": [
  {
   "cell_type": "markdown",
   "id": "c6e2ad94-1596-4b05-a508-e71eeba93df9",
   "metadata": {},
   "source": [
    "# Problem 13\n",
    "https://projecteuler.net/problem=13"
   ]
  },
  {
   "cell_type": "code",
   "execution_count": 1,
   "id": "4ee74fa8",
   "metadata": {},
   "outputs": [
    {
     "name": "stdout",
     "output_type": "stream",
     "text": [
      "Julia v1.11.1\n"
     ]
    }
   ],
   "source": [
    "println(\"Julia v\", VERSION)"
   ]
  },
  {
   "cell_type": "code",
   "execution_count": 2,
   "id": "9213497d",
   "metadata": {},
   "outputs": [],
   "source": [
    "using BenchmarkTools"
   ]
  },
  {
   "cell_type": "code",
   "execution_count": 3,
   "id": "cb31a127",
   "metadata": {},
   "outputs": [],
   "source": [
    "file_name = \"0013_large_sum.txt\"\n",
    "file_path = \"../data/\"\n",
    "\n",
    "if isfile(file_path * file_name)\n",
    "    raw = open(file_path * file_name) do f\n",
    "        readlines(f)\n",
    "    end\n",
    "end;"
   ]
  },
  {
   "cell_type": "markdown",
   "id": "7f1b5708",
   "metadata": {},
   "source": [
    "### Solution 1 (parse string)"
   ]
  },
  {
   "cell_type": "code",
   "execution_count": 4,
   "id": "9a6f0b8a",
   "metadata": {},
   "outputs": [
    {
     "name": "stdout",
     "output_type": "stream",
     "text": [
      "  17.583 μs (532 allocations: 14.07 KiB)\n"
     ]
    },
    {
     "data": {
      "text/plain": [
       "5537376230"
      ]
     },
     "metadata": {},
     "output_type": "display_data"
    }
   ],
   "source": [
    "@btime parse(Int64, join(reverse(last(digits(sum(parse(BigInt, n) for n in raw)), 10))))"
   ]
  },
  {
   "cell_type": "markdown",
   "id": "075a412b",
   "metadata": {},
   "source": [
    "### Solution 2 (undigit digits)"
   ]
  },
  {
   "cell_type": "code",
   "execution_count": 5,
   "id": "64e6982d",
   "metadata": {},
   "outputs": [],
   "source": [
    "function undigit(l::Array{Int64, 1})::Int64\n",
    "    s = 0 # sum\n",
    "    for (i, n) in enumerate((l))\n",
    "        s += n * 10^(i-1)\n",
    "    end\n",
    "    return s\n",
    "end\n",
    "\n",
    "@assert undigit([1, 2, 3, 4, 5]) == 54321"
   ]
  },
  {
   "cell_type": "code",
   "execution_count": 6,
   "id": "7d255c54",
   "metadata": {},
   "outputs": [
    {
     "name": "stdout",
     "output_type": "stream",
     "text": [
      "  17.833 μs (504 allocations: 13.13 KiB)\n"
     ]
    },
    {
     "data": {
      "text/plain": [
       "5537376230"
      ]
     },
     "metadata": {},
     "output_type": "display_data"
    }
   ],
   "source": [
    "@btime undigit(last(digits(sum(parse(BigInt, n) for n in raw)), 10))"
   ]
  },
  {
   "cell_type": "markdown",
   "id": "82f41eb1",
   "metadata": {},
   "source": [
    "### Solution 3 (no BigInt)"
   ]
  },
  {
   "cell_type": "code",
   "execution_count": 7,
   "id": "144a876d",
   "metadata": {},
   "outputs": [
    {
     "name": "stdout",
     "output_type": "stream",
     "text": [
      "  5.417 μs (104 allocations: 3.19 KiB)\n"
     ]
    },
    {
     "data": {
      "text/plain": [
       "5537376230"
      ]
     },
     "metadata": {},
     "output_type": "display_data"
    }
   ],
   "source": [
    "@btime round(Int, sum(parse(Int64, first(s, 10)) for s in raw) / length(raw))"
   ]
  },
  {
   "cell_type": "markdown",
   "id": "69ba648b",
   "metadata": {},
   "source": [
    "### Save benchmark"
   ]
  },
  {
   "cell_type": "code",
   "execution_count": null,
   "id": "f11178a3",
   "metadata": {},
   "outputs": [],
   "source": [
    "include(\"./euler.jl\");\n",
    "bm = @benchmark round(Int, sum(parse(Int64, first(s, 10)) for s in raw) / length(raw))\n",
    "euler.save_benchmark(13, bm);"
   ]
  }
 ],
 "metadata": {
  "kernelspec": {
   "display_name": "Julia 1.11.1",
   "language": "julia",
   "name": "julia-1.11"
  },
  "language_info": {
   "file_extension": ".jl",
   "mimetype": "application/julia",
   "name": "julia",
   "version": "1.11.1"
  }
 },
 "nbformat": 4,
 "nbformat_minor": 5
}
