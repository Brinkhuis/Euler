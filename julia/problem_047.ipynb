{
 "cells": [
  {
   "cell_type": "markdown",
   "id": "c6e2ad94-1596-4b05-a508-e71eeba93df9",
   "metadata": {},
   "source": [
    "# Problem 47\n",
    "https://projecteuler.net/problem=32"
   ]
  },
  {
   "cell_type": "code",
   "execution_count": 1,
   "id": "5fbf5b49",
   "metadata": {},
   "outputs": [
    {
     "name": "stdout",
     "output_type": "stream",
     "text": [
      "Julia v1.11.1\n"
     ]
    }
   ],
   "source": [
    "println(\"Julia v\", string(VERSION))"
   ]
  },
  {
   "cell_type": "code",
   "execution_count": 2,
   "id": "83456549",
   "metadata": {},
   "outputs": [],
   "source": [
    "using BenchmarkTools"
   ]
  },
  {
   "cell_type": "markdown",
   "id": "e971c7be",
   "metadata": {},
   "source": [
    "### Solution 1"
   ]
  },
  {
   "cell_type": "code",
   "execution_count": 3,
   "id": "364b21f3",
   "metadata": {},
   "outputs": [],
   "source": [
    "using Primes"
   ]
  },
  {
   "cell_type": "code",
   "execution_count": 4,
   "id": "3e5a0196",
   "metadata": {},
   "outputs": [],
   "source": [
    "function distinct_primes_factors(n)\n",
    "    i = 1\n",
    "    while true\n",
    "        if all([length(factor(i+j)) ≥ n for j in 0:n-1])\n",
    "            return i\n",
    "        end\n",
    "        i += 1\n",
    "    end\n",
    "end\n",
    "\n",
    "@assert distinct_primes_factors(3) == 644"
   ]
  },
  {
   "cell_type": "code",
   "execution_count": 5,
   "id": "f5aa1e50",
   "metadata": {},
   "outputs": [
    {
     "name": "stdout",
     "output_type": "stream",
     "text": [
      "  74.068 ms (2555645 allocations: 93.74 MiB)\n"
     ]
    },
    {
     "data": {
      "text/plain": [
       "134043"
      ]
     },
     "metadata": {},
     "output_type": "display_data"
    }
   ],
   "source": [
    "@btime distinct_primes_factors(4)"
   ]
  },
  {
   "cell_type": "markdown",
   "id": "fcbbfd9f",
   "metadata": {},
   "source": [
    "### Solution 2"
   ]
  },
  {
   "cell_type": "code",
   "execution_count": 6,
   "id": "7a8f1b74",
   "metadata": {},
   "outputs": [],
   "source": [
    "function distinct_primes_factors(n)\n",
    "    for i in Iterators.countfrom()\n",
    "        all([length(factor(i+j)) ≥ n for j in 0:n-1]) && return i\n",
    "    end\n",
    "end\n",
    "\n",
    "@assert distinct_primes_factors(3) == 644"
   ]
  },
  {
   "cell_type": "code",
   "execution_count": 7,
   "id": "7a1c05f6",
   "metadata": {},
   "outputs": [
    {
     "name": "stdout",
     "output_type": "stream",
     "text": [
      "  54.047 ms (1351806 allocations: 75.37 MiB)\n"
     ]
    },
    {
     "data": {
      "text/plain": [
       "134043"
      ]
     },
     "metadata": {},
     "output_type": "display_data"
    }
   ],
   "source": [
    "@btime distinct_primes_factors(4)"
   ]
  },
  {
   "cell_type": "markdown",
   "id": "da2b42a3",
   "metadata": {},
   "source": [
    "### Solution 3 (`countfrom`)"
   ]
  },
  {
   "cell_type": "code",
   "execution_count": 8,
   "id": "4657e117",
   "metadata": {},
   "outputs": [],
   "source": [
    "function distinct_primes_factors(n)\n",
    "    for i in Iterators.countfrom()\n",
    "        if all([length(factor(i+j)) ≥ n for j in 0:n-1])\n",
    "            return i\n",
    "            break\n",
    "        end\n",
    "    end\n",
    "end\n",
    "\n",
    "@assert distinct_primes_factors(3) == 644"
   ]
  },
  {
   "cell_type": "code",
   "execution_count": 9,
   "id": "211c2895",
   "metadata": {},
   "outputs": [
    {
     "name": "stdout",
     "output_type": "stream",
     "text": [
      "  55.218 ms (1351806 allocations: 75.37 MiB)\n"
     ]
    },
    {
     "data": {
      "text/plain": [
       "134043"
      ]
     },
     "metadata": {},
     "output_type": "display_data"
    }
   ],
   "source": [
    "@btime distinct_primes_factors(4)"
   ]
  },
  {
   "cell_type": "markdown",
   "id": "332fb1f2",
   "metadata": {},
   "source": [
    "### Save benchmark"
   ]
  },
  {
   "cell_type": "code",
   "execution_count": 10,
   "id": "d25e86ab",
   "metadata": {},
   "outputs": [],
   "source": [
    "include(\"./euler.jl\")\n",
    "bm = @benchmark distinct_primes_factors(4)\n",
    "euler.save_benchmark(47, bm);"
   ]
  }
 ],
 "metadata": {
  "kernelspec": {
   "display_name": "Julia 1.11.1",
   "language": "julia",
   "name": "julia-1.11"
  },
  "language_info": {
   "file_extension": ".jl",
   "mimetype": "application/julia",
   "name": "julia",
   "version": "1.11.1"
  }
 },
 "nbformat": 4,
 "nbformat_minor": 5
}
