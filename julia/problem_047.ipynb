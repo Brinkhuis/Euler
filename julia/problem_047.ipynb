{
 "cells": [
  {
   "cell_type": "markdown",
   "id": "c6e2ad94-1596-4b05-a508-e71eeba93df9",
   "metadata": {},
   "source": [
    "## Problem 47\n",
    "https://projecteuler.net/problem=32"
   ]
  },
  {
   "cell_type": "code",
   "execution_count": 1,
   "id": "83456549",
   "metadata": {},
   "outputs": [],
   "source": [
    "using Primes, BenchmarkTools"
   ]
  },
  {
   "cell_type": "markdown",
   "id": "e971c7be",
   "metadata": {},
   "source": [
    "#### Solution 1"
   ]
  },
  {
   "cell_type": "code",
   "execution_count": 2,
   "id": "3e5a0196",
   "metadata": {},
   "outputs": [
    {
     "data": {
      "text/plain": [
       "distinct_primes_factors (generic function with 1 method)"
      ]
     },
     "metadata": {},
     "output_type": "display_data"
    }
   ],
   "source": [
    "function distinct_primes_factors(n)\n",
    "    i = 1\n",
    "    while true\n",
    "        if all([length(factor(i+j)) ≥ n for j in 0:n-1])\n",
    "            return i\n",
    "        end\n",
    "        i += 1\n",
    "    end\n",
    "end"
   ]
  },
  {
   "cell_type": "code",
   "execution_count": 3,
   "id": "95628727",
   "metadata": {},
   "outputs": [],
   "source": [
    "@assert distinct_primes_factors(3) == 644"
   ]
  },
  {
   "cell_type": "code",
   "execution_count": 4,
   "id": "513262c4",
   "metadata": {},
   "outputs": [
    {
     "name": "stdout",
     "output_type": "stream",
     "text": [
      "  86.006 ms (1885430 allocations: 93.56 MiB)\n"
     ]
    },
    {
     "data": {
      "text/plain": [
       "134043"
      ]
     },
     "metadata": {},
     "output_type": "display_data"
    }
   ],
   "source": [
    "@btime distinct_primes_factors(4)"
   ]
  },
  {
   "cell_type": "markdown",
   "id": "da2b42a3",
   "metadata": {},
   "source": [
    "#### Solution 2 (`countfrom`)"
   ]
  },
  {
   "cell_type": "code",
   "execution_count": 5,
   "id": "4657e117",
   "metadata": {},
   "outputs": [
    {
     "data": {
      "text/plain": [
       "distinct_primes_factors (generic function with 1 method)"
      ]
     },
     "metadata": {},
     "output_type": "display_data"
    }
   ],
   "source": [
    "function distinct_primes_factors(n)\n",
    "    for i in Iterators.countfrom()\n",
    "        if all([length(factor(i+j)) ≥ n for j in 0:n-1])\n",
    "            return i\n",
    "            break\n",
    "        end\n",
    "    end\n",
    "end"
   ]
  },
  {
   "cell_type": "code",
   "execution_count": 6,
   "id": "b1cf2b43",
   "metadata": {},
   "outputs": [
    {
     "name": "stdout",
     "output_type": "stream",
     "text": [
      "  58.934 ms (681591 allocations: 75.19 MiB)\n"
     ]
    },
    {
     "data": {
      "text/plain": [
       "134043"
      ]
     },
     "metadata": {},
     "output_type": "display_data"
    }
   ],
   "source": [
    "@btime distinct_primes_factors(4)"
   ]
  },
  {
   "cell_type": "markdown",
   "id": "b8377284",
   "metadata": {},
   "source": [
    "#### Solution 3"
   ]
  },
  {
   "cell_type": "code",
   "execution_count": 7,
   "id": "40d6a820",
   "metadata": {},
   "outputs": [
    {
     "data": {
      "text/plain": [
       "distinct_primes_factors (generic function with 1 method)"
      ]
     },
     "metadata": {},
     "output_type": "display_data"
    }
   ],
   "source": [
    "function distinct_primes_factors(n)\n",
    "    for i in Iterators.countfrom()\n",
    "        all([length(factor(i+j)) ≥ n for j in 0:n-1]) && return i\n",
    "    end\n",
    "end"
   ]
  },
  {
   "cell_type": "code",
   "execution_count": 8,
   "id": "867fa865",
   "metadata": {},
   "outputs": [
    {
     "name": "stdout",
     "output_type": "stream",
     "text": [
      "  58.846 ms (681591 allocations: 75.19 MiB)\n"
     ]
    },
    {
     "data": {
      "text/plain": [
       "134043"
      ]
     },
     "metadata": {},
     "output_type": "display_data"
    }
   ],
   "source": [
    "@btime distinct_primes_factors(4)"
   ]
  }
 ],
 "metadata": {
  "kernelspec": {
   "display_name": "Julia 1.10.5",
   "language": "julia",
   "name": "julia-1.10"
  },
  "language_info": {
   "file_extension": ".jl",
   "mimetype": "application/julia",
   "name": "julia",
   "version": "1.10.5"
  }
 },
 "nbformat": 4,
 "nbformat_minor": 5
}
